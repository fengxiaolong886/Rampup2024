{
 "cells": [
  {
   "cell_type": "markdown",
   "id": "44836312-5311-4b25-bbac-b1d0780aae5f",
   "metadata": {},
   "source": [
    "Follow: https://www.deep-ml.com/"
   ]
  },
  {
   "cell_type": "code",
   "execution_count": null,
   "id": "4aaacafe-59f8-4a12-bd3b-044a91047070",
   "metadata": {},
   "outputs": [],
   "source": []
  }
 ],
 "metadata": {
  "kernelspec": {
   "display_name": "Python 3 (ipykernel)",
   "language": "python",
   "name": "python3"
  },
  "language_info": {
   "codemirror_mode": {
    "name": "ipython",
    "version": 3
   },
   "file_extension": ".py",
   "mimetype": "text/x-python",
   "name": "python",
   "nbconvert_exporter": "python",
   "pygments_lexer": "ipython3",
   "version": "3.10.6"
  }
 },
 "nbformat": 4,
 "nbformat_minor": 5
}
