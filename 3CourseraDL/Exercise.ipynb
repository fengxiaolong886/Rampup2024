{
 "cells": [
  {
   "cell_type": "markdown",
   "id": "f42b5c2c-0861-4d4e-8f9c-acba7ef4c5fc",
   "metadata": {},
   "source": [
    "# P20 Implemening Logistic Regression by vertectization\n",
    "For Logistic regression:\n",
    "\n",
    "$ z = w^T x + b$ \n",
    "\n",
    "$\\hat{y} = a = \\sigma(z) = {{1} \\over { 1 + e^{-z}}}$\n",
    "\n",
    "L为log单调 ， 因目标为最小化loss, 所以为-log \n",
    "\n",
    "$L(a, y) = -(y log(a) + (1 - y)log(a-1))$\n",
    "\n",
    "$J(w, b) ={{1} \\over {m}} \\sum_{i=1}^m{L(\\hat{y}^{(i)}, y^{(i)})}  = - {{1} \\over {m}} \\sum_{i=1}^m  y^{(i)} log(\\hat{y}^{(i)}  + (1- y^{(i)}) log(1- \\hat{y}^{(i)})$\n",
    "\n",
    "$  \\frac{dJ}{da} = \\frac{1}{m}(\\frac{y}{a} - \\frac{1-y}{1-a})$\n",
    "\n",
    "$  \\frac{dJ}{dz} =  \\frac{dJ}{da}\\frac{da}{dz} = (\\frac{1}{m}(\\frac{y}{a} - \\frac{1-y}{1-a})) * a (1-a)  = \\frac{1}{m}( y - a)$\n",
    "\n",
    "$ \\frac{dJ}{dw} = x dz = x ( \\frac{1}{m}( y - a)) $\n",
    "\n",
    "$ \\frac{dJ}{db} = dz =  \\frac{1}{m}( y - a)$"
   ]
  },
  {
   "cell_type": "code",
   "execution_count": 44,
   "id": "d0ad0056-ec05-417b-9e6c-4acb34f25009",
   "metadata": {},
   "outputs": [
    {
     "name": "stdout",
     "output_type": "stream",
     "text": [
      "[[2 0]] [[-1.84325238e-05 -1.50000000e+00]\n",
      " [-1.84325238e-05 -1.50000000e+00]]\n"
     ]
    },
    {
     "ename": "ValueError",
     "evalue": "shapes (2,2) and (1,2) not aligned: 2 (dim 1) != 1 (dim 0)",
     "output_type": "error",
     "traceback": [
      "\u001b[0;31m---------------------------------------------------------------------------\u001b[0m",
      "\u001b[0;31mValueError\u001b[0m                                Traceback (most recent call last)",
      "Cell \u001b[0;32mIn[44], line 13\u001b[0m\n\u001b[1;32m     10\u001b[0m     \u001b[38;5;28;01mreturn\u001b[39;00m \u001b[38;5;241m1\u001b[39m\u001b[38;5;241m/\u001b[39m(\u001b[38;5;241m1\u001b[39m \u001b[38;5;241m+\u001b[39m np\u001b[38;5;241m.\u001b[39mexp(\u001b[38;5;241m-\u001b[39mz))\n\u001b[1;32m     12\u001b[0m \u001b[38;5;28;01mfor\u001b[39;00m iterate \u001b[38;5;129;01min\u001b[39;00m \u001b[38;5;28mrange\u001b[39m(\u001b[38;5;241m2\u001b[39m):\n\u001b[0;32m---> 13\u001b[0m     Z \u001b[38;5;241m=\u001b[39m \u001b[43mnp\u001b[49m\u001b[38;5;241;43m.\u001b[39;49m\u001b[43mdot\u001b[49m\u001b[43m(\u001b[49m\u001b[43mW\u001b[49m\u001b[38;5;241;43m.\u001b[39;49m\u001b[43mT\u001b[49m\u001b[43m,\u001b[49m\u001b[43m \u001b[49m\u001b[43mX\u001b[49m\u001b[43m)\u001b[49m \u001b[38;5;241m+\u001b[39m b\n\u001b[1;32m     14\u001b[0m     A \u001b[38;5;241m=\u001b[39m sigmoid(Z)\n\u001b[1;32m     15\u001b[0m     dz \u001b[38;5;241m=\u001b[39m A \u001b[38;5;241m-\u001b[39m Y\n",
      "\u001b[0;31mValueError\u001b[0m: shapes (2,2) and (1,2) not aligned: 2 (dim 1) != 1 (dim 0)"
     ]
    }
   ],
   "source": [
    "J = 0\n",
    "W = np.random.randint(3, size = (1, 2))\n",
    "b = 0\n",
    "X = np.random.randint(10, size = (1, 2))\n",
    "Y = np.array([1, 1])\n",
    "m = 2\n",
    "alpha = 0.1\n",
    "\n",
    "def sigmoid(z):\n",
    "    return 1/(1 + np.exp(-z))\n",
    "    \n",
    "for iterate in range(2):\n",
    "    Z = np.dot(W.T, X) + b\n",
    "    A = sigmoid(Z)\n",
    "    dz = A - Y\n",
    "    dw = (1/m) * X * dz.T\n",
    "    db = 1 /m * np.sum(dz)\n",
    "    print(W, dw)\n",
    "    W = W - alpha * dw\n",
    "    b = b - alpha * db"
   ]
  },
  {
   "cell_type": "markdown",
   "id": "5665678e-f608-48d3-be8f-34929ecedf91",
   "metadata": {},
   "source": [
    "# P21 Broadcast"
   ]
  },
  {
   "cell_type": "code",
   "execution_count": 2,
   "id": "3bea5e19-8606-4a4b-9284-7ce3f4159507",
   "metadata": {},
   "outputs": [],
   "source": [
    "import numpy as np"
   ]
  },
  {
   "cell_type": "code",
   "execution_count": 9,
   "id": "48c4f5de-abf9-4cbf-8496-7bc29a646347",
   "metadata": {},
   "outputs": [
    {
     "name": "stdout",
     "output_type": "stream",
     "text": [
      "[ 59.  239.  155.4  76.9]\n"
     ]
    }
   ],
   "source": [
    "# 1\n",
    "s = [[56.0, 0.0, 4.4, 68.0], [1.2, 104, 52, 8], [1.8, 135, 99, 0.9]]\n",
    "A = np.array(s)\n",
    "cal = A.sum(axis = 0)\n",
    "print(cal)"
   ]
  },
  {
   "cell_type": "code",
   "execution_count": 10,
   "id": "bd6e09db-0922-483e-afd4-2ec04dc865ec",
   "metadata": {},
   "outputs": [
    {
     "name": "stdout",
     "output_type": "stream",
     "text": [
      "[[94.91525424  0.          2.83140283 88.42652796]\n",
      " [ 2.03389831 43.51464435 33.46203346 10.40312094]\n",
      " [ 3.05084746 56.48535565 63.70656371  1.17035111]]\n"
     ]
    }
   ],
   "source": [
    "percentage = 100 * A/cal.reshape(1, 4)\n",
    "print(percentage)"
   ]
  },
  {
   "cell_type": "code",
   "execution_count": 19,
   "id": "38c85530-8413-4c12-a34d-d70b7ce25dc8",
   "metadata": {},
   "outputs": [
    {
     "name": "stdout",
     "output_type": "stream",
     "text": [
      "[[3 4 4]\n",
      " [3 0 0]]\n",
      "[[21 18 41]]\n",
      "[[24 22 45]\n",
      " [24 18 41]]\n"
     ]
    }
   ],
   "source": [
    "# 2\n",
    "a = np.random.randint(5, size = (2, 3) )\n",
    "b = np.random. randint(100, size = (1, 3))\n",
    "print(a)\n",
    "print(b)\n",
    "print(a + b)"
   ]
  },
  {
   "cell_type": "code",
   "execution_count": 20,
   "id": "b61dc394-c78a-42e5-92b6-587bc4691edf",
   "metadata": {},
   "outputs": [
    {
     "name": "stdout",
     "output_type": "stream",
     "text": [
      "[[4 1 2]\n",
      " [0 2 3]]\n",
      "[[74]\n",
      " [18]]\n",
      "[[78 75 76]\n",
      " [18 20 21]]\n"
     ]
    }
   ],
   "source": [
    "# 3\n",
    "a = np.random.randint(5, size = (2, 3) )\n",
    "b = np.random. randint(100, size = (2, 1))\n",
    "print(a)\n",
    "print(b)\n",
    "print(a + b)"
   ]
  },
  {
   "cell_type": "code",
   "execution_count": 21,
   "id": "40d331a3-e429-4333-b489-d33c4486450c",
   "metadata": {},
   "outputs": [
    {
     "name": "stdout",
     "output_type": "stream",
     "text": [
      "[[2 2 0]\n",
      " [2 4 2]]\n",
      "[[18 54]\n",
      " [31 73]]\n"
     ]
    },
    {
     "ename": "ValueError",
     "evalue": "operands could not be broadcast together with shapes (2,3) (2,2) ",
     "output_type": "error",
     "traceback": [
      "\u001b[0;31m---------------------------------------------------------------------------\u001b[0m",
      "\u001b[0;31mValueError\u001b[0m                                Traceback (most recent call last)",
      "Cell \u001b[0;32mIn[21], line 6\u001b[0m\n\u001b[1;32m      4\u001b[0m \u001b[38;5;28mprint\u001b[39m(a)\n\u001b[1;32m      5\u001b[0m \u001b[38;5;28mprint\u001b[39m(b)\n\u001b[0;32m----> 6\u001b[0m \u001b[38;5;28mprint\u001b[39m(\u001b[43ma\u001b[49m\u001b[43m \u001b[49m\u001b[38;5;241;43m+\u001b[39;49m\u001b[43m \u001b[49m\u001b[43mb\u001b[49m)\n",
      "\u001b[0;31mValueError\u001b[0m: operands could not be broadcast together with shapes (2,3) (2,2) "
     ]
    }
   ],
   "source": [
    "# 3\n",
    "a = np.random.randint(5, size = (2, 3) )\n",
    "b = np.random. randint(100, size = (2, 2))\n",
    "print(a)\n",
    "print(b)\n",
    "print(a + b)"
   ]
  },
  {
   "cell_type": "markdown",
   "id": "d9c49a5a-75ed-4f3e-a0cb-8d308cab620f",
   "metadata": {},
   "source": [
    "# P22 "
   ]
  },
  {
   "cell_type": "code",
   "execution_count": 50,
   "id": "048ce610-9218-4720-8f21-d9436a8eee49",
   "metadata": {},
   "outputs": [
    {
     "name": "stdout",
     "output_type": "stream",
     "text": [
      "[-0.16889368 -0.18007269 -1.0247917   0.03984615  0.46998805]\n",
      "(5,)\n",
      "[-0.16889368 -0.18007269 -1.0247917   0.03984615  0.46998805]\n",
      "1.3336257570415297\n"
     ]
    }
   ],
   "source": [
    "a = np.random.randn(5)\n",
    "print(a)\n",
    "print(a.shape)\n",
    "print(a.T)\n",
    "print(np.dot(a, a.T))"
   ]
  },
  {
   "cell_type": "code",
   "execution_count": 55,
   "id": "07054625-721e-44f4-aaf8-fe9ec11d43fb",
   "metadata": {},
   "outputs": [
    {
     "name": "stdout",
     "output_type": "stream",
     "text": [
      "[[ 0.92429526]\n",
      " [-0.72783215]\n",
      " [ 0.12517121]\n",
      " [ 0.65931123]\n",
      " [-1.86362315]]\n",
      "(5, 1)\n",
      "[[ 0.92429526 -0.72783215  0.12517121  0.65931123 -1.86362315]]\n",
      "[[ 0.85432173 -0.6727318   0.11569516  0.60939825 -1.72253804]\n",
      " [-0.6727318   0.52973964 -0.09110363 -0.47986791  1.35640484]\n",
      " [ 0.11569516 -0.09110363  0.01566783  0.08252679 -0.23327197]\n",
      " [ 0.60939825 -0.47986791  0.08252679  0.4346913  -1.22870768]\n",
      " [-1.72253804  1.35640484 -0.23327197 -1.22870768  3.47309123]]\n"
     ]
    }
   ],
   "source": [
    "a = np.random.randn(5, 1)\n",
    "print(a)\n",
    "print(a.shape)\n",
    "print(a.T)\n",
    "print(np.dot(a, a.T))\n",
    "assert(a.shape) == ((5, 1))"
   ]
  }
 ],
 "metadata": {
  "kernelspec": {
   "display_name": "Python 3 (ipykernel)",
   "language": "python",
   "name": "python3"
  },
  "language_info": {
   "codemirror_mode": {
    "name": "ipython",
    "version": 3
   },
   "file_extension": ".py",
   "mimetype": "text/x-python",
   "name": "python",
   "nbconvert_exporter": "python",
   "pygments_lexer": "ipython3",
   "version": "3.10.6"
  }
 },
 "nbformat": 4,
 "nbformat_minor": 5
}
