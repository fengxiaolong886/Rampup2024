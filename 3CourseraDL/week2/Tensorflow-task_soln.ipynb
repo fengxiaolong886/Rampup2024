{
 "cells": [
  {
   "cell_type": "markdown",
   "metadata": {
    "slideshow": {
     "slide_type": "slide"
    }
   },
   "source": [
    "# Going deeper with Tensorflow\n",
    "\n",
    "In this video, we're going to study the tools you'll use to build deep learning models. Namely, [Tensorflow](https://www.tensorflow.org/).\n",
    "\n",
    "If you're running this notebook outside the course environment, you'll need to install tensorflow:\n",
    "* `pip install tensorflow` should install cpu-only TF on Linux & Mac OS\n",
    "* If you want GPU support from offset, see [TF install page](https://www.tensorflow.org/install/)"
   ]
  },
  {
   "cell_type": "code",
   "execution_count": 2,
   "metadata": {
    "collapsed": true
   },
   "outputs": [],
   "source": [
    "import sys\n",
    "sys.path.append(\"..\")\n",
    "import grading"
   ]
  },
  {
   "cell_type": "markdown",
   "metadata": {},
   "source": [
    "# Visualization"
   ]
  },
  {
   "cell_type": "code",
   "execution_count": null,
   "metadata": {
    "collapsed": true
   },
   "outputs": [],
   "source": [
    "#! killall tensorboard\n",
    "import os\n",
    "os.system(\"tensorboard --logdir=/tmp/tboard --port=7007 &\");"
   ]
  },
  {
   "cell_type": "markdown",
   "metadata": {},
   "source": [
    "If you run the notebook locally, you should be able to access TensorBoard on http://127.0.0.1:7007/"
   ]
  },
  {
   "cell_type": "code",
   "execution_count": 3,
   "metadata": {
    "collapsed": true
   },
   "outputs": [],
   "source": [
    "import tensorflow as tf\n",
    "s = tf.InteractiveSession()"
   ]
  },
  {
   "cell_type": "markdown",
   "metadata": {},
   "source": [
    "# Warming up\n",
    "For starters, let's implement a python function that computes the sum of squares of numbers from 0 to N-1."
   ]
  },
  {
   "cell_type": "code",
   "execution_count": 4,
   "metadata": {
    "collapsed": true
   },
   "outputs": [],
   "source": [
    "import numpy as np\n",
    "def sum_sin(N):\n",
    "    return np.sum(np.arange(N)**2)"
   ]
  },
  {
   "cell_type": "code",
   "execution_count": 5,
   "metadata": {},
   "outputs": [
    {
     "name": "stdout",
     "output_type": "stream",
     "text": [
      "Wall time: 472 ms\n"
     ]
    },
    {
     "data": {
      "text/plain": [
       "-1452071552"
      ]
     },
     "execution_count": 5,
     "metadata": {},
     "output_type": "execute_result"
    }
   ],
   "source": [
    "%%time\n",
    "sum_sin(10**8)"
   ]
  },
  {
   "cell_type": "markdown",
   "metadata": {},
   "source": [
    "# Tensoflow teaser\n",
    "\n",
    "Doing the very same thing"
   ]
  },
  {
   "cell_type": "code",
   "execution_count": 6,
   "metadata": {
    "collapsed": true
   },
   "outputs": [],
   "source": [
    "# An integer parameter\n",
    "N = tf.placeholder('int64', name=\"input_to_your_function\")\n",
    "\n",
    "# A recipe on how to produce the same result\n",
    "result = tf.reduce_sum(tf.range(N)**2)"
   ]
  },
  {
   "cell_type": "code",
   "execution_count": 7,
   "metadata": {},
   "outputs": [
    {
     "data": {
      "text/plain": [
       "<tf.Tensor 'Sum:0' shape=() dtype=int64>"
      ]
     },
     "execution_count": 7,
     "metadata": {},
     "output_type": "execute_result"
    }
   ],
   "source": [
    "result"
   ]
  },
  {
   "cell_type": "code",
   "execution_count": 8,
   "metadata": {},
   "outputs": [
    {
     "name": "stdout",
     "output_type": "stream",
     "text": [
      "Wall time: 889 ms\n"
     ]
    },
    {
     "data": {
      "text/plain": [
       "662921401752298880"
      ]
     },
     "execution_count": 8,
     "metadata": {},
     "output_type": "execute_result"
    }
   ],
   "source": [
    "%%time\n",
    "result.eval({N: 10**8})"
   ]
  },
  {
   "cell_type": "code",
   "execution_count": 9,
   "metadata": {
    "collapsed": true
   },
   "outputs": [],
   "source": [
    "writer = tf.summary.FileWriter(\"/tmp/tboard\", graph=s.graph)"
   ]
  },
  {
   "cell_type": "markdown",
   "metadata": {},
   "source": [
    "# How does it work?\n",
    "1. Define placeholders where you'll send inputs\n",
    "2. Make symbolic graph: a recipe for mathematical transformation of those placeholders\n",
    "3. Compute outputs of your graph with particular values for each placeholder\n",
    "  * `output.eval({placeholder:value})`\n",
    "  * `s.run(output, {placeholder:value})`\n",
    "\n",
    "So far there are two main entities: \"placeholder\" and \"transformation\"\n",
    "* Both can be numbers, vectors, matrices, tensors, etc.\n",
    "* Both can be int32/64, floats, booleans (uint8) of various size.\n",
    "\n",
    "* You can define new transformations as an arbitrary operation on placeholders and other transformations\n",
    " * `tf.reduce_sum(tf.arange(N)**2)` are 3 sequential transformations of placeholder `N`\n",
    " * There's a tensorflow symbolic version for every numpy function\n",
    "   * `a+b, a/b, a**b, ...` behave just like in numpy\n",
    "   * `np.mean` -> `tf.reduce_mean`\n",
    "   * `np.arange` -> `tf.range`\n",
    "   * `np.cumsum` -> `tf.cumsum`\n",
    "   * If if you can't find the op you need, see the [docs](https://www.tensorflow.org/api_docs/python).\n",
    "   \n",
    "`tf.contrib` has many high-level features, may be worth a look."
   ]
  },
  {
   "cell_type": "code",
   "execution_count": 10,
   "metadata": {
    "collapsed": true
   },
   "outputs": [],
   "source": [
    "with tf.name_scope(\"Placeholders_examples\"):\n",
    "    # Default placeholder that can be arbitrary float32\n",
    "    # scalar, vertor, matrix, etc.\n",
    "    arbitrary_input = tf.placeholder('float32')\n",
    "\n",
    "    # Input vector of arbitrary length\n",
    "    input_vector = tf.placeholder('float32', shape=(None,))\n",
    "\n",
    "    # Input vector that _must_ have 10 elements and integer type\n",
    "    fixed_vector = tf.placeholder('int32', shape=(10,))\n",
    "\n",
    "    # Matrix of arbitrary n_rows and 15 columns\n",
    "    # (e.g. a minibatch your data table)\n",
    "    input_matrix = tf.placeholder('float32', shape=(None, 15))\n",
    "    \n",
    "    # You can generally use None whenever you don't need a specific shape\n",
    "    input1 = tf.placeholder('float64', shape=(None, 100, None))\n",
    "    input2 = tf.placeholder('int32', shape=(None, None, 3, 224, 224))\n",
    "\n",
    "    # elementwise multiplication\n",
    "    double_the_vector = input_vector*2\n",
    "\n",
    "    # elementwise cosine\n",
    "    elementwise_cosine = tf.cos(input_vector)\n",
    "\n",
    "    # difference between squared vector and vector itself plus one\n",
    "    vector_squares = input_vector**2 - input_vector + 1"
   ]
  },
  {
   "cell_type": "code",
   "execution_count": 11,
   "metadata": {
    "collapsed": true
   },
   "outputs": [],
   "source": [
    "my_vector =  tf.placeholder('float32', shape=(None,), name=\"VECTOR_1\")\n",
    "my_vector2 = tf.placeholder('float32', shape=(None,))\n",
    "my_transformation = my_vector * my_vector2 / (tf.sin(my_vector) + 1)"
   ]
  },
  {
   "cell_type": "code",
   "execution_count": 12,
   "metadata": {},
   "outputs": [
    {
     "name": "stdout",
     "output_type": "stream",
     "text": [
      "Tensor(\"truediv:0\", shape=(?,), dtype=float32)\n"
     ]
    }
   ],
   "source": [
    "print(my_transformation)"
   ]
  },
  {
   "cell_type": "code",
   "execution_count": 13,
   "metadata": {},
   "outputs": [
    {
     "name": "stdout",
     "output_type": "stream",
     "text": [
      "[ 0.  1.  2.  3.  4.]\n"
     ]
    },
    {
     "data": {
      "text/plain": [
       "array([ 0.        ,  1.62913239,  2.09501147,  2.62899613,  0.        ], dtype=float32)"
      ]
     },
     "execution_count": 13,
     "metadata": {},
     "output_type": "execute_result"
    }
   ],
   "source": [
    "dummy = np.arange(5).astype('float32')\n",
    "print(dummy)\n",
    "my_transformation.eval({my_vector:dummy, my_vector2:dummy[::-1]})"
   ]
  },
  {
   "cell_type": "code",
   "execution_count": 14,
   "metadata": {
    "collapsed": true
   },
   "outputs": [],
   "source": [
    "writer.add_graph(my_transformation.graph)\n",
    "writer.flush()"
   ]
  },
  {
   "cell_type": "markdown",
   "metadata": {},
   "source": [
    "TensorBoard allows writing scalars, images, audio, histogram. You can read more on tensorboard usage [here](https://www.tensorflow.org/get_started/graph_viz)."
   ]
  },
  {
   "cell_type": "markdown",
   "metadata": {},
   "source": [
    "# Summary\n",
    "* Tensorflow is based on computation graphs\n",
    "* The graphs consist of placehlders and transformations"
   ]
  },
  {
   "cell_type": "markdown",
   "metadata": {},
   "source": [
    "# Mean squared error\n",
    "\n",
    "Your assignment is to implement mean squared error in tensorflow."
   ]
  },
  {
   "cell_type": "code",
   "execution_count": 15,
   "metadata": {
    "collapsed": true
   },
   "outputs": [],
   "source": [
    "with tf.name_scope(\"MSE\"):\n",
    "    y_true = tf.placeholder(\"float32\", shape=(None,), name=\"y_true\")\n",
    "    y_predicted = tf.placeholder(\"float32\", shape=(None,), name=\"y_predicted\")\n",
    "    # Your code goes here\n",
    "    # You want to use tf.reduce_mean\n",
    "    mse = tf.reduce_mean((y_true-y_predicted)**2)\n",
    "def compute_mse(vector1, vector2):\n",
    "    return mse.eval({y_true: vector1, y_predicted: vector2})"
   ]
  },
  {
   "cell_type": "code",
   "execution_count": 16,
   "metadata": {
    "collapsed": true
   },
   "outputs": [],
   "source": [
    "writer.add_graph(mse.graph)\n",
    "writer.flush()"
   ]
  },
  {
   "cell_type": "markdown",
   "metadata": {},
   "source": [
    "Tests and result submission. Please use the credentials obtained from the Coursera assignment page."
   ]
  },
  {
   "cell_type": "code",
   "execution_count": 17,
   "metadata": {
    "collapsed": true
   },
   "outputs": [],
   "source": [
    "import submit"
   ]
  },
  {
   "cell_type": "code",
   "execution_count": 18,
   "metadata": {},
   "outputs": [
    {
     "name": "stdout",
     "output_type": "stream",
     "text": [
      "Submitted to Coursera platform. See results on assignment page!\n"
     ]
    }
   ],
   "source": [
    "submit.submit_mse(compute_mse, 'nimish.sanghi@gmail.com', '<token>')"
   ]
  },
  {
   "cell_type": "markdown",
   "metadata": {},
   "source": [
    "# Variables\n",
    "\n",
    "The inputs and transformations have no value outside function call. This isn't too comfortable if you want your model to have parameters (e.g. network weights) that are always present, but can change their value over time.\n",
    "\n",
    "Tensorflow solves this with `tf.Variable` objects.\n",
    "* You can assign variable a value at any time in your graph\n",
    "* Unlike placeholders, there's no need to explicitly pass values to variables when `s.run(...)`-ing\n",
    "* You can use variables the same way you use transformations \n",
    " "
   ]
  },
  {
   "cell_type": "code",
   "execution_count": 19,
   "metadata": {
    "collapsed": true
   },
   "outputs": [],
   "source": [
    "# Creating a shared variable\n",
    "shared_vector_1 = tf.Variable(initial_value=np.ones(5),\n",
    "                              name=\"example_variable\")"
   ]
  },
  {
   "cell_type": "code",
   "execution_count": 20,
   "metadata": {},
   "outputs": [
    {
     "name": "stdout",
     "output_type": "stream",
     "text": [
      "Initial value [ 1.  1.  1.  1.  1.]\n"
     ]
    }
   ],
   "source": [
    "# Initialize variable(s) with initial values\n",
    "s.run(tf.global_variables_initializer())\n",
    "\n",
    "# Evaluating shared variable (outside symbolicd graph)\n",
    "print(\"Initial value\", s.run(shared_vector_1))\n",
    "\n",
    "# Within symbolic graph you use them just\n",
    "# as any other inout or transformation, not \"get value\" needed"
   ]
  },
  {
   "cell_type": "code",
   "execution_count": 21,
   "metadata": {},
   "outputs": [
    {
     "name": "stdout",
     "output_type": "stream",
     "text": [
      "New value [ 0.  1.  2.  3.  4.]\n"
     ]
    }
   ],
   "source": [
    "# Setting a new value\n",
    "s.run(shared_vector_1.assign(np.arange(5)))\n",
    "\n",
    "# Getting that new value\n",
    "print(\"New value\", s.run(shared_vector_1))"
   ]
  },
  {
   "cell_type": "markdown",
   "metadata": {},
   "source": [
    "# tf.gradients - why graphs matter\n",
    "* Tensorflow can compute derivatives and gradients automatically using the computation graph\n",
    "* True to its name it can manage matrix derivatives\n",
    "* Gradients are computed as a product of elementary derivatives via the chain rule:\n",
    "\n",
    "$$ {\\partial f(g(x)) \\over \\partial x} = {\\partial f(g(x)) \\over \\partial g(x)}\\cdot {\\partial g(x) \\over \\partial x} $$\n",
    "\n",
    "It can get you the derivative of any graph as long as it knows how to differentiate elementary operations"
   ]
  },
  {
   "cell_type": "code",
   "execution_count": 22,
   "metadata": {
    "collapsed": true
   },
   "outputs": [],
   "source": [
    "my_scalar = tf.placeholder('float32')\n",
    "\n",
    "scalar_squared = my_scalar**2\n",
    "\n",
    "# A derivative of scalar_squared by my_scalar\n",
    "derivative = tf.gradients(scalar_squared, [my_scalar, ])"
   ]
  },
  {
   "cell_type": "code",
   "execution_count": 23,
   "metadata": {},
   "outputs": [
    {
     "data": {
      "text/plain": [
       "[<tf.Tensor 'gradients/pow_1_grad/Reshape:0' shape=<unknown> dtype=float32>]"
      ]
     },
     "execution_count": 23,
     "metadata": {},
     "output_type": "execute_result"
    }
   ],
   "source": [
    "derivative"
   ]
  },
  {
   "cell_type": "code",
   "execution_count": 24,
   "metadata": {},
   "outputs": [
    {
     "data": {
      "image/png": "[encoded data removed]",
      "text/plain": [
       "<matplotlib.figure.Figure at 0x1bfa839e588>"
      ]
     },
     "metadata": {},
     "output_type": "display_data"
    }
   ],
   "source": [
    "import matplotlib.pyplot as plt\n",
    "%matplotlib inline\n",
    "\n",
    "x = np.linspace(-3, 3)\n",
    "x_squared, x_squared_der = s.run([scalar_squared, derivative[0]],\n",
    "                                 {my_scalar:x})\n",
    "\n",
    "plt.plot(x, x_squared,label=\"$x^2$\")\n",
    "plt.plot(x, x_squared_der, label=r\"$\\frac{dx^2}{dx}$\")\n",
    "plt.legend();"
   ]
  },
  {
   "cell_type": "markdown",
   "metadata": {},
   "source": [
    "# Why that rocks"
   ]
  },
  {
   "cell_type": "code",
   "execution_count": 25,
   "metadata": {
    "collapsed": true
   },
   "outputs": [],
   "source": [
    "my_vector = tf.placeholder('float32', [None])\n",
    "# Compute the gradient of the next weird function over my_scalar and my_vector\n",
    "# Warning! Trying to understand the meaning of that function may result in permanent brain damage\n",
    "weird_psychotic_function = tf.reduce_mean(\n",
    "    (my_vector+my_scalar)**(1+tf.nn.moments(my_vector,[0])[1]) + \n",
    "    1./ tf.atan(my_scalar))/(my_scalar**2 + 1) + 0.01*tf.sin(\n",
    "    2*my_scalar**1.5)*(tf.reduce_sum(my_vector)* my_scalar**2\n",
    "                      )*tf.exp((my_scalar-4)**2)/(\n",
    "    1+tf.exp((my_scalar-4)**2))*(1.-(tf.exp(-(my_scalar-4)**2)\n",
    "                                    )/(1+tf.exp(-(my_scalar-4)**2)))**2\n",
    "\n",
    "der_by_scalar = tf.gradients(weird_psychotic_function, my_scalar)\n",
    "der_by_vector = tf.gradients(weird_psychotic_function, my_vector)"
   ]
  },
  {
   "cell_type": "code",
   "execution_count": 26,
   "metadata": {},
   "outputs": [
    {
     "data": {
      "image/png": "[encoded data removed]",
      "text/plain": [
       "<matplotlib.figure.Figure at 0x1bfa9048470>"
      ]
     },
     "metadata": {},
     "output_type": "display_data"
    }
   ],
   "source": [
    "# Plotting the derivative\n",
    "scalar_space = np.linspace(1, 7, 100)\n",
    "\n",
    "y = [s.run(weird_psychotic_function, {my_scalar:x, my_vector:[1, 2, 3]})\n",
    "     for x in scalar_space]\n",
    "\n",
    "plt.plot(scalar_space, y, label='function')\n",
    "\n",
    "y_der_by_scalar = [s.run(der_by_scalar,\n",
    "                         {my_scalar:x, my_vector:[1, 2, 3]})\n",
    "                   for x in scalar_space]\n",
    "\n",
    "plt.plot(scalar_space, y_der_by_scalar, label='derivative')\n",
    "plt.grid()\n",
    "plt.legend();"
   ]
  },
  {
   "cell_type": "markdown",
   "metadata": {},
   "source": [
    "# Almost done - optimizers\n",
    "\n",
    "While you can perform gradient descent by hand with automatic grads from above, tensorflow also has some optimization methods implemented for you. Recall momentum & rmsprop?"
   ]
  },
  {
   "cell_type": "code",
   "execution_count": 27,
   "metadata": {
    "collapsed": true
   },
   "outputs": [],
   "source": [
    "y_guess = tf.Variable(np.zeros(2, dtype='float32'))\n",
    "y_true = tf.range(1, 3, dtype='float32')\n",
    "loss = tf.reduce_mean((y_guess - y_true + tf.random_normal([2]))**2) \n",
    "#loss = tf.reduce_mean((y_guess - y_true)**2) \n",
    "optimizer = tf.train.MomentumOptimizer(0.01, 0.5).minimize(\n",
    "    loss, var_list=y_guess)"
   ]
  },
  {
   "cell_type": "code",
   "execution_count": 28,
   "metadata": {},
   "outputs": [
    {
     "data": {
      "image/png": "[encoded data removed]",
      "text/plain": [
       "<matplotlib.figure.Figure at 0x1bfa8fd37f0>"
      ]
     },
     "metadata": {},
     "output_type": "display_data"
    }
   ],
   "source": [
    "from matplotlib import animation, rc\n",
    "from IPython.display import HTML\n",
    "\n",
    "fig, ax = plt.subplots()\n",
    "y_true_value = s.run(y_true)\n",
    "level_x = np.arange(0, 2, 0.02)\n",
    "level_y = np.arange(0, 3, 0.02)\n",
    "X, Y = np.meshgrid(level_x, level_y)\n",
    "Z = (X - y_true_value[0])**2 + (Y - y_true_value[1])**2\n",
    "ax.set_xlim(-0.02, 2)\n",
    "ax.set_ylim(-0.02, 3)\n",
    "s.run(tf.global_variables_initializer())\n",
    "ax.scatter(*s.run(y_true), c='red')\n",
    "contour = ax.contour(X, Y, Z, 10)\n",
    "ax.clabel(contour, inline=1, fontsize=10)\n",
    "line, = ax.plot([], [], lw=2)\n",
    "\n",
    "def init():\n",
    "    line.set_data([], [])\n",
    "    return (line,)\n",
    "\n",
    "guesses = [s.run(y_guess)]\n",
    "\n",
    "def animate(i):\n",
    "    s.run(optimizer)\n",
    "    guesses.append(s.run(y_guess))\n",
    "    line.set_data(*zip(*guesses))\n",
    "    return (line,)\n",
    "\n",
    "anim = animation.FuncAnimation(fig, animate, init_func=init,\n",
    "                               frames=400, interval=20, blit=True)"
   ]
  },
  {
   "cell_type": "code",
   "execution_count": 29,
   "metadata": {},
   "outputs": [
    {
     "data": {
      "text/html": [
       "<video width=\"432\" height=\"288\" controls autoplay loop>\n",
       "  <source type=\"video/mp4\" src=\"data:video/mp4;base64,AAAAHGZ0eXBNNFYgAAACAGlzb21pc28yYXZjMQAAAAhmcmVlAAC+h21kYXQAAAKuBgX//6rcRem9\n",
       "5tlIt5Ys2CDZI+7veDI2NCAtIGNvcmUgMTQ4IHIyNzQ0IGI5N2FlMDYgLSBILjI2NC9NUEVHLTQg\n",
       "QVZDIGNvZGVjIC0gQ29weWxlZnQgMjAwMy0yMDE2IC0gaHR0cDovL3d3dy52aWRlb2xhbi5vcmcv\n",
       "eDI2NC5odG1sIC0gb3B0aW9uczogY2FiYWM9MSByZWY9MyBkZWJsb2NrPTE6MDowIGFuYWx5c2U9\n",
       "MHgzOjB4MTEzIG1lPWhleCBzdWJtZT03IHBzeT0xIHBzeV9yZD0xLjAwOjAuMDAgbWl4ZWRfcmVm\n",
       "PTEgbWVfcmFuZ2U9MTYgY2hyb21hX21lPTEgdHJlbGxpcz0xIDh4OGRjdD0xIGNxbT0wIGRlYWR6\n",
       "b25lPTIxLDExIGZhc3RfcHNraXA9MSBjaHJvbWFfcXBfb2Zmc2V0PS0yIHRocmVhZHM9NiBsb29r\n",
       "YWhlYWRfdGhyZWFkcz0xIHNsaWNlZF90aHJlYWRzPTAgbnI9MCBkZWNpbWF0ZT0xIGludGVybGFj\n",
       "ZWQ9MCBibHVyYXlfY29tcGF0PTAgY29uc3RyYWluZWRfaW50cmE9MCBiZnJhbWVzPTMgYl9weXJh\n",
       "bWlkPTIgYl9hZGFwdD0xIGJfYmlhcz0wIGRpcmVjdD0xIHdlaWdodGI9MSBvcGVuX2dvcD0wIHdl\n",
       "aWdodHA9MiBrZXlpbnQ9MjUwIGtleWludF9taW49MjUgc2NlbmVjdXQ9NDAgaW50cmFfcmVmcmVz\n",
       "aD0wIHJjX2xvb2thaGVhZD00MCByYz1jcmYgbWJ0cmVlPTEgY3JmPTIzLjAgcWNvbXA9MC42MCBx\n",
       "cG1pbj0wIHFwbWF4PTY5IHFwc3RlcD00IGlwX3JhdGlvPTEuNDAgYXE9MToxLjAwAIAAADKBZYiE\n",
       "AC///vau/MsrRwuVLh1Ze7NR8uhJcv2IMH1oAAADAADVayF8oYJVUBjg5Cl8UC950wnQObmxLpMS\n",
       "eTd2J+g7snoztQcyhALtINw5UaNMi3KGnXwVwAAVjA9rs+2mg979mn6JP5KOmfCCksxkEWnBqVix\n",
       "SlaszLtiEXeKS/pJKygZa6sQukZ40sJfm5WkC31b/ItGIrTq+odnPBDUTzbL2udk28DI16TgunDO\n",
       "vy53mTqEw1v/NjKeT1gqmF9Ay0jF7EHSC6M1jqJhaGA+2I7siU3tbhzm++kkDMGxQaBznZv+UkH/\n",
       "ME9JFDXWal1pE5md32s8XeFhyNhDYSs2HwYiY2CzfhagmUl6KHrxJ1nMSLtqJutWySarElDFX30j\n",
       "l+uOsFjdfC61UiKrzS+VSAn7xsOlaOTAz9O6v1QsS9kZqOqY0d+gs7d71p12gVr4xK6DAgoNY4ez\n",
       "Pxu2hUv9WF7LkXUrN/TNtqV6WmOSkzexdOBpi2aDtSP8Se060PRzDYxbGiKN+MPx9TprE/FZdz5z\n",
       "nzp6kVM9Efe7POZkMjVaTxLjmpsJLjDTVF0/y6nc8lqVdYRzwjHy0kwkfYPrCN5jOwOUUETl9EOt\n",
       "OuidGBbZ+wqZmuzTUGj3NcZdr/GnOvdJZfj5g3yVQWpKH8HOhXKtB7D0G9FcxuO/0Ndegu3i14QT\n",
       "Za3yxJSb2YLA0eHoruD2JB5Im6k5vNv3THIZpg0mzK/PXuf0N5tIrBcmSrc5Zc+l+FPzycjX2zSt\n",
       "hdoC2/Pmq4wHBh/8/znYpI0JDwcnx60pDx9umegdvNKApEry/yuKjT8bI1m0q2ikGwWOQ6pYmIfy\n",
       "BTO55FmSJXDH7zoCnYBgCJDkSwvxUAh0w/oglyeHvyfGBg25zOOYqa9OdCNQPJO3VQJIBLJSKqMC\n",
       "jlBZcSMvJeTGxgH5LV05vntoq3Aj6OQXuMmZeTx9l6H/t6gQUyQMGNtKpvSib3vTNRByp9Ia91ps\n",
       "qiCZxrEGdQBYwYhCxJfZPThg86yIer5oH17j8A0j1luvkaod1gajmmh0E3jpqqoBtsE91c0pLLxr\n",
       "s3O1f+fLolEv2LwjNr/l4tCZ6/QRo9AP84MRGo6rKJ/xess4PxNR4Yy6mkGX1raGrHqEvzLyZUkg\n",
       "orEf/fpv9+IhKhllMZHibXNsscwDYAs+v25xSvSNXqbzrSIQIjh/CAyY5DG2aNAFWxP+BJP5z54q\n",
       "dRTzbAcQFMszupgagghiDS0jUpSS07/E+n/HGYZ+bxO9EOCouwX76Ii8fEedYZVBGyb5pGhFQfTb\n",
       "PSVcuJUyggjRRZ1UPQnK2MjlAsrb9ctm0u/RxDeH1N6TQuH2XOaaiXtEwfZYSw5ou26aTHqcGeKw\n",
       "n0/afHXuL90UBLCoLqTieJLYLUedvR/UoigJcZyyPAeW34NOxJ4HDGQUfIcNHPhit37Tu2JXTP2G\n",
       "h1VbP2N4opYxJqgHRPx0Zbo+DA6tGCvSSzNjH+HATgL0CxuIuYMX6v9am/xJAfmQzVGu/r1k1lWN\n",
       "mlfVlotUr8zSR24SyYdAltAvTq580fzA7z7wi9BPezI/KFMUbmAcOl2NUarAKptpgM263rvVsTmY\n",
       "MgjNrhVI+4mpx6D3fqCTGXPV2uEwEx54X0Xum4JutofatZfjjepQ7L/26TnWf2Fxv8sQMu0hr4xX\n",
       "j5IKL/wItFojdOb/P7TklXQG/G7AuTX4vZNEixjVt33Fj+IG1YJSntjLCARlYTqQNcWPtrGjtpRJ\n",
       "Xd9DZqzT97U3MBEYKD/DIcMWKJdr1hGICr8VMjSbQWL7Ah5NjHGbnca8PUXnJlsaWz7yEBHyL7ZQ\n",
       "P+btdWGdXhWgz5on2iiBa0gF/5KOKf+Pifh2ohiAaV/WDau42OdPYN08FwPvBdvH8P1sRyIBcw+I\n",
       "oWDbv6LLFXtLUSyGBdn+i/81u/JXacNnTm/SxIRtemTwWpCmiq6hFBsCoF3tV9OyCfcWGmTe1cso\n",
       "jRSe7jDMk/Abuw4fzWOs6vy4d8AtWsLRj5oqsvrtauDYPrFOGaC4/wQmssLDpfv0F1kubM1okh/Z\n",
       "EE9TUunscrR8ZB25cxvJY1m3FyYchQbKYrG1BwFgKUEfjiSlGr3OS4BxYnXtys37PD+8GpkK5E45\n",
       "+3hHGveZijzYFEwljmGQP31q2IZQedGZEsKDESiTfsIXHtj9mdMjKnRn6djbyhAVdxZZUvJMeRS7\n",
       "ScG94yMD9VJoIriX+UXwWf60faIZFeKswzXpVBYHesS1rgkff6bLZZWf2vWfXIZdGozoxNzP4EZ1\n",
       "bmBcHrfyWVchX0cJh6Dwtwf/9+AsteyvYv4kgVbovFyv3eml3xow4Dl4wND7dUtsrBNCRi2vjuI7\n",
       "avQzm1NQoigXHexrDXeE8gmKK+HvtDgOIdWx4HsK0TghDna12XPbyUH3dfCZn/hssMCjT1MKmJm+\n",
       "JSMnppawiH+BLUFOXkQGbuR3vcgAm4dfcZDMW0NmRoR7+A9sIV8TiAJL4V8jNo4aaUCQ5fWIh0Io\n",
       "JN8Ee2pJ1XmGSMfY4PPyUoBO4qHDKjXI6opd7xrWMe+BVXwsrNXHIC/j6kx4dYsCuVFphciI0cFb\n",
       "mDY9fnEIQGho3IrPJDSwwdB0Y3rQxBgJq1MW4KNh3okLFFjUoBLTU4ZlB7amVvVU+nTvSauqLfI/\n",
       "eWfLnODXiaZM7ve5ct6bpU3I6pDH2Liipvmm6CJ36P4LeZ3x75N48RZoprZKtw9Y5teX/nkzV7ku\n",
       "Rth5vsf4Fpmp4Mo8lZMdGb8uZmp6GHkNuxg+G+XMCPld1a9cFOKfh/dyEeSfcFeBM2eEU91wBZnS\n",
       "jM8uhw7817fWurCozHoHbypeKKUEMPS07OZ2Mtxv+/LcFaKDA5RPr04+jSUicbzfKdkQY228GyGB\n",
       "1qaYLj7zKe1+TJq6wzb6RvwH+22X0fyaNcKrOalmIBXr1h3g0YrqTp/dP/OlkBTrlXDZe+N1WDD/\n",
       "ePIQ5lLMqL4P1dnHgbROaDrJi8NaHulWEHB/lRCT34LZ5MtQdNnqypPgxABmSZR1OU9dzxCWssWX\n",
       "8/Ka9Lj7PIedxmLG9pbS89WDCfp7hHh9bl19t90KqWeGzbneQQXSytKU7CKECavAnFpUIehXh9mB\n",
       "0R+6kAZhfrZbpsBzQ2wUDpO/p/2edl8NyXlQXLsL70R+j22X0EwG1twHn4Nzr6etPFL2Ql2sCg5s\n",
       "wOxyLwJXujrZr6XnEyHAYc2/IfnbchPx3Cek3c4/tRT+mr50gOWpm3KceDGRuOAHKDzjrv8kxUyG\n",
       "ozJEOvBfcgo8AALZOROagG5MadDKK2yT2iublQ+jiFDK6dNqQnwLFf/0I6GpVdXnsfvZ2RMKn4oE\n",
       "uq0tWhU9gXGroV2zIGcf85zPoYZQwncJ9958rKcWSx/3733YZpbnaz026LKd3aYLKX6Vm9pSb79X\n",
       "/SRrJGjlFamXRDXCRd7EZpoFDW5aP18zkXBlA2iHEA7hjo3co1glIICekZiKaVPrIkIjD5extEQT\n",
       "TU1HV1W5BiuduEzaqc5fKG41IxR/zPRaiKwpZ/4i8V5cLhLIrbkZmYua07V2WVUfXm8R3t3O66zh\n",
       "OZqnoQhZT0cIav4c/YqrYbdak/fJ0Wb8el0bDQPYJr8Y3AJDuTqm2o7r369jbC1KErYTj3gSshXK\n",
       "THowlDka4jy0Iwe8mCXfsa05mlwkSAAA2vlthNTmDqjm8O9cTedUYio0vV1WGz8glT1Jg9qsU3aL\n",
       "WMNaVdvxoaSe/R3WPI5W7ZaON/RLj2DCXrkqjhg8yFzske/SprK7dEgB4nOrRuX4usCInz73Fvht\n",
       "45aTGaT6JtcuHxXAsqGKb0AQetxa4uLVvcNMTobNfNHVwR9eskOo6gCEu77Hei0yrJ/+U0FQTPQG\n",
       "GFxRCDRXMPS9ZCSgE0QjLxTpr4krObbgz+ZFJsJX59y8vOkK2eznsCPMN/zAfyzIGh3pQSPqK15W\n",
       "EO0YwZVQ9wZdbbampsXPFvxcJxQ/6rOvMZw77TmrQdYN6/LrL0+hSSsbs0a7Pz3hKng61Qzb+rn2\n",
       "bFgn3BjQwKvlALzBgsy3p3Wejgds8ha+r5TZ/YKKYDOA4kzzTnNKB2yKTfIvH5Uf8EXM5mEVl6/G\n",
       "J74vpKE1bfLNuFHyMqHBZMPvxcMKfbvpmmSiy/GHoVtrCWEVPevOfWQ5WNsUs3QG1aLvUpWZ+FAU\n",
       "1NTt74FngqY5MeXMiash4Lz0stFIhphUsG+bM8bGzcLqXoXaFDFukN76gVqRMyx01dWBC8Bfpm4N\n",
       "yf2P4KKJHyHGO8BM8C0cQfyarwiAs5XaOkCAXYhpisKMou1dmDg58HF6DFzd97317/LN+Ub7wBCa\n",
       "munfV4GGZgYpfVSxbHFvn0Zq3KTo13JQMyqUM3AQfj0hQUtGux9n96+rQ+QBYgjkMyRlE8goCdfq\n",
       "wg+nSfOr+smHdxn3yVIpmGIKUwNs1CBjxqXYDhgoQzphWJm6XwZQ8KmHtD2ITJUIihI6bhpdQFGs\n",
       "no4/9WvezoBi7z4ZXGRgqQt+LEmEdvEieRxVZCDAjHivkknVHuS1D9kudiDYGVIHLxrYFoykdN1K\n",
       "FVAncaxsj+7dcUr3obbQhWxi9KCzf576KQiD5bWaFiLw7aYl7RoCp9ufY4hDWnG91SqgokCdkpRd\n",
       "WGg5KHb4/XIRwEVnoOWRoFAmNvJsloyhtMrjT5f3RcTmUc3jDa4m5itGQDANILBsq0ZS6Xjo/SfE\n",
       "GxRtlhBsTheQnGpSb/nnqYB5slLMO4l94mITuMbY+YLVtbTq6kCDRpSvXnQx2/9oaQswQvBxeuOX\n",
       "MdgriZGtzLrsfdQJaQXfTYZvt6tZEUhr6wuO1/OBGYVx6PY3VLJ833NNwKk72rM5YIY+2ahCW/ox\n",
       "HoPm7j20vtmJX6QhLy9YIDiIfFeHVRmX3t2E2+F3zllDbZdU5//JqMAyov2NA7NNcVi7THQmmRUj\n",
       "uV8bDGi1Ym//3gXGegg3hm1jFO8YRkAIlEl7gpndxlCQ2eVzf0/vUq+Sdg5xIlvfR0p0VNiSl91G\n",
       "ZyLbNxdJ0MFhqgtDpItA2J9Dl4Zaig+jzUmKJMAjoddimSaIoK9eiE+deBo7QO04A49UwzQ1wg/w\n",
       "ARHRYdOSJx2qcf2wRNkU7FoY0hrkWjUnPpXaYtJbMhfBINKWhbpHM9303YEVphPAU6/2E/KJ+WKa\n",
       "Hvn8EB3QiT9oot13WC97cyF1TkgBjIUdj6TuzsO5V8WF/J76s7hS1LYIOy8pmXHAu+YjTYCU6uRz\n",
       "xSN6MzRABMz4suJ+99muiVhjlo2Y+XqxlmALASZqE7g5Lzj349KA0yv5e1sS+JM4KUxN7XeUUT4l\n",
       "LjC8GnjUpwrD8axwr3nOsmeCdwjCe51vzVjYw4g8v4ibxepbKwOKB2xjreX5Kp51f8Hbxa4NeEb9\n",
       "zzWmgz1bEdbUcrE1cJXXhv+X7apOA4ExMrVDD4Nk9SIPBakzfzW40Pmc07rHLGSmtS9zF/k1TMMq\n",
       "u8h63cWJIhqYoNw+e2nehKbse0ddmVrslV3jy9mCJcMLQDrAePpozTeti4dmNdbyP0MTnZH8vXdW\n",
       "7JDFPsPNvn6uHTRq5eR/pL9B0spBR8l/RkuzB1cvR/PeWL2fjh+6nmtWspNbs3bPlHwf7DFfECTf\n",
       "3mKO6Yt4O1wveqQm/kBMjfO+oRCuXmBoY2fojsIu5Nrr5Lnc42HUHpWW916PNidAyBxN5XDeCgHk\n",
       "cASIbsUGoTDsik5wiTA3xPxFblCC4J6tHLlJ1DNBrMW+VsEwLx/wXjoIriFXLB+xrdHCbHIKEzp9\n",
       "4+oNbEt80iS8nAat8z8+N5KtjSTNjLjZjBkon3rnN+fNhorpZreFgW2dquEtDQtAJNvjQP626gz8\n",
       "AH6GKqD0owMlVDGpNF4JoworsNBSuBAoNMGIGgZM6/CPPm5vamYtJNkwIh7PsEx/MKYHW4IrO/ed\n",
       "EyluR6B7yawXEG8NTDPToCZ7Gq3GB1tI1z0X4TAV4KcMH6btpTrEBUFUm/OvspQlrsS9sjUel3yV\n",
       "LqmbTHQGbQ1f1XXDx+ViW/SfgrZsBXcPGMhYIPvH36NrRqTp3MRdS9nRGkZOGjzJX9ap+sZ+Hdw3\n",
       "jfsEUz+XSQqfYX84JQddcvr2OJt09kyNZsfZK1FsasR28SYU43gAMW5mJd8y1vNdObw1vGl1SZ7t\n",
       "NEkz3aHNXxWpL81qeLKs1uVY+q0WsS7lruR0XDz4Gzfe96vHnwdNYyA/20FTlqj6CrCN7OlS1xaJ\n",
       "hdd3CSrcfVhb8QlG+P6/97wQFKdWnNIuzoOKfIthm5NyUZhpSxEqB+Z7maRGGgKgJXyr6j007xL2\n",
       "KIYLpsjMnDglH7X4CyLjfMWctMN4I0t/DSigyGqGGQVskyXHBYwqC44yYt57TBR5Qfze84Uy6Urs\n",
       "RkZbI6Ef0xwH4cZSkMS34ukxnFDkyDIRi6CGeyPyDQ/op86npDyINTgdICt5HU8jByZhRjUiIp7j\n",
       "SC3gOBjr7bD1X4/1Ig/ThQ5vdkTD7o+G7JPX/G0OdzyiECKici/TkAAfqaTarQLzNWsMkM5wmudT\n",
       "xHkzVu+tllRuqJmJh70jOAL0r5xm50NlyTPdowLXgkF79RcrMz7czfO29pnT/kaAgneZWb8uDA7q\n",
       "gNUO9MqueNlkDWhYBlES8Ks/9bytdcxkJXmOb769MIW3CYrc+gIYdBhLWgs902iLVzvOSi8jWLQJ\n",
       "zsEGF30/h4QGg9DpEpDT4CnJZ3bmOIw/sjybMZxdZ+rchmlKySMmaBYfTo1l/rsgEHgejUiQxV5q\n",
       "wEoWc1JlbvRLvHoW+4PU15Rnc2jtzirhgM+ka4lPjcP0z6v0mIECmxopraWVMDBUc91+o7U9V0we\n",
       "DnQW4N1z7Kn+1s3s+N8yjEvc2u4C8PvRpsUs6UDU74+zUkJNhQiPaHzG/tLC82GdQQehBv09kv4p\n",
       "oY2UELA0zXJaMFKMHwubacsygIND1OdYoO5t/dNpFj+c7AtmO5heJRQ6ZbchRhtVB4uZqq/BErrt\n",
       "4zKdYB5zxnr5lTsu1QcpVG/mtoMqEpYl0T4atJwGzmu7fxZL2ZoMKbTGW2ummWxjw7F5YBzGgID7\n",
       "L8PONAVESciFhYQeYMWcF6PmtzUrxlWxp2tTFb2JGdyC+xsShpsAgoHNBT0rD97aHmrIOlS675rn\n",
       "U4tjbSP9lSJWPbWdA7RrTsO3Yek09BH9K5dqgYDiEry/NjuGnagN0wDD/xNdA8ZQceeOQ0/jLCjb\n",
       "MfQ05sQHFuBe5KpvEES6xp2NGgTjvRUA02NW1AUwoM+d9ouCVKb9r6ZqlaKx5YgADRllNNiVFr9F\n",
       "iQuGetwcxL6qJH66ivA8rI8YKh4HQ2lApLjb3vHUu2bKF68xDbkPswRDO2RmDyEVfSz5gWSb1Uo/\n",
       "F9GEnmpusdHEy9C3/EUo0+9cxtE3qfaUgyEp4lcJ7AXhE+ndXxheYrCS7a5Amr/r/oaaqRlKJ1Nd\n",
       "9Ceb4VSKUGOWKHldJxOHs1/sj7WXbeyGfhU7sIV87yqbJlmUgCsZeNJmLxjpirctQ7rFe+LYTenS\n",
       "GOwOvCAWcPdEPGnxBZxjGgkdXjWXjy2vL5Mztbd7G0HtGRPKVrLiZARspLGUIwtypsFXuGqMC5qr\n",
       "GJP99KhMRNvGQJkvpCIQQ4GoYMZN/9lRMVHvo8Iww2ny2nPDjlftt/aHAdTn4FpyiGklCUkTK7xv\n",
       "+sZr2khxPs/7wX5qafWAVlSiSFODjinxNb2ExigXkVFsYtFPT4ZqaSOB1u1JLKmWFgl8DHNzSJly\n",
       "smtKvR4Mfb0l364hw5yKcQQUWTjcVeKLZ2shNKP/6X4pmCIKcthJ6nv8A/4TASWjhX1E7riFjY/n\n",
       "pT8aGSE+6NiPifJKPjW8Lcs764pp7mhvf34kzsEa6uIWPaQgdHGNrSLj8fHShhNhqV1OD8EujpTN\n",
       "gdlVcF6M5wzzAvFN0c0oQUDlHORAzdwRp+1Wg+hetMMDFBhavEqE/VHq3F6xw4PyG4z/TxRDcUuj\n",
       "u2vUVU44gQ9c1aMrwFfo2lUziMwrsxO4xRuRaJuba8NnNpzAogkHnD2ryNv3u0ZGg1XzJuLY/TPO\n",
       "gO7EJgxwA9sPyi3tygjV8KC/d2aaYHrbuUGdjkxhGwslr84XaCeUfqqjJSDJMKPsxGp84iA2p/EI\n",
       "w72wmaXT8bgghiakUhciAJCP05piS1ZdM1LXRS9Tx19i3Vg+wV6+1gVRhYw9q6ZOV4rwUD8PS/OF\n",
       "jMgr4LS9nFxtSpCzmx9JXiIORnnd5MToheKMUUgXOuqmMtRdPt/fof4slGaJSmFSf/8803Rr5B/p\n",
       "Vyxj74l+QPwdRRLnQQsvR8LyAiKC0su17D8GQszNE7bfq4UFBWQxhh/NT+vhZky3z9YSwA8N+pt/\n",
       "jw0PXagyJTcVMkL8dJxyHt7Ri5QTegwH1AOjF5G+UTyNkN1LpkKDPRt2IkLWuY7TabhO7SWVsNbC\n",
       "0DmURAtYiVrSe6EiZTrzxvNDzM3hwMd7PUF4Z0/HEqqvODbwBwFrJbhYs7EPvdt78rpDXKp7XN1H\n",
       "zG3i7rf5dpZpVx7i5xTCnI68kMHZnJuainu2bCZrwHAOh3Njr79/M6utd0bbTervGAGXhJyaQtMe\n",
       "si3UyyoE8rGL+7xhKR5W9IAiTsln+hF8ynO5iWfl+dajI8VvVlTPOcR1wvPBtZBOVMPlWpDcLZQ/\n",
       "Aj1IaoSZYoMrL4D6SCjXJdxceJDWuJ4Q2X5uZcEDsrzfsUZ6jmZlld1Lyu/2GMOFebUNoRvgQC9D\n",
       "T3QQ1FlF114d/nefa70XlFCuU49Pd8sRfBaFtlopTmY7h7hvn325qV6WwPFmZlLZh8atJpm1QmvY\n",
       "mOFli7S7d6adU8C8c12lZHRPbyfaVyCdx6S1K0I+GMN8rU2b/sD80I3PjYwhJqIahmtY4+4PO8hZ\n",
       "UuszO2DpjH+6v+CTvv79XLgorPIJvgKEOjiIX5giL02GU7H+0rpIWc+nztVQ63wU24EvdXKA0/Q4\n",
       "nVK7Ds9/3TZ+1s4l2Od1eLMyDtYPSwZpIzcZLTW8vFKCLxJSTXrR2trFNRYu3VLs2uHqJCQMivuQ\n",
       "1C6R9mKyv28N+LBb2F5zPdSRpPMDkOiMDPJf9yfOr7/dQH4u6tVQvyIVTcMQCIVlJy+0AnArc8pV\n",
       "Tq8Ese+N5Gktp1kbmAyuh1hkZKAejkwoULJl5AgbjeF6m0apAhoRRN9pwq/d2cHOeeHgCG2k9Nsj\n",
       "TJmGBOudmtm9rV0EA2xkfdvXvBtH5vhLUmAJJpshEyicllpbMOB+GZOjgYtuG3d7BYaTIwFNOHVX\n",
       "npIgUdfpNbFqI/tZstJw8eBK63lwJ+2zBZyvswxW4TwSdddv2CM5UpEoeSqNLGdrfkRLxBpFWdQC\n",
       "pLRezxFh2LFmPtZvjHJm9QH6gjQbBMTOEAcgWp/aM9uQn42OI0m6h5xAO1ZSqvhlMhCzcnhtQsGb\n",
       "RzUAtcPzJsblODZM1Pnn1Ccr5UU3835uBTuP2kJacOglEZz/F7J+cby+d7iqJOZN2FIZRZBSoQG6\n",
       "5KJUu2fDJOlU9dUOnAD9UT4UMYPZJ5iDwiU0O9rYR1Bsi7XI64X9gmtSaiIOpIP9P7i/L4HjBHYm\n",
       "NsdWavQNWRH/Y2w/XXj7Za+yfdRSnH08s723ZXZXfOrNYXlPL7pveTHvspxcMcdQXUtmYspatMnc\n",
       "HYtyCt32RsPn+WGfwKFTWaiI5BTV4qj3N4cLSmZiaM820rqQUY6qA0Qbp8otu2QgCvfiy/WNI1Pr\n",
       "wvOxPqU9Aa2bIk7bY+G/vCfg1sNnMomcEJDgG2U4TheFq8CDnHTKj+XG87es8cxUpKrx+f9mUASP\n",
       "BHOmsF3DMT+RUVB4MOdVRKaMk5TaSoRF/UhfuU4xG7TpkZsN/8lKtHA6grFKA/fOPDkCFZfVf8kX\n",
       "BzbrS4hM8V9L+mXLUfmUwIH9pSs6qWm/Fv5uf2cZu8SiZmDMD/aSg3JZThu7uLH+5JHvuJvhorDu\n",
       "awuM3tc4qvghem+7NmiLnYIPvAREIbvIHA1UPJ4wnL+GUFkiiMaOFU77RdUDJeLzTpvge3WPAM74\n",
       "HL/PJEMY140bm1hpo+5uEa0jqo+N92LUWT369MtnuZMTFD4oRZKumQZT9P9nMnyyMslf8wHEmMly\n",
       "qdQAFUR1gcCrSmZIOModSZSkK5+0Ofv8Lfpf0Z6XOvbkJB/4biIVCudy7CtRf3uJzeE9AIVvDTov\n",
       "ODjh0v1zbyfUqDkHM303y7NcJtZ1aSYPSTZDBlv66T3S83coQmkpXmkH7pKhBiuVxTyMadDz2T4U\n",
       "DJaCw9rxdvf+yFtb8BCN6Q1O2TZT+AYxx9z6+Rf5wk3dV5XacURxniLGvfute63pFq/QFteELDhG\n",
       "9gt9Y5i16sAJLfWM5tAO+WOT4Htm0rQKc9SwZp/Nwf8/lc8b4JmOPIayZwdpLDwDufUWx9CB86zM\n",
       "tXm3rR49MOq77orPFmNSwTBRBAG8Cb6/xvLLD95Axo/aM4XaphoQKk6LRkkGgfYCJJVy2JhlN5lU\n",
       "hMOe6wBcAqwaMBxxK6NPUNplATfiXQ+oEVUkxY3VjF+6X/A5bDePbejWdKI7bNEkKa/EmLEwOsys\n",
       "FLNpXgiL0E+cK3nMFjEY3jR/GHZy0+aO75L2s/GsBbmJc/C6KEnZEb2UY8cBKSF1Oizl2cJqmJJP\n",
       "Vob52lQ/8hTQaADRyCMNv+HJ7qTxQBSZrYGZcqMsJUfsRCjpKzLtIYtKkd2ZjuaSOqNdulXIyC0D\n",
       "YjPWb4w8fbj8cVF+neiigkfTvjxr1pzyTLcrPN7tBmSm95IpfpeWhRgNDpc7/Y005yOLNiD7TSCn\n",
       "EbCWmZYZqMZID9lLyRk2KpwScHuNVu/BZfSBenmio0CqkPjbXzshOfeHI87+f+CchLwENN7hKcrD\n",
       "uAc5BvDnrYnYRVKkA3jwQZX0kUy9iq46WqzckSOKBo495jCl7MKFeElnvuYCxiNrily6moY+YUmW\n",
       "bPPZFWkZvRRCWbpplUbFiqlrS8WL8lPmrYkIScWlsIFz5GL0mxLS7+29KfPPdiS8pV3hIlPc8/5c\n",
       "ylVx2QYtKTq8Cz0ddZj6y9GPu6SvCN/KVq0H5kyskKhGULTKn2+vZbGTrcY+17NA9ra1S0vvtoxt\n",
       "1bCRdK9t6fcTsNhaD6EqGaerlrlJC3wVEyX9GVNhp4O7b6JJo3SrqnhGrrwyOeTCK5DgQr/MPhBj\n",
       "iS2cfTs49Mi1iXn7l+G8d2H51ecxzatKRuFlsXh+RWmTw7ycsp5Fd6aZiYaJBhdCXjw+pnAqIBem\n",
       "HWIC+cdwR9xGRaxmpHqgliKBMgda72QMOVzPHfGvrVUK9FD2cfz9vVIhuj5YPRlwo7fic3Z5yTtC\n",
       "usf6j9i5js7I3X2yTXZqa+EP4s6Ku5NKV0aMsLIArEBHL5RGibq6iOjNjhDnG9pN9cBbyopJt730\n",
       "kDCEw2By5VJgQLbCRgKCIUHfmwlNPG6BxsI/NYgvMiWR4R6vykYHFTwynZAuNSroapiBxVtBmMvj\n",
       "iqxoz2sBP+h3uORmI0zMEjRZhufdLdhkI9Al6R+8k02EYx3EaZ+5GzbvsM7jHkeyj10+913uWR6o\n",
       "pR9ntSPS+nXJmA/Fcz24u+hodL/76zHbony6BgPICHUm4Mc/mgJ0ESsuLhxh3yYNMzKLsG0Af0j4\n",
       "cA2Z7MOE1wSOKkJmzzrVUM8RB22gsDRBWEFHNKy2LKseQT0MwtLhX8/2l979kQ/nKq4PZbnRI0HQ\n",
       "lrfHBQW47SdU+2tgHlX09Xr4Srs0ZRZlInZpHRVPv9BOYZdMXGbcDdCwBPvsL8NXczMsnfG0LIKh\n",
       "OgInBZnA+fKetxzdBjgmbS9iNSfJB3Cp8fzoCVuakfmz3FxZeVBGQWeeV1+ZwCpf8mE6MZbntX/P\n",
       "QkYe1QtDznQ/QCrsUsFGxckYuONf5qPjEh1WBPSgNNHTAo/HiyHp4GbKTEJopIn33gJt+uBSL6/G\n",
       "HBdsRFvJu4TgypFyC/7I+I5ZxJ7cUW+8TIdZfffK21b7DDeGqxZOp54/HPYKKRAKdgUtZH6EDWJ4\n",
       "WCRVL+1m5e1R188Bhf5SwLsHcB67rFu+PB9E1KjrDwLNMWzkEMylf/PomV/FpvzQWb9ZqhTiExqQ\n",
       "TrLy/O7706EU2aVW7lalMpB5UihUuEL9SV8UCdq3bortLM4IjcVgvYQP6zR2adZ1Jvz9AB/Br97f\n",
       "f6RncTweJI/6GnlqCxzxV7YTDLMRzmwZbkd/xqcps8F14KWfw91xvhFnMEjloD2uMzk7lYNlmaop\n",
       "vcSnV5xuCH+R1YZhjkjdPyJpgfu+RSWrzZkML6Q1UhzZpUhUvCHIemA+2PtEXjBhDevNu1AlEJY4\n",
       "L4He2qVVRegpwoKhL2yDEpWR0F0Kux5/iBNngKSVsZrIf4M1pTJc7Pj1bLMFW6HnFT2PjQqV8LQ6\n",
       "GsYqRKpSoVlFY/c8UQXErqBYGnSNW6tjKIjk043sndtTDT9tkAwTLVqy/jJfpB6ueBD/+rzyyZg0\n",
       "IW4DRLkK+Mwnu9t/dFRZ/Co5sIsQ9CcxiPvx8ELfsJOjql8V+5soFLWKtwYKhD4Nmh853U0CbS64\n",
       "OfFNcExgy1JKj/ChQIw8UysHwpCNXZMPWe/Xt/dea4RLXImyztgGA3Bfyu+I4BoHDMXZbMVoHBzJ\n",
       "7h1mdLljIU9+1foK+/i0GFy05gMAAefKriJ+6VyglFefBHwQmp5u5xVAF9ziXwt7rPgsJNj3qwQr\n",
       "hIUdiGjlly4aNNd4lkpwbvnWo0DjW5EM1IKlFB3t53ML2wQVwCIVNCyCdfHy5wRnYVptzGjAj5ng\n",
       "Vg/jcawsRixgPy5xPDineFv3R4Y6rJvyZfuILNk4eGJ4UmhEahYo8Uxm7OFOOUJB8LJfAXyZOT4r\n",
       "evYcXw9SouCwcRuI28FhPPSoxmvBqXo5aUbMdN4Rf99SQ6qWud6rHkjGjke0Xe+uew0KapT3eJJ8\n",
       "8/9+roVmMEpWS6HDvnrRL7nLwqnJ4n3WcYGmtfttuDWBGcy2CzKaq5uNnDMvfssxEaOyPztr2xMq\n",
       "WQQwqiyTRYXh9HeGF40XGQm+I0F9wVtxhN/5NdGZnV7h8H/iMeoeDVXOLpH9v8Fz9WSXCa++Ogi/\n",
       "eN3fRZ+21VwbP8uBopWmBj/ZxHOk2fVJfkBfmpHinC4RqsAKkV4TByhoGuqGnwyFjVHwmw0O1YRF\n",
       "tf95CSF/S9PmRxkmgDf2dyt2MtHob1w4VszDowbsx1HnDjhrPWiXFmyPpxQNeKVFaLBgYm2ExCKf\n",
       "xknn861KfY0x/VpAZ/BGKIFwqW6Ac5FzYTNjTy99lO3Vf2Dw2f0ZzE1j0oKs7mUUkpHaX6Z4RsBQ\n",
       "giyL1N6SAgaef+J5Vz1OTj9QMxgNHTK1SHly0v4t1BdG6JVgDQH43UiOMXi+97gXRzU2SGbunK+2\n",
       "nl0mrel1MecDWDIQquEHmdmgqx0qtXNpyMs/BFydGMQgVfwqlKSlOoFMKbNxPsCP9mg45tPgxjTQ\n",
       "BczWjmo1GV32cP6vOb/XsZPqJ9Nv2/YyxUHaEivIWOs59gcEVg2+ZRb1uQL1BBhm40mQnH4x9elg\n",
       "/7WfRbf8tV6mNQzKSKXAnX7Dg3Oq7iapDVXmdwiDvvDUmeVVXkNwEWHv1WlhVhOioSSsFNy1+uqR\n",
       "tAc9KJLiAGk7qNjl588bEj1CO662GIhRYrztEprKQ6HRYMY9FTfFysJyCh/gU14obgUEtZakZK5x\n",
       "yesA5PgPAU0Pvawwi/ghX2jDZqBlrASlnHZZHyuJV2oEPMVg3Xff6HrCtIR4cZaosdhFoAEf7DpL\n",
       "nMPdK09FOGI79CKq9NVHXHnyKEOVRKt0bR4KzIKVZ0q/uC3+DEiRKDgwW9IC+F/OVQB9gxvwyLqx\n",
       "Hsi+nx2BO7qyt9DsF3RyXE7lzQif0MmA2P5ZHzyye2V5IdTjVFHHCxCDV2Ny2XBrA8FkndG6QKYE\n",
       "w0pvwHNMe83ovDGpM3HpZ9qlyJljW/atwP5mSaQanzBGwKiVluZXWXTg+Kke7HgZUibg/MrpMxAM\n",
       "fT6as2f2cLZuXkJY7wC0OfO1l5gTOr5AO8rKiEzhZFX+K2ogQwnxh+dttomw81yxNF5/v3zLDy4P\n",
       "kcw6iFu4h1kjH3AOnzT3IixBNubYQpWOAVV89RzLe0qJRNaK3Ln/Oql31iiiuXZk5iewyJydMav1\n",
       "9vIfmheW1qZu+yN4TMIMZcCkKMnQeulQOObYllWOZ2UiqeS0maTi6kK4dkQze5O3hweIcyTASldV\n",
       "zyE5aJVvWGZOnTnbO5nyIfoRRuTUej7MqqoONMDeTNJ/rG60Pysu2QACDezC7b9zYsCV0yvpxK5k\n",
       "LAm/aeTclieaekxQlySlbygrRWq4hpi1KSMGJ0Hv/snAXf/xzp6NOlBn2zie97HfrA5K58bM6JfH\n",
       "nKk2BOEMITq5bqEz4LT3bX70CVAINqAiY58B6Ye70l5+xV09kEzf2zjZ+ggr8fAE8zVGjwMq5tS8\n",
       "DfAk9V4mROI2IFoO/QJ5AsoDdLbqOAsoO0AifmnswkFWPsc1eEEWCN4WdW4cKNgKH3lKQmWHOb8M\n",
       "F+0dM72nAzsyQ9nYLbD2miRZTRXPvvJ0950TiaAOS6YSl98Z4fsjhR8r4oWkKj4yxe3M5edESDJL\n",
       "K5NqUSfHs4vlYuVZBPbCS9CTWWFf6eKNPTWVDn3b+COtolnOuWlgve18WNqm4W/+U/0Q5x4UWntw\n",
       "2WA5GfC3x6mudYtVaycL/mNXfy6cv9+99wmVuCh6s9hDo8lOs14xgsUkjIsy9XMBI1Fw0eLRwboe\n",
       "tGGd7E2D6rxmjcbHpsXkgY38bz3cfX5s+coDFNazIOnOQDvPgf4UUUbjjCj1bEUY8G221WYWIb6B\n",
       "6823/Sstt7emZJpCJ+MP+5oFkmC0MAoR8qR+4ofmIjxlL8u3G4vzuoWWhEpW4DcHExxv0TWOPznB\n",
       "S5r8EMNSItuvK34LhL//6jeJXRVb99U22C942Tj4/PPSkHL4OHnIQEgrsZX5i4Pkp9BiG5OZXfKF\n",
       "7d0XPdWIuS4YtvLd5AfEYAl9tw3Fke3oSPLz+fnhr1ZuGfmgfM2WVi6fg3gbE4FOxAfjdrSbbrI/\n",
       "egF0HSbMNgErITsEy7a7qaYMhuVjA83/J/179eTG1u1WCuOQsylGQuX7z+hl4YZ+8+pRxMWSg/fo\n",
       "1m4S70q7US8iu4qAgVT+fxbWuQyGOKhLYAxugXuQ/GrAk9YP5cI/YmybNR2YesjkOYv3yPyUNUAd\n",
       "hfdZFlztpvAIanlt7IgfpsYqQj7l5Kep2m9WPML4l09pn+EMfs9OpEe+/2y5SxmU0R+Utc9fLf6L\n",
       "0XIyBA1+AC5lNSveZokEAvPQhb8l5KbL9DPorogoE1t5MkW6WroDm2LE4VrNXqrvRuy1QOmLjOqY\n",
       "5Tr8CTM4xd2elnFxoifxwxTu++UNBFPpxYFyWeQcMe/YQLTW4F+UeW+pZaOjmnZAtsQyHyIwcAG/\n",
       "MQ6z7aqz5b9IeM7o4O5sAAAI309bC3Vr9TaEFYvaTb128KZXVHRvg8+u5YqWxnezPgGAGtqeJ0iT\n",
       "HIbcw0OsBvPrZ60q1aji/x0IMVuJssrs0mA7rdvcuEN4LlL02Az+Er13CpLWllEbLfiZGqW1xvzD\n",
       "oINcpzYcleAoznwTTT+jI8Cs+AMoFfdi7Uzioly5GRQvGRj+gUWDaJRscRM2b8W28V5rgXjjBCwS\n",
       "08uZXGLDWS3HZ0uCqyStvl+S3eGRlBRO+40W/4KpROkvqJVaabzZ91L71PO7SEZh1Aqa8ZfVUD6x\n",
       "tmWSNwH96wKMvR09Z51ysOYEbXbHVfz7l577wtXsju/e7jD/qJX9Y14dApV28Dl+tgjnfv3jje2C\n",
       "XG6wSa1nveYfuTa7P6fMPoLpk95ZgcmUgcm+1Tq3ql829GmmAe0yZb4EizBbMEx6+vUmC8w4YLPE\n",
       "PW/cNnkwzezbUvrwCQglPQw4VAVwai20kcL5dgZQvYz7mLmDrR5SyooytFi7bHqAYENQqavYg05z\n",
       "hMeTtjYm0qJ5VUAjdooGIH9d8UHXOba5VMY8QJWsM9BHNklK0xEIyiE2nyqGYPw4j09kiXqJa6GJ\n",
       "RAx94jsB+hzoOi1RbookljWUR7JdAvOcH1vq3o8yXhCpLW88S3vph/WRLoSS1dfId75fntOhyL8Z\n",
       "R5sWnd982kEVUYQDmWHV3u9bdZf+JL9EJahHhZ8/UkpqxhOupZU4bTZ0Qt1U5KZSHJ5Z4o1/B8zh\n",
       "LP3U3HEkpK6ORXci/jPTn0mhh7cNeiF3o47cnUUpSjwHcMKkq7fqoQ/AnO1US3upEhk8OLNYhq4Z\n",
       "UV/9b08ASOd4tLWU5ofqPT3zmCrrToefPWccsAih6PBm9aaURcNvfgdIzUXAigUzFbt1cpMu2uCg\n",
       "FN3uGI2n6fD4HhjM6LPig9+u1koSzzaWPuTB2m7SeGx05up2/gNViOETVry5ZpMyXt8Z0Oxrs8py\n",
       "vNBEcTCJriE6BqczXRZRwXTwxBi0b+4rv3BGwLj2iwVJj32WKgCQEINkPQQ24LM7CM9R2QKwy+5K\n",
       "MAIVLyRtnydw0BVg0+DyG0FfT7rCLgHPFiqg2AjuVnyfybDjwn6CeLKg49x8HdXC7n+Z/l1qmVoL\n",
       "X8I58okXgltZ8Z79ApuA+6TLZdxPbQ2H3SK70jmcAyhoeEsLByGesWU1c/hbREVMKwS/s3p4dJlx\n",
       "vhlMaNL8EBG4nKRDOv85BfwlVnUQhX23fC5Vlmy25WwhyCpNg30rbBknItfmK+uZfAJY75I4egWe\n",
       "i7ibISdZAXvnefxVwPDTrCAs4hIl0YjHxUIU3z9jZIteoIhnlmvY/tOudr3HPqhTB71CgqfyL5Qg\n",
       "V7bzgdhqf0FijiHncVeGa6Z7N6cgV09PEuNCpVlicNY1rhm86ChUqKav8Ogo0ECdof3RyDX4tP7v\n",
       "60Y6SvgNo7NFbvcRqAMQ+wFABkUN2iwwgXPJam/D0J0Gzq3zAVSr74fhsUzFbmCeiqA4R9ndGgh/\n",
       "rx7r8KzeD+eICAJf5OZxjTkYr0kobiWpHwsF1FuUPK5OzqdcV0NOHAX32r1Ac/1OYd4BD5Wn6Ruh\n",
       "9sWFVkIncU5Gd9ZPX1lnCrsdpF5C76VYvV/2YO2VvaKPTuTBLj2ui51zqEtokQrDJCPZy5m5hQTB\n",
       "JemDG/VTyBUSAoQS0XUoiUVP9j+P8LC6PDA2QsIfNgmYBr/4mL8sDdG/e/5KKe0PUrp8RqY6XxOp\n",
       "cKW2ymbt2n9MUcCUn/n4YJwVHaMwwkz4VjJeNQSAAC0+z4zAAAXnIRAAQ0EAAALBQZokbEL//oyw\n",
       "B3JQRANJCzBOS4FlJEiU2QkB0Amm54HF0A61QQT64Jxw3GvbW4+d/tbqmvHbGzOi4l48D987TD8X\n",
       "xSNESqn2PYbVunwVBWNCuiBiNu4XST/ycu8x6RzcKPPQCwNiOJWWCj0uWyDeCj3noyJWoYGEVlrl\n",
       "ZKwIu67XeQjKZX3qiCwA8CEvK3JrY12xpvk+xwTjCRnMKrostXDC6h0JahOlmsQzMi8UIdQxRNqQ\n",
       "iqqvqzSf1uW4T0MMS1/Nl/cvNJwTev9lDaLAjTdb0Cnmu4gfOjwg15ReSHtWzrsgiMnMvvOeOIZL\n",
       "Ky3JfxSwfap5jGGQkI1n0aeSiokq+7wRjLh/QtkLtuCx4CWYcAbA/HbRufXdybzUtPc8PeL/BA6z\n",
       "JPlx9SOoTn/fQEA/rv+ACSePGMGOkWOjZbsG5v5dRppkWLtrvDbcxq4xbdkUIjOoaJsnGsy9rEhS\n",
       "QPDw4l989OtDuPSIA78jBoXsO6XPaxrjaznMQR91SoVOryWkMboCxzo2kxaY1nMF6uERR4hz+7SX\n",
       "mn0NMFppentehu7XCYHLmB7n9WC7aHsSJYcH/te8hyhroK90F5cVcf5BX+f1V71+jvkv+hkiqPux\n",
       "mK1Y9TKX1X+lR2fT/A+7WX8qnvxaPAMQOtIru3AhEdmGPWfq6CEVAfH1DoE91RyGaS1iNn7gWuew\n",
       "69aV9Ft0oCS8dLK9dVDISa5NEX1yHNueEYWBJ4cyX4DvuPYZjmquF4GRb9HXVyQzndBEwwXX11Tr\n",
       "2AlA4c2hgOoa+8dU8EZCGPoMPlVCTmf1wXNqu4MXtylHNxblrApwtTHXelE1STPHnhzNMZYcb74U\n",
       "PiTAPr4dCVSV0w3Lby0ep2+ReR3c2+fart017EpDkqUO7f4jzyrmCB5FiG8lumGPnR0P8pzqOlTm\n",
       "DfJwNpev6gcVAAM+AAAAU0GeQniEfwKxzT5MkQVkOHOAQ4E9bRgejS2i87FWs/csZidB3RkveYWb\n",
       "5hxJgLOYWmAWP+NZARnTqCTu5AAlnGEsx8CNx5+oL91c6evaOEp8qBWRAAAASgGeYXRH/wXGyVsc\n",
       "cVl6IcPYAAwNsp09BpB7E3EPBDpsZhUvKAnfa3vieJ4+INwACcZoc8lYiEcE3YQkzv4pS5k4RpaI\n",
       "4PVLbgMuAAAAJQGeY2pH/wXHv1ISRdzlYOCZJhcRxWCJIX7fl/eoYGpbd1ht0REAAAB5QZpmSahB\n",
       "aJlMFPDP/p4QFL3fzrekX+fJR7AJQvf7mSSQsDC8b8HjKTANCWPXf+xXd38ReywZOp1Zp4Mwz2Cx\n",
       "CpUgaa3F67dBpSbRkI5dVJI84itRxWvT4nADC/Hb7h/OMou/SrvM/Rb3saeohxt4NiSi3tGrP5gk\n",
       "IQAAADMBnoVqR/8E1PewTmR5Fg4AZiGE6gWYH/6OjvO6o2QnJpWbZBrTgwAONVP3RP42TOyYq4EA\n",
       "AACBQZqKSeEKUmUwIX/+jLAEQRrBEj4KnczoAcp4CgQ5bY3v8YCTcm3zhvyKtkWjWEyW3uHpDNBJ\n",
       "3uB9B/hr2ZlcR5JYX63LxuXN4GdHYjPFqIoD74x6RcvRFz7vTi/T6nRFIjlkOnzYf4eKPnJzSH0D\n",
       "i1WSMXd5pVaFtgTOjjhbwGBfAAAAOEGeqEU0TCP/AxJ4DijvHoExc02MHwoFs978i+8qKu/beGAa\n",
       "z0nUhccdLdAEVdJk2MiBnDmLA6LEAAAAKQGex3RH/wQxj7hfGzqd2E1F6VlR3+p/5cAC1EztGcQJ\n",
       "I+FJP5XaUP0gAAAAGgGeyWpH/wQz6IQlHnP03R4HRC+b1v6kV/m9AAAAfkGazkmoQWiZTAhf//6M\n",
       "sAAA1AWLnxKNABgsUSc+DhbP4pqXnVbmbQOamRvHySioPUcrfKFurNHLJrM8ILVVtAoMQjCWOpFy\n",
       "rmIx9zRznSfq45ShrM0mrlTJRn4RHpSvvuITS5ypPQJsx/MhFF0B+3xQjT8DwZ5zNxdhCll2wgAA\n",
       "AC9BnuxFESwj/wMTuFGDlCrLkK8xDsgBrZrG3Bgid1bxX73eNgBY+o1HY4r7bBIstAAAACQBnwt0\n",
       "R/8EMY+4XWAs03HYygdKUQAEqJ+WS5dtJeiKcU1zyYEAAAAYAZ8Nakf/BDPohCUec/TdHgdAkwvi\n",
       "v8yZAAAAMEGbEEmoQWyZTBRMM//+nhALt0auIA8le/5AHSPuBHISipfqIrPmL+Q3FBXM7am5gQAA\n",
       "ACMBny9qR/8E1PewTmR5aYgClmSitV1Iq5RUM2XCt3ZSAH2oIAAAAJBBmzRJ4QpSZTAhn/6eEAAB\n",
       "m3bjgGr6YePqPiZ3qqIpt0ULw4pIn+XhcvtnRe7n9JLdnbZHPbIX5ljx9jeG/F5EoMOB49eXpH3j\n",
       "d37Ibka3R3IoYxrS5FaDQN8uVAqVlcPm18Gr+O06yWmiHcHkBVbJ9TZR/km08nbLMPSnWez5BJJM\n",
       "PFxrUeplk1AfjaFEXoAAAAA2QZ9SRTRMI/8DEngOKO8ehb2M88ulWuJkiqqJIerO73ui/8ARkOj0\n",
       "HueHRzyjaWB2hMEMRo/FAAAAJgGfcXRH/wQxj7hdYCzTa82RdXvDTSrACWrTdI2bjdF3rKYHsl+A\n",
       "AAAAJAGfc2pH/wQz6IQlHnP02pZRaltzoAW4G6YxghlSr+qxhW8X+AAAAFdBm3hJqEFomUwIZ//+\n",
       "nhAAAZHgLRwBtvOE+4bK7VfEykYGauA0ZC2WF62adzsCkyuJ5tWZBx3PnXA0DHTkbIkDaw7VZpO+\n",
       "eEmNCDwB8NgPS6utmPJLkEEAAAAvQZ+WRREsI/8DE7hRg5Qq4h3WpFMyV4XkQuvtv5o7FgAfh6mX\n",
       "+spK9nHoYDFg6YAAAAAiAZ+1dEf/BDGPuF1gLNMiQA6AE1c6sVOs9YFYqmgGYvZdwQAAABgBn7dq\n",
       "R/8EM+iEJR5z9Mh7sZMp6xX+b0EAAAA6QZu8SahBbJlMCF///oywAAGUhpIACWbnzHkNGQoYfH1O\n",
       "PPh844AuOqVR6yVPA/syJS6AGZR5hNtMcAAAACVBn9pFFSwj/wMTuFGDlCriHdakUzJXheRC6+t6\n",
       "k6IBh0sbjbiBAAAAFQGf+XRH/wQxj7hdYCzTIdoBdyd9uAAAABQBn/tqR/8EM+iEJR5z9HE3gPC0\n",
       "4QAAAEVBm+BJqEFsmUwIX//+jLAAAzzu2wDV9R4syszQ0ComtXfi0u0nFB9LF/aXy937XVZ2NFGv\n",
       "J4qQZE8HHoRYiTHk4FKZ5dkAAAAuQZ4eRRUsI/8DE7hRg5Qq4h3WpFMyV4XkQu4ONAQcALcFbh7D\n",
       "VETyJFJkA2QVEAAAABoBnj10R/8EMY+4XWAs1kF6vl7iWwUAgq/zegAAABkBnj9qR/8EM+iEJR5z\n",
       "9Zz6FHZoeKUA+y7hAAAAV0GaJEmoQWyZTAhf//6MsAADPOzIAWQVGOq9Nw90aUx5zzOIffatcall\n",
       "6WwmGp6IOJg9gv4q4dar5MOQpPsLdwSC7d8ps41tBnIy9FKf1n8WhCR/HA7BNwAAADNBnkJFFSwj\n",
       "/wMTuFGDlCriHdakUzJXheRC7hDkVldGABb6lMO6zh5dwatcCQbSdNCTbKEAAAAeAZ5hdEf/BDGP\n",
       "uF1gLNZrnCzgAWe9kin8hYVLhv2OAAAAFwGeY2pH/wQz6IQlHnP0cTenICJYfaChAAAAOkGaZUmo\n",
       "QWyZTAhn//6eEAADIwye4AWHSP9JJWtcgc3Qp0ZdetsZCoA3W8OuobQW1a2TRgLTekmyrQcAAACA\n",
       "QZqJSeEKUmUwIZ/+nhAAAyO/m4A5h9xfPeLhHMDWLWEZGfi/CziU+Rd75ot+ZtRXYd6XH7igx39z\n",
       "d2xfIztyX0Q5hyqoI2ttZeirL5QoUKqs8kWUbhB8ccagXz4BpY17d/N5qE9YjEHRvs9lXahzvaSg\n",
       "/9tMEkC2yxsFJqM+fdMAAAAwQZ6nRTRMI/8DEngOKO8ehb2M88ulWuJkiqqJIerR69k4AN6JFar+\n",
       "HwZCUnFt21eRAAAAIwGexnRH/wQxj7hdYCzWM9PPiswAH7lJsoF+f+OXSSnxEy7gAAAAJAGeyGpH\n",
       "/wQz6IQlHnP1kOxCjAALUQ9UMFrcbLIZMwIc5Ey7gAAAAHdBms1JqEFomUwIX//+jLAABir2qcA1\n",
       "fRmEDXeKEs4zqrT6FekoAzB73oeogBjbgLMgucXud+/cXjLjR+Nuapu8gYBXRjaQs+RIfVvOybz+\n",
       "1lHcveC4a0immRBtjU6DzW+dNGzWzp53Sm4t7Jtush3Tkhgl/1UDgQAAACZBnutFESwj/wMTuFGD\n",
       "lCriHdakUzJXheRLMKieQMxQOAP4wBYTLQAAACABnwp0R/8EMY+4XWAs3EOWo8gAWpuGl1sz/qJQ\n",
       "hI4tPQAAACMBnwxqR/8EM+iEJR5z9w3RaWAAtwRTUXeWFsW8N+1lsp111QAAAHBBmxFJqEFsmUwI\n",
       "X//+jLAABgHp0AFBtf2d5q1g/qnu5i1Un1c0ZZUDg4dgx0jEtWFqywEC8bSI1Q4nLFgqXc6QoDra\n",
       "BZqJ8lbr/+u2qcb5QATYlOB2hy4rxD1O5Y2Kyrlwk7TdtpG0JLUL+Wt+w+PzAAAAI0GfL0UVLCP/\n",
       "AxO4UYOUKuId1qRTMleF5EtmxwBzMtcClhcRAAAAHwGfTnRH/wQxj7hdYCzbyd7gAE6wIDtbLl2r\n",
       "f/FhOtoAAAAUAZ9Qakf/BDPohCUec/RxN4DwtOAAAABDQZtTSahBbJlMFEwv//6MsAAF3Rxk+AIR\n",
       "6YCw6Co3AAjL3C5Ms8apdHzN1lfj5KGAVJ1vOpxiM5bcWU7IJPt1NeHzJwAAACkBn3JqR/8E1Pew\n",
       "TmR5aYgClmSitV1IuCTvM+0gAfzoj4zjNazIERB1wAAAAGVBm3ZJ4QpSZTAhn/6eEAALni9AAoNu\n",
       "1ZaSf4PqTCS743KSxI/FpB2yLYTWHbCohGdBed4HaK07xxXWY2Au9XPrVwPlQ5ct3r56Fny0XUsh\n",
       "90tnwMYgyYU8apcRg9mozYZIHy89YAAAADBBn5RFNEwj/wMSeA4o7x6FvYzzy6Va4mSLdAfIXIo2\n",
       "o3kACdNX8SihfWYwYi3Xa1MAAAAjAZ+1akf/BDPohCUec/nRdkukACcZ56Eb2x0BaFo1iHsRMu4A\n",
       "AABPQZu6SahBaJlMCGf//p4QAAup6zx2bgBypmIxkC1BltxSdQSBj9FhBwWFYotCcyu40NpTfPeB\n",
       "k7qFmULTbD4ucW8yAGRtpo8rwXQ8omfmfQAAADBBn9hFESwj/wMTuFGDlCriHdakUzJXheSS5nUA\n",
       "FxakUJTCeV5eSZRCAGaUA1ZCJd8AAAAeAZ/3dEf/BDGPuF1gLOdcrAALqL07AvcSY1LYYv0wAAAA\n",
       "HwGf+WpH/wQz6IQlHnP51ysAAnFgQve6ybQhySl09PEAAAA+QZv+SahBbJlMCGf//p4QAAuece4A\n",
       "oNu2AZvQWec3XkTvQ7mciq2lxBGB7vr1Mpx7dO2kjUCWE6vekB458fMAAAAhQZ4cRRUsI/8DE7hR\n",
       "g5Qq4h3WpFMyV4XkklJ8WwYEBBbxAAAAFwGeO3RH/wQxj7hdYCzmuXK8Ur0Cb/m9AAAAGAGePWpH\n",
       "/wQz6IQlHnP5zUvsFbLN+4fZdwAAAEBBmiJJqEFsmUwIZ//+nhAAC1az/cAVXiqKwheEGTtKp81v\n",
       "dVsseIdNqt8gQNo2wfQwuVxfHEVQCw9z7s4cgsz4AAAALEGeQEUVLCP/AxO4UYOUKuId1qRTMleF\n",
       "5I9/6EACcBG1Tsq2Iqy/S10B3whJAAAAFwGef3RH/wQxj7hdYCzmuXK8Ur0Cb/m9AAAAFgGeYWpH\n",
       "/wQz6IQlHnP0cTeA1WK/zJkAAAAyQZpmSahBbJlMCGf//p4QAAtWq0SAEPgD8pFz9bYOQYVe57jV\n",
       "a+ssEvYR7QR5J/Ccj4AAAAAuQZ6ERRUsI/8DE7hRg5Qq4h3WpFMyV4XlHK66hwAAka5cGdHzx3AU\n",
       "dlHrQk2tgQAAABcBnqN0R/8EMY+4XWAs0cN8tSMIm/68gQAAABkBnqVqR/8EM+iEJR5z/1rov9tO\n",
       "IPXnw+03AAAAhUGaqkmoQWyZTAhf//6MsAApMwYXvBgTP3waroQPn0w93oV5qBQN0JkAjVRJUXpX\n",
       "7IU1nWZhjUYvu8XgRvD0CK0NoZnkkyYZVdcPGW0ZNcXmpDpt4RCh0n29DcJOjZ/8vItS8z9xRHSP\n",
       "aDgPVyHX47He3R8ZcZk4mJZ71F/UVPX+3tC4x80AAAAvQZ7IRRUsI/8DE7hRg5Qq4h3WpFMyV4Xl\n",
       "G9F6c4v1MAEIqBv2csFlk9fxsAW8H+AAAAAhAZ7ndEf/BDGPuF1gLOa1VzAAfhVq0ftiJblMkIGY\n",
       "vZdwAAAAJwGe6WpH/wQz6IQlHnP/Wola6hwAdIVdKjjDnoxwEXuLPmeT1D+ZMQAAAF5Bmu5JqEFs\n",
       "mUwIX//+jLAAFlr3mN1xsBO+cG+3kCx0xX76LN1vXGdrc+KaHWe1oFBfIEtatlNRCB0/N4P+lg2F\n",
       "PAwa4VrDgIjnBOiW8v/gQW/y/BBBLVywz0m8aMpoAAAAJ0GfDEUVLCP/AxO4UYOUKuId1qRTMleF\n",
       "5RvUNcljBXLeALW5jcbSQAAAACcBnyt0R/8EMY+4XWAs/Ul45azOHsAHBosBKj+xJK98T2r5NQUV\n",
       "7+kAAAAiAZ8takf/BDPohCUec/9bTGtBQsAB8N3NydEJKdDXSi4X8QAAAExBmzBJqEFsmUwUTC//\n",
       "/oywABXKNKWvQBwDUoRvb0vQe5pTOiI2t7aoWzjieW1eUaJQSoTRuUmph6yvjMX62S07E8rK1Lt+\n",
       "3fg+6HHBAAAALAGfT2pH/wTU97BOZHlpiAKWZKK1XUrQjEq2VgAkXcJaEXEPLnStoCAbMHbAAAAA\n",
       "P0GbU0nhClJlMCGf/p4QACjYkzk5FNCvxCSATDnBFEdUjws0Wk0FaGdBhzC0OY5qOACmgGFSV4qz\n",
       "1oZyx8zVgAAAAChBn3FFNEwj/wMSeA4o7x6FvYzzy6Va4mSM1VuzsDaKXU1ZciCS2cvhAAAAHwGf\n",
       "kmpH/wQz6IQlHnQJlgLokeQACWmcKZschj1yhfwAAABMQZuXSahBaJlMCF///oywABXDyTMgBY+a\n",
       "WFml98Up1QCUDuEb0lbnMFI36JiXrh7cLFrzM7Z+OeBt4/XM7iGym+sF4jgZ+apa8MUdMAAAAC9B\n",
       "n7VFESwj/wMTuFGDlCriHdakUzJXheYZbQIPOSGl/egAfSPRvi7xqm8CQDBBGQAAABwBn9R0R/8E\n",
       "MY+4XWAtJhVVb736sdPz4b5AK/0XAAAAJQGf1mpH/wQz6IQlHnQJlf7Y5zMYABvMpKkrrVvMuSRA\n",
       "VDGomekAAAA+QZvbSahBbJlMCF///oywACqf4z8/LHdCdpgNg9sYAU8+WYNnBNMh1JcFE81BtNKp\n",
       "9jN6Q98Ox3fqrfD4dMEAAAAvQZ/5RRUsI/8DE7hRg5Qq4h3WpFMyV4XmGWR2dpAAOLJCKYdhYFwn\n",
       "wDoC06Hkm3EAAAAYAZ4YdEf/BDGPuF1gLSYVk4RWpaoZV/sPAAAAGgGeGmpH/wQz6IQlHnQJlXoN\n",
       "1u6/aw+K/2HAAAAAPUGaHUmoQWyZTBRMM//+nhAAFP1VTgBYIGe8c7t16UmkfLVTTKdFr6p8he/D\n",
       "WmLR/C+rsSRIsQeOZkQWN6EAAAAnAZ48akf/BNT3sE5keWmIApZkorVdTVCsf/zwAF1EzdVPbOxg\n",
       "REG3AAAARkGaIUnhClJlMCGf/p4QACjYdcvTWr44gn5vHU52ZgxJl6TOEtvW+toEZ4uTHUDfM3KN\n",
       "8SWZok2r3Wt3YaQJrtMmMGlEMCAAAAAyQZ5fRTRMI/8DEngOKO8ehb2M88ulWuJkjJguuTGjowAr\n",
       "k+hf7RTxkjlTPEKOAGQ5lKwAAAAiAZ5+dEf/BDGPuF1gLSHmO7/yABMjn9cFfM6alRolPiJmVQAA\n",
       "ACUBnmBqR/8EM+iEJR50CGYgevoAD3sUqJ8yMiu/bRwbvKfETMqAAAAAQEGaZUmoQWiZTAhf//6M\n",
       "sAAqWO2wV/qGG3ZL1/CAGtAEpxgphlJc+z/T+OGfvWYgjWIOQheem3yAR5ogNx3qSbkAAAAlQZ6D\n",
       "RREsI/8DE7hRg5Qq4h3WpFMyV4XmCrciHAdMMAzigFhLjgAAABUBnqJ0R/8EMY+4XWAs+MrMzFNO\n",
       "v/kAAAAbAZ6kakf/BDPohCUedAkHVqAfPYvPJy8Uli1LAAAAPUGaqUmoQWyZTAhf//6MsAAqbE/0\n",
       "icAUk9OPo+sPtPUiIQ70W91B/Ge9KdgBi3Cs+2n/gb0HLYjq3GTNDukAAAAtQZ7HRRUsI/8DE7hR\n",
       "g5Qq4h3WpFMyV4XmCPAbOMMALCtIgzF3N7OLLXAKoDmhAAAAGgGe5nRH/wQxj7hdYC0mEzxn2jk5\n",
       "XsN3/N6AAAAAGgGe6GpH/wQz6IQlHnQJlYQgOGQ08NCK/zegAAAASUGa7UmoQWyZTAhf//6MsAAq\n",
       "bUlgAPTFLSah2imnxNdTAa7yXJ1fHKs8pqShlccYgSiHjtKPgzROi/IAr7a/qpI6shIP5v0zQ7sA\n",
       "AAAzQZ8LRRUsI/8DE7hRg5Qq4h3WpFMyV4XmGZU0KuNGkgBYAOX3tX+zeXHk6AdBBPnhRMPAAAAA\n",
       "GQGfKnRH/wQxj7hdYC0kJIfYV9XE2SW3/YcAAAAhAZ8sakf/BDPohCUedAj1d++wAIa8zmZqmfXC\n",
       "x6vtYjvxAAAALkGbL0moQWyZTBRML//+jLAAKTl3bAHFE5Xc+6HPiAn3v1PaDJoAkpGACRKzEXEA\n",
       "AAAmAZ9Oakf/BNT3sE5keWmIApZkorVdTRfeIABKM5O12tGMJkA5gR8AAAAyQZtSSeEKUmUwIX/+\n",
       "jLAAKSzb+e3IiwxuwBzD1wJ+aU4wr2GWmehIIWi/+aRjD1wwz4AAAAAnQZ9wRTRMI/8DEngOKO8e\n",
       "hb2M88ulWuJkjv27Vgsvhzrd2ocgQyBgAAAAGAGfkWpH/wQz6IQlHnQIV4wSW6Z9xd/zewAAAERB\n",
       "m5VJqEFomUwIZ//+nhAAKOywbhq4AiQphD55qqEYUbP8XvJUwW0/P41l4f0hQzS33bH0LK3EdiJF\n",
       "CfJAyCcRrnwj4AAAAC5Bn7NFESwj/wMTuFGDlCriHdakUzJXheX4Z14bbowAljZVsOmqPSUpBEAE\n",
       "hBNQAAAAIgGf1GpH/wQz6IQlHnQIaRzAAfzaPJJd1lhh9LRrEPYiZd0AAAA0QZvZSahBbJlMCGf/\n",
       "/p4QACjZsagBx7dqXsJWxtdrD7wfjj84ZnvYIeDjs6VI8hEPjVoxoAAAACRBn/dFFSwj/wMTuFGD\n",
       "lCriHdakUzJXheXs0sUVDJiSUMo3G2EAAAAWAZ4WdEf/BDGPuF1gLR+WSr8mNswCgQAAABQBnhhq\n",
       "R/8EM+iEJR5z9HE3gPC04AAAADFBmh1JqEFsmUwIZ//+nhAAKNjccAQ+M5mRRjKwsrfbo4X2dGf8\n",
       "fVq3T7fBFz8mrRjRAAAAKUGeO0UVLCP/AxO4UYOUKuId1qRTMleF5f/j3ABvf/aSxkBcx4DAZQHR\n",
       "AAAAGQGeWnRH/wQxj7hdYC0fSsqPLKIs8eb/m9EAAAAYAZ5cakf/BDPohCUedAh14PMUpC+K/zeh\n",
       "AAAANEGaQUmoQWyZTAhn//6eEAAo69WSgBw8lmLw6RPnyz+RQwvTP1/Wi1R3KYmA/My7OOBRDAgA\n",
       "AAAkQZ5/RRUsI/8DE7hRg5Qq4h3WpFMyV4Xl+Sqj11KKUleWf7GYAAAAEwGennRH/wQxj7hdYCzR\n",
       "w3vRiakAAAAUAZ6Aakf/BDPohCUec/RxN4DwtOAAAABRQZqFSahBbJlMCF///oywACk47bAFW2xI\n",
       "ojUzhio8DCZYWsBe9zblBMCcjBnjDnzeRIvxK1oZy5Av8Hs4rjOn4Dnvaoxr42cs68hQ70cyZoel\n",
       "AAAAM0Geo0UVLCP/AxO4UYOUKuId1qRTMleF5f2Z1ABxu8d+zz8SWOaydPXJzUxVi63QHqCogAAA\n",
       "ABsBnsJ0R/8EMY+4XWAtbvJWQ1h2w7imDM5OXcEAAAAbAZ7Eakf/BDPohCUedBuYeTLGMVdCC0R4\n",
       "r/N7AAAASkGayUmoQWyZTAhf//6MsAApauyeACub6NyY0d8BKqLOTNlMfc/LnAvPgI8lPM3S1/7Q\n",
       "X96GUE+g8TFGlqRSzyMmy97bK+FBpT/BAAAAM0Ge50UVLCP/AxO4UYOUKuId1qRTMleF5fT6X6gA\n",
       "ugFW9Fkx1y2YaBmbmfAn1UnTQk2tgQAAAB8BnwZ0R/8EMY+4XWAtIewagAna2XAyDPPEzDWo6M34\n",
       "AAAAGwGfCGpH/wQz6IQlHnQIddYPzzgscdma8PtNwAAAAE1BmwxJqEFsmUwIX//+jLAAKUYdnYA5\n",
       "NHfAPB6hH3rrpRM1Vf9xl6e9TVVVYNFhzgJ7voXoQTxm61YDB1N6wFwo70zFSTtfHEr3qpYxIwAA\n",
       "AC1BnypFFSwj/wMTuFGDlCriHdakUzJXheX0nCfsALJRf7tpQ1C3RyTPeAByQsoAAAAZAZ9Lakf/\n",
       "BDPohCUedAh1/xkJa6dGcA+zKgAAAFBBm1BJqEFsmUwIX//+jLAAKlnasATcseiCBeehMaZ/1XYU\n",
       "TtymdkRTrrgu1utqZgV5sLlFJ8YUuqbg7YxJDIuzhgDC0HIWhMoAjdIe1VVZQQAAADJBn25FFSwj\n",
       "/wMTuFGDlCriHdakUzJXheX//6EAC0JlBVKwY6ZbZHcy4xGAZsTamck2ywAAABoBn410R/8EMY+4\n",
       "XWAtJCZMyFuF5bSuwr/dcQAAACIBn49qR/8EM+iEJR50CPH5APcQAJmFoFK4ZdzMYU1hBzWAAAAA\n",
       "WEGblEmoQWyZTAhf//6MsABUsZkADjGB7D2lkJ6pzIvuNJtz4fhrGX09S+E0cULGesAXs+qaYnRV\n",
       "7WKSdWkUCHr9mFZbsdEhlY9/qK2zapC82Hbt4/N9FbAAAAAuQZ+yRRUsI/8DE7hRg5Qq4h3WpFMy\n",
       "V4XtBDm0JQAtbpEM4g5rGl/FyFqgHvCygQAAABcBn9F0R/8EMY+4XWAtJCW7qFK9Am/5vQAAACEB\n",
       "n9NqR/8EM+iEJR50CLgV+bmABZQWS0U8v0xTgRLzl3AAAABMQZvVSahBbJlMCF///oywAFSxmQAR\n",
       "2s8z1VHBd+DyoCnWdAwqfBhjhQ8VVm+f0NhE3bXR0E5SeQvGSOo1fX7utmbxKKhXOe6WlOYPbwAA\n",
       "AERBm/hJ4QpSZTAhn/6eEABWukpkkADrcnbkG78DQo0BgBs/4kr011tS5jlY+kRdOIlomwKE8J+M\n",
       "X227OAw+hVz/I1BDwAAAAClBnhZFNEwj/wMSeA4o7x6FvYzzy6Va4mSh3QH4s0hK6skzgOywp/sN\n",
       "gQAAAB4BnjdqR/8EM+iEJR50HwsaEAAH7bLZDph8n+lpurMAAABNQZo8SahBaJlMCGf//p4QAFaK\n",
       "h3EII2yQACghZgxLxVWxy+7s8UaFXuSpCqwyN7izkzmb62gHcbHNwcRpIiWBGatXy7lqb7+pcefg\n",
       "3oAAAAAyQZ5aRREsI/8DE7hRg5Qq4h3WpFMyV4Xtqs9re4AnaoFSDuyyQ9acmhcl8eidmoBswbEA\n",
       "AAAaAZ55dEf/BDGPuF1gLXydhVn0BMgYKgN/zegAAAAmAZ57akf/BDPohCUedB5v7b6AArDMe6Wg\n",
       "Yylid/ImaH2XJ8J/MmEAAABFQZpgSahBbJlMCGf//p4QAFaIkeEH2AWsC+pVAPUsjrkojUxFg77r\n",
       "UAeb/XbX57X+KUSioE+XNvCqaHu9kRlXknCNUg1ZAAAAJkGenkUVLCP/AxO4UYOUKuId1qRTMleF\n",
       "7YbV8qxBh3UA8taLCXfAAAAAGAGevXRH/wQxj7hdYC17wKza2u1Sg7ahsAAAACEBnr9qR/8EM+iE\n",
       "JR50HzlYABwaFy1fCuqTjdxApxkFruEAAABOQZqkSahBbJlMCF///oywAFbxmQAsgnUpTOrhIMLF\n",
       "ZZSn0bDb4mzVxnXEnooeyNwCaVstN3HSM5oVZOX0lILnknzMDF5oOPCkIQVM0HTAAAAALUGewkUV\n",
       "LCP/AxO4UYOUKuId1qRTMleF7bIKUkAFweqY3NhuusETbsSICuhBwQAAABcBnuF0R/8EMY+4XWAt\n",
       "e6shhFNJ/u/5vQAAABoBnuNqR/8EM+iEJR50HewB0BuosdcTHJy7gQAAAEdBmudJqEFsmUwIZ//+\n",
       "nhAAU/KDgAKCRBxWf9dFmadYevd6DJAVWjvRqNJ/+2IsO0GTW2RRxiPFjOwBOKi7xqkvXl9UFTgm\n",
       "4QAAADJBnwVFFSwj/wMTuFGDlCriHdakUzJXhe03C8AEpxhMwrFI3ei7hNTMiyAQ2JjVkIl6QQAA\n",
       "ABoBnyZqR/8EM+iEJR50HewB0Buos7VL/4fabwAAAFFBmytJqEFsmUwIZ//+nhAAU/J0YA5RvC8+\n",
       "mInwe9z0BjUrFPcAUC1zJL3mzEkp9qcC6x6GJUuUonR5faMUgRJvg0D0dI2xmeOztWH1QXTMgQ8A\n",
       "AAAvQZ9JRRUsI/8DE7hRg5Qq4h3WpFMyV4XtHq/YATSBzOjgAyE+qFxh8/ixMgJCErAAAAAfAZ9o\n",
       "dEf/BDGPuF1gLXc56CAD2JtJ5lxQy+xazF7LuQAAACIBn2pqR/8EM+iEJR50HcvT+MAAsPxGjbBF\n",
       "2my40w5yJl3AAAAAP0Gbb0moQWyZTAhn//6eEAAp+s/3AG3rGNQgNDFcTBO1xem75F6prvDpFRFe\n",
       "CG4nroP79nC69XobPTIpoRBgQAAAADFBn41FFSwj/wMTuFGDlCriHdakUzJXheYXs8Vxw0AK7EHB\n",
       "rYduEZIRM4AvxqwI0Xw3AAAAGgGfrHRH/wQxj7hdYC0mE2FoAnmMSi8u3/YdAAAAGQGfrmpH/wQz\n",
       "6IQlHnQJleDhFUsW++H2m4EAAAA/QZuzSahBbJlMCGf//p4QACtb7qu6Y50AN6gy4tTDnvF3SRaR\n",
       "K3xv/dAGmWJtrwTcXyCVJcv1lWVfl0s2fhvQAAAALEGf0UUVLCP/AxO4UYOUKuId1qRTMleF5hmq\n",
       "FuwALADzyubM+GMjz5bAhgMKAAAAGQGf8HRH/wQxj7hdYC0lc7LYEcnK+Ftty7kAAAAaAZ/yakf/\n",
       "BDPohCUedAlRsR/ooKlMJwas3oAAAABNQZv3SahBbJlMCGf//p4QACtb63QxBoXAHFG1Mo38G3r9\n",
       "75TCH1aGKrt5MNVX4IuFjjEqyW5wMuAq1P9oLKXyyTRKRCcHRTkd+6UQXcAAAAA2QZ4VRRUsI/8D\n",
       "E7hRg5Qq4h3WpFMyV4XmGUHEWoAQ6S72roR3vO1pXzjzjYXbqR2radAB6tmBAAAAIAGeNHRH/wQx\n",
       "j7hdYC0mumYAGxLq+4z7WSRSLC1sQf0gAAAAGgGeNmpH/wQz6IQlHnQJfZAOAFRCxsTwA+03AAAA\n",
       "UUGaO0moQWyZTAhf//6MsABW8u7YA5Ro+iM98LwYDLgOixBFyA4DbwgucYD0CTsw+7f0L788IdQc\n",
       "bxiY7PNPkKMpQvF5rzw8CVmMtivhqEES8QAAAC9BnllFFSwj/wMTuFGDlCriHdakUzJXhe2ELWK2\n",
       "+mQBAvz+FsVEZQaweKtmAcEJGAAAABwBnnh0R/8EMY+4XWAtgMMovjoO/SZM0nycnLuBAAAAHQGe\n",
       "empH/wQz6IQlHnQgCiVM5qoFkXH9i6vD7I6AAAAASEGaf0moQWyZTAhf//6MsABXXQ5EIA6E22Kb\n",
       "NVQPmiJstRpYrzyz0fl8/sc+gYr08OIeOBvEZfJr54975JZb5Qwyzc/9hDBiwQAAADRBnp1FFSwj\n",
       "/wMTuFGDlCriHdakUzJXhe3PNjABwGtWgvJSkylOd6MvwxKyLIBDYmNRL+xnAAAAFwGevHRH/wQx\n",
       "j7hdYCzRw3y1Iwib/ryAAAAAHwGevmpH/wQz6IQlHnQe8YTAAt8vHJkyAQ1KnT+Q3wgAAAA5QZqh\n",
       "SahBbJlMFEwz//6eEABWHUk28sgo4A5gAHkug3pxo3eyyPfHyYQ07Q+gcTZOSsFZnKzKIF3BAAAA\n",
       "KAGewGpH/wTU97BOZHlpiAKWZKK1XWD7oAL1xz4s6h7YV0CE1PD7Q0AAAABUQZrFSeEKUmUwIZ/+\n",
       "nhAAVom57LAEe78m4rieoEbCoTGDhroySXXYj04gizt+kF13A8lQ0yRawvrbjwCAb6q4+xj+9vh6\n",
       "jccbSjbnXBL+rqXn4N6BAAAALkGe40U0TCP/AxJ4DijvHoW9jPPLpVriZKO8yo/tcAISBTyHIki7\n",
       "1rg3P2jMO18AAAAkAZ8CdEf/BDGPuF1gLXns5BaAAnSfsfLyEw8Rycs/nAzF7LuBAAAAFgGfBGpH\n",
       "/wQz6IQlHnP0cTeA1WK/zJkAAABPQZsJSahBaJlMCGf//p4QAFP1VTgBXODcwTJk3lwRk8buWOuF\n",
       "gBEu9N3E19FzpGb67oCvPNtCIvi8Bv56WJ68WLey8LFTRPCgVoj2vzgm4QAAADdBnydFESwj/wMT\n",
       "uFGDlCriHdakUzJYxl844r8GmgAugcbBd6Di0vOD4xP8Zh7crUB6y84tCTbDAAAAGAGfRnRH/wQx\n",
       "j7hdYC13KyGoVqWqGVf7DgAAABkBn0hqR/8EM+iEJR50R1dF8tu62FOfw+03AAAAUUGbTUmoQWyZ\n",
       "TAhf//6MsABUnJLk6G8AGoj39tYaC38vVRdYlrDIbzv9HrkHqs7doKk3LPZznRf3zFrK/KqRsIGL\n",
       "oiMWxYcWTbIPfmLKzFB3QQAAACdBn2tFFSwj/wMTuFGDlCriHdakUzJYw/wS7AFBep9cANayuAXg\n",
       "K+AAAAAcAZ+KdEf/BDGPuF1gLhxUNuT49uk2wQ985V/ouAAAABwBn4xqR/8EM+iEJR50R1dE1wYx\n",
       "NdX9OHaDk5dxAAAALkGbkEmoQWyZTAhn//6eEACo+795WfKcdgCPaR19L2rBaJ3sdoRbvG4GiI5I\n",
       "CHkAAAAnQZ+uRRUsI/8DE7hRg5Qq4h3WpFMyWMP8EuwA/DqlQ+EDdmwIyDphAAAAGQGfz2pH/wQz\n",
       "6IQlHnRHV0Xy27loZBX+b0AAAAA0QZvUSahBbJlMCGf//p4QAKj7v3o3rYAcYxkRkHAI0tR4nCrx\n",
       "ivSgfW2VyplRVVWxy3QEPAAAAC1Bn/JFFSwj/wMTuFGDlCriHdakUzJYw/wS7ACSVrvpoMALa6BM\n",
       "tAhb16AzQVMAAAAZAZ4RdEf/BDGPuF1gLhnKrpPW4chV7rFm9AAAABkBnhNqR/8EM+iEJR50RkXj\n",
       "jtb48Et5Fm9AAAAAQ0GaGEmoQWyZTAhn//6eEABT80HgCt+o11WK4bMn5e3SCR8j31LF+tmtk0rO\n",
       "N84yU2akfZyI/P76Px73/LTKQdiwb0EAAAAoQZ42RRUsI/8DE7hRg5Qq4h3WpFMyWMBFFAj/oZsz\n",
       "lrXwp4QHsKh4zAAAABgBnlV0R/8EMY+4XWAuHFdMhDXne9SGBxcAAAAXAZ5Xakf/BDPohCUedEdX\n",
       "wyEHCyZBA/EAAAA1QZpcSahBbJlMCF///oywAFSzvqgC7Qp2ydKgBrD9UgKMhDomvsSJgsCT8xlZ\n",
       "pCpsgmHwJGAAAAAlQZ56RRUsI/8DE7hRg5Qq4h3WpFMyWMRYIwkzuP1A8btcBOQ04QAAABgBnpl0\n",
       "R/8EMY+4XWAuHFdMhDXne9SGBxYAAAAZAZ6bakf/BDPohCUedEdVb/CuGu8wfkL6iwAAADtBmoBJ\n",
       "qEFsmUwIX//+jLAAUskdXIAge8a5csPj3ORMvoAUYdmZcjkygJi1eGGZ00m4GHNSA0CrGcMGfQAA\n",
       "ACVBnr5FFSwj/wMTuFGDlCriHdakUzJYxE4OqbLs7nIGPf5gM0GNAAAAIAGe3XRH/wQxj7hdYC4c\n",
       "ThLfyQAE7CVKiJxmWkNZzvTAAAAAGgGe32pH/wQz6IQlHnRHVW83udLoyhBojePTAAAAVUGawkmo\n",
       "QWyZTBRML//+jLAApe+PlCGYLRajHrGxhuxY6f3SDpzLIdGtvWkGddwPX1QN6orZPheV/mtQuFb4\n",
       "jpfiqNH0wGwSHDnz0YQDiFQ1pQ7GCRgAAAArAZ7hakf/BNT3sE5keWmIApZkori3u4yZ6v/zMAEq\n",
       "kWLlRxeUCXbzIENDJwAAAEtBmuVJ4QpSZTAhn/6eEACoBAXSTrwWkiOYCd9KQA/828k7Qz0ktklM\n",
       "Xn0zDKPaCruijhNWZ7rQbRjHVOwsy74FjZ4A6vIhCSDYowIAAAAnQZ8DRTRMI/8DEngOKO8ehb2M\n",
       "88ulWuju632K1mYCNZkx+FbCrDD5AAAAIQGfJGpH/wQz6IQlHnRHVjQgABxdG41x/+/u5sGaNRwI\n",
       "fQAAAEpBmylJqEFomUwIZ//+nhAAp9WyWYcBQzgFaPdx6J8saKDd5z76zuIAvEqQq/mStf0CAoef\n",
       "k8awx7nqLIDgAo8H1P8lUbTP3hwQ8QAAACNBn0dFESwj/wMTuFGDlCriHdakUzJYyUjboeB6iZ4I\n",
       "gFdDGwAAABsBn2Z0R/8EMY+4XWAuHi//XOjK9qYJTWwLx4AAAAAVAZ9oakf/BDPohCUedAol4NgU\n",
       "pO9tAAAAMUGbbUmoQWyZTAhn//6eEABT849wAqWiigkBfLpuOyc3GxU7Jw6dAG6gkgXj70/FgYEA\n",
       "AAAjQZ+LRRUsI/8DE7hRg5Qq4h3WpFMyV4XuLCtjwWAPkAqgXEAAAAAYAZ+qdEf/BDGPuF1gLXcs\n",
       "Ny3/X8fYsESsAAAAFQGfrGpH/wQz6IQlHnQKJeDYFKTvbQAAACFBm7FJqEFsmUwIZ//+nhAAU/OZ\n",
       "SAFaBtflS9CevBU4JuEAAAAhQZ/PRRUsI/8DE7hRg5Qq4h3WpFMyV4XuKMnGPROQIiEhAAAAFQGf\n",
       "7nRH/wQxj7hdYC0oVZNgU06/+AAAABUBn/BqR/8EM+iEJR50CiXg2BSk720AAAAxQZv1SahBbJlM\n",
       "CF///oywAFS1pIAB0j04eW3Vm83vMdOpZg22hFdjXAxVDpJAV0DpgQAAACNBnhNFFSwj/wMTuFGD\n",
       "lCriHdakUzJXhe4sHovBYCJ8CUhWwAAAABUBnjJ0R/8EMY+4XWAtKFWTYFNOv/gAAAAVAZ40akf/\n",
       "BDPohCUedAol4NgUpO9tAAAAE0GaOUmoQWyZTAhf//6MsAAAB1QAAAAhQZ5XRRUsI/8DE7hRg5Qq\n",
       "4h3WpFMyV4XuKMnGPROQIiEhAAAAFQGednRH/wQxj7hdYC0oVZNgU06/+QAAABUBnnhqR/8EM+iE\n",
       "JR50CiXg2BSk720AAEJBZYiCAA7//vdOvwKbRZdqA5JXCvbKpCZZuVJrAfKmAAADAAARsIY/zxd2\n",
       "GYDzCPX/lO91U0wtDhh1s4jiATQdypMqMC4Ky6PniL7XFCRzWCVeoLm8wRPmI+dnULuvwAAfDGtZ\n",
       "Ewo3X04ULt3LqULXwuPv+Hry1dK6I36DqoJE2ZKIyeUIV0JIArVrazCp4EeHCUBw08zbJGF9smXv\n",
       "ep5FsqJx0hNfo1vNV7lU1KkdvnZXVsjWXLc4oysA4I6/bzCXzW6pnfGC+h/5ufbnnb9tfv0K4/qH\n",
       "qLzYpQ/P2PkZr3pWGFXSZXy2fYouWCDb+5+fcoAHOgBdphLJy391q8uP4ydyxaFdGQ33HWNVLPAv\n",
       "/a+Ab6NwxZiX9gWRJLIOHq9vfkPYJWwoVkEkiy4WCzfRaEYCzL3ajUr2xpj53FcaS6JF2Qg9nxSC\n",
       "xbfB8+qFdRT7UeaYl1Ty/oc74w9/hZrow02YdBavl9EEH+Phz0sHof9HCo5FlJHnByWhTzPlVYvx\n",
       "5VKPN3+LijYKDuCJk9rzIdKqsd6Gw6QXgm6EwWsDKKTLbhBZgnplBxxXfrkle8dnJHL8iPWPPdEI\n",
       "uCvsVj51IdsTwOoILO063f3Hi0Xgeq76n1XrFtuNenBR7pvn3OB/vtm2RnDfvpjj2yiP3pbpmBQg\n",
       "7MUECjeA0w8ckrYyM/Dspm2IMudRBYOr6qxBsNiY7wFck3mKfnoggMr0AkAQhYEixyB7tGJYeqRf\n",
       "sAD7R1u7pLZ4LDixhLrA8lzlIGZx8GGtGveIYBhcwiM0hS01mkEBoVh4BOH+9HAdvbD8N7S7oiML\n",
       "uTSngLp/GzV1C3a2IHx9HC51qKvwzqU7MPN5OufvCKhghvZ9LqVVfHz8qN1RMtkWCfjzaO7EsURt\n",
       "1OjhsNkRzmu+YZfD+4nwtm7TramOO2T2Lj08vEKWFqauqZe7pCycTGABQm7Bh0XuUonykltOJIjm\n",
       "fLIaXr2xbigseQCWzOk9uIQ1z/Cn8y3CSB+KR7SwLSF5Mpo6o5nuPwUJC6QwejJjHcqo0BvWc7sW\n",
       "qLXfOWC/lVanQAAuuvBuuV3qpP7mVRVloXBpUh3XYdeOqfsxdTp2hTtPc25PBZFO/NLdEGFq6DKn\n",
       "KNZBjmdv3GOqcxKqABQ+Cz9OzarQf5TFa1X4GLyr/QQ4RL2gxI96QFFgcMtKy3PzTc2OoTwOFCIP\n",
       "Qc4XHlG4jeT6U2i7AwtMusO0P4Uc3ZzoFKxkn7cA4UDfEDgaXkRgz87CppqzA2Oop04ohrcSg/Ry\n",
       "yD1kOpnndv+NsKIMKwhAWvJDMLnn68ZD7z+W3cZvw6//32+WAPX9SogUA2V3cq5p0/9oNmmoAOhO\n",
       "70jglW90CJyLzLIYIfVXFpm/4y4ZeEf8Mpp8Dnk+RT09RcQoLl26zaGw9RGQvyCqms8O7eNjKQCt\n",
       "BEBGHGCt+o5ONPPbX44WVxHXQPbdsMoc+0YIivjf9w/gCFpfdo+UpygGegjZht/4XRKQVVH+tIuc\n",
       "nB1n+RRXi22YWhh7Z2+fWQiwWtUSFvKtWmYqbUa5/OOyAjm5J636oGQRhxIzFPFWwifPKHmk0nY7\n",
       "EB9rAV5/BddlwRIGQycEm78UIQ6Fk8YYLzTkIn/baINfiAHbOLdx01sfxWLDXPCxn+gQ7WnsChNa\n",
       "szZKeW8w8FG1P7x3c9LLMAlnyvDB/5w+eMxWvQVFTIHSqTwR+jimUb/IhX0he7jI+nHS7LgNmA+0\n",
       "tV4PQZX3QsM/V/ok5E5iaMmAgyFIB9QBB8ZRevZaeSkDfGQLjtF7jKmtfwRlWOCtHide3OWXC5bu\n",
       "cBBl+u2xQNr25we0P83MqywrMMO2YpJc9aq6wGX2n5ENtfViI2gkt68AI1SvolQRl8NZ+w7j4nJx\n",
       "03yFSTsEDJG1eLcZmSdCd1zENGRFWB8AhiI0JVI3Ap+Eu44fGRDnu2h7710wUprIVUl5mYuExtZH\n",
       "FdUQYIuQDMBooEnU4X+Z9bi1QZ7ImRvg4VKpEo04vRIgtD70WjJ93RSengDaIS9lR2V1Ra83LXwp\n",
       "T5cY1PzmGQaY+3TjeBY8qBJIfwktWmk3r4g4Cw5AShba9InllUnWsmfwkeufClAXKVg93HsTK78u\n",
       "ZrE/w+atEVQu9NtGqwvlCXpO/zT0PiZnBcZEgifROKRpHlImxjcmXyEsv97yksYD3dspxc7iajK7\n",
       "XsRrp/Af91jIaTM9tmc8cjjJ9DX2vOIsZZ0FO9LKl4O8a52RmgPf0u1j7Au5Z0d2rhrXcZwfH1HR\n",
       "2ZEfkaNSvxv6/iDL3ldhYyAG47RLRAXRYHBeR/bl9uHRPf6yxNV+1ybVK0CylQ4QDiIDdDzCv5NS\n",
       "WDmgwE9JzUkU11X4DPHTPBZnP3Xfh2KDvFexBwEDQlT+wZjV4ZHBBGRsdWy0wP5rssclvuHiB3B1\n",
       "vi8V6SQGDNqJyZ6FBZIo0z0XbiapQcNx202GYYVc2kLAsD+CaDUSsB0hcatHNN6Ggub075nU+yOR\n",
       "EB+Wm3J30syphZJ/22MneJcykKVSqPliZLzXtzP70vvYuMwtWAOoJJSSkHLDULenPKfBk61pWsqO\n",
       "PNPj1alrzW9Uaeb6lI1Vmjw4j76bXv8NMk8/mUYmteJ5AA3AYcWgiqKjC4RlHRkYTZwIfZVnqO1S\n",
       "RChEp1L3jAIQWVJuXjPXYU5OvwF+ou2SF+Ar/Cz3wE9j6bZBq/bg5dThltY3p+izEohfFTsnQre4\n",
       "GqG9XmwaE8qGmYZkqSQDvJ+sD7kGYD46fc+i0C6iLrx+IxuMRX1K7e7WxoDAnNYSrPvO2lxUCFKd\n",
       "H/uIbDge4WH6Je3M1m4TmoAJaIFYvYyRbiknX9kjOtrTnnX9/8U89vFq3OT/nlAG7trAr7LcA9+C\n",
       "igvZ6m9Vv9CAY+xyGYUN+hLzxF4br6XzaiIM/lL5G/lO3Djr1WRLDoN8U+BdPvybCwDN0EbY7Kp2\n",
       "bkUGLgEKzUBsgprTQ0wFRHsVXGu4dFgXo5jupWgyky+GwW6mYtU9fDvf0eFV0BdKn9/BISAY1fVd\n",
       "tYLFfeXGWCM06oxHKehpuCDHwgRwVkNFFvVTIyqoX0Lj0s3Rj1yFVj1JvmsXg7nDVyl2f2sRGpBo\n",
       "yEhnHIIunWd6cvEcRCm8bzIli/WsWlYlZ8uncC8qw8rx83iNRcc9mstHsYm4kSx0LayHpmauB2L1\n",
       "iZTgPuHWEAKkQUC+o1mDk+SXjzXkEmr46BYkXYS7hfh5oOTpDaOdeB61xsY3DgzWhxdY3PGsueWY\n",
       "KylrTK5355CUzmzp1+l2ay484mxDPoRBYlNewuamctzNt4L05E3xzLiRcJE9rkqAWqQ73BuLEhfN\n",
       "66AqvT63dDfdhCVo5TzgmzDSPcUuuP2847PNrQIQD2O4IJUVZ1ykiGox7BHgJjAXdwunmGgb6iJE\n",
       "jcqsG1CvkCYoxcfDqRyZvSLDbgOr+z+3so/xSGRXwQNDvViu8ZHAFALzKk0YQV/Rz2W+M7Dw1hkt\n",
       "xww5Cb9d4Eq9C4EgqrPgaC9devHmDf5tM/O81eNkfLMHZfZ4iebu9NcxwWx3Df1b+QQIysVfnkKC\n",
       "vwZAfVN4wnrIzOilQh2LvbbOAJhvoNJ4chN3xpEPdfEAwRs2q9tdZdPEde1BZdpFQxigpf5zXzJ9\n",
       "BmL+wAaWB9JG5PiEo0GcBKCTVDGCWGimgeCeiv/13PlTM+Gx1qOdvDP7tl3pbdXOp8Xuvv5G0A0Y\n",
       "eNtWXR+p8ke/eRahuNma7EgzlqPCtebS19TZJu2niCnbRdYs+qsPYJjG2ebnw6XauViWV8gz0Rdn\n",
       "qJQROAs4eVTMH121BbB/sjp0R65Q8K2CuxiEcmKOwW5G+ufwJn1vhKMOBO2TpNbIv7gplcxLrJhV\n",
       "MwCgqrbswTqjU1KwnczgumWo3ehovFQ6MxpEeUx/ygqczz3dFaEqHeALPG3AVYbXpI1PZpRrwasq\n",
       "AQb+wExXl3TeLAd77J0gcrnUUOw9AB4wIiuB/TFVht9sR6qJP6RljWQO0C//xRxKf8mpZW44mRe0\n",
       "g/qFkWVF5t0V1ha+MxyKgtUym0C+MlPO1GanQeEBYuO0WjJjAs5c9Cuy5FtlQKkZP5uezNefbR6k\n",
       "35CoCMOTPMpwKjDMHwpU2TuKnvx767dnULcSGbNEk0GVdwT1IXzrLGQdkqIPCYXbPKQ8popembXI\n",
       "dWtMm5YTrND+qWLEBdCZjgLP4OqDcRQNxGGeh2XXkP/Xazhtk3yuE0DEQVGURYMyBop08ZS25jAW\n",
       "T/T+boTRuu4C3FX0AYmcuW5xJ85AJ+V8sXh/xCJnGY5ggsjYZgv7Y8pPVQEZyPSl8ta2aAXNRLAc\n",
       "voMV52I5bm3ZFX/pHkgjPIwi3dfT79iNhfdbLBsvEMq2KLw1xOcA9kTPVXi1znwz8PLLrW6mwzPx\n",
       "8nSPmqnB0ejayxwRmC1foGA7mLcaEwWtYWWbSdl81RWd9zFWZf/T8tspXQYaj4d3ujxJX096N7k4\n",
       "votqK5NqBBXkZEnRBPFHHEd6KapydRUDYbt4LnY/kAT6ZQ+Egf6dS8UFrlw9pdRZfWDvf5QBRlbG\n",
       "Ps680HBp+UZ6iZZRuKdBTEh8WpfXs5jhNsaoz6AfKmscnDnzjMWpdRYu1m3FyOOoFQuWzzJehWIb\n",
       "fMEs1d57QyG1LU4y29fJdhNRbkDbIQawGYagKELjbK6nWwzW8eZ+3dGiqAsa6iJIWV6FIAWVxN3h\n",
       "TakNZKE8hAPECd6XQMSFARfN6wbCLqPqLWlPDZtSPfl6yQNEM3vW45qTKntFka5s5c4uWBYHIZvF\n",
       "GctEcVvJKZLdfACDplxKhOvJav3LyW6K6DSHHFat5Qq9EGO7kxvsTTs/aUz05zECQNaWZNu2m8Kq\n",
       "UQ3B6levt4viVsGe0otjC7U2/lAKmhrGSvlcprnywF4/aWhg3XHF+Y8nkLWyyzE60mnQO2guY2Hp\n",
       "x5IjJWNyMtyFtXiJhanpkiT0upgkq/WmPrX8vGtHfZCSVU8m74a1ao2ZeENg14I2rOte3kjDnNWo\n",
       "clyGxKUhhJM1IVjUXtm5aoyIP7RM4ECrA9AtMKzMsw3afQPAsFr3GWYOSpvE+WUfzfG1xQTP5m9o\n",
       "V1UWd07vzPdVls+JwW1QRsuYvGB118JqCju4pbXd0sNZWGTQ/7Vm310ayCqlaluWhHpD1pGAJbwR\n",
       "3XKhheva3GxcUcNowQ+ilKfmX58wBOaZI2I/0Gglu+yo11i2NrEeaG1FFZBFmTXqvWbqRvtnnSSO\n",
       "h4OEGpwI6QyCNB4n4GM9PR52Cakav3hyCDiVKfdku+ca2UDFlG4KrLQT2CukKds2H9WreyJp8DdB\n",
       "Ivan9w9xVkBqRZeBJqnUU8p0ztm/OeNBamE01eiCZs1MjLEvjI0rB9+5WQXaUTIBTb1Bsk4rN6qY\n",
       "PlZ+tmHhFqB1W+uiQA2ggF0zk4/HlP1+2t3ERVnS8sLUcw9+uRqXwHcJTFQc9c1p7RXDvYexQmEU\n",
       "4gQ6jcrMGtyEKhQea5m/iEF6k2motx2BSa7I06xxN5aq7wPun62f1G8McfF9rD0mn/oUfirK5JA3\n",
       "kK38gsira5g25Hr6jbb52tvIAGSF0O463anj3pmz1c6uvYOXgwM5DQxTHtb4YgPkBrbJUQncu3Vm\n",
       "FQW/HAzjOGXtOHlDMIJ+vDqugY0Ie/VkU6mcPN13FV1tTc85ZsY4c3sA4KjecM2kq6oFgHbQ9IuW\n",
       "vdUCo3OvOxLCUJCAh55suyNOZbKd7WJ08IC9xScDvGZLwh2lLhDepqU+u1k+MJ7xwnpJDa7XYZIe\n",
       "vsnIMTZ7GckLTyoAHigFallphFYXGSpp0OP1MNLhJRMJnfY8nw5r11Ys63G7K4vAbtb0YWLrQ4/x\n",
       "3NkauUIk2Lu7k4EdQQbtaabocQIsJOHgA+pY1ItYXzSOP5YmJi14gfyNJKoiWC4ykmxaQ1S9Bna5\n",
       "4ztY8/05SELuy0an2K6opWzClUPIH6tJJhXyRh/pBt+oafljQRZTYWKq+iaJ7pvEkbUrmosMKPE0\n",
       "+r+TDsCFO3SrkKs3aSnauQEA7PEKweNvJ1nzCDksFM7dPdU/inc4nnL3xYwyTCIHLZfnQMmXmSI7\n",
       "nKBusnb4tXmPPQuCTjtsq5JyJ235PxjUAlspdbHPK597g/d+KIkA6sdxSy6gfHRW1uOfGwTlUIzA\n",
       "0Y35uXzwLYhPKCLOva5RCh78U+4YVNZHWTOX1PvpCRN9nqFn1YflTY5GbUdmt1lzPMc/1tpM5L5b\n",
       "0wYLPuyY/m7dZL6R51nkXih1QfLw5cVUCuh8CJrBgm97RSeiCk8/McQhnxDo6SwuoD7XT7Z2FaZt\n",
       "OQ/SB1LBGVPndLqYpizTnVDZ6xD9ffqyprLzpB2VSGZ2WGrEhTMzI6bqrbbqQGqQnOlDa9nuNpIw\n",
       "Xufpq/cO/Cu/FxuMT+8NZh2sA5bzRix+dArGS+TRFZ83aAMM2n6WIZdahyY8bq4BpyzzLpSfQfZI\n",
       "s6EHXbgNyTisj+l0MBm3AB75tju9tB1in8dbT/RrxF+5kQDa/zB1dRGEfYLhuc/Sq66aTj1Qbv/p\n",
       "/bfjMsLttGg8IiKfTB/XHUXrAuYs1dpsyNTTW/yy19os5CXq5KfMw9wQwR1MFPeEaPWFV2Ash4el\n",
       "YhZbsaxq6ZmVMWnP3Q9+IjnQAVZUQRg/AI0kIcWy9RpQMZaulKYJBbARquUeQLUFc5tO8kQF+73z\n",
       "nl1VDsD1/W2u+amT8hAUj0DNtKAQV5KYk9tqAZhD7ZqE8ADTwPob4RDpA5dSFYu0Qi9tiPSTb2Wd\n",
       "2LAZg4zTATz44qRcpcNMfUH2ScY6ViXVkBERc0/+k4cyqh4wgukmac8swcYBM8L92PL9uSI4Fw90\n",
       "cVTKAMGLQbZ6TELDg6yB/nlbVfDmfEyC2xr+2W3g8FyimoFsKjv0SWLzb+1ZGuLIid90ap7eLzyw\n",
       "DIYoxy2meKJzeiflm04Hu9/LRHFiqNYd6toorXdDsleTchh4AXMrRfTH5epN3sIXtu9Gjyift1tK\n",
       "jY1OqXzK+h7/tlv7KUM9zI/g5HwhPpdmxeEqEBJYcEj3VoMtkM9v5tmDwI1fr33sdzklMMbDXesB\n",
       "T+hRrRDaIfRQg6EuUV/gxIBFl7sIO/YQ/3cVMdtQLSFxhzz6Y0sNEjxtFXIIdI/Ho7kTP4ffABko\n",
       "SgdPsQCWxofPM2Wf5tP0jAqKeYou4YyrgTrjJi2YhvWGZc1Ac4UMtl9rVzluLbp4JXrTnUhcCEX8\n",
       "R9GJo3R+lgW9kZYR9WTlRK7SWgtkV6KB7yM4eDENstKIkFjSsySpN/bcq0Q1OSESaHynCKzT1blo\n",
       "N1OAuSrNUh3rYWUrUD7OE7hSNY5UZcgHD2qpk7t1tZjvpnAhZSaYmBDVgxpRPSeZHFXXWEOxXWoa\n",
       "0ijJmkVFLFpWdxjhenph2MIL4mbFNmq9AHxEoGLnOyLd2SpblDSwBVSnxtPpkhRFStxhhHiOlUsq\n",
       "XixUG58Gn1y90dJkwWLSsGG6/vwANN3olZb5b3OLHXbZKlDu+CunKNkLKH6T7FWwXSbZJ1vMzXYQ\n",
       "jxETz41MdIpC6i8MkSGIcQ7/9CTSccoJ8I4A+29Ay+AGEpsLPD5Jze1q/g905elLkGlp7bPRg51G\n",
       "GnOlHL+FGkNRPB1ra57b7ReKxutwk0Gyx+UICrWOZE8lax4x5Cpam751zINPHmhzwbAtiZiC7Kvg\n",
       "Dw5gXTIj8SlkFVg/4sS7H0IJ2bCszSki6s3neNaegGqu5bdOCUw2EugMHOwu/epaSbvJNbMX130I\n",
       "/D4PdhehVsCDdW7s6xJ9PNILOYNjCjh6ls9OGmhRaUHwkWgznvTyfVhAVDP0Nqa9SXg0hPgGzNIt\n",
       "S0eJ+0PjdrFDs59sgmC+YlxdR2nvGMF7SBEMx9Mg6UPCOCDB6nAGNUr470vzZVGWmlFJ6j2ijnRn\n",
       "MboLxET03Fh6DMaE3DKciJxnowRTNjUa+rkO/LQIQmqyvgjmkgOpjZ72xgkf5JOhMJxwSvaTRTlv\n",
       "0s5QFqswIMj4OOKEbaODz4rXIQ6eXuEbu71fqcXw8tsTi4jS8gE6rfrybzBAiDggAXwke1APeoUr\n",
       "c7lRUZ4t3zpX9x1Ok/Ax+pX/krEz50w49tJjoUHXlxuaNEDO9PiFW/Uprp298Rh19MkNTFTqcdUs\n",
       "BfAwTyigM53T0Eaw+VH/IbrWo1de8FXGiGv+buPWPE0THAUL8IjMIInLMKykggNs5rtzadtognMB\n",
       "8TjGETHvKweplIekPKTjy9iXF8GpPnB0u0jCnNqR7Jm+bm2ryd8WwieqVtV07a962n5jIzf0fhjY\n",
       "jMI8COyh/iGAR5yWM7FGZpOQLMq/BQDRfMMGGb7XKNI5R228WVWd+ryJgX/7bfXd9R6KrC0iCa7t\n",
       "HO3B9PsgGgkxn41Ma7EtwhtLLRNOe61ZWg7YhtF/WPWFgwMW2t04oRZZAmDPbkRhn3OoOVLTeWyc\n",
       "AsyNXJn4MkZLO0sWaR/1tHJ3fFDS+2lFbL2jcuncfjUi59F4RbOLI1y2PDtE1dNYw2i6lCBas3A3\n",
       "GskyRkowu6WfMraXQzPHo1Bq0YsXzKgHPwMblcxmYcFWrpx1YPyJGSdakPrFCRZsGBbvV2HUlwXH\n",
       "f6JziYb7NONsp8ip5++FmYcHGFIjDZu+ZQm57BuNROrTfCzlI7S59rms0TW8khjXX+v+vhj5v3Hx\n",
       "kbsEXu8Ak6omnqOGBMlMCAI5E21fsoCjjhRKKj3MLZctmTvJVI2HmB4jImGK0lDN2FSLldTyfmVU\n",
       "CZE3PaQllipVND2oeY9FMJIbND32RJFGUnVCvADBZeaZddcMdFRGgZzHTnglHumikQ0jE+Z2HL7X\n",
       "1QKgzYSGjFjwmrmeRyoYFzrARZbi1nlF++8Pcn67+54aXb3QhYXmj8npT5UQQuzwGQrRr+AqUhx8\n",
       "Wr5ZHLepOuNK3KTQakNY3FG3ZVs2hJ95qj3qZ9Iu+g9GtfYq3LvUgWKXTGBLa0vyMcEBtQ383ZIR\n",
       "8PKN/F/8IBHbR4V7FNzyPmGj7NJzmiCT4Zrm0+C8nliKhGipZ9/D/GR7lh17IcH41uCuQVSVQUya\n",
       "rCDr4qIIOrRw1UrB1UVKX751wLuZVILtXyDxcYdbfujr+mvuRq+eKoQnT9VXWn/TKU4mDpRCDRdr\n",
       "oBDF79JYNpVyiuJEcTUeWRFZklyqqJkOX0JRxzThtLkeq87QZfbzkyxTFtjAF8MLn9FCsIrMAuww\n",
       "0CGaCiE9s42PkNnTpkLWPI+bjiwHwH6bx9mmQp2j10xYVq5RwKT10TM7hEmbtC5Ny/SqSMz23Vn/\n",
       "cQZFgc0ffYxMOqMGuilDe+FKK41qkoZf5Tvl5U9bU8Ia+7zxJzPpX8JOdAzHOzXIPs53CDZnpBuO\n",
       "flwC5fKRO/iKbmEr5ApN+njMo9vseLAVwXJqK+o5qnmlZ/K1cW312VwMnbTCdtINpwJMC0q+1BpE\n",
       "zQiwhb1uNrbNOEII9e0IXrgdTQD464Ap6WSzo5CYs/kL1L8Tc9mGbOFoVMDax8nNIDPDlW1E3u+O\n",
       "G09iL0DcL+Qe5Ym/nggnxGrDBs36iiVT0b2TlouVNIpjPNdqTOso2poc1U5j/oItWtCOIM985Ppr\n",
       "2kGDdLXE1cEktf4BhnD6Sput58N1zgt5ezTVbePuStZ60cHmUOwDRuMj6r8p+YQE8wUUiEeNCQAq\n",
       "woQe4nmeKDoaKwXEa8AG1cEzHo2CgslszCuxFq9hgqJPPakkti1DIVZu///HZ3r+ahEwQD7dD06m\n",
       "+N6V7DtCnoVMLm4nKt1my6l+Z4pe0dtwxlh2jaxpd3sK1RFa3cs+ShX27a7fnouf9wq5tXJknwST\n",
       "YiRuwfAzVzJYHsYrlQQlxXHYxgaYImjYXhjOFHGIZsiU5fykJRmDHWer+/c1GuyhbM+BXrvuM8PH\n",
       "hmIzyW/qrqi78cWUOJuumscZT8vrZM0Emy+OGHvLmqu/DSTEJK/zXrEKlvW2+tRFJzSM1ak4JM0D\n",
       "dgi+3EishUtJPGF8d0h8G6wYc1ywUKflgtqbBXxr1+tIIpklSb4qF0n7/ERvfthF+OsT2kW4vCkW\n",
       "CJ7sLlDfBiiUB7jd4yyf9w7HnHTQUiEA4pE+EuVkuo+Wp1Qzg3BWdElVQqt8LeeICuIcTIL8KhSs\n",
       "1n0cIkzdOLsXpY3buB813V+0Q0OUfGmc4leS+KxjFx3jTiAZxjOPUems1+eC5KJUc3JvuWQf11pQ\n",
       "KrvS1JnT8O2FIWKJrxxfgIAk+rYTo0fzKjhYLAczvfGpanbPq2Dit6OrwuftjPRJahoYDevgiF3D\n",
       "QbCjSNB0y3Fk/w/uIpYwQCnaCUq9LJSel+CPAPfg80VrQaCDps6Mlnl+Sxk0M4aUmm+gp9ezEgux\n",
       "JgsuORF01HFAFPDqlc3693ZtvCTCAPMr/aaz+usPMrFOO65o/FloA8ltoMWmfaFQ3Tnpo5bBH5YA\n",
       "3dW6k3G2nvsLilffTwczfhmVOnXjJ8uj7BbgogUTJDbkexKTxsRQuKURvceXi0EBPc+078t5DBHh\n",
       "eN3E9JbFLN5ttqwdEG+IsDYid1rNtKjFKbgrD2elbXthr3UigTd9DJ61M7E7VHZcpSDU82M/xPYp\n",
       "Pw7YtMLLtjLTeEurce+vYFUxFvMDXMH7M+WfSV4A5VzONbJw0s2U226UdcoOTiGMSFF94LGkzgrr\n",
       "Yblzc1eJLLmRZYQBq0swc4lye1nNfazZG7aYKQ+6mHZjtieT1GPnwzOxWl4WqykChEX9iric5mC6\n",
       "WySL2cf+i2aWG4CjJQj32m7I/A/0rsnb6IO3bGRUXv52VaEIqXLub3nWpyWbVlpVV7gfpqBCCnvj\n",
       "V9EKebuFy1+uxXf45WdvSfrpMGaOSQPCDp9ZcGc/peKRiODDqTkrcR2PKF+7xh5Hcsl/VCyCzs5o\n",
       "HYGP8sC/PodltJxZTIw0MV8ZZ948xTHYcnPBBPeLsHWcC6R+45QvoSubGpAqQed+WGgwCuAG1/bO\n",
       "5OJLQbLvWO8NqxFZYB6ZmUPyupm8iUGG8CepKDJnM2EGni/IDLtibbheIQPE9iU3gDpY4FDkgyFT\n",
       "zdPRnBD24US1vrbBq7hvELmjdb6cD/GtP7PcynYU2z0J+cdcHLbU1CdRJXU33fD89cdE62rbzE6R\n",
       "hb5J8WwtyNhKj35o4cj41Ya0F/rQrZrvq54VoiA6yqP8fzE/m/VZJzef2/3ubm+AfeRO0DP6z5fi\n",
       "bphKWdNXZQYTkjqrgXbKjDiRVOfGIQYDyIt2v1j3tPnr5bWHQ40yi9U5FXsvOtW8XUIZSCnoh9xT\n",
       "jUuVifjvsh98ZVNF+lREZsXkvfLvl4UIayP4u6OFXfh9kXEFaIKst/14XT3xcADuCrLVJsgW8PuV\n",
       "McMM+ROv0GtM9gMIaqjKbwNYkjbG8DOX1Hh3KHbE2AAsBFzUqBBDuEDoyGRgVA6dPk2yVmFfSaJq\n",
       "xHAy8Afuxw29o5S3P1EbSel0J7fmsaVuWLhMapj5jEfx3J8hCKUEVbrBcpUgNpJXgyC8LGIH0gL7\n",
       "TW3VXcTd7NjSmltl7IcVk0kfsGr7esRj8EBSN2Ylf56LPcaDkaFJxVIn/UDybVCdHeyaZBS/F6pe\n",
       "DNh9y2t7evvVL8/9Uos2NnOrh/Pj+zqMFt6T86gts5mrQQwj3SFRoZ8oYr9vu6lTRVAyW3ygtZEf\n",
       "j6klsT7XHQm/EXW2iVcR8Qazo2zs/7ZRAUOwCJZbT2CboBSfFswUvzr1V+bDeNwxlh3e3wJHD5YD\n",
       "+jzN6CGiiYjaqFkUzDvLdOYbejiAB7y+vmNKwsnFyBdVB2YBQdXfk4eIixXFPzEl3tTgcbeatl12\n",
       "Ed/xXCbRsa8A1D0kyVNLB/ZBio+NqkRUiuy57FUmnbQj0mV/pGBQwyygN4WwmA5dizpwYDL7cVhw\n",
       "jTD+r/U01xecKLqv7/BgEWUr8GViHbgEbLgOD3ijkJ7bBnoOhu28nm1IU7c31j7QNQHgPtyvf+2C\n",
       "vCADLV7uNKf36s3y2veqtZTQCvGmr7LewXTrBPE3HZWrZiDBTrcU2pITYz4ugR0MsLxEIxNaDdy/\n",
       "X549TSgg2xTENAiK12NY4FjH5+dGhN9i8/b/Jyl3cdPB0OGe/+GOgSP3ZrOH/WnXAp4V4l72B5X1\n",
       "DnZPLF9K7ZXQ8fBY3NLOMKgph8Dswoz5qcrEjCgZ1NqN8MFmCwnCzloo+gzedKdv3mUW/xycUXoi\n",
       "hAS1YVPvCOiqYPbnjqmClPdW/uQSTSFD+A8Af/vmvUUBnwcOozgWL5EPeOeDhNyj6DhoV95lG/yl\n",
       "Mji7kPmzhFFFpcKG8SjocDdHW1zo0F1bAzIzWyfYhFuR4dC8Va2sicPmZLPacdEqX0fx42ybloYh\n",
       "TGUfNRYHYNyHKz5P13W+Gdy+CeKtQTg/A2I2B8fbtpO+x4rbQAKW7fetDP9bVJqSrtqoe+VhJ/ae\n",
       "NUYfoeJ1m+f7cKGMaYzYS4/LMdbKwiUviIkj5jXhXEElQ7XX2vXbVRo++h37xyjWWuevtGBTER0/\n",
       "FaDvB3TZ8gbTFAyTj8UYgqa1Sd+AcyU45+FldJgwB1YY08k7uvuvxQcu9/0wVR6T3GTJ8rnzqR7H\n",
       "qRWE76iigZCH3l7uvxxFF8YkK1bMvyiyURYKY59pLU9GKwUk0xqOhlYYpR2az28cg3aIEVTsBzwk\n",
       "oPAaXw/q7dxDTC1D1R/h983KwgwjcGlBQKMEtW2u30qy7bmTa+0gX9dDi6qq+JcO9+62t8btZ63B\n",
       "fXJ/yPHIEAhTAHrDXDOPGutChmO+xgAVqQmJhiR/mHBsp5tPqNzFySDbomKKS3jfzmNOmhju0kfx\n",
       "DQZMUmhWCXz6V25hbFD7OYe5wAiL9EE+MyVcG1IOLfdZfjTg7o+/y1SpvBNh6f16qw8VaiuVfXSl\n",
       "v9L9e5hgXm5WwuKk0a/U4tW+Xh2rG8xdyZ65DI4yF4OyIjUNMzhU4jHVNjIVJEWozfJdKnbRr6Hl\n",
       "ZnxdyMFk4hvjy16fLJSFtRoTCBdLXhkbkGj8744iPDahi8QSabnaV8lZAj9bj3KbGvImS/pZqB6v\n",
       "YPmF02RJtt3to0WnhABUU0HJsHWPf9xbGWVRuWfK5KJ/6Y4n6PcYu+F0GHFdwYJqVjS+ARqAp1Zc\n",
       "JDrCyIdJ0GuoGoblXww6DvoIeLnJnMM7Rp0kLCufSQYy+WkjSsKgdMLuPwziGVkYiTnxmzueC48d\n",
       "BACnMKdScbPWid4Mwpn1wqOAXdlewY8tCfFgE99SjTZ98w4EY5HDR7rrU4nax5S6cqz7khzOanjc\n",
       "YTba8XZuKEho3fQe7ZDAW/k0enKLcIL7qtu+KtkwwYOM5SE1xE5Z2kZwY9HTfCNbd8MOEpD4oWQf\n",
       "f8PhNbJKQkwRghbU+xKbAb2X3OHADdTJlJjUZjMohyZnBE04btxA84cdfLVqP4eBya4mu0h6xaXL\n",
       "Kieg2K5VngFYp0zDCIy6RdheiUN7O6MniC/23JXAWgbrYVe2HeXNe/t9i8VF+V8VsE+rNxznASD5\n",
       "JqVo7gXF3oVdZwFVOxmeo1yCfc1gJUfBd5yd6ONnH07xlvU67kfLwMQ90nMMNHxfUrnhbQjMrIrm\n",
       "tC31zIPU5JTQEvyEApuoaVK7poN0oz/I/H7NG+OSFUbm7B3nWHp/ks82FEwxo1AcUH0bZvh+vi+P\n",
       "S/0eqriQ4bi8Z7d6rp6I+lMv+ISpp+y2fOwvxulR2kMiV/FTGBrhIjwaJaRiXIrH7OQlhAVGsneq\n",
       "if9L97ASl8Cz9Pf9ah1xnc0DbEZ3HAQvjXpgISZD1sSBTMWcXCAtp3rYEoCybYrmhb93DfuMY++z\n",
       "HNK6QHqHfH+ji/ghzFzkcWJrEvnooYwkcAc8U4o+hsPHTGjGVv7yvEQFOf8eI74wsKGHR9BjzSGi\n",
       "BrmRu/gyGSqXCSIMvV8kehmw/lJizTJ+ytFwk/O7OHEFKleYgXxQPgkQdmsoYKPZSG7SVkhH7QNI\n",
       "gyX/hcCNpVtjAynNXgOlSF4KBDYcGVVXWd9gHNxWPwv34NNKswyt/oi48oCZWMoeDsPsI5a1dYrk\n",
       "+RHs+Qb0u566mpEXrsWnrjmkMMGSrui9BPKV/6UV1moWAuIztGTcku6p2XeBSEnWS4C3GFkEGSdB\n",
       "VEezafsDF1TP1zcSWPNwq+jhNT038njF1ATgzeCGTbfR6MB9HV7i/ntsbvnz5l0E5gRbTznex9UU\n",
       "k4HoHSD/ZcfQ+d3SlMW/qhcfy89xOch9wzDrMkANfgBYPIC82PrsvRW4dVUdtgmy0Wui0073uR9R\n",
       "da/nh9MRH3N6o5c3JYe/6Wl2nLEdGbckzNFinRslgNhP4tQLdT7foujJwwCYd0GmtqwWsCm/Nsa9\n",
       "Nbob1XL8trlpsbSfZsdYZNVzxfXfdJr6LiLYrzcgs34pd5mkb3mjAhUA4EfSqFUwRDHZS8UjL9ug\n",
       "1Tz8Tt7BvY7xIO162EUSK6DdBC2NebT1KY7Qb7zAJK20qtcyKGyRUyQtPGNhjM6SB6gvopJVRKdw\n",
       "LmIuYWtsBRksH5PziCLZ6iTcOh0bL4YvRFAkcWrwnNmBnUP47AnFPCVai9TGI+eeat++b8SJfiml\n",
       "6CpQdIg8uaciv7XiEjXDzN52W1vUqgUwP1WD//a2Dw2fGkhFZzgYuxECyBvyPuoq+rjT8rfRADxW\n",
       "79OAYomaqGX0TrJbSqgSFKEe1WLEzAVJ6n30m5zGHzUr/MtAxAGRnBo8ZiwfLDrapStx7aafgTYi\n",
       "FlTDvEF7+LzeCekSK6ttpabI4z8R+TWfN6LchSp+dCMbUiPpsWj/fg7nBt0+i3Wwc3fpuCGp0oUI\n",
       "IfwIn+1aYS6sem9m6auyHD6kVlo07AOhvNBvciL6n4DJ0nIywcAXCUFMU75CtsQkEPo//TYjyiY0\n",
       "+Ub6QQDYyo67LlEUuNzMNktuMi/iagPc5YaIZidxmtyu1Sqj7zAGTBbi4+K+2jGk4NPZdIUE+eZt\n",
       "GyrG7kIlEaZrshORxQJuajavja2rdPEqzjLVpYa7STGbGD6eBH8fZajAhPn1bqxU2+vW+qGs9adQ\n",
       "Dm3n076+aCiKBs+klr2WUQW1hjBg9wFBmaIezqK/EQ46aeJ3YSZtT8DuX/Dg4qWyASEvnDa4KGS/\n",
       "eBNmzQmU4jqOGbG8raTcYLovubsQEvN8yOqeNEVD25df3+F+qbMBMeDWDbEObZtp7qPMUBKIm1pP\n",
       "UveweV8Z/aKb6LrY7ILPW/nsnKMn7dKnCtRJiRqSW+kfOjn7pIKx3MpOddDk3mo5xSeVDhAMOA22\n",
       "XhyTCWyNAbe2zOpeWGvN5ODYmpGyV6i6FAscjmPDmJLQ2Y4BIhbyG/w/gkPpSMfM1p9YxmaNpDFn\n",
       "6gbixPd/9w42IKH0QeUVtRg1JmgUrIAMzq64KINiVqJlRcHMhFjG0f+6wE84Ls/3T6pfOp5wmWIP\n",
       "IT6hblCQ9Hqqm2XllGQ9hgsRohp65X8czVfD5+K/p2boyvVCrf5DyDQkb+VQ2vEwuE/xy1PYFy1+\n",
       "w668kPwCtuj7fP1ifIjIlWRvAndL77HEjbwtxVN5sGximSGuy+M67lmMx/LfwfQq3EplKm6PZegg\n",
       "33TUzZGiZdq272eDAAH3tFHi639GS1ql+YoBV3F4uz/S5QId06WJPsCBmuqlyDSSuwBuenf9AGEz\n",
       "gz1lsKRrvQrlqn57+77ukD/Pk7vsoTSxmsBP14woviNHDy15Tju/3PubLDFxxYD2Jezux0bzvx6A\n",
       "sKjoFvp5OLAREWl1z/jTJpjqmvD4Mw8xAumxqRyChJNv+OV0q02ikNrugbGdAF/UmYT4ShA5cikD\n",
       "0uKWFHUjPs+QOuY+QoWDeM+Rh2TswhuEDQ0lm+E+WYta43OXtSJ3skFs5IwrabUOjssjJW8BGKno\n",
       "hAmfMKP/WUTIfMtLBv4yXPBnDPTcqrw6uGge9ynvNrFBTicT7BaLq3HHNQCobLEsz0u4rydWyl/9\n",
       "nvJjMPuHGDoPOE5TXlUJdaC69lHkDp09M/nDLQwi1DU0BBMiAFigkgunOTUhFdocG7/HiKOWtDz5\n",
       "66tTKgE3EJ5+OyY5hRDs8KAZUZNTT5cgXLSEs9QaBt0AxC6b/bMDErES0UFdaFm1GHEHwXhYbx5j\n",
       "N7dqpSbrxKI5udFvxenhXm+Cnt7gYW2PZORVaFDIrH+BmjbskgJmlM2p0taA8CYnVwSfb326CnMi\n",
       "IivfT/DPXwzuxkniYth6nbloP6VNykmJSUKB0e44QRTBh08OK+kRiI04bZdv8DemW1Pty+SbfoP4\n",
       "kCfjS2kU+MRmyOCaGqe6jx/H3KbYDddhpMDDrWOJUgleiul4k95fkqsCJTJtdcq4ioo+cyVLoSHa\n",
       "Jy+cRnG8V7EYdowLeh9VmZsWlNDxj5vdayu3ToYafWSE/04OQXJKpQAfb8uAaxFIIh9aHH5CWiy6\n",
       "hpb9Qbeqk8USyUvcDgX/MwISVq3kwzFbJ7zxXX3TqSYZH/7cYW/cC3/37rmzGc55Fh+ngGNI3nCW\n",
       "rw77TTfhV2fcyo4QR3rAYDjwAv2+lVvjJ7erUDhUPWYWfaITJ7i/WZC/7yrL68hcbAKHxUHEaM60\n",
       "0UxF6BOOAVvRP2zkPMCa1NJ4n+nDgriX3ghn9ckm+4UcOXQ2dH5T6U5QZBCXL5yiUdLXGAgxSRh8\n",
       "6Qmy3LEcx+r+VUmKcZyrp7zLbpmtGBNd+wgFA1uzovLHho+i+M2TiiYYDgsIhaafPJ7Wbxc4d0wd\n",
       "PTbiDiJ+CMpW58XD9K7Jbu8TG0Fm84GMM/sKMl5dEr5OD+9U+0FTPe1bF21yf08g5BHgqhoQQ9iP\n",
       "ZvMB8LNWHSXAG7mLar/Tl0qEd7ncRZk+zs7YefPNF0iQAwopKTnhYR6BDB/FobOvphwvzotdWNb8\n",
       "4FZTqHbRaTVogFgJ2xfUsqmgKG3Xen4Yr8zt/mO3qBB1jC2BXA5g4aBiSOzVq9sLZetuM1vgtham\n",
       "dDbWWDpMkfu6hnkfTJt0SnGn0EdsN/j6+b7nj1/QG+pkpNIVJdU5wF2cikAJs2n3xuTcEBhuOMak\n",
       "YVg2EAMkUmJTqYGEHhGWxqDDvSLlBuYvJPry7Hbqs9QHyj4LP9bZjBNZA7/X55Rnq3j2+2uc0UTb\n",
       "rgKybufLFGwIkwYslhvlHghFT8oJMwrW+UhcsqXfKh5ZZGLjoO2HXBxxkoIfmq3X3KcPDiucKHvS\n",
       "cmcIePUmsTbBIPJ+cPz22WDxbM8TpqaRLBP2Ks8dK0wsWOUQKRy7e2rqwUVDFf5tVTVBb504GNSV\n",
       "LG+vFHUZQyvH+eYbuQ0U3ZKNw5j/xrNrjS3fp5ldU+YqncqIXjXa1v3JdVffBAHt2zJavFwr6l0P\n",
       "xLgSbkd5QRD1YJMf80qB78Avyzc1AOnm6KJ3ES+uG4EzCrh0VCvXgWA1tYSbLGamvokpWYNajJ/D\n",
       "mhcD40wts2SnHPnqvoEyvGd+7/zGRfItdGmJs8rRas+fIHARX9KRvN9jERL46Ml/MPww5QHvbk9N\n",
       "25xf2iwskgDJ+Ms9/+UUvjNNRrW4YdQzLyUESf7rq+s0tlD0Y5d1FuHve1aZWgtYl7IypJG+YvvH\n",
       "dTDAfjFimi/RVnjB6s8+lv2HI5c4PFbjJt0/P2U+iT819HLcOnbL+Hf0NCMwVKq4bXtjl8BAxx9r\n",
       "DqO+u17w7G1nAMsjQVmGIPfvgZtegUsWXSd2BReGSkgwszghzICrCWyE+CpCo4BV50kUEvq63T4t\n",
       "Znqno8NRlyN2Uvtwvzh1ChB+DR7pC5nCqoqVRkp6528E2ZcfqlhnXf+wCqQVU4oBLHdA9Pha8F0H\n",
       "Ae85f2sd6+PPzXxLjC4aqHzlwgAIRirrjVRnPKOG1sJCkUP3EJrIj4lM9CxK6JLgZuIqvek7l+VS\n",
       "zwvLZND3bV78dScqeIf6nXv6gPtTrm2Y8sjuJQHI0QSmEgAisdFmu4SUa4D6hHShnj7SUpuBrh0V\n",
       "77RNg605sOghezAOi84sC0h1CoCUVfl0UBCl4l7ZiPzHgc25bLhTN6oM2NQM6jZ8LUuScjWpBktG\n",
       "4glh9pxZlnFid9a/H+VW/eOgUr6HaVfVRIdSqS/u99EGGAy6CgMmjcFtGSukLTTti/T2Vt3eSUfD\n",
       "QPYOI5zX5tHPzjIqkkrZCbuXuOtU/yg/Wzcsan/an4v6VAyItFuyUwfYxQO3I9bNDPk8ecNkDtqS\n",
       "L8dP0RDZUGdzjHVdqlUXCm54vOl3Jt55OPf6Jc1EEBTR5Q0Nl75K4X1TovfpKQHwfQftdmgKn0P8\n",
       "NdfCEfw1axdqCAA47w0ZqfNM5Pe9PT/noXw6QKwRyJla+KMANgMwx0ROYbV/BTf6TmkY6ff8ikWK\n",
       "B5VVvFXBpDxddc90KYg3RlvE48LYYxwfNg+Ax/EqIvcHSQYC3Jika+MSE4lBUqV+GzRwNTgQ2egj\n",
       "avAy5JdBhnKqQK8aS4/UsvYBU5KrIHgGLzCeupWGyzqy706mAwV1V6bCZlecpEOrTr3wmbcUuzA+\n",
       "VFLsylgydEAjO8b4RjOeGJn9twatgLCyv+NSSGblBELxtuml/TUAE06yXOzD1gUnSOFA5CAYD0+r\n",
       "W1HfJWT+EYmtk693lYL354Pd357nPeAAQWdZM8nl0cK5N+es36TULP1yXIyVrOUGHsFFVfOAZqEf\n",
       "LPzHdLtzjPy9dia6p4cEtVInBgTOWHO7Qob58wcqQUK7KDiuwM9exQn1mNMOQ2OJ12xGG2ZGfEcI\n",
       "fS9IOzBv+5TZAcN/f7Mv/k4ZuzxqKE/L7Rgh6taN4xesqxVzNO+8J5vx+57n+137z5lwHVtkok3Z\n",
       "rmv10SiGEltd9wE4cyNssqiMAOQETD47i+/XIC/I+1l6vKxoK/woKTa2un0eA3+pkqWxVl5EOpvI\n",
       "bjbVOIuzotHpx1wSQXFCQkDfwLir8Db5xydzcVlG9fosUENdp3QOQs5kR7ya3M/63fg6uhAiHpXY\n",
       "bfNCcVoD0uYnbPYApgCLuVatfcpHqbOj4H5Q+VT+vd7OFtQl49GO+lB1Y7VsFh54SjJT34oT5vZo\n",
       "ly7H2511dZUd9ONt93UtYFxXhZGhK0s+BI2rIk8ZLuJ+OyajQoXuZwwqiMUQwhWpOy2TUab46j1p\n",
       "QhdrCxUnjjz+mKawy4X/lBfA5r4Inlk0ChAVU+d0OBlf1xM9eR6IoH48Hwf+v60LJSc0H3hex+Ls\n",
       "csQ2TSSYLfN5U9XySzLLzd1d/P85SeWyQ5WT3K2Mjoc65sQBpupC8g/wH7ueU2jKFcGX8+TzMrEA\n",
       "FAdGPwrmrae5nzN/7fhIEDAYcnmI3tz6QsTqVA0INblLl8m4AA5D3GdMIWdA0wDDzeNhuSbDzU0q\n",
       "txH1MqVOHROMXRgsTwbrhLAM6w7+gkQcjMlgtZQtmWTqBgLg/2fzUebL9fSmifWW7ViaO2du8Oyo\n",
       "kxd1Gd9hXWi+yUZss1UlPcmphkkrV1yVRBLwMW/JhPbr66LCP/6HU+R5BSJrpxs1ro9ZY+VVNVMR\n",
       "8rk/uj1IPQXi1SzfyRHXBltqfCREe52glYsI+40BplZy+Lm26WYLUOrdCN/HC7gFmXX31LzinPGW\n",
       "lC6g+PVqne1qjr/JDRF34OZkAlwpSr6SjbN+qkDeJrTz+BQxSB0NGSNZ7u6hyRoc8KxyVYIVjrl1\n",
       "RTfZ5EPTQuX7WsPchSXzM9OUaImP53Wg4oBTabxCIsSCpKDv49grWl1ky+UjI/33S3xyMsbRc5rs\n",
       "U1NHIVK30K3qACBeYH/0m/s1kz5q7bozjxGJme+8B41yaBWbWv6cl/cWbrudA9q7GnfxeZMRR15F\n",
       "JSeElHvp2q/WQbFkfGaXIs/wwS/a6zXy1Go524CkkEAmFG85XZ3OEq5TTVxxBneNyBXSgD9p7MI6\n",
       "WCcZyxJBW3pRmjZC9pNIniEp/bHVoqJk5rIQf0XmA/jkYbN07I1lzQ9dyVPy+TibeflaK1mg17iq\n",
       "UnATwKgQtpPeD0ml5rZKsO2wxrLv4PnDm3QSYLf9tJ58JNy5RdMVe+Nmut4UgZ4PwlywmRP3vgkD\n",
       "DTJn7KCokcfIlrQWaBS6eHHUlxPOon99rUpJAvQjNP0W236K6f/42R9bydIjEnoVMugcmh3Dy51G\n",
       "+JOEG+2tATnjhB8s9Xfbk/5Qj+nX1pCD5afz+28uMK1bpZz3JGZsUqQP/pF5IS4RZoiX2J7FaanG\n",
       "h7ehrHYi1KNCwIi6Lsi4fz6Vnz+M6rWwieLya6FMcHUEmoCQFSpTeoGkAcS/V5+ePbWGxztvfHJc\n",
       "HQY6PBJ8ECexb7BGrWtN9pL0NA7uzGKF3KupT5RF8u5RraBOllIe8fpaYu8wvVVyreYcTLK65U6n\n",
       "Miz6+NI12sweL4YSEw6ni2SoR1icO0RF9kadW0PQyckA8qNfDa2ssKgpjYyfPzJPu5Nxs+rMnaVI\n",
       "eGJvRUDeX1NLipQclNEYlitRMamOJi7HqAXnT0kS7a2A5AloM+eHfxKHJUGzy25KXail7gYKLqWH\n",
       "SEkpR6jeb/JUcblo0z44eWKASwrRfYX88qdbJY9K2DUn+3XKhntKxFWyLwSkiC2VAsYaf/0blIq9\n",
       "th+9HLKSDu7duFwlcT/wk4blxblJzJzZLo/J1cTwHIHDh1vsWLKUjPm+M+5CP5qr8JYoFvqZLVju\n",
       "WxoMvBVAQQY+i5cuwlong/Cy0jg3LZ1tW0qVe2lJtAzjok/Elw8uETyZXfuKFaz7988ipS8EVf4L\n",
       "WJJJ5Kpbv3E0HWu/Nwy+UPAfJ1kkfezjZv1mCRKGyrOoJwtD2EUjNn8dKXFyE0SxNTy+GXbzaU62\n",
       "qsG+GSF7CHmOvUrL2uWsJDygP/wQrx1DoHIt19X0IMrCb13gs+drGuAqq0qf8s0dMfcrDoRXrbOl\n",
       "J+QeUdW1kGKaX4I1kWbMgxANhRc37h7+H08FgKX/FDkCbLxU/cHn3Dz585d7IYRd5hMv84RhdEFq\n",
       "/lDgmEWSIO73w2KnDxrEJIrh6O53CA8jVTMWClTdrn1WoiTF+HUJ7IyCzfLGsQqwaKOYX2el2ByA\n",
       "geegazMi3yWjVkoe3GHcHTLuZXLWgKRrH0e9nCbzyC6L86FLdpR+ECDgUeOLi4FOO7HbbpICGBTY\n",
       "+mwUgBzTEKNcUDRN7PEL9kZ/2D7xnGRPcDursKjNX4Mm/CwBy9xD5Bb7oTuPvR7nEDrDHXh0KjJ+\n",
       "gTvncZj3IKHkzY3pOG23ODZSMfr/HEGnJ/SImvzhwPI+S1LzHD+pdVCelJpHyPszsBZblKy33r9c\n",
       "tXcdyyxHbQOgnZyRGX2s0D2EYZFRQmrI5Y77vMHKYIXk3WRhegyRmB7/eVQr+rCwTxy0uwYp+84m\n",
       "VJYypXrq080gPMGMmRGoY+R+pg8E1/e00GOJh6mmPO0Pww252YG8TXReuTwZtAYEj5F27gdZst9F\n",
       "QTuxdWmkdg7cQD5bFmXewUkUzdVEWc6nv/8j79SNtXTV+zyqzyBfRqE7AdjO4LPlfyMi4czjFO2u\n",
       "vWxGBfkfglGAwc3/7dvLDRppCGcj6cLTC7NLdR06eawXGXkz3lxLIsdYIi7kSGtf6MA/mszhrUXI\n",
       "QaL7B8HAtMD++9J1ZytXtQNkXlbfwShwXehJiCoKeQN/I9FAPt1F4t13SDHG4ba9fk1Tmv2Jbe4j\n",
       "Pz10mR3dr5abt2h7Wx/vpAbggPacp+o3UWUaK6e0EXReXvUQ+wHd6quqOrmzNb7sGOfOo8eib5hT\n",
       "N3jWkxC8j+wDuhuDzahrVb/F5u+t/ovSJJRFu5s4VNHt7T9LSMtCoq2FsBBjHRIEU8YY39KjSRYQ\n",
       "l9WSq9ii5L2A8YXB5JJzsyxj9kaAkYz3/78KHjz90zjBCQrgo9231ob+c1gsZsgu/o8FCsVsdnuf\n",
       "mqD+c8z9TkuYTi8p5fueo11OFO1RI3+DftIzJcQwOZJbQiE9HetO0hix//1kITZ2vJ2CObow3yyS\n",
       "CNuGe1llYlKRDi1qzUJrWlrUTakXMIevXmr+9t5xvjJt3StBzM2hnGwp1X5PWdt5EdgRY5UM7v6g\n",
       "c3PVl2YGHuoEwlgU5rVIZdHtjOFL5udEglkDOxMxWD+uQxZ+so/UAWD74sAsXN54ve0puCoIjem7\n",
       "RiuusUmnpfIZ9BCsfIN44LSDBb9AzX/qqiBwnN/+qOkMaENcOHwqd2G8KasjJb8sUmiBP4Vtqsv/\n",
       "hTiYSeEsc+ovgpOjK8rowgeEUU6K4Nz47uKbfrmMd+GxKP1BvizSplJHNRBlHyaYg7o3ASzn1i6L\n",
       "7FxKIks18zAiBMpjeAlotcV3xBQDjEbG31vwolFfHMiQbOSQ0oOKSD+09X3kxJhh1A7xRHgLoFl9\n",
       "Ji8hTZkwSgtDGo8g6lhEZ9rJQOUnnf7WlUEZzna1yu0qZ3bknmbKo/1BNc4sbLEtTOiZdMsHrK9+\n",
       "DNYNdgQx5nRhyntxz6uApvTDUzqcBf9V37/S2FaP5dkf9PuAWYtUPa19GuzZacndrF4GkCPjgVNs\n",
       "nwjVPH2cmWn4GFzMT77y6CUWHVOqdVEug+5Joe0PYOIcACMfZKibL0/SAl7mrFiLVRP/TvczFcxU\n",
       "lUNvIzwxoe/W8pmJy4qgEiqxb6F27JPvIQj2bYnUk3q+4IE/PGQJ4K533q5PHqdhYOKUuX/OFVBo\n",
       "nf4913/FC90ZFenorpwRoh9+LasghDwIrkbhLmMYanYs0tZFGJT3Jw39mY+pmL4NWCpj7rParkez\n",
       "ZpHZr6xstiE12+LYGXcbxyDiS7X9aQYwIpI5o6vRBBdFLFwBBjEsAAADAMA2BzUAAAG1QZokbEL/\n",
       "/oywB8q6jgFkBKIkCzZWNaNHfHky/iraSptJjjNZz/FhS0IeJERlJWcZinh7nPhAk2r/zsbxAek9\n",
       "LWwuA094EXziG3Gq72ZtMFBmqslPIdx547CWO8zGJ0VF2RbfT8IBrlln/eJYGnbdH4v0AFW+q8vP\n",
       "qy5NayVmYNJw5iKJvTRFACM1bIttUEgV7+FL+xI/cXZeooiuqhLHEUx7U0t5mwEmvKnAaEZfn5Oi\n",
       "jrzUOFJzFI2vFcNI+qYlanzmLXAGA9M7Qdi3UsedGv2YgjTGxmVGbrVzrVQDvqTlWSOFYAdzIUBB\n",
       "k5v9Drnko3yNBYUd3EYcGOIz3X9uPDmN9iA5V9ABInTcX7K5qeHvPJL4GtWg7MOAAsG7ihpKVl+Q\n",
       "CqYQA2EOZzP74FiSN2HkhGyHQawqSJ7i6OJ5ZXY7K/GTyF4/WQQt6cnUeRKx8+7WYnTmjhLN5oD+\n",
       "iPLHSNEO+nPTrbz1RhjA4EtMp9F9wjI7+4ZfuVt1OiyGJHB1L/KbWBYltHstMIEUJwrE0BGnncdu\n",
       "bORhhIDkaHbxDxjVKa7qlfUrmLIMEn4HL1mD0TlIBAwAAABAQZ5CeI//BDRyDnd0B66g8kjylgRE\n",
       "kAJq6FVcHrDWekApIpTZN60zIocHNuc+vnbAWR27HKtXcTJ16QLsXMmDnwAAADIBnmF0R/8Fr9zq\n",
       "cRRcUyIIJ7RlE83Q26liMxswqjmDwWzyET0kSVK06VTtxySe+9GBJQAAACIBnmNqR/8Fr90Okqv+\n",
       "h0B3svtCwcLj03kKgmAhCENYN9eAAAAAakGaZkmoQWiZTBTwv/6MsAHJ9bQVXNAJKlg1+OONrsfD\n",
       "oPBqPowYFP9lgcC6uZrfTLn4lWTgLYQtIycsjOAguwf8rYoxSTOk4hxJgfZnRCCkEpOKP5lldVaY\n",
       "fDWG8PDmJBIBIUylGL+5PU8AAAAlAZ6Fakf/BPT6HXrQT/tpl5tJuCJvepoXQRnmV25jMQgyU9PL\n",
       "ywAAAGNBmohJ4QpSZTBSwv/+jLADfet4JMtd+VjAE/USa/cF1s2ERlpbujRtWMWcLDTzGcAaj5mM\n",
       "R3qy/jc01MmxZ0LF47nG7UyBljUlzbaf8aL9NrBcLlSJtIvR2XvYcsns5kZfBSAAAAAcAZ6nakf/\n",
       "AcTN4M5rMePBjPNxDQrbgzaXAgEbhwAAADFBmqpJ4Q6JlMFEwv/+jLAAUFg/w/GgBzdbggOJhMZU\n",
       "Zpv+Ied4vuz1PlcjyBTz4wj4AAAAFwGeyWpH/wAoXi9TQnztDpeIyBjyOJXBAAAAO0GazknhDyZT\n",
       "Ahf//oywAFAck9mAfSAEdrGRJ7d4KyntFG1kksVfM7TbP+MoLELOQEC12gCRJPhO/hZtAAAAIUGe\n",
       "7EURPCP/ABlvP6ldfgALUL2cjvtFO7Y6j9eL5KU1wQAAAB0Bnwt0R/8AKOUV4ALcFJTJMXV5Zjj0\n",
       "J7AJ2qsU4QAAABMBnw1qR/8AJ+QRLua2y5bK1xOAAAAANEGbEEmoQWiZTBTwz/6eEABPXWof4vOA\n",
       "CGXchmLmakd39Sn+FTrMzbgTOctRv/CeTcR2VBAAAAASAZ8vakf/AFHzaENKjGrlWeHhAAAAbEGb\n",
       "NEnhClJlMCGf/p4QAFHZaKVwBW/CYfHVUnd5jHjxZa4Q9BUznQF95IPf5RGJh+BQ+Qpr3yA/mB00\n",
       "q7iW1eY+pRa6votskxNZ57HPr8aHp/zQ9Rz/RNyeE/bbsHXlGQZR3Exn3hvkGL8MwAAAACFBn1JF\n",
       "NEwj/wAzm8IuVijuAFrlIz46Wvp9lRryh8TSHoAAAAAeAZ9xdEf/AFH9Dc34ACaugeZEYPiqPR3t\n",
       "P7g9LiEhAAAAFQGfc2pH/wBSCCci4pqznnNxJflRaQAAADNBm3hJqEFomUwIZ//+nhAAUdhlqwAW\n",
       "HhwPRXn9pQx6Ylr8mRvsJJGg/QLSJIfvDvz4I+EAAAAXQZ+WRREsI/8AMv95zaDP7XqbpQH+DUQA\n",
       "AAAQAZ+1dEf/AFHFyQonYQduNAAAABEBn7dqR/8AUfNQI3IejNFGJQAAAEJBm7xJqEFsmUwIZ//+\n",
       "nhAAnvqyqz8LAFtSvZA+fBT8BfBmk5drpFE2oP50nNIrZf+ljE9cn+G1uNIQbalHH8SAj4AAAAAe\n",
       "QZ/aRRUsI/8AM5vAA2XAC1uc3NNpqUhqIka3aTuQAAAAEQGf+XRH/wBR41xOdwWmwYgzAAAAEQGf\n",
       "+2pH/wBR1AE53BabGP5oAAAANUGb4EmoQWyZTAhn//6eEABPdZ/uANvWCSUKNc9sS6FLWu5a7rg8\n",
       "mQwucs9M6rfUZJrn5wUlAAAAH0GeHkUVLCP/ABnFCkwAscyTsrHXdZo314dh792XbmEAAAAZAZ49\n",
       "dEf/ACkB+9gAnGE9Y78+dX3ZoP3HIAAAABEBnj9qR/8AKPmsfNTbTYwDTQAAACFBmiRJqEFsmUwI\n",
       "Z//+nhAAT3WbgAFtb9LZpQmCj9JwUkAAAAASQZ5CRRUsI/8AAI0oqJ+cIavhAAAADgGeYXRH/wAA\n",
       "4kU05KVzAAAADwGeY2pH/wAA4sADvww5gAAAACZBmmhJqEFsmUwIX//+jLAAUDYBFgCX0oSg9d0u\n",
       "P179xOOfmMwj4AAAABNBnoZFFSwj/wAZwp2ejP7Icu2hAAAADgGepXRH/wAA4kU05KVzAAAADwGe\n",
       "p2pH/wAA4sADvww5gQAAAClBmqxJqEFsmUwIX//+jLAAUnO1YAON6h1SfY0SjoMB7v+TzZqHWZoP\n",
       "SAAAABNBnspFFSwj/wAaaZAR/r+yHLtpAAAAEAGe6XRH/wAo/oy6Ic9gFOcAAAAQAZ7rakf/ACj5\n",
       "rH3wiyDpjQAAADxBmu5JqEFsmUwUTC///oywAFJ1pIABYfGlpMpfNdPsQ+Ev2nDJwPjC0wOnDa8J\n",
       "RCkFalnu7YDTTO1GYRcAAAAbAZ8Nakf/AClz31FQATpTezkr1I65wIGhmULQAAAAa0GbEknhClJl\n",
       "MCF//oywAFSx22AOJcnnCjCLvZba53bAFu5wndpeHP0fv9vmXL2i0mirJH9QkncQmBtUMaSt/H7h\n",
       "sF1Td+C0oHCW0AjkSqRgWrVUXcR1mopLeRNutQnA/xrsCR/qpqTJmg7oAAAAFEGfMEU0TCP/ABsJ\n",
       "frpzIRkYH4m1AAAAFwGfT3RH/wAqA6QAB/dRRKK+t6dTAMumAAAADwGfUWpH/wAA4sADvww5gAAA\n",
       "AEdBm1VJqEFomUwIX//+jLAAVLD7ADNy85XZquyOenu7AX9B/wfn/BOHiXBFdjOJ6f1MttHzpa7M\n",
       "wVBtqxKfBiG9APxBvTFB3QAAABlBn3NFESwj/wAaacHgAzezSSI/18UMZxyBAAAAGgGflGpH/wAp\n",
       "gTjYADai8ZgXmCesPbs0L0DNAAAANkGbl0moQWyZTBRML//+jLAAUnLCEAX+1WmS2+FC8EYyvwTz\n",
       "p6C03BkwB9X1wUxE9R7SXjCRgAAAABMBn7ZqR/8AKgn8CleO6w8nv4jAAAAAT0GbuknhClJlMCGf\n",
       "/p4QACjfhcsARqvgV7i95ghEWxNIx+iwmT/sN7XRIM60N8lndnX8wyllsJouxIofbSHKZ8fhSpjQ\n",
       "rvdDQ8Zy2DqIMWEAAAAgQZ/YRTRMI/8ADT9ukAJlo4meQWGDqwabm8O4S/xwA0AAAAAYAZ/5akf/\n",
       "ABTAtL2ACdu0pQOp2rD27JXQAAAAJEGb/kmoQWiZTAhn//6eEAAo2qWwAR337+vC8QUzVob2HgsG\n",
       "LQAAABRBnhxFESwj/wANMU7zl1NNYSp3IAAAABABnjt0R/8AFQFyj6dhB241AAAADwGePWpH/wAA\n",
       "4sADvww5gQAAAD5BmiJJqEFsmUwIZ//+nhAAKNqqnACw+vBZ4AceRgFrt0J+nhdxsUoMYsYsGudB\n",
       "E2VyzMnxFEvI+SBLOwsOOAAAAB1BnkBFFSwj/wANMh7AASQyvaivyPVNK/1xME6faQAAABEBnn90\n",
       "R/8AFMB88whJuoShkwAAABEBnmFqR/8AFQzWapTbTYwDTQAAAD9BmmZJqEFsmUwIX//+jLAAUnL2\n",
       "jADoGkv99lOX7q7vQSittDGbLys0zarT247yVcmOgbGJEGkLoB19BWoAy4EAAAAUQZ6ERRUsI/8A\n",
       "DTFO85dTTWEqdyAAAAARAZ6jdEf/ABT0HrzLa7sBsTAAAAAPAZ6lakf/AADiwAO/DDmBAAAANkGa\n",
       "qkmoQWyZTAhf//6MsABScu7YA5RoXqc6RfCcLnM421qdnyoguhfw5ruebhpl7DrR1ZhFwAAAABNB\n",
       "nshFFSwj/wAaYp2cjP7Icu2hAAAADgGe53RH/wAA4kU05KVzAAAADwGe6WpH/wAA4sADvww5gQAA\n",
       "AERBmu5JqEFsmUwIX//+jLAAKlnm8AJeyiZxRFUK1OY3NTom8l6z8wjJBWoujd+lPR/9mwVuG8KW\n",
       "/npoVL8EbELCI+CRgQAAABRBnwxFFSwj/wANhL9dQyNBMErTaQAAABABnyt0R/8AFQFyj6dhB241\n",
       "AAAAGAGfLWpH/wAVnaZgAPw7TsFyI1g5oVbLQAAAACdBmy9JqEFsmUwIZ//+nhAAKfqtEgBxICvp\n",
       "oAszRtsfzAs+eVuiDAgAAAAtQZtTSeEKUmUwIZ/+nhAAU/F6AAsEwZrgibXFD2PmxglQbdEkD/sm\n",
       "q17zQIeBAAAAE0GfcUU0TCP/AA2BTvKDwOxmK2gAAAAQAZ+QdEf/ABWRco0nYQduNAAAAA8Bn5Jq\n",
       "R/8AAOLAA78MOYEAAAA7QZuXSahBaJlMCGf//p4QAFPydGAK364fp0crfVC9rZ7N8AXSRxfond2t\n",
       "92luE5uaDdmfQi/JvlSIgYEAAAAbQZ+1RREsI/8AGucgvUAEOyy6wXBvb2d6GHPNAAAAGAGf1HRH\n",
       "/wArP8RABO1hLj2FM5Ou+AkryAAAABIBn9ZqR/8AKsukJax0VNjEY0AAAAAiQZvbSahBbJlMCGf/\n",
       "/p4QAFQLNrABXvhb1zTfPt3bcUQMCQAAABJBn/lFFSwj/wAAjSion5whq+AAAAAOAZ4YdEf/AADi\n",
       "RTTkpXMAAAAPAZ4aakf/AADiwAO/DDmBAAAAOkGaH0moQWyZTAhn//6eEABT8bjgCma1Za8Clx8m\n",
       "4fHWXgT0nMh4Ept4i336LxUgTfdZhtu3glssDAgAAAATQZ49RRUsI/8AGwKdmoz+yHLtoQAAABsB\n",
       "nlx0R/8AK1OYAAmkfZnM3tENnS2lJKDnbMEAAAAPAZ5eakf/AADiwAO/DDmAAAAANkGaQ0moQWyZ\n",
       "TAhn//6eEABT8bjgDb1a1myeZQ/EvCF13/W/goCt+Nn7eKP+2/X/Bwz2lk4JuQAAABFBnmFFFSwj\n",
       "/wAAjxUA3/VPmAAAAA4BnoB0R/8AAOJFNOSlcwAAAA8BnoJqR/8AAOLAA78MOYEAAAATQZqHSahB\n",
       "bJlMCGf//p4QAAAHTAAAABFBnqVFFSwj/wAAjxUA3/VPmAAAAA4BnsR0R/8AAOJFNOSlcwAAAA8B\n",
       "nsZqR/8AAOLAA78MOYAAAAATQZrLSahBbJlMCGf//p4QAAAHTQAAABFBnulFFSwj/wAAjxUA3/VP\n",
       "mAAAAA4Bnwh0R/8AAOJFNOSlcwAAAA8BnwpqR/8AAOLAA78MOYEAAAAmQZsPSahBbJlMCGf//p4Q\n",
       "AFPxuOAOYfU63oLUUIGbQJ24As7nBN0AAAARQZ8tRRUsI/8AAI8VAN/1T5kAAAAQAZ9MdEf/ACs+\n",
       "jLUhz2AU5gAAABABn05qR/8AKyoA8uUhCwbmAAAAHkGbU0moQWyZTAhf//6MsABSct0QBWpS136u\n",
       "hDBnwQAAABFBn3FFFSwj/wAAjxUA3/VPmAAAAA4Bn5B0R/8AAOJFNOSlcwAAAA8Bn5JqR/8AAOLA\n",
       "A78MOYEAAAAlQZuWSahBbJlMCGf//p4QAFGyvjgCJje6QofU9WE+ZoBZsLAxYQAAABNBn7RFFSwj\n",
       "/wAaaZAR/r+yHLtpAAAAEAGf1WpH/wAqGax7sIsg6Y0AAAA4QZvaSahBbJlMCGf//p4QAFHYUIYA\n",
       "h8Z39yUExoYh42MmpogNv2s3o707EgK0QgI44M066AHpwUEAAAATQZ/4RRUsI/8AGhV+iP9p1DDv\n",
       "2wAAABEBnhd0R/8AKe4lqrlpd2DseQAAAA8BnhlqR/8AAOLAA78MOYAAAAAyQZoeSahBbJlMCGf/\n",
       "/p4QAFGggmUuHAEIBY/jNOLCxA04X74UN/D0vNPTCZ6kjMSCwccAAAAbQZ48RRUsI/8AGmNlIASw\n",
       "+ulKxtEf64mCdPtAAAAAEQGeW3RH/wAqAuS2tYtNgy3lAAAADwGeXWpH/wAA3/ueJznbvwAAACJB\n",
       "mkJJqEFsmUwIZ//+nhAAUbF6AAbeVaPdi3GrQWhMnBQQAAAAFEGeYEUVLCP/ABppkBGpu3T6KFLR\n",
       "AAAADgGen3RH/wAA4kU05KVzAAAADwGegWpH/wAA4sADvww5gQAAADNBmoZJqEFsmUwIX//+jLAA\n",
       "UnHbYAhHhgQwE8kfXEwOHbMj+5BmRb1d7mZB9oM5e/IYM+EAAAATQZ6kRRUsI/8AGmKdnIz+yHLt\n",
       "oAAAABgBnsN0R/8AKh/EQAQg56HJcosTK+APvMAAAAAPAZ7Fakf/AADiwAO/DDmBAAAAE0Gaykmo\n",
       "QWyZTAhf//6MsAAAB1QAAAARQZ7oRRUsI/8AAI8VAN/1T5kAAAAOAZ8HdEf/AADiRTTkpXMAAAAP\n",
       "AZ8Jakf/AADiwAO/DDmBAAAAG0GbDkmoQWyZTAhf//6MsABSc76oASKKAzCLgQAAABFBnyxFFSwj\n",
       "/wAAjxUA3/VPmQAAAA4Bn0t0R/8AAOJFNOSlcwAAAA8Bn01qR/8AAOLAA78MOYAAAAATQZtSSahB\n",
       "bJlMCFf//jhAAAAccAAAABFBn3BFFSwj/wAAjxUA3/VPmQAAAA4Bn490R/8AAOJFNOSlcwAAAA8B\n",
       "n5FqR/8AAOLAA78MOYAAAAASQZuVSahBbJlMCP/8hAAAAwGzAAAAEUGfs0UVLCP/AACPFQDf9U+Z\n",
       "AAAADwGf1GpH/wAA4sADvww5gQAAFYptb292AAAAbG12aGQAAAAAAAAAAAAAAAAAAAPoAAAfQAAB\n",
       "AAABAAAAAAAAAAAAAAAAAQAAAAAAAAAAAAAAAAAAAAEAAAAAAAAAAAAAAAAAAEAAAAAAAAAAAAAA\n",
       "AAAAAAAAAAAAAAAAAAAAAAAAAAACAAAUtHRyYWsAAABcdGtoZAAAAAMAAAAAAAAAAAAAAAEAAAAA\n",
       "AAAfQAAAAAAAAAAAAAAAAAAAAAAAAQAAAAAAAAAAAAAAAAAAAAEAAAAAAAAAAAAAAAAAAEAAAAAB\n",
       "sAAAASAAAAAAACRlZHRzAAAAHGVsc3QAAAAAAAAAAQAAH0AAAAIAAAEAAAAAFCxtZGlhAAAAIG1k\n",
       "aGQAAAAAAAAAAAAAAAAAADIAAAGQAFXEAAAAAAAtaGRscgAAAAAAAAAAdmlkZQAAAAAAAAAAAAAA\n",
       "AFZpZGVvSGFuZGxlcgAAABPXbWluZgAAABR2bWhkAAAAAQAAAAAAAAAAAAAAJGRpbmYAAAAcZHJl\n",
       "ZgAAAAAAAAABAAAADHVybCAAAAABAAATl3N0YmwAAACzc3RzZAAAAAAAAAABAAAAo2F2YzEAAAAA\n",
       "AAAAAQAAAAAAAAAAAAAAAAAAAAABsAEgAEgAAABIAAAAAAAAAAEAAAAAAAAAAAAAAAAAAAAAAAAA\n",
       "AAAAAAAAAAAAAAAAAAAY//8AAAAxYXZjQwFkAB7/4QAYZ2QAHqzZQbCWhAAAAwAEAAADAZA8WLZY\n",
       "AQAGaOvjyyLAAAAAHHV1aWRraEDyXyRPxbo5pRvPAyPzAAAAAAAAABhzdHRzAAAAAAAAAAEAAAGQ\n",
       "AAABAAAAABhzdHNzAAAAAAAAAAIAAAABAAAA+wAADChjdHRzAAAAAAAAAYMAAAABAAACAAAAAAEA\n",
       "AAUAAAAAAQAAAgAAAAABAAAAAAAAAAEAAAEAAAAAAQAAAwAAAAABAAABAAAAAAEAAAUAAAAAAQAA\n",
       "AgAAAAABAAAAAAAAAAEAAAEAAAAAAQAABQAAAAABAAACAAAAAAEAAAAAAAAAAQAAAQAAAAABAAAD\n",
       "AAAAAAEAAAEAAAAAAQAABQAAAAABAAACAAAAAAEAAAAAAAAAAQAAAQAAAAABAAAFAAAAAAEAAAIA\n",
       "AAAAAQAAAAAAAAABAAABAAAAAAEAAAUAAAAAAQAAAgAAAAABAAAAAAAAAAEAAAEAAAAAAQAABQAA\n",
       "AAABAAACAAAAAAEAAAAAAAAAAQAAAQAAAAABAAAFAAAAAAEAAAIAAAAAAQAAAAAAAAABAAABAAAA\n",
       "AAEAAAIAAAAAAQAABQAAAAABAAACAAAAAAEAAAAAAAAAAQAAAQAAAAABAAAFAAAAAAEAAAIAAAAA\n",
       "AQAAAAAAAAABAAABAAAAAAEAAAUAAAAAAQAAAgAAAAABAAAAAAAAAAEAAAEAAAAAAQAAAwAAAAAB\n",
       "AAABAAAAAAEAAAQAAAAAAgAAAQAAAAABAAAFAAAAAAEAAAIAAAAAAQAAAAAAAAABAAABAAAAAAEA\n",
       "AAUAAAAAAQAAAgAAAAABAAAAAAAAAAEAAAEAAAAAAQAABQAAAAABAAACAAAAAAEAAAAAAAAAAQAA\n",
       "AQAAAAABAAAFAAAAAAEAAAIAAAAAAQAAAAAAAAABAAABAAAAAAEAAAUAAAAAAQAAAgAAAAABAAAA\n",
       "AAAAAAEAAAEAAAAAAQAABQAAAAABAAACAAAAAAEAAAAAAAAAAQAAAQAAAAABAAADAAAAAAEAAAEA\n",
       "AAAAAQAABAAAAAACAAABAAAAAAEAAAUAAAAAAQAAAgAAAAABAAAAAAAAAAEAAAEAAAAAAQAABQAA\n",
       "AAABAAACAAAAAAEAAAAAAAAAAQAAAQAAAAABAAADAAAAAAEAAAEAAAAAAQAABQAAAAABAAACAAAA\n",
       "AAEAAAAAAAAAAQAAAQAAAAABAAAFAAAAAAEAAAIAAAAAAQAAAAAAAAABAAABAAAAAAEAAAUAAAAA\n",
       "AQAAAgAAAAABAAAAAAAAAAEAAAEAAAAAAQAABQAAAAABAAACAAAAAAEAAAAAAAAAAQAAAQAAAAAB\n",
       "AAADAAAAAAEAAAEAAAAAAQAABAAAAAACAAABAAAAAAEAAAQAAAAAAgAAAQAAAAABAAAFAAAAAAEA\n",
       "AAIAAAAAAQAAAAAAAAABAAABAAAAAAEAAAUAAAAAAQAAAgAAAAABAAAAAAAAAAEAAAEAAAAAAQAA\n",
       "BQAAAAABAAACAAAAAAEAAAAAAAAAAQAAAQAAAAABAAAFAAAAAAEAAAIAAAAAAQAAAAAAAAABAAAB\n",
       "AAAAAAEAAAUAAAAAAQAAAgAAAAABAAAAAAAAAAEAAAEAAAAAAQAABAAAAAACAAABAAAAAAEAAAUA\n",
       "AAAAAQAAAgAAAAABAAAAAAAAAAEAAAEAAAAAAQAABQAAAAABAAACAAAAAAEAAAAAAAAAAQAAAQAA\n",
       "AAABAAACAAAAAAEAAAQAAAAAAgAAAQAAAAABAAAFAAAAAAEAAAIAAAAAAQAAAAAAAAABAAABAAAA\n",
       "AAEAAAUAAAAAAQAAAgAAAAABAAAAAAAAAAEAAAEAAAAAAQAABQAAAAABAAACAAAAAAEAAAAAAAAA\n",
       "AQAAAQAAAAABAAAEAAAAAAIAAAEAAAAAAQAABQAAAAABAAACAAAAAAEAAAAAAAAAAQAAAQAAAAAB\n",
       "AAAFAAAAAAEAAAIAAAAAAQAAAAAAAAABAAABAAAAAAEAAAUAAAAAAQAAAgAAAAABAAAAAAAAAAEA\n",
       "AAEAAAAAAQAABQAAAAABAAACAAAAAAEAAAAAAAAAAQAAAQAAAAABAAAFAAAAAAEAAAIAAAAAAQAA\n",
       "AAAAAAABAAABAAAAAAEAAAUAAAAAAQAAAgAAAAABAAAAAAAAAAEAAAEAAAAAAQAAAwAAAAABAAAB\n",
       "AAAAAAEAAAUAAAAAAQAAAgAAAAABAAAAAAAAAAEAAAEAAAAAAQAABQAAAAABAAACAAAAAAEAAAAA\n",
       "AAAAAQAAAQAAAAABAAAFAAAAAAEAAAIAAAAAAQAAAAAAAAABAAABAAAAAAEAAAQAAAAAAgAAAQAA\n",
       "AAABAAAFAAAAAAEAAAIAAAAAAQAAAAAAAAABAAABAAAAAAEAAAUAAAAAAQAAAgAAAAABAAAAAAAA\n",
       "AAEAAAEAAAAAAQAABQAAAAABAAACAAAAAAEAAAAAAAAAAQAAAQAAAAABAAAFAAAAAAEAAAIAAAAA\n",
       "AQAAAAAAAAABAAABAAAAAAEAAAMAAAAAAQAAAQAAAAABAAAEAAAAAAIAAAEAAAAAAQAABQAAAAAB\n",
       "AAACAAAAAAEAAAAAAAAAAQAAAQAAAAABAAAFAAAAAAEAAAIAAAAAAQAAAAAAAAABAAABAAAAAAEA\n",
       "AAUAAAAAAQAAAgAAAAABAAAAAAAAAAEAAAEAAAAAAQAABQAAAAABAAACAAAAAAEAAAAAAAAAAQAA\n",
       "AQAAAAABAAAFAAAAAAEAAAIAAAAAAQAAAAAAAAABAAABAAAAAAEAAAIAAAAAAQAABQAAAAABAAAC\n",
       "AAAAAAEAAAAAAAAAAQAAAQAAAAABAAADAAAAAAEAAAEAAAAAAQAAAwAAAAABAAABAAAAAAEAAAMA\n",
       "AAAAAQAAAQAAAAABAAAFAAAAAAEAAAIAAAAAAQAAAAAAAAABAAABAAAAAAEAAAMAAAAAAQAAAQAA\n",
       "AAABAAAFAAAAAAEAAAIAAAAAAQAAAAAAAAABAAABAAAAAAEAAAUAAAAAAQAAAgAAAAABAAAAAAAA\n",
       "AAEAAAEAAAAAAQAABQAAAAABAAACAAAAAAEAAAAAAAAAAQAAAQAAAAABAAAFAAAAAAEAAAIAAAAA\n",
       "AQAAAAAAAAABAAABAAAAAAEAAAUAAAAAAQAAAgAAAAABAAAAAAAAAAEAAAEAAAAAAQAABQAAAAAB\n",
       "AAACAAAAAAEAAAAAAAAAAQAAAQAAAAABAAAFAAAAAAEAAAIAAAAAAQAAAAAAAAABAAABAAAAAAEA\n",
       "AAMAAAAAAQAAAQAAAAABAAAFAAAAAAEAAAIAAAAAAQAAAAAAAAABAAABAAAAAAEAAAQAAAAAAgAA\n",
       "AQAAAAABAAADAAAAAAEAAAEAAAAAAQAABAAAAAACAAABAAAAAAEAAAUAAAAAAQAAAgAAAAABAAAA\n",
       "AAAAAAEAAAEAAAAAAQAABQAAAAABAAACAAAAAAEAAAAAAAAAAQAAAQAAAAABAAAFAAAAAAEAAAIA\n",
       "AAAAAQAAAAAAAAABAAABAAAAAAEAAAUAAAAAAQAAAgAAAAABAAAAAAAAAAEAAAEAAAAAAQAABQAA\n",
       "AAABAAACAAAAAAEAAAAAAAAAAQAAAQAAAAABAAACAAAAAAEAAAUAAAAAAQAAAgAAAAABAAAAAAAA\n",
       "AAEAAAEAAAAAAQAABQAAAAABAAACAAAAAAEAAAAAAAAAAQAAAQAAAAABAAAFAAAAAAEAAAIAAAAA\n",
       "AQAAAAAAAAABAAABAAAAAAEAAAUAAAAAAQAAAgAAAAABAAAAAAAAAAEAAAEAAAAAAQAABQAAAAAB\n",
       "AAACAAAAAAEAAAAAAAAAAQAAAQAAAAABAAAFAAAAAAEAAAIAAAAAAQAAAAAAAAABAAABAAAAAAEA\n",
       "AAUAAAAAAQAAAgAAAAABAAAAAAAAAAEAAAEAAAAAAQAABQAAAAABAAACAAAAAAEAAAAAAAAAAQAA\n",
       "AQAAAAABAAAFAAAAAAEAAAIAAAAAAQAAAAAAAAABAAABAAAAAAEAAAQAAAAAAgAAAQAAAAABAAAF\n",
       "AAAAAAEAAAIAAAAAAQAAAAAAAAABAAABAAAAAAEAAAUAAAAAAQAAAgAAAAABAAAAAAAAAAEAAAEA\n",
       "AAAAAQAABQAAAAABAAACAAAAAAEAAAAAAAAAAQAAAQAAAAABAAAFAAAAAAEAAAIAAAAAAQAAAAAA\n",
       "AAABAAABAAAAAAEAAAUAAAAAAQAAAgAAAAABAAAAAAAAAAEAAAEAAAAAAQAABQAAAAABAAACAAAA\n",
       "AAEAAAAAAAAAAQAAAQAAAAABAAAFAAAAAAEAAAIAAAAAAQAAAAAAAAABAAABAAAAAAEAAAQAAAAA\n",
       "AgAAAQAAAAAcc3RzYwAAAAAAAAABAAAAAQAAAZAAAAABAAAGVHN0c3oAAAAAAAAAAAAAAZAAADU3\n",
       "AAACxQAAAFcAAABOAAAAKQAAAH0AAAA3AAAAhQAAADwAAAAtAAAAHgAAAIIAAAAzAAAAKAAAABwA\n",
       "AAA0AAAAJwAAAJQAAAA6AAAAKgAAACgAAABbAAAAMwAAACYAAAAcAAAAPgAAACkAAAAZAAAAGAAA\n",
       "AEkAAAAyAAAAHgAAAB0AAABbAAAANwAAACIAAAAbAAAAPgAAAIQAAAA0AAAAJwAAACgAAAB7AAAA\n",
       "KgAAACQAAAAnAAAAdAAAACcAAAAjAAAAGAAAAEcAAAAtAAAAaQAAADQAAAAnAAAAUwAAADQAAAAi\n",
       "AAAAIwAAAEIAAAAlAAAAGwAAABwAAABEAAAAMAAAABsAAAAaAAAANgAAADIAAAAbAAAAHQAAAIkA\n",
       "AAAzAAAAJQAAACsAAABiAAAAKwAAACsAAAAmAAAAUAAAADAAAABDAAAALAAAACMAAABQAAAAMwAA\n",
       "ACAAAAApAAAAQgAAADMAAAAcAAAAHgAAAEEAAAArAAAASgAAADYAAAAmAAAAKQAAAEQAAAApAAAA\n",
       "GQAAAB8AAABBAAAAMQAAAB4AAAAeAAAATQAAADcAAAAdAAAAJQAAADIAAAAqAAAANgAAACsAAAAc\n",
       "AAAASAAAADIAAAAmAAAAOAAAACgAAAAaAAAAGAAAADUAAAAtAAAAHQAAABwAAAA4AAAAKAAAABcA\n",
       "AAAYAAAAVQAAADcAAAAfAAAAHwAAAE4AAAA3AAAAIwAAAB8AAABRAAAAMQAAAB0AAABUAAAANgAA\n",
       "AB4AAAAmAAAAXAAAADIAAAAbAAAAJQAAAFAAAABIAAAALQAAACIAAABRAAAANgAAAB4AAAAqAAAA\n",
       "SQAAACoAAAAcAAAAJQAAAFIAAAAxAAAAGwAAAB4AAABLAAAANgAAAB4AAABVAAAAMwAAACMAAAAm\n",
       "AAAAQwAAADUAAAAeAAAAHQAAAEMAAAAwAAAAHQAAAB4AAABRAAAAOgAAACQAAAAeAAAAVQAAADMA\n",
       "AAAgAAAAIQAAAEwAAAA4AAAAGwAAACMAAAA9AAAALAAAAFgAAAAyAAAAKAAAABoAAABTAAAAOwAA\n",
       "ABwAAAAdAAAAVQAAACsAAAAgAAAAIAAAADIAAAArAAAAHQAAADgAAAAxAAAAHQAAAB0AAABHAAAA\n",
       "LAAAABwAAAAbAAAAOQAAACkAAAAcAAAAHQAAAD8AAAApAAAAJAAAAB4AAABZAAAALwAAAE8AAAAr\n",
       "AAAAJQAAAE4AAAAnAAAAHwAAABkAAAA1AAAAJwAAABwAAAAZAAAAJQAAACUAAAAZAAAAGQAAADUA\n",
       "AAAnAAAAGQAAABkAAAAXAAAAJQAAABkAAAAZAABCRQAAAbkAAABEAAAANgAAACYAAABuAAAAKQAA\n",
       "AGcAAAAgAAAANQAAABsAAAA/AAAAJQAAACEAAAAXAAAAOAAAABYAAABwAAAAJQAAACIAAAAZAAAA\n",
       "NwAAABsAAAAUAAAAFQAAAEYAAAAiAAAAFQAAABUAAAA5AAAAIwAAAB0AAAAVAAAAJQAAABYAAAAS\n",
       "AAAAEwAAACoAAAAXAAAAEgAAABMAAAAtAAAAFwAAABQAAAAUAAAAQAAAAB8AAABvAAAAGAAAABsA\n",
       "AAATAAAASwAAAB0AAAAeAAAAOgAAABcAAABTAAAAJAAAABwAAAAoAAAAGAAAABQAAAATAAAAQgAA\n",
       "ACEAAAAVAAAAFQAAAEMAAAAYAAAAFQAAABMAAAA6AAAAFwAAABIAAAATAAAASAAAABgAAAAUAAAA\n",
       "HAAAACsAAAAxAAAAFwAAABQAAAATAAAAPwAAAB8AAAAcAAAAFgAAACYAAAAWAAAAEgAAABMAAAA+\n",
       "AAAAFwAAAB8AAAATAAAAOgAAABUAAAASAAAAEwAAABcAAAAVAAAAEgAAABMAAAAXAAAAFQAAABIA\n",
       "AAATAAAAKgAAABUAAAAUAAAAFAAAACIAAAAVAAAAEgAAABMAAAApAAAAFwAAABQAAAA8AAAAFwAA\n",
       "ABUAAAATAAAANgAAAB8AAAAVAAAAEwAAACYAAAAYAAAAEgAAABMAAAA3AAAAFwAAABwAAAATAAAA\n",
       "FwAAABUAAAASAAAAEwAAAB8AAAAVAAAAEgAAABMAAAAXAAAAFQAAABIAAAATAAAAFgAAABUAAAAT\n",
       "AAAAFHN0Y28AAAAAAAAAAQAAACwAAABidWR0YQAAAFptZXRhAAAAAAAAACFoZGxyAAAAAAAAAABt\n",
       "ZGlyYXBwbAAAAAAAAAAAAAAAAC1pbHN0AAAAJal0b28AAAAdZGF0YQAAAAEAAAAATGF2ZjU3LjYx\n",
       "LjEwMA==\n",
       "\">\n",
       "  Your browser does not support the video tag.\n",
       "</video>"
      ],
      "text/plain": [
       "<IPython.core.display.HTML object>"
      ]
     },
     "execution_count": 29,
     "metadata": {},
     "output_type": "execute_result"
    }
   ],
   "source": [
    "HTML(anim.to_html5_video())"
   ]
  },
  {
   "cell_type": "markdown",
   "metadata": {},
   "source": [
    "# Logistic regression\n",
    "Your assignment is to implement the logistic regression\n",
    "\n",
    "Plan:\n",
    "* Use a shared variable for weights\n",
    "* Use a matrix placeholder for `X`\n",
    " \n",
    "We shall train on a two-class MNIST dataset\n",
    "* please note that target `y` are `{0,1}` and not `{-1,1}` as in some formulae"
   ]
  },
  {
   "cell_type": "code",
   "execution_count": 30,
   "metadata": {},
   "outputs": [
    {
     "name": "stdout",
     "output_type": "stream",
     "text": [
      "y [shape - (360,)]: [0 1 0 1 0 1 0 0 1 1]\n",
      "X [shape - (360, 64)]:\n"
     ]
    }
   ],
   "source": [
    "from sklearn.datasets import load_digits\n",
    "mnist = load_digits(2)\n",
    "\n",
    "X, y = mnist.data, mnist.target\n",
    "\n",
    "print(\"y [shape - %s]:\" % (str(y.shape)), y[:10])\n",
    "print(\"X [shape - %s]:\" % (str(X.shape)))"
   ]
  },
  {
   "cell_type": "code",
   "execution_count": 31,
   "metadata": {},
   "outputs": [
    {
     "name": "stdout",
     "output_type": "stream",
     "text": [
      "X:\n",
      " [[  0.   0.   5.  13.   9.   1.   0.   0.   0.   0.]\n",
      " [  0.   0.   0.  12.  13.   5.   0.   0.   0.   0.]\n",
      " [  0.   0.   1.   9.  15.  11.   0.   0.   0.   0.]]\n",
      "y:\n",
      " [0 1 0 1 0 1 0 0 1 1]\n"
     ]
    },
    {
     "data": {
      "image/png": "[encoded data removed]",
      "text/plain": [
       "<matplotlib.figure.Figure at 0x1bfa9614240>"
      ]
     },
     "metadata": {},
     "output_type": "display_data"
    }
   ],
   "source": [
    "print('X:\\n',X[:3,:10])\n",
    "print('y:\\n',y[:10])\n",
    "plt.imshow(X[0].reshape([8,8]));"
   ]
  },
  {
   "cell_type": "markdown",
   "metadata": {},
   "source": [
    "It's your turn now!\n",
    "Just a small reminder of the relevant math:\n",
    "\n",
    "$$\n",
    "P(y=1|X) = \\sigma(X \\cdot W + b)\n",
    "$$\n",
    "$$\n",
    "\\text{loss} = -\\log\\left(P\\left(y_\\text{predicted} = 1\\right)\\right)\\cdot y_\\text{true} - \\log\\left(1 - P\\left(y_\\text{predicted} = 1\\right)\\right)\\cdot\\left(1 - y_\\text{true}\\right)\n",
    "$$\n",
    "\n",
    "$\\sigma(x)$ is available via `tf.nn.sigmoid` and matrix multiplication via `tf.matmul`"
   ]
  },
  {
   "cell_type": "code",
   "execution_count": 49,
   "metadata": {
    "collapsed": true
   },
   "outputs": [],
   "source": [
    "from sklearn.model_selection import train_test_split\n",
    "X_train, X_test, y_train, y_test = train_test_split(\n",
    "    X, y, random_state=42)"
   ]
  },
  {
   "cell_type": "markdown",
   "metadata": {},
   "source": [
    "__Your code goes here.__ For the training and testing scaffolding to work, please stick to the names in comments."
   ]
  },
  {
   "cell_type": "code",
   "execution_count": 53,
   "metadata": {},
   "outputs": [],
   "source": [
    "# Model parameters - weights and bias\n",
    "# weights = tf.Variable(...) shape should be (X.shape[1], 1)\n",
    "# b = tf.Variable(...)\n",
    "weights = tf.Variable(tf.random_normal(shape=(X.shape[1],1), stddev=0.01, dtype=tf.float32))\n",
    "b = tf.Variable(0.0, dtype=tf.float32)\n",
    "s.run(tf.global_variables_initializer())"
   ]
  },
  {
   "cell_type": "code",
   "execution_count": 54,
   "metadata": {
    "collapsed": true
   },
   "outputs": [],
   "source": [
    "# Placeholders for the input data\n",
    "# input_X = tf.placeholder(...)\n",
    "# input_y = tf.placeholder(...)\n",
    "input_X = tf.placeholder(tf.float32, (None, None))\n",
    "input_y = tf.placeholder(tf.float32, (None, ))"
   ]
  },
  {
   "cell_type": "code",
   "execution_count": 55,
   "metadata": {},
   "outputs": [],
   "source": [
    "# The model code\n",
    "\n",
    "# Compute a vector of predictions, resulting shape should be [input_X.shape[0],]\n",
    "# This is 1D, if you have extra dimensions, you can  get rid of them with tf.squeeze .\n",
    "# Don't forget the sigmoid.\n",
    "# predicted_y = <predicted probabilities for input_X>\n",
    "predicted_y = tf.squeeze(tf.sigmoid(tf.matmul(input_X, weights) + b))\n",
    "\n",
    "\n",
    "# Loss. Should be a scalar number - average loss over all the objects\n",
    "# tf.reduce_mean is your friend here\n",
    "# loss = <logistic loss (scalar, mean over sample)>\n",
    "loss = - tf.reduce_mean(input_y * tf.log(predicted_y) + (1-input_y) * tf.log(1-predicted_y))\n",
    "\n",
    "# See above for an example. tf.train.*Optimizer\n",
    "# optimizer = <optimizer that minimizes loss>\n",
    "optimizer = tf.train.MomentumOptimizer(0.01, 0.5).minimize(loss)"
   ]
  },
  {
   "cell_type": "markdown",
   "metadata": {},
   "source": [
    "A test to help with the debugging"
   ]
  },
  {
   "cell_type": "code",
   "execution_count": 56,
   "metadata": {},
   "outputs": [],
   "source": [
    "validation_weights = 1e-3 * np.fromiter(map(lambda x:\n",
    "        s.run(weird_psychotic_function, {my_scalar:x, my_vector:[1, 0.1, 2]}),\n",
    "                                   0.15 * np.arange(1, X.shape[1] + 1)),\n",
    "                                   count=X.shape[1], dtype=np.float32)[:, np.newaxis]\n",
    "# Compute predictions for given weights and bias\n",
    "prediction_validation = s.run(\n",
    "    predicted_y, {\n",
    "    input_X: X,\n",
    "    weights: validation_weights,\n",
    "    b: 1e-1})\n",
    "\n",
    "# Load the reference values for the predictions\n",
    "validation_true_values = np.loadtxt(\"validation_predictons.txt\")\n",
    "\n",
    "assert prediction_validation.shape == (X.shape[0],),\\\n",
    "       \"Predictions must be a 1D array with length equal to the number \" \\\n",
    "       \"of examples in input_X\"\n",
    "assert np.allclose(validation_true_values, prediction_validation)\n",
    "loss_validation = s.run(\n",
    "        loss, {\n",
    "            input_X: X[:100],\n",
    "            input_y: y[-100:],\n",
    "            weights: validation_weights+1.21e-3,\n",
    "            b: -1e-1})\n",
    "assert np.allclose(loss_validation, 0.728689)"
   ]
  },
  {
   "cell_type": "code",
   "execution_count": 57,
   "metadata": {},
   "outputs": [
    {
     "name": "stdout",
     "output_type": "stream",
     "text": [
      "loss at iter 0:0.1392\n",
      "train auc: 0.999945103206\n",
      "test auc: 1.0\n",
      "loss at iter 1:0.0522\n",
      "train auc: 1.0\n",
      "test auc: 1.0\n",
      "loss at iter 2:0.0299\n",
      "train auc: 1.0\n",
      "test auc: 1.0\n",
      "loss at iter 3:0.0212\n",
      "train auc: 1.0\n",
      "test auc: 1.0\n",
      "loss at iter 4:0.0178\n",
      "train auc: 1.0\n",
      "test auc: 1.0\n"
     ]
    }
   ],
   "source": [
    "from sklearn.metrics import roc_auc_score\n",
    "s.run(tf.global_variables_initializer())\n",
    "for i in range(5):\n",
    "    s.run(optimizer, {input_X: X_train, input_y: y_train})\n",
    "    loss_i = s.run(loss, {input_X: X_train, input_y: y_train})\n",
    "    print(\"loss at iter %i:%.4f\" % (i, loss_i))\n",
    "    print(\"train auc:\", roc_auc_score(y_train, s.run(predicted_y, {input_X:X_train})))\n",
    "    print(\"test auc:\", roc_auc_score(y_test, s.run(predicted_y, {input_X:X_test})))"
   ]
  },
  {
   "cell_type": "markdown",
   "metadata": {},
   "source": [
    "### Coursera submission"
   ]
  },
  {
   "cell_type": "code",
   "execution_count": 58,
   "metadata": {
    "collapsed": true
   },
   "outputs": [],
   "source": [
    "grade_submitter = grading.Grader(\"BJCiiY8sEeeCnhKCj4fcOA\")"
   ]
  },
  {
   "cell_type": "code",
   "execution_count": 59,
   "metadata": {
    "collapsed": true
   },
   "outputs": [],
   "source": [
    "test_weights = 1e-3 * np.fromiter(map(lambda x:\n",
    "    s.run(weird_psychotic_function, {my_scalar:x, my_vector:[1, 2, 3]}),\n",
    "                               0.1 * np.arange(1, X.shape[1] + 1)),\n",
    "                               count=X.shape[1], dtype=np.float32)[:, np.newaxis]"
   ]
  },
  {
   "cell_type": "markdown",
   "metadata": {},
   "source": [
    "First, test prediction and loss computation. This part doesn't require a fitted model."
   ]
  },
  {
   "cell_type": "code",
   "execution_count": 60,
   "metadata": {
    "collapsed": true
   },
   "outputs": [],
   "source": [
    "prediction_test = s.run(\n",
    "    predicted_y, {\n",
    "    input_X: X,\n",
    "    weights: test_weights,\n",
    "    b: 1e-1})"
   ]
  },
  {
   "cell_type": "code",
   "execution_count": 61,
   "metadata": {
    "collapsed": true
   },
   "outputs": [],
   "source": [
    "assert prediction_test.shape == (X.shape[0],),\\\n",
    "       \"Predictions must be a 1D array with length equal to the number \" \\\n",
    "       \"of examples in X_test\""
   ]
  },
  {
   "cell_type": "code",
   "execution_count": 62,
   "metadata": {
    "collapsed": true
   },
   "outputs": [],
   "source": [
    "grade_submitter.set_answer(\"0ENlN\", prediction_test)"
   ]
  },
  {
   "cell_type": "code",
   "execution_count": 63,
   "metadata": {
    "collapsed": true
   },
   "outputs": [],
   "source": [
    "loss_test = s.run(\n",
    "    loss, {\n",
    "        input_X: X[:100],\n",
    "        input_y: y[-100:],\n",
    "        weights: test_weights+1.21e-3,\n",
    "        b: -1e-1})\n",
    "# Yes, the X/y indices mistmach is intentional"
   ]
  },
  {
   "cell_type": "code",
   "execution_count": 64,
   "metadata": {
    "collapsed": true
   },
   "outputs": [],
   "source": [
    "grade_submitter.set_answer(\"mMVpM\", loss_test)"
   ]
  },
  {
   "cell_type": "code",
   "execution_count": 65,
   "metadata": {
    "collapsed": true
   },
   "outputs": [],
   "source": [
    "grade_submitter.set_answer(\"D16Rc\", roc_auc_score(y_test, s.run(predicted_y, {input_X:X_test})))"
   ]
  },
  {
   "cell_type": "markdown",
   "metadata": {},
   "source": [
    "Please use the credentials obtained from the Coursera assignment page."
   ]
  },
  {
   "cell_type": "code",
   "execution_count": 66,
   "metadata": {},
   "outputs": [
    {
     "name": "stdout",
     "output_type": "stream",
     "text": [
      "Submitted to Coursera platform. See results on assignment page!\n"
     ]
    }
   ],
   "source": [
    "grade_submitter.submit('nimish.sanghi@gmail.com', 'token')"
   ]
  }
 ],
 "metadata": {
  "kernelspec": {
   "display_name": "Python 3",
   "language": "python",
   "name": "python3"
  },
  "language_info": {
   "codemirror_mode": {
    "name": "ipython",
    "version": 3
   },
   "file_extension": ".py",
   "mimetype": "text/x-python",
   "name": "python",
   "nbconvert_exporter": "python",
   "pygments_lexer": "ipython3",
   "version": "3.5.4"
  }
 },
 "nbformat": 4,
 "nbformat_minor": 1
}
