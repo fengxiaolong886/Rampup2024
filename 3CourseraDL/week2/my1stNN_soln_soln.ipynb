{
 "cells": [
  {
   "cell_type": "code",
   "execution_count": null,
   "metadata": {},
   "outputs": [],
   "source": [
    "from preprocessed_mnist import load_dataset\n",
    "X_train, y_train, X_val, y_val, X_test, y_test = load_dataset()\n",
    "print(X_train.shape, y_train.shape)\n",
    "import matplotlib.pyplot as plt\n",
    "%matplotlib inline\n",
    "plt.imshow(X_train[0], cmap=\"Greys\");"
   ]
  },
  {
   "cell_type": "code",
   "execution_count": 2,
   "metadata": {
    "collapsed": true,
    "jupyter": {
     "outputs_hidden": true
    }
   },
   "outputs": [],
   "source": [
    "import tensorflow as tf\n",
    "import numpy as np\n",
    "import matplotlib.pyplot as plt\n",
    "%matplotlib inline"
   ]
  },
  {
   "cell_type": "code",
   "execution_count": 13,
   "metadata": {
    "collapsed": true,
    "jupyter": {
     "outputs_hidden": true
    }
   },
   "outputs": [],
   "source": [
    "# parameters\n",
    "num_classes = 10\n",
    "h_c1 = 200\n",
    "h_c2 = 50\n",
    "lr_rate = 1e-3\n",
    "batch_size = 100"
   ]
  },
  {
   "cell_type": "code",
   "execution_count": 14,
   "metadata": {
    "collapsed": true,
    "jupyter": {
     "outputs_hidden": true
    }
   },
   "outputs": [],
   "source": [
    "# input placeholders\n",
    "# image is flattened to 1-D vector\n",
    "inputs = tf.placeholder(tf.float32, [None, X_train.shape[1]*X_train.shape[2]])\n",
    "labels = tf.placeholder(tf.float32, [None,num_classes])"
   ]
  },
  {
   "cell_type": "code",
   "execution_count": 15,
   "metadata": {
    "collapsed": true,
    "jupyter": {
     "outputs_hidden": true
    }
   },
   "outputs": [],
   "source": [
    "#build model\n",
    "#layer 1 hidden unit count h_c \n",
    "\n",
    "\n",
    "# layer 1 weights\n",
    "W1 = tf.Variable(tf.truncated_normal([X_train.shape[1]*X_train.shape[2], h_c1], stddev=0.01))\n",
    "b1 = tf.Variable(tf.zeros(h_c1))\n",
    "#layer 1 activation\n",
    "h1 = tf.matmul(inputs, W1) + b1\n",
    "# layer 1 output\n",
    "o1 = tf.nn.relu(h1)\n",
    "\n",
    "# layer 2 weights\n",
    "W2 = tf.Variable(tf.truncated_normal([h_c1, h_c2], stddev=0.01))\n",
    "b2 = tf.Variable(tf.zeros(h_c2))\n",
    "#layer 2 activation\n",
    "h2 = tf.matmul(o1, W2) + b2\n",
    "# layer 2 output\n",
    "o2 = tf.nn.relu(h2)\n",
    "\n",
    "\n",
    "# final layer weights and biases\n",
    "W3 = tf.Variable(tf.truncated_normal([h_c2, num_classes], stddev=0.01))\n",
    "b3 = tf.Variable(tf.zeros(num_classes))\n",
    "# final layer activation\n",
    "logits = tf.matmul(o2, W3) + b3\n",
    "predictions = tf.nn.softmax(logits)"
   ]
  },
  {
   "cell_type": "code",
   "execution_count": 16,
   "metadata": {
    "collapsed": true,
    "jupyter": {
     "outputs_hidden": true
    }
   },
   "outputs": [],
   "source": [
    "# loss and optimizer\n",
    "loss = tf.reduce_sum(tf.nn.softmax_cross_entropy_with_logits(labels=labels, logits=logits))\n",
    "optimizer = tf.train.AdamOptimizer(learning_rate=lr_rate).minimize(loss)\n",
    "accuracy = tf.reduce_sum(tf.cast(tf.equal(tf.argmax(predictions, 1), tf.argmax(labels, 1)), tf.float32))"
   ]
  },
  {
   "cell_type": "code",
   "execution_count": 20,
   "metadata": {},
   "outputs": [
    {
     "name": "stdout",
     "output_type": "stream",
     "text": [
      "After iteration 500, Training Loss=32.633 and Val loss=30.168. Val Accuracy=91.53\n",
      "After iteration 600, Training Loss=29.746 and Val loss=27.989. Val Accuracy=91.75\n",
      "After iteration 700, Training Loss=28.097 and Val loss=26.356. Val Accuracy=92.47\n",
      "After iteration 800, Training Loss=25.295 and Val loss=23.686. Val Accuracy=93.10\n",
      "After iteration 900, Training Loss=25.008 and Val loss=24.156. Val Accuracy=93.04\n",
      "After iteration 1000, Training Loss=21.298 and Val loss=20.487. Val Accuracy=94.26\n",
      "After iteration 1100, Training Loss=19.743 and Val loss=19.649. Val Accuracy=94.36\n",
      "After iteration 1200, Training Loss=18.380 and Val loss=18.377. Val Accuracy=94.77\n",
      "After iteration 1300, Training Loss=17.249 and Val loss=17.052. Val Accuracy=95.12\n",
      "After iteration 1400, Training Loss=18.016 and Val loss=18.564. Val Accuracy=94.75\n",
      "After iteration 1500, Training Loss=15.426 and Val loss=15.959. Val Accuracy=95.49\n",
      "After iteration 1600, Training Loss=14.354 and Val loss=15.548. Val Accuracy=95.51\n",
      "After iteration 1700, Training Loss=13.293 and Val loss=14.601. Val Accuracy=95.99\n",
      "After iteration 1800, Training Loss=12.627 and Val loss=13.763. Val Accuracy=96.24\n",
      "After iteration 1900, Training Loss=14.016 and Val loss=15.767. Val Accuracy=95.48\n",
      "After iteration 2000, Training Loss=11.583 and Val loss=13.336. Val Accuracy=96.29\n",
      "After iteration 2100, Training Loss=11.005 and Val loss=13.281. Val Accuracy=96.19\n",
      "After iteration 2200, Training Loss=10.076 and Val loss=12.544. Val Accuracy=96.63\n",
      "After iteration 2300, Training Loss=9.620 and Val loss=11.865. Val Accuracy=96.67\n",
      "After iteration 2400, Training Loss=11.185 and Val loss=14.108. Val Accuracy=96.18\n",
      "After iteration 2500, Training Loss=9.097 and Val loss=11.847. Val Accuracy=96.65\n",
      "After iteration 2600, Training Loss=8.628 and Val loss=11.820. Val Accuracy=96.76\n",
      "After iteration 2700, Training Loss=7.905 and Val loss=11.321. Val Accuracy=96.95\n",
      "After iteration 2800, Training Loss=7.659 and Val loss=10.776. Val Accuracy=96.89\n",
      "After iteration 2900, Training Loss=9.128 and Val loss=12.922. Val Accuracy=96.56\n",
      "After iteration 3000, Training Loss=7.306 and Val loss=10.972. Val Accuracy=96.97\n",
      "After iteration 3100, Training Loss=6.932 and Val loss=10.867. Val Accuracy=97.07\n",
      "After iteration 3200, Training Loss=6.340 and Val loss=10.482. Val Accuracy=97.20\n",
      "After iteration 3300, Training Loss=6.289 and Val loss=10.042. Val Accuracy=97.10\n",
      "After iteration 3400, Training Loss=7.529 and Val loss=12.186. Val Accuracy=96.67\n",
      "\n",
      "\n",
      "Test Set metrics after traianing\n",
      "Test loss=9.580. Test Accuracy=97.27\n"
     ]
    }
   ],
   "source": [
    "#training\n",
    "epochs = 7\n",
    "training_loss = []\n",
    "validation_loss = []\n",
    "\n",
    "with tf.Session() as sess:\n",
    "\n",
    "    sess.run(tf.global_variables_initializer())\n",
    "    iteration = 0\n",
    "    \n",
    "    for epoch in range(epochs):\n",
    "        for idx in range(0, X_train.shape[0], batch_size):\n",
    "            X = X_train[idx:idx+batch_size]\n",
    "            X = np.reshape(X, [X.shape[0], -1])\n",
    "            y = y_train[idx:idx+batch_size]\n",
    "            y = np.eye(num_classes)[y] #one hot encode\n",
    "            #y = tf.one_hot(y, depth=num_classes)\n",
    "            \n",
    "            feed = {inputs: X, labels: y}\n",
    "            t_loss, _ = sess.run([loss, optimizer], feed_dict=feed)\n",
    "            \n",
    "            if iteration > 400 and iteration % 100 == 0:\n",
    "                #training loss on full batch\n",
    "                train_loss = []\n",
    "                for idx2 in range(0, X_train.shape[0], batch_size):\n",
    "                    X = X_train[idx2: idx2+batch_size]\n",
    "                    X = np.reshape(X, [X.shape[0], -1])\n",
    "                    y = y_train[idx2:idx2+batch_size]\n",
    "                    y = np.eye(num_classes)[y] #one hot encode\n",
    "                    #y = y_train[idx2: idx2+batch_size]\n",
    "                    train_loss.append(sess.run([loss], feed_dict = {inputs:X, labels:y}))\n",
    "                \n",
    "                train_loss_mean = np.mean(train_loss)\n",
    "                training_loss.append(train_loss_mean)\n",
    "                \n",
    "                #validation_loss\n",
    "                val_loss = []\n",
    "                val_accuracy = []\n",
    "                for idx2 in range(0, X_val.shape[0], batch_size):\n",
    "                    X = X_val[idx2: idx2+batch_size]\n",
    "                    X = np.reshape(X, [X.shape[0], -1])\n",
    "                    y = y_val[idx2:idx2+batch_size]\n",
    "                    y = np.eye(num_classes)[y] #one hot encode\n",
    "                    #y = y_test[idx2: idx2+batch_size]\n",
    "                    v_loss, v_acc = sess.run([loss, accuracy], feed_dict = {inputs:X, labels:y})\n",
    "                    val_loss.append(v_loss)\n",
    "                    val_accuracy.append(v_acc)\n",
    "                \n",
    "                val_loss_mean = np.mean(val_loss)\n",
    "                val_accuracy_mean = np.mean(val_accuracy)\n",
    "                validation_loss.append(val_loss_mean)\n",
    "                \n",
    "                print(\"After iteration {}, Training Loss={:.3f} and Val loss={:.3f}. Val Accuracy={:5.2f}\".format(\n",
    "                    iteration, train_loss_mean, val_loss_mean, val_accuracy_mean))\n",
    "            \n",
    "            iteration += 1\n",
    "\n",
    "    #final test_loss and test accuracy\n",
    "    test_loss = []\n",
    "    test_accuracy = []\n",
    "    for idx2 in range(0, X_test.shape[0], batch_size):\n",
    "        X = X_test[idx2: idx2+batch_size]\n",
    "        X = np.reshape(X, [X.shape[0], -1])\n",
    "        y = y_test[idx2:idx2+batch_size]\n",
    "        y = np.eye(num_classes)[y] #one hot encode\n",
    "        #y = y_test[idx2: idx2+batch_size]\n",
    "        t_loss, t_acc = sess.run([loss, accuracy], feed_dict = {inputs:X, labels:y})\n",
    "        test_loss.append(t_loss)\n",
    "        test_accuracy.append(t_acc)\n",
    "\n",
    "    test_loss_mean = np.mean(test_loss)\n",
    "    test_accuracy_mean = np.mean(test_accuracy)\n",
    "\n",
    "    print('\\n')\n",
    "    print('Test Set metrics after traianing')\n",
    "    print(\"Test loss={:.3f}. Test Accuracy={:5.2f}\".format(test_loss_mean, test_accuracy_mean))\n",
    "            \n",
    "            "
   ]
  },
  {
   "cell_type": "code",
   "execution_count": 21,
   "metadata": {},
   "outputs": [
    {
     "data": {
      "image/png": "[encoded data removed]",
      "text/plain": [
       "<matplotlib.figure.Figure at 0x200020d13c8>"
      ]
     },
     "metadata": {},
     "output_type": "display_data"
    }
   ],
   "source": [
    "#plot the training and testing loss\n",
    "x = [i for i in range(len(training_loss))]\n",
    "plt.plot(x, training_loss, label='Train')\n",
    "plt.plot(x, testing_loss, label='Validation')\n",
    "\n",
    "plt.xlabel('Iteration')\n",
    "plt.ylabel('loss')\n",
    "\n",
    "plt.title(\"LOSS Graph\")\n",
    "\n",
    "plt.legend()\n",
    "\n",
    "plt.show()"
   ]
  }
 ],
 "metadata": {
  "kernelspec": {
   "display_name": "Python 3 (ipykernel)",
   "language": "python",
   "name": "python3"
  },
  "language_info": {
   "codemirror_mode": {
    "name": "ipython",
    "version": 3
   },
   "file_extension": ".py",
   "mimetype": "text/x-python",
   "name": "python",
   "nbconvert_exporter": "python",
   "pygments_lexer": "ipython3",
   "version": "3.10.6"
  }
 },
 "nbformat": 4,
 "nbformat_minor": 4
}
