{
 "cells": [
  {
   "cell_type": "markdown",
   "id": "705e4fbd-1384-454a-bfd6-cf86bbb2f8a8",
   "metadata": {},
   "source": [
    "# 4 String\n",
    "https://programmercarl.com/0459.%E9%87%8D%E5%A4%8D%E7%9A%84%E5%AD%90%E5%AD%97%E7%AC%A6%E4%B8%B2.html"
   ]
  },
  {
   "cell_type": "markdown",
   "id": "84d9554e-d7c1-4311-99aa-098ca23a6d66",
   "metadata": {},
   "source": [
    "# 1. 151. 反转字符串中的单词\n",
    "\n",
    "https://leetcode.cn/problems/reverse-words-in-a-string/description/"
   ]
  },
  {
   "cell_type": "code",
   "execution_count": 6,
   "id": "8dab6560-87a3-43c4-9932-d38e5df910bf",
   "metadata": {},
   "outputs": [
    {
     "data": {
      "text/plain": [
       "'example good a'"
      ]
     },
     "execution_count": 6,
     "metadata": {},
     "output_type": "execute_result"
    }
   ],
   "source": [
    "def reverseWords(s):\n",
    "    s = s.split()\n",
    "    s = s[::-1]\n",
    "    return \" \".join(s)\n",
    "\n",
    "s = \"the sky is blue\"\n",
    "s = \"  hello world  \"\n",
    "s = \"a good   example\"\n",
    "reverseWords(s)"
   ]
  },
  {
   "cell_type": "code",
   "execution_count": null,
   "id": "0e734f05-cdc0-498b-b550-bd317430cd24",
   "metadata": {},
   "outputs": [],
   "source": [
    "class Solution:\n",
    "    def reverseWords(self, s: str) -> str:\n",
    "        s = s.split()\n",
    "        s = s[::-1]\n",
    "        return \" \".join(s)"
   ]
  }
 ],
 "metadata": {
  "kernelspec": {
   "display_name": "Python 3 (ipykernel)",
   "language": "python",
   "name": "python3"
  },
  "language_info": {
   "codemirror_mode": {
    "name": "ipython",
    "version": 3
   },
   "file_extension": ".py",
   "mimetype": "text/x-python",
   "name": "python",
   "nbconvert_exporter": "python",
   "pygments_lexer": "ipython3",
   "version": "3.10.6"
  }
 },
 "nbformat": 4,
 "nbformat_minor": 5
}
