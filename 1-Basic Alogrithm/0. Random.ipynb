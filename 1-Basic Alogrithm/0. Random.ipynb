{
 "cells": [
  {
   "cell_type": "markdown",
   "id": "c8fca0c4-c469-4b60-b896-07941397d9b2",
   "metadata": {
    "jp-MarkdownHeadingCollapsed": true
   },
   "source": [
    "# 1. 两数之和\n",
    "https://leetcode.cn/problems/two-sum/description/"
   ]
  },
  {
   "cell_type": "code",
   "execution_count": 6,
   "id": "b960b568-dc60-4bfa-a75a-df1b72727392",
   "metadata": {},
   "outputs": [
    {
     "data": {
      "text/plain": [
       "[0, 1]"
      ]
     },
     "execution_count": 6,
     "metadata": {},
     "output_type": "execute_result"
    }
   ],
   "source": [
    "def twoSum(nums, target):\n",
    "    n = len(nums)\n",
    "    for i in range(n):\n",
    "        for j in range(n):\n",
    "            if i != j and nums[i] + nums[j] == target:\n",
    "                return [i, j]\n",
    "nums = [2,7,11,15]\n",
    "target = 9\n",
    "twoSum(nums, target)"
   ]
  },
  {
   "cell_type": "code",
   "execution_count": null,
   "id": "a2eabb76-7174-45df-9293-2aac6b72e952",
   "metadata": {},
   "outputs": [],
   "source": [
    "class Solution:\n",
    "    def twoSum(self, nums: List[int], target: int) -> List[int]:\n",
    "        n = len(nums)\n",
    "        for i in range(n):\n",
    "            for j in range(n):\n",
    "                if i != j and nums[i] + nums[j] == target:\n",
    "                    return [i, j]"
   ]
  },
  {
   "cell_type": "markdown",
   "id": "d08a9d84-f3e3-44d4-afe7-887577421038",
   "metadata": {
    "jp-MarkdownHeadingCollapsed": true
   },
   "source": [
    "# 2. 9. 回文数\n",
    "https://leetcode.cn/problems/palindrome-number/description/"
   ]
  },
  {
   "cell_type": "code",
   "execution_count": 14,
   "id": "e6c70dfd-db53-4efe-aa6f-5d4f15330b49",
   "metadata": {},
   "outputs": [
    {
     "data": {
      "text/plain": [
       "True"
      ]
     },
     "execution_count": 14,
     "metadata": {},
     "output_type": "execute_result"
    }
   ],
   "source": [
    "def isPalindrome(x):\n",
    "    if x < 0:\n",
    "        return False\n",
    "    y = int(str(x)[::-1])\n",
    "    if x == y:\n",
    "        return True\n",
    "    else: \n",
    "        return False\n",
    "\n",
    "x = 121\n",
    "isPalindrome(x)"
   ]
  },
  {
   "cell_type": "code",
   "execution_count": null,
   "id": "0107459d-e00e-49e8-99fa-7713a15e621f",
   "metadata": {},
   "outputs": [],
   "source": [
    "class Solution:\n",
    "    def isPalindrome(self, x: int) -> bool:\n",
    "        if x < 0:\n",
    "            return False\n",
    "        y = int(str(x)[::-1])\n",
    "        if x == y:\n",
    "            return True\n",
    "        else: \n",
    "            return False"
   ]
  },
  {
   "cell_type": "markdown",
   "id": "a618c5f8-0925-4984-9a7b-45c57222059f",
   "metadata": {
    "jp-MarkdownHeadingCollapsed": true
   },
   "source": [
    "# 3   13. 罗马数字转整数\n",
    "https://leetcode.cn/problems/roman-to-integer/description/"
   ]
  },
  {
   "cell_type": "code",
   "execution_count": 35,
   "id": "2a3f042f-b5a3-4b83-a1f2-c18def4c86b9",
   "metadata": {},
   "outputs": [
    {
     "data": {
      "text/plain": [
       "1994"
      ]
     },
     "execution_count": 35,
     "metadata": {},
     "output_type": "execute_result"
    }
   ],
   "source": [
    "def romanToInt(s):\n",
    "    RomeDict = {\"I\":1, \"V\":5, \"X\":10, \"L\":50, \"C\":100, \"D\":500, \"M\":1000}\n",
    "    if len(s) == 1:\n",
    "        return RomeDict[s]\n",
    "    res = 0\n",
    "    i, n = 0, len(s)\n",
    "    while i < n:\n",
    "        if i != n-1 and RomeDict[s[i]] < RomeDict[s[i + 1]]:\n",
    "            res += RomeDict[s[i + 1]] - RomeDict[s[i]]\n",
    "            i += 2\n",
    "        else:\n",
    "            res += RomeDict[s[i]]\n",
    "            i += 1\n",
    "    return res  \n",
    "        \n",
    "#s = \"MCMXCIV\"\n",
    "#s = \"V\"\n",
    "s = \"MCMXCIV\"\n",
    "romanToInt(s)"
   ]
  },
  {
   "cell_type": "code",
   "execution_count": null,
   "id": "774e2ce2-1ed3-45c8-bd0d-54af2c796f5f",
   "metadata": {},
   "outputs": [],
   "source": [
    "class Solution:\n",
    "    def romanToInt(self, s: str) -> int:\n",
    "        RomeDict = {\"I\":1, \"V\":5, \"X\":10, \"L\":50, \"C\":100, \"D\":500, \"M\":1000}\n",
    "        if len(s) == 1:\n",
    "            return RomeDict[s]\n",
    "        res = 0\n",
    "        i, n = 0, len(s)\n",
    "        while i < n:\n",
    "            if i != n-1 and RomeDict[s[i]] < RomeDict[s[i + 1]]:\n",
    "                res += RomeDict[s[i + 1]] - RomeDict[s[i]]\n",
    "                i += 2\n",
    "            else:\n",
    "                res += RomeDict[s[i]]\n",
    "                i += 1\n",
    "        return res  "
   ]
  },
  {
   "cell_type": "markdown",
   "id": "f45e6b88-aa90-4370-8071-0dbc51e4014f",
   "metadata": {
    "jp-MarkdownHeadingCollapsed": true
   },
   "source": [
    "# 4 14. 最长公共前缀\n",
    "https://leetcode.cn/problems/longest-common-prefix/description/"
   ]
  },
  {
   "cell_type": "code",
   "execution_count": 55,
   "id": "3eda02ad-a548-4663-8476-e4fdcb061350",
   "metadata": {},
   "outputs": [
    {
     "data": {
      "text/plain": [
       "''"
      ]
     },
     "execution_count": 55,
     "metadata": {},
     "output_type": "execute_result"
    }
   ],
   "source": [
    "def longestCommonPrefix(strs):\n",
    "    sample = min(strs, key = len)\n",
    "    res = \"\"\n",
    "    for i in range(len(sample),0, -1):\n",
    "        flag = True\n",
    "        for j in strs:\n",
    "            if not j.startswith(sample[:i]):\n",
    "                flag  = False\n",
    "        if flag: \n",
    "            return sample[:i]\n",
    "    return res\n",
    "    \n",
    "#    res.startswith\n",
    "#    return res\n",
    "\n",
    "strs = [\"flower\",\"flow\",\"flight\"]\n",
    "strs = [\"dog\",\"racecar\",\"car\"]\n",
    "longestCommonPrefix(strs)"
   ]
  },
  {
   "cell_type": "code",
   "execution_count": null,
   "id": "dc367aec-686a-43d3-a024-58f7f49aa607",
   "metadata": {},
   "outputs": [],
   "source": [
    "class Solution:\n",
    "    def longestCommonPrefix(self, strs: List[str]) -> str:\n",
    "        sample = min(strs, key = len)\n",
    "        res = \"\"\n",
    "        for i in range(len(sample),0, -1):\n",
    "            flag = True\n",
    "            for j in strs:\n",
    "                if not j.startswith(sample[:i]):\n",
    "                    flag  = False\n",
    "            if flag: \n",
    "                return sample[:i]\n",
    "        return res"
   ]
  },
  {
   "cell_type": "markdown",
   "id": "8af0a8c4-7762-4ea2-aecf-07b769c03326",
   "metadata": {
    "jp-MarkdownHeadingCollapsed": true
   },
   "source": [
    "# 5. 20. 有效的括号\n",
    "https://leetcode.cn/problems/valid-parentheses/description/"
   ]
  },
  {
   "cell_type": "code",
   "execution_count": 62,
   "id": "9ef275a2-63b6-44b7-aeae-8338215b5100",
   "metadata": {},
   "outputs": [
    {
     "data": {
      "text/plain": [
       "[2, 3]"
      ]
     },
     "execution_count": 62,
     "metadata": {},
     "output_type": "execute_result"
    }
   ],
   "source": [
    "a = [1, 2,3]\n",
    "a.pop(0)\n",
    "a"
   ]
  },
  {
   "cell_type": "code",
   "execution_count": 76,
   "id": "3ecfcec8-e930-4121-a58b-ef894c42ae4c",
   "metadata": {},
   "outputs": [
    {
     "data": {
      "text/plain": [
       "False"
      ]
     },
     "execution_count": 76,
     "metadata": {},
     "output_type": "execute_result"
    }
   ],
   "source": [
    "def isValid(s):\n",
    "    d = {\")\":\"(\",\"]\":\"[\",\"}\":\"{\"}\n",
    "    res  = []\n",
    "    for i in s:\n",
    "        if res and i in d and res[-1] == d[i]:\n",
    "            res.pop()\n",
    "        else:\n",
    "            res.append(i)\n",
    "    return not res\n",
    "\n",
    "#s = \"()[]{}\"\n",
    "#s = \"(]\"\n",
    "#s = \"()\"\n",
    "s = \"([)]\"\n",
    "isValid(s)"
   ]
  },
  {
   "cell_type": "code",
   "execution_count": null,
   "id": "0ddbaab7-1e0c-43ff-8fd0-b19694f887ec",
   "metadata": {},
   "outputs": [],
   "source": [
    "class Solution:\n",
    "    def isValid(self, s: str) -> bool:\n",
    "        d = {\")\":\"(\",\"]\":\"[\",\"}\":\"{\"}\n",
    "        res  = []\n",
    "        for i in s:\n",
    "            if res and i in d and res[-1] == d[i]:\n",
    "                res.pop()\n",
    "            else:\n",
    "                res.append(i)\n",
    "        return not res"
   ]
  },
  {
   "cell_type": "markdown",
   "id": "c46403e2-63f7-4a38-8018-19c6202ab339",
   "metadata": {
    "jp-MarkdownHeadingCollapsed": true
   },
   "source": [
    "# 6 21. 合并两个有序链表\n",
    "https://leetcode.cn/problems/merge-two-sorted-lists/description/"
   ]
  },
  {
   "cell_type": "code",
   "execution_count": null,
   "id": "75dbe9a0-d411-4dba-9558-4bc67499c21c",
   "metadata": {},
   "outputs": [],
   "source": [
    "# Definition for singly-linked list.\n",
    "# class ListNode:\n",
    "#     def __init__(self, val=0, next=None):\n",
    "#         self.val = val\n",
    "#         self.next = next\n",
    "class Solution:\n",
    "    def mergeTwoLists(self, list1: Optional[ListNode], list2: Optional[ListNode]) -> Optional[ListNode]:\n",
    "        if list1 and list2:\n",
    "            if list1.val > list2.val:\n",
    "                list1, list2 = list2, list1\n",
    "            list1.next = self.mergeTwoLists(list1.next, list2)\n",
    "        return list1 or list2"
   ]
  },
  {
   "cell_type": "markdown",
   "id": "7b4cebc0-862d-4727-a873-a8733654e1e5",
   "metadata": {
    "jp-MarkdownHeadingCollapsed": true
   },
   "source": [
    "# 7 26 数组中的重复项\n",
    "https://leetcode.cn/problems/remove-duplicates-from-sorted-array/submissions/548594178/"
   ]
  },
  {
   "cell_type": "code",
   "execution_count": 78,
   "id": "cac11a27-4cc9-4520-b91e-8d112367d19e",
   "metadata": {},
   "outputs": [
    {
     "data": {
      "text/plain": [
       "5"
      ]
     },
     "execution_count": 78,
     "metadata": {},
     "output_type": "execute_result"
    }
   ],
   "source": [
    "def removeDuplicates(nums):\n",
    "    res = sorted(list(set(nums)))\n",
    "    for i in range(len(res)):\n",
    "        nums[i] = res[i]\n",
    "    return len(res)\n",
    "\n",
    "nums = [0,0,1,1,1,2,2,3,3,4]\n",
    "removeDuplicates(nums)"
   ]
  },
  {
   "cell_type": "code",
   "execution_count": null,
   "id": "2e4ce69e-509c-440d-9740-37d72613798b",
   "metadata": {},
   "outputs": [],
   "source": [
    "class Solution:\n",
    "    def removeDuplicates(self, nums: List[int]) -> int:\n",
    "        res = sorted(list(set(nums)))\n",
    "        for i in range(len(res)):\n",
    "            nums[i] = res[i]\n",
    "        return len(res)"
   ]
  },
  {
   "cell_type": "markdown",
   "id": "e9dc3502-eee7-4e84-ba90-eb487a965710",
   "metadata": {
    "jp-MarkdownHeadingCollapsed": true
   },
   "source": [
    "# 8 27. 移除元素\n",
    "https://leetcode.cn/problems/remove-element/description/"
   ]
  },
  {
   "cell_type": "code",
   "execution_count": 80,
   "id": "c71570eb-3f30-4a6a-af99-8da0b75a6f9d",
   "metadata": {},
   "outputs": [],
   "source": [
    "def removeElement(nums, val):\n",
    "    while val in nums:\n",
    "        nums.remove(val) \n",
    "\n",
    "nums = [0,1,2,2,3,0,4,2]\n",
    "val = 2\n",
    "removeElement(nums, val)"
   ]
  },
  {
   "cell_type": "code",
   "execution_count": null,
   "id": "732133e9-4cae-49aa-af18-f17277ec8c9a",
   "metadata": {},
   "outputs": [],
   "source": [
    "class Solution:\n",
    "    def removeElement(self, nums: List[int], val: int) -> int:\n"
   ]
  },
  {
   "cell_type": "markdown",
   "id": "554b2753-ff35-4632-a8b2-af1587465a18",
   "metadata": {
    "jp-MarkdownHeadingCollapsed": true
   },
   "source": [
    "# 9 28. 找出字符串中第一个匹配项的下标\n",
    "\n",
    "https://leetcode.cn/problems/find-the-index-of-the-first-occurrence-in-a-string/description/"
   ]
  },
  {
   "cell_type": "code",
   "execution_count": 92,
   "id": "3aaa870a-07ab-44fb-818d-9d3a77c56593",
   "metadata": {},
   "outputs": [
    {
     "name": "stdout",
     "output_type": "stream",
     "text": [
      "fgs sad\n",
      "gsa sad\n",
      "sad sad\n"
     ]
    },
    {
     "data": {
      "text/plain": [
       "2"
      ]
     },
     "execution_count": 92,
     "metadata": {},
     "output_type": "execute_result"
    }
   ],
   "source": [
    "def strStr(haystack, needle):\n",
    "    if needle not in haystack:\n",
    "        return -1\n",
    "    reslen = len(needle)\n",
    "    n =  len(haystack)\n",
    "    res = 0\n",
    "    for i in range(n):\n",
    "        if haystack[i: i + reslen] == needle:\n",
    "            res = i\n",
    "            break\n",
    "    return res\n",
    "        \n",
    "\n",
    "haystack = \"fgsadbutsad\"\n",
    "needle = \"sad\"\n",
    "#haystack = \"leetcode\"\n",
    "#needle = \"leeto\"\n",
    "strStr(haystack, needle)"
   ]
  },
  {
   "cell_type": "code",
   "execution_count": null,
   "id": "b7ab013d-b825-494a-9179-976ac37ebdf1",
   "metadata": {},
   "outputs": [],
   "source": [
    "class Solution:\n",
    "    def strStr(self, haystack: str, needle: str) -> int:\n",
    "        if needle not in haystack:\n",
    "            return -1\n",
    "        reslen = len(needle)\n",
    "        n =  len(haystack)\n",
    "        res = 0\n",
    "        for i in range(n):\n",
    "            if haystack[i: i + reslen] == needle:\n",
    "                res = i\n",
    "                break\n",
    "        return res"
   ]
  },
  {
   "cell_type": "markdown",
   "id": "a952837e-d849-4e75-9b2a-1837bc4171bb",
   "metadata": {
    "jp-MarkdownHeadingCollapsed": true
   },
   "source": [
    "# 10  35. 搜索插入位置\n",
    "https://leetcode.cn/problems/search-insert-position/description/"
   ]
  },
  {
   "cell_type": "code",
   "execution_count": 97,
   "id": "9b75524e-277b-4acc-af83-a596354cbe0d",
   "metadata": {},
   "outputs": [
    {
     "data": {
      "text/plain": [
       "4"
      ]
     },
     "execution_count": 97,
     "metadata": {},
     "output_type": "execute_result"
    }
   ],
   "source": [
    "def searchInsert(nums, target):\n",
    "    if target in nums:\n",
    "        return nums.index(target)\n",
    "\n",
    "    if target < nums[0]:\n",
    "        return 0\n",
    "\n",
    "    if target > nums[-1]:\n",
    "        return len(nums)\n",
    "\n",
    "    for i in range(1, len(nums)):\n",
    "        if nums[i-1] < target < nums[i]:\n",
    "            return i\n",
    "\n",
    "nums = [1,3,5,6]\n",
    "target = 7\n",
    "searchInsert(nums, target)"
   ]
  },
  {
   "cell_type": "code",
   "execution_count": null,
   "id": "56b80d7c-e373-472f-a61d-55810ec8ea8d",
   "metadata": {},
   "outputs": [],
   "source": [
    "class Solution:\n",
    "    def searchInsert(self, nums: List[int], target: int) -> int:\n",
    "        if target in nums:\n",
    "            return nums.index(target)\n",
    "    \n",
    "        if target < nums[0]:\n",
    "            return 0\n",
    "    \n",
    "        if target > nums[-1]:\n",
    "            return len(nums)\n",
    "    \n",
    "        for i in range(1, len(nums)):\n",
    "            if nums[i-1] < target < nums[i]:\n",
    "                return i"
   ]
  },
  {
   "cell_type": "markdown",
   "id": "e6e5a652-99cb-4af3-bba1-1d604c0c6a29",
   "metadata": {
    "jp-MarkdownHeadingCollapsed": true
   },
   "source": [
    "# 11 58. 最后一个单词的长度\n",
    "https://leetcode.cn/problems/length-of-last-word/description/"
   ]
  },
  {
   "cell_type": "code",
   "execution_count": 102,
   "id": "1313e176-a949-4ea5-9500-0336589a25ae",
   "metadata": {},
   "outputs": [
    {
     "data": {
      "text/plain": [
       "6"
      ]
     },
     "execution_count": 102,
     "metadata": {},
     "output_type": "execute_result"
    }
   ],
   "source": [
    "def lengthOfLastWord(s):\n",
    "    return len(s.split()[-1])\n",
    "\n",
    "s = \"luffy is still joyboy\"\n",
    "lengthOfLastWord(s)"
   ]
  },
  {
   "cell_type": "code",
   "execution_count": null,
   "id": "7540d2b3-3834-4f58-8428-ff764812bf38",
   "metadata": {},
   "outputs": [],
   "source": [
    "class Solution:\n",
    "    def lengthOfLastWord(self, s: str) -> int:\n",
    "        return len(s.split()[-1])"
   ]
  },
  {
   "cell_type": "markdown",
   "id": "7ab065bb-c280-49cd-92ba-be355ccd156b",
   "metadata": {
    "jp-MarkdownHeadingCollapsed": true
   },
   "source": [
    "# 12 66. 加一\n",
    "https://leetcode.cn/problems/plus-one/description/"
   ]
  },
  {
   "cell_type": "code",
   "execution_count": 112,
   "id": "82ac7d01-51a6-462a-aa38-c6da07c80322",
   "metadata": {},
   "outputs": [
    {
     "name": "stdout",
     "output_type": "stream",
     "text": [
      "[1, 2, 4]\n"
     ]
    }
   ],
   "source": [
    "def plusOne(digits):\n",
    "    s = \"\"\n",
    "    for i in digits:\n",
    "        s += str(i)\n",
    "    s = int(s) + 1\n",
    "    s = list(str(s))\n",
    "    for i in range(len(s)):\n",
    "        s[i] = int(s[i])\n",
    "    return s\n",
    "    \n",
    "digits = [1,2,3]\n",
    "plusOne(digits)"
   ]
  },
  {
   "cell_type": "code",
   "execution_count": null,
   "id": "f8fb7bf2-a22d-4e32-926c-8ea1cb0440f7",
   "metadata": {},
   "outputs": [],
   "source": [
    "class Solution:\n",
    "    def plusOne(self, digits: List[int]) -> List[int]:\n",
    "        s = \"\"\n",
    "        for i in digits:\n",
    "            s += str(i)\n",
    "        s = int(s) + 1\n",
    "        s = list(str(s))\n",
    "        for i in range(len(s)):\n",
    "            s[i] = int(s[i])\n",
    "        return s"
   ]
  },
  {
   "cell_type": "markdown",
   "id": "6d0ac35a-4c97-4ac5-bc34-74b39471dd5c",
   "metadata": {
    "jp-MarkdownHeadingCollapsed": true
   },
   "source": [
    "# 13. 67. 二进制求和\n",
    "https://leetcode.cn/problems/add-binary/description/"
   ]
  },
  {
   "cell_type": "code",
   "execution_count": 124,
   "id": "7d9c33bb-c047-49e9-8bb9-a041d95550f8",
   "metadata": {},
   "outputs": [
    {
     "data": {
      "text/plain": [
       "'10101'"
      ]
     },
     "execution_count": 124,
     "metadata": {},
     "output_type": "execute_result"
    }
   ],
   "source": [
    "def addBinary(a, b):\n",
    "    return str(bin(int(a, 2) + int(b, 2)))[2:]\n",
    "\n",
    "a = \"1010\"\n",
    "b = \"1011\"\n",
    "addBinary(a, b)"
   ]
  },
  {
   "cell_type": "code",
   "execution_count": null,
   "id": "cb5c2340-c605-4b1a-8e4e-7ff1ca4616c6",
   "metadata": {},
   "outputs": [],
   "source": [
    "class Solution:\n",
    "    def addBinary(self, a: str, b: str) -> str:\n",
    "        return str(bin(int(a, 2) + int(b, 2)))[2:]"
   ]
  },
  {
   "cell_type": "markdown",
   "id": "ee715db9-411c-4862-a0be-a4faab859e2e",
   "metadata": {
    "jp-MarkdownHeadingCollapsed": true
   },
   "source": [
    "# 14.  69. x 的平方根 \n",
    "https://leetcode.cn/problems/sqrtx/description/"
   ]
  },
  {
   "cell_type": "code",
   "execution_count": 128,
   "id": "acad27d1-59f3-40db-b940-ea061e99b66e",
   "metadata": {},
   "outputs": [
    {
     "data": {
      "text/plain": [
       "2"
      ]
     },
     "execution_count": 128,
     "metadata": {},
     "output_type": "execute_result"
    }
   ],
   "source": [
    "def mySqrt(x):\n",
    "    return int(x ** 0.5)\n",
    "x = 8\n",
    "mySqrt(x)"
   ]
  },
  {
   "cell_type": "code",
   "execution_count": null,
   "id": "0c140295-a82c-4cd8-87dd-fe4af3183138",
   "metadata": {},
   "outputs": [],
   "source": [
    "class Solution:\n",
    "    def mySqrt(self, x: int) -> int:\n",
    "        return int(x ** 0.5)"
   ]
  },
  {
   "cell_type": "markdown",
   "id": "fc5e3f83-6595-471a-9a76-6ac9840a2442",
   "metadata": {
    "jp-MarkdownHeadingCollapsed": true
   },
   "source": [
    "# 15 88. 合并两个有序数组\n",
    "https://leetcode.cn/problems/merge-sorted-array/description/"
   ]
  },
  {
   "cell_type": "code",
   "execution_count": 135,
   "id": "19972135-8b5a-42f4-b3ae-eda55168fca0",
   "metadata": {},
   "outputs": [
    {
     "data": {
      "text/plain": [
       "[1, 2, 2, 3, 5, 6]"
      ]
     },
     "execution_count": 135,
     "metadata": {},
     "output_type": "execute_result"
    }
   ],
   "source": [
    "def merge(nums1, m, nums2, n):\n",
    "    for i in range(n):\n",
    "        nums1[m + i] = nums2[i]\n",
    "    nums1.sort()\n",
    "    return nums1\n",
    "        \n",
    "\n",
    "nums1 = [1,2,3,0,0,0]\n",
    "m = 3\n",
    "nums2 = [2,5,6]\n",
    "n = 3\n",
    "\n",
    "merge(nums1, m, nums2, n)"
   ]
  },
  {
   "cell_type": "code",
   "execution_count": null,
   "id": "331417c6-9db1-4211-b5e8-62d5e57bc05b",
   "metadata": {},
   "outputs": [],
   "source": [
    "class Solution:\n",
    "    def merge(self, nums1: List[int], m: int, nums2: List[int], n: int) -> None:\n",
    "        \"\"\"\n",
    "        Do not return anything, modify nums1 in-place instead.\n",
    "        \"\"\"\n",
    "        for i in range(n):\n",
    "            nums1[m + i] = nums2[i]\n",
    "        nums1.sort()"
   ]
  },
  {
   "cell_type": "markdown",
   "id": "aa8fc678-3323-426d-8aca-714d9ee85e31",
   "metadata": {
    "jp-MarkdownHeadingCollapsed": true
   },
   "source": [
    "# 16 83. 删除排序链表中的重复元素\n",
    "https://leetcode.cn/problems/remove-duplicates-from-sorted-list/description/"
   ]
  },
  {
   "cell_type": "code",
   "execution_count": null,
   "id": "31cd12b2-3510-45a5-8e4f-dc74de4cb4b8",
   "metadata": {},
   "outputs": [],
   "source": [
    "# Definition for singly-linked list.\n",
    "# class ListNode:\n",
    "#     def __init__(self, val=0, next=None):\n",
    "#         self.val = val\n",
    "#         self.next = next\n",
    "class Solution:\n",
    "    def deleteDuplicates(self, head: Optional[ListNode]) -> Optional[ListNode]:\n",
    "        if not head or not head.next:\n",
    "            return head\n",
    "        cur = head\n",
    "        while cur and cur.next:\n",
    "            if cur.val == cur.next.val:\n",
    "                cur.next = cur.next.next\n",
    "            else:\n",
    "                cur = cur.next\n",
    "        return head"
   ]
  },
  {
   "cell_type": "markdown",
   "id": "72e12eab-6d8b-42a2-835f-a25f4cdadb7c",
   "metadata": {
    "jp-MarkdownHeadingCollapsed": true
   },
   "source": [
    "# 17. 168. Excel表列名称\n",
    "https://leetcode.cn/problems/excel-sheet-column-title/"
   ]
  },
  {
   "cell_type": "code",
   "execution_count": 177,
   "id": "07883cd7-6712-493b-8cef-eb3768d81b7a",
   "metadata": {},
   "outputs": [
    {
     "name": "stdout",
     "output_type": "stream",
     "text": [
      "1\n"
     ]
    },
    {
     "data": {
      "text/plain": [
       "'AB'"
      ]
     },
     "execution_count": 177,
     "metadata": {},
     "output_type": "execute_result"
    }
   ],
   "source": [
    "def convertToTitle(columnNumber):\n",
    "    res = []\n",
    "    s = \"ABCDEFGHIJKLMNOPQRSTUVWXYZ\"\n",
    "    if columnNumber <= 26:\n",
    "        return s[columnNumber - 1]\n",
    "    while columnNumber > 26:\n",
    "        res.append(columnNumber % 26)\n",
    "        columnNumber = columnNumber//26\n",
    "        print(columnNumber)\n",
    "        if columnNumber <= 26:\n",
    "            res.append(columnNumber)\n",
    "    res = res[::-1]\n",
    "    ans = \"\"\n",
    "    for i in res: \n",
    "        ans += s[i - 1]\n",
    "    return ans\n",
    "\n",
    "columnNumber =  28\n",
    "convertToTitle(columnNumber)"
   ]
  },
  {
   "cell_type": "code",
   "execution_count": 185,
   "id": "f8c5ba77-c140-4350-9306-60c520a16e4e",
   "metadata": {},
   "outputs": [
    {
     "data": {
      "text/plain": [
       "'ZY'"
      ]
     },
     "execution_count": 185,
     "metadata": {},
     "output_type": "execute_result"
    }
   ],
   "source": [
    "def convertToTitle(columnNumber):\n",
    "    s = \"\"\n",
    "    n = columnNumber\n",
    "    while n:\n",
    "        n -= 1\n",
    "        s = chr (65 + n%26) + s\n",
    "        n = n//26\n",
    "    return s\n",
    "\n",
    "columnNumber =  701\n",
    "convertToTitle(columnNumber)"
   ]
  },
  {
   "cell_type": "code",
   "execution_count": null,
   "id": "713b1559-7187-4f71-bb7b-c484a81a3250",
   "metadata": {},
   "outputs": [],
   "source": [
    "class Solution:\n",
    "    def convertToTitle(self, columnNumber: int) -> str:\n",
    "        s = \"\"\n",
    "        n = columnNumber\n",
    "        while n:\n",
    "            n -= 1\n",
    "            s = chr (65 + n%26) + s\n",
    "            n = n//26\n",
    "        return s\n"
   ]
  },
  {
   "cell_type": "markdown",
   "id": "caabb454-a5f6-4053-b3b6-01169d75e3e0",
   "metadata": {
    "jp-MarkdownHeadingCollapsed": true
   },
   "source": [
    "# 18  169. 多数元素\n",
    "https://leetcode.cn/problems/majority-element/description/"
   ]
  },
  {
   "cell_type": "code",
   "execution_count": 193,
   "id": "c8d15938-a26c-4c60-81b7-0c7910268881",
   "metadata": {},
   "outputs": [
    {
     "data": {
      "text/plain": [
       "3"
      ]
     },
     "execution_count": 193,
     "metadata": {},
     "output_type": "execute_result"
    }
   ],
   "source": [
    "from collections import Counter\n",
    "def majorityElement(nums):\n",
    "    n = len(nums) / 2\n",
    "    res = Counter(nums)\n",
    "    for i in res:\n",
    "        if res[i] > n:\n",
    "            return i\n",
    "\n",
    "nums = [3,2,3]\n",
    "majorityElement(nums)"
   ]
  },
  {
   "cell_type": "code",
   "execution_count": null,
   "id": "dca67d15-9b78-4e55-95c5-cb01a00a91e0",
   "metadata": {},
   "outputs": [],
   "source": [
    "from collections import Counter\n",
    "class Solution:\n",
    "    def majorityElement(self, nums: List[int]) -> int:\n",
    "        n = len(nums) / 2\n",
    "        res = Counter(nums)\n",
    "        for i in res:\n",
    "            if res[i] > n:\n",
    "                return i"
   ]
  },
  {
   "cell_type": "markdown",
   "id": "a12eb774-f633-4543-90cf-919f1c5e63d8",
   "metadata": {
    "jp-MarkdownHeadingCollapsed": true
   },
   "source": [
    "# 19 171. Excel 表列序号\n",
    "https://leetcode.cn/problems/excel-sheet-column-number/description/"
   ]
  },
  {
   "cell_type": "code",
   "execution_count": 226,
   "id": "f1aee753-5fc9-4ab8-a2c9-e9c590dae88a",
   "metadata": {},
   "outputs": [
    {
     "data": {
      "text/plain": [
       "701"
      ]
     },
     "execution_count": 226,
     "metadata": {},
     "output_type": "execute_result"
    }
   ],
   "source": [
    "def titleToNumber(columnTitle):\n",
    "    res = 0\n",
    "    for i in columnTitle:\n",
    "        res = res * 26 +ord(i) - 64\n",
    "    return res\n",
    "\n",
    "columnTitle = \"ZY\"\n",
    "titleToNumber(columnTitle)"
   ]
  },
  {
   "cell_type": "code",
   "execution_count": null,
   "id": "0483b7b3-56e1-4331-8f22-81e8479afddb",
   "metadata": {},
   "outputs": [],
   "source": [
    "class Solution:\n",
    "    def titleToNumber(self, columnTitle: str) -> int:\n",
    "        res = 0\n",
    "        for i in columnTitle:\n",
    "            res = res * 26 +ord(i) - 64\n",
    "        return res"
   ]
  },
  {
   "cell_type": "markdown",
   "id": "e466d760-e16e-4820-8f1f-36328dfe92a2",
   "metadata": {
    "jp-MarkdownHeadingCollapsed": true
   },
   "source": [
    "# 20 190. 颠倒二进制位\n",
    "https://leetcode.cn/problems/reverse-bits/description/"
   ]
  },
  {
   "cell_type": "code",
   "execution_count": 244,
   "id": "e9b01c48-6fd6-46e6-a4d7-71865c81dff7",
   "metadata": {},
   "outputs": [
    {
     "ename": "SyntaxError",
     "evalue": "leading zeros in decimal integer literals are not permitted; use an 0o prefix for octal integers (1280380738.py, line 7)",
     "output_type": "error",
     "traceback": [
      "\u001b[0;36m  Cell \u001b[0;32mIn[244], line 7\u001b[0;36m\u001b[0m\n\u001b[0;31m    n = 00000010100101000001111010011100\u001b[0m\n\u001b[0m        ^\u001b[0m\n\u001b[0;31mSyntaxError\u001b[0m\u001b[0;31m:\u001b[0m leading zeros in decimal integer literals are not permitted; use an 0o prefix for octal integers\n"
     ]
    }
   ],
   "source": [
    "def reverseBits(n):\n",
    "    x = str(n)\n",
    "    x = x[::-1]\n",
    "    res = int(x, 2)\n",
    "    return res\n",
    "\n",
    "n = 00000010100101000001111010011100\n",
    "#n = \"00000010100101000001111010011100\"\n",
    "reverseBits(n)"
   ]
  },
  {
   "cell_type": "code",
   "execution_count": null,
   "id": "3c455a6b-728a-44a5-b2cd-5549ffb8def1",
   "metadata": {},
   "outputs": [],
   "source": [
    "class Solution:\n",
    "    def reverseBits(self, n: int) -> int:\n",
    "        x = str(n)\n",
    "        x = x[::-1]\n",
    "        res = int(x, 2)\n",
    "        return res\n",
    "            "
   ]
  },
  {
   "cell_type": "markdown",
   "id": "7d5100c5-d1c8-49b2-ac8a-041e08ffed48",
   "metadata": {
    "jp-MarkdownHeadingCollapsed": true
   },
   "source": [
    "# 21 191. 位1的个数\n",
    "https://leetcode.cn/problems/number-of-1-bits/description/"
   ]
  },
  {
   "cell_type": "code",
   "execution_count": 260,
   "id": "6ed6a36d-58ce-44a5-8844-6af3f095d397",
   "metadata": {},
   "outputs": [
    {
     "data": {
      "text/plain": [
       "3"
      ]
     },
     "execution_count": 260,
     "metadata": {},
     "output_type": "execute_result"
    }
   ],
   "source": [
    "from collections import Counter\n",
    "def hammingWeight(n):\n",
    "    res = bin(n)\n",
    "    x = Counter(res)\n",
    "    return x[\"1\"]\n",
    "    \n",
    "n = 2147483645\n",
    "n = 128\n",
    "n = 11\n",
    "hammingWeight(n)"
   ]
  },
  {
   "cell_type": "code",
   "execution_count": null,
   "id": "0616501b-bc4a-4cae-87f6-5700e4663815",
   "metadata": {},
   "outputs": [],
   "source": [
    "from collections import Counter\n",
    "class Solution:\n",
    "    def hammingWeight(self, n: int) -> int:\n",
    "        res = bin(n)\n",
    "        x = Counter(res)\n",
    "        return x[\"1\"]"
   ]
  },
  {
   "cell_type": "markdown",
   "id": "f1371a9f-f59d-45d0-8320-c7629928dd4f",
   "metadata": {
    "jp-MarkdownHeadingCollapsed": true
   },
   "source": [
    "# 22 202. 快乐数\n",
    "https://leetcode.cn/problems/happy-number/description/"
   ]
  },
  {
   "cell_type": "code",
   "execution_count": 289,
   "id": "18ae8a15-d274-49dc-9dc6-527af7f9b631",
   "metadata": {},
   "outputs": [
    {
     "data": {
      "text/plain": [
       "False"
      ]
     },
     "execution_count": 289,
     "metadata": {},
     "output_type": "execute_result"
    }
   ],
   "source": [
    "def isHappy(n):\n",
    "    s = set()\n",
    "    while n != 1 and n not in s:\n",
    "        s.add(n)\n",
    "        n = squaresum(n)\n",
    "\n",
    "    return n == 1\n",
    "\n",
    "def squaresum(n):\n",
    "    sums = 0\n",
    "    while n > 0:\n",
    "        a, b = divmod(n, 10)\n",
    "        sums += b * b\n",
    "        n  = n // 10\n",
    "    return sums\n",
    "        \n",
    "\n",
    "n = 2\n",
    "#squaresum(n)\n",
    "isHappy(n)"
   ]
  },
  {
   "cell_type": "code",
   "execution_count": null,
   "id": "3eab4867-6b10-4e48-9572-7584b0909039",
   "metadata": {},
   "outputs": [],
   "source": [
    "class Solution:\n",
    "    def isHappy(self, n: int) -> bool:\n",
    "        s = set()\n",
    "        while n != 1 and n not in s:\n",
    "            s.add(n)\n",
    "            n = self.squaresum(n)\n",
    "    \n",
    "        return n == 1\n",
    "\n",
    "    def squaresum(self, n):\n",
    "        sums = 0\n",
    "        while n > 0:\n",
    "            a, b = divmod(n, 10)\n",
    "            sums += b * b\n",
    "            n  = n // 10\n",
    "        return sums"
   ]
  },
  {
   "cell_type": "markdown",
   "id": "b0527b38-c8c6-43e5-8b52-ae8863a4671e",
   "metadata": {
    "jp-MarkdownHeadingCollapsed": true
   },
   "source": [
    "# 23 205. 同构字符串\n",
    "https://leetcode.cn/problems/isomorphic-strings/description/"
   ]
  },
  {
   "cell_type": "code",
   "execution_count": 325,
   "id": "c68a2c2d-e846-454f-888d-8dccabe8166f",
   "metadata": {},
   "outputs": [
    {
     "data": {
      "text/plain": [
       "False"
      ]
     },
     "execution_count": 325,
     "metadata": {},
     "output_type": "execute_result"
    }
   ],
   "source": [
    "def isIsomorphic(s, t):\n",
    "    res1 = dict(zip(s, t))\n",
    "    res = dict(zip(t, s))\n",
    "    if len(res.keys() ) != len(res1.keys()):\n",
    "        return False                                      \n",
    "    t_modify = \"\"\n",
    "    for i in range(len(t)):\n",
    "        if t[i] in res.keys():\n",
    "            t_modify += res[t[i]]\n",
    "        else: \n",
    "            return False\n",
    "    return t_modify == s\n",
    "        \n",
    "    \n",
    "s = \"bbbaaaba\"\n",
    "t = \"aaabbbba\"\n",
    "#s = \"paper\"\n",
    "#t = \"title\"\n",
    "#s = \"egg\"\n",
    "#t = \"add\"\n",
    "#s = \"foo\"\n",
    "#t = \"bar\"\n",
    "isIsomorphic(s, t)"
   ]
  },
  {
   "cell_type": "code",
   "execution_count": null,
   "id": "d4af050d-6c7c-4e0e-a944-23941ec8adea",
   "metadata": {},
   "outputs": [],
   "source": [
    "class Solution:\n",
    "    def isIsomorphic(self, s: str, t: str) -> bool:\n",
    "        res1 = dict(zip(s, t))\n",
    "        res = dict(zip(t, s))\n",
    "        if len(res.keys() ) != len(res1.keys()):\n",
    "            return False                                      \n",
    "        t_modify = \"\"\n",
    "        for i in range(len(t)):\n",
    "            if t[i] in res.keys():\n",
    "                t_modify += res[t[i]]\n",
    "            else: \n",
    "                return False\n",
    "        return t_modify == s\n",
    "            "
   ]
  },
  {
   "cell_type": "markdown",
   "id": "4740cd8d-ad3f-47bb-925c-ce68e039001d",
   "metadata": {
    "jp-MarkdownHeadingCollapsed": true
   },
   "source": [
    "# 24  219. 存在重复元素 II \n",
    "https://leetcode.cn/problems/contains-duplicate-ii/description/"
   ]
  },
  {
   "cell_type": "code",
   "execution_count": 343,
   "id": "bff393dc-569c-4bc1-8774-61604fc8c604",
   "metadata": {},
   "outputs": [
    {
     "data": {
      "text/plain": [
       "True"
      ]
     },
     "execution_count": 343,
     "metadata": {},
     "output_type": "execute_result"
    }
   ],
   "source": [
    "## 有问题\n",
    "def containsNearbyDuplicate(nums, k):\n",
    "    res = False\n",
    "    if len(nums) < k:\n",
    "        return False\n",
    "    fast, slow = 0, 0\n",
    "    for slow in range(len(nums)):\n",
    "        for fast in range(1, len(nums)):\n",
    "            if fast - slow <= k and nums[slow] == nums[fast]:\n",
    "                return True\n",
    "    return res\n",
    "            \n",
    "#nums = [1,2,3,1,2,3]\n",
    "#k = 2\n",
    "#nums = [1,0,1,1]\n",
    "#k = 1\n",
    "#nums = [1,2,3,1]\n",
    "#k = 3\n",
    "#nums = [-1,-1]\n",
    "#k = 1\n",
    "nums = [99,99]\n",
    "k = 2\n",
    "nums = [1,2,3,1,2,3]\n",
    "k = 2\n",
    "containsNearbyDuplicate(nums, k)"
   ]
  },
  {
   "cell_type": "code",
   "execution_count": 363,
   "id": "385c30fe-d163-4136-881a-07d74726366f",
   "metadata": {},
   "outputs": [
    {
     "name": "stdout",
     "output_type": "stream",
     "text": [
      "0 3 1 1\n"
     ]
    },
    {
     "data": {
      "text/plain": [
       "True"
      ]
     },
     "execution_count": 363,
     "metadata": {},
     "output_type": "execute_result"
    }
   ],
   "source": [
    "# Timeout\n",
    "def containsNearbyDuplicate(nums, k):\n",
    "    n = len(nums)\n",
    "    for i in range(n - 1):\n",
    "        for j in range(i + 1, n):\n",
    "            if nums[i] == nums[j] and abs(i - j) <= k:\n",
    "                return True\n",
    "    return False\n",
    "            \n",
    "#nums = [1,2,3,1,2,3]\n",
    "#k = 2\n",
    "#nums = [1,0,1,1]\n",
    "#k = 1\n",
    "nums = [1,2,3,1]\n",
    "k = 3\n",
    "#nums = [-1,-1]\n",
    "#k = 1\n",
    "#nums = [99,99]\n",
    "#k = 2\n",
    "#nums = [1,2,3,1,2,3]\n",
    "#k = 2\n",
    "containsNearbyDuplicate(nums, k)"
   ]
  },
  {
   "cell_type": "code",
   "execution_count": 393,
   "id": "cc8059b9-d7d1-4eca-8c34-f2e1b75652cd",
   "metadata": {},
   "outputs": [
    {
     "data": {
      "text/plain": [
       "True"
      ]
     },
     "execution_count": 393,
     "metadata": {},
     "output_type": "execute_result"
    }
   ],
   "source": [
    "#Optimization\n",
    "def containsNearbyDuplicate(nums, k):\n",
    "    left = 0\n",
    "    ans = False\n",
    "    s = set()\n",
    "    for right, x in enumerate(nums):\n",
    "        if right - left > k:\n",
    "            s.remove(nums[left])\n",
    "            left += 1\n",
    "        if x in s:\n",
    "            return True\n",
    "        s.add(x)\n",
    "    return False\n",
    "            \n",
    "#nums = [1,2,3,1,2,3]\n",
    "#k = 2\n",
    "#nums = [1,0,1,1]\n",
    "#k = 1\n",
    "nums = [1,2,3,1]\n",
    "k = 3\n",
    "#nums = [-1,-1]\n",
    "#k = 1\n",
    "\n",
    "# estimate true\n",
    "#nums = [99,99]\n",
    "#k = 2\n",
    "#nums = [1,2,3,1,2,3]\n",
    "#k = 2\n",
    "containsNearbyDuplicate(nums, k)"
   ]
  },
  {
   "cell_type": "code",
   "execution_count": null,
   "id": "11559712-09a6-43c6-ac1a-b8249f55c6b6",
   "metadata": {},
   "outputs": [],
   "source": [
    "class Solution:\n",
    "    def containsNearbyDuplicate(self, nums: List[int], k: int) -> bool:\n",
    "        left = 0\n",
    "        ans = False\n",
    "        s = set()\n",
    "        for right, x in enumerate(nums):\n",
    "            if right - left > k:\n",
    "                s.remove(nums[left])\n",
    "                left += 1\n",
    "            if x in s:\n",
    "                return True\n",
    "            s.add(x)\n",
    "        return False"
   ]
  },
  {
   "cell_type": "markdown",
   "id": "4c1ee193-052d-4c15-a2ee-730d6f91262d",
   "metadata": {
    "jp-MarkdownHeadingCollapsed": true
   },
   "source": [
    "# 25 228. 汇总区间\n",
    "https://leetcode.cn/problems/summary-ranges/description/"
   ]
  },
  {
   "cell_type": "code",
   "execution_count": 413,
   "id": "32e79776-58c2-4fe4-85ff-c9b58eab984c",
   "metadata": {},
   "outputs": [
    {
     "data": {
      "text/plain": [
       "[[0, 2], [4, 5]]"
      ]
     },
     "execution_count": 413,
     "metadata": {},
     "output_type": "execute_result"
    }
   ],
   "source": [
    "def summaryRanges(nums):\n",
    "    temp = []\n",
    "    res = []\n",
    "    n = len(nums)\n",
    "    if n == 0:\n",
    "        return nums\n",
    "    if n == 1:\n",
    "        res.append(str(nums[0]))\n",
    "        return res\n",
    "    i = 0\n",
    "    for i in range(n):\n",
    "        if not temp:\n",
    "            temp.append(nums[i])\n",
    "            if i == n - 1:\n",
    "                res.append([temp[0], temp[0]])\n",
    "        else:\n",
    "            if nums[i] == temp[-1] + 1:\n",
    "                temp.append(nums[i])\n",
    "                if i == n - 1:\n",
    "                    res.append([temp[0], temp[-1]])\n",
    "            else:\n",
    "                res.append([temp[0], temp[-1]])\n",
    "                temp = []\n",
    "                temp.append(nums[i])\n",
    "    return res\n",
    "\n",
    "#nums = [0,2,3,4,6,8,9]\n",
    "nums = [0,1,2,4,5,7]\n",
    "summaryRanges(nums)"
   ]
  },
  {
   "cell_type": "code",
   "execution_count": 426,
   "id": "03370099-0c2f-4bc4-8ca1-0fcc6c6d79f3",
   "metadata": {},
   "outputs": [
    {
     "data": {
      "text/plain": [
       "['0', '2->4', '6', '8->9']"
      ]
     },
     "execution_count": 426,
     "metadata": {},
     "output_type": "execute_result"
    }
   ],
   "source": [
    "def summaryRanges(nums):\n",
    "    ans = []\n",
    "    n = len(nums)\n",
    "    i = 0\n",
    "    while i < n:\n",
    "        j = i\n",
    "        while j + 1 < n and nums[j + 1] == nums[j] + 1:\n",
    "            j += 1\n",
    "        ans.append([nums[i], nums[j]])\n",
    "        i = j + 1\n",
    "    res = []\n",
    "    for i in ans:\n",
    "        if i[0] == i[1]:\n",
    "            res.append(str(i[0]))\n",
    "        else: \n",
    "            res.append(\"%s->%s\"%(i[0], i[1]))\n",
    "    return res\n",
    "    \n",
    "nums = [0,2,3,4,6,8,9]\n",
    "#nums = [0,1,2,4,5,7]\n",
    "summaryRanges(nums)"
   ]
  },
  {
   "cell_type": "code",
   "execution_count": null,
   "id": "b8d92786-f56c-48ec-ba96-e18e991e1b9b",
   "metadata": {},
   "outputs": [],
   "source": [
    "class Solution:\n",
    "    def summaryRanges(self, nums: List[int]) -> List[str]:\n",
    "        ans = []\n",
    "        n = len(nums)\n",
    "        i = 0\n",
    "        while i < n:\n",
    "            j = i\n",
    "            while j + 1 < n and nums[j + 1] == nums[j] + 1:\n",
    "                j += 1\n",
    "            ans.append([nums[i], nums[j]])\n",
    "            i = j + 1\n",
    "        res = []\n",
    "        for i in ans:\n",
    "            if i[0] == i[1]:\n",
    "                res.append(str(i[0]))\n",
    "            else: \n",
    "                res.append(\"%s->%s\"%(i[0], i[1]))\n",
    "        return res\n",
    "        "
   ]
  },
  {
   "cell_type": "markdown",
   "id": "b4b33223-1127-4f34-820b-3a17c090e6f5",
   "metadata": {},
   "source": [
    "# 26 231. 2 的幂\n",
    "https://leetcode.cn/problems/power-of-two/description/"
   ]
  },
  {
   "cell_type": "code",
   "execution_count": 356,
   "id": "8e89b7e5-92d0-4eca-9368-1bd1d15a3de0",
   "metadata": {},
   "outputs": [
    {
     "data": {
      "text/plain": [
       "False"
      ]
     },
     "execution_count": 356,
     "metadata": {},
     "output_type": "execute_result"
    }
   ],
   "source": [
    "def isPowerOfTwo(n):\n",
    "    if n == 1:\n",
    "        return True\n",
    "    while n >= 2:\n",
    "        if n == 2:\n",
    "            return True\n",
    "        n = n / 2\n",
    "    return False\n",
    "\n",
    "n = 3\n",
    "isPowerOfTwo(n)"
   ]
  },
  {
   "cell_type": "code",
   "execution_count": null,
   "id": "917f6801-ba7e-4bcf-bee0-743433d100a1",
   "metadata": {},
   "outputs": [],
   "source": [
    "class Solution:\n",
    "    def isPowerOfTwo(self, n: int) -> bool:\n",
    "        if n == 1:\n",
    "            return True\n",
    "        while n >= 2:\n",
    "            if n == 2:\n",
    "                return True\n",
    "            n = n / 2\n",
    "        return False"
   ]
  },
  {
   "cell_type": "markdown",
   "id": "adb09bf4-313f-4ca2-9003-1a69b1c78602",
   "metadata": {
    "jp-MarkdownHeadingCollapsed": true
   },
   "source": [
    "# 27 242. 有效的字母异位词\n",
    "https://leetcode.cn/problems/valid-anagram/description/"
   ]
  },
  {
   "cell_type": "code",
   "execution_count": 432,
   "id": "bbc29731-6420-468b-a8c6-28b11483951a",
   "metadata": {},
   "outputs": [
    {
     "data": {
      "text/plain": [
       "False"
      ]
     },
     "execution_count": 432,
     "metadata": {},
     "output_type": "execute_result"
    }
   ],
   "source": [
    "from collections import Counter\n",
    "def isAnagram(s, t):\n",
    "    dict_s = Counter(s)\n",
    "    dict_t = Counter(t)\n",
    "    for i in dict_s:\n",
    "        if dict_t[i] != dict_s[i]:\n",
    "            return False\n",
    "    for i in dict_t:\n",
    "        if dict_s[i] != dict_t[i]:\n",
    "            return False\n",
    "    return True\n",
    "\n",
    "s = \"anagram\"\n",
    "t = \"nagaram\"\n",
    "s = \"rat\"\n",
    "t = \"car\"\n",
    "s = \"a\"\n",
    "t = \"ab\"\n",
    "isAnagram(s, t)"
   ]
  },
  {
   "cell_type": "code",
   "execution_count": null,
   "id": "af7e2ef0-02ff-4196-9215-16f7526517bc",
   "metadata": {},
   "outputs": [],
   "source": [
    "from collections import Counter\n",
    "class Solution:\n",
    "    def isAnagram(self, s: str, t: str) -> bool:\n",
    "        dict_s = Counter(s)\n",
    "        dict_t = Counter(t)\n",
    "        for i in dict_s:\n",
    "            if dict_t[i] != dict_s[i]:\n",
    "                return False\n",
    "        for i in dict_t:\n",
    "            if dict_s[i] != dict_t[i]:\n",
    "                return False\n",
    "        return True"
   ]
  },
  {
   "cell_type": "markdown",
   "id": "72fb1a55-04a2-4b47-a5e6-16b94ba3eeb7",
   "metadata": {
    "jp-MarkdownHeadingCollapsed": true
   },
   "source": [
    "# 28 258. 各位相加\n",
    "https://leetcode.cn/problems/add-digits/description/"
   ]
  },
  {
   "cell_type": "code",
   "execution_count": 438,
   "id": "538efc06-cbed-4cb9-8c60-ffeeabc6f918",
   "metadata": {},
   "outputs": [
    {
     "data": {
      "text/plain": [
       "0"
      ]
     },
     "execution_count": 438,
     "metadata": {},
     "output_type": "execute_result"
    }
   ],
   "source": [
    "def addDigits(num):\n",
    "    if num < 10:\n",
    "        return num\n",
    "    while num > 9:\n",
    "        s = str(num)\n",
    "        a = 0\n",
    "        for i in s:\n",
    "            a += int(i)\n",
    "        num = a\n",
    "    return num\n",
    "num = 0\n",
    "addDigits(num)"
   ]
  },
  {
   "cell_type": "code",
   "execution_count": null,
   "id": "db9fe18b-558f-492b-a15f-6eef1d3710e8",
   "metadata": {},
   "outputs": [],
   "source": [
    "class Solution:\n",
    "    def addDigits(self, num: int) -> int:\n",
    "        if num < 10:\n",
    "            return num\n",
    "        while num > 9:\n",
    "            s = str(num)\n",
    "            a = 0\n",
    "            for i in s:\n",
    "                a += int(i)\n",
    "            num = a\n",
    "        return num"
   ]
  },
  {
   "cell_type": "markdown",
   "id": "43bae000-1a17-49e9-8fe4-448f1cfed2d3",
   "metadata": {
    "jp-MarkdownHeadingCollapsed": true
   },
   "source": [
    "# 29 263. 丑数\n",
    "https://leetcode.cn/problems/ugly-number/description/"
   ]
  },
  {
   "cell_type": "code",
   "execution_count": 460,
   "id": "22b7003f-dd70-45b8-b41e-d790203b3fdc",
   "metadata": {},
   "outputs": [
    {
     "data": {
      "text/plain": [
       "True"
      ]
     },
     "execution_count": 460,
     "metadata": {},
     "output_type": "execute_result"
    }
   ],
   "source": [
    "def isUgly(n):\n",
    "    if n <= 0:\n",
    "        return False\n",
    "    factors = [2, 3, 5]\n",
    "    for factor in factors:\n",
    "        while n%factor == 0:\n",
    "            n //= factor\n",
    "\n",
    "    if n == 1:\n",
    "        return True\n",
    "    else: \n",
    "        return False\n",
    "    \n",
    "\n",
    "n = 6\n",
    "isUgly(n)"
   ]
  },
  {
   "cell_type": "code",
   "execution_count": null,
   "id": "6920215a-240e-42ad-8d7c-5096dcd6c688",
   "metadata": {},
   "outputs": [],
   "source": [
    "class Solution:\n",
    "    def isUgly(self, n: int) -> bool:\n",
    "        if n <= 0:\n",
    "            return False\n",
    "        factors = [2, 3, 5]\n",
    "        for factor in factors:\n",
    "            while n%factor == 0:\n",
    "                n //= factor\n",
    "    \n",
    "        if n == 1:\n",
    "            return True\n",
    "        else: \n",
    "            return False"
   ]
  },
  {
   "cell_type": "markdown",
   "id": "caf0037f-f5ac-4bf4-a424-e98538a10fd3",
   "metadata": {
    "jp-MarkdownHeadingCollapsed": true
   },
   "source": [
    "# 30 268. 丢失的数字\n",
    "https://leetcode.cn/problems/missing-number/description/"
   ]
  },
  {
   "cell_type": "code",
   "execution_count": 465,
   "id": "42c498f8-4c79-4494-924e-b2708a2282a0",
   "metadata": {},
   "outputs": [
    {
     "data": {
      "text/plain": [
       "2"
      ]
     },
     "execution_count": 465,
     "metadata": {},
     "output_type": "execute_result"
    }
   ],
   "source": [
    "def missingNumber(nums):\n",
    "    nums.sort()\n",
    "    for i in range(len(nums)):\n",
    "        if i != nums[i]:\n",
    "            return i\n",
    "    return nums[-1] + 1\n",
    "\n",
    "#nums = [9,6,4,2,3,5,7,0,1]\n",
    "nums = [0,1]\n",
    "missingNumber(nums)"
   ]
  },
  {
   "cell_type": "code",
   "execution_count": null,
   "id": "d293952a-4ec5-4483-8981-8af50097c2c2",
   "metadata": {},
   "outputs": [],
   "source": [
    "class Solution:\n",
    "    def missingNumber(self, nums: List[int]) -> int:\n",
    "        nums.sort()\n",
    "        for i in range(len(nums)):\n",
    "            if i != nums[i]:\n",
    "                return i\n",
    "        return nums[-1] + 1"
   ]
  },
  {
   "cell_type": "markdown",
   "id": "64c61d8e-871d-4659-9bb8-44e7ff437324",
   "metadata": {
    "jp-MarkdownHeadingCollapsed": true
   },
   "source": [
    "# 31 217. 存在重复元素\n",
    "https://leetcode.cn/problems/contains-duplicate/description/"
   ]
  },
  {
   "cell_type": "code",
   "execution_count": 469,
   "id": "efd2120e-fd3d-4ea9-8c0b-230af29d35ff",
   "metadata": {},
   "outputs": [
    {
     "data": {
      "text/plain": [
       "False"
      ]
     },
     "execution_count": 469,
     "metadata": {},
     "output_type": "execute_result"
    }
   ],
   "source": [
    "from collections import Counter\n",
    "def containsDuplicate(nums):\n",
    "    d = Counter(nums)\n",
    "    for i in d:\n",
    "        if d[i] >= 2:\n",
    "            return True\n",
    "    return False\n",
    "\n",
    "nums = [1,1,1,3,3,4,3,2,4,2]\n",
    "nums = [1,2,3,4]\n",
    "containsDuplicate(nums)"
   ]
  },
  {
   "cell_type": "code",
   "execution_count": null,
   "id": "2a9c1998-d070-4a73-9886-bc1d3bda331e",
   "metadata": {},
   "outputs": [],
   "source": [
    "from collections import Counter\n",
    "class Solution:\n",
    "    def containsDuplicate(self, nums: List[int]) -> bool:\n",
    "        d = Counter(nums)\n",
    "        for i in d:\n",
    "            if d[i] >= 2:\n",
    "                return True\n",
    "        return False"
   ]
  },
  {
   "cell_type": "markdown",
   "id": "c2a42539-102f-47db-8b9e-d94c5a37d7d8",
   "metadata": {
    "jp-MarkdownHeadingCollapsed": true
   },
   "source": [
    "# 32 283. 移动零\n",
    "https://leetcode.cn/problems/move-zeroes/description/"
   ]
  },
  {
   "cell_type": "code",
   "execution_count": 483,
   "id": "9de41723-ec76-406c-b5b6-e50f29d29da2",
   "metadata": {},
   "outputs": [
    {
     "data": {
      "text/plain": [
       "[0]"
      ]
     },
     "execution_count": 483,
     "metadata": {},
     "output_type": "execute_result"
    }
   ],
   "source": [
    "def moveZeroes(nums):\n",
    "    c = 0\n",
    "    while 0 in nums:\n",
    "        c += 1\n",
    "        nums.pop(nums.index(0))\n",
    "    for i in range(c):\n",
    "        nums.append(0)\n",
    "    return nums\n",
    "\n",
    "nums = [0]\n",
    "moveZeroes(nums)"
   ]
  },
  {
   "cell_type": "code",
   "execution_count": null,
   "id": "bf049b77-9016-4a25-9891-894f092d9e7d",
   "metadata": {},
   "outputs": [],
   "source": [
    "class Solution:\n",
    "    def moveZeroes(self, nums: List[int]) -> None:\n",
    "        \"\"\"\n",
    "        Do not return anything, modify nums in-place instead.\n",
    "        \"\"\"\n",
    "        c = 0\n",
    "        while 0 in nums:\n",
    "            c += 1\n",
    "            nums.pop(nums.index(0))\n",
    "        for i in range(c):\n",
    "            nums.append(0)"
   ]
  },
  {
   "cell_type": "markdown",
   "id": "6ea074f5-1c1b-4e00-88b7-0428490ceba3",
   "metadata": {
    "jp-MarkdownHeadingCollapsed": true
   },
   "source": [
    "# 33 290. 单词规律\n",
    "https://leetcode.cn/problems/word-pattern/description/"
   ]
  },
  {
   "cell_type": "code",
   "execution_count": 503,
   "id": "7b1e04c7-a3fc-4304-904e-aab283bf6c15",
   "metadata": {},
   "outputs": [
    {
     "name": "stdout",
     "output_type": "stream",
     "text": [
      "a {}\n",
      "b {'a': 'dog'}\n"
     ]
    },
    {
     "data": {
      "text/plain": [
       "False"
      ]
     },
     "execution_count": 503,
     "metadata": {},
     "output_type": "execute_result"
    }
   ],
   "source": [
    "# Fail\n",
    "def wordPattern(pattern, s):\n",
    "    q = s.split()\n",
    "    p = list(set(pattern))\n",
    "    d = {}\n",
    "    for i in range(len(pattern)):\n",
    "        print(pattern[i], d)\n",
    "        if pattern[i] not in d:\n",
    "            if q[i] in d.values():\n",
    "                return False\n",
    "            d[pattern[i]] = q[i]\n",
    "        if pattern[i] in d and d[pattern[i]] != q[i]:\n",
    "            print(pattern[i], d, q[i])\n",
    "            return False\n",
    "    return True\n",
    "\n",
    "            \n",
    "#pattern = \"aaaa\"\n",
    "#s = \"dog cat cat dog\"\n",
    "#pattern = \"abba\"\n",
    "#s = \"dog cat cat fish\"\n",
    "#pattern = \"abba\"\n",
    "#s = \"dog cat cat dog\"\n",
    "pattern = \"abba\"\n",
    "s = \"dog dog dog dog\"\n",
    "\n",
    "wordPattern(pattern, s)"
   ]
  },
  {
   "cell_type": "code",
   "execution_count": 510,
   "id": "51036d91-039f-45bf-9eab-2ed76472236d",
   "metadata": {},
   "outputs": [
    {
     "data": {
      "text/plain": [
       "True"
      ]
     },
     "execution_count": 510,
     "metadata": {},
     "output_type": "execute_result"
    }
   ],
   "source": [
    "def wordPattern(pattern, s):\n",
    "    res = s.split()\n",
    "    a = list(map(pattern.index, pattern))\n",
    "    b = list(map(res.index, res))\n",
    "    return a == b\n",
    "    \n",
    "pattern = \"abba\"\n",
    "s = \"dog cat cat dog\"\n",
    "\n",
    "wordPattern(pattern, s)"
   ]
  },
  {
   "cell_type": "code",
   "execution_count": null,
   "id": "2d800f39-4add-413e-acd3-1419b44720b0",
   "metadata": {},
   "outputs": [],
   "source": [
    "class Solution:\n",
    "    def wordPattern(self, pattern: str, s: str) -> bool:\n",
    "        res = s.split()\n",
    "        a = list(map(pattern.index, pattern))\n",
    "        b = list(map(res.index, res))\n",
    "        return a == b\n",
    "        "
   ]
  },
  {
   "cell_type": "markdown",
   "id": "e57400d5-f291-4430-b55d-524dd9b4d9a2",
   "metadata": {
    "jp-MarkdownHeadingCollapsed": true
   },
   "source": [
    "# 34. 292. Nim 游戏\n",
    "https://leetcode.cn/problems/nim-game/description/"
   ]
  },
  {
   "cell_type": "code",
   "execution_count": 514,
   "id": "fabcf9db-b15d-46c4-bf5e-eeb9da448d8b",
   "metadata": {},
   "outputs": [
    {
     "data": {
      "text/plain": [
       "True"
      ]
     },
     "execution_count": 514,
     "metadata": {},
     "output_type": "execute_result"
    }
   ],
   "source": [
    "def canWinNim(n):\n",
    "    return n % 4 != 0\n",
    "\n",
    "n = 1\n",
    "canWinNim(n)"
   ]
  },
  {
   "cell_type": "code",
   "execution_count": null,
   "id": "6510dbca-5464-4d54-a710-d5ee422090fd",
   "metadata": {},
   "outputs": [],
   "source": [
    "class Solution:\n",
    "    def canWinNim(self, n: int) -> bool:"
   ]
  },
  {
   "cell_type": "markdown",
   "id": "6026235e-3e77-4fcd-bc5c-315bc487bbad",
   "metadata": {
    "jp-MarkdownHeadingCollapsed": true
   },
   "source": [
    "# 35 326. 3 的幂\n",
    "https://leetcode.cn/problems/power-of-three/description/\n"
   ]
  },
  {
   "cell_type": "code",
   "execution_count": 519,
   "id": "57872274-0c86-4f7c-ad02-c1705344b7a1",
   "metadata": {},
   "outputs": [
    {
     "data": {
      "text/plain": [
       "False"
      ]
     },
     "execution_count": 519,
     "metadata": {},
     "output_type": "execute_result"
    }
   ],
   "source": [
    "def isPowerOfThree(n):\n",
    "    if n == 1:\n",
    "        return True\n",
    "    while n >= 3:\n",
    "        if n == 3:\n",
    "            return True\n",
    "        n = n / 3\n",
    "    return False\n",
    "    \n",
    "n = 45\n",
    "isPowerOfThree(n)"
   ]
  },
  {
   "cell_type": "code",
   "execution_count": null,
   "id": "967c2842-dfcf-47f4-a5b5-6c5415acf7dd",
   "metadata": {},
   "outputs": [],
   "source": [
    "class Solution:\n",
    "    def isPowerOfThree(self, n: int) -> bool:\n",
    "        if n == 1:\n",
    "            return True\n",
    "        while n >= 3:\n",
    "            if n == 3:\n",
    "                return True\n",
    "            n = n / 3\n",
    "        return False"
   ]
  },
  {
   "cell_type": "markdown",
   "id": "54e668b5-81c4-4011-8416-acd123bacb9a",
   "metadata": {
    "jp-MarkdownHeadingCollapsed": true
   },
   "source": [
    "# 36. 338. 比特位计数\n",
    "\n",
    "https://leetcode.cn/problems/counting-bits/description/"
   ]
  },
  {
   "cell_type": "code",
   "execution_count": 536,
   "id": "5d013e6a-2a21-4bf2-997e-c99386cf2543",
   "metadata": {},
   "outputs": [
    {
     "data": {
      "text/plain": [
       "[0, 1, 1, 2, 1, 2]"
      ]
     },
     "execution_count": 536,
     "metadata": {},
     "output_type": "execute_result"
    }
   ],
   "source": [
    "from collections import Counter\n",
    "def countBits(n):\n",
    "    ans = []\n",
    "    for i in range(n + 1):\n",
    "        ans.append(Counter(str(bin(i)))[\"1\"])\n",
    "    return ans\n",
    "    \n",
    "n = 5\n",
    "countBits(n)"
   ]
  },
  {
   "cell_type": "code",
   "execution_count": null,
   "id": "cf04ddf3-624f-4aed-94f2-36e0e1a9f322",
   "metadata": {},
   "outputs": [],
   "source": [
    "from collections import Counter\n",
    "class Solution:\n",
    "    def countBits(self, n: int) -> List[int]:\n",
    "        ans = []\n",
    "        for i in range(n + 1):\n",
    "            ans.append(Counter(str(bin(i)))[\"1\"])\n",
    "        return ans"
   ]
  },
  {
   "cell_type": "markdown",
   "id": "e39b93f7-cb57-4de6-89e4-e204ab1815a1",
   "metadata": {
    "jp-MarkdownHeadingCollapsed": true
   },
   "source": [
    "# 37 342. 4的幂\n",
    "https://leetcode.cn/problems/power-of-four/description/\n"
   ]
  },
  {
   "cell_type": "code",
   "execution_count": 539,
   "id": "4c9a7b07-8ea3-40e3-b71a-d3f9d77d55ee",
   "metadata": {},
   "outputs": [
    {
     "data": {
      "text/plain": [
       "True"
      ]
     },
     "execution_count": 539,
     "metadata": {},
     "output_type": "execute_result"
    }
   ],
   "source": [
    "def isPowerOfFour(n):\n",
    "    if n == 1:\n",
    "        return True\n",
    "    while n >= 4:\n",
    "        if n == 4:\n",
    "            return True\n",
    "        n = n / 4\n",
    "    return False\n",
    "\n",
    "n = 16\n",
    "isPowerOfFour(n)"
   ]
  },
  {
   "cell_type": "code",
   "execution_count": null,
   "id": "7f1fde05-3674-4cda-ba02-7fb270e08d7b",
   "metadata": {},
   "outputs": [],
   "source": [
    "class Solution:\n",
    "    def isPowerOfFour(self, n: int) -> bool:\n",
    "        if n == 1:\n",
    "            return True\n",
    "        while n >= 4:\n",
    "            if n == 4:\n",
    "                return True\n",
    "            n = n / 4\n",
    "        return False"
   ]
  },
  {
   "cell_type": "markdown",
   "id": "1816f2eb-5038-471c-81c8-e8db89fb0275",
   "metadata": {},
   "source": [
    "# 38 344. 反转字符串\n",
    "https://leetcode.cn/problems/reverse-string/description/"
   ]
  },
  {
   "cell_type": "code",
   "execution_count": 541,
   "id": "521ab4da-d9a9-4ea8-9532-9d62f840f2f9",
   "metadata": {},
   "outputs": [
    {
     "data": {
      "text/plain": [
       "['o', 'l', 'l', 'e', 'h']"
      ]
     },
     "execution_count": 541,
     "metadata": {},
     "output_type": "execute_result"
    }
   ],
   "source": [
    "def reverseString(s):\n",
    "    return s[::-1]\n",
    "     \n",
    "s = [\"H\",\"a\",\"n\",\"n\",\"a\",\"h\"]\n",
    "s = [\"h\",\"e\",\"l\",\"l\",\"o\"]\n",
    "reverseString(s)"
   ]
  },
  {
   "cell_type": "code",
   "execution_count": null,
   "id": "f8a25989-fd18-4294-9631-f79bd0e11575",
   "metadata": {},
   "outputs": [],
   "source": [
    "class Solution:\n",
    "    def reverseString(self, s: List[str]) -> None:\n",
    "        \"\"\"\n",
    "        Do not return anything, modify s in-place instead.\n",
    "        \"\"\""
   ]
  },
  {
   "cell_type": "markdown",
   "id": "c36c7081-e699-4522-8184-2675b5b13e37",
   "metadata": {},
   "source": [
    "https://leetcode.cn/problems/reverse-vowels-of-a-string/description/"
   ]
  },
  {
   "cell_type": "markdown",
   "id": "34c5c66c-2ecd-4139-a582-04b60c5c726b",
   "metadata": {},
   "source": [
    "https://leetcode.cn/problems/intersection-of-two-arrays/description/"
   ]
  },
  {
   "cell_type": "markdown",
   "id": "748854c0-4a77-486c-9820-99c86388618f",
   "metadata": {},
   "source": [
    "https://leetcode.cn/problems/intersection-of-two-arrays-ii/description/"
   ]
  },
  {
   "cell_type": "markdown",
   "id": "d7b39969-6443-40d1-8ad5-64576705a427",
   "metadata": {},
   "source": [
    "https://leetcode.cn/problems/valid-perfect-square/description/"
   ]
  },
  {
   "cell_type": "markdown",
   "id": "b39a0c0e-88cc-4cb8-a110-05cc334d0403",
   "metadata": {},
   "source": [
    "https://leetcode.cn/problems/ransom-note/description/"
   ]
  },
  {
   "cell_type": "markdown",
   "id": "03b040d6-5e1f-47fd-abad-002cf602d5c1",
   "metadata": {},
   "source": [
    "https://leetcode.cn/problems/find-the-difference/description/"
   ]
  },
  {
   "cell_type": "markdown",
   "id": "f9c18967-e36f-41f2-bb0b-9e2edfa4b248",
   "metadata": {},
   "source": [
    "https://leetcode.cn/problems/is-subsequence/description/"
   ]
  },
  {
   "cell_type": "markdown",
   "id": "1c24fa05-f00f-4e5c-95ef-0c797b6d74b0",
   "metadata": {},
   "source": [
    "https://leetcode.cn/problems/binary-watch/description/"
   ]
  },
  {
   "cell_type": "markdown",
   "id": "82f58082-90b9-4009-8c87-7b0f2520f022",
   "metadata": {},
   "source": [
    "https://leetcode.cn/problems/convert-a-number-to-hexadecimal/description/"
   ]
  },
  {
   "cell_type": "markdown",
   "id": "8e917589-c4af-4210-9f06-01c8ac36091a",
   "metadata": {},
   "source": [
    "https://leetcode.cn/problems/longest-palindrome/description/"
   ]
  },
  {
   "cell_type": "markdown",
   "id": "f6f3be0e-facd-45d7-b540-2979e3087364",
   "metadata": {},
   "source": [
    "https://leetcode.cn/problems/fizz-buzz/description/"
   ]
  }
 ],
 "metadata": {
  "kernelspec": {
   "display_name": "Python 3 (ipykernel)",
   "language": "python",
   "name": "python3"
  },
  "language_info": {
   "codemirror_mode": {
    "name": "ipython",
    "version": 3
   },
   "file_extension": ".py",
   "mimetype": "text/x-python",
   "name": "python",
   "nbconvert_exporter": "python",
   "pygments_lexer": "ipython3",
   "version": "3.10.6"
  }
 },
 "nbformat": 4,
 "nbformat_minor": 5
}
