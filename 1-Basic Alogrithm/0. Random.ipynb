{
 "cells": [
  {
   "cell_type": "markdown",
   "id": "c8fca0c4-c469-4b60-b896-07941397d9b2",
   "metadata": {
    "jp-MarkdownHeadingCollapsed": true
   },
   "source": [
    "# 1. 两数之和\n",
    "https://leetcode.cn/problems/two-sum/description/"
   ]
  },
  {
   "cell_type": "code",
   "execution_count": 6,
   "id": "b960b568-dc60-4bfa-a75a-df1b72727392",
   "metadata": {},
   "outputs": [
    {
     "data": {
      "text/plain": [
       "[0, 1]"
      ]
     },
     "execution_count": 6,
     "metadata": {},
     "output_type": "execute_result"
    }
   ],
   "source": [
    "def twoSum(nums, target):\n",
    "    n = len(nums)\n",
    "    for i in range(n):\n",
    "        for j in range(n):\n",
    "            if i != j and nums[i] + nums[j] == target:\n",
    "                return [i, j]\n",
    "nums = [2,7,11,15]\n",
    "target = 9\n",
    "twoSum(nums, target)"
   ]
  },
  {
   "cell_type": "code",
   "execution_count": null,
   "id": "a2eabb76-7174-45df-9293-2aac6b72e952",
   "metadata": {},
   "outputs": [],
   "source": [
    "class Solution:\n",
    "    def twoSum(self, nums: List[int], target: int) -> List[int]:\n",
    "        n = len(nums)\n",
    "        for i in range(n):\n",
    "            for j in range(n):\n",
    "                if i != j and nums[i] + nums[j] == target:\n",
    "                    return [i, j]"
   ]
  },
  {
   "cell_type": "markdown",
   "id": "d08a9d84-f3e3-44d4-afe7-887577421038",
   "metadata": {
    "jp-MarkdownHeadingCollapsed": true
   },
   "source": [
    "# 2. 9. 回文数\n",
    "https://leetcode.cn/problems/palindrome-number/description/"
   ]
  },
  {
   "cell_type": "code",
   "execution_count": 14,
   "id": "e6c70dfd-db53-4efe-aa6f-5d4f15330b49",
   "metadata": {},
   "outputs": [
    {
     "data": {
      "text/plain": [
       "True"
      ]
     },
     "execution_count": 14,
     "metadata": {},
     "output_type": "execute_result"
    }
   ],
   "source": [
    "def isPalindrome(x):\n",
    "    if x < 0:\n",
    "        return False\n",
    "    y = int(str(x)[::-1])\n",
    "    if x == y:\n",
    "        return True\n",
    "    else: \n",
    "        return False\n",
    "\n",
    "x = 121\n",
    "isPalindrome(x)"
   ]
  },
  {
   "cell_type": "code",
   "execution_count": null,
   "id": "0107459d-e00e-49e8-99fa-7713a15e621f",
   "metadata": {},
   "outputs": [],
   "source": [
    "class Solution:\n",
    "    def isPalindrome(self, x: int) -> bool:\n",
    "        if x < 0:\n",
    "            return False\n",
    "        y = int(str(x)[::-1])\n",
    "        if x == y:\n",
    "            return True\n",
    "        else: \n",
    "            return False"
   ]
  },
  {
   "cell_type": "markdown",
   "id": "a618c5f8-0925-4984-9a7b-45c57222059f",
   "metadata": {
    "jp-MarkdownHeadingCollapsed": true
   },
   "source": [
    "# 3   13. 罗马数字转整数\n",
    "https://leetcode.cn/problems/roman-to-integer/description/"
   ]
  },
  {
   "cell_type": "code",
   "execution_count": 35,
   "id": "2a3f042f-b5a3-4b83-a1f2-c18def4c86b9",
   "metadata": {},
   "outputs": [
    {
     "data": {
      "text/plain": [
       "1994"
      ]
     },
     "execution_count": 35,
     "metadata": {},
     "output_type": "execute_result"
    }
   ],
   "source": [
    "def romanToInt(s):\n",
    "    RomeDict = {\"I\":1, \"V\":5, \"X\":10, \"L\":50, \"C\":100, \"D\":500, \"M\":1000}\n",
    "    if len(s) == 1:\n",
    "        return RomeDict[s]\n",
    "    res = 0\n",
    "    i, n = 0, len(s)\n",
    "    while i < n:\n",
    "        if i != n-1 and RomeDict[s[i]] < RomeDict[s[i + 1]]:\n",
    "            res += RomeDict[s[i + 1]] - RomeDict[s[i]]\n",
    "            i += 2\n",
    "        else:\n",
    "            res += RomeDict[s[i]]\n",
    "            i += 1\n",
    "    return res  \n",
    "        \n",
    "#s = \"MCMXCIV\"\n",
    "#s = \"V\"\n",
    "s = \"MCMXCIV\"\n",
    "romanToInt(s)"
   ]
  },
  {
   "cell_type": "code",
   "execution_count": null,
   "id": "774e2ce2-1ed3-45c8-bd0d-54af2c796f5f",
   "metadata": {},
   "outputs": [],
   "source": [
    "class Solution:\n",
    "    def romanToInt(self, s: str) -> int:\n",
    "        RomeDict = {\"I\":1, \"V\":5, \"X\":10, \"L\":50, \"C\":100, \"D\":500, \"M\":1000}\n",
    "        if len(s) == 1:\n",
    "            return RomeDict[s]\n",
    "        res = 0\n",
    "        i, n = 0, len(s)\n",
    "        while i < n:\n",
    "            if i != n-1 and RomeDict[s[i]] < RomeDict[s[i + 1]]:\n",
    "                res += RomeDict[s[i + 1]] - RomeDict[s[i]]\n",
    "                i += 2\n",
    "            else:\n",
    "                res += RomeDict[s[i]]\n",
    "                i += 1\n",
    "        return res  "
   ]
  },
  {
   "cell_type": "markdown",
   "id": "f45e6b88-aa90-4370-8071-0dbc51e4014f",
   "metadata": {
    "jp-MarkdownHeadingCollapsed": true
   },
   "source": [
    "# 4 14. 最长公共前缀\n",
    "https://leetcode.cn/problems/longest-common-prefix/description/"
   ]
  },
  {
   "cell_type": "code",
   "execution_count": 55,
   "id": "3eda02ad-a548-4663-8476-e4fdcb061350",
   "metadata": {},
   "outputs": [
    {
     "data": {
      "text/plain": [
       "''"
      ]
     },
     "execution_count": 55,
     "metadata": {},
     "output_type": "execute_result"
    }
   ],
   "source": [
    "def longestCommonPrefix(strs):\n",
    "    sample = min(strs, key = len)\n",
    "    res = \"\"\n",
    "    for i in range(len(sample),0, -1):\n",
    "        flag = True\n",
    "        for j in strs:\n",
    "            if not j.startswith(sample[:i]):\n",
    "                flag  = False\n",
    "        if flag: \n",
    "            return sample[:i]\n",
    "    return res\n",
    "    \n",
    "#    res.startswith\n",
    "#    return res\n",
    "\n",
    "strs = [\"flower\",\"flow\",\"flight\"]\n",
    "strs = [\"dog\",\"racecar\",\"car\"]\n",
    "longestCommonPrefix(strs)"
   ]
  },
  {
   "cell_type": "code",
   "execution_count": null,
   "id": "dc367aec-686a-43d3-a024-58f7f49aa607",
   "metadata": {},
   "outputs": [],
   "source": [
    "class Solution:\n",
    "    def longestCommonPrefix(self, strs: List[str]) -> str:\n",
    "        sample = min(strs, key = len)\n",
    "        res = \"\"\n",
    "        for i in range(len(sample),0, -1):\n",
    "            flag = True\n",
    "            for j in strs:\n",
    "                if not j.startswith(sample[:i]):\n",
    "                    flag  = False\n",
    "            if flag: \n",
    "                return sample[:i]\n",
    "        return res"
   ]
  },
  {
   "cell_type": "markdown",
   "id": "8af0a8c4-7762-4ea2-aecf-07b769c03326",
   "metadata": {
    "jp-MarkdownHeadingCollapsed": true
   },
   "source": [
    "# 5. 20. 有效的括号\n",
    "https://leetcode.cn/problems/valid-parentheses/description/"
   ]
  },
  {
   "cell_type": "code",
   "execution_count": 62,
   "id": "9ef275a2-63b6-44b7-aeae-8338215b5100",
   "metadata": {},
   "outputs": [
    {
     "data": {
      "text/plain": [
       "[2, 3]"
      ]
     },
     "execution_count": 62,
     "metadata": {},
     "output_type": "execute_result"
    }
   ],
   "source": [
    "a = [1, 2,3]\n",
    "a.pop(0)\n",
    "a"
   ]
  },
  {
   "cell_type": "code",
   "execution_count": 76,
   "id": "3ecfcec8-e930-4121-a58b-ef894c42ae4c",
   "metadata": {},
   "outputs": [
    {
     "data": {
      "text/plain": [
       "False"
      ]
     },
     "execution_count": 76,
     "metadata": {},
     "output_type": "execute_result"
    }
   ],
   "source": [
    "def isValid(s):\n",
    "    d = {\")\":\"(\",\"]\":\"[\",\"}\":\"{\"}\n",
    "    res  = []\n",
    "    for i in s:\n",
    "        if res and i in d and res[-1] == d[i]:\n",
    "            res.pop()\n",
    "        else:\n",
    "            res.append(i)\n",
    "    return not res\n",
    "\n",
    "#s = \"()[]{}\"\n",
    "#s = \"(]\"\n",
    "#s = \"()\"\n",
    "s = \"([)]\"\n",
    "isValid(s)"
   ]
  },
  {
   "cell_type": "code",
   "execution_count": null,
   "id": "0ddbaab7-1e0c-43ff-8fd0-b19694f887ec",
   "metadata": {},
   "outputs": [],
   "source": [
    "class Solution:\n",
    "    def isValid(self, s: str) -> bool:\n",
    "        d = {\")\":\"(\",\"]\":\"[\",\"}\":\"{\"}\n",
    "        res  = []\n",
    "        for i in s:\n",
    "            if res and i in d and res[-1] == d[i]:\n",
    "                res.pop()\n",
    "            else:\n",
    "                res.append(i)\n",
    "        return not res"
   ]
  },
  {
   "cell_type": "markdown",
   "id": "c46403e2-63f7-4a38-8018-19c6202ab339",
   "metadata": {
    "jp-MarkdownHeadingCollapsed": true
   },
   "source": [
    "# 6 21. 合并两个有序链表\n",
    "https://leetcode.cn/problems/merge-two-sorted-lists/description/"
   ]
  },
  {
   "cell_type": "code",
   "execution_count": null,
   "id": "75dbe9a0-d411-4dba-9558-4bc67499c21c",
   "metadata": {},
   "outputs": [],
   "source": [
    "# Definition for singly-linked list.\n",
    "# class ListNode:\n",
    "#     def __init__(self, val=0, next=None):\n",
    "#         self.val = val\n",
    "#         self.next = next\n",
    "class Solution:\n",
    "    def mergeTwoLists(self, list1: Optional[ListNode], list2: Optional[ListNode]) -> Optional[ListNode]:\n",
    "        if list1 and list2:\n",
    "            if list1.val > list2.val:\n",
    "                list1, list2 = list2, list1\n",
    "            list1.next = self.mergeTwoLists(list1.next, list2)\n",
    "        return list1 or list2"
   ]
  },
  {
   "cell_type": "markdown",
   "id": "7b4cebc0-862d-4727-a873-a8733654e1e5",
   "metadata": {
    "jp-MarkdownHeadingCollapsed": true
   },
   "source": [
    "# 7 26 数组中的重复项\n",
    "https://leetcode.cn/problems/remove-duplicates-from-sorted-array/submissions/548594178/"
   ]
  },
  {
   "cell_type": "code",
   "execution_count": 78,
   "id": "cac11a27-4cc9-4520-b91e-8d112367d19e",
   "metadata": {},
   "outputs": [
    {
     "data": {
      "text/plain": [
       "5"
      ]
     },
     "execution_count": 78,
     "metadata": {},
     "output_type": "execute_result"
    }
   ],
   "source": [
    "def removeDuplicates(nums):\n",
    "    res = sorted(list(set(nums)))\n",
    "    for i in range(len(res)):\n",
    "        nums[i] = res[i]\n",
    "    return len(res)\n",
    "\n",
    "nums = [0,0,1,1,1,2,2,3,3,4]\n",
    "removeDuplicates(nums)"
   ]
  },
  {
   "cell_type": "code",
   "execution_count": null,
   "id": "2e4ce69e-509c-440d-9740-37d72613798b",
   "metadata": {},
   "outputs": [],
   "source": [
    "class Solution:\n",
    "    def removeDuplicates(self, nums: List[int]) -> int:\n",
    "        res = sorted(list(set(nums)))\n",
    "        for i in range(len(res)):\n",
    "            nums[i] = res[i]\n",
    "        return len(res)"
   ]
  },
  {
   "cell_type": "markdown",
   "id": "e9dc3502-eee7-4e84-ba90-eb487a965710",
   "metadata": {
    "jp-MarkdownHeadingCollapsed": true
   },
   "source": [
    "# 8 27. 移除元素\n",
    "https://leetcode.cn/problems/remove-element/description/"
   ]
  },
  {
   "cell_type": "code",
   "execution_count": 80,
   "id": "c71570eb-3f30-4a6a-af99-8da0b75a6f9d",
   "metadata": {},
   "outputs": [],
   "source": [
    "def removeElement(nums, val):\n",
    "    while val in nums:\n",
    "        nums.remove(val) \n",
    "\n",
    "nums = [0,1,2,2,3,0,4,2]\n",
    "val = 2\n",
    "removeElement(nums, val)"
   ]
  },
  {
   "cell_type": "code",
   "execution_count": null,
   "id": "732133e9-4cae-49aa-af18-f17277ec8c9a",
   "metadata": {},
   "outputs": [],
   "source": [
    "class Solution:\n",
    "    def removeElement(self, nums: List[int], val: int) -> int:\n"
   ]
  },
  {
   "cell_type": "markdown",
   "id": "554b2753-ff35-4632-a8b2-af1587465a18",
   "metadata": {
    "jp-MarkdownHeadingCollapsed": true
   },
   "source": [
    "# 9 28. 找出字符串中第一个匹配项的下标\n",
    "\n",
    "https://leetcode.cn/problems/find-the-index-of-the-first-occurrence-in-a-string/description/"
   ]
  },
  {
   "cell_type": "code",
   "execution_count": 92,
   "id": "3aaa870a-07ab-44fb-818d-9d3a77c56593",
   "metadata": {},
   "outputs": [
    {
     "name": "stdout",
     "output_type": "stream",
     "text": [
      "fgs sad\n",
      "gsa sad\n",
      "sad sad\n"
     ]
    },
    {
     "data": {
      "text/plain": [
       "2"
      ]
     },
     "execution_count": 92,
     "metadata": {},
     "output_type": "execute_result"
    }
   ],
   "source": [
    "def strStr(haystack, needle):\n",
    "    if needle not in haystack:\n",
    "        return -1\n",
    "    reslen = len(needle)\n",
    "    n =  len(haystack)\n",
    "    res = 0\n",
    "    for i in range(n):\n",
    "        if haystack[i: i + reslen] == needle:\n",
    "            res = i\n",
    "            break\n",
    "    return res\n",
    "        \n",
    "\n",
    "haystack = \"fgsadbutsad\"\n",
    "needle = \"sad\"\n",
    "#haystack = \"leetcode\"\n",
    "#needle = \"leeto\"\n",
    "strStr(haystack, needle)"
   ]
  },
  {
   "cell_type": "code",
   "execution_count": null,
   "id": "b7ab013d-b825-494a-9179-976ac37ebdf1",
   "metadata": {},
   "outputs": [],
   "source": [
    "class Solution:\n",
    "    def strStr(self, haystack: str, needle: str) -> int:\n",
    "        if needle not in haystack:\n",
    "            return -1\n",
    "        reslen = len(needle)\n",
    "        n =  len(haystack)\n",
    "        res = 0\n",
    "        for i in range(n):\n",
    "            if haystack[i: i + reslen] == needle:\n",
    "                res = i\n",
    "                break\n",
    "        return res"
   ]
  },
  {
   "cell_type": "markdown",
   "id": "a952837e-d849-4e75-9b2a-1837bc4171bb",
   "metadata": {
    "jp-MarkdownHeadingCollapsed": true
   },
   "source": [
    "# 10  35. 搜索插入位置\n",
    "https://leetcode.cn/problems/search-insert-position/description/"
   ]
  },
  {
   "cell_type": "code",
   "execution_count": 97,
   "id": "9b75524e-277b-4acc-af83-a596354cbe0d",
   "metadata": {},
   "outputs": [
    {
     "data": {
      "text/plain": [
       "4"
      ]
     },
     "execution_count": 97,
     "metadata": {},
     "output_type": "execute_result"
    }
   ],
   "source": [
    "def searchInsert(nums, target):\n",
    "    if target in nums:\n",
    "        return nums.index(target)\n",
    "\n",
    "    if target < nums[0]:\n",
    "        return 0\n",
    "\n",
    "    if target > nums[-1]:\n",
    "        return len(nums)\n",
    "\n",
    "    for i in range(1, len(nums)):\n",
    "        if nums[i-1] < target < nums[i]:\n",
    "            return i\n",
    "\n",
    "nums = [1,3,5,6]\n",
    "target = 7\n",
    "searchInsert(nums, target)"
   ]
  },
  {
   "cell_type": "code",
   "execution_count": null,
   "id": "56b80d7c-e373-472f-a61d-55810ec8ea8d",
   "metadata": {},
   "outputs": [],
   "source": [
    "class Solution:\n",
    "    def searchInsert(self, nums: List[int], target: int) -> int:\n",
    "        if target in nums:\n",
    "            return nums.index(target)\n",
    "    \n",
    "        if target < nums[0]:\n",
    "            return 0\n",
    "    \n",
    "        if target > nums[-1]:\n",
    "            return len(nums)\n",
    "    \n",
    "        for i in range(1, len(nums)):\n",
    "            if nums[i-1] < target < nums[i]:\n",
    "                return i"
   ]
  },
  {
   "cell_type": "markdown",
   "id": "e6e5a652-99cb-4af3-bba1-1d604c0c6a29",
   "metadata": {
    "jp-MarkdownHeadingCollapsed": true
   },
   "source": [
    "# 11 58. 最后一个单词的长度\n",
    "https://leetcode.cn/problems/length-of-last-word/description/"
   ]
  },
  {
   "cell_type": "code",
   "execution_count": 102,
   "id": "1313e176-a949-4ea5-9500-0336589a25ae",
   "metadata": {},
   "outputs": [
    {
     "data": {
      "text/plain": [
       "6"
      ]
     },
     "execution_count": 102,
     "metadata": {},
     "output_type": "execute_result"
    }
   ],
   "source": [
    "def lengthOfLastWord(s):\n",
    "    return len(s.split()[-1])\n",
    "\n",
    "s = \"luffy is still joyboy\"\n",
    "lengthOfLastWord(s)"
   ]
  },
  {
   "cell_type": "code",
   "execution_count": null,
   "id": "7540d2b3-3834-4f58-8428-ff764812bf38",
   "metadata": {},
   "outputs": [],
   "source": [
    "class Solution:\n",
    "    def lengthOfLastWord(self, s: str) -> int:\n",
    "        return len(s.split()[-1])"
   ]
  },
  {
   "cell_type": "markdown",
   "id": "7ab065bb-c280-49cd-92ba-be355ccd156b",
   "metadata": {
    "jp-MarkdownHeadingCollapsed": true
   },
   "source": [
    "# 12 66. 加一\n",
    "https://leetcode.cn/problems/plus-one/description/"
   ]
  },
  {
   "cell_type": "code",
   "execution_count": 112,
   "id": "82ac7d01-51a6-462a-aa38-c6da07c80322",
   "metadata": {},
   "outputs": [
    {
     "name": "stdout",
     "output_type": "stream",
     "text": [
      "[1, 2, 4]\n"
     ]
    }
   ],
   "source": [
    "def plusOne(digits):\n",
    "    s = \"\"\n",
    "    for i in digits:\n",
    "        s += str(i)\n",
    "    s = int(s) + 1\n",
    "    s = list(str(s))\n",
    "    for i in range(len(s)):\n",
    "        s[i] = int(s[i])\n",
    "    return s\n",
    "    \n",
    "digits = [1,2,3]\n",
    "plusOne(digits)"
   ]
  },
  {
   "cell_type": "code",
   "execution_count": null,
   "id": "f8fb7bf2-a22d-4e32-926c-8ea1cb0440f7",
   "metadata": {},
   "outputs": [],
   "source": [
    "class Solution:\n",
    "    def plusOne(self, digits: List[int]) -> List[int]:\n",
    "        s = \"\"\n",
    "        for i in digits:\n",
    "            s += str(i)\n",
    "        s = int(s) + 1\n",
    "        s = list(str(s))\n",
    "        for i in range(len(s)):\n",
    "            s[i] = int(s[i])\n",
    "        return s"
   ]
  },
  {
   "cell_type": "markdown",
   "id": "6d0ac35a-4c97-4ac5-bc34-74b39471dd5c",
   "metadata": {
    "jp-MarkdownHeadingCollapsed": true
   },
   "source": [
    "# 13. 67. 二进制求和\n",
    "https://leetcode.cn/problems/add-binary/description/"
   ]
  },
  {
   "cell_type": "code",
   "execution_count": 124,
   "id": "7d9c33bb-c047-49e9-8bb9-a041d95550f8",
   "metadata": {},
   "outputs": [
    {
     "data": {
      "text/plain": [
       "'10101'"
      ]
     },
     "execution_count": 124,
     "metadata": {},
     "output_type": "execute_result"
    }
   ],
   "source": [
    "def addBinary(a, b):\n",
    "    return str(bin(int(a, 2) + int(b, 2)))[2:]\n",
    "\n",
    "a = \"1010\"\n",
    "b = \"1011\"\n",
    "addBinary(a, b)"
   ]
  },
  {
   "cell_type": "code",
   "execution_count": null,
   "id": "cb5c2340-c605-4b1a-8e4e-7ff1ca4616c6",
   "metadata": {},
   "outputs": [],
   "source": [
    "class Solution:\n",
    "    def addBinary(self, a: str, b: str) -> str:\n",
    "        return str(bin(int(a, 2) + int(b, 2)))[2:]"
   ]
  },
  {
   "cell_type": "markdown",
   "id": "ee715db9-411c-4862-a0be-a4faab859e2e",
   "metadata": {
    "jp-MarkdownHeadingCollapsed": true
   },
   "source": [
    "# 14.  69. x 的平方根 \n",
    "https://leetcode.cn/problems/sqrtx/description/"
   ]
  },
  {
   "cell_type": "code",
   "execution_count": 128,
   "id": "acad27d1-59f3-40db-b940-ea061e99b66e",
   "metadata": {},
   "outputs": [
    {
     "data": {
      "text/plain": [
       "2"
      ]
     },
     "execution_count": 128,
     "metadata": {},
     "output_type": "execute_result"
    }
   ],
   "source": [
    "def mySqrt(x):\n",
    "    return int(x ** 0.5)\n",
    "x = 8\n",
    "mySqrt(x)"
   ]
  },
  {
   "cell_type": "code",
   "execution_count": null,
   "id": "0c140295-a82c-4cd8-87dd-fe4af3183138",
   "metadata": {},
   "outputs": [],
   "source": [
    "class Solution:\n",
    "    def mySqrt(self, x: int) -> int:\n",
    "        return int(x ** 0.5)"
   ]
  },
  {
   "cell_type": "markdown",
   "id": "fc5e3f83-6595-471a-9a76-6ac9840a2442",
   "metadata": {
    "jp-MarkdownHeadingCollapsed": true
   },
   "source": [
    "# 15 88. 合并两个有序数组\n",
    "https://leetcode.cn/problems/merge-sorted-array/description/"
   ]
  },
  {
   "cell_type": "code",
   "execution_count": 135,
   "id": "19972135-8b5a-42f4-b3ae-eda55168fca0",
   "metadata": {},
   "outputs": [
    {
     "data": {
      "text/plain": [
       "[1, 2, 2, 3, 5, 6]"
      ]
     },
     "execution_count": 135,
     "metadata": {},
     "output_type": "execute_result"
    }
   ],
   "source": [
    "def merge(nums1, m, nums2, n):\n",
    "    for i in range(n):\n",
    "        nums1[m + i] = nums2[i]\n",
    "    nums1.sort()\n",
    "    return nums1\n",
    "        \n",
    "\n",
    "nums1 = [1,2,3,0,0,0]\n",
    "m = 3\n",
    "nums2 = [2,5,6]\n",
    "n = 3\n",
    "\n",
    "merge(nums1, m, nums2, n)"
   ]
  },
  {
   "cell_type": "code",
   "execution_count": null,
   "id": "331417c6-9db1-4211-b5e8-62d5e57bc05b",
   "metadata": {},
   "outputs": [],
   "source": [
    "class Solution:\n",
    "    def merge(self, nums1: List[int], m: int, nums2: List[int], n: int) -> None:\n",
    "        \"\"\"\n",
    "        Do not return anything, modify nums1 in-place instead.\n",
    "        \"\"\"\n",
    "        for i in range(n):\n",
    "            nums1[m + i] = nums2[i]\n",
    "        nums1.sort()"
   ]
  },
  {
   "cell_type": "markdown",
   "id": "aa8fc678-3323-426d-8aca-714d9ee85e31",
   "metadata": {
    "jp-MarkdownHeadingCollapsed": true
   },
   "source": [
    "# 16 83. 删除排序链表中的重复元素\n",
    "https://leetcode.cn/problems/remove-duplicates-from-sorted-list/description/"
   ]
  },
  {
   "cell_type": "code",
   "execution_count": null,
   "id": "31cd12b2-3510-45a5-8e4f-dc74de4cb4b8",
   "metadata": {},
   "outputs": [],
   "source": [
    "# Definition for singly-linked list.\n",
    "# class ListNode:\n",
    "#     def __init__(self, val=0, next=None):\n",
    "#         self.val = val\n",
    "#         self.next = next\n",
    "class Solution:\n",
    "    def deleteDuplicates(self, head: Optional[ListNode]) -> Optional[ListNode]:\n",
    "        if not head or not head.next:\n",
    "            return head\n",
    "        cur = head\n",
    "        while cur and cur.next:\n",
    "            if cur.val == cur.next.val:\n",
    "                cur.next = cur.next.next\n",
    "            else:\n",
    "                cur = cur.next\n",
    "        return head"
   ]
  },
  {
   "cell_type": "markdown",
   "id": "72e12eab-6d8b-42a2-835f-a25f4cdadb7c",
   "metadata": {
    "jp-MarkdownHeadingCollapsed": true
   },
   "source": [
    "# 17. 168. Excel表列名称\n",
    "https://leetcode.cn/problems/excel-sheet-column-title/"
   ]
  },
  {
   "cell_type": "code",
   "execution_count": 177,
   "id": "07883cd7-6712-493b-8cef-eb3768d81b7a",
   "metadata": {},
   "outputs": [
    {
     "name": "stdout",
     "output_type": "stream",
     "text": [
      "1\n"
     ]
    },
    {
     "data": {
      "text/plain": [
       "'AB'"
      ]
     },
     "execution_count": 177,
     "metadata": {},
     "output_type": "execute_result"
    }
   ],
   "source": [
    "def convertToTitle(columnNumber):\n",
    "    res = []\n",
    "    s = \"ABCDEFGHIJKLMNOPQRSTUVWXYZ\"\n",
    "    if columnNumber <= 26:\n",
    "        return s[columnNumber - 1]\n",
    "    while columnNumber > 26:\n",
    "        res.append(columnNumber % 26)\n",
    "        columnNumber = columnNumber//26\n",
    "        print(columnNumber)\n",
    "        if columnNumber <= 26:\n",
    "            res.append(columnNumber)\n",
    "    res = res[::-1]\n",
    "    ans = \"\"\n",
    "    for i in res: \n",
    "        ans += s[i - 1]\n",
    "    return ans\n",
    "\n",
    "columnNumber =  28\n",
    "convertToTitle(columnNumber)"
   ]
  },
  {
   "cell_type": "code",
   "execution_count": 185,
   "id": "f8c5ba77-c140-4350-9306-60c520a16e4e",
   "metadata": {},
   "outputs": [
    {
     "data": {
      "text/plain": [
       "'ZY'"
      ]
     },
     "execution_count": 185,
     "metadata": {},
     "output_type": "execute_result"
    }
   ],
   "source": [
    "def convertToTitle(columnNumber):\n",
    "    s = \"\"\n",
    "    n = columnNumber\n",
    "    while n:\n",
    "        n -= 1\n",
    "        s = chr (65 + n%26) + s\n",
    "        n = n//26\n",
    "    return s\n",
    "\n",
    "columnNumber =  701\n",
    "convertToTitle(columnNumber)"
   ]
  },
  {
   "cell_type": "code",
   "execution_count": null,
   "id": "713b1559-7187-4f71-bb7b-c484a81a3250",
   "metadata": {},
   "outputs": [],
   "source": [
    "class Solution:\n",
    "    def convertToTitle(self, columnNumber: int) -> str:\n",
    "        s = \"\"\n",
    "        n = columnNumber\n",
    "        while n:\n",
    "            n -= 1\n",
    "            s = chr (65 + n%26) + s\n",
    "            n = n//26\n",
    "        return s\n"
   ]
  },
  {
   "cell_type": "markdown",
   "id": "caabb454-a5f6-4053-b3b6-01169d75e3e0",
   "metadata": {
    "jp-MarkdownHeadingCollapsed": true
   },
   "source": [
    "# 18  169. 多数元素\n",
    "https://leetcode.cn/problems/majority-element/description/"
   ]
  },
  {
   "cell_type": "code",
   "execution_count": 193,
   "id": "c8d15938-a26c-4c60-81b7-0c7910268881",
   "metadata": {},
   "outputs": [
    {
     "data": {
      "text/plain": [
       "3"
      ]
     },
     "execution_count": 193,
     "metadata": {},
     "output_type": "execute_result"
    }
   ],
   "source": [
    "from collections import Counter\n",
    "def majorityElement(nums):\n",
    "    n = len(nums) / 2\n",
    "    res = Counter(nums)\n",
    "    for i in res:\n",
    "        if res[i] > n:\n",
    "            return i\n",
    "\n",
    "nums = [3,2,3]\n",
    "majorityElement(nums)"
   ]
  },
  {
   "cell_type": "code",
   "execution_count": null,
   "id": "dca67d15-9b78-4e55-95c5-cb01a00a91e0",
   "metadata": {},
   "outputs": [],
   "source": [
    "from collections import Counter\n",
    "class Solution:\n",
    "    def majorityElement(self, nums: List[int]) -> int:\n",
    "        n = len(nums) / 2\n",
    "        res = Counter(nums)\n",
    "        for i in res:\n",
    "            if res[i] > n:\n",
    "                return i"
   ]
  },
  {
   "cell_type": "markdown",
   "id": "a12eb774-f633-4543-90cf-919f1c5e63d8",
   "metadata": {
    "jp-MarkdownHeadingCollapsed": true
   },
   "source": [
    "# 19 171. Excel 表列序号\n",
    "https://leetcode.cn/problems/excel-sheet-column-number/description/"
   ]
  },
  {
   "cell_type": "code",
   "execution_count": 226,
   "id": "f1aee753-5fc9-4ab8-a2c9-e9c590dae88a",
   "metadata": {},
   "outputs": [
    {
     "data": {
      "text/plain": [
       "701"
      ]
     },
     "execution_count": 226,
     "metadata": {},
     "output_type": "execute_result"
    }
   ],
   "source": [
    "def titleToNumber(columnTitle):\n",
    "    res = 0\n",
    "    for i in columnTitle:\n",
    "        res = res * 26 +ord(i) - 64\n",
    "    return res\n",
    "\n",
    "columnTitle = \"ZY\"\n",
    "titleToNumber(columnTitle)"
   ]
  },
  {
   "cell_type": "code",
   "execution_count": null,
   "id": "0483b7b3-56e1-4331-8f22-81e8479afddb",
   "metadata": {},
   "outputs": [],
   "source": [
    "class Solution:\n",
    "    def titleToNumber(self, columnTitle: str) -> int:\n",
    "        res = 0\n",
    "        for i in columnTitle:\n",
    "            res = res * 26 +ord(i) - 64\n",
    "        return res"
   ]
  },
  {
   "cell_type": "markdown",
   "id": "e466d760-e16e-4820-8f1f-36328dfe92a2",
   "metadata": {
    "jp-MarkdownHeadingCollapsed": true
   },
   "source": [
    "# 20 190. 颠倒二进制位\n",
    "https://leetcode.cn/problems/reverse-bits/description/"
   ]
  },
  {
   "cell_type": "code",
   "execution_count": 244,
   "id": "e9b01c48-6fd6-46e6-a4d7-71865c81dff7",
   "metadata": {},
   "outputs": [
    {
     "ename": "SyntaxError",
     "evalue": "leading zeros in decimal integer literals are not permitted; use an 0o prefix for octal integers (1280380738.py, line 7)",
     "output_type": "error",
     "traceback": [
      "\u001b[0;36m  Cell \u001b[0;32mIn[244], line 7\u001b[0;36m\u001b[0m\n\u001b[0;31m    n = 00000010100101000001111010011100\u001b[0m\n\u001b[0m        ^\u001b[0m\n\u001b[0;31mSyntaxError\u001b[0m\u001b[0;31m:\u001b[0m leading zeros in decimal integer literals are not permitted; use an 0o prefix for octal integers\n"
     ]
    }
   ],
   "source": [
    "def reverseBits(n):\n",
    "    x = str(n)\n",
    "    x = x[::-1]\n",
    "    res = int(x, 2)\n",
    "    return res\n",
    "\n",
    "n = 00000010100101000001111010011100\n",
    "#n = \"00000010100101000001111010011100\"\n",
    "reverseBits(n)"
   ]
  },
  {
   "cell_type": "code",
   "execution_count": null,
   "id": "3c455a6b-728a-44a5-b2cd-5549ffb8def1",
   "metadata": {},
   "outputs": [],
   "source": [
    "class Solution:\n",
    "    def reverseBits(self, n: int) -> int:\n",
    "        x = str(n)\n",
    "        x = x[::-1]\n",
    "        res = int(x, 2)\n",
    "        return res\n",
    "            "
   ]
  },
  {
   "cell_type": "markdown",
   "id": "7d5100c5-d1c8-49b2-ac8a-041e08ffed48",
   "metadata": {
    "jp-MarkdownHeadingCollapsed": true
   },
   "source": [
    "# 21 191. 位1的个数\n",
    "https://leetcode.cn/problems/number-of-1-bits/description/"
   ]
  },
  {
   "cell_type": "code",
   "execution_count": 260,
   "id": "6ed6a36d-58ce-44a5-8844-6af3f095d397",
   "metadata": {},
   "outputs": [
    {
     "data": {
      "text/plain": [
       "3"
      ]
     },
     "execution_count": 260,
     "metadata": {},
     "output_type": "execute_result"
    }
   ],
   "source": [
    "from collections import Counter\n",
    "def hammingWeight(n):\n",
    "    res = bin(n)\n",
    "    x = Counter(res)\n",
    "    return x[\"1\"]\n",
    "    \n",
    "n = 2147483645\n",
    "n = 128\n",
    "n = 11\n",
    "hammingWeight(n)"
   ]
  },
  {
   "cell_type": "code",
   "execution_count": null,
   "id": "0616501b-bc4a-4cae-87f6-5700e4663815",
   "metadata": {},
   "outputs": [],
   "source": [
    "from collections import Counter\n",
    "class Solution:\n",
    "    def hammingWeight(self, n: int) -> int:\n",
    "        res = bin(n)\n",
    "        x = Counter(res)\n",
    "        return x[\"1\"]"
   ]
  },
  {
   "cell_type": "markdown",
   "id": "f1371a9f-f59d-45d0-8320-c7629928dd4f",
   "metadata": {
    "jp-MarkdownHeadingCollapsed": true
   },
   "source": [
    "# 22 202. 快乐数\n",
    "https://leetcode.cn/problems/happy-number/description/"
   ]
  },
  {
   "cell_type": "code",
   "execution_count": 289,
   "id": "18ae8a15-d274-49dc-9dc6-527af7f9b631",
   "metadata": {},
   "outputs": [
    {
     "data": {
      "text/plain": [
       "False"
      ]
     },
     "execution_count": 289,
     "metadata": {},
     "output_type": "execute_result"
    }
   ],
   "source": [
    "def isHappy(n):\n",
    "    s = set()\n",
    "    while n != 1 and n not in s:\n",
    "        s.add(n)\n",
    "        n = squaresum(n)\n",
    "\n",
    "    return n == 1\n",
    "\n",
    "def squaresum(n):\n",
    "    sums = 0\n",
    "    while n > 0:\n",
    "        a, b = divmod(n, 10)\n",
    "        sums += b * b\n",
    "        n  = n // 10\n",
    "    return sums\n",
    "        \n",
    "\n",
    "n = 2\n",
    "#squaresum(n)\n",
    "isHappy(n)"
   ]
  },
  {
   "cell_type": "code",
   "execution_count": null,
   "id": "3eab4867-6b10-4e48-9572-7584b0909039",
   "metadata": {},
   "outputs": [],
   "source": [
    "class Solution:\n",
    "    def isHappy(self, n: int) -> bool:\n",
    "        s = set()\n",
    "        while n != 1 and n not in s:\n",
    "            s.add(n)\n",
    "            n = self.squaresum(n)\n",
    "    \n",
    "        return n == 1\n",
    "\n",
    "    def squaresum(self, n):\n",
    "        sums = 0\n",
    "        while n > 0:\n",
    "            a, b = divmod(n, 10)\n",
    "            sums += b * b\n",
    "            n  = n // 10\n",
    "        return sums"
   ]
  },
  {
   "cell_type": "markdown",
   "id": "b0527b38-c8c6-43e5-8b52-ae8863a4671e",
   "metadata": {
    "jp-MarkdownHeadingCollapsed": true
   },
   "source": [
    "# 23 205. 同构字符串\n",
    "https://leetcode.cn/problems/isomorphic-strings/description/"
   ]
  },
  {
   "cell_type": "code",
   "execution_count": 325,
   "id": "c68a2c2d-e846-454f-888d-8dccabe8166f",
   "metadata": {},
   "outputs": [
    {
     "data": {
      "text/plain": [
       "False"
      ]
     },
     "execution_count": 325,
     "metadata": {},
     "output_type": "execute_result"
    }
   ],
   "source": [
    "def isIsomorphic(s, t):\n",
    "    res1 = dict(zip(s, t))\n",
    "    res = dict(zip(t, s))\n",
    "    if len(res.keys() ) != len(res1.keys()):\n",
    "        return False                                      \n",
    "    t_modify = \"\"\n",
    "    for i in range(len(t)):\n",
    "        if t[i] in res.keys():\n",
    "            t_modify += res[t[i]]\n",
    "        else: \n",
    "            return False\n",
    "    return t_modify == s\n",
    "        \n",
    "    \n",
    "s = \"bbbaaaba\"\n",
    "t = \"aaabbbba\"\n",
    "#s = \"paper\"\n",
    "#t = \"title\"\n",
    "#s = \"egg\"\n",
    "#t = \"add\"\n",
    "#s = \"foo\"\n",
    "#t = \"bar\"\n",
    "isIsomorphic(s, t)"
   ]
  },
  {
   "cell_type": "code",
   "execution_count": null,
   "id": "d4af050d-6c7c-4e0e-a944-23941ec8adea",
   "metadata": {},
   "outputs": [],
   "source": [
    "class Solution:\n",
    "    def isIsomorphic(self, s: str, t: str) -> bool:\n",
    "        res1 = dict(zip(s, t))\n",
    "        res = dict(zip(t, s))\n",
    "        if len(res.keys() ) != len(res1.keys()):\n",
    "            return False                                      \n",
    "        t_modify = \"\"\n",
    "        for i in range(len(t)):\n",
    "            if t[i] in res.keys():\n",
    "                t_modify += res[t[i]]\n",
    "            else: \n",
    "                return False\n",
    "        return t_modify == s\n",
    "            "
   ]
  },
  {
   "cell_type": "markdown",
   "id": "4740cd8d-ad3f-47bb-925c-ce68e039001d",
   "metadata": {
    "jp-MarkdownHeadingCollapsed": true
   },
   "source": [
    "# 24  219. 存在重复元素 II \n",
    "https://leetcode.cn/problems/contains-duplicate-ii/description/"
   ]
  },
  {
   "cell_type": "code",
   "execution_count": 343,
   "id": "bff393dc-569c-4bc1-8774-61604fc8c604",
   "metadata": {},
   "outputs": [
    {
     "data": {
      "text/plain": [
       "True"
      ]
     },
     "execution_count": 343,
     "metadata": {},
     "output_type": "execute_result"
    }
   ],
   "source": [
    "## 有问题\n",
    "def containsNearbyDuplicate(nums, k):\n",
    "    res = False\n",
    "    if len(nums) < k:\n",
    "        return False\n",
    "    fast, slow = 0, 0\n",
    "    for slow in range(len(nums)):\n",
    "        for fast in range(1, len(nums)):\n",
    "            if fast - slow <= k and nums[slow] == nums[fast]:\n",
    "                return True\n",
    "    return res\n",
    "            \n",
    "#nums = [1,2,3,1,2,3]\n",
    "#k = 2\n",
    "#nums = [1,0,1,1]\n",
    "#k = 1\n",
    "#nums = [1,2,3,1]\n",
    "#k = 3\n",
    "#nums = [-1,-1]\n",
    "#k = 1\n",
    "nums = [99,99]\n",
    "k = 2\n",
    "nums = [1,2,3,1,2,3]\n",
    "k = 2\n",
    "containsNearbyDuplicate(nums, k)"
   ]
  },
  {
   "cell_type": "code",
   "execution_count": 363,
   "id": "385c30fe-d163-4136-881a-07d74726366f",
   "metadata": {},
   "outputs": [
    {
     "name": "stdout",
     "output_type": "stream",
     "text": [
      "0 3 1 1\n"
     ]
    },
    {
     "data": {
      "text/plain": [
       "True"
      ]
     },
     "execution_count": 363,
     "metadata": {},
     "output_type": "execute_result"
    }
   ],
   "source": [
    "# Timeout\n",
    "def containsNearbyDuplicate(nums, k):\n",
    "    n = len(nums)\n",
    "    for i in range(n - 1):\n",
    "        for j in range(i + 1, n):\n",
    "            if nums[i] == nums[j] and abs(i - j) <= k:\n",
    "                return True\n",
    "    return False\n",
    "            \n",
    "#nums = [1,2,3,1,2,3]\n",
    "#k = 2\n",
    "#nums = [1,0,1,1]\n",
    "#k = 1\n",
    "nums = [1,2,3,1]\n",
    "k = 3\n",
    "#nums = [-1,-1]\n",
    "#k = 1\n",
    "#nums = [99,99]\n",
    "#k = 2\n",
    "#nums = [1,2,3,1,2,3]\n",
    "#k = 2\n",
    "containsNearbyDuplicate(nums, k)"
   ]
  },
  {
   "cell_type": "code",
   "execution_count": 393,
   "id": "cc8059b9-d7d1-4eca-8c34-f2e1b75652cd",
   "metadata": {},
   "outputs": [
    {
     "data": {
      "text/plain": [
       "True"
      ]
     },
     "execution_count": 393,
     "metadata": {},
     "output_type": "execute_result"
    }
   ],
   "source": [
    "#Optimization\n",
    "def containsNearbyDuplicate(nums, k):\n",
    "    left = 0\n",
    "    ans = False\n",
    "    s = set()\n",
    "    for right, x in enumerate(nums):\n",
    "        if right - left > k:\n",
    "            s.remove(nums[left])\n",
    "            left += 1\n",
    "        if x in s:\n",
    "            return True\n",
    "        s.add(x)\n",
    "    return False\n",
    "            \n",
    "#nums = [1,2,3,1,2,3]\n",
    "#k = 2\n",
    "#nums = [1,0,1,1]\n",
    "#k = 1\n",
    "nums = [1,2,3,1]\n",
    "k = 3\n",
    "#nums = [-1,-1]\n",
    "#k = 1\n",
    "\n",
    "# estimate true\n",
    "#nums = [99,99]\n",
    "#k = 2\n",
    "#nums = [1,2,3,1,2,3]\n",
    "#k = 2\n",
    "containsNearbyDuplicate(nums, k)"
   ]
  },
  {
   "cell_type": "code",
   "execution_count": null,
   "id": "11559712-09a6-43c6-ac1a-b8249f55c6b6",
   "metadata": {},
   "outputs": [],
   "source": [
    "class Solution:\n",
    "    def containsNearbyDuplicate(self, nums: List[int], k: int) -> bool:\n",
    "        left = 0\n",
    "        ans = False\n",
    "        s = set()\n",
    "        for right, x in enumerate(nums):\n",
    "            if right - left > k:\n",
    "                s.remove(nums[left])\n",
    "                left += 1\n",
    "            if x in s:\n",
    "                return True\n",
    "            s.add(x)\n",
    "        return False"
   ]
  },
  {
   "cell_type": "markdown",
   "id": "4c1ee193-052d-4c15-a2ee-730d6f91262d",
   "metadata": {
    "jp-MarkdownHeadingCollapsed": true
   },
   "source": [
    "# 25 228. 汇总区间\n",
    "https://leetcode.cn/problems/summary-ranges/description/"
   ]
  },
  {
   "cell_type": "code",
   "execution_count": 413,
   "id": "32e79776-58c2-4fe4-85ff-c9b58eab984c",
   "metadata": {},
   "outputs": [
    {
     "data": {
      "text/plain": [
       "[[0, 2], [4, 5]]"
      ]
     },
     "execution_count": 413,
     "metadata": {},
     "output_type": "execute_result"
    }
   ],
   "source": [
    "def summaryRanges(nums):\n",
    "    temp = []\n",
    "    res = []\n",
    "    n = len(nums)\n",
    "    if n == 0:\n",
    "        return nums\n",
    "    if n == 1:\n",
    "        res.append(str(nums[0]))\n",
    "        return res\n",
    "    i = 0\n",
    "    for i in range(n):\n",
    "        if not temp:\n",
    "            temp.append(nums[i])\n",
    "            if i == n - 1:\n",
    "                res.append([temp[0], temp[0]])\n",
    "        else:\n",
    "            if nums[i] == temp[-1] + 1:\n",
    "                temp.append(nums[i])\n",
    "                if i == n - 1:\n",
    "                    res.append([temp[0], temp[-1]])\n",
    "            else:\n",
    "                res.append([temp[0], temp[-1]])\n",
    "                temp = []\n",
    "                temp.append(nums[i])\n",
    "    return res\n",
    "\n",
    "#nums = [0,2,3,4,6,8,9]\n",
    "nums = [0,1,2,4,5,7]\n",
    "summaryRanges(nums)"
   ]
  },
  {
   "cell_type": "code",
   "execution_count": 426,
   "id": "03370099-0c2f-4bc4-8ca1-0fcc6c6d79f3",
   "metadata": {},
   "outputs": [
    {
     "data": {
      "text/plain": [
       "['0', '2->4', '6', '8->9']"
      ]
     },
     "execution_count": 426,
     "metadata": {},
     "output_type": "execute_result"
    }
   ],
   "source": [
    "def summaryRanges(nums):\n",
    "    ans = []\n",
    "    n = len(nums)\n",
    "    i = 0\n",
    "    while i < n:\n",
    "        j = i\n",
    "        while j + 1 < n and nums[j + 1] == nums[j] + 1:\n",
    "            j += 1\n",
    "        ans.append([nums[i], nums[j]])\n",
    "        i = j + 1\n",
    "    res = []\n",
    "    for i in ans:\n",
    "        if i[0] == i[1]:\n",
    "            res.append(str(i[0]))\n",
    "        else: \n",
    "            res.append(\"%s->%s\"%(i[0], i[1]))\n",
    "    return res\n",
    "    \n",
    "nums = [0,2,3,4,6,8,9]\n",
    "#nums = [0,1,2,4,5,7]\n",
    "summaryRanges(nums)"
   ]
  },
  {
   "cell_type": "code",
   "execution_count": null,
   "id": "b8d92786-f56c-48ec-ba96-e18e991e1b9b",
   "metadata": {},
   "outputs": [],
   "source": [
    "class Solution:\n",
    "    def summaryRanges(self, nums: List[int]) -> List[str]:\n",
    "        ans = []\n",
    "        n = len(nums)\n",
    "        i = 0\n",
    "        while i < n:\n",
    "            j = i\n",
    "            while j + 1 < n and nums[j + 1] == nums[j] + 1:\n",
    "                j += 1\n",
    "            ans.append([nums[i], nums[j]])\n",
    "            i = j + 1\n",
    "        res = []\n",
    "        for i in ans:\n",
    "            if i[0] == i[1]:\n",
    "                res.append(str(i[0]))\n",
    "            else: \n",
    "                res.append(\"%s->%s\"%(i[0], i[1]))\n",
    "        return res\n",
    "        "
   ]
  },
  {
   "cell_type": "markdown",
   "id": "b4b33223-1127-4f34-820b-3a17c090e6f5",
   "metadata": {
    "jp-MarkdownHeadingCollapsed": true
   },
   "source": [
    "# 26 231. 2 的幂\n",
    "https://leetcode.cn/problems/power-of-two/description/"
   ]
  },
  {
   "cell_type": "code",
   "execution_count": 356,
   "id": "8e89b7e5-92d0-4eca-9368-1bd1d15a3de0",
   "metadata": {},
   "outputs": [
    {
     "data": {
      "text/plain": [
       "False"
      ]
     },
     "execution_count": 356,
     "metadata": {},
     "output_type": "execute_result"
    }
   ],
   "source": [
    "def isPowerOfTwo(n):\n",
    "    if n == 1:\n",
    "        return True\n",
    "    while n >= 2:\n",
    "        if n == 2:\n",
    "            return True\n",
    "        n = n / 2\n",
    "    return False\n",
    "\n",
    "n = 3\n",
    "isPowerOfTwo(n)"
   ]
  },
  {
   "cell_type": "code",
   "execution_count": null,
   "id": "917f6801-ba7e-4bcf-bee0-743433d100a1",
   "metadata": {},
   "outputs": [],
   "source": [
    "class Solution:\n",
    "    def isPowerOfTwo(self, n: int) -> bool:\n",
    "        if n == 1:\n",
    "            return True\n",
    "        while n >= 2:\n",
    "            if n == 2:\n",
    "                return True\n",
    "            n = n / 2\n",
    "        return False"
   ]
  },
  {
   "cell_type": "markdown",
   "id": "adb09bf4-313f-4ca2-9003-1a69b1c78602",
   "metadata": {
    "jp-MarkdownHeadingCollapsed": true
   },
   "source": [
    "# 27 242. 有效的字母异位词\n",
    "https://leetcode.cn/problems/valid-anagram/description/"
   ]
  },
  {
   "cell_type": "code",
   "execution_count": 432,
   "id": "bbc29731-6420-468b-a8c6-28b11483951a",
   "metadata": {},
   "outputs": [
    {
     "data": {
      "text/plain": [
       "False"
      ]
     },
     "execution_count": 432,
     "metadata": {},
     "output_type": "execute_result"
    }
   ],
   "source": [
    "from collections import Counter\n",
    "def isAnagram(s, t):\n",
    "    dict_s = Counter(s)\n",
    "    dict_t = Counter(t)\n",
    "    for i in dict_s:\n",
    "        if dict_t[i] != dict_s[i]:\n",
    "            return False\n",
    "    for i in dict_t:\n",
    "        if dict_s[i] != dict_t[i]:\n",
    "            return False\n",
    "    return True\n",
    "\n",
    "s = \"anagram\"\n",
    "t = \"nagaram\"\n",
    "s = \"rat\"\n",
    "t = \"car\"\n",
    "s = \"a\"\n",
    "t = \"ab\"\n",
    "isAnagram(s, t)"
   ]
  },
  {
   "cell_type": "code",
   "execution_count": null,
   "id": "af7e2ef0-02ff-4196-9215-16f7526517bc",
   "metadata": {},
   "outputs": [],
   "source": [
    "from collections import Counter\n",
    "class Solution:\n",
    "    def isAnagram(self, s: str, t: str) -> bool:\n",
    "        dict_s = Counter(s)\n",
    "        dict_t = Counter(t)\n",
    "        for i in dict_s:\n",
    "            if dict_t[i] != dict_s[i]:\n",
    "                return False\n",
    "        for i in dict_t:\n",
    "            if dict_s[i] != dict_t[i]:\n",
    "                return False\n",
    "        return True"
   ]
  },
  {
   "cell_type": "markdown",
   "id": "72fb1a55-04a2-4b47-a5e6-16b94ba3eeb7",
   "metadata": {
    "jp-MarkdownHeadingCollapsed": true
   },
   "source": [
    "# 28 258. 各位相加\n",
    "https://leetcode.cn/problems/add-digits/description/"
   ]
  },
  {
   "cell_type": "code",
   "execution_count": 438,
   "id": "538efc06-cbed-4cb9-8c60-ffeeabc6f918",
   "metadata": {},
   "outputs": [
    {
     "data": {
      "text/plain": [
       "0"
      ]
     },
     "execution_count": 438,
     "metadata": {},
     "output_type": "execute_result"
    }
   ],
   "source": [
    "def addDigits(num):\n",
    "    if num < 10:\n",
    "        return num\n",
    "    while num > 9:\n",
    "        s = str(num)\n",
    "        a = 0\n",
    "        for i in s:\n",
    "            a += int(i)\n",
    "        num = a\n",
    "    return num\n",
    "num = 0\n",
    "addDigits(num)"
   ]
  },
  {
   "cell_type": "code",
   "execution_count": null,
   "id": "db9fe18b-558f-492b-a15f-6eef1d3710e8",
   "metadata": {},
   "outputs": [],
   "source": [
    "class Solution:\n",
    "    def addDigits(self, num: int) -> int:\n",
    "        if num < 10:\n",
    "            return num\n",
    "        while num > 9:\n",
    "            s = str(num)\n",
    "            a = 0\n",
    "            for i in s:\n",
    "                a += int(i)\n",
    "            num = a\n",
    "        return num"
   ]
  },
  {
   "cell_type": "markdown",
   "id": "43bae000-1a17-49e9-8fe4-448f1cfed2d3",
   "metadata": {
    "jp-MarkdownHeadingCollapsed": true
   },
   "source": [
    "# 29 263. 丑数\n",
    "https://leetcode.cn/problems/ugly-number/description/"
   ]
  },
  {
   "cell_type": "code",
   "execution_count": 460,
   "id": "22b7003f-dd70-45b8-b41e-d790203b3fdc",
   "metadata": {},
   "outputs": [
    {
     "data": {
      "text/plain": [
       "True"
      ]
     },
     "execution_count": 460,
     "metadata": {},
     "output_type": "execute_result"
    }
   ],
   "source": [
    "def isUgly(n):\n",
    "    if n <= 0:\n",
    "        return False\n",
    "    factors = [2, 3, 5]\n",
    "    for factor in factors:\n",
    "        while n%factor == 0:\n",
    "            n //= factor\n",
    "\n",
    "    if n == 1:\n",
    "        return True\n",
    "    else: \n",
    "        return False\n",
    "    \n",
    "\n",
    "n = 6\n",
    "isUgly(n)"
   ]
  },
  {
   "cell_type": "code",
   "execution_count": null,
   "id": "6920215a-240e-42ad-8d7c-5096dcd6c688",
   "metadata": {},
   "outputs": [],
   "source": [
    "class Solution:\n",
    "    def isUgly(self, n: int) -> bool:\n",
    "        if n <= 0:\n",
    "            return False\n",
    "        factors = [2, 3, 5]\n",
    "        for factor in factors:\n",
    "            while n%factor == 0:\n",
    "                n //= factor\n",
    "    \n",
    "        if n == 1:\n",
    "            return True\n",
    "        else: \n",
    "            return False"
   ]
  },
  {
   "cell_type": "markdown",
   "id": "caf0037f-f5ac-4bf4-a424-e98538a10fd3",
   "metadata": {
    "jp-MarkdownHeadingCollapsed": true
   },
   "source": [
    "# 30 268. 丢失的数字\n",
    "https://leetcode.cn/problems/missing-number/description/"
   ]
  },
  {
   "cell_type": "code",
   "execution_count": 465,
   "id": "42c498f8-4c79-4494-924e-b2708a2282a0",
   "metadata": {},
   "outputs": [
    {
     "data": {
      "text/plain": [
       "2"
      ]
     },
     "execution_count": 465,
     "metadata": {},
     "output_type": "execute_result"
    }
   ],
   "source": [
    "def missingNumber(nums):\n",
    "    nums.sort()\n",
    "    for i in range(len(nums)):\n",
    "        if i != nums[i]:\n",
    "            return i\n",
    "    return nums[-1] + 1\n",
    "\n",
    "#nums = [9,6,4,2,3,5,7,0,1]\n",
    "nums = [0,1]\n",
    "missingNumber(nums)"
   ]
  },
  {
   "cell_type": "code",
   "execution_count": null,
   "id": "d293952a-4ec5-4483-8981-8af50097c2c2",
   "metadata": {},
   "outputs": [],
   "source": [
    "class Solution:\n",
    "    def missingNumber(self, nums: List[int]) -> int:\n",
    "        nums.sort()\n",
    "        for i in range(len(nums)):\n",
    "            if i != nums[i]:\n",
    "                return i\n",
    "        return nums[-1] + 1"
   ]
  },
  {
   "cell_type": "markdown",
   "id": "64c61d8e-871d-4659-9bb8-44e7ff437324",
   "metadata": {
    "jp-MarkdownHeadingCollapsed": true
   },
   "source": [
    "# 31 217. 存在重复元素\n",
    "https://leetcode.cn/problems/contains-duplicate/description/"
   ]
  },
  {
   "cell_type": "code",
   "execution_count": 469,
   "id": "efd2120e-fd3d-4ea9-8c0b-230af29d35ff",
   "metadata": {},
   "outputs": [
    {
     "data": {
      "text/plain": [
       "False"
      ]
     },
     "execution_count": 469,
     "metadata": {},
     "output_type": "execute_result"
    }
   ],
   "source": [
    "from collections import Counter\n",
    "def containsDuplicate(nums):\n",
    "    d = Counter(nums)\n",
    "    for i in d:\n",
    "        if d[i] >= 2:\n",
    "            return True\n",
    "    return False\n",
    "\n",
    "nums = [1,1,1,3,3,4,3,2,4,2]\n",
    "nums = [1,2,3,4]\n",
    "containsDuplicate(nums)"
   ]
  },
  {
   "cell_type": "code",
   "execution_count": null,
   "id": "2a9c1998-d070-4a73-9886-bc1d3bda331e",
   "metadata": {},
   "outputs": [],
   "source": [
    "from collections import Counter\n",
    "class Solution:\n",
    "    def containsDuplicate(self, nums: List[int]) -> bool:\n",
    "        d = Counter(nums)\n",
    "        for i in d:\n",
    "            if d[i] >= 2:\n",
    "                return True\n",
    "        return False"
   ]
  },
  {
   "cell_type": "markdown",
   "id": "c2a42539-102f-47db-8b9e-d94c5a37d7d8",
   "metadata": {
    "jp-MarkdownHeadingCollapsed": true
   },
   "source": [
    "# 32 283. 移动零\n",
    "https://leetcode.cn/problems/move-zeroes/description/"
   ]
  },
  {
   "cell_type": "code",
   "execution_count": 483,
   "id": "9de41723-ec76-406c-b5b6-e50f29d29da2",
   "metadata": {},
   "outputs": [
    {
     "data": {
      "text/plain": [
       "[0]"
      ]
     },
     "execution_count": 483,
     "metadata": {},
     "output_type": "execute_result"
    }
   ],
   "source": [
    "def moveZeroes(nums):\n",
    "    c = 0\n",
    "    while 0 in nums:\n",
    "        c += 1\n",
    "        nums.pop(nums.index(0))\n",
    "    for i in range(c):\n",
    "        nums.append(0)\n",
    "    return nums\n",
    "\n",
    "nums = [0]\n",
    "moveZeroes(nums)"
   ]
  },
  {
   "cell_type": "code",
   "execution_count": null,
   "id": "bf049b77-9016-4a25-9891-894f092d9e7d",
   "metadata": {},
   "outputs": [],
   "source": [
    "class Solution:\n",
    "    def moveZeroes(self, nums: List[int]) -> None:\n",
    "        \"\"\"\n",
    "        Do not return anything, modify nums in-place instead.\n",
    "        \"\"\"\n",
    "        c = 0\n",
    "        while 0 in nums:\n",
    "            c += 1\n",
    "            nums.pop(nums.index(0))\n",
    "        for i in range(c):\n",
    "            nums.append(0)"
   ]
  },
  {
   "cell_type": "markdown",
   "id": "6ea074f5-1c1b-4e00-88b7-0428490ceba3",
   "metadata": {
    "jp-MarkdownHeadingCollapsed": true
   },
   "source": [
    "# 33 290. 单词规律\n",
    "https://leetcode.cn/problems/word-pattern/description/"
   ]
  },
  {
   "cell_type": "code",
   "execution_count": 503,
   "id": "7b1e04c7-a3fc-4304-904e-aab283bf6c15",
   "metadata": {},
   "outputs": [
    {
     "name": "stdout",
     "output_type": "stream",
     "text": [
      "a {}\n",
      "b {'a': 'dog'}\n"
     ]
    },
    {
     "data": {
      "text/plain": [
       "False"
      ]
     },
     "execution_count": 503,
     "metadata": {},
     "output_type": "execute_result"
    }
   ],
   "source": [
    "# Fail\n",
    "def wordPattern(pattern, s):\n",
    "    q = s.split()\n",
    "    p = list(set(pattern))\n",
    "    d = {}\n",
    "    for i in range(len(pattern)):\n",
    "        print(pattern[i], d)\n",
    "        if pattern[i] not in d:\n",
    "            if q[i] in d.values():\n",
    "                return False\n",
    "            d[pattern[i]] = q[i]\n",
    "        if pattern[i] in d and d[pattern[i]] != q[i]:\n",
    "            print(pattern[i], d, q[i])\n",
    "            return False\n",
    "    return True\n",
    "\n",
    "            \n",
    "#pattern = \"aaaa\"\n",
    "#s = \"dog cat cat dog\"\n",
    "#pattern = \"abba\"\n",
    "#s = \"dog cat cat fish\"\n",
    "#pattern = \"abba\"\n",
    "#s = \"dog cat cat dog\"\n",
    "pattern = \"abba\"\n",
    "s = \"dog dog dog dog\"\n",
    "\n",
    "wordPattern(pattern, s)"
   ]
  },
  {
   "cell_type": "code",
   "execution_count": 510,
   "id": "51036d91-039f-45bf-9eab-2ed76472236d",
   "metadata": {},
   "outputs": [
    {
     "data": {
      "text/plain": [
       "True"
      ]
     },
     "execution_count": 510,
     "metadata": {},
     "output_type": "execute_result"
    }
   ],
   "source": [
    "def wordPattern(pattern, s):\n",
    "    res = s.split()\n",
    "    a = list(map(pattern.index, pattern))\n",
    "    b = list(map(res.index, res))\n",
    "    return a == b\n",
    "    \n",
    "pattern = \"abba\"\n",
    "s = \"dog cat cat dog\"\n",
    "\n",
    "wordPattern(pattern, s)"
   ]
  },
  {
   "cell_type": "code",
   "execution_count": null,
   "id": "2d800f39-4add-413e-acd3-1419b44720b0",
   "metadata": {},
   "outputs": [],
   "source": [
    "class Solution:\n",
    "    def wordPattern(self, pattern: str, s: str) -> bool:\n",
    "        res = s.split()\n",
    "        a = list(map(pattern.index, pattern))\n",
    "        b = list(map(res.index, res))\n",
    "        return a == b\n",
    "        "
   ]
  },
  {
   "cell_type": "markdown",
   "id": "e57400d5-f291-4430-b55d-524dd9b4d9a2",
   "metadata": {
    "jp-MarkdownHeadingCollapsed": true
   },
   "source": [
    "# 34. 292. Nim 游戏\n",
    "https://leetcode.cn/problems/nim-game/description/"
   ]
  },
  {
   "cell_type": "code",
   "execution_count": 514,
   "id": "fabcf9db-b15d-46c4-bf5e-eeb9da448d8b",
   "metadata": {},
   "outputs": [
    {
     "data": {
      "text/plain": [
       "True"
      ]
     },
     "execution_count": 514,
     "metadata": {},
     "output_type": "execute_result"
    }
   ],
   "source": [
    "def canWinNim(n):\n",
    "    return n % 4 != 0\n",
    "\n",
    "n = 1\n",
    "canWinNim(n)"
   ]
  },
  {
   "cell_type": "code",
   "execution_count": null,
   "id": "6510dbca-5464-4d54-a710-d5ee422090fd",
   "metadata": {},
   "outputs": [],
   "source": [
    "class Solution:\n",
    "    def canWinNim(self, n: int) -> bool:"
   ]
  },
  {
   "cell_type": "markdown",
   "id": "6026235e-3e77-4fcd-bc5c-315bc487bbad",
   "metadata": {
    "jp-MarkdownHeadingCollapsed": true
   },
   "source": [
    "# 35 326. 3 的幂\n",
    "https://leetcode.cn/problems/power-of-three/description/\n"
   ]
  },
  {
   "cell_type": "code",
   "execution_count": 519,
   "id": "57872274-0c86-4f7c-ad02-c1705344b7a1",
   "metadata": {},
   "outputs": [
    {
     "data": {
      "text/plain": [
       "False"
      ]
     },
     "execution_count": 519,
     "metadata": {},
     "output_type": "execute_result"
    }
   ],
   "source": [
    "def isPowerOfThree(n):\n",
    "    if n == 1:\n",
    "        return True\n",
    "    while n >= 3:\n",
    "        if n == 3:\n",
    "            return True\n",
    "        n = n / 3\n",
    "    return False\n",
    "    \n",
    "n = 45\n",
    "isPowerOfThree(n)"
   ]
  },
  {
   "cell_type": "code",
   "execution_count": null,
   "id": "967c2842-dfcf-47f4-a5b5-6c5415acf7dd",
   "metadata": {},
   "outputs": [],
   "source": [
    "class Solution:\n",
    "    def isPowerOfThree(self, n: int) -> bool:\n",
    "        if n == 1:\n",
    "            return True\n",
    "        while n >= 3:\n",
    "            if n == 3:\n",
    "                return True\n",
    "            n = n / 3\n",
    "        return False"
   ]
  },
  {
   "cell_type": "markdown",
   "id": "54e668b5-81c4-4011-8416-acd123bacb9a",
   "metadata": {
    "jp-MarkdownHeadingCollapsed": true
   },
   "source": [
    "# 36. 338. 比特位计数\n",
    "\n",
    "https://leetcode.cn/problems/counting-bits/description/"
   ]
  },
  {
   "cell_type": "code",
   "execution_count": 536,
   "id": "5d013e6a-2a21-4bf2-997e-c99386cf2543",
   "metadata": {},
   "outputs": [
    {
     "data": {
      "text/plain": [
       "[0, 1, 1, 2, 1, 2]"
      ]
     },
     "execution_count": 536,
     "metadata": {},
     "output_type": "execute_result"
    }
   ],
   "source": [
    "from collections import Counter\n",
    "def countBits(n):\n",
    "    ans = []\n",
    "    for i in range(n + 1):\n",
    "        ans.append(Counter(str(bin(i)))[\"1\"])\n",
    "    return ans\n",
    "    \n",
    "n = 5\n",
    "countBits(n)"
   ]
  },
  {
   "cell_type": "code",
   "execution_count": null,
   "id": "cf04ddf3-624f-4aed-94f2-36e0e1a9f322",
   "metadata": {},
   "outputs": [],
   "source": [
    "from collections import Counter\n",
    "class Solution:\n",
    "    def countBits(self, n: int) -> List[int]:\n",
    "        ans = []\n",
    "        for i in range(n + 1):\n",
    "            ans.append(Counter(str(bin(i)))[\"1\"])\n",
    "        return ans"
   ]
  },
  {
   "cell_type": "markdown",
   "id": "e39b93f7-cb57-4de6-89e4-e204ab1815a1",
   "metadata": {
    "jp-MarkdownHeadingCollapsed": true
   },
   "source": [
    "# 37 342. 4的幂\n",
    "https://leetcode.cn/problems/power-of-four/description/\n"
   ]
  },
  {
   "cell_type": "code",
   "execution_count": 539,
   "id": "4c9a7b07-8ea3-40e3-b71a-d3f9d77d55ee",
   "metadata": {},
   "outputs": [
    {
     "data": {
      "text/plain": [
       "True"
      ]
     },
     "execution_count": 539,
     "metadata": {},
     "output_type": "execute_result"
    }
   ],
   "source": [
    "def isPowerOfFour(n):\n",
    "    if n == 1:\n",
    "        return True\n",
    "    while n >= 4:\n",
    "        if n == 4:\n",
    "            return True\n",
    "        n = n / 4\n",
    "    return False\n",
    "\n",
    "n = 16\n",
    "isPowerOfFour(n)"
   ]
  },
  {
   "cell_type": "code",
   "execution_count": null,
   "id": "7f1fde05-3674-4cda-ba02-7fb270e08d7b",
   "metadata": {},
   "outputs": [],
   "source": [
    "class Solution:\n",
    "    def isPowerOfFour(self, n: int) -> bool:\n",
    "        if n == 1:\n",
    "            return True\n",
    "        while n >= 4:\n",
    "            if n == 4:\n",
    "                return True\n",
    "            n = n / 4\n",
    "        return False"
   ]
  },
  {
   "cell_type": "markdown",
   "id": "1816f2eb-5038-471c-81c8-e8db89fb0275",
   "metadata": {
    "jp-MarkdownHeadingCollapsed": true
   },
   "source": [
    "# 38 344. 反转字符串\n",
    "https://leetcode.cn/problems/reverse-string/description/"
   ]
  },
  {
   "cell_type": "code",
   "execution_count": 541,
   "id": "521ab4da-d9a9-4ea8-9532-9d62f840f2f9",
   "metadata": {},
   "outputs": [
    {
     "data": {
      "text/plain": [
       "['o', 'l', 'l', 'e', 'h']"
      ]
     },
     "execution_count": 541,
     "metadata": {},
     "output_type": "execute_result"
    }
   ],
   "source": [
    "def reverseString(s):\n",
    "    return s[::-1]\n",
    "     \n",
    "s = [\"H\",\"a\",\"n\",\"n\",\"a\",\"h\"]\n",
    "s = [\"h\",\"e\",\"l\",\"l\",\"o\"]\n",
    "reverseString(s)"
   ]
  },
  {
   "cell_type": "code",
   "execution_count": 546,
   "id": "30b15013-741d-4372-94bf-974587870758",
   "metadata": {},
   "outputs": [
    {
     "name": "stdout",
     "output_type": "stream",
     "text": [
      "['o', 'l', 'l', 'e', 'h']\n"
     ]
    }
   ],
   "source": [
    "def reverseString(s):\n",
    "    for i in range(len(s) // 2):\n",
    "        s[i], s[-i-1] = s[-i -1], s[i]\n",
    "     \n",
    "s = [\"H\",\"a\",\"n\",\"n\",\"a\",\"h\"]\n",
    "s = [\"h\",\"e\",\"l\",\"l\",\"o\"]\n",
    "reverseString(s)"
   ]
  },
  {
   "cell_type": "code",
   "execution_count": null,
   "id": "f8a25989-fd18-4294-9631-f79bd0e11575",
   "metadata": {},
   "outputs": [],
   "source": [
    "class Solution:\n",
    "    def reverseString(self, s: List[str]) -> None:\n",
    "        \"\"\"\n",
    "        Do not return anything, modify s in-place instead.\n",
    "        \"\"\"\n",
    "        for i in range(len(s) // 2):\n",
    "            s[i], s[-i-1] = s[-i -1], s[i]"
   ]
  },
  {
   "cell_type": "markdown",
   "id": "c36c7081-e699-4522-8184-2675b5b13e37",
   "metadata": {},
   "source": [
    "# 39 345. 反转字符串中的元音字母\n",
    "\n",
    "https://leetcode.cn/problems/reverse-vowels-of-a-string/description/"
   ]
  },
  {
   "cell_type": "code",
   "execution_count": 565,
   "id": "f34a765c-9b73-46b0-9435-d44d7e0fea48",
   "metadata": {},
   "outputs": [
    {
     "data": {
      "text/plain": [
       "'holle'"
      ]
     },
     "execution_count": 565,
     "metadata": {},
     "output_type": "execute_result"
    }
   ],
   "source": [
    "def reverseVowels(s):\n",
    "    total = \"aeiouAEIOU\"\n",
    "    ori_index = []\n",
    "    ori_content = []\n",
    "    for i in range(len(s)):\n",
    "        if s[i] in total:\n",
    "            ori_index.append(i)\n",
    "            ori_content.append(s[i])\n",
    "    ori_content = ori_content[::-1]\n",
    "    s = list(s)\n",
    "    for i in range(len(ori_index)):\n",
    "        s[ori_index[i]] = ori_content[i]\n",
    "    res = \"\"\n",
    "    for i in s:\n",
    "        res += i\n",
    "    return res\n",
    "\n",
    "\n",
    "s = \"hello\"\n",
    "reverseVowels(s)"
   ]
  },
  {
   "cell_type": "code",
   "execution_count": null,
   "id": "f118ffd0-1602-4351-8832-9ca4e69269fe",
   "metadata": {},
   "outputs": [],
   "source": [
    "class Solution:\n",
    "    def reverseVowels(self, s: str) -> str:\n",
    "        total = \"aeiouAEIOU\"\n",
    "        ori_index = []\n",
    "        ori_content = []\n",
    "        for i in range(len(s)):\n",
    "            if s[i] in total:\n",
    "                ori_index.append(i)\n",
    "                ori_content.append(s[i])\n",
    "        ori_content = ori_content[::-1]\n",
    "        s = list(s)\n",
    "        for i in range(len(ori_index)):\n",
    "            s[ori_index[i]] = ori_content[i]\n",
    "        res = \"\"\n",
    "        for i in s:\n",
    "            res += i\n",
    "        return res"
   ]
  },
  {
   "cell_type": "markdown",
   "id": "34c5c66c-2ecd-4139-a582-04b60c5c726b",
   "metadata": {
    "jp-MarkdownHeadingCollapsed": true
   },
   "source": [
    "# 40 349. 两个数组的交集\n",
    "https://leetcode.cn/problems/intersection-of-two-arrays/description/"
   ]
  },
  {
   "cell_type": "code",
   "execution_count": 570,
   "id": "75b11c33-76fa-4500-a815-8dde9d7e3f0a",
   "metadata": {},
   "outputs": [
    {
     "data": {
      "text/plain": [
       "[9, 4]"
      ]
     },
     "execution_count": 570,
     "metadata": {},
     "output_type": "execute_result"
    }
   ],
   "source": [
    "def intersection(nums1, nums2):\n",
    "    set1 , set2= set(nums1), set(nums2)\n",
    "    return list(set1.intersection(set2))\n",
    "\n",
    "\n",
    "\n",
    "nums1 = [4,9,5]\n",
    "nums2 = [9,4,9,8,4]\n",
    "intersection(nums1, nums2)"
   ]
  },
  {
   "cell_type": "code",
   "execution_count": null,
   "id": "c4cb8d70-5ac6-4025-849d-6231388cebe2",
   "metadata": {},
   "outputs": [],
   "source": [
    "class Solution:\n",
    "    def intersection(self, nums1: List[int], nums2: List[int]) -> List[int]:\n",
    "        set1 , set2= set(nums1), set(nums2)\n",
    "        return list(set1.intersection(set2))"
   ]
  },
  {
   "cell_type": "markdown",
   "id": "748854c0-4a77-486c-9820-99c86388618f",
   "metadata": {
    "jp-MarkdownHeadingCollapsed": true
   },
   "source": [
    "# 41 350. 两个数组的交集 II\n",
    "\n",
    "https://leetcode.cn/problems/intersection-of-two-arrays-ii/description/"
   ]
  },
  {
   "cell_type": "code",
   "execution_count": 574,
   "id": "a3785190-daf2-4247-a0e6-bf6b6f797b63",
   "metadata": {},
   "outputs": [
    {
     "data": {
      "text/plain": [
       "[2, 2]"
      ]
     },
     "execution_count": 574,
     "metadata": {},
     "output_type": "execute_result"
    }
   ],
   "source": [
    "from collections import Counter\n",
    "def intersect(nums1, nums2):\n",
    "    set1 , set2= set(nums1), set(nums2)\n",
    "    res = list(set1.intersection(set2))\n",
    "    count1, count2 = Counter(nums1), Counter(nums2)\n",
    "    ans = []\n",
    "    for i in res:\n",
    "        x = min(count1[i], count2[i])\n",
    "        for j in range(0, x):\n",
    "            ans.append(i)\n",
    "    return ans\n",
    "\n",
    "nums1 = [4,9,5]\n",
    "nums2 = [9,4,9,8,4]\n",
    "nums1 = [1,2,2,1]\n",
    "nums2 = [2,2]\n",
    "intersect(nums1, nums2)"
   ]
  },
  {
   "cell_type": "code",
   "execution_count": null,
   "id": "bfe0304f-eccb-4d59-be13-b471ac94dc03",
   "metadata": {},
   "outputs": [],
   "source": [
    "class Solution:\n",
    "    def intersect(self, nums1: List[int], nums2: List[int]) -> List[int]:\n",
    "        set1 , set2= set(nums1), set(nums2)\n",
    "        res = list(set1.intersection(set2))\n",
    "        count1, count2 = Counter(nums1), Counter(nums2)\n",
    "        ans = []\n",
    "        for i in res:\n",
    "            x = min(count1[i], count2[i])\n",
    "            for j in range(0, x):\n",
    "                ans.append(i)\n",
    "        return ans"
   ]
  },
  {
   "cell_type": "markdown",
   "id": "d7b39969-6443-40d1-8ad5-64576705a427",
   "metadata": {
    "jp-MarkdownHeadingCollapsed": true
   },
   "source": [
    "# 42 367. 有效的完全平方数\n",
    "\n",
    "https://leetcode.cn/problems/valid-perfect-square/description/"
   ]
  },
  {
   "cell_type": "code",
   "execution_count": 587,
   "id": "285fd5d1-4d83-471c-9468-00c74f7d9a0c",
   "metadata": {},
   "outputs": [
    {
     "data": {
      "text/plain": [
       "True"
      ]
     },
     "execution_count": 587,
     "metadata": {},
     "output_type": "execute_result"
    }
   ],
   "source": [
    "def isPerfectSquare(num):\n",
    "    for i in range(num + 1):\n",
    "        if i * i == num:\n",
    "            return True\n",
    "        elif i * i > num:\n",
    "            return False\n",
    "    return False\n",
    "        \n",
    "\n",
    "\n",
    "num = 1\n",
    "isPerfectSquare(num)"
   ]
  },
  {
   "cell_type": "code",
   "execution_count": null,
   "id": "bb4299f3-3573-4a50-891c-884d1fe4c6e5",
   "metadata": {},
   "outputs": [],
   "source": [
    "class Solution:\n",
    "    def isPerfectSquare(self, num: int) -> bool:\n",
    "        for i in range(num + 1):\n",
    "            if i * i == num:\n",
    "                return True\n",
    "            elif i * i > num:\n",
    "                return False\n",
    "        return False\n",
    "            "
   ]
  },
  {
   "cell_type": "markdown",
   "id": "b39a0c0e-88cc-4cb8-a110-05cc334d0403",
   "metadata": {
    "jp-MarkdownHeadingCollapsed": true
   },
   "source": [
    "# 43 383. 赎金信\n",
    "https://leetcode.cn/problems/ransom-note/description/"
   ]
  },
  {
   "cell_type": "code",
   "execution_count": 593,
   "id": "4bd2a163-a7ea-4fc1-b763-9fff8ae8a1f5",
   "metadata": {},
   "outputs": [
    {
     "data": {
      "text/plain": [
       "True"
      ]
     },
     "execution_count": 593,
     "metadata": {},
     "output_type": "execute_result"
    }
   ],
   "source": [
    "def canConstruct(ransomNote, magazine):\n",
    "    r = Counter(ransomNote)\n",
    "    m = Counter(magazine)\n",
    "    for i in r:\n",
    "        if i not in m or r[i] > m[i]:\n",
    "            return False\n",
    "    return True\n",
    "        \n",
    "        \n",
    "\n",
    "ransomNote = \"aa\"\n",
    "magazine = \"aab\"\n",
    "#ransomNote = \"aa\"\n",
    "#magazine = \"ab\"\n",
    "canConstruct(ransomNote, magazine)"
   ]
  },
  {
   "cell_type": "code",
   "execution_count": null,
   "id": "6343b49f-0b07-4c85-a6aa-a4a7120458d7",
   "metadata": {},
   "outputs": [],
   "source": [
    "class Solution:\n",
    "    def canConstruct(self, ransomNote: str, magazine: str) -> bool:\n",
    "        r = Counter(ransomNote)\n",
    "        m = Counter(magazine)\n",
    "        for i in r:\n",
    "            if i not in m or r[i] > m[i]:\n",
    "                return False\n",
    "        return True"
   ]
  },
  {
   "cell_type": "markdown",
   "id": "03b040d6-5e1f-47fd-abad-002cf602d5c1",
   "metadata": {
    "jp-MarkdownHeadingCollapsed": true
   },
   "source": [
    "# 44 389. 找不同\n",
    "https://leetcode.cn/problems/find-the-difference/description/"
   ]
  },
  {
   "cell_type": "code",
   "execution_count": 613,
   "id": "69a2dae1-1785-4b5e-abd2-fe2472ce9287",
   "metadata": {},
   "outputs": [
    {
     "data": {
      "text/plain": [
       "False"
      ]
     },
     "execution_count": 613,
     "metadata": {},
     "output_type": "execute_result"
    }
   ],
   "source": [
    "def findTheDifference(s, t):\n",
    "    res = (set(t) - set(s))\n",
    "    if not res:\n",
    "        return False\n",
    "    res = list(res)[0]\n",
    "    return res\n",
    "    \n",
    "s = \"a\"\n",
    "t = \"aa\"\n",
    "findTheDifference(s, t)"
   ]
  },
  {
   "cell_type": "code",
   "execution_count": 618,
   "id": "69bc99cc-b156-48e6-8560-1f916ac11638",
   "metadata": {},
   "outputs": [
    {
     "name": "stdout",
     "output_type": "stream",
     "text": [
      "a\n",
      "b\n",
      "c\n",
      "d\n",
      "e\n"
     ]
    },
    {
     "data": {
      "text/plain": [
       "'e'"
      ]
     },
     "execution_count": 618,
     "metadata": {},
     "output_type": "execute_result"
    }
   ],
   "source": [
    "def findTheDifference(s, t):\n",
    "    s = list(s)\n",
    "    for i in t:\n",
    "        print(i)\n",
    "        if i in s:\n",
    "            s.pop(s.index(i))\n",
    "        elif i not in s:\n",
    "            return i\n",
    "    \n",
    "s = \"abcd\"\n",
    "t = \"abcde\"\n",
    "findTheDifference(s, t)"
   ]
  },
  {
   "cell_type": "code",
   "execution_count": null,
   "id": "fd273991-3eef-4b76-a74f-a8bc2d1ca1ee",
   "metadata": {},
   "outputs": [],
   "source": [
    "class Solution:\n",
    "    def findTheDifference(self, s: str, t: str) -> str:\n",
    "        s = list(s)\n",
    "        for i in t:\n",
    "            if i in s:\n",
    "                s.pop(s.index(i))\n",
    "            elif i not in s:\n",
    "                return i"
   ]
  },
  {
   "cell_type": "markdown",
   "id": "f9c18967-e36f-41f2-bb0b-9e2edfa4b248",
   "metadata": {
    "jp-MarkdownHeadingCollapsed": true
   },
   "source": [
    "# 45 392. 判断子序列\n",
    "\n",
    "https://leetcode.cn/problems/is-subsequence/description/"
   ]
  },
  {
   "cell_type": "code",
   "execution_count": 624,
   "id": "771716d2-c95f-4890-a9d6-e0b1e10c4768",
   "metadata": {},
   "outputs": [
    {
     "data": {
      "text/plain": [
       "False"
      ]
     },
     "execution_count": 624,
     "metadata": {},
     "output_type": "execute_result"
    }
   ],
   "source": [
    "def isSubsequence(s, t):\n",
    "    if not s:\n",
    "        return True\n",
    "    s = list(s)\n",
    "    for i in t:\n",
    "        if i == s[0]:\n",
    "            s.pop(0)\n",
    "        if not s:\n",
    "            return True\n",
    "    return False\n",
    "\n",
    "s = \"abc\"\n",
    "t = \"ahbgdc\"\n",
    "s = \"axc\"\n",
    "t = \"ahbgdc\"\n",
    "isSubsequence(s, t)"
   ]
  },
  {
   "cell_type": "code",
   "execution_count": null,
   "id": "460a2c0e-0fa7-4984-bbbd-75fa1655a8ee",
   "metadata": {},
   "outputs": [],
   "source": [
    "class Solution:\n",
    "    def isSubsequence(self, s: str, t: str) -> bool:\n",
    "        if not s:\n",
    "            return True\n",
    "        s = list(s)\n",
    "        for i in t:\n",
    "            if i == s[0]:\n",
    "                s.pop(0)\n",
    "            if not s:\n",
    "                return True\n",
    "        return False"
   ]
  },
  {
   "cell_type": "markdown",
   "id": "82f58082-90b9-4009-8c87-7b0f2520f022",
   "metadata": {
    "jp-MarkdownHeadingCollapsed": true
   },
   "source": [
    "# 46 405. 数字转换为十六进制数\n",
    "https://leetcode.cn/problems/convert-a-number-to-hexadecimal/description/"
   ]
  },
  {
   "cell_type": "code",
   "execution_count": 667,
   "id": "c437a53a-6f50-4fec-ae0c-8b49b8295fef",
   "metadata": {},
   "outputs": [
    {
     "data": {
      "text/plain": [
       "'ffffffff'"
      ]
     },
     "execution_count": 667,
     "metadata": {},
     "output_type": "execute_result"
    }
   ],
   "source": [
    "def toHex(num):\n",
    "    if num >= 0:\n",
    "        return hex(num)[2:]\n",
    "    else: \n",
    "        return hex(int(\"0Xffffffff\", 16) + num + 1)[2:]\n",
    "num = -1\n",
    "toHex(num)"
   ]
  },
  {
   "cell_type": "code",
   "execution_count": null,
   "id": "53b30357-480a-430a-9ffc-abb871ceb985",
   "metadata": {},
   "outputs": [],
   "source": [
    "class Solution:\n",
    "    def toHex(self, num: int) -> str:\n",
    "        if num >= 0:\n",
    "            return hex(num)[2:]\n",
    "        else: \n",
    "            return hex(int(\"0Xffffffff\", 16) + num + 1)[2:]"
   ]
  },
  {
   "cell_type": "markdown",
   "id": "8e917589-c4af-4210-9f06-01c8ac36091a",
   "metadata": {},
   "source": [
    "# 47: 409. 最长回文串\n",
    "https://leetcode.cn/problems/longest-palindrome/description/"
   ]
  },
  {
   "cell_type": "code",
   "execution_count": 701,
   "id": "32d0c2ca-c713-49bf-a5d6-cf7d75fddb88",
   "metadata": {},
   "outputs": [
    {
     "data": {
      "text/plain": [
       "5"
      ]
     },
     "execution_count": 701,
     "metadata": {},
     "output_type": "execute_result"
    }
   ],
   "source": [
    "from collections import Counter\n",
    "def longestPalindrome(s):\n",
    "    r = Counter(s)\n",
    "    res = 0\n",
    "    flag_not_odd = False\n",
    "    for i in r:\n",
    "        if not r[i]%2:\n",
    "            res += r[i]\n",
    "        else: \n",
    "            res += r[i] -1\n",
    "            flag_not_odd = True\n",
    "    if flag_not_odd:\n",
    "        return  res + 1\n",
    "    else: \n",
    "        return res\n",
    "s = \"aaaaa\"\n",
    "longestPalindrome(s)"
   ]
  },
  {
   "cell_type": "code",
   "execution_count": null,
   "id": "bcf7ffba-a94f-4271-a0ab-b4691f1aa26e",
   "metadata": {},
   "outputs": [],
   "source": [
    "class Solution:\n",
    "    def longestPalindrome(self, s: str) -> int:\n",
    "        r = Counter(s)\n",
    "        res = 0\n",
    "        flag_not_odd = False\n",
    "        for i in r:\n",
    "            if not r[i]%2:\n",
    "                res += r[i]\n",
    "            else: \n",
    "                res += r[i] -1\n",
    "                flag_not_odd = True\n",
    "        if flag_not_odd:\n",
    "            return  res + 1\n",
    "        else: \n",
    "            return res"
   ]
  },
  {
   "cell_type": "markdown",
   "id": "f6f3be0e-facd-45d7-b540-2979e3087364",
   "metadata": {
    "jp-MarkdownHeadingCollapsed": true
   },
   "source": [
    "# 48 412. Fizz Buzz\n",
    "https://leetcode.cn/problems/fizz-buzz/description/"
   ]
  },
  {
   "cell_type": "code",
   "execution_count": 721,
   "id": "b3fa298c-a7c6-42a1-9d45-044fd51de883",
   "metadata": {},
   "outputs": [
    {
     "data": {
      "text/plain": [
       "['1',\n",
       " '2',\n",
       " 'Fizz',\n",
       " '4',\n",
       " 'Buzz',\n",
       " 'Fizz',\n",
       " '7',\n",
       " '8',\n",
       " 'Fizz',\n",
       " 'Buzz',\n",
       " '11',\n",
       " 'Fizz',\n",
       " '13',\n",
       " '14',\n",
       " 'FizzBuzz']"
      ]
     },
     "execution_count": 721,
     "metadata": {},
     "output_type": "execute_result"
    }
   ],
   "source": [
    "def fizzBuzz(n):\n",
    "    res = []\n",
    "    for i in range(1, n + 1):\n",
    "        a = not i % 3 and not i%5\n",
    "        b = not i % 3\n",
    "        c = not i % 5\n",
    "        d = not (a and b and c and d)\n",
    "        if a and (b or c):\n",
    "            res.append(\"FizzBuzz\")\n",
    "        elif not a and b and not c:\n",
    "            res.append(\"Fizz\")\n",
    "        elif not a and not b and c:\n",
    "            res.append(\"Buzz\")\n",
    "        elif d:\n",
    "            res.append(str(i))\n",
    "    return res\n",
    "    \n",
    "n = 15\n",
    "fizzBuzz(n)"
   ]
  },
  {
   "cell_type": "code",
   "execution_count": null,
   "id": "ca44b5e5-9935-4103-9792-d870b72e5c6a",
   "metadata": {},
   "outputs": [],
   "source": [
    "class Solution:\n",
    "    def fizzBuzz(self, n: int) -> List[str]:\n",
    "        res = []\n",
    "        for i in range(1, n + 1):\n",
    "            a = not i % 3 and not i%5\n",
    "            b = not i % 3\n",
    "            c = not i % 5\n",
    "            d = not (a and b and c and d)\n",
    "            if a and (b or c):\n",
    "                res.append(\"FizzBuzz\")\n",
    "            elif not a and b and not c:\n",
    "                res.append(\"Fizz\")\n",
    "            elif not a and not b and c:\n",
    "                res.append(\"Buzz\")\n",
    "            elif d:\n",
    "                res.append(str(i))\n",
    "        return res"
   ]
  },
  {
   "cell_type": "markdown",
   "id": "b500201d-c658-4a46-88f4-d56ba2cedb1d",
   "metadata": {
    "jp-MarkdownHeadingCollapsed": true
   },
   "source": [
    "# 49 414. 第三大的数\n",
    "\n",
    "https://leetcode.cn/problems/third-maximum-number/description/"
   ]
  },
  {
   "cell_type": "code",
   "execution_count": 749,
   "id": "24209c1d-2bb2-44f5-bc3c-92ae44e6d194",
   "metadata": {},
   "outputs": [
    {
     "name": "stdout",
     "output_type": "stream",
     "text": [
      "[3, 2, 1]\n"
     ]
    },
    {
     "data": {
      "text/plain": [
       "1"
      ]
     },
     "execution_count": 749,
     "metadata": {},
     "output_type": "execute_result"
    }
   ],
   "source": [
    "def thirdMax(nums):\n",
    "    res = list(set(nums))\n",
    "    res.sort(reverse=True)\n",
    "    print(res)\n",
    "    if len(res) < 3:\n",
    "        return max(res)\n",
    "    else:\n",
    "        return res[2]\n",
    "    \n",
    "#nums = [3, 2, 1]\n",
    "#nums = [1, 2]\n",
    "nums = [2, 2, 3, 1]\n",
    "thirdMax(nums)"
   ]
  },
  {
   "cell_type": "code",
   "execution_count": null,
   "id": "f821961d-8636-43a8-8faf-681f01ac36e8",
   "metadata": {},
   "outputs": [],
   "source": [
    "class Solution:\n",
    "    def thirdMax(self, nums: List[int]) -> int:\n",
    "        res = list(set(nums))\n",
    "        res.sort(reverse=True)\n",
    "        print(res)\n",
    "        if len(res) < 3:\n",
    "            return max(res)\n",
    "        else:\n",
    "            return res[2]\n",
    "        "
   ]
  },
  {
   "cell_type": "markdown",
   "id": "3045598a-3b0d-4a8c-a260-ff95dd64e10c",
   "metadata": {
    "jp-MarkdownHeadingCollapsed": true
   },
   "source": [
    "# 50 415. 字符串相加\n",
    "https://leetcode.cn/problems/add-strings/description/"
   ]
  },
  {
   "cell_type": "code",
   "execution_count": 751,
   "id": "0ff4e49c-d9e7-4bd4-a2e1-6fdd0ff074fe",
   "metadata": {},
   "outputs": [
    {
     "data": {
      "text/plain": [
       "'134'"
      ]
     },
     "execution_count": 751,
     "metadata": {},
     "output_type": "execute_result"
    }
   ],
   "source": [
    "# No, too long string\n",
    "def addStrings(num1, num2):\n",
    "    return str((int(num1) + int(num2)))\n",
    "\n",
    "num1 = \"11\"\n",
    "num2 = \"123\"\n",
    "addStrings(num1, num2)"
   ]
  },
  {
   "cell_type": "code",
   "execution_count": 756,
   "id": "c2c13ab7-7d2e-4904-8cad-79acb21a73d5",
   "metadata": {},
   "outputs": [
    {
     "data": {
      "text/plain": [
       "'134'"
      ]
     },
     "execution_count": 756,
     "metadata": {},
     "output_type": "execute_result"
    }
   ],
   "source": [
    "def addStrings(num1, num2):\n",
    "    i, j = len(num1) -1 , len(num2) -1 \n",
    "    ans = []\n",
    "    c = 0\n",
    "    while i >= 0 or  j >= 0 or c:\n",
    "        a = 0 if i < 0 else int(num1[i])\n",
    "        b = 0 if j < 0 else int(num2[j])\n",
    "        c, v = divmod(a + b + c, 10)\n",
    "        ans.append(str(v))\n",
    "        i -= 1\n",
    "        j -= 1\n",
    "    return \"\".join(ans[::-1])\n",
    "        \n",
    "\n",
    "num1 = \"11\"\n",
    "num2 = \"123\"\n",
    "addStrings(num1, num2)"
   ]
  },
  {
   "cell_type": "code",
   "execution_count": null,
   "id": "ed87edf5-de8d-453a-9a95-a51ea21b9302",
   "metadata": {},
   "outputs": [],
   "source": [
    "class Solution:\n",
    "    def addStrings(self, num1: str, num2: str) -> str:\n",
    "        i, j = len(num1) -1 , len(num2) -1 \n",
    "        ans = []\n",
    "        c = 0\n",
    "        while i >= 0 or  j >= 0 or c:\n",
    "            a = 0 if i < 0 else int(num1[i])\n",
    "            b = 0 if j < 0 else int(num2[j])\n",
    "            c, v = divmod(a + b + c, 10)\n",
    "            ans.append(str(v))\n",
    "            i -= 1\n",
    "            j -= 1\n",
    "        return \"\".join(ans[::-1])"
   ]
  },
  {
   "cell_type": "markdown",
   "id": "f4fb569c-1f3d-4bb5-9e46-c9a14f6ad2da",
   "metadata": {
    "jp-MarkdownHeadingCollapsed": true
   },
   "source": [
    "# 51 434. 字符串中的单词数\n",
    "https://leetcode.cn/problems/number-of-segments-in-a-string/description/"
   ]
  },
  {
   "cell_type": "code",
   "execution_count": 759,
   "id": "2635939f-d0ab-42f9-bfb7-c6785f6a0d65",
   "metadata": {},
   "outputs": [
    {
     "data": {
      "text/plain": [
       "5"
      ]
     },
     "execution_count": 759,
     "metadata": {},
     "output_type": "execute_result"
    }
   ],
   "source": [
    "def countSegments(s):\n",
    "    return len(s.split())\n",
    "\n",
    "s = \"Hello, my name is John\"\n",
    "countSegments(s)"
   ]
  },
  {
   "cell_type": "code",
   "execution_count": null,
   "id": "fbcbfd12-be07-4a8a-8005-8dc2aedfac5b",
   "metadata": {},
   "outputs": [],
   "source": [
    "class Solution:\n",
    "    def countSegments(self, s: str) -> int:\n",
    "        return len(s.split())"
   ]
  },
  {
   "cell_type": "markdown",
   "id": "b3f7fac8-a368-4882-b6f7-88fcb140852e",
   "metadata": {
    "jp-MarkdownHeadingCollapsed": true
   },
   "source": [
    "# 52 441. 排列硬币\n",
    "https://leetcode.cn/problems/arranging-coins/description/"
   ]
  },
  {
   "cell_type": "code",
   "execution_count": 793,
   "id": "2be676ce-b931-49af-abf2-09dcf6c64de1",
   "metadata": {},
   "outputs": [
    {
     "name": "stdout",
     "output_type": "stream",
     "text": [
      "x\n"
     ]
    },
    {
     "data": {
      "text/plain": [
       "9"
      ]
     },
     "execution_count": 793,
     "metadata": {},
     "output_type": "execute_result"
    }
   ],
   "source": [
    "def arrangeCoins(n):\n",
    "    i = 1\n",
    "    while True:\n",
    "        res = i * (i + 1) /2\n",
    "        if res == n:\n",
    "            print(\"y\")\n",
    "            return i\n",
    "        elif n - res > i:\n",
    "            i += 1\n",
    "        elif n - res <= i:\n",
    "            print(\"x\")\n",
    "            return i\n",
    "        \n",
    "n = 46\n",
    "arrangeCoins(n)"
   ]
  },
  {
   "cell_type": "code",
   "execution_count": null,
   "id": "96ddbbd8-c94c-4923-884a-d2e98d3ad3ca",
   "metadata": {},
   "outputs": [],
   "source": [
    "class Solution:\n",
    "    def arrangeCoins(self, n: int) -> int:\n",
    "        i = 1\n",
    "        while True:\n",
    "            res = i * (i + 1) /2\n",
    "            if res == n:\n",
    "                print(\"y\")\n",
    "                return i\n",
    "            elif n - res > i:\n",
    "                i += 1\n",
    "            elif n - res <= i:\n",
    "                print(\"x\")\n",
    "                return i"
   ]
  },
  {
   "cell_type": "markdown",
   "id": "5f400e78-b376-4faf-a34f-221bc841e894",
   "metadata": {
    "jp-MarkdownHeadingCollapsed": true
   },
   "source": [
    "# 53 448. 找到所有数组中消失的数字\n",
    "https://leetcode.cn/problems/find-all-numbers-disappeared-in-an-array/description/"
   ]
  },
  {
   "cell_type": "code",
   "execution_count": 800,
   "id": "b3c1ca90-c0f2-4666-9cb8-1b9d56feee21",
   "metadata": {},
   "outputs": [
    {
     "data": {
      "text/plain": [
       "[2]"
      ]
     },
     "execution_count": 800,
     "metadata": {},
     "output_type": "execute_result"
    }
   ],
   "source": [
    "# Time out\n",
    "def findDisappearedNumbers(nums):\n",
    "    n = len(nums)\n",
    "    res = []\n",
    "    for i in range(1, n + 1):\n",
    "        if i not in nums:\n",
    "            res.append(i)\n",
    "    return res\n",
    "\n",
    "#nums = [4,3,2,7,8,2,3,1]\n",
    "nums = [1, 1]\n",
    "findDisappearedNumbers(nums)"
   ]
  },
  {
   "cell_type": "code",
   "execution_count": 827,
   "id": "483e4f6d-2bca-400b-b6e5-c86ea7e0926c",
   "metadata": {},
   "outputs": [
    {
     "data": {
      "text/plain": [
       "[5, 6]"
      ]
     },
     "execution_count": 827,
     "metadata": {},
     "output_type": "execute_result"
    }
   ],
   "source": [
    "# Time out\n",
    "def findDisappearedNumbers(nums):\n",
    "    n = len(nums)\n",
    "    total = set(nums)\n",
    "    res = []\n",
    "    for i in range(1, n + 1):\n",
    "        if i not in total:\n",
    "            res.append(i)\n",
    "    return res\n",
    "\n",
    "nums = [4,3,2,7,8,2,3,1]\n",
    "#nums = [1, 1]\n",
    "findDisappearedNumbers(nums)"
   ]
  },
  {
   "cell_type": "code",
   "execution_count": null,
   "id": "b48e947a-bda4-406a-b2dd-b475429ec449",
   "metadata": {},
   "outputs": [],
   "source": [
    "class Solution:\n",
    "    def findDisappearedNumbers(self, nums: List[int]) -> List[int]:\n",
    "        n = len(nums)\n",
    "        total = set(nums)\n",
    "        res = []\n",
    "        for i in range(1, n + 1):\n",
    "            if i not in total:\n",
    "                res.append(i)\n",
    "        return res"
   ]
  },
  {
   "cell_type": "markdown",
   "id": "8e9c3a8a-2e9d-4c87-85f8-883c16fccaaf",
   "metadata": {
    "jp-MarkdownHeadingCollapsed": true
   },
   "source": [
    "# 54 455. 分发饼干\n",
    "https://leetcode.cn/problems/assign-cookies/description/"
   ]
  },
  {
   "cell_type": "code",
   "execution_count": 887,
   "id": "f31e321f-f746-4749-b9dc-a1bfe45fa6f2",
   "metadata": {},
   "outputs": [
    {
     "data": {
      "text/plain": [
       "1"
      ]
     },
     "execution_count": 887,
     "metadata": {},
     "output_type": "execute_result"
    }
   ],
   "source": [
    "def findContentChildren(g, s):\n",
    "    g.sort()\n",
    "    s.sort()\n",
    "    gi, gn, si, sn, cnt = 0, len(g), 0, len(s), 0\n",
    "    while gi < gn and si < sn:\n",
    "        if g[gi] <= s[si]:\n",
    "            cnt += 1\n",
    "            gi += 1\n",
    "        si += 1\n",
    "    return cnt\n",
    "\n",
    "\n",
    "g = [1,2,3]\n",
    "s = [1,1]\n",
    "findContentChildren(g, s)"
   ]
  },
  {
   "cell_type": "code",
   "execution_count": null,
   "id": "2fc14fe8-3d24-4b13-b4ad-954f96fd6417",
   "metadata": {},
   "outputs": [],
   "source": [
    "class Solution:\n",
    "    def findContentChildren(self, g: List[int], s: List[int]) -> int:\n",
    "        g.sort()\n",
    "        s.sort()\n",
    "        gi, gn, si, sn, cnt = 0, len(g), 0, len(s), 0\n",
    "        while gi < gn and si < sn:\n",
    "            if g[gi] <= s[si]:\n",
    "                cnt += 1\n",
    "                gi += 1\n",
    "            si += 1\n",
    "        return cnt"
   ]
  },
  {
   "cell_type": "markdown",
   "id": "d4604808-ae56-43d9-807a-a862df8709bf",
   "metadata": {
    "jp-MarkdownHeadingCollapsed": true
   },
   "source": [
    "# 55  459. 重复的子字符串\n",
    "\n",
    "https://leetcode.cn/problems/repeated-substring-pattern/description/"
   ]
  },
  {
   "cell_type": "code",
   "execution_count": 878,
   "id": "6daf05c9-7f8a-4e0e-8432-31bab3d5d6e4",
   "metadata": {},
   "outputs": [
    {
     "data": {
      "text/plain": [
       "True"
      ]
     },
     "execution_count": 878,
     "metadata": {},
     "output_type": "execute_result"
    }
   ],
   "source": [
    "def repeatedSubstringPattern(s):\n",
    "    n = len(s)\n",
    "    if n <= 1:\n",
    "        return False\n",
    "    if n == 2:\n",
    "        return s[0] == s[1]\n",
    "    for i in range(n):\n",
    "        x, y = divmod(n, i + 1)\n",
    "        if i > n / 2:\n",
    "            return False\n",
    "        elif y == 0:\n",
    "            res = s[: i+ 1]\n",
    "            if res * x == s:\n",
    "                return True\n",
    "\n",
    "\n",
    "s = \"aba\"\n",
    "s = \"abab\"\n",
    "s = \"abcabcabcabc\"\n",
    "repeatedSubstringPattern(s)"
   ]
  },
  {
   "cell_type": "code",
   "execution_count": 879,
   "id": "b38b32ad-bc4c-4dcd-a4d0-b22f7be537b6",
   "metadata": {},
   "outputs": [],
   "source": [
    "class Solution:\n",
    "    def repeatedSubstringPattern(self, s: str) -> bool:\n",
    "        n = len(s)\n",
    "        if n <= 1:\n",
    "            return False\n",
    "        if n == 2:\n",
    "            return s[0] == s[1]\n",
    "        for i in range(n):\n",
    "            x, y = divmod(n, i + 1)\n",
    "            if i > n / 2:\n",
    "                return False\n",
    "            elif y == 0:\n",
    "                res = s[: i+ 1]\n",
    "                if res * x == s:\n",
    "                    return True\n"
   ]
  },
  {
   "cell_type": "markdown",
   "id": "8aa23878-ee0e-462a-a2e4-c6fbaf5a3b02",
   "metadata": {
    "jp-MarkdownHeadingCollapsed": true
   },
   "source": [
    "# 56  461. 汉明距离\n",
    "\n",
    "https://leetcode.cn/problems/hamming-distance/description/"
   ]
  },
  {
   "cell_type": "code",
   "execution_count": 850,
   "id": "84b317b2-3d58-4d56-8ece-0089e41103b2",
   "metadata": {},
   "outputs": [
    {
     "data": {
      "text/plain": [
       "2"
      ]
     },
     "execution_count": 850,
     "metadata": {},
     "output_type": "execute_result"
    }
   ],
   "source": [
    "def hammingDistance(x, y):\n",
    "    return bin(x ^ y).count(\"1\")\n",
    "\n",
    "x = 1\n",
    "y = 4\n",
    "hammingDistance(x, y)\n"
   ]
  },
  {
   "cell_type": "code",
   "execution_count": null,
   "id": "e0269ce7-1094-4562-874e-e7324945641f",
   "metadata": {},
   "outputs": [],
   "source": [
    "class Solution:\n",
    "    def hammingDistance(self, x: int, y: int) -> int:\n",
    "        return bin(x ^ y).count(\"1\")"
   ]
  },
  {
   "cell_type": "markdown",
   "id": "0ef600b6-0ab7-473c-9189-193fb04d005b",
   "metadata": {},
   "source": [
    "# 57 463. 岛屿的周长\n",
    "https://leetcode.cn/problems/island-perimeter/description/"
   ]
  },
  {
   "cell_type": "code",
   "execution_count": 1143,
   "id": "697c39b6-71c8-4eb0-844d-e641905da885",
   "metadata": {},
   "outputs": [
    {
     "ename": "UnboundLocalError",
     "evalue": "local variable 'count' referenced before assignment",
     "output_type": "error",
     "traceback": [
      "\u001b[0;31m---------------------------------------------------------------------------\u001b[0m",
      "\u001b[0;31mUnboundLocalError\u001b[0m                         Traceback (most recent call last)",
      "Cell \u001b[0;32mIn[1143], line 21\u001b[0m\n\u001b[1;32m     17\u001b[0m visited \u001b[38;5;241m=\u001b[39m [\u001b[38;5;28;01mFalse\u001b[39;00m \u001b[38;5;28;01mfor\u001b[39;00m _ \u001b[38;5;129;01min\u001b[39;00m \u001b[38;5;28mrange\u001b[39m(n)]\n\u001b[1;32m     20\u001b[0m grid \u001b[38;5;241m=\u001b[39m [[\u001b[38;5;241m0\u001b[39m,\u001b[38;5;241m1\u001b[39m,\u001b[38;5;241m0\u001b[39m,\u001b[38;5;241m0\u001b[39m],[\u001b[38;5;241m1\u001b[39m,\u001b[38;5;241m1\u001b[39m,\u001b[38;5;241m1\u001b[39m,\u001b[38;5;241m0\u001b[39m],[\u001b[38;5;241m0\u001b[39m,\u001b[38;5;241m1\u001b[39m,\u001b[38;5;241m0\u001b[39m,\u001b[38;5;241m0\u001b[39m],[\u001b[38;5;241m1\u001b[39m,\u001b[38;5;241m1\u001b[39m,\u001b[38;5;241m0\u001b[39m,\u001b[38;5;241m0\u001b[39m]]\n\u001b[0;32m---> 21\u001b[0m \u001b[43mislandPerimeter\u001b[49m\u001b[43m(\u001b[49m\u001b[43mgrid\u001b[49m\u001b[43m)\u001b[49m\n",
      "Cell \u001b[0;32mIn[1143], line 4\u001b[0m, in \u001b[0;36mislandPerimeter\u001b[0;34m(grid)\u001b[0m\n\u001b[1;32m      2\u001b[0m \u001b[38;5;28;01mfor\u001b[39;00m i \u001b[38;5;129;01min\u001b[39;00m \u001b[38;5;28mrange\u001b[39m(n):\n\u001b[1;32m      3\u001b[0m     \u001b[38;5;28;01mif\u001b[39;00m \u001b[38;5;129;01mnot\u001b[39;00m visited[i]:\n\u001b[0;32m----> 4\u001b[0m         count \u001b[38;5;241m+\u001b[39m\u001b[38;5;241m=\u001b[39m \u001b[38;5;241m1\u001b[39m\n\u001b[1;32m      5\u001b[0m         dfs(i)\n\u001b[1;32m      6\u001b[0m \u001b[38;5;28;01mreturn\u001b[39;00m count, components\n",
      "\u001b[0;31mUnboundLocalError\u001b[0m: local variable 'count' referenced before assignment"
     ]
    }
   ],
   "source": [
    "class Solution:\n",
    "    x, y = len(grid), len(grid[0])\n",
    "    n = x * y\n",
    "    g = grid\n",
    "    count = 0\n",
    "    components = []\n",
    "    visited = [False for _ in range(n)]\n",
    "    \n",
    "    def islandPerimeter(grid):\n",
    "   \n",
    "\n",
    "    for i in range(n):\n",
    "        if not visited[i]:\n",
    "            count += 1\n",
    "            dfs(i)\n",
    "    return count, components\n",
    "\n",
    "def dfs(at):\n",
    "    pass\n",
    "    \n",
    "    \n",
    "\n",
    "grid = [[0,1,0,0],[1,1,1,0],[0,1,0,0],[1,1,0,0]]\n",
    "islandPerimeter(grid)"
   ]
  },
  {
   "cell_type": "code",
   "execution_count": null,
   "id": "20b5e635-c991-4621-bfd3-901238828a08",
   "metadata": {},
   "outputs": [],
   "source": [
    "class Solution:\n",
    "    def islandPerimeter(self, grid: List[List[int]]) -> int:"
   ]
  },
  {
   "cell_type": "markdown",
   "id": "0b9ac469-a634-4cdd-8e07-707f0277ca32",
   "metadata": {
    "jp-MarkdownHeadingCollapsed": true
   },
   "source": [
    "# 58 476. 数字的补数\n",
    "https://leetcode.cn/problems/number-complement/description/"
   ]
  },
  {
   "cell_type": "code",
   "execution_count": 913,
   "id": "302d3e46-cf70-4737-8946-5c3054d9a4cc",
   "metadata": {},
   "outputs": [
    {
     "data": {
      "text/plain": [
       "0"
      ]
     },
     "execution_count": 913,
     "metadata": {},
     "output_type": "execute_result"
    }
   ],
   "source": [
    "def findComplement(num):\n",
    "    res = \"0b\"\n",
    "    s = bin(num)\n",
    "    for i in s[2:]:\n",
    "        if i == \"1\":\n",
    "            res += \"0\"\n",
    "        else:\n",
    "            res += \"1\"\n",
    "    return int(res,2)\n",
    "\n",
    "\n",
    "num = 1\n",
    "findComplement(num)"
   ]
  },
  {
   "cell_type": "code",
   "execution_count": null,
   "id": "d7c63cb8-2b68-41fc-bc1f-c92167ba6e82",
   "metadata": {},
   "outputs": [],
   "source": [
    "class Solution:\n",
    "    def findComplement(self, num: int) -> int:\n",
    "        res = \"0b\"\n",
    "        s = bin(num)\n",
    "        for i in s[2:]:\n",
    "            if i == \"1\":\n",
    "                res += \"0\"\n",
    "            else:\n",
    "                res += \"1\"\n",
    "        return int(res,2)\n"
   ]
  },
  {
   "cell_type": "markdown",
   "id": "8215b1a3-2acc-4209-9c34-0406ac2faf2f",
   "metadata": {
    "jp-MarkdownHeadingCollapsed": true
   },
   "source": [
    "# 59 482. 密钥格式化\n",
    "https://leetcode.cn/problems/license-key-formatting/description/"
   ]
  },
  {
   "cell_type": "code",
   "execution_count": 951,
   "id": "b01dc101-2eae-4fc1-967d-bd8dbb124834",
   "metadata": {},
   "outputs": [
    {
     "data": {
      "text/plain": [
       "'2'"
      ]
     },
     "execution_count": 951,
     "metadata": {},
     "output_type": "execute_result"
    }
   ],
   "source": [
    " def licenseKeyFormatting(s, k):\n",
    "     s1 =\"\"\n",
    "     res = \"\"\n",
    "     for i in s.split(\"-\"):\n",
    "       s1 += i \n",
    "     n = len(s1)\n",
    "     x, y = divmod(n, k)\n",
    "     if y == 0:\n",
    "         for i in range(x):\n",
    "             res += s1[k* i: k*(i+1)]\n",
    "             if i < x - 1: res += \"-\"\n",
    "     else:\n",
    "         res += s1[:y]\n",
    "         if x != 0: res += \"-\"\n",
    "         for i in range(x):\n",
    "             res += s1[k* i + y: k*(i+1) + y]\n",
    "             if i < x - 1: res += \"-\"\n",
    "     res = res.upper()\n",
    "     return res\n",
    "\n",
    "s = \"5F3Z-2e-9-w\"\n",
    "k = 4\n",
    "s = \"2-5g-3-J\"\n",
    "k = 2\n",
    "s = \"2\"\n",
    "k = 2\n",
    "licenseKeyFormatting(s, k)"
   ]
  },
  {
   "cell_type": "code",
   "execution_count": null,
   "id": "b24626dd-fa29-4c33-8596-462846448723",
   "metadata": {},
   "outputs": [],
   "source": [
    "class Solution:\n",
    "    def licenseKeyFormatting(self, s: str, k: int) -> str:\n",
    "         s1 =\"\"\n",
    "         res = \"\"\n",
    "         for i in s.split(\"-\"):\n",
    "           s1 += i \n",
    "         n = len(s1)\n",
    "         x, y = divmod(n, k)\n",
    "         if y == 0:\n",
    "             for i in range(x):\n",
    "                 res += s1[k* i: k*(i+1)]\n",
    "                 if i < x - 1: res += \"-\"\n",
    "         else:\n",
    "             res += s1[:y]\n",
    "             if x != 0: res += \"-\"\n",
    "             for i in range(x):\n",
    "                 res += s1[k* i + y: k*(i+1) + y]\n",
    "                 if i < x - 1: res += \"-\"\n",
    "         res = res.upper()\n",
    "         return res\n"
   ]
  },
  {
   "cell_type": "markdown",
   "id": "29caf793-d553-44b7-9d63-cecb75d8630e",
   "metadata": {
    "jp-MarkdownHeadingCollapsed": true
   },
   "source": [
    "# 60 485. 最大连续 1 的个数\n",
    "https://leetcode.cn/problems/max-consecutive-ones/description/"
   ]
  },
  {
   "cell_type": "code",
   "execution_count": 972,
   "id": "4cf0f572-8358-4e23-a0ee-a801da9de713",
   "metadata": {},
   "outputs": [
    {
     "data": {
      "text/plain": [
       "3"
      ]
     },
     "execution_count": 972,
     "metadata": {},
     "output_type": "execute_result"
    }
   ],
   "source": [
    "def findMaxConsecutiveOnes(nums):\n",
    "    n, res, cnt, end = len(nums), 0, 0, 0 \n",
    "    for i in nums:\n",
    "        if i == 0:\n",
    "            cnt =  0\n",
    "            res = max(res, cnt)\n",
    "        else:\n",
    "            cnt += 1\n",
    "            res = max(res, cnt)\n",
    "    return res\n",
    "\n",
    "nums = [1,1,0,1,1,1]\n",
    "findMaxConsecutiveOnes(nums)"
   ]
  },
  {
   "cell_type": "code",
   "execution_count": null,
   "id": "2ad25a9c-90e2-402b-bf6e-12f50796da0d",
   "metadata": {},
   "outputs": [],
   "source": [
    "class Solution:\n",
    "    def findMaxConsecutiveOnes(self, nums: List[int]) -> int:\n",
    "        n, res, cnt, end = len(nums), 0, 0, 0 \n",
    "        for i in nums:\n",
    "            if i == 0:\n",
    "                cnt =  0\n",
    "                res = max(res, cnt)\n",
    "            else:\n",
    "                cnt += 1\n",
    "                res = max(res, cnt)\n",
    "        return res"
   ]
  },
  {
   "cell_type": "markdown",
   "id": "747b63e1-66a0-45c3-b17d-c0a47d9903f3",
   "metadata": {
    "jp-MarkdownHeadingCollapsed": true
   },
   "source": [
    "# 61  492. 构造矩形\n",
    "https://leetcode.cn/problems/construct-the-rectangle/description/"
   ]
  },
  {
   "cell_type": "code",
   "execution_count": 981,
   "id": "56a46dc7-7be5-41b7-8c6b-92a2d5f30e6e",
   "metadata": {},
   "outputs": [
    {
     "data": {
      "text/plain": [
       "[427, 286]"
      ]
     },
     "execution_count": 981,
     "metadata": {},
     "output_type": "execute_result"
    }
   ],
   "source": [
    "def constructRectangle(area):\n",
    "    res = []\n",
    "    for i in range(1, area + 1):\n",
    "        a, b = divmod(area, i)\n",
    "        if b == 0 and a >= i:\n",
    "            res = [a, i]\n",
    "    return res\n",
    "area =122122\n",
    "constructRectangle(area)"
   ]
  },
  {
   "cell_type": "code",
   "execution_count": null,
   "id": "56e6ac75-966f-4726-aa41-60b3470ecfef",
   "metadata": {},
   "outputs": [],
   "source": [
    "class Solution:\n",
    "    def constructRectangle(self, area: int) -> List[int]:\n",
    "        res = []\n",
    "        for i in range(1, area + 1):\n",
    "            a, b = divmod(area, i)\n",
    "            if b == 0 and a >= i:\n",
    "                res = [a, i]\n",
    "        return res"
   ]
  },
  {
   "cell_type": "markdown",
   "id": "c9a80fab-dc56-4a20-9e1d-2680d7e86b41",
   "metadata": {
    "jp-MarkdownHeadingCollapsed": true
   },
   "source": [
    "# 62 495. 提莫攻击\n",
    "https://leetcode.cn/problems/teemo-attacking/description/"
   ]
  },
  {
   "cell_type": "code",
   "execution_count": 991,
   "id": "8096a357-6855-4d91-8d6e-4b866d774e63",
   "metadata": {},
   "outputs": [
    {
     "data": {
      "text/plain": [
       "3"
      ]
     },
     "execution_count": 991,
     "metadata": {},
     "output_type": "execute_result"
    }
   ],
   "source": [
    "def findPoisonedDuration(timeSeries, duration):\n",
    "    res = 0\n",
    "    n = len(timeSeries)\n",
    "    for i in range(n):\n",
    "        if i == n -1:\n",
    "            res += duration\n",
    "        else:\n",
    "            if timeSeries[i+1] - timeSeries[i] > duration:\n",
    "                res += duration\n",
    "            else: \n",
    "                res += (timeSeries[i+1] - timeSeries[i])\n",
    "    return res\n",
    "\n",
    "timeSeries = [1,4]\n",
    "duration = 2\n",
    "timeSeries = [1,2]\n",
    "duration = 2\n",
    "findPoisonedDuration(timeSeries, duration)"
   ]
  },
  {
   "cell_type": "code",
   "execution_count": null,
   "id": "794591c4-c8da-4b74-9514-8fbe74135681",
   "metadata": {},
   "outputs": [],
   "source": [
    "class Solution:\n",
    "    def findPoisonedDuration(self, timeSeries: List[int], duration: int) -> int:\n",
    "        res = 0\n",
    "        n = len(timeSeries)\n",
    "        for i in range(n):\n",
    "            if i == n -1:\n",
    "                res += duration\n",
    "            else:\n",
    "                if timeSeries[i+1] - timeSeries[i] > duration:\n",
    "                    res += duration\n",
    "                else: \n",
    "                    res += (timeSeries[i+1] - timeSeries[i])\n",
    "        return res"
   ]
  },
  {
   "cell_type": "markdown",
   "id": "1cefe1b1-6054-4655-b53d-f4fe9361888a",
   "metadata": {},
   "source": [
    "# 63 496. 下一个更大元素 I\n",
    "\n",
    "https://leetcode.cn/problems/next-greater-element-i/description/"
   ]
  },
  {
   "cell_type": "code",
   "execution_count": 1009,
   "id": "e0b7b9d6-a357-498f-b8b7-075bf1128acf",
   "metadata": {},
   "outputs": [
    {
     "data": {
      "text/plain": [
       "[3, -1]"
      ]
     },
     "execution_count": 1009,
     "metadata": {},
     "output_type": "execute_result"
    }
   ],
   "source": [
    "def nextGreaterElement(nums1, nums2):\n",
    "    res = []\n",
    "    n2 = len(nums2)\n",
    "    for i in nums1:\n",
    "        idx = nums2.index(i)\n",
    "        if idx == n2 -1:\n",
    "            res.append(-1)\n",
    "        else:\n",
    "            Flag = True\n",
    "            for j in nums2[idx: ]:\n",
    "                if j > i and Flag:\n",
    "                    res.append(j)\n",
    "                    Flag = False\n",
    "            if Flag:\n",
    "                res.append(-1)\n",
    "    return res\n",
    "            \n",
    "\n",
    "nums1 = [2,4]\n",
    "nums2 = [1,2,3,4]\n",
    "#nums1 = [4,1,2]\n",
    "#nums2 = [1,3,4,2]\n",
    "#nums1 = [1,3,5,2,4]\n",
    "#nums2 = [6,5,4,3,2,1,7]\n",
    "nextGreaterElement(nums1, nums2)"
   ]
  },
  {
   "cell_type": "code",
   "execution_count": null,
   "id": "2f72721b-4efd-4a85-97c0-405ebd9f78ce",
   "metadata": {},
   "outputs": [],
   "source": [
    "class Solution:\n",
    "    def nextGreaterElement(self, nums1: List[int], nums2: List[int]) -> List[int]:\n",
    "        res = []\n",
    "        n2 = len(nums2)\n",
    "        for i in nums1:\n",
    "            idx = nums2.index(i)\n",
    "            if idx == n2 -1:\n",
    "                res.append(-1)\n",
    "            else:\n",
    "                Flag = True\n",
    "                for j in nums2[idx: ]:\n",
    "                    if j > i and Flag:\n",
    "                        res.append(j)\n",
    "                        Flag = False\n",
    "                if Flag:\n",
    "                    res.append(-1)\n",
    "        return res"
   ]
  },
  {
   "cell_type": "markdown",
   "id": "06047a1c-685a-4ea8-9679-f44f840ec729",
   "metadata": {},
   "source": [
    "# 64 500. 键盘行\n",
    "\n",
    "https://leetcode.cn/problems/keyboard-row/description/"
   ]
  },
  {
   "cell_type": "code",
   "execution_count": 1018,
   "id": "5cf19471-4b9f-4963-b59a-fb85e666aef7",
   "metadata": {},
   "outputs": [
    {
     "data": {
      "text/plain": [
       "['Alaska', 'Dad']"
      ]
     },
     "execution_count": 1018,
     "metadata": {},
     "output_type": "execute_result"
    }
   ],
   "source": [
    "def findWords(words):\n",
    "    res = []\n",
    "    l1, l2, l3 = set(list(\"qwertyuiop\")), set(list(\"asdfghjkl\")), set(list(\"zxcvbnm\"))\n",
    "    for i in words:\n",
    "        if set(list(i.lower())).issubset(l1) or set(list(i.lower())).issubset(l2) or set(list(i.lower())).issubset(l3):\n",
    "            res.append(i)\n",
    "    return res\n",
    "        \n",
    "words = [\"Hello\",\"Alaska\",\"Dad\",\"Peace\"]\n",
    "findWords(words)"
   ]
  },
  {
   "cell_type": "code",
   "execution_count": null,
   "id": "35074c35-5a4e-4726-b178-22459e47e976",
   "metadata": {},
   "outputs": [],
   "source": [
    "class Solution:\n",
    "    def findWords(self, words: List[str]) -> List[str]:\n",
    "        res = []\n",
    "        l1, l2, l3 = set(list(\"qwertyuiop\")), set(list(\"asdfghjkl\")), set(list(\"zxcvbnm\"))\n",
    "        for i in words:\n",
    "            if set(list(i.lower())).issubset(l1) or set(list(i.lower())).issubset(l2) or set(list(i.lower())).issubset(l3):\n",
    "                res.append(i)\n",
    "        return res\n",
    "            "
   ]
  },
  {
   "cell_type": "markdown",
   "id": "b85ebc64-e72d-4293-b7df-b84cf3538861",
   "metadata": {
    "jp-MarkdownHeadingCollapsed": true
   },
   "source": [
    "# 65 504. 七进制数\n",
    "https://leetcode.cn/problems/base-7/description/"
   ]
  },
  {
   "cell_type": "code",
   "execution_count": 1052,
   "id": "c6c27998-06ef-40d7-bb04-3cf3064e1770",
   "metadata": {},
   "outputs": [
    {
     "data": {
      "text/plain": [
       "'-10'"
      ]
     },
     "execution_count": 1052,
     "metadata": {},
     "output_type": "execute_result"
    }
   ],
   "source": [
    "def convertToBase7(num):\n",
    "    if num == 0:\n",
    "        return \"0\"\n",
    "    if num > 0:\n",
    "        sign = True\n",
    "    else:\n",
    "        sign = False\n",
    "        num = abs(num)\n",
    "        \n",
    "    res = \"\"\n",
    "    while num:\n",
    "        res += str(num%7)\n",
    "        num = num // 7\n",
    "    if sign:\n",
    "        return res[::-1]\n",
    "    if not sign: \n",
    "        return  \"-\" + res[::-1]\n",
    "    \n",
    "num =-7\n",
    "convertToBase7(num)"
   ]
  },
  {
   "cell_type": "code",
   "execution_count": null,
   "id": "b418c295-af00-4920-99e2-3abd1f8110e2",
   "metadata": {},
   "outputs": [],
   "source": [
    "class Solution:\n",
    "    def convertToBase7(self, num: int) -> str:\n",
    "        if num == 0:\n",
    "            return \"0\"\n",
    "        if num > 0:\n",
    "            sign = True\n",
    "        else:\n",
    "            sign = False\n",
    "            num = abs(num)\n",
    "            \n",
    "        res = \"\"\n",
    "        while num:\n",
    "            res += str(num%7)\n",
    "            num = num // 7\n",
    "        if sign:\n",
    "            return res[::-1]\n",
    "        if not sign: \n",
    "            return  \"-\" + res[::-1]"
   ]
  },
  {
   "cell_type": "markdown",
   "id": "5b64dca7-99f0-46c9-8757-f313cebfeef0",
   "metadata": {
    "jp-MarkdownHeadingCollapsed": true
   },
   "source": [
    "# 66 506. 相对名次\n",
    "\n",
    "https://leetcode.cn/problems/relative-ranks/description/"
   ]
  },
  {
   "cell_type": "code",
   "execution_count": 1073,
   "id": "866e58d8-fe94-48be-894b-6104206171fb",
   "metadata": {},
   "outputs": [
    {
     "data": {
      "text/plain": [
       "['Gold Medal', 'Silver Medal', 'Bronze Medal', '4', '5']"
      ]
     },
     "execution_count": 1073,
     "metadata": {},
     "output_type": "execute_result"
    }
   ],
   "source": [
    "def findRelativeRanks(score):\n",
    "    ranked = sorted(score,reverse=True)\n",
    "    res = []\n",
    "    for i in score:\n",
    "        rank = ranked.index(i) + 1\n",
    "        if rank == 1:\n",
    "            res.append(\"Gold Medal\")\n",
    "        elif rank == 2:\n",
    "            res.append(\"Silver Medal\")\n",
    "        elif rank == 3:\n",
    "            res.append(\"Bronze Medal\")\n",
    "        else: \n",
    "            res.append(str(rank))\n",
    "    return res\n",
    "\n",
    "score = [5,4,3,2,1]\n",
    "findRelativeRanks(score)"
   ]
  },
  {
   "cell_type": "code",
   "execution_count": null,
   "id": "efebae4e-9ae7-49ea-bf2b-beac2a4939d5",
   "metadata": {},
   "outputs": [],
   "source": [
    "class Solution:\n",
    "    def findRelativeRanks(self, score: List[int]) -> List[str]:\n",
    "        ranked = sorted(score,reverse=True)\n",
    "        res = []\n",
    "        for i in score:\n",
    "            rank = ranked.index(i) + 1\n",
    "            if rank == 1:\n",
    "                res.append(\"Gold Medal\")\n",
    "            elif rank == 2:\n",
    "                res.append(\"Silver Medal\")\n",
    "            elif rank == 3:\n",
    "                res.append(\"Bronze Medal\")\n",
    "            else: \n",
    "                res.append(str(rank))\n",
    "        return res"
   ]
  },
  {
   "cell_type": "markdown",
   "id": "d72b00c4-cde9-497c-a40e-fda0ef0c3a7d",
   "metadata": {
    "jp-MarkdownHeadingCollapsed": true
   },
   "source": [
    "# 67 507. 完美数\n",
    "\n",
    "https://leetcode.cn/problems/perfect-number/description/"
   ]
  },
  {
   "cell_type": "code",
   "execution_count": 1081,
   "id": "c45f3dc7-f626-4d00-8a9c-3ed04b4be080",
   "metadata": {},
   "outputs": [
    {
     "data": {
      "text/plain": [
       "True"
      ]
     },
     "execution_count": 1081,
     "metadata": {},
     "output_type": "execute_result"
    }
   ],
   "source": [
    "def checkPerfectNumber(num):\n",
    "    factor = []\n",
    "    for i in range(1, num + 1):\n",
    "        x, y = divmod(num, i)\n",
    "        if x in factor:\n",
    "            break\n",
    "        if y == 0:\n",
    "            factor.append(x)\n",
    "            factor.append(i)\n",
    "    if sum(factor) == 2 * num:\n",
    "        return True\n",
    "    else:\n",
    "        return False\n",
    "num = 28\n",
    "checkPerfectNumber(num)"
   ]
  },
  {
   "cell_type": "code",
   "execution_count": 1095,
   "id": "09dea413-872c-4068-879e-0612ea839daa",
   "metadata": {},
   "outputs": [
    {
     "data": {
      "text/plain": [
       "False"
      ]
     },
     "execution_count": 1095,
     "metadata": {},
     "output_type": "execute_result"
    }
   ],
   "source": [
    "def checkPerfectNumber(num):\n",
    "    factor = []\n",
    "    for i in range(1, num + 1):\n",
    "        if num ==1: return False\n",
    "        y = num % i\n",
    "        if y == 0:\n",
    "            x = num // i\n",
    "            if x < i:\n",
    "                break\n",
    "            factor.append(x)\n",
    "            factor.append(i)\n",
    "    if sum(factor) == 2 * num:\n",
    "        return True\n",
    "    else:\n",
    "        return False\n",
    "num = 1\n",
    "checkPerfectNumber(num)"
   ]
  },
  {
   "cell_type": "code",
   "execution_count": 1079,
   "id": "55bfa08e-e934-4837-9d9a-0cc7aeef19de",
   "metadata": {},
   "outputs": [],
   "source": [
    "class Solution:\n",
    "    def checkPerfectNumber(self, num: int) -> bool:\n",
    "        factor = []\n",
    "        for i in range(1, num + 1):\n",
    "            y = num % i\n",
    "            if y == 0:\n",
    "                x = num // i\n",
    "                if x < i:\n",
    "                    break\n",
    "                factor.append(x)\n",
    "                factor.append(i)\n",
    "        if sum(factor) == 2 * num:\n",
    "            return True\n",
    "        else:\n",
    "            return False"
   ]
  },
  {
   "cell_type": "markdown",
   "id": "3073ec17-20e8-4e1a-9496-8ba22ab750dd",
   "metadata": {},
   "source": [
    "# 68 520. 检测大写字母\n",
    "https://leetcode.cn/problems/detect-capital/description/"
   ]
  },
  {
   "cell_type": "code",
   "execution_count": 1109,
   "id": "86aa815c-a662-40dd-8e1b-b1ac399c4b67",
   "metadata": {},
   "outputs": [
    {
     "data": {
      "text/plain": [
       "True"
      ]
     },
     "execution_count": 1109,
     "metadata": {},
     "output_type": "execute_result"
    }
   ],
   "source": [
    "def detectCapitalUse(word):\n",
    "    res = [ord(i) < 97 for i in word]\n",
    "    if not res[0]:\n",
    "        for i in res[1:]:\n",
    "            if i:\n",
    "                return False\n",
    "    if res[0]:\n",
    "        if len(set(res)) == 1:\n",
    "            return True\n",
    "        for i in res[1:]:\n",
    "            if i:\n",
    "                return False\n",
    "    return True\n",
    "    \n",
    "word = \"abv\"\n",
    "detectCapitalUse(word)"
   ]
  },
  {
   "cell_type": "code",
   "execution_count": null,
   "id": "83f31a78-7b62-4ee1-ba8b-9012828999f8",
   "metadata": {},
   "outputs": [],
   "source": [
    "class Solution:\n",
    "    def detectCapitalUse(self, word: str) -> bool:\n",
    "        res = [ord(i) < 97 for i in word]\n",
    "        if not res[0]:\n",
    "            for i in res[1:]:\n",
    "                if i:\n",
    "                    return False\n",
    "        if res[0]:\n",
    "            if len(set(res)) == 1:\n",
    "                return True\n",
    "            for i in res[1:]:\n",
    "                if i:\n",
    "                    return False\n",
    "        return True"
   ]
  },
  {
   "cell_type": "markdown",
   "id": "ed128bad-8df1-4c9f-bfe5-badbff41db92",
   "metadata": {},
   "source": [
    "# 69 521. 最长特殊序列 Ⅰ\n",
    "https://leetcode.cn/problems/longest-uncommon-subsequence-i/description/"
   ]
  },
  {
   "cell_type": "code",
   "execution_count": 1110,
   "id": "aac89ace-514d-4d6d-8ce3-0dbfb8a88cfd",
   "metadata": {},
   "outputs": [],
   "source": [
    "def findLUSlength(a, b):\n",
    "    return max(len(a), len(b)) if a != b else -1\n",
    "\n",
    "a = \"aba\"\n",
    "b = \"cdc\"\n",
    "findLUSlength(a, b)"
   ]
  },
  {
   "cell_type": "code",
   "execution_count": null,
   "id": "8544fd6b-076a-4f81-ba1b-1ce2094f1695",
   "metadata": {},
   "outputs": [],
   "source": [
    "class Solution:\n",
    "    def findLUSlength(self, a: str, b: str) -> int:\n",
    "        return max(len(a), len(b)) if a != b else -1"
   ]
  },
  {
   "cell_type": "markdown",
   "id": "ab415323-4109-4a04-9942-57af5cf8acb9",
   "metadata": {},
   "source": [
    "# 70 541. 反转字符串 II\n",
    "https://leetcode.cn/problems/reverse-string-ii/description/\n"
   ]
  },
  {
   "cell_type": "code",
   "execution_count": 1124,
   "id": "23071280-3fff-45fc-a446-4e32637d40c6",
   "metadata": {},
   "outputs": [
    {
     "data": {
      "text/plain": [
       "'bacdfeg'"
      ]
     },
     "execution_count": 1124,
     "metadata": {},
     "output_type": "execute_result"
    }
   ],
   "source": [
    "def reverseStr(s, k):\n",
    "    for i in range(0,len(s),2*k):\n",
    "        s = s[0:i]+s[i:i+k][::-1] + s[i+k:]\n",
    "    return s\n",
    "            \n",
    "\n",
    "s = \"abcdefg\"\n",
    "k = 2\n",
    "reverseStr(s, k)"
   ]
  },
  {
   "cell_type": "code",
   "execution_count": null,
   "id": "22b14b9b-787e-43fd-89bf-addb35ce484b",
   "metadata": {},
   "outputs": [],
   "source": [
    "class Solution:\n",
    "    def reverseStr(self, s: str, k: int) -> str:\n",
    "        for i in range(0,len(s),2*k):\n",
    "            s = s[0:i]+s[i:i+k][::-1] + s[i+k:]\n",
    "        return s\n",
    "            "
   ]
  },
  {
   "cell_type": "markdown",
   "id": "d8e39665-60de-42f3-abb0-c24ecc8949fc",
   "metadata": {},
   "source": [
    "# 71  559. N 叉树的最大深度\n",
    "\n",
    "\n",
    "https://leetcode.cn/problems/maximum-depth-of-n-ary-tree/description/"
   ]
  },
  {
   "cell_type": "code",
   "execution_count": null,
   "id": "17c9590f-31a1-421f-b16d-8bc5a8ec569b",
   "metadata": {},
   "outputs": [],
   "source": [
    "\"\"\"\n",
    "# Definition for a Node.\n",
    "class Node:\n",
    "    def __init__(self, val=None, children=None):\n",
    "        self.val = val\n",
    "        self.children = children\n",
    "\"\"\"\n",
    "\n",
    "class Solution:\n",
    "    def maxDepth(self, root: 'Node') -> int:\n",
    "        return max(self.maxDepth(child) for child in root.children) + 1 if root and root.children else int(root != None)"
   ]
  },
  {
   "cell_type": "markdown",
   "id": "86e51ae7-98da-47ba-a701-c479f122c1bc",
   "metadata": {},
   "source": [
    "# 72 551. 学生出勤记录 I\n",
    "\n",
    "https://leetcode.cn/problems/student-attendance-record-i/description/"
   ]
  },
  {
   "cell_type": "code",
   "execution_count": 1132,
   "id": "9b9a62bd-dd3b-4d6d-b228-2dd2734f8f77",
   "metadata": {},
   "outputs": [
    {
     "data": {
      "text/plain": [
       "False"
      ]
     },
     "execution_count": 1132,
     "metadata": {},
     "output_type": "execute_result"
    }
   ],
   "source": [
    "from collections import Counter\n",
    "def checkRecord(s):\n",
    "    return  Counter(s)[\"A\"] < 2 and \"LLL\" not in s\n",
    "        \n",
    "    \n",
    "s = \"PPALLL\"\n",
    "checkRecord(s)"
   ]
  },
  {
   "cell_type": "code",
   "execution_count": null,
   "id": "c55c7f98-d8a2-4fd2-bdef-27c000e1fac1",
   "metadata": {},
   "outputs": [],
   "source": [
    "class Solution:\n",
    "    def checkRecord(self, s: str) -> bool:"
   ]
  },
  {
   "cell_type": "markdown",
   "id": "a36a02b0-bd6b-4f21-933b-e1a1b70f7167",
   "metadata": {},
   "source": [
    "# 73 557. 反转字符串中的单词 III\n",
    " \n",
    "https://leetcode.cn/problems/reverse-words-in-a-string-iii/description/"
   ]
  },
  {
   "cell_type": "code",
   "execution_count": 1139,
   "id": "f50a4a88-8766-4461-966a-14a8376517cc",
   "metadata": {},
   "outputs": [
    {
     "data": {
      "text/plain": [
       "\"s'teL ekat edoCteeL tsetnoc\""
      ]
     },
     "execution_count": 1139,
     "metadata": {},
     "output_type": "execute_result"
    }
   ],
   "source": [
    "def reverseWords(s):\n",
    "    t = s.split()\n",
    "    t = [i[::-1] for i in t]\n",
    "    res = \"\"\n",
    "    for i in t:\n",
    "        res += i\n",
    "        res += \" \"\n",
    "    return res[:-1]\n",
    "        \n",
    "\n",
    "s = \"Let's take LeetCode contest\"\n",
    "reverseWords(s)"
   ]
  },
  {
   "cell_type": "code",
   "execution_count": null,
   "id": "46d6aa66-7e18-4ccb-ba8f-83fe69b9cbcb",
   "metadata": {},
   "outputs": [],
   "source": [
    "class Solution:\n",
    "    def reverseWords(self, s: str) -> str:\n",
    "        t = s.split()\n",
    "        t = [i[::-1] for i in t]\n",
    "        res = \"\"\n",
    "        for i in t:\n",
    "            res += i\n",
    "            res += \" \"\n",
    "        return res[:-1]"
   ]
  },
  {
   "cell_type": "markdown",
   "id": "29a85f2b-e0df-4ad7-a466-36212056c1e2",
   "metadata": {},
   "source": [
    "# 74 566. 重塑矩阵\n",
    "https://leetcode.cn/problems/reshape-the-matrix/description/"
   ]
  },
  {
   "cell_type": "code",
   "execution_count": 1159,
   "id": "d4affd86-b5f4-4908-9705-8bbbd785e276",
   "metadata": {},
   "outputs": [
    {
     "data": {
      "text/plain": [
       "[[1, 2], [3, 4]]"
      ]
     },
     "execution_count": 1159,
     "metadata": {},
     "output_type": "execute_result"
    }
   ],
   "source": [
    "import numpy as np\n",
    "def matrixReshape(mat, r, c):\n",
    "    n = len(mat) * len(mat[0])\n",
    "    if r * c != n:\n",
    "        return mat\n",
    "    res = np.array(mat)\n",
    "    res = res.reshape(r, c)\n",
    "    res = res.tolist()\n",
    "    return res\n",
    "\n",
    "#mat = [[1,2],[3,4]]\n",
    "#r = 1\n",
    "#c = 4\n",
    "\n",
    "mat = [[1,2],[3,4]]\n",
    "r = 2\n",
    "c = 4\n",
    "\n",
    "matrixReshape(mat, r, c)"
   ]
  },
  {
   "cell_type": "code",
   "execution_count": null,
   "id": "f7dbf97b-d57b-42f1-9b49-46ededfeac71",
   "metadata": {},
   "outputs": [],
   "source": [
    "import numpy as np\n",
    "class Solution:\n",
    "    def matrixReshape(self, mat: List[List[int]], r: int, c: int) -> List[List[int]]:\n",
    "        n = len(mat) * len(mat[0])\n",
    "        if r * c != n:\n",
    "            return mat\n",
    "        res = np.array(mat)\n",
    "        res = res.reshape(r, c)\n",
    "        res = res.tolist()\n",
    "        return res"
   ]
  },
  {
   "cell_type": "markdown",
   "id": "d5fccf54-720b-4b16-908d-8fabb33eb14d",
   "metadata": {},
   "source": [
    "# 75 575. 分糖果\n",
    "https://leetcode.cn/problems/distribute-candies/description/"
   ]
  },
  {
   "cell_type": "code",
   "execution_count": 1169,
   "id": "d48e573a-8374-4f18-97a7-8ceabd94a74b",
   "metadata": {},
   "outputs": [
    {
     "data": {
      "text/plain": [
       "3"
      ]
     },
     "execution_count": 1169,
     "metadata": {},
     "output_type": "execute_result"
    }
   ],
   "source": [
    "def distributeCandies(candyType):\n",
    "    n = len(candyType)\n",
    "    target = n //2\n",
    "    x = set(candyType)\n",
    "    cnt_x = len(x)\n",
    "    if cnt_x >= target:\n",
    "        return target\n",
    "    else:\n",
    "        return cnt_x\n",
    "        \n",
    "candyType = [1,1,2,2,3,3]\n",
    "distributeCandies(candyType)"
   ]
  },
  {
   "cell_type": "code",
   "execution_count": null,
   "id": "741f29d0-6105-44e3-a379-d05aec7b715b",
   "metadata": {},
   "outputs": [],
   "source": [
    "class Solution:\n",
    "    def distributeCandies(self, candyType: List[int]) -> int:\n",
    "        n = len(candyType)\n",
    "        target = n / 2\n",
    "        x = set(candyType)\n",
    "        cnt_x = len(x)\n",
    "        if cnt_x >= target:\n",
    "            return int(target)\n",
    "        else:\n",
    "            return cnt_x"
   ]
  },
  {
   "cell_type": "markdown",
   "id": "1d137838-07cd-4a71-a41f-711533e454e5",
   "metadata": {},
   "source": [
    "# 76 598. 区间加法 II\n",
    "https://leetcode.cn/problems/range-addition-ii/description/"
   ]
  },
  {
   "cell_type": "code",
   "execution_count": 1184,
   "id": "473448fc-23d0-4b40-ac6c-a571654e1671",
   "metadata": {},
   "outputs": [
    {
     "data": {
      "text/plain": [
       "9"
      ]
     },
     "execution_count": 1184,
     "metadata": {},
     "output_type": "execute_result"
    }
   ],
   "source": [
    "# 超出内存限制\n",
    "def maxCount(m, n, ops):\n",
    "    res = [[0] * m for _ in range(n)]\n",
    "    for i in ops:\n",
    "        x, y = i[0], i[1]\n",
    "        for j in range(x):\n",
    "            for k in range(y):\n",
    "                res[j][k] += 1\n",
    "    maxn = max(max(i for i in res))\n",
    "    ans = 0\n",
    "    for i in res:\n",
    "        ans += i.count(maxn)\n",
    "    return ans\n",
    "\n",
    "#m = 3\n",
    "#n = 3\n",
    "#ops = [[2,2],[3,3]]\n",
    "m = 3\n",
    "n = 3\n",
    "ops = [[2,2],[3,3],[3,3],[3,3],[2,2],[3,3],[3,3],[3,3],[2,2],[3,3],[3,3],[3,3]]\n",
    "m = 3\n",
    "n = 3\n",
    "ops = []\n",
    "\n",
    "maxCount(m, n, ops)"
   ]
  },
  {
   "cell_type": "code",
   "execution_count": 1185,
   "id": "d0792920-974d-4ff5-b74d-f3b1a6ffdb54",
   "metadata": {},
   "outputs": [
    {
     "data": {
      "text/plain": [
       "9"
      ]
     },
     "execution_count": 1185,
     "metadata": {},
     "output_type": "execute_result"
    }
   ],
   "source": [
    "def maxCount(m, n, ops):\n",
    "    row,  col = m, n\n",
    "    for r, c in ops:\n",
    "        row = min(row, r)\n",
    "        col = min(col, c)\n",
    "    return row * col\n",
    "\n",
    "#m = 3\n",
    "#n = 3\n",
    "#ops = [[2,2],[3,3]]\n",
    "m = 3\n",
    "n = 3\n",
    "ops = [[2,2],[3,3],[3,3],[3,3],[2,2],[3,3],[3,3],[3,3],[2,2],[3,3],[3,3],[3,3]]\n",
    "m = 3\n",
    "n = 3\n",
    "ops = []\n",
    "\n",
    "maxCount(m, n, ops)"
   ]
  },
  {
   "cell_type": "code",
   "execution_count": null,
   "id": "b59a7d81-4405-4c7d-a0b6-a18a20f8fc3d",
   "metadata": {},
   "outputs": [],
   "source": [
    "class Solution:\n",
    "    def maxCount(self, m: int, n: int, ops: List[List[int]]) -> int:\n",
    "        row,  col = m, n\n",
    "        for r, c in ops:\n",
    "            row = min(row, r)\n",
    "            col = min(col, c)\n",
    "        return row * col"
   ]
  },
  {
   "cell_type": "markdown",
   "id": "7b5387fd-f38e-4455-b5ab-8e88f014bfa3",
   "metadata": {},
   "source": [
    "# 77 599. 两个列表的最小索引总和\n",
    "https://leetcode.cn/problems/minimum-index-sum-of-two-lists/description/"
   ]
  },
  {
   "cell_type": "code",
   "execution_count": 1202,
   "id": "928bff52-8cb5-40e1-b0ca-900c488cdcfb",
   "metadata": {},
   "outputs": [
    {
     "data": {
      "text/plain": [
       "['Shogun']"
      ]
     },
     "execution_count": 1202,
     "metadata": {},
     "output_type": "execute_result"
    }
   ],
   "source": [
    "def findRestaurant(list1, list2):\n",
    "    ans = list(set(list1) & set(list2))\n",
    "    cnt = len(list1) + len(list2) + 3\n",
    "    res = []\n",
    "    for i in ans:\n",
    "        x = list1.index(i) + list2.index(i)\n",
    "        if cnt > x:\n",
    "            cnt = x\n",
    "            res = [i]\n",
    "        elif cnt == x:\n",
    "            res.append(i)\n",
    "    return res\n",
    "\n",
    "list1 = [\"Shogun\", \"Tapioca Express\", \"Burger King\", \"KFC\"]\n",
    "list2 = [\"Piatti\", \"The Grill at Torrey Pines\", \"Hungry Hunter Steakhouse\", \"Shogun\"]\n",
    "list1 = [\"Shogun\", \"Tapioca Express\", \"Burger King\", \"KFC\"]\n",
    "list2 = [\"KFC\", \"Shogun\", \"Burger King\"]\n",
    "findRestaurant(list1, list2)"
   ]
  },
  {
   "cell_type": "code",
   "execution_count": null,
   "id": "7ee9dec8-4c72-4a2b-9ee7-f229773a4f65",
   "metadata": {},
   "outputs": [],
   "source": [
    "class Solution:\n",
    "    def findRestaurant(self, list1: List[str], list2: List[str]) -> List[str]:\n",
    "        ans = list(set(list1) & set(list2))\n",
    "        cnt = len(list1) + len(list2) + 3\n",
    "        res = []\n",
    "        for i in ans:\n",
    "            x = list1.index(i) + list2.index(i)\n",
    "            if cnt > x:\n",
    "                cnt = x\n",
    "                res = [i]\n",
    "            elif cnt == x:\n",
    "                res.append(i)\n",
    "        return res"
   ]
  },
  {
   "cell_type": "markdown",
   "id": "0831ab80-3996-4647-bcbf-6f1f1976a59b",
   "metadata": {},
   "source": [
    "# 78  605. 种花问题\n",
    "https://leetcode.cn/problems/can-place-flowers/description/"
   ]
  },
  {
   "cell_type": "code",
   "execution_count": 1206,
   "id": "1bcd3691-2682-4608-8304-ffb0310138d3",
   "metadata": {},
   "outputs": [
    {
     "data": {
      "text/plain": [
       "True"
      ]
     },
     "execution_count": 1206,
     "metadata": {},
     "output_type": "execute_result"
    }
   ],
   "source": [
    "def canPlaceFlowers(flowerbed, n):\n",
    "    flowerbed = [0] + flowerbed + [0]\n",
    "    for i in range(1, len(flowerbed) -1):\n",
    "        if flowerbed[i-1] == 0 and flowerbed[i] == 0 and flowerbed[i + 1] == 0:\n",
    "            flowerbed[i] = 1\n",
    "            n -= 1\n",
    "    return n <= 0\n",
    "\n",
    "flowerbed = [1,0,0,0,1]\n",
    "n = 1\n",
    "canPlaceFlowers(flowerbed, n)"
   ]
  },
  {
   "cell_type": "code",
   "execution_count": null,
   "id": "ce0906fd-4ca3-41af-87cc-19bee0aae762",
   "metadata": {},
   "outputs": [],
   "source": [
    "class Solution:\n",
    "    def canPlaceFlowers(self, flowerbed: List[int], n: int) -> bool:\n",
    "        flowerbed = [0] + flowerbed + [0]\n",
    "        for i in range(1, len(flowerbed) -1):\n",
    "            if flowerbed[i-1] == 0 and flowerbed[i] == 0 and flowerbed[i + 1] == 0:\n",
    "                flowerbed[i] = 1\n",
    "                n -= 1\n",
    "        return n <= 0"
   ]
  },
  {
   "cell_type": "markdown",
   "id": "ff5a6457-f388-466c-9d73-8adeb9d4bbaf",
   "metadata": {},
   "source": [
    "# 79 628. 三个数的最大乘积\n",
    "\n",
    "https://leetcode.cn/problems/maximum-product-of-three-numbers/description/"
   ]
  },
  {
   "cell_type": "code",
   "execution_count": 1217,
   "id": "ab0a46b1-0b3a-40ab-8450-0809c93fd646",
   "metadata": {},
   "outputs": [
    {
     "data": {
      "text/plain": [
       "30"
      ]
     },
     "execution_count": 1217,
     "metadata": {},
     "output_type": "execute_result"
    }
   ],
   "source": [
    "def maximumProduct(nums):\n",
    "    nums.sort()\n",
    "    return max(nums[-1] * nums[-2] * nums[-3] , nums[-1] * nums[0] * nums[1])\n",
    "        \n",
    "    \n",
    "nums = [-1,-2,-3, 5]\n",
    "maximumProduct(nums)"
   ]
  },
  {
   "cell_type": "code",
   "execution_count": null,
   "id": "813723d9-4813-43f3-bdb5-6c213a1f0e1f",
   "metadata": {},
   "outputs": [],
   "source": [
    "class Solution:\n",
    "        def maximumProduct(self, nums: List[int]) -> int:\n",
    "            nums.sort()\n",
    "            return max(nums[-1] * nums[-2] * nums[-3] , nums[-1] * nums[0] * nums[1])"
   ]
  },
  {
   "cell_type": "markdown",
   "id": "403157e6-1888-462f-9ab0-cb83d0e17b78",
   "metadata": {
    "jp-MarkdownHeadingCollapsed": true
   },
   "source": [
    "# 80 657. 机器人能否返回原点\n",
    "\n",
    "https://leetcode.cn/problems/robot-return-to-origin/"
   ]
  },
  {
   "cell_type": "code",
   "execution_count": 1220,
   "id": "6e59baea-cc7b-4330-9ab9-38fbfa19da47",
   "metadata": {},
   "outputs": [
    {
     "data": {
      "text/plain": [
       "False"
      ]
     },
     "execution_count": 1220,
     "metadata": {},
     "output_type": "execute_result"
    }
   ],
   "source": [
    "def judgeCircle(moves):\n",
    "    return moves.count(\"U\") == moves.count(\"D\") and  moves.count(\"L\") == moves.count(\"R\")\n",
    "    \n",
    "moves = \"LL\"\n",
    "judgeCircle(moves)"
   ]
  },
  {
   "cell_type": "code",
   "execution_count": null,
   "id": "aef2808e-53fe-40b8-bc98-b7690fa11102",
   "metadata": {},
   "outputs": [],
   "source": [
    "class Solution:\n",
    "    def judgeCircle(self, moves: str) -> bool:\n",
    "        return moves.count(\"U\") == moves.count(\"D\") and  moves.count(\"L\") == moves.count(\"R\")"
   ]
  },
  {
   "cell_type": "markdown",
   "id": "420dee4d-4297-4e81-a49c-e142c31132d6",
   "metadata": {
    "jp-MarkdownHeadingCollapsed": true
   },
   "source": [
    "# 81 661. 图片平滑器\n",
    "\n",
    "https://leetcode.cn/problems/image-smoother/"
   ]
  },
  {
   "cell_type": "code",
   "execution_count": 1286,
   "id": "3806e068-4c75-44c4-ba27-c5943a8c0ec8",
   "metadata": {},
   "outputs": [
    {
     "data": {
      "text/plain": [
       "[[137, 141, 137], [141, 138, 141], [137, 141, 137]]"
      ]
     },
     "execution_count": 1286,
     "metadata": {},
     "output_type": "execute_result"
    }
   ],
   "source": [
    "import numpy as np\n",
    "def imageSmoother(img):\n",
    "    row, col = len(img), len(img[0])\n",
    "    img =[[0] * (col + 2)] + [[0] + i + [0] for i in img] + [[0] * (col + 2)]\n",
    "    res = [[0]*(col +2) for _ in range(row+2)] \n",
    "    for i in range(1, row + 1):\n",
    "        for j in range(1, col + 1):\n",
    "            a = img[i-1][j -1 : j + 2]\n",
    "            b = img[i][j -1 : j + 2]\n",
    "            c = img[i+1][j -1 : j + 2]\n",
    "            if i == 1:\n",
    "                a = []\n",
    "            if i == row:\n",
    "                c = []\n",
    "            if j == 1:\n",
    "                if a: a.pop(0)\n",
    "                if b: b.pop(0)\n",
    "                if c: c.pop(0)\n",
    "            if j == col:\n",
    "                if a: a.pop()\n",
    "                if b: b.pop()\n",
    "                if c: c.pop()\n",
    "            ans = a + b + c\n",
    "#            print(i, j, a, b, c)\n",
    "            res[i][j] = int(sum(ans)/len(ans))\n",
    "    res = res[1: -1]\n",
    "    res = [i[1:-1] for i in res]\n",
    "    return res\n",
    "    \n",
    "    \n",
    "\n",
    "img = [[1,1,1],[1,1,1],[1,1,1]]\n",
    "img = [[100,200,100],[200,50,200],[100,200,100]]\n",
    "imageSmoother(img)"
   ]
  },
  {
   "cell_type": "code",
   "execution_count": null,
   "id": "dbab682f-3c4f-475a-b3b7-d1d466b80259",
   "metadata": {},
   "outputs": [],
   "source": [
    "class Solution:\n",
    "    def imageSmoother(self, img: List[List[int]]) -> List[List[int]]:\n",
    "        row, col = len(img), len(img[0])\n",
    "        img =[[0] * (col + 2)] + [[0] + i + [0] for i in img] + [[0] * (col + 2)]\n",
    "        res = [[0]*(col +2) for _ in range(row+2)] \n",
    "        for i in range(1, row + 1):\n",
    "            for j in range(1, col + 1):\n",
    "                a = img[i-1][j -1 : j + 2]\n",
    "                b = img[i][j -1 : j + 2]\n",
    "                c = img[i+1][j -1 : j + 2]\n",
    "                if i == 1:\n",
    "                    a = []\n",
    "                if i == row:\n",
    "                    c = []\n",
    "                if j == 1:\n",
    "                    if a: a.pop(0)\n",
    "                    if b: b.pop(0)\n",
    "                    if c: c.pop(0)\n",
    "                if j == col:\n",
    "                    if a: a.pop()\n",
    "                    if b: b.pop()\n",
    "                    if c: c.pop()\n",
    "                ans = a + b + c\n",
    "    #            print(i, j, a, b, c)\n",
    "                res[i][j] = int(sum(ans)/len(ans))\n",
    "        res = res[1: -1]\n",
    "        res = [i[1:-1] for i in res]\n",
    "        return res"
   ]
  },
  {
   "cell_type": "markdown",
   "id": "d45064f3-7f64-47fd-92f9-6abedb814a95",
   "metadata": {
    "jp-MarkdownHeadingCollapsed": true
   },
   "source": [
    "# 82 674. 最长连续递增序列\n",
    "\n",
    "https://leetcode.cn/problems/longest-continuous-increasing-subsequence/description/"
   ]
  },
  {
   "cell_type": "code",
   "execution_count": 1292,
   "id": "59bdb681-5bd2-4662-86c9-a5ba0a566989",
   "metadata": {},
   "outputs": [
    {
     "data": {
      "text/plain": [
       "4"
      ]
     },
     "execution_count": 1292,
     "metadata": {},
     "output_type": "execute_result"
    }
   ],
   "source": [
    "def findLengthOfLCIS(nums):\n",
    "    res =0\n",
    "    ans = 1\n",
    "    n = len(nums)\n",
    "    for i in range(1, n):\n",
    "        if nums[i] > nums[i -1]:\n",
    "            ans += 1\n",
    "        else:\n",
    "            res = max(res, ans)\n",
    "            ans = 1\n",
    "    return max(res, ans)\n",
    "        \n",
    "\n",
    "nums = [1,3,5,7]\n",
    "nums =[1,3,5,4,2,3,4,5]\n",
    "\n",
    "findLengthOfLCIS(nums)"
   ]
  },
  {
   "cell_type": "code",
   "execution_count": null,
   "id": "b8e3a24b-77de-43a8-8c03-4006c6c30888",
   "metadata": {},
   "outputs": [],
   "source": [
    "class Solution:\n",
    "    def findLengthOfLCIS(self, nums: List[int]) -> int:\n",
    "        res =0\n",
    "        ans = 1\n",
    "        n = len(nums)\n",
    "        for i in range(1, n):\n",
    "            if nums[i] > nums[i -1]:\n",
    "                ans += 1\n",
    "            else:\n",
    "                res = max(res, ans)\n",
    "                ans = 1\n",
    "        return max(res, ans)"
   ]
  },
  {
   "cell_type": "markdown",
   "id": "d1d1310e-adb7-4183-9107-34fb34f0d5a1",
   "metadata": {
    "jp-MarkdownHeadingCollapsed": true
   },
   "source": [
    "# 83 680. 验证回文串 II\n",
    "https://leetcode.cn/problems/valid-palindrome-ii/"
   ]
  },
  {
   "cell_type": "code",
   "execution_count": 1312,
   "id": "64a4cfd0-b0ed-4b0e-a3f5-94f0880790a2",
   "metadata": {},
   "outputs": [
    {
     "data": {
      "text/plain": [
       "True"
      ]
     },
     "execution_count": 1312,
     "metadata": {},
     "output_type": "execute_result"
    }
   ],
   "source": [
    "# Timeout\n",
    "def validPalindrome(s):\n",
    "    n = len(s)\n",
    "    s = list(s)\n",
    "    if n == 1: return True\n",
    "    for i in range(n):\n",
    "        news = s.copy()\n",
    "        news.pop(i)\n",
    "        if news == news[::-1]:\n",
    "            return True\n",
    "    return False\n",
    "\n",
    "s = \"abca\"\n",
    "s = \"abc\"\n",
    "s = \"aba\"\n",
    "validPalindrome(s)"
   ]
  },
  {
   "cell_type": "code",
   "execution_count": 1318,
   "id": "f6754e92-e429-4015-8a75-aaf3a974fd25",
   "metadata": {},
   "outputs": [
    {
     "data": {
      "text/plain": [
       "False"
      ]
     },
     "execution_count": 1318,
     "metadata": {},
     "output_type": "execute_result"
    }
   ],
   "source": [
    "# Timeout\n",
    "def validPalindrome(s):\n",
    "    n = len(s)\n",
    "    left, right = 0, n -1\n",
    "    while left < right:\n",
    "        if s[left] != s[right]:\n",
    "            check1 = s[:left] + s[left + 1: ]\n",
    "            check2 = s[:right] + s[right + 1: ]\n",
    "            return check1 == check1[::-1] or check2 == check2[::-1]\n",
    "        left += 1\n",
    "        right -= 1\n",
    "    return True\n",
    "\n",
    "#s = \"abca\"\n",
    "s = \"abc\"\n",
    "#s = \"aba\"\n",
    "validPalindrome(s)"
   ]
  },
  {
   "cell_type": "code",
   "execution_count": null,
   "id": "70f912e6-0a71-4fad-a508-88aeede6a260",
   "metadata": {},
   "outputs": [],
   "source": [
    "class Solution:\n",
    "    def validPalindrome(self, s: str) -> bool:\n",
    "        n = len(s)\n",
    "        left, right = 0, n -1\n",
    "        while left < right:\n",
    "            if s[left] != s[right]:\n",
    "                check1 = s[:left] + s[left + 1: ]\n",
    "                check2 = s[:right] + s[right + 1: ]\n",
    "                return check1 == check1[::-1] or check2 == check2[::-1]\n",
    "            left += 1\n",
    "            right -= 1\n",
    "        return True"
   ]
  },
  {
   "cell_type": "markdown",
   "id": "911962ff-0902-4949-af7c-5a03dfac13fa",
   "metadata": {
    "jp-MarkdownHeadingCollapsed": true
   },
   "source": [
    "# 84 682. 棒球比赛\n",
    "https://leetcode.cn/problems/baseball-game/description/"
   ]
  },
  {
   "cell_type": "code",
   "execution_count": 1325,
   "id": "45518fee-b442-41f7-9cc6-1ef872c414e5",
   "metadata": {},
   "outputs": [
    {
     "data": {
      "text/plain": [
       "27"
      ]
     },
     "execution_count": 1325,
     "metadata": {},
     "output_type": "execute_result"
    }
   ],
   "source": [
    "def calPoints(operations):\n",
    "    res = []\n",
    "    for i in operations:\n",
    "        if i == \"+\":\n",
    "            res.append(res[-1] + res[-2])\n",
    "        elif i == \"D\":\n",
    "            res.append(res[-1] * 2)\n",
    "        elif i == \"C\":\n",
    "            res.pop()\n",
    "        else:\n",
    "            res.append(int(i))\n",
    "    return sum(res)\n",
    "            \n",
    "            \n",
    "\n",
    "operations = [\"5\",\"2\",\"C\",\"D\",\"+\"]\n",
    "operations = [\"5\",\"-2\",\"4\",\"C\",\"D\",\"9\",\"+\",\"+\"]\n",
    "calPoints(operations)"
   ]
  },
  {
   "cell_type": "code",
   "execution_count": null,
   "id": "b4973c0d-bda2-4970-a37a-25d5f4bfcce0",
   "metadata": {},
   "outputs": [],
   "source": [
    "class Solution:\n",
    "    def calPoints(self, operations: List[str]) -> int:\n",
    "        res = []\n",
    "        for i in operations:\n",
    "            if i == \"+\":\n",
    "                res.append(res[-1] + res[-2])\n",
    "            elif i == \"D\":\n",
    "                res.append(res[-1] * 2)\n",
    "            elif i == \"C\":\n",
    "                res.pop()\n",
    "            else:\n",
    "                res.append(int(i))\n",
    "        return sum(res)"
   ]
  },
  {
   "cell_type": "markdown",
   "id": "119596df-297c-4589-b4ca-349adfbf62d5",
   "metadata": {
    "jp-MarkdownHeadingCollapsed": true
   },
   "source": [
    "# 85 693. 交替位二进制数\n",
    "https://leetcode.cn/problems/binary-number-with-alternating-bits/description/"
   ]
  },
  {
   "cell_type": "code",
   "execution_count": 1341,
   "id": "c2c1dfc8-fe97-443d-877f-b2707b95be6c",
   "metadata": {},
   "outputs": [
    {
     "data": {
      "text/plain": [
       "False"
      ]
     },
     "execution_count": 1341,
     "metadata": {},
     "output_type": "execute_result"
    }
   ],
   "source": [
    "def hasAlternatingBits(n):\n",
    "    res = bin(n)[2:]\n",
    "    x = len(res)\n",
    "    return res == \"10\" *  (x // 2) or \"0\" + res == \"01\" * (x //2 + 1)\n",
    "\n",
    "n = 11\n",
    "hasAlternatingBits(n)"
   ]
  },
  {
   "cell_type": "code",
   "execution_count": null,
   "id": "46ab0c53-c4fc-4a60-bfe4-1c3e38585324",
   "metadata": {},
   "outputs": [],
   "source": [
    "class Solution:\n",
    "    def hasAlternatingBits(self, n: int) -> bool:\n",
    "        res = bin(n)[2:]\n",
    "        x = len(res)\n",
    "        return res == \"10\" *  (x // 2) or \"0\" + res == \"01\" * (x //2 + 1)"
   ]
  },
  {
   "cell_type": "markdown",
   "id": "8bd706cd-1a2b-4c9a-aed3-e4e93497f6e4",
   "metadata": {
    "jp-MarkdownHeadingCollapsed": true
   },
   "source": [
    "# 86 696. 计数二进制子串\n",
    "https://leetcode.cn/problems/count-binary-substrings/description/"
   ]
  },
  {
   "cell_type": "code",
   "execution_count": 1355,
   "id": "6fc75c9a-1078-4fab-bcf2-82f792cf9982",
   "metadata": {},
   "outputs": [
    {
     "data": {
      "text/plain": [
       "6"
      ]
     },
     "execution_count": 1355,
     "metadata": {},
     "output_type": "execute_result"
    }
   ],
   "source": [
    "def countBinarySubstrings(s):\n",
    "    seq = [0, 1]\n",
    "    res = []\n",
    "    for i in range(1, len(s)):\n",
    "        if s[i] == s[i -1]:\n",
    "            seq[1] += 1\n",
    "        else:\n",
    "            res.append(min(seq))\n",
    "            seq[0] = seq[1]\n",
    "            seq[1] = 1\n",
    "    res.append(min(seq))\n",
    "    return sum(res)\n",
    "        \n",
    "s = \"000111000\"\n",
    "countBinarySubstrings(s)"
   ]
  },
  {
   "cell_type": "code",
   "execution_count": null,
   "id": "b2c87657-12bc-4d58-9d2a-beb346f0fe41",
   "metadata": {},
   "outputs": [],
   "source": [
    "class Solution:\n",
    "    def countBinarySubstrings(self, s: str) -> int:\n",
    "        seq = [0, 1]\n",
    "        res = []\n",
    "        for i in range(1, len(s)):\n",
    "            if s[i] == s[i -1]:\n",
    "                seq[1] += 1\n",
    "            else:\n",
    "                res.append(min(seq))\n",
    "                seq[0] = seq[1]\n",
    "                seq[1] = 1\n",
    "        res.append(min(seq))\n",
    "        return sum(res)"
   ]
  },
  {
   "cell_type": "markdown",
   "id": "e7740c80-830e-4f68-bf18-140f2a648b5f",
   "metadata": {
    "jp-MarkdownHeadingCollapsed": true
   },
   "source": [
    "# 87 697. 数组的度\n",
    "https://leetcode.cn/problems/degree-of-an-array/description/"
   ]
  },
  {
   "cell_type": "code",
   "execution_count": 1374,
   "id": "1da00746-beb8-48f7-b2d7-9540ef2593b0",
   "metadata": {},
   "outputs": [
    {
     "data": {
      "text/plain": [
       "6"
      ]
     },
     "execution_count": 1374,
     "metadata": {},
     "output_type": "execute_result"
    }
   ],
   "source": [
    "def findShortestSubArray(nums):\n",
    "    s = Counter(nums)\n",
    "    m = max(s.values())\n",
    "    candidate = []\n",
    "    for i in s:\n",
    "        if s[i] == m:\n",
    "            candidate.append(i)\n",
    "    res = []\n",
    "    for i in candidate:\n",
    "        idx = []\n",
    "        for j in range(len(nums)):\n",
    "            if nums[j] == i:\n",
    "                idx.append(j)\n",
    "        res.append(idx)\n",
    "    for i in range(len(res)):\n",
    "        res[i] = res[i][-1] - res[i][0] + 1\n",
    "    return min(res)\n",
    "    \n",
    "\n",
    "    \n",
    "nums = [1,2,2,3,1,4,2]\n",
    "findShortestSubArray(nums)"
   ]
  },
  {
   "cell_type": "code",
   "execution_count": null,
   "id": "27c5f09a-0fb1-42c5-9f1a-d326eb379335",
   "metadata": {},
   "outputs": [],
   "source": [
    "class Solution:\n",
    "    def findShortestSubArray(self, nums: List[int]) -> int:\n",
    "        s = Counter(nums)\n",
    "        m = max(s.values())\n",
    "        candidate = []\n",
    "        for i in s:\n",
    "            if s[i] == m:\n",
    "                candidate.append(i)\n",
    "        res = []\n",
    "        for i in candidate:\n",
    "            idx = []\n",
    "            for j in range(len(nums)):\n",
    "                if nums[j] == i:\n",
    "                    idx.append(j)\n",
    "            res.append(idx)\n",
    "        for i in range(len(res)):\n",
    "            res[i] = res[i][-1] - res[i][0] + 1\n",
    "        return min(res)"
   ]
  },
  {
   "cell_type": "markdown",
   "id": "81a0d3f5-cb0f-42d0-9492-9c9658fdc969",
   "metadata": {
    "jp-MarkdownHeadingCollapsed": true
   },
   "source": [
    "# 88 744. 寻找比目标字母大的最小字母\n",
    "https://leetcode.cn/problems/find-smallest-letter-greater-than-target/description/\n"
   ]
  },
  {
   "cell_type": "code",
   "execution_count": 1398,
   "id": "719218cb-5c50-474c-979d-03b04e6c5501",
   "metadata": {},
   "outputs": [
    {
     "data": {
      "text/plain": [
       "'f'"
      ]
     },
     "execution_count": 1398,
     "metadata": {},
     "output_type": "execute_result"
    }
   ],
   "source": [
    "def nextGreatestLetter(letters, target):\n",
    "    for i in letters:\n",
    "        if i > target:\n",
    "            return i\n",
    "    return letters[0]\n",
    "\n",
    "letters = [\"c\",\"f\",\"j\"]\n",
    "target = \"c\"\n",
    "nextGreatestLetter(letters, target)"
   ]
  },
  {
   "cell_type": "code",
   "execution_count": null,
   "id": "811148aa-a9a0-4a37-941f-a210f20c5e46",
   "metadata": {},
   "outputs": [],
   "source": [
    "class Solution:\n",
    "    def nextGreatestLetter(self, letters: List[str], target: str) -> str:\n",
    "        for i in letters:\n",
    "            if i > target:\n",
    "                return i\n",
    "        return letters[0]"
   ]
  },
  {
   "cell_type": "markdown",
   "id": "28e36118-d915-46d3-bbb1-3844f6781853",
   "metadata": {
    "jp-MarkdownHeadingCollapsed": true
   },
   "source": [
    "# 89 709. 转换成小写字母\n",
    "https://leetcode.cn/problems/to-lower-case/"
   ]
  },
  {
   "cell_type": "code",
   "execution_count": 1378,
   "id": "e552cf18-f211-40b9-8a04-26c894ebd29a",
   "metadata": {},
   "outputs": [
    {
     "data": {
      "text/plain": [
       "'hello'"
      ]
     },
     "execution_count": 1378,
     "metadata": {},
     "output_type": "execute_result"
    }
   ],
   "source": [
    "def toLowerCase(s):\n",
    "    return s.lower()\n",
    "\n",
    "s = \"Hello\"\n",
    "toLowerCase(s)"
   ]
  },
  {
   "cell_type": "code",
   "execution_count": null,
   "id": "4a60d247-9f50-4766-bf52-997fd03515d9",
   "metadata": {},
   "outputs": [],
   "source": [
    "class Solution:\n",
    "    def toLowerCase(self, s: str) -> str:\n",
    "        return s.lower()"
   ]
  },
  {
   "cell_type": "markdown",
   "id": "6dd8cefe-5c6f-4471-bcd9-61e5e6b0e859",
   "metadata": {
    "jp-MarkdownHeadingCollapsed": true
   },
   "source": [
    "# 90 717. 1 比特与 2 比特字符\n",
    "https://leetcode.cn/problems/1-bit-and-2-bit-characters/description/"
   ]
  },
  {
   "cell_type": "code",
   "execution_count": 1381,
   "id": "653d3742-c10a-4c31-bd1f-015c0361986b",
   "metadata": {},
   "outputs": [
    {
     "data": {
      "text/plain": [
       "True"
      ]
     },
     "execution_count": 1381,
     "metadata": {},
     "output_type": "execute_result"
    }
   ],
   "source": [
    "def isOneBitCharacter(bits):\n",
    "    i, n = 0, len(bits)\n",
    "    while i < n -1:\n",
    "        i += bits[i] + 1\n",
    "    return i == n-1\n",
    "\n",
    "bits = [1, 0, 0]\n",
    "isOneBitCharacter(bits)"
   ]
  },
  {
   "cell_type": "code",
   "execution_count": null,
   "id": "62330388-fb98-420b-8c7f-0404004f2e8d",
   "metadata": {},
   "outputs": [],
   "source": [
    "class Solution:\n",
    "    def isOneBitCharacter(self, bits: List[int]) -> bool:\n",
    "        i, n = 0, len(bits)\n",
    "        while i < n -1:\n",
    "            i += bits[i] + 1\n",
    "        return i == n-1"
   ]
  },
  {
   "cell_type": "markdown",
   "id": "bbce2c53-9144-402a-814e-ddf5cf2dec33",
   "metadata": {
    "jp-MarkdownHeadingCollapsed": true
   },
   "source": [
    "# 91 724. 寻找数组的中心下标\n",
    "https://leetcode.cn/problems/find-pivot-index/description/"
   ]
  },
  {
   "cell_type": "code",
   "execution_count": 1385,
   "id": "cd11c393-a9dd-4eca-8f14-547f2ca516c1",
   "metadata": {},
   "outputs": [
    {
     "data": {
      "text/plain": [
       "0"
      ]
     },
     "execution_count": 1385,
     "metadata": {},
     "output_type": "execute_result"
    }
   ],
   "source": [
    "def pivotIndex(nums):\n",
    "    for i in range(len(nums)):\n",
    "        if sum(nums[:i]) == sum(nums[i + 1:]):\n",
    "            return i\n",
    "    return -1\n",
    "\n",
    "nums = [1, 7, 3, 6, 5, 6]\n",
    "nums = [1, 2, 3]\n",
    "nums = [2, 1, -1]\n",
    "pivotIndex(nums)"
   ]
  },
  {
   "cell_type": "code",
   "execution_count": null,
   "id": "c9adcb27-5cad-4e2a-a45a-b6328785293e",
   "metadata": {},
   "outputs": [],
   "source": [
    "class Solution:\n",
    "    def pivotIndex(self, nums: List[int]) -> int:\n",
    "        for i in range(len(nums)):\n",
    "            if sum(nums[:i]) == sum(nums[i + 1:]):\n",
    "                return i\n",
    "        return -1"
   ]
  },
  {
   "cell_type": "markdown",
   "id": "410f7c9a-8318-4b30-8fa6-20355e71dfe6",
   "metadata": {},
   "source": [
    "# 92 728. 自除数\n",
    "\n",
    "https://leetcode.cn/problems/self-dividing-numbers/description/"
   ]
  },
  {
   "cell_type": "code",
   "execution_count": 1391,
   "id": "baa3de24-5b57-447b-b9c5-f42aca40ed95",
   "metadata": {},
   "outputs": [
    {
     "data": {
      "text/plain": [
       "[48, 55, 66, 77]"
      ]
     },
     "execution_count": 1391,
     "metadata": {},
     "output_type": "execute_result"
    }
   ],
   "source": [
    "def selfDividingNumbers(left, right):\n",
    "    res = []\n",
    "    for i in range(left, right + 1):\n",
    "        if \"0\" not in str(i):\n",
    "            flag = True\n",
    "            s = [int(j) for j in str(i)]\n",
    "            for k in s:\n",
    "                if i % k != 0:\n",
    "                    flag = False\n",
    "            if flag:\n",
    "                res.append(i)\n",
    "    return res\n",
    "        \n",
    "left = 1\n",
    "right = 22\n",
    "left = 47\n",
    "right = 85\n",
    "selfDividingNumbers(left, right)"
   ]
  },
  {
   "cell_type": "code",
   "execution_count": null,
   "id": "5e0ad1a0-13f0-4f13-ad09-7bc8e53d8df7",
   "metadata": {},
   "outputs": [],
   "source": [
    "class Solution:\n",
    "    def selfDividingNumbers(self, left: int, right: int) -> List[int]:\n",
    "        res = []\n",
    "        for i in range(left, right + 1):\n",
    "            if \"0\" not in str(i):\n",
    "                flag = True\n",
    "                s = [int(j) for j in str(i)]\n",
    "                for k in s:\n",
    "                    if i % k != 0:\n",
    "                        flag = False\n",
    "                if flag:\n",
    "                    res.append(i)\n",
    "        return res"
   ]
  },
  {
   "cell_type": "markdown",
   "id": "7d36d477-5ca0-40d1-8795-34265c170351",
   "metadata": {},
   "source": [
    "# 93 747. 至少是其他数字两倍的最大数\n",
    "\n",
    "https://leetcode.cn/problems/largest-number-at-least-twice-of-others/description/"
   ]
  },
  {
   "cell_type": "code",
   "execution_count": 1402,
   "id": "e95bd3c9-595d-4772-a7a2-94034727a59d",
   "metadata": {},
   "outputs": [
    {
     "data": {
      "text/plain": [
       "-1"
      ]
     },
     "execution_count": 1402,
     "metadata": {},
     "output_type": "execute_result"
    }
   ],
   "source": [
    "def dominantIndex(nums):\n",
    "    target = max(nums)\n",
    "    idx = nums.index(target)\n",
    "    nums2 = [2 * i for i in nums]\n",
    "    nums2[idx] = target\n",
    "    if max(nums2) == target:\n",
    "        return idx\n",
    "    else: \n",
    "        return -1\n",
    "        \n",
    "nums = [3,6,1,0]\n",
    "nums = [1,2,3,4]\n",
    "dominantIndex(nums)"
   ]
  },
  {
   "cell_type": "code",
   "execution_count": null,
   "id": "d9a8f464-8bbc-4f28-b1cc-e087a8514197",
   "metadata": {},
   "outputs": [],
   "source": [
    "class Solution:\n",
    "    def dominantIndex(self, nums: List[int]) -> int:\n",
    "        target = max(nums)\n",
    "        idx = nums.index(target)\n",
    "        nums2 = [2 * i for i in nums]\n",
    "        nums2[idx] = target\n",
    "        if max(nums2) == target:\n",
    "            return idx\n",
    "        else: \n",
    "            return -1"
   ]
  },
  {
   "cell_type": "markdown",
   "id": "fa371d36-4f77-447a-8b00-32cce268d2f4",
   "metadata": {},
   "source": [
    "# 94 748. 最短补全词\n",
    "https://leetcode.cn/problems/shortest-completing-word/description/"
   ]
  },
  {
   "cell_type": "code",
   "execution_count": 1408,
   "id": "c1ce2698-4c6b-4a88-8e32-bba1d1ef158e",
   "metadata": {},
   "outputs": [
    {
     "data": {
      "text/plain": [
       "True"
      ]
     },
     "execution_count": 1408,
     "metadata": {},
     "output_type": "execute_result"
    }
   ],
   "source": [
    "\"a\".isalpha()"
   ]
  },
  {
   "cell_type": "code",
   "execution_count": 1421,
   "id": "0729e0f6-52ad-4f3f-abee-3e47a8531a76",
   "metadata": {},
   "outputs": [
    {
     "data": {
      "text/plain": [
       "'pest'"
      ]
     },
     "execution_count": 1421,
     "metadata": {},
     "output_type": "execute_result"
    }
   ],
   "source": [
    "def shortestCompletingWord(licensePlate, words):\n",
    "    pool = \"\"\n",
    "    for i in licensePlate.lower():\n",
    "        if i.isalpha():\n",
    "            pool += i\n",
    "    pool = Counter(pool)\n",
    "    res = []\n",
    "    for i in words:\n",
    "        temp = Counter(i)\n",
    "        flag = True\n",
    "        for j in pool:\n",
    "            if j not in i and flag:\n",
    "                flag = False\n",
    "            elif temp[j] < pool[j] and flag:\n",
    "                flag = False\n",
    "        if flag:\n",
    "            res.append((i, len(i)))\n",
    "    ans = []\n",
    "    for i in res:\n",
    "        ans.append(i[1])\n",
    "    target = ans.index(min(ans))\n",
    "    return res[target][0]\n",
    "\n",
    "licensePlate = \"1s3 PSt\"\n",
    "words = [\"step\", \"steps\", \"stripe\", \"stepple\"]\n",
    "licensePlate = \"1s3 456\"\n",
    "words = [\"looks\", \"pest\", \"stew\", \"show\"]\n",
    "shortestCompletingWord(licensePlate, words)"
   ]
  },
  {
   "cell_type": "code",
   "execution_count": null,
   "id": "96337c96-ead1-4adc-ae20-73c1ecd18114",
   "metadata": {},
   "outputs": [],
   "source": [
    "class Solution:\n",
    "    def shortestCompletingWord(self, licensePlate: str, words: List[str]) -> str:\n",
    "        pool = \"\"\n",
    "        for i in licensePlate.lower():\n",
    "            if i.isalpha():\n",
    "                pool += i\n",
    "        pool = Counter(pool)\n",
    "        res = []\n",
    "        for i in words:\n",
    "            temp = Counter(i)\n",
    "            flag = True\n",
    "            for j in pool:\n",
    "                if j not in i and flag:\n",
    "                    flag = False\n",
    "                elif temp[j] < pool[j] and flag:\n",
    "                    flag = False\n",
    "            if flag:\n",
    "                res.append((i, len(i)))\n",
    "        ans = []\n",
    "        for i in res:\n",
    "            ans.append(i[1])\n",
    "        target = ans.index(min(ans))\n",
    "        return res[target][0]"
   ]
  },
  {
   "cell_type": "markdown",
   "id": "85d4f8aa-8601-42f8-960a-f2c4deda8e6a",
   "metadata": {},
   "source": [
    "# 95 762. 二进制表示中质数个计算置位\n",
    "\n",
    "https://leetcode.cn/problems/prime-number-of-set-bits-in-binary-representation/description/"
   ]
  },
  {
   "cell_type": "code",
   "execution_count": 1433,
   "id": "cfd55b18-5c6a-489e-b4f7-ee0643928729",
   "metadata": {},
   "outputs": [
    {
     "name": "stdout",
     "output_type": "stream",
     "text": [
      "[2, 3, 1, 2, 2]\n"
     ]
    },
    {
     "data": {
      "text/plain": [
       "4"
      ]
     },
     "execution_count": 1433,
     "metadata": {},
     "output_type": "execute_result"
    }
   ],
   "source": [
    "def countPrimeSetBits(left, right):\n",
    "    res = []\n",
    "    for i in range(left, right + 1):\n",
    "        res.append(Counter(bin(i)[2:])[\"1\"])\n",
    "    ans = 0\n",
    "    for num in res:\n",
    "        flag = True\n",
    "        for i in range(2, num):\n",
    "            if (num % i) == 0:\n",
    "                flag = False\n",
    "        if flag and num > 1:\n",
    "            ans += 1\n",
    "    return ans\n",
    "\n",
    "left = 6 \n",
    "right = 10\n",
    "countPrimeSetBits(left, right)"
   ]
  },
  {
   "cell_type": "code",
   "execution_count": null,
   "id": "32a7d661-0180-452a-8502-d30df9f9707c",
   "metadata": {},
   "outputs": [],
   "source": [
    "class Solution:\n",
    "    def countPrimeSetBits(self, left: int, right: int) -> int:\n",
    "        res = []\n",
    "        for i in range(left, right + 1):\n",
    "            res.append(Counter(bin(i)[2:])[\"1\"])\n",
    "        ans = 0\n",
    "        for num in res:\n",
    "            flag = True\n",
    "            for i in range(2, num):\n",
    "                if (num % i) == 0:\n",
    "                    flag = False\n",
    "            if flag and num > 1:\n",
    "                ans += 1\n",
    "        return ans"
   ]
  },
  {
   "cell_type": "markdown",
   "id": "72b095b7-fee2-40a2-bd7d-46ce36115ec6",
   "metadata": {},
   "source": [
    "# 96 766. 托普利茨矩阵\n",
    "https://leetcode.cn/problems/toeplitz-matrix/description/"
   ]
  },
  {
   "cell_type": "code",
   "execution_count": 1443,
   "id": "e0dcd8ca-df87-4217-a714-a858a8cecccb",
   "metadata": {},
   "outputs": [
    {
     "data": {
      "text/plain": [
       "True"
      ]
     },
     "execution_count": 1443,
     "metadata": {},
     "output_type": "execute_result"
    }
   ],
   "source": [
    "def isToeplitzMatrix(matrix):\n",
    "    m, n = len(matrix), len(matrix[0])\n",
    "    j = 1\n",
    "    for i in range(m - 1):\n",
    "        j = 1\n",
    "        if matrix[i][0: n -j] != matrix[i + 1][j: ]:\n",
    "            return False\n",
    "        j += 1\n",
    "    return True\n",
    "        \n",
    "\n",
    "\n",
    "matrix = [[1,2,3,4],[5,1,2,3],[9,5,1,2]]\n",
    "#matrix = [[1,2],[2,2]]\n",
    "#matrix = [[11,74,0,93],[40,11,74,7]]\n",
    "isToeplitzMatrix(matrix)"
   ]
  },
  {
   "cell_type": "code",
   "execution_count": null,
   "id": "7398f852-2b68-4d37-bd86-8a4acd933a72",
   "metadata": {},
   "outputs": [],
   "source": [
    "class Solution:\n",
    "    def isToeplitzMatrix(self, matrix: List[List[int]]) -> bool:\n",
    "        m, n = len(matrix), len(matrix[0])\n",
    "        j = 1\n",
    "        for i in range(m - 1):\n",
    "            j = 1\n",
    "            if matrix[i][0: n -j] != matrix[i + 1][j: ]:\n",
    "                return False\n",
    "            j += 1\n",
    "        return True"
   ]
  },
  {
   "cell_type": "markdown",
   "id": "cdaded87-a290-42a5-aeed-697d2c5cc4eb",
   "metadata": {},
   "source": [
    "# 97 771. 宝石与石头\n",
    "\n",
    "https://leetcode.cn/problems/jewels-and-stones/description/"
   ]
  },
  {
   "cell_type": "code",
   "execution_count": 1446,
   "id": "239761d1-c751-49aa-bdf8-6d49d8db5287",
   "metadata": {},
   "outputs": [
    {
     "data": {
      "text/plain": [
       "0"
      ]
     },
     "execution_count": 1446,
     "metadata": {},
     "output_type": "execute_result"
    }
   ],
   "source": [
    "def numJewelsInStones(jewels, stones):\n",
    "    q = Counter(stones)\n",
    "    res = 0\n",
    "    for i in list(jewels):\n",
    "        res += q[i]\n",
    "    return res\n",
    "\n",
    "jewels = \"aA\"\n",
    "stones = \"aAAbbbb\"\n",
    "jewels = \"z\"\n",
    "stones = \"ZZ\"\n",
    "numJewelsInStones(jewels, stones)"
   ]
  },
  {
   "cell_type": "code",
   "execution_count": null,
   "id": "83b7868b-d0d8-4ca4-933c-d165e6afcdc9",
   "metadata": {},
   "outputs": [],
   "source": [
    "class Solution:\n",
    "    def numJewelsInStones(self, jewels: str, stones: str) -> int:\n",
    "        q = Counter(stones)\n",
    "        res = 0\n",
    "        for i in list(jewels):\n",
    "            res += q[i]\n",
    "        return res\n"
   ]
  },
  {
   "cell_type": "markdown",
   "id": "c1a011c5-04ba-4e65-9af6-deb8280b9db0",
   "metadata": {},
   "source": [
    "# 98 796. 旋转字符串\n",
    "https://leetcode.cn/problems/rotate-string/description/"
   ]
  },
  {
   "cell_type": "code",
   "execution_count": 1458,
   "id": "dca628dc-7f11-4e98-8692-11f71fc40d8c",
   "metadata": {},
   "outputs": [
    {
     "name": "stdout",
     "output_type": "stream",
     "text": [
      "abcde abced\n",
      "bcdea abced\n",
      "cdeab abced\n",
      "deabc abced\n",
      "eabcd abced\n"
     ]
    },
    {
     "data": {
      "text/plain": [
       "False"
      ]
     },
     "execution_count": 1458,
     "metadata": {},
     "output_type": "execute_result"
    }
   ],
   "source": [
    "def rotateString(s, goal):\n",
    "    for i in range(len(s)):\n",
    "        if s[i:] +s[:i] == goal:\n",
    "            return True\n",
    "    return False\n",
    "\n",
    "s = \"abcde\"\n",
    "goal = \"cdeab\"\n",
    "s = \"abcde\"\n",
    "goal = \"abced\"\n",
    "rotateString(s, goal)"
   ]
  },
  {
   "cell_type": "code",
   "execution_count": null,
   "id": "94c5b79d-ccfc-4ff5-8c71-14ad51af407d",
   "metadata": {},
   "outputs": [],
   "source": [
    "class Solution:\n",
    "    def rotateString(self, s: str, goal: str) -> bool:\n",
    "        for i in range(len(s)):\n",
    "            if s[i:] +s[:i] == goal:\n",
    "                return True\n",
    "        return False"
   ]
  },
  {
   "cell_type": "markdown",
   "id": "992e7cfb-c043-4ac8-92a1-89a49fd626be",
   "metadata": {},
   "source": [
    "# 99 804. 唯一摩尔斯密码词\n",
    "https://leetcode.cn/problems/unique-morse-code-words/description/"
   ]
  },
  {
   "cell_type": "code",
   "execution_count": 1460,
   "id": "d8b1e46b-7c86-43d0-b322-0f72ee5df0cf",
   "metadata": {},
   "outputs": [
    {
     "data": {
      "text/plain": [
       "97"
      ]
     },
     "execution_count": 1460,
     "metadata": {},
     "output_type": "execute_result"
    }
   ],
   "source": [
    "ord(\"a\")"
   ]
  },
  {
   "cell_type": "code",
   "execution_count": 1471,
   "id": "e36ec947-4fcb-409c-9920-ab75694a9342",
   "metadata": {},
   "outputs": [
    {
     "name": "stdout",
     "output_type": "stream",
     "text": [
      "['.-']\n"
     ]
    },
    {
     "data": {
      "text/plain": [
       "1"
      ]
     },
     "execution_count": 1471,
     "metadata": {},
     "output_type": "execute_result"
    }
   ],
   "source": [
    "def uniqueMorseRepresentations(words):\n",
    "    mos = [\".-\",\"-...\",\"-.-.\",\"-..\",\".\",\"..-.\",\"--.\",\"....\",\"..\",\\\n",
    "           \".---\",\"-.-\",\".-..\",\"--\",\"-.\",\"---\",\".--.\",\"--.-\",\".-.\",\\\n",
    "           \"...\",\"-\",\"..-\",\"...-\",\".--\",\"-..-\",\"-.--\",\"--..\"]\n",
    "    res = []\n",
    "    for i in words:\n",
    "        t = \"\"\n",
    "        for j in i:\n",
    "            t += mos[ord(j) - 97]\n",
    "        res.append(t)\n",
    "    return len(set(res))\n",
    "\n",
    "words = [\"gin\", \"zen\", \"gig\", \"msg\"]\n",
    "words = [\"a\"]\n",
    "uniqueMorseRepresentations(words)"
   ]
  },
  {
   "cell_type": "code",
   "execution_count": null,
   "id": "ec071ee3-ff42-40de-97fb-d6be20e13eea",
   "metadata": {},
   "outputs": [],
   "source": [
    "class Solution:\n",
    "    def uniqueMorseRepresentations(self, words: List[str]) -> int:\n",
    "        mos = [\".-\",\"-...\",\"-.-.\",\"-..\",\".\",\"..-.\",\"--.\",\"....\",\"..\",\\\n",
    "               \".---\",\"-.-\",\".-..\",\"--\",\"-.\",\"---\",\".--.\",\"--.-\",\".-.\",\\\n",
    "               \"...\",\"-\",\"..-\",\"...-\",\".--\",\"-..-\",\"-.--\",\"--..\"]\n",
    "        res = []\n",
    "        for i in words:\n",
    "            t = \"\"\n",
    "            for j in i:\n",
    "                t += mos[ord(j) - 97]\n",
    "            res.append(t)\n",
    "        return len(set(res))"
   ]
  },
  {
   "cell_type": "markdown",
   "id": "7aea6998-9dcc-4f07-8d31-0edd7bc2f0f0",
   "metadata": {},
   "source": [
    "# 100 806. 写字符串需要的行数\n",
    "https://leetcode.cn/problems/number-of-lines-to-write-string/description/"
   ]
  },
  {
   "cell_type": "code",
   "execution_count": 1482,
   "id": "14cb1c5d-3750-4e6a-9f01-561f60c03489",
   "metadata": {},
   "outputs": [
    {
     "data": {
      "text/plain": [
       "[3, 60]"
      ]
     },
     "execution_count": 1482,
     "metadata": {},
     "output_type": "execute_result"
    }
   ],
   "source": [
    "def numberOfLines(widths, s):\n",
    "    res = 0\n",
    "    temp = 0\n",
    "    for i in s:\n",
    "        temp += widths[ord(i) - 97]\n",
    "        if temp > 100:\n",
    "            res += 1\n",
    "            temp = widths[ord(i) - 97]\n",
    "    return [res + 1, temp]\n",
    "        \n",
    "    \n",
    "widths = [10,10,10,10,10,10,10,10,10,10,10,10,10,10,10,10,10,10,10,10,10,10,10,10,10,10]\n",
    "S = \"abcdefghijklmnopqrstuvwxyz\"\n",
    "#widths = [4,10,10,10,10,10,10,10,10,10,10,10,10,10,10,10,10,10,10,10,10,10,10,10,10,10]\n",
    "#S = \"bbbcccdddaaa\"\n",
    "numberOfLines(widths, S)"
   ]
  },
  {
   "cell_type": "code",
   "execution_count": null,
   "id": "ebebf42d-3bba-4bb5-9711-fa7598fbed08",
   "metadata": {},
   "outputs": [],
   "source": [
    "class Solution:\n",
    "    def numberOfLines(self, widths: List[int], s: str) -> List[int]:\n",
    "        res = 0\n",
    "        temp = 0\n",
    "        for i in s:\n",
    "            print(i)\n",
    "            temp += widths[ord(i) - 97]\n",
    "            if temp > 100:\n",
    "                res += 1\n",
    "                temp = widths[ord(i) - 97]\n",
    "        return [res + 1, temp]\n",
    "            "
   ]
  },
  {
   "cell_type": "markdown",
   "id": "b4ad2972-c6b0-4d84-b78d-a7fa7d365a8d",
   "metadata": {},
   "source": [
    "# 101 812. 最大三角形面积\n",
    "\n",
    "https://leetcode.cn/problems/largest-triangle-area/description/"
   ]
  },
  {
   "cell_type": "code",
   "execution_count": 1488,
   "id": "6cce06b9-4b98-4645-bbb5-229aeb85a239",
   "metadata": {},
   "outputs": [
    {
     "data": {
      "text/plain": [
       "0.0"
      ]
     },
     "execution_count": 1488,
     "metadata": {},
     "output_type": "execute_result"
    }
   ],
   "source": [
    "# Wrong\n",
    "def largestTriangleArea(points):\n",
    "    x = [i[0] for i in points]\n",
    "    y = [i[1] for i in points]\n",
    "    minx, maxx, miny, maxy = min(x), max(x), min(y), max(y)\n",
    "    p1, p2, p3 = [minx, 0], [maxx, ], [minx, ]\n",
    "    minxlist = []\n",
    "    maxxlist = []\n",
    "    for i in points:\n",
    "        if i[0] == minx:\n",
    "            minxlist.append(i[1])\n",
    "        if i[0] == maxx:\n",
    "            maxxlist.append(i[1])\n",
    "    p1 = [minx, min(minxlist)]\n",
    "    p2 = [maxx, min(maxxlist)]\n",
    "    p3 = [minx, max(minxlist)]\n",
    "\n",
    "    return 0.5 * (p3[1] - p1[1]) * (p2[0] -p1[0])\n",
    "\n",
    "\n",
    "points = [[0,0],[0,1],[1,0],[0,2],[2,0]]\n",
    "points = [[1,0],[0,0],[0,1]]\n",
    "points = [[4,6],[6,5],[3,1]]\n",
    "\n",
    "largestTriangleArea(points)"
   ]
  },
  {
   "cell_type": "code",
   "execution_count": 1500,
   "id": "53d274da-3f0a-444d-9e4b-bdd2306fec6d",
   "metadata": {},
   "outputs": [
    {
     "data": {
      "text/plain": [
       "2.0"
      ]
     },
     "execution_count": 1500,
     "metadata": {},
     "output_type": "execute_result"
    }
   ],
   "source": [
    "from itertools import combinations\n",
    "def largestTriangleArea(points):\n",
    "    c = combinations(points, 3)\n",
    "    res = 0\n",
    "    for i in c:\n",
    "        x1, y1 = i[0][0], i[0][1]\n",
    "        x2, y2 = i[1][0], i[1][1]\n",
    "        x3, y3 = i[2][0], i[2][1]\n",
    "        area = abs(0.5 * ((x2 -x1) * (y3 - y1) - (x3 -x1) * (y2 - y1)))\n",
    "        res = max(res, area)\n",
    "    return res\n",
    "\n",
    "points = [[0,0],[0,1],[1,0],[0,2],[2,0]]\n",
    "#points = [[1,0],[0,0],[0,1]]\n",
    "#points = [[4,6],[6,5],[3,1]]\n",
    "\n",
    "largestTriangleArea(points)"
   ]
  },
  {
   "cell_type": "code",
   "execution_count": null,
   "id": "f6e68850-81b1-4e38-8a85-d85c5e0fb103",
   "metadata": {},
   "outputs": [],
   "source": [
    "class Solution:\n",
    "    def largestTriangleArea(self, points: List[List[int]]) -> float:\n",
    "        c = combinations(points, 3)\n",
    "        res = 0\n",
    "        for i in c:\n",
    "            x1, y1 = i[0][0], i[0][1]\n",
    "            x2, y2 = i[1][0], i[1][1]\n",
    "            x3, y3 = i[2][0], i[2][1]\n",
    "            area = abs(0.5 * ((x2 -x1) * (y3 - y1) - (x3 -x1) * (y2 - y1)))\n",
    "            res = max(res, area)\n",
    "        return res"
   ]
  },
  {
   "cell_type": "markdown",
   "id": "0f7e40be-8b8b-46ba-875a-18f5888cf188",
   "metadata": {},
   "source": [
    "# 102  819. 最常见的单词\n",
    "https://leetcode.cn/problems/most-common-word/description/"
   ]
  },
  {
   "cell_type": "code",
   "execution_count": null,
   "id": "d84aedb6-9e2e-4f16-b86c-fa199affc1e5",
   "metadata": {},
   "outputs": [],
   "source": [
    "\"d\".isalpha"
   ]
  },
  {
   "cell_type": "code",
   "execution_count": 1538,
   "id": "6558dfe1-ec8c-491e-b0a1-85fb068f8a00",
   "metadata": {},
   "outputs": [
    {
     "data": {
      "text/plain": [
       "'a'"
      ]
     },
     "execution_count": 1538,
     "metadata": {},
     "output_type": "execute_result"
    }
   ],
   "source": [
    "def mostCommonWord(paragraph, banned):\n",
    "    paragraph = paragraph.lower()\n",
    "    for x in \"[ ,.!?';]\":\n",
    "        paragraph = paragraph.replace(x, \" \")\n",
    "    s = paragraph.split()\n",
    "    q = Counter(s)\n",
    "    s1 = [(q[i], i) for i in q]\n",
    "    s1.sort(reverse=True)\n",
    "    for i in s1:\n",
    "        if i[1] not in banned:\n",
    "            return i[1]\n",
    "    \n",
    "#paragraph = \"Bob hit a ball, the hit BALL flew far after it was hit.\"\n",
    "#banned = [\"hit\"]\n",
    "paragraph = \"a.\"\n",
    "banned = []\n",
    "mostCommonWord(paragraph, banned)"
   ]
  },
  {
   "cell_type": "code",
   "execution_count": null,
   "id": "ec687cce-85f8-4cac-89be-4e69694b5de0",
   "metadata": {},
   "outputs": [],
   "source": [
    "class Solution:\n",
    "    def mostCommonWord(self, paragraph: str, banned: List[str]) -> str:\n",
    "        paragraph = paragraph.lower()\n",
    "        for x in \"[ ,.!?';]\":\n",
    "            paragraph = paragraph.replace(x, \" \")\n",
    "        s = paragraph.split()\n",
    "        q = Counter(s)\n",
    "        s1 = [(q[i], i) for i in q]\n",
    "        s1.sort(reverse=True)\n",
    "        for i in s1:\n",
    "            if i[1] not in banned:\n",
    "                return i[1]\n",
    "            "
   ]
  },
  {
   "cell_type": "markdown",
   "id": "ec4e723e-10d8-45f3-b37b-ffe80e4caa5c",
   "metadata": {},
   "source": [
    "# 103 821. 字符的最短距离\n",
    "https://leetcode.cn/problems/shortest-distance-to-a-character/description/"
   ]
  },
  {
   "cell_type": "code",
   "execution_count": 1554,
   "id": "781c1db7-a907-45b8-a0fa-aca2b3eebdd7",
   "metadata": {},
   "outputs": [
    {
     "data": {
      "text/plain": [
       "[3, 2, 1, 0]"
      ]
     },
     "execution_count": 1554,
     "metadata": {},
     "output_type": "execute_result"
    }
   ],
   "source": [
    "def shortestToChar(s, c):\n",
    "    table = [s.index(c)]\n",
    "    res = []\n",
    "    for i in range(len(s)):\n",
    "        if s[i] == c and i not in table:\n",
    "            table.append(i)\n",
    "    for i in range(len(s)):\n",
    "        res.append(min([abs(i - j) for j in table]))\n",
    "    return res\n",
    "    \n",
    "s = \"loveleetcode\"\n",
    "c = \"e\"\n",
    "s = \"aaab\"\n",
    "c = \"b\"\n",
    "shortestToChar(s, c)"
   ]
  },
  {
   "cell_type": "code",
   "execution_count": null,
   "id": "5297f0dd-1f30-4239-9511-29b8d01b7278",
   "metadata": {},
   "outputs": [],
   "source": [
    "class Solution:\n",
    "    def shortestToChar(self, s: str, c: str) -> List[int]:\n",
    "        table = [s.index(c)]\n",
    "        res = []\n",
    "        for i in range(len(s)):\n",
    "            if s[i] == c and i not in table:\n",
    "                table.append(i)\n",
    "        for i in range(len(s)):\n",
    "            res.append(min([abs(i - j) for j in table]))\n",
    "        return res"
   ]
  },
  {
   "cell_type": "markdown",
   "id": "ceb98f73-48e3-4ef1-bc24-fed3e3b63a05",
   "metadata": {},
   "source": [
    "# 104 824. 山羊拉丁文\n",
    "https://leetcode.cn/problems/goat-latin/description/"
   ]
  },
  {
   "cell_type": "code",
   "execution_count": 1557,
   "id": "26c89fbb-f53e-411d-867b-8faeb9c89e4e",
   "metadata": {},
   "outputs": [
    {
     "data": {
      "text/plain": [
       "True"
      ]
     },
     "execution_count": 1557,
     "metadata": {},
     "output_type": "execute_result"
    }
   ],
   "source": [
    "\"df\".startswith(\"d\")"
   ]
  },
  {
   "cell_type": "code",
   "execution_count": 1569,
   "id": "d83e7496-b968-46ff-80b9-defaf29a3e29",
   "metadata": {},
   "outputs": [
    {
     "data": {
      "text/plain": [
       "'Imaa peaksmaaa oatGmaaaa atinLmaaaaa'"
      ]
     },
     "execution_count": 1569,
     "metadata": {},
     "output_type": "execute_result"
    }
   ],
   "source": [
    "def toGoatLatin(sentence):\n",
    "    t = \"aeiouAEIOU\"\n",
    "    s = sentence.split()\n",
    "    for i in range(len(s)):\n",
    "        s1 = [s[i].startswith(x) for x in t]\n",
    "        s1 = True in s1\n",
    "        if s1:\n",
    "            s[i] = s[i] + \"ma\"\n",
    "        else:\n",
    "            s[i] = s[i][1:] + s[i][0] + \"ma\"\n",
    "        s[i] = s[i] + \"a\" * (i + 1)\n",
    "    return \" \".join(s)\n",
    "\n",
    "sentence = \"The quick brown fox jumped over the lazy dog\"\n",
    "sentence = \"I speak Goat Latin\"\n",
    "toGoatLatin(sentence)"
   ]
  },
  {
   "cell_type": "code",
   "execution_count": null,
   "id": "a51f003f-6e58-465b-aefd-a61b970c9529",
   "metadata": {},
   "outputs": [],
   "source": [
    "class Solution:\n",
    "    def toGoatLatin(self, sentence: str) -> str:\n",
    "        t = \"aeiouAEIOU\"\n",
    "        s = sentence.split()\n",
    "        for i in range(len(s)):\n",
    "            s1 = [s[i].startswith(x) for x in t]\n",
    "            s1 = True in s1\n",
    "            if s1:\n",
    "                s[i] = s[i] + \"ma\"\n",
    "            else:\n",
    "                s[i] = s[i][1:] + s[i][0] + \"ma\"\n",
    "            s[i] = s[i] + \"a\" * (i + 1)\n",
    "        return \" \".join(s)"
   ]
  },
  {
   "cell_type": "markdown",
   "id": "971be962-deda-4ec1-9f98-85e6d0e3d21a",
   "metadata": {},
   "source": [
    "# 105 830. 较大分组的位置\n",
    "\n",
    "https://leetcode.cn/problems/positions-of-large-groups/description/"
   ]
  },
  {
   "cell_type": "code",
   "execution_count": 1591,
   "id": "56190a40-645c-48b0-9e96-e559a9916ead",
   "metadata": {},
   "outputs": [
    {
     "data": {
      "text/plain": [
       "[[3, 6]]"
      ]
     },
     "execution_count": 1591,
     "metadata": {},
     "output_type": "execute_result"
    }
   ],
   "source": [
    "def largeGroupPositions(s):\n",
    "    n = len(s)\n",
    "    res = []\n",
    "    count = 1\n",
    "    start = 0\n",
    "    for i in range(1, n):\n",
    "        if s[i] == s[start]:\n",
    "            count += 1\n",
    "            if i == n-1 and count >= 3:\n",
    "                res.append([start, i])\n",
    "        else: \n",
    "            if count >= 3:\n",
    "                res.append([start, i - 1])\n",
    "            start = i\n",
    "            count = 1\n",
    "    return res\n",
    "        \n",
    "        \n",
    "s = \"abbxxxxzzy\"\n",
    "#s = \"abcdddeeeeaabbbcd\"\n",
    "#s = \"aa\"\n",
    "largeGroupPositions(s)"
   ]
  },
  {
   "cell_type": "code",
   "execution_count": null,
   "id": "74f9ee1a-b3ea-4873-860d-0467fea67ce6",
   "metadata": {},
   "outputs": [],
   "source": [
    "class Solution:\n",
    "    def largeGroupPositions(self, s: str) -> List[List[int]]:\n",
    "        n = len(s)\n",
    "        res = []\n",
    "        count = 1\n",
    "        start = 0\n",
    "        for i in range(1, n):\n",
    "            if s[i] == s[start]:\n",
    "                count += 1\n",
    "                if i == n-1 and count >= 3:\n",
    "                    res.append([start, i])\n",
    "            else: \n",
    "                if count >= 3:\n",
    "                    res.append([start, i - 1])\n",
    "                start = i\n",
    "                count = 1\n",
    "        return res"
   ]
  },
  {
   "cell_type": "markdown",
   "id": "9b00ede5-ec96-48f8-836a-2516cd9e990f",
   "metadata": {},
   "source": [
    "# 106 832. 翻转图像\n",
    "\n",
    "https://leetcode.cn/problems/flipping-an-image/description/"
   ]
  },
  {
   "cell_type": "code",
   "execution_count": 1597,
   "id": "66c7ce1d-3259-49ba-b168-ededcc4dee32",
   "metadata": {},
   "outputs": [
    {
     "data": {
      "text/plain": [
       "[[1, 1, 0, 0], [0, 1, 1, 0], [0, 0, 0, 1], [1, 0, 1, 0]]"
      ]
     },
     "execution_count": 1597,
     "metadata": {},
     "output_type": "execute_result"
    }
   ],
   "source": [
    "def flipAndInvertImage(image):\n",
    "    for i in range(len(image)):\n",
    "        image[i] = image[i][::-1]\n",
    "        image[i] = [ 1-x for x in image[i]]\n",
    "    return image\n",
    "        \n",
    "    \n",
    "image = [[1,1,0],[1,0,1],[0,0,0]]\n",
    "image = [[1,1,0,0],[1,0,0,1],[0,1,1,1],[1,0,1,0]]\n",
    "flipAndInvertImage(image)"
   ]
  },
  {
   "cell_type": "code",
   "execution_count": null,
   "id": "e2cd9c04-cf8b-4020-9b04-b52e538439b9",
   "metadata": {},
   "outputs": [],
   "source": [
    "class Solution:\n",
    "    def flipAndInvertImage(self, image: List[List[int]]) -> List[List[int]]:\n",
    "        for i in range(len(image)):\n",
    "            image[i] = image[i][::-1]\n",
    "            image[i] = [ 1-x for x in image[i]]\n",
    "        return image"
   ]
  },
  {
   "cell_type": "markdown",
   "id": "b23a7f88-9251-4796-a2da-df1eeb3084b7",
   "metadata": {},
   "source": [
    "# 107 836. 矩形重叠\n",
    "https://leetcode.cn/problems/rectangle-overlap/description/"
   ]
  },
  {
   "cell_type": "markdown",
   "id": "bfb5d98e-9409-43e4-9544-88e7f2995406",
   "metadata": {},
   "source": [
    "Rec1 = [x1, y1, x2, y2]<br/>\n",
    "--> x1 < x < x2 <br/>\n",
    "--> y1 < x < y2<br/>\n",
    "\n",
    "Rec2=  [x3, y3, x4, y4]<br/>\n",
    "--> x3 < x < x4<br/>\n",
    "--> y3 < x < y4<br/>\n",
    "so:<br/>\n",
    "$max(x1, x3) < x < min(x2, x4)$\n",
    "<br/>\n",
    "$max(y1, y3) < x < min(y2, y4)$"
   ]
  },
  {
   "cell_type": "code",
   "execution_count": 1623,
   "id": "387e4bd8-c918-4823-ad2f-335ff6c83dc0",
   "metadata": {},
   "outputs": [
    {
     "data": {
      "text/plain": [
       "True"
      ]
     },
     "execution_count": 1623,
     "metadata": {},
     "output_type": "execute_result"
    }
   ],
   "source": [
    "def isRectangleOverlap(rec1, rec2):\n",
    "    x1 = max(rec1[0], rec2[0])\n",
    "    y1 = max(rec1[1], rec2[1])\n",
    "    x2 = min(rec1[2], rec2[2])\n",
    "    y2 = min(rec1[3], rec2[3])\n",
    "\n",
    "    if x1 < x2 and y1 < y2:\n",
    "        return True\n",
    "    else:\n",
    "        return False\n",
    "\n",
    "rec1 = [0,0,2,2]\n",
    "rec2 = [1,1,3,3]\n",
    "#rec1 = [0,0,1,1]\n",
    "#rec2 = [1,0,2,1]\n",
    "#rec1 = [0,0,1,1]\n",
    "#rec2 = [2,2,3,3]\n",
    "#rec1 = [7,8,13,15]\n",
    "#rec2 = [10,8,12,20]\\\n",
    "rec1 = [2,17,6,20]\n",
    "rec2 = [3,8,6,20]\n",
    "\n",
    "isRectangleOverlap(rec1, rec2)"
   ]
  },
  {
   "cell_type": "code",
   "execution_count": null,
   "id": "60acf614-8050-491c-b09f-6106fa9c9bcd",
   "metadata": {},
   "outputs": [],
   "source": [
    "class Solution:\n",
    "    def isRectangleOverlap(self, rec1: List[int], rec2: List[int]) -> bool:\n",
    "        x1 = max(rec1[0], rec2[0])\n",
    "        y1 = max(rec1[1], rec2[1])\n",
    "        x2 = min(rec1[2], rec2[2])\n",
    "        y2 = min(rec1[3], rec2[3])\n",
    "    \n",
    "        if x1 < x2 and y1 < y2:\n",
    "            return True\n",
    "        else:\n",
    "            return False"
   ]
  },
  {
   "cell_type": "markdown",
   "id": "e5795df2-acf6-4a5b-9a13-020e769d908b",
   "metadata": {},
   "source": [
    "# 108"
   ]
  },
  {
   "cell_type": "code",
   "execution_count": 1631,
   "id": "c5a74c7d-4783-40dc-aed3-62a9e588b243",
   "metadata": {},
   "outputs": [
    {
     "data": {
      "text/plain": [
       "True"
      ]
     },
     "execution_count": 1631,
     "metadata": {},
     "output_type": "execute_result"
    }
   ],
   "source": [
    "def backspaceCompare(s, t):\n",
    "    s1 = []\n",
    "    t1 = []\n",
    "    for i in s:\n",
    "        if i != \"#\":\n",
    "            s1.append(i)\n",
    "        else:\n",
    "            if s1:\n",
    "                s1.pop()\n",
    "    for i in t:\n",
    "        if i != \"#\":\n",
    "            t1.append(i)\n",
    "        else:\n",
    "            if t1:\n",
    "                t1.pop()\n",
    "    return s1 == t1\n",
    "                      \n",
    "\n",
    "s = \"ab#c\"\n",
    "t = \"ad#c\"\n",
    "s = \"ab##\"\n",
    "t = \"c#d#\"\n",
    "s = \"a#c\"\n",
    "t = \"b\"\n",
    "s = \"ab#c\"\n",
    "t = \"ad#c\"\n",
    "backspaceCompare(s, t)"
   ]
  },
  {
   "cell_type": "code",
   "execution_count": null,
   "id": "1b63e12a-631c-4a48-873d-aa95376f8e9c",
   "metadata": {},
   "outputs": [],
   "source": [
    "class Solution:\n",
    "    def backspaceCompare(self, s: str, t: str) -> bool:\n",
    "        s1 = []\n",
    "        t1 = []\n",
    "        for i in s:\n",
    "            if i != \"#\":\n",
    "                s1.append(i)\n",
    "            else:\n",
    "                if s1:\n",
    "                    s1.pop()\n",
    "        for i in t:\n",
    "            if i != \"#\":\n",
    "                t1.append(i)\n",
    "            else:\n",
    "                if t1:\n",
    "                    t1.pop()\n",
    "        return s1 == t1\n",
    "                          "
   ]
  },
  {
   "cell_type": "markdown",
   "id": "1948699b-7b2f-4ebf-9d27-f28b5aa3ef0d",
   "metadata": {},
   "source": [
    "# 109 859. 亲密字符串\n",
    "https://leetcode.cn/problems/buddy-strings/description/"
   ]
  },
  {
   "cell_type": "code",
   "execution_count": 1643,
   "id": "73c43fff-e5be-4d60-b971-51d66c669616",
   "metadata": {},
   "outputs": [
    {
     "data": {
      "text/plain": [
       "True"
      ]
     },
     "execution_count": 1643,
     "metadata": {},
     "output_type": "execute_result"
    }
   ],
   "source": [
    "# Wrong\n",
    "def buddyStrings(s, goal):\n",
    "    if sorted(s) != sorted(goal):\n",
    "        return False\n",
    "    if len(set(s)) == 1:\n",
    "        return True\n",
    "    temp = zip(s, goal)\n",
    "    res = 0\n",
    "    ans = []\n",
    "    for i in temp:\n",
    "        if i[0] != i[1]:\n",
    "            res += 1\n",
    "    if res == 2:\n",
    "        return True\n",
    "    else:\n",
    "        return False\n",
    "\n",
    "s = \"ab\"\n",
    "goal = \"ba\"\n",
    "#s = \"ab\"\n",
    "#goal = \"ab\"\n",
    "#s = \"aa\"\n",
    "#goal = \"aa\"\n",
    "buddyStrings(s, goal)"
   ]
  },
  {
   "cell_type": "code",
   "execution_count": 1674,
   "id": "48f74de1-52ce-4229-a5d5-14955b12c57a",
   "metadata": {},
   "outputs": [
    {
     "data": {
      "text/plain": [
       "False"
      ]
     },
     "execution_count": 1674,
     "metadata": {},
     "output_type": "execute_result"
    }
   ],
   "source": [
    "# Timeout\n",
    "def buddyStrings(s, goal):\n",
    "    if sorted(s) != sorted(goal):\n",
    "        return False\n",
    "    if len(s) == 1:\n",
    "        return False\n",
    "    if len(set(s)) == 1:\n",
    "        return True\n",
    "    n = len(s)\n",
    "    for i in range(n-1):\n",
    "        for j in range(i + 1, n):\n",
    "            temp = list(s)\n",
    "#            print(temp)\n",
    "            temp[i], temp[j] = temp[j], temp[i]\n",
    "#            print(i, j, temp, goal)\n",
    "            if \"\".join(temp) == goal:\n",
    "                return True\n",
    "    return False\n",
    "\n",
    "\n",
    "s = \"ab\"\n",
    "goal = \"ba\"\n",
    "s = \"ab\"\n",
    "goal = \"ab\"\n",
    "s = \"aa\"\n",
    "goal = \"aa\"\n",
    "s = \"a\"\n",
    "goal = \"a\"\n",
    "#s= \"aaaaaaabc\"\n",
    "#goal = \"aaaaaaacb\"\n",
    "\n",
    "buddyStrings(s, goal)"
   ]
  },
  {
   "cell_type": "code",
   "execution_count": 1696,
   "id": "5103d973-2877-4fd6-adbd-9ddc4717daf3",
   "metadata": {},
   "outputs": [
    {
     "data": {
      "text/plain": [
       "True"
      ]
     },
     "execution_count": 1696,
     "metadata": {},
     "output_type": "execute_result"
    }
   ],
   "source": [
    "# Timeout\n",
    "def buddyStrings(s, goal):\n",
    "    if len(s) != len(goal):\n",
    "        return False\n",
    "    if s == goal:\n",
    "        if len(set(s)) < len(goal):\n",
    "            return True\n",
    "        else:\n",
    "            return False\n",
    "\n",
    "    diff = [(a, b ) for a, b in zip(s, goal) if a != b]\n",
    "    return len(diff) == 2and diff[0][0] == diff[1][1] and diff[0][1] == diff[1][0]\n",
    "\n",
    "#s = \"ab\"\n",
    "#goal = \"ba\"\n",
    "#s = \"ab\"\n",
    "#goal = \"ab\"\n",
    "#s = \"aa\"\n",
    "#goal = \"aa\"\n",
    "#s = \"a\"\n",
    "#goal = \"a\"\n",
    "s= \"aaaaaaabc\"\n",
    "goal = \"aaaaaaacb\"\n",
    "\n",
    "buddyStrings(s, goal)"
   ]
  },
  {
   "cell_type": "code",
   "execution_count": null,
   "id": "2dc166d7-f494-40c5-9a79-b2953d34e21d",
   "metadata": {},
   "outputs": [],
   "source": [
    "class Solution:\n",
    "    def buddyStrings(self, s: str, goal: str) -> bool:\n",
    "        if len(s) != len(goal):\n",
    "            return False\n",
    "        if s == goal:\n",
    "            if len(set(s)) < len(goal): \n",
    "                return True\n",
    "            else:\n",
    "                return False\n",
    "        diff = [(a, b) for a, b in zip(s, goal) if a != b]\n",
    "        return len(diff) == 2 and diff[0][0] == diff[1][1] and diff[0][1] == diff[1][0]\n",
    "\n",
    "作者：力扣官方题解\n",
    "链接：https://leetcode.cn/problems/buddy-strings/solutions/1090079/qin-mi-zi-fu-chuan-by-leetcode-solution-yyis/\n",
    "来源：力扣（LeetCode）\n",
    "著作权归作者所有。商业转载请联系作者获得授权，非商业转载请注明出处。"
   ]
  },
  {
   "cell_type": "code",
   "execution_count": null,
   "id": "895bd3c7-07de-490d-b93a-96ddaf606a9c",
   "metadata": {},
   "outputs": [],
   "source": [
    "class Solution:\n",
    "    def buddyStrings(self, s: str, goal: str) -> bool:\n",
    "        if len(s) != len(goal):\n",
    "            return False\n",
    "        if s == goal:\n",
    "            if len(set(s)) < len(goal):\n",
    "                return True\n",
    "            else:\n",
    "                return False\n",
    "    \n",
    "        diff = [(a, b ) for a, b in zip(s, goal) if a != b]\n",
    "        return len(diff) == 2and diff[0][0] == diff[1][1] and diff[0][1] == diff[1][0]"
   ]
  },
  {
   "cell_type": "markdown",
   "id": "19cd8bac-99ef-4427-91bf-3067ec501ca6",
   "metadata": {},
   "source": [
    "# 110 860. 柠檬水找零\n",
    "\n",
    "https://leetcode.cn/problems/lemonade-change/description/"
   ]
  },
  {
   "cell_type": "code",
   "execution_count": 1682,
   "id": "e3297ba5-f33a-44ae-943a-22e0b1aca31a",
   "metadata": {},
   "outputs": [
    {
     "data": {
      "text/plain": [
       "True"
      ]
     },
     "execution_count": 1682,
     "metadata": {},
     "output_type": "execute_result"
    }
   ],
   "source": [
    "def lemonadeChange(bills):\n",
    "    res = {5: 0, 10: 0, 20: 0}\n",
    "    for i in bills:\n",
    "        if not res and i != 5:\n",
    "            return False\n",
    "        if not res and i == 5:\n",
    "            res[5] += 1\n",
    "        if res:\n",
    "            if i == 5:\n",
    "                res[5] += 1\n",
    "            elif i == 10:\n",
    "                if res[5]:\n",
    "                    res[10] += 1\n",
    "                    res[5] -= 1\n",
    "                else:\n",
    "                    return False\n",
    "            elif i == 20:\n",
    "                res[20] += 1\n",
    "                flag = False\n",
    "                if res[10] >=1 and res[5] >= 1:\n",
    "                    res[10] -= 1\n",
    "                    res[5] -= 1\n",
    "                    flag = True\n",
    "                elif res[5] >= 3 and not flag:\n",
    "                    res[5] -= 3\n",
    "                else: \n",
    "                    return False\n",
    "    return True\n",
    "bills = [5,5,5,10,20]\n",
    "lemonadeChange(bills)"
   ]
  },
  {
   "cell_type": "code",
   "execution_count": null,
   "id": "f729d4da-b6b5-4b09-a8bb-cc20fa2cbd83",
   "metadata": {},
   "outputs": [],
   "source": [
    "class Solution:\n",
    "    def lemonadeChange(self, bills: List[int]) -> bool:\n",
    "        res = {5: 0, 10: 0, 20: 0}\n",
    "        for i in bills:\n",
    "            if not res and i != 5:\n",
    "                return False\n",
    "            if not res and i == 5:\n",
    "                res[5] += 1\n",
    "            if res:\n",
    "                if i == 5:\n",
    "                    res[5] += 1\n",
    "                elif i == 10:\n",
    "                    if res[5]:\n",
    "                        res[10] += 1\n",
    "                        res[5] -= 1\n",
    "                    else:\n",
    "                        return False\n",
    "                elif i == 20:\n",
    "                    res[20] += 1\n",
    "                    flag = False\n",
    "                    if res[10] >=1 and res[5] >= 1:\n",
    "                        res[10] -= 1\n",
    "                        res[5] -= 1\n",
    "                        flag = True\n",
    "                    elif res[5] >= 3 and not flag:\n",
    "                        res[5] -= 3\n",
    "                    else: \n",
    "                        return False\n",
    "        return True"
   ]
  },
  {
   "cell_type": "markdown",
   "id": "643c6392-f5ff-4e59-a950-9ddd098f320c",
   "metadata": {},
   "source": [
    "# 111 867. 转置矩阵\n",
    "https://leetcode.cn/problems/transpose-matrix/description/"
   ]
  },
  {
   "cell_type": "code",
   "execution_count": 1700,
   "id": "8be04102-db5e-479c-8306-608609dcac7c",
   "metadata": {},
   "outputs": [
    {
     "data": {
      "text/plain": [
       "[[1, 4, 7], [2, 5, 8], [3, 6, 9]]"
      ]
     },
     "execution_count": 1700,
     "metadata": {},
     "output_type": "execute_result"
    }
   ],
   "source": [
    "def transpose(matrix):\n",
    "    s = np.matrix(matrix)\n",
    "    s = s.transpose()\n",
    "    s = s.tolist()\n",
    "    return s\n",
    "    \n",
    "matrix = [[1,2,3],[4,5,6],[7,8,9]]\n",
    "transpose(matrix)"
   ]
  },
  {
   "cell_type": "code",
   "execution_count": null,
   "id": "b6576c91-4622-400a-bdb8-5ee624b62b64",
   "metadata": {},
   "outputs": [],
   "source": [
    "class Solution:\n",
    "    def transpose(self, matrix: List[List[int]]) -> List[List[int]]:\n",
    "        s = np.matrix(matrix)\n",
    "        s = s.transpose()\n",
    "        s = s.tolist()\n",
    "        return s"
   ]
  },
  {
   "cell_type": "markdown",
   "id": "c0d6349a-b6cc-4b29-bfb4-9f4133fa7554",
   "metadata": {},
   "source": [
    "# 112 868. 二进制间距\n",
    "\n",
    "https://leetcode.cn/problems/binary-gap/description/"
   ]
  },
  {
   "cell_type": "code",
   "execution_count": 1708,
   "id": "ee95c5e1-de17-4bfe-b0fd-70a0e8dfecf1",
   "metadata": {},
   "outputs": [
    {
     "data": {
      "text/plain": [
       "2"
      ]
     },
     "execution_count": 1708,
     "metadata": {},
     "output_type": "execute_result"
    }
   ],
   "source": [
    "def binaryGap(n):\n",
    "    s = bin(n)[2:]\n",
    "    count = 0\n",
    "    ans = []\n",
    "    res = 0\n",
    "    for i in range(len(s)):\n",
    "        if s[i] == \"1\":\n",
    "            ans.append(i)\n",
    "    if len(ans) <= 1:\n",
    "        return 0\n",
    "    for i in range(1, len(ans)):\n",
    "        res = max(res, ans[i] -ans[i - 1])\n",
    "    return res\n",
    "\n",
    "n = 22\n",
    "n = 8\n",
    "n = 5\n",
    "binaryGap(n)"
   ]
  },
  {
   "cell_type": "code",
   "execution_count": null,
   "id": "2de032e6-09d4-4fba-b6db-290fc348f49e",
   "metadata": {},
   "outputs": [],
   "source": [
    "class Solution:\n",
    "    def binaryGap(self, n: int) -> int:\n",
    "        s = bin(n)[2:]\n",
    "        count = 0\n",
    "        ans = []\n",
    "        res = 0\n",
    "        for i in range(len(s)):\n",
    "            if s[i] == \"1\":\n",
    "                ans.append(i)\n",
    "        if len(ans) <= 1:\n",
    "            return 0\n",
    "        for i in range(1, len(ans)):\n",
    "            res = max(res, ans[i] -ans[i - 1])\n",
    "        return res\n"
   ]
  },
  {
   "cell_type": "markdown",
   "id": "257ff6f5-4099-4817-b5f8-3bd6954a51d7",
   "metadata": {},
   "source": [
    "# 113  883. 三维形体投影面积\n",
    "\n",
    "https://leetcode.cn/problems/projection-area-of-3d-shapes/"
   ]
  },
  {
   "cell_type": "code",
   "execution_count": 1732,
   "id": "22faec46-2083-4ff2-9137-200a5867d7ac",
   "metadata": {},
   "outputs": [
    {
     "data": {
      "text/plain": [
       "17"
      ]
     },
     "execution_count": 1732,
     "metadata": {},
     "output_type": "execute_result"
    }
   ],
   "source": [
    "import numpy as np\n",
    "def projectionArea(grid):\n",
    "    xy = 0\n",
    "    for i in grid:\n",
    "        for j in i:\n",
    "            if j != 0:\n",
    "                xy += 1\n",
    "    \n",
    "    yz = sum(np.max(np.array(grid), axis = 0).tolist())\n",
    "    xz = sum(np.max(np.array(grid), axis = 1).tolist())       \n",
    "    return xy + yz +xz\n",
    "\n",
    "\n",
    "grid = [[1,2],[3,4]]  #17\n",
    "#grid = [[1,0],[0,2]]  #8\n",
    "\n",
    "\n",
    "projectionArea(grid)"
   ]
  },
  {
   "cell_type": "code",
   "execution_count": null,
   "id": "f9678c2b-2cd5-4bc8-bfb8-d2b951fb2c04",
   "metadata": {},
   "outputs": [],
   "source": [
    "import numpy as np\n",
    "class Solution:\n",
    "    def projectionArea(self, grid: List[List[int]]) -> int:\n",
    "        xy = 0\n",
    "        for i in grid:\n",
    "            for j in i:\n",
    "                if j != 0:\n",
    "                    xy += 1\n",
    "        \n",
    "        yz = sum(np.max(np.array(grid), axis = 0).tolist())\n",
    "        xz = sum(np.max(np.array(grid), axis = 1).tolist())       \n",
    "        return xy + yz +xz"
   ]
  },
  {
   "cell_type": "markdown",
   "id": "62ad5ac2-5e34-4845-988d-07f5a7a32740",
   "metadata": {},
   "source": [
    "# 114 884. 两句话中的不常见单词\n",
    "\n",
    "https://leetcode.cn/problems/uncommon-words-from-two-sentences/description/"
   ]
  },
  {
   "cell_type": "code",
   "execution_count": 1747,
   "id": "d17b75fd-a6a1-4844-aa2d-0ea7a595315c",
   "metadata": {},
   "outputs": [
    {
     "data": {
      "text/plain": [
       "['sweet', 'sour']"
      ]
     },
     "execution_count": 1747,
     "metadata": {},
     "output_type": "execute_result"
    }
   ],
   "source": [
    "def uncommonFromSentences(s1, s2):\n",
    "    s = s1 + \" \" + s2\n",
    "    res = Counter(s.split())\n",
    "    ans = []\n",
    "    for i in res:\n",
    "        if res[i] == 1:\n",
    "            ans.append(i)\n",
    "    return ans\n",
    "\n",
    "s1 = \"this apple is sweet\"\n",
    "s2 = \"this apple is sour\"\n",
    "uncommonFromSentences(s1, s2)"
   ]
  },
  {
   "cell_type": "code",
   "execution_count": null,
   "id": "52d3ac9f-311d-4704-95da-476be9c3b532",
   "metadata": {},
   "outputs": [],
   "source": [
    "class Solution:\n",
    "    def uncommonFromSentences(self, s1: str, s2: str) -> List[str]:\n",
    "        s = s1 + \" \" + s2\n",
    "        res = Counter(s.split())\n",
    "        ans = []\n",
    "        for i in res:\n",
    "            if res[i] == 1:\n",
    "                ans.append(i)\n",
    "        return ans\n"
   ]
  },
  {
   "cell_type": "markdown",
   "id": "bf17c04f-caa5-4cca-8bd7-1a988627acfa",
   "metadata": {},
   "source": [
    "# 115 888. 公平的糖果交换\n",
    "https://leetcode.cn/problems/fair-candy-swap/description/"
   ]
  },
  {
   "cell_type": "code",
   "execution_count": 1758,
   "id": "e7599288-cad3-47e3-8b98-cedcecf7180a",
   "metadata": {},
   "outputs": [
    {
     "data": {
      "text/plain": [
       "[1, 2]"
      ]
     },
     "execution_count": 1758,
     "metadata": {},
     "output_type": "execute_result"
    }
   ],
   "source": [
    "#time out\n",
    "def fairCandySwap(aliceSizes, bobSizes):\n",
    "    sum1, sum2 = sum(aliceSizes), sum(bobSizes)\n",
    "    for i in aliceSizes:\n",
    "        for j in bobSizes:\n",
    "            if sum2 - j + i == sum1 +j -i:\n",
    "                return [i ,j]\n",
    "\n",
    "aliceSizes = [1,1]\n",
    "bobSizes = [2,2]\n",
    "#aliceSizes = [1,2,5]\n",
    "#bobSizes = [2,4]\n",
    "aliceSizes = [1,2]\n",
    "bobSizes = [2,3]\n",
    "fairCandySwap(aliceSizes, bobSizes)"
   ]
  },
  {
   "cell_type": "code",
   "execution_count": 1760,
   "id": "945a5ead-0c89-4e51-a6ca-7ef8b4b1e32a",
   "metadata": {},
   "outputs": [
    {
     "data": {
      "text/plain": [
       "[1, 2]"
      ]
     },
     "execution_count": 1760,
     "metadata": {},
     "output_type": "execute_result"
    }
   ],
   "source": [
    "def fairCandySwap(aliceSizes, bobSizes):\n",
    "    sum1, sum2 = sum(aliceSizes), sum(bobSizes) # sum2 - j + i == sum1 +j -i --> i - j = (sum1 - sum2)/2\n",
    "    target = (sum1 - sum2) // 2\n",
    "\n",
    "    for i in aliceSizes:\n",
    "        if i - target in bobSizes:\n",
    "            return [i, i - target]\n",
    "\n",
    "\n",
    "aliceSizes = [1,1]\n",
    "bobSizes = [2,2]\n",
    "#aliceSizes = [1,2,5]\n",
    "#bobSizes = [2,4]\n",
    "aliceSizes = [1,2]\n",
    "bobSizes = [2,3]\n",
    "fairCandySwap(aliceSizes, bobSizes)"
   ]
  },
  {
   "cell_type": "code",
   "execution_count": null,
   "id": "123c6f23-d4c4-4b59-8b32-605bc3446ce7",
   "metadata": {},
   "outputs": [],
   "source": [
    "class Solution:\n",
    "    def fairCandySwap(self, aliceSizes: List[int], bobSizes: List[int]) -> List[int]:\n",
    "        sum1, sum2 = sum(aliceSizes), sum(bobSizes) # sum2 - j + i == sum1 +j -i --> i - j = (sum1 - sum2)/2\n",
    "        target = (sum1 - sum2) // 2\n",
    "    \n",
    "        for i in aliceSizes:\n",
    "            if i - target in bobSizes:\n",
    "                return [i, i - target]\n",
    "\n"
   ]
  },
  {
   "cell_type": "markdown",
   "id": "14161db4-4208-4d29-9ae5-52827b4f98b3",
   "metadata": {},
   "source": [
    "# 116 896. 单调数列\n",
    "\n",
    "https://leetcode.cn/problems/monotonic-array/description/"
   ]
  },
  {
   "cell_type": "code",
   "execution_count": 1772,
   "id": "29487a52-3e15-492c-84cb-e3f8ba75fb00",
   "metadata": {},
   "outputs": [
    {
     "data": {
      "text/plain": [
       "False"
      ]
     },
     "execution_count": 1772,
     "metadata": {},
     "output_type": "execute_result"
    }
   ],
   "source": [
    "def isMonotonic(nums):\n",
    "    return sorted(nums) == nums or sorted(nums, reverse=True) == nums\n",
    "\n",
    "nums = [1,2,2,3]\n",
    "nums = [1,3,2]\n",
    "#nums = [6,5,4,4]\n",
    "isMonotonic(nums)"
   ]
  },
  {
   "cell_type": "code",
   "execution_count": null,
   "id": "16a31101-a4a4-4ebb-9f64-817ac0fe6fec",
   "metadata": {},
   "outputs": [],
   "source": [
    "class Solution:\n",
    "    def isMonotonic(self, nums: List[int]) -> bool:"
   ]
  },
  {
   "cell_type": "markdown",
   "id": "6028a44f-7e68-43b4-b261-b14df6b19a59",
   "metadata": {},
   "source": [
    "# 117 905. 按奇偶排序数组\n",
    "https://leetcode.cn/problems/sort-array-by-parity/description/"
   ]
  },
  {
   "cell_type": "code",
   "execution_count": 1786,
   "id": "a44d13b1-f282-4535-8b9e-a32876821062",
   "metadata": {},
   "outputs": [
    {
     "data": {
      "text/plain": [
       "[0]"
      ]
     },
     "execution_count": 1786,
     "metadata": {},
     "output_type": "execute_result"
    }
   ],
   "source": [
    "def sortArrayByParity(nums):\n",
    "    s = map(lambda i: i % 2 == 0, nums)\n",
    "    res = []\n",
    "    for i, j in enumerate(s):\n",
    "        if j:\n",
    "            res.insert(0, nums[i])\n",
    "        else:\n",
    "            res.append(nums[i])\n",
    "    return res\n",
    "    \n",
    "nums = [3,1,2,4]\n",
    "nums = [0]\n",
    "sortArrayByParity(nums)"
   ]
  },
  {
   "cell_type": "code",
   "execution_count": null,
   "id": "ea697368-29ca-4e85-beb8-7b3e5e953a06",
   "metadata": {},
   "outputs": [],
   "source": [
    "class Solution:\n",
    "    def sortArrayByParity(self, nums: List[int]) -> List[int]:\n",
    "        s = map(lambda i: i % 2 == 0, nums)\n",
    "        res = []\n",
    "        for i, j in enumerate(s):\n",
    "            if j:\n",
    "                res.insert(0, nums[i])\n",
    "            else:\n",
    "                res.append(nums[i])\n",
    "        return res"
   ]
  },
  {
   "cell_type": "markdown",
   "id": "09f9008f-cb65-407d-923e-2dc41428cb74",
   "metadata": {},
   "source": [
    "# 118  908. 最小差值 I\n",
    "https://leetcode.cn/problems/smallest-range-i/description/"
   ]
  },
  {
   "cell_type": "markdown",
   "id": "808f6479-fe7f-4f1c-b5e5-f4ae1706b7cd",
   "metadata": {},
   "source": [
    "如果原来的最大差值为 d=max−min，若 d<=2∗k 时，答案为 0，否则答案为 d−2∗k"
   ]
  },
  {
   "cell_type": "code",
   "execution_count": 1790,
   "id": "bc3f0a9b-550d-4d48-adef-c9b210a548e2",
   "metadata": {},
   "outputs": [
    {
     "data": {
      "text/plain": [
       "0"
      ]
     },
     "execution_count": 1790,
     "metadata": {},
     "output_type": "execute_result"
    }
   ],
   "source": [
    "def smallestRangeI(nums, k):\n",
    "    d = max(nums) -min(nums)\n",
    "    if d <= 2 * k:\n",
    "        return 0\n",
    "    else:\n",
    "        return d - 2 * k\n",
    "\n",
    "nums = [0,10]\n",
    "k = 2\n",
    "nums = [1]\n",
    "k = 0\n",
    "nums = [1,3,6]\n",
    "k = 3\n",
    "smallestRangeI(nums, k)"
   ]
  },
  {
   "cell_type": "code",
   "execution_count": null,
   "id": "7981b993-f88a-4ea8-b8a1-805b13e16d79",
   "metadata": {},
   "outputs": [],
   "source": [
    "class Solution:\n",
    "    def smallestRangeI(self, nums: List[int], k: int) -> int:\n",
    "        d = max(nums) -min(nums)\n",
    "        if d <= 2 * k:\n",
    "            return 0\n",
    "        else:\n",
    "            return d - 2 * k"
   ]
  },
  {
   "cell_type": "markdown",
   "id": "ef4828b1-c5ef-4c22-b5f4-4e99fe3462e1",
   "metadata": {},
   "source": [
    "# 119 914. 卡牌分组\n",
    "\n",
    "https://leetcode.cn/problems/x-of-a-kind-in-a-deck-of-cards/description/"
   ]
  },
  {
   "cell_type": "code",
   "execution_count": 1838,
   "id": "a89e83d9-0ded-4c5c-9bb2-30c42df1590c",
   "metadata": {},
   "outputs": [
    {
     "data": {
      "text/plain": [
       "True"
      ]
     },
     "execution_count": 1838,
     "metadata": {},
     "output_type": "execute_result"
    }
   ],
   "source": [
    "from functools import reduce\n",
    "from math import gcd\n",
    "def hasGroupsSizeX(deck):\n",
    "    return reduce(gcd, Counter(deck).values()) > 1\n",
    "\n",
    "deck = [1,2,3,4,4,3,2,1]\n",
    "#deck = [1,1,1,2,2,2,3,3] #false\n",
    "deck = [1,1,1,2,2,2,3,3]\n",
    "deck =[1,2,3,4,4,3,2,1]  #true\n",
    "#deck =[1]\n",
    "#deck = [1,1,2,2,2,2]\n",
    "\n",
    "hasGroupsSizeX(deck)"
   ]
  },
  {
   "cell_type": "code",
   "execution_count": null,
   "id": "cf872102-bce8-4f86-92d4-1ebe7ba27a66",
   "metadata": {},
   "outputs": [],
   "source": [
    "from functools import reduce\n",
    "from math import gcd\n",
    "class Solution:\n",
    "    def hasGroupsSizeX(self, deck: List[int]) -> bool:\n",
    "        return reduce(gcd, Counter(deck).values()) > 1"
   ]
  },
  {
   "cell_type": "markdown",
   "id": "8a4747ff-b2df-4fdf-a1ed-782d93cbdc68",
   "metadata": {},
   "source": [
    "# 120 917. 仅仅反转字母\n",
    "https://leetcode.cn/problems/reverse-only-letters/description/"
   ]
  },
  {
   "cell_type": "code",
   "execution_count": 1847,
   "id": "e6248cb5-bb39-4270-8557-ff722ac3cd04",
   "metadata": {},
   "outputs": [
    {
     "name": "stdout",
     "output_type": "stream",
     "text": [
      "[45, 1, 3, 3]\n"
     ]
    }
   ],
   "source": [
    "a = [1,3, 3]\n",
    "a.insert(0, 45)\n",
    "print(a)"
   ]
  },
  {
   "cell_type": "code",
   "execution_count": null,
   "id": "59a851d5-24d9-4b83-be67-d9378f42ce95",
   "metadata": {},
   "outputs": [],
   "source": [
    "\"a\".isalpha"
   ]
  },
  {
   "cell_type": "code",
   "execution_count": 1852,
   "id": "23820951-e81c-4046-889e-f5ef84c18383",
   "metadata": {},
   "outputs": [
    {
     "data": {
      "text/plain": [
       "'Qedo1ct-eeLg=ntse-T!'"
      ]
     },
     "execution_count": 1852,
     "metadata": {},
     "output_type": "execute_result"
    }
   ],
   "source": [
    "def reverseOnlyLetters(s):\n",
    "    nonalpha = []\n",
    "    res = []\n",
    "    for i in range(len(s)):\n",
    "        if s[i].isalpha():\n",
    "            res.append(s[i])\n",
    "        else:\n",
    "            nonalpha.append([i, s[i]])\n",
    "    res = res[::-1]\n",
    "    for i in nonalpha:\n",
    "        res.insert(i[0], i[1])\n",
    "    return \"\".join(res)\n",
    "        \n",
    "        \n",
    "\n",
    "s = \"Test1ng-Leet=code-Q!\"\n",
    "reverseOnlyLetters(s)"
   ]
  },
  {
   "cell_type": "code",
   "execution_count": null,
   "id": "54429e39-50a5-4ae3-b8d0-9edb001da354",
   "metadata": {},
   "outputs": [],
   "source": [
    "class Solution:\n",
    "    def reverseOnlyLetters(self, s: str) -> str:\n",
    "        nonalpha = []\n",
    "        res = []\n",
    "        for i in range(len(s)):\n",
    "            if s[i].isalpha():\n",
    "                res.append(s[i])\n",
    "            else:\n",
    "                nonalpha.append([i, s[i]])\n",
    "        res = res[::-1]\n",
    "        for i in nonalpha:\n",
    "            res.insert(i[0], i[1])\n",
    "        return \"\".join(res)"
   ]
  },
  {
   "cell_type": "markdown",
   "id": "55241835-8676-466a-a9ab-5d46c150f4c0",
   "metadata": {},
   "source": [
    "# 121 922. 按奇偶排序数组 II\n",
    "\n",
    "https://leetcode.cn/problems/sort-array-by-parity-ii/description/"
   ]
  },
  {
   "cell_type": "code",
   "execution_count": 1857,
   "id": "8721fcc3-8ed9-4f2a-8666-b3651c7432c8",
   "metadata": {},
   "outputs": [
    {
     "data": {
      "text/plain": [
       "[2, 3]"
      ]
     },
     "execution_count": 1857,
     "metadata": {},
     "output_type": "execute_result"
    }
   ],
   "source": [
    "def sortArrayByParityII(nums):\n",
    "    res, s1, s2 = [], [], []\n",
    "    for i in nums:\n",
    "        if i%2 == 0:\n",
    "            s1.append(i)\n",
    "        else:\n",
    "            s2.append(i)\n",
    "    for i in range(len(s1)):\n",
    "        res.append(s1[i])\n",
    "        res.append(s2[i])\n",
    "        \n",
    "    return res\n",
    "\n",
    "\n",
    "nums = [4,2,5,7]\n",
    "nums = [2,3]\n",
    "\n",
    "sortArrayByParityII(nums)\n"
   ]
  },
  {
   "cell_type": "code",
   "execution_count": null,
   "id": "117c76a9-4bc4-440e-87bd-856c84f1820a",
   "metadata": {},
   "outputs": [],
   "source": [
    "class Solution:\n",
    "    def sortArrayByParityII(self, nums: List[int]) -> List[int]:\n",
    "        res, s1, s2 = [], [], []\n",
    "        for i in nums:\n",
    "            if i%2 == 0:\n",
    "                s1.append(i)\n",
    "            else:\n",
    "                s2.append(i)\n",
    "        for i in range(len(s1)):\n",
    "            res.append(s1[i])\n",
    "            res.append(s2[i])\n",
    "            \n",
    "        return res"
   ]
  },
  {
   "cell_type": "markdown",
   "id": "c01e9d2e-ec18-4369-8905-128607eac2f3",
   "metadata": {},
   "source": [
    "# 122 925. 长按键入\n",
    "https://leetcode.cn/problems/long-pressed-name/"
   ]
  },
  {
   "cell_type": "code",
   "execution_count": 1899,
   "id": "028d6a8d-d74f-4d20-b970-addd176acaa4",
   "metadata": {},
   "outputs": [
    {
     "data": {
      "text/plain": [
       "True"
      ]
     },
     "execution_count": 1899,
     "metadata": {},
     "output_type": "execute_result"
    }
   ],
   "source": [
    "def isLongPressedName(name, typed):\n",
    "    name = list(name)\n",
    "    last = name[-1]\n",
    "    leave = []\n",
    "    for i in typed:\n",
    "#        print(name, i, leave)\n",
    "        if not name:\n",
    "            leave.append(i)\n",
    "        elif i == name[0] :\n",
    "            name.pop(0)\n",
    "#    print(name, leave)\n",
    "    if name:\n",
    "        return False\n",
    "    else:\n",
    "        for i in leave:\n",
    "            if i != last:\n",
    "                return False\n",
    "        return True\n",
    "        \n",
    "name = \"alex\"\n",
    "typed = \"aaleex\"   #True\n",
    "#name = \"saeed\"\n",
    "#typed = \"ssaaedd\" #False\n",
    "#name = \"rick\"\n",
    "#typed = \"kric\"  #False\n",
    "#name = \"vtkgn\"\n",
    "#typed = \"vttkgnn\" #True\n",
    "#name = \"alex\"\n",
    "#typed = \"aaleexa\"  #False\n",
    "name =\"alex\"\n",
    "typed =  \"aaleelx\" #False\n",
    "\n",
    "isLongPressedName(name, typed)"
   ]
  },
  {
   "cell_type": "code",
   "execution_count": 1900,
   "id": "bac9a8c6-b029-4f19-81b5-4d0c547b95f1",
   "metadata": {},
   "outputs": [
    {
     "data": {
      "text/plain": [
       "False"
      ]
     },
     "execution_count": 1900,
     "metadata": {},
     "output_type": "execute_result"
    }
   ],
   "source": [
    "def isLongPressedName(name, typed):\n",
    "    left, right = 0, 0\n",
    "    while right < len(typed):\n",
    "        if left < len(name) and name [left] == typed[right]:\n",
    "            right += 1\n",
    "            left += 1\n",
    "        elif right > 0and typed[right] == name[left - 1]:\n",
    "            right += 1\n",
    "        else:\n",
    "            return False\n",
    "    return left == len(name)\n",
    "        \n",
    "name = \"alex\"\n",
    "typed = \"aaleex\"   #True\n",
    "#name = \"saeed\"\n",
    "#typed = \"ssaaedd\" #False\n",
    "#name = \"rick\"\n",
    "#typed = \"kric\"  #False\n",
    "#name = \"vtkgn\"\n",
    "#typed = \"vttkgnn\" #True\n",
    "#name = \"alex\"\n",
    "#typed = \"aaleexa\"  #False\n",
    "name =\"alex\"\n",
    "typed =  \"aaleelx\" #False\n",
    "\n",
    "isLongPressedName(name, typed)"
   ]
  },
  {
   "cell_type": "code",
   "execution_count": null,
   "id": "dec90d62-5320-4010-94d3-3c48ea719736",
   "metadata": {},
   "outputs": [],
   "source": [
    "class Solution:\n",
    "    def isLongPressedName(self, name: str, typed: str) -> bool:\n",
    "        left, right = 0, 0\n",
    "        while right < len(typed):\n",
    "            if left < len(name) and name [left] == typed[right]:\n",
    "                right += 1\n",
    "                left += 1\n",
    "            elif right > 0and typed[right] == name[left - 1]:\n",
    "                right += 1\n",
    "            else:\n",
    "                return False\n",
    "        return left == len(name)"
   ]
  },
  {
   "cell_type": "markdown",
   "id": "aa60d93d-4235-451c-81fc-8c267928553f",
   "metadata": {},
   "source": [
    "# 123 929. 独特的电子邮件地址\n",
    "\n",
    "https://leetcode.cn/problems/unique-email-addresses/description/"
   ]
  },
  {
   "cell_type": "code",
   "execution_count": 1910,
   "id": "58048e8d-0791-44d9-8ba7-deed693335e9",
   "metadata": {},
   "outputs": [
    {
     "data": {
      "text/plain": [
       "3"
      ]
     },
     "execution_count": 1910,
     "metadata": {},
     "output_type": "execute_result"
    }
   ],
   "source": [
    "def numUniqueEmails(emails):\n",
    "    for i in range(len(emails)):\n",
    "        s = emails[i].split(\"@\")\n",
    "        emails[i] = \"\".join(s[0].split(\"+\")[0].split(\".\")) + \"@\" + s[1]\n",
    "    return len(set(emails))\n",
    "\n",
    "emails = [\"test.email+alex@leetcode.com\",\"test.e.mail+bob.cathy@leetcode.com\",\"testemail+david@lee.tcode.com\"]\n",
    "emails = [\"a@leetcode.com\",\"b@leetcode.com\",\"c@leetcode.com\"]\n",
    "numUniqueEmails(emails)"
   ]
  },
  {
   "cell_type": "code",
   "execution_count": null,
   "id": "7491e7f1-3e7b-4537-8181-0334d6b11cc7",
   "metadata": {},
   "outputs": [],
   "source": [
    "class Solution:\n",
    "    def numUniqueEmails(self, emails: List[str]) -> int:\n",
    "        for i in range(len(emails)):\n",
    "            s = emails[i].split(\"@\")\n",
    "            emails[i] = \"\".join(s[0].split(\"+\")[0].split(\".\")) + \"@\" + s[1]\n",
    "        return len(set(emails))"
   ]
  },
  {
   "cell_type": "markdown",
   "id": "43f509cc-4ef4-4e16-8807-7186021615d1",
   "metadata": {},
   "source": [
    "# 124 941. 有效的山脉数组\n",
    "\n",
    "https://leetcode.cn/problems/valid-mountain-array/"
   ]
  },
  {
   "cell_type": "code",
   "execution_count": 21,
   "id": "c440de1a-2c6b-4712-ac88-1699863f6068",
   "metadata": {},
   "outputs": [
    {
     "data": {
      "text/plain": [
       "False"
      ]
     },
     "execution_count": 21,
     "metadata": {},
     "output_type": "execute_result"
    }
   ],
   "source": [
    "def validMountainArray(arr):\n",
    "    if len(arr) < 3:\n",
    "        return False\n",
    "    top = arr.index(max(arr))\n",
    "    if top == len(arr) -1 or top == 0:\n",
    "        return False\n",
    "    for i in range(1, top + 1):\n",
    "        if arr[i] <= arr[i - 1]:\n",
    "            return False\n",
    "    for i in range(top, len(arr) - 1):\n",
    "        if arr[i] <= arr[i + 1]:\n",
    "            return False\n",
    "    return True\n",
    "\n",
    "arr = [0,3,2,1]\n",
    "arr = [2,1]\n",
    "arr = [3,5,5]\n",
    "arr = [0,1,2,3,4,5,6,7,8,9]\n",
    "arr = [9,8,7,6,5,4,3,2,1,0]\n",
    "\n",
    "validMountainArray(arr)\n"
   ]
  },
  {
   "cell_type": "code",
   "execution_count": null,
   "id": "ace85d1c-960b-4e6f-b959-a7218f78015d",
   "metadata": {},
   "outputs": [],
   "source": [
    "class Solution:\n",
    "    def validMountainArray(self, arr: List[int]) -> bool:\n",
    "        if len(arr) < 3:\n",
    "            return False\n",
    "        top = arr.index(max(arr))\n",
    "        if top == len(arr) -1 or top == 0:\n",
    "            return False\n",
    "        for i in range(1, top + 1):\n",
    "            if arr[i] <= arr[i - 1]:\n",
    "                return False\n",
    "        for i in range(top, len(arr) - 1):\n",
    "            if arr[i] <= arr[i + 1]:\n",
    "                return False\n",
    "        return True"
   ]
  },
  {
   "cell_type": "markdown",
   "id": "91d87e7e-28af-44ab-8893-d0a006dd95a5",
   "metadata": {},
   "source": [
    "# 125 942. 增减字符串匹配\n",
    "\n",
    "https://leetcode.cn/problems/di-string-match/description/"
   ]
  },
  {
   "cell_type": "code",
   "execution_count": 27,
   "id": "05a768ce-df0e-4ce2-9c9a-6a63187230ec",
   "metadata": {},
   "outputs": [
    {
     "data": {
      "text/plain": [
       "[3, 2, 0, 1]"
      ]
     },
     "execution_count": 27,
     "metadata": {},
     "output_type": "execute_result"
    }
   ],
   "source": [
    "def diStringMatch(s):\n",
    "    left, right, res = 0, len(s), []\n",
    "    for i in s:\n",
    "        if i == \"I\":\n",
    "            res.append(left)\n",
    "            left += 1\n",
    "        else:\n",
    "            res.append(right)\n",
    "            right -= 1\n",
    "    res.append(right)\n",
    "    return res\n",
    "    \n",
    "\n",
    "s = \"IDID\"\n",
    "s = \"III\"\n",
    "s = \"DDI\"\n",
    "diStringMatch(s)"
   ]
  },
  {
   "cell_type": "code",
   "execution_count": null,
   "id": "95d4ddda-ba6b-4d94-a183-a3382ce1d94c",
   "metadata": {},
   "outputs": [],
   "source": [
    "class Solution:\n",
    "    def diStringMatch(self, s: str) -> List[int]:\n",
    "        left, right, res = 0, len(s), []\n",
    "        for i in s:\n",
    "            if i == \"I\":\n",
    "                res.append(left)\n",
    "                left += 1\n",
    "            else:\n",
    "                res.append(right)\n",
    "                right -= 1\n",
    "        res.append(right)\n",
    "        return res\n"
   ]
  },
  {
   "cell_type": "markdown",
   "id": "da537594-cb36-4881-99c8-54f4d34d1509",
   "metadata": {},
   "source": [
    "# 126 \n",
    "https://leetcode.cn/problems/delete-columns-to-make-sorted/description/"
   ]
  },
  {
   "cell_type": "code",
   "execution_count": 42,
   "id": "6408ca9f-5c6c-48e5-8a04-ed99ef06c48f",
   "metadata": {},
   "outputs": [
    {
     "data": {
      "text/plain": [
       "3"
      ]
     },
     "execution_count": 42,
     "metadata": {},
     "output_type": "execute_result"
    }
   ],
   "source": [
    "def minDeletionSize(strs):\n",
    "    res = 0\n",
    "    n = len(strs[0])\n",
    "    for i in range(n):\n",
    "        s = []\n",
    "        for j in range(len(strs)):\n",
    "            s.append(strs[j][i])\n",
    "        if s != sorted(s):\n",
    "            res += 1\n",
    "    return res\n",
    "    \n",
    "strs = [\"cba\",\"daf\",\"ghi\"]\n",
    "strs = [\"a\",\"b\"]\n",
    "strs = [\"zyx\",\"wvu\",\"tsr\"]\n",
    "minDeletionSize(strs)"
   ]
  },
  {
   "cell_type": "code",
   "execution_count": null,
   "id": "aa0419e9-8461-437d-b337-1d44353e1852",
   "metadata": {},
   "outputs": [],
   "source": [
    "class Solution:\n",
    "    def minDeletionSize(self, strs: List[str]) -> int:\n",
    "        res = 0\n",
    "        n = len(strs[0])\n",
    "        for i in range(n):\n",
    "            s = []\n",
    "            for j in range(len(strs)):\n",
    "                s.append(strs[j][i])\n",
    "            if s != sorted(s):\n",
    "                res += 1\n",
    "        return res\n",
    "        "
   ]
  },
  {
   "cell_type": "markdown",
   "id": "4d339ecb-55fd-4f96-a4df-c6bd4f79a655",
   "metadata": {},
   "source": [
    "# 127 961. 在长度 2N 的数组中找出重复 N 次的元素\n",
    "\n",
    "https://leetcode.cn/problems/n-repeated-element-in-size-2n-array/description/"
   ]
  },
  {
   "cell_type": "code",
   "execution_count": 55,
   "id": "3dcd5d40-6aff-4d34-a1e7-bf95a8a505d4",
   "metadata": {},
   "outputs": [
    {
     "data": {
      "text/plain": [
       "5"
      ]
     },
     "execution_count": 55,
     "metadata": {},
     "output_type": "execute_result"
    }
   ],
   "source": [
    "from collections import Counter\n",
    "def repeatedNTimes(nums):\n",
    "    n = len(nums) // 2\n",
    "    s = Counter(nums)\n",
    "    for i in s:\n",
    "        if s[i]== n:\n",
    "            return i\n",
    "\n",
    "nums = [1,2,3,3]\n",
    "nums = [2,1,2,5,3,2]\n",
    "nums = [5,1,5,2,5,3,5,4]\n",
    "repeatedNTimes(nums)"
   ]
  },
  {
   "cell_type": "code",
   "execution_count": null,
   "id": "7708b964-d094-4e93-964f-aaa505eb3de8",
   "metadata": {},
   "outputs": [],
   "source": [
    "class Solution:\n",
    "    def repeatedNTimes(self, nums: List[int]) -> int:\n",
    "        n = len(nums) // 2\n",
    "        s = Counter(nums)\n",
    "        for i in s:\n",
    "            if s[i]== n:\n",
    "                return i\n"
   ]
  },
  {
   "cell_type": "markdown",
   "id": "b472bbad-aa1f-44b0-b7e3-8b5be4dd2352",
   "metadata": {},
   "source": [
    "# 128  976. 三角形的最大周长\n",
    "https://leetcode.cn/problems/largest-perimeter-triangle/description/"
   ]
  },
  {
   "cell_type": "code",
   "execution_count": 65,
   "id": "a592d485-33aa-459e-9b98-b1e942ee8322",
   "metadata": {},
   "outputs": [
    {
     "data": {
      "text/plain": [
       "5"
      ]
     },
     "execution_count": 65,
     "metadata": {},
     "output_type": "execute_result"
    }
   ],
   "source": [
    "# timeout\n",
    "from itertools import combinations\n",
    "def largestPerimeter(nums):\n",
    "    s = combinations(nums, 3)\n",
    "    res = 0\n",
    "    for i in s:\n",
    "        a, b, c = i[0], i[1], i[2]\n",
    "        if a + b > c and a + c > b and b + c > a:\n",
    "            res = max(res, a + b + c)\n",
    "    return res\n",
    "\n",
    "nums = [2,1,2]\n",
    "#nums = [1,2,1,10]\n",
    "largestPerimeter(nums)"
   ]
  },
  {
   "cell_type": "code",
   "execution_count": 76,
   "id": "1159a9fa-2bb1-4ca3-a49c-8133a2da49ec",
   "metadata": {},
   "outputs": [
    {
     "data": {
      "text/plain": [
       "10"
      ]
     },
     "execution_count": 76,
     "metadata": {},
     "output_type": "execute_result"
    }
   ],
   "source": [
    "def largestPerimeter(nums):\n",
    "    nums.sort()\n",
    "    res = 0\n",
    "    i = len(nums) - 3\n",
    "    while i >= 0:\n",
    "        s = nums[i: i + 3]\n",
    "        i -= 1\n",
    "        if s[0] + s[1] > s[2] and s[0] + s[2] > s[1] and s[1] + s[2] > s[0]:\n",
    "            return sum(s)\n",
    "    return res\n",
    "            \n",
    "nums = [2,1,2]\n",
    "nums = [1,2,1,10]\n",
    "nums = [3,2,3,4]\n",
    "largestPerimeter(nums)"
   ]
  },
  {
   "cell_type": "code",
   "execution_count": null,
   "id": "432b91af-75fb-434c-ace7-b4354f8e9ce8",
   "metadata": {},
   "outputs": [],
   "source": [
    "class Solution:\n",
    "    def largestPerimeter(self, nums: List[int]) -> int:\n",
    "        nums.sort()\n",
    "        res = 0\n",
    "        i = len(nums) - 3\n",
    "        while i >= 0:\n",
    "            s = nums[i: i + 3]\n",
    "            i -= 1\n",
    "            if s[0] + s[1] > s[2] and s[0] + s[2] > s[1] and s[1] + s[2] > s[0]:\n",
    "                return sum(s)\n",
    "        return res\n",
    "                \n",
    "            "
   ]
  },
  {
   "cell_type": "markdown",
   "id": "9a57503d-fe63-43c0-a517-8c477b09af86",
   "metadata": {},
   "source": [
    "# 129 989. 数组形式的整数加法\n",
    "\n",
    "https://leetcode.cn/problems/add-to-array-form-of-integer/description/"
   ]
  },
  {
   "cell_type": "code",
   "execution_count": 87,
   "id": "9905b6bb-0456-4124-bf26-90a8a8c76eef",
   "metadata": {},
   "outputs": [
    {
     "data": {
      "text/plain": [
       "[1, 2, 3, 4]"
      ]
     },
     "execution_count": 87,
     "metadata": {},
     "output_type": "execute_result"
    }
   ],
   "source": [
    "def addToArrayForm(num, k):\n",
    "    s = [str(i) for i in num]\n",
    "    s = list(str(int(\"\".join(s)) + k))\n",
    "    s = [int(i) for i in s]\n",
    "    return s\n",
    "\n",
    "num = [1,2,0,0]\n",
    "k = 34\n",
    "addToArrayForm(num, k)"
   ]
  },
  {
   "cell_type": "code",
   "execution_count": 105,
   "id": "a4bc742e-143b-4d1e-9e4c-d4ce44a6e948",
   "metadata": {},
   "outputs": [
    {
     "ename": "SyntaxError",
     "evalue": "expected ':' (3604654528.py, line 15)",
     "output_type": "error",
     "traceback": [
      "\u001b[0;36m  Cell \u001b[0;32mIn[105], line 15\u001b[0;36m\u001b[0m\n\u001b[0;31m    if temp\u001b[0m\n\u001b[0m           ^\u001b[0m\n\u001b[0;31mSyntaxError\u001b[0m\u001b[0;31m:\u001b[0m expected ':'\n"
     ]
    }
   ],
   "source": [
    "def addToArrayForm(num, k):\n",
    "    s = list(str(k))\n",
    "    s = [int(i) for i in s]\n",
    "    i = 1\n",
    "    Plus = 0\n",
    "    while i <= len(s) and i <= len(num):\n",
    "        temp = num[-i] + s[-i]\n",
    "        if temp < 10:\n",
    "            num[-i] = temp + Plus\n",
    "            Plus = 0\n",
    "        else:\n",
    "            num[-i] = temp - 10 + Plus\n",
    "            Plus = 1\n",
    "        i += 1\n",
    "    if temp:\n",
    "        \n",
    "    return num        \n",
    "\n",
    "num = [1,2,0,0]\n",
    "k = 34\n",
    "num = [2,7,4]\n",
    "k = 181\n",
    "num = [2,1,5]\n",
    "k = 8003\n",
    "addToArrayForm(num, k)"
   ]
  },
  {
   "cell_type": "code",
   "execution_count": null,
   "id": "24f59cfb-3944-4104-85a5-e438addea154",
   "metadata": {},
   "outputs": [],
   "source": [
    "class Solution:\n",
    "    def addToArrayForm(self, num: List[int], k: int) -> List[int]:\n",
    "        s = [str(i) for i in num]\n",
    "        s = list(str(int(\"\".join(s)) + k))\n",
    "        s = [int(i) for i in s]\n",
    "        return s:"
   ]
  },
  {
   "cell_type": "code",
   "execution_count": null,
   "id": "e30353dc-47bc-40a3-8df1-aa556f10704c",
   "metadata": {},
   "outputs": [],
   "source": []
  },
  {
   "cell_type": "code",
   "execution_count": null,
   "id": "c30aeda2-76e4-422e-85b9-7480b7265084",
   "metadata": {},
   "outputs": [],
   "source": []
  },
  {
   "cell_type": "markdown",
   "id": "e386a68e-b1b7-4dc0-b7a3-8cacffec4e4b",
   "metadata": {
    "jp-MarkdownHeadingCollapsed": true
   },
   "source": [
    "# 953. 验证外星语词典\n",
    "\n",
    "https://leetcode.cn/problems/verifying-an-alien-dictionary/description/"
   ]
  },
  {
   "cell_type": "code",
   "execution_count": 45,
   "id": "692e4757-247b-4b66-aef0-3df874da5163",
   "metadata": {},
   "outputs": [],
   "source": [
    "def isAlienSorted(words, order):\n",
    "    pass\n",
    "\n",
    "words = [\"hello\",\"leetcode\"]\n",
    "order = \"hlabcdefgijkmnopqrstuvwxyz\"\n",
    "isAlienSorted(words, order)"
   ]
  },
  {
   "cell_type": "code",
   "execution_count": null,
   "id": "f8da1462-409c-43e1-9deb-5e00c08bdcab",
   "metadata": {},
   "outputs": [],
   "source": [
    "class Solution:\n",
    "    def isAlienSorted(self, words: List[str], order: str) -> bool:"
   ]
  },
  {
   "cell_type": "code",
   "execution_count": null,
   "id": "65902b02-115d-4e2b-ba9b-d1e322490a4f",
   "metadata": {},
   "outputs": [],
   "source": []
  }
 ],
 "metadata": {
  "kernelspec": {
   "display_name": "Python 3 (ipykernel)",
   "language": "python",
   "name": "python3"
  },
  "language_info": {
   "codemirror_mode": {
    "name": "ipython",
    "version": 3
   },
   "file_extension": ".py",
   "mimetype": "text/x-python",
   "name": "python",
   "nbconvert_exporter": "python",
   "pygments_lexer": "ipython3",
   "version": "3.10.6"
  }
 },
 "nbformat": 4,
 "nbformat_minor": 5
}
