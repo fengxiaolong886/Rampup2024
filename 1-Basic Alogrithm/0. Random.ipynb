{
 "cells": [
  {
   "cell_type": "markdown",
   "id": "c8fca0c4-c469-4b60-b896-07941397d9b2",
   "metadata": {
    "jp-MarkdownHeadingCollapsed": true
   },
   "source": [
    "# 1. 两数之和\n",
    "https://leetcode.cn/problems/two-sum/description/"
   ]
  },
  {
   "cell_type": "code",
   "execution_count": 6,
   "id": "b960b568-dc60-4bfa-a75a-df1b72727392",
   "metadata": {},
   "outputs": [
    {
     "data": {
      "text/plain": [
       "[0, 1]"
      ]
     },
     "execution_count": 6,
     "metadata": {},
     "output_type": "execute_result"
    }
   ],
   "source": [
    "def twoSum(nums, target):\n",
    "    n = len(nums)\n",
    "    for i in range(n):\n",
    "        for j in range(n):\n",
    "            if i != j and nums[i] + nums[j] == target:\n",
    "                return [i, j]\n",
    "nums = [2,7,11,15]\n",
    "target = 9\n",
    "twoSum(nums, target)"
   ]
  },
  {
   "cell_type": "code",
   "execution_count": null,
   "id": "a2eabb76-7174-45df-9293-2aac6b72e952",
   "metadata": {},
   "outputs": [],
   "source": [
    "class Solution:\n",
    "    def twoSum(self, nums: List[int], target: int) -> List[int]:\n",
    "        n = len(nums)\n",
    "        for i in range(n):\n",
    "            for j in range(n):\n",
    "                if i != j and nums[i] + nums[j] == target:\n",
    "                    return [i, j]"
   ]
  },
  {
   "cell_type": "markdown",
   "id": "d08a9d84-f3e3-44d4-afe7-887577421038",
   "metadata": {
    "jp-MarkdownHeadingCollapsed": true
   },
   "source": [
    "# 2. 9. 回文数\n",
    "https://leetcode.cn/problems/palindrome-number/description/"
   ]
  },
  {
   "cell_type": "code",
   "execution_count": 14,
   "id": "e6c70dfd-db53-4efe-aa6f-5d4f15330b49",
   "metadata": {},
   "outputs": [
    {
     "data": {
      "text/plain": [
       "True"
      ]
     },
     "execution_count": 14,
     "metadata": {},
     "output_type": "execute_result"
    }
   ],
   "source": [
    "def isPalindrome(x):\n",
    "    if x < 0:\n",
    "        return False\n",
    "    y = int(str(x)[::-1])\n",
    "    if x == y:\n",
    "        return True\n",
    "    else: \n",
    "        return False\n",
    "\n",
    "x = 121\n",
    "isPalindrome(x)"
   ]
  },
  {
   "cell_type": "code",
   "execution_count": null,
   "id": "0107459d-e00e-49e8-99fa-7713a15e621f",
   "metadata": {},
   "outputs": [],
   "source": [
    "class Solution:\n",
    "    def isPalindrome(self, x: int) -> bool:\n",
    "        if x < 0:\n",
    "            return False\n",
    "        y = int(str(x)[::-1])\n",
    "        if x == y:\n",
    "            return True\n",
    "        else: \n",
    "            return False"
   ]
  },
  {
   "cell_type": "markdown",
   "id": "a618c5f8-0925-4984-9a7b-45c57222059f",
   "metadata": {
    "jp-MarkdownHeadingCollapsed": true
   },
   "source": [
    "# 3   13. 罗马数字转整数\n",
    "https://leetcode.cn/problems/roman-to-integer/description/"
   ]
  },
  {
   "cell_type": "code",
   "execution_count": 35,
   "id": "2a3f042f-b5a3-4b83-a1f2-c18def4c86b9",
   "metadata": {},
   "outputs": [
    {
     "data": {
      "text/plain": [
       "1994"
      ]
     },
     "execution_count": 35,
     "metadata": {},
     "output_type": "execute_result"
    }
   ],
   "source": [
    "def romanToInt(s):\n",
    "    RomeDict = {\"I\":1, \"V\":5, \"X\":10, \"L\":50, \"C\":100, \"D\":500, \"M\":1000}\n",
    "    if len(s) == 1:\n",
    "        return RomeDict[s]\n",
    "    res = 0\n",
    "    i, n = 0, len(s)\n",
    "    while i < n:\n",
    "        if i != n-1 and RomeDict[s[i]] < RomeDict[s[i + 1]]:\n",
    "            res += RomeDict[s[i + 1]] - RomeDict[s[i]]\n",
    "            i += 2\n",
    "        else:\n",
    "            res += RomeDict[s[i]]\n",
    "            i += 1\n",
    "    return res  \n",
    "        \n",
    "#s = \"MCMXCIV\"\n",
    "#s = \"V\"\n",
    "s = \"MCMXCIV\"\n",
    "romanToInt(s)"
   ]
  },
  {
   "cell_type": "code",
   "execution_count": null,
   "id": "774e2ce2-1ed3-45c8-bd0d-54af2c796f5f",
   "metadata": {},
   "outputs": [],
   "source": [
    "class Solution:\n",
    "    def romanToInt(self, s: str) -> int:\n",
    "        RomeDict = {\"I\":1, \"V\":5, \"X\":10, \"L\":50, \"C\":100, \"D\":500, \"M\":1000}\n",
    "        if len(s) == 1:\n",
    "            return RomeDict[s]\n",
    "        res = 0\n",
    "        i, n = 0, len(s)\n",
    "        while i < n:\n",
    "            if i != n-1 and RomeDict[s[i]] < RomeDict[s[i + 1]]:\n",
    "                res += RomeDict[s[i + 1]] - RomeDict[s[i]]\n",
    "                i += 2\n",
    "            else:\n",
    "                res += RomeDict[s[i]]\n",
    "                i += 1\n",
    "        return res  "
   ]
  },
  {
   "cell_type": "markdown",
   "id": "f45e6b88-aa90-4370-8071-0dbc51e4014f",
   "metadata": {
    "jp-MarkdownHeadingCollapsed": true
   },
   "source": [
    "# 4 14. 最长公共前缀\n",
    "https://leetcode.cn/problems/longest-common-prefix/description/"
   ]
  },
  {
   "cell_type": "code",
   "execution_count": 55,
   "id": "3eda02ad-a548-4663-8476-e4fdcb061350",
   "metadata": {},
   "outputs": [
    {
     "data": {
      "text/plain": [
       "''"
      ]
     },
     "execution_count": 55,
     "metadata": {},
     "output_type": "execute_result"
    }
   ],
   "source": [
    "def longestCommonPrefix(strs):\n",
    "    sample = min(strs, key = len)\n",
    "    res = \"\"\n",
    "    for i in range(len(sample),0, -1):\n",
    "        flag = True\n",
    "        for j in strs:\n",
    "            if not j.startswith(sample[:i]):\n",
    "                flag  = False\n",
    "        if flag: \n",
    "            return sample[:i]\n",
    "    return res\n",
    "    \n",
    "#    res.startswith\n",
    "#    return res\n",
    "\n",
    "strs = [\"flower\",\"flow\",\"flight\"]\n",
    "strs = [\"dog\",\"racecar\",\"car\"]\n",
    "longestCommonPrefix(strs)"
   ]
  },
  {
   "cell_type": "code",
   "execution_count": null,
   "id": "dc367aec-686a-43d3-a024-58f7f49aa607",
   "metadata": {},
   "outputs": [],
   "source": [
    "class Solution:\n",
    "    def longestCommonPrefix(self, strs: List[str]) -> str:\n",
    "        sample = min(strs, key = len)\n",
    "        res = \"\"\n",
    "        for i in range(len(sample),0, -1):\n",
    "            flag = True\n",
    "            for j in strs:\n",
    "                if not j.startswith(sample[:i]):\n",
    "                    flag  = False\n",
    "            if flag: \n",
    "                return sample[:i]\n",
    "        return res"
   ]
  },
  {
   "cell_type": "markdown",
   "id": "8af0a8c4-7762-4ea2-aecf-07b769c03326",
   "metadata": {
    "jp-MarkdownHeadingCollapsed": true
   },
   "source": [
    "# 5. 20. 有效的括号\n",
    "https://leetcode.cn/problems/valid-parentheses/description/"
   ]
  },
  {
   "cell_type": "code",
   "execution_count": 62,
   "id": "9ef275a2-63b6-44b7-aeae-8338215b5100",
   "metadata": {},
   "outputs": [
    {
     "data": {
      "text/plain": [
       "[2, 3]"
      ]
     },
     "execution_count": 62,
     "metadata": {},
     "output_type": "execute_result"
    }
   ],
   "source": [
    "a = [1, 2,3]\n",
    "a.pop(0)\n",
    "a"
   ]
  },
  {
   "cell_type": "code",
   "execution_count": 76,
   "id": "3ecfcec8-e930-4121-a58b-ef894c42ae4c",
   "metadata": {},
   "outputs": [
    {
     "data": {
      "text/plain": [
       "False"
      ]
     },
     "execution_count": 76,
     "metadata": {},
     "output_type": "execute_result"
    }
   ],
   "source": [
    "def isValid(s):\n",
    "    d = {\")\":\"(\",\"]\":\"[\",\"}\":\"{\"}\n",
    "    res  = []\n",
    "    for i in s:\n",
    "        if res and i in d and res[-1] == d[i]:\n",
    "            res.pop()\n",
    "        else:\n",
    "            res.append(i)\n",
    "    return not res\n",
    "\n",
    "#s = \"()[]{}\"\n",
    "#s = \"(]\"\n",
    "#s = \"()\"\n",
    "s = \"([)]\"\n",
    "isValid(s)"
   ]
  },
  {
   "cell_type": "code",
   "execution_count": null,
   "id": "0ddbaab7-1e0c-43ff-8fd0-b19694f887ec",
   "metadata": {},
   "outputs": [],
   "source": [
    "class Solution:\n",
    "    def isValid(self, s: str) -> bool:\n",
    "        d = {\")\":\"(\",\"]\":\"[\",\"}\":\"{\"}\n",
    "        res  = []\n",
    "        for i in s:\n",
    "            if res and i in d and res[-1] == d[i]:\n",
    "                res.pop()\n",
    "            else:\n",
    "                res.append(i)\n",
    "        return not res"
   ]
  },
  {
   "cell_type": "markdown",
   "id": "c46403e2-63f7-4a38-8018-19c6202ab339",
   "metadata": {
    "jp-MarkdownHeadingCollapsed": true
   },
   "source": [
    "# 6 21. 合并两个有序链表\n",
    "https://leetcode.cn/problems/merge-two-sorted-lists/description/"
   ]
  },
  {
   "cell_type": "code",
   "execution_count": null,
   "id": "75dbe9a0-d411-4dba-9558-4bc67499c21c",
   "metadata": {},
   "outputs": [],
   "source": [
    "# Definition for singly-linked list.\n",
    "# class ListNode:\n",
    "#     def __init__(self, val=0, next=None):\n",
    "#         self.val = val\n",
    "#         self.next = next\n",
    "class Solution:\n",
    "    def mergeTwoLists(self, list1: Optional[ListNode], list2: Optional[ListNode]) -> Optional[ListNode]:\n",
    "        if list1 and list2:\n",
    "            if list1.val > list2.val:\n",
    "                list1, list2 = list2, list1\n",
    "            list1.next = self.mergeTwoLists(list1.next, list2)\n",
    "        return list1 or list2"
   ]
  },
  {
   "cell_type": "markdown",
   "id": "7b4cebc0-862d-4727-a873-a8733654e1e5",
   "metadata": {
    "jp-MarkdownHeadingCollapsed": true
   },
   "source": [
    "# 7 26 数组中的重复项\n",
    "https://leetcode.cn/problems/remove-duplicates-from-sorted-array/submissions/548594178/"
   ]
  },
  {
   "cell_type": "code",
   "execution_count": 78,
   "id": "cac11a27-4cc9-4520-b91e-8d112367d19e",
   "metadata": {},
   "outputs": [
    {
     "data": {
      "text/plain": [
       "5"
      ]
     },
     "execution_count": 78,
     "metadata": {},
     "output_type": "execute_result"
    }
   ],
   "source": [
    "def removeDuplicates(nums):\n",
    "    res = sorted(list(set(nums)))\n",
    "    for i in range(len(res)):\n",
    "        nums[i] = res[i]\n",
    "    return len(res)\n",
    "\n",
    "nums = [0,0,1,1,1,2,2,3,3,4]\n",
    "removeDuplicates(nums)"
   ]
  },
  {
   "cell_type": "code",
   "execution_count": null,
   "id": "2e4ce69e-509c-440d-9740-37d72613798b",
   "metadata": {},
   "outputs": [],
   "source": [
    "class Solution:\n",
    "    def removeDuplicates(self, nums: List[int]) -> int:\n",
    "        res = sorted(list(set(nums)))\n",
    "        for i in range(len(res)):\n",
    "            nums[i] = res[i]\n",
    "        return len(res)"
   ]
  },
  {
   "cell_type": "markdown",
   "id": "e9dc3502-eee7-4e84-ba90-eb487a965710",
   "metadata": {
    "jp-MarkdownHeadingCollapsed": true
   },
   "source": [
    "# 8 27. 移除元素\n",
    "https://leetcode.cn/problems/remove-element/description/"
   ]
  },
  {
   "cell_type": "code",
   "execution_count": 80,
   "id": "c71570eb-3f30-4a6a-af99-8da0b75a6f9d",
   "metadata": {},
   "outputs": [],
   "source": [
    "def removeElement(nums, val):\n",
    "    while val in nums:\n",
    "        nums.remove(val) \n",
    "\n",
    "nums = [0,1,2,2,3,0,4,2]\n",
    "val = 2\n",
    "removeElement(nums, val)"
   ]
  },
  {
   "cell_type": "code",
   "execution_count": null,
   "id": "732133e9-4cae-49aa-af18-f17277ec8c9a",
   "metadata": {},
   "outputs": [],
   "source": [
    "class Solution:\n",
    "    def removeElement(self, nums: List[int], val: int) -> int:\n"
   ]
  },
  {
   "cell_type": "markdown",
   "id": "554b2753-ff35-4632-a8b2-af1587465a18",
   "metadata": {
    "jp-MarkdownHeadingCollapsed": true
   },
   "source": [
    "# 9 28. 找出字符串中第一个匹配项的下标\n",
    "\n",
    "https://leetcode.cn/problems/find-the-index-of-the-first-occurrence-in-a-string/description/"
   ]
  },
  {
   "cell_type": "code",
   "execution_count": 92,
   "id": "3aaa870a-07ab-44fb-818d-9d3a77c56593",
   "metadata": {},
   "outputs": [
    {
     "name": "stdout",
     "output_type": "stream",
     "text": [
      "fgs sad\n",
      "gsa sad\n",
      "sad sad\n"
     ]
    },
    {
     "data": {
      "text/plain": [
       "2"
      ]
     },
     "execution_count": 92,
     "metadata": {},
     "output_type": "execute_result"
    }
   ],
   "source": [
    "def strStr(haystack, needle):\n",
    "    if needle not in haystack:\n",
    "        return -1\n",
    "    reslen = len(needle)\n",
    "    n =  len(haystack)\n",
    "    res = 0\n",
    "    for i in range(n):\n",
    "        if haystack[i: i + reslen] == needle:\n",
    "            res = i\n",
    "            break\n",
    "    return res\n",
    "        \n",
    "\n",
    "haystack = \"fgsadbutsad\"\n",
    "needle = \"sad\"\n",
    "#haystack = \"leetcode\"\n",
    "#needle = \"leeto\"\n",
    "strStr(haystack, needle)"
   ]
  },
  {
   "cell_type": "code",
   "execution_count": null,
   "id": "b7ab013d-b825-494a-9179-976ac37ebdf1",
   "metadata": {},
   "outputs": [],
   "source": [
    "class Solution:\n",
    "    def strStr(self, haystack: str, needle: str) -> int:\n",
    "        if needle not in haystack:\n",
    "            return -1\n",
    "        reslen = len(needle)\n",
    "        n =  len(haystack)\n",
    "        res = 0\n",
    "        for i in range(n):\n",
    "            if haystack[i: i + reslen] == needle:\n",
    "                res = i\n",
    "                break\n",
    "        return res"
   ]
  },
  {
   "cell_type": "markdown",
   "id": "a952837e-d849-4e75-9b2a-1837bc4171bb",
   "metadata": {
    "jp-MarkdownHeadingCollapsed": true
   },
   "source": [
    "# 10  35. 搜索插入位置\n",
    "https://leetcode.cn/problems/search-insert-position/description/"
   ]
  },
  {
   "cell_type": "code",
   "execution_count": 97,
   "id": "9b75524e-277b-4acc-af83-a596354cbe0d",
   "metadata": {},
   "outputs": [
    {
     "data": {
      "text/plain": [
       "4"
      ]
     },
     "execution_count": 97,
     "metadata": {},
     "output_type": "execute_result"
    }
   ],
   "source": [
    "def searchInsert(nums, target):\n",
    "    if target in nums:\n",
    "        return nums.index(target)\n",
    "\n",
    "    if target < nums[0]:\n",
    "        return 0\n",
    "\n",
    "    if target > nums[-1]:\n",
    "        return len(nums)\n",
    "\n",
    "    for i in range(1, len(nums)):\n",
    "        if nums[i-1] < target < nums[i]:\n",
    "            return i\n",
    "\n",
    "nums = [1,3,5,6]\n",
    "target = 7\n",
    "searchInsert(nums, target)"
   ]
  },
  {
   "cell_type": "code",
   "execution_count": null,
   "id": "56b80d7c-e373-472f-a61d-55810ec8ea8d",
   "metadata": {},
   "outputs": [],
   "source": [
    "class Solution:\n",
    "    def searchInsert(self, nums: List[int], target: int) -> int:\n",
    "        if target in nums:\n",
    "            return nums.index(target)\n",
    "    \n",
    "        if target < nums[0]:\n",
    "            return 0\n",
    "    \n",
    "        if target > nums[-1]:\n",
    "            return len(nums)\n",
    "    \n",
    "        for i in range(1, len(nums)):\n",
    "            if nums[i-1] < target < nums[i]:\n",
    "                return i"
   ]
  },
  {
   "cell_type": "markdown",
   "id": "e6e5a652-99cb-4af3-bba1-1d604c0c6a29",
   "metadata": {
    "jp-MarkdownHeadingCollapsed": true
   },
   "source": [
    "# 11 58. 最后一个单词的长度\n",
    "https://leetcode.cn/problems/length-of-last-word/description/"
   ]
  },
  {
   "cell_type": "code",
   "execution_count": 102,
   "id": "1313e176-a949-4ea5-9500-0336589a25ae",
   "metadata": {},
   "outputs": [
    {
     "data": {
      "text/plain": [
       "6"
      ]
     },
     "execution_count": 102,
     "metadata": {},
     "output_type": "execute_result"
    }
   ],
   "source": [
    "def lengthOfLastWord(s):\n",
    "    return len(s.split()[-1])\n",
    "\n",
    "s = \"luffy is still joyboy\"\n",
    "lengthOfLastWord(s)"
   ]
  },
  {
   "cell_type": "code",
   "execution_count": null,
   "id": "7540d2b3-3834-4f58-8428-ff764812bf38",
   "metadata": {},
   "outputs": [],
   "source": [
    "class Solution:\n",
    "    def lengthOfLastWord(self, s: str) -> int:\n",
    "        return len(s.split()[-1])"
   ]
  },
  {
   "cell_type": "markdown",
   "id": "7ab065bb-c280-49cd-92ba-be355ccd156b",
   "metadata": {
    "jp-MarkdownHeadingCollapsed": true
   },
   "source": [
    "# 12 66. 加一\n",
    "https://leetcode.cn/problems/plus-one/description/"
   ]
  },
  {
   "cell_type": "code",
   "execution_count": 112,
   "id": "82ac7d01-51a6-462a-aa38-c6da07c80322",
   "metadata": {},
   "outputs": [
    {
     "name": "stdout",
     "output_type": "stream",
     "text": [
      "[1, 2, 4]\n"
     ]
    }
   ],
   "source": [
    "def plusOne(digits):\n",
    "    s = \"\"\n",
    "    for i in digits:\n",
    "        s += str(i)\n",
    "    s = int(s) + 1\n",
    "    s = list(str(s))\n",
    "    for i in range(len(s)):\n",
    "        s[i] = int(s[i])\n",
    "    return s\n",
    "    \n",
    "digits = [1,2,3]\n",
    "plusOne(digits)"
   ]
  },
  {
   "cell_type": "code",
   "execution_count": null,
   "id": "f8fb7bf2-a22d-4e32-926c-8ea1cb0440f7",
   "metadata": {},
   "outputs": [],
   "source": [
    "class Solution:\n",
    "    def plusOne(self, digits: List[int]) -> List[int]:\n",
    "        s = \"\"\n",
    "        for i in digits:\n",
    "            s += str(i)\n",
    "        s = int(s) + 1\n",
    "        s = list(str(s))\n",
    "        for i in range(len(s)):\n",
    "            s[i] = int(s[i])\n",
    "        return s"
   ]
  },
  {
   "cell_type": "markdown",
   "id": "6d0ac35a-4c97-4ac5-bc34-74b39471dd5c",
   "metadata": {
    "jp-MarkdownHeadingCollapsed": true
   },
   "source": [
    "# 13. 67. 二进制求和\n",
    "https://leetcode.cn/problems/add-binary/description/"
   ]
  },
  {
   "cell_type": "code",
   "execution_count": 124,
   "id": "7d9c33bb-c047-49e9-8bb9-a041d95550f8",
   "metadata": {},
   "outputs": [
    {
     "data": {
      "text/plain": [
       "'10101'"
      ]
     },
     "execution_count": 124,
     "metadata": {},
     "output_type": "execute_result"
    }
   ],
   "source": [
    "def addBinary(a, b):\n",
    "    return str(bin(int(a, 2) + int(b, 2)))[2:]\n",
    "\n",
    "a = \"1010\"\n",
    "b = \"1011\"\n",
    "addBinary(a, b)"
   ]
  },
  {
   "cell_type": "code",
   "execution_count": null,
   "id": "cb5c2340-c605-4b1a-8e4e-7ff1ca4616c6",
   "metadata": {},
   "outputs": [],
   "source": [
    "class Solution:\n",
    "    def addBinary(self, a: str, b: str) -> str:\n",
    "        return str(bin(int(a, 2) + int(b, 2)))[2:]"
   ]
  },
  {
   "cell_type": "markdown",
   "id": "ee715db9-411c-4862-a0be-a4faab859e2e",
   "metadata": {
    "jp-MarkdownHeadingCollapsed": true
   },
   "source": [
    "# 14.  69. x 的平方根 \n",
    "https://leetcode.cn/problems/sqrtx/description/"
   ]
  },
  {
   "cell_type": "code",
   "execution_count": 128,
   "id": "acad27d1-59f3-40db-b940-ea061e99b66e",
   "metadata": {},
   "outputs": [
    {
     "data": {
      "text/plain": [
       "2"
      ]
     },
     "execution_count": 128,
     "metadata": {},
     "output_type": "execute_result"
    }
   ],
   "source": [
    "def mySqrt(x):\n",
    "    return int(x ** 0.5)\n",
    "x = 8\n",
    "mySqrt(x)"
   ]
  },
  {
   "cell_type": "code",
   "execution_count": null,
   "id": "0c140295-a82c-4cd8-87dd-fe4af3183138",
   "metadata": {},
   "outputs": [],
   "source": [
    "class Solution:\n",
    "    def mySqrt(self, x: int) -> int:\n",
    "        return int(x ** 0.5)"
   ]
  },
  {
   "cell_type": "markdown",
   "id": "fc5e3f83-6595-471a-9a76-6ac9840a2442",
   "metadata": {
    "jp-MarkdownHeadingCollapsed": true
   },
   "source": [
    "# 15 88. 合并两个有序数组\n",
    "https://leetcode.cn/problems/merge-sorted-array/description/"
   ]
  },
  {
   "cell_type": "code",
   "execution_count": 135,
   "id": "19972135-8b5a-42f4-b3ae-eda55168fca0",
   "metadata": {},
   "outputs": [
    {
     "data": {
      "text/plain": [
       "[1, 2, 2, 3, 5, 6]"
      ]
     },
     "execution_count": 135,
     "metadata": {},
     "output_type": "execute_result"
    }
   ],
   "source": [
    "def merge(nums1, m, nums2, n):\n",
    "    for i in range(n):\n",
    "        nums1[m + i] = nums2[i]\n",
    "    nums1.sort()\n",
    "    return nums1\n",
    "        \n",
    "\n",
    "nums1 = [1,2,3,0,0,0]\n",
    "m = 3\n",
    "nums2 = [2,5,6]\n",
    "n = 3\n",
    "\n",
    "merge(nums1, m, nums2, n)"
   ]
  },
  {
   "cell_type": "code",
   "execution_count": null,
   "id": "331417c6-9db1-4211-b5e8-62d5e57bc05b",
   "metadata": {},
   "outputs": [],
   "source": [
    "class Solution:\n",
    "    def merge(self, nums1: List[int], m: int, nums2: List[int], n: int) -> None:\n",
    "        \"\"\"\n",
    "        Do not return anything, modify nums1 in-place instead.\n",
    "        \"\"\"\n",
    "        for i in range(n):\n",
    "            nums1[m + i] = nums2[i]\n",
    "        nums1.sort()"
   ]
  },
  {
   "cell_type": "markdown",
   "id": "aa8fc678-3323-426d-8aca-714d9ee85e31",
   "metadata": {
    "jp-MarkdownHeadingCollapsed": true
   },
   "source": [
    "# 16 83. 删除排序链表中的重复元素\n",
    "https://leetcode.cn/problems/remove-duplicates-from-sorted-list/description/"
   ]
  },
  {
   "cell_type": "code",
   "execution_count": null,
   "id": "31cd12b2-3510-45a5-8e4f-dc74de4cb4b8",
   "metadata": {},
   "outputs": [],
   "source": [
    "# Definition for singly-linked list.\n",
    "# class ListNode:\n",
    "#     def __init__(self, val=0, next=None):\n",
    "#         self.val = val\n",
    "#         self.next = next\n",
    "class Solution:\n",
    "    def deleteDuplicates(self, head: Optional[ListNode]) -> Optional[ListNode]:\n",
    "        if not head or not head.next:\n",
    "            return head\n",
    "        cur = head\n",
    "        while cur and cur.next:\n",
    "            if cur.val == cur.next.val:\n",
    "                cur.next = cur.next.next\n",
    "            else:\n",
    "                cur = cur.next\n",
    "        return head"
   ]
  },
  {
   "cell_type": "markdown",
   "id": "72e12eab-6d8b-42a2-835f-a25f4cdadb7c",
   "metadata": {
    "jp-MarkdownHeadingCollapsed": true
   },
   "source": [
    "# 17. 168. Excel表列名称\n",
    "https://leetcode.cn/problems/excel-sheet-column-title/"
   ]
  },
  {
   "cell_type": "code",
   "execution_count": 177,
   "id": "07883cd7-6712-493b-8cef-eb3768d81b7a",
   "metadata": {},
   "outputs": [
    {
     "name": "stdout",
     "output_type": "stream",
     "text": [
      "1\n"
     ]
    },
    {
     "data": {
      "text/plain": [
       "'AB'"
      ]
     },
     "execution_count": 177,
     "metadata": {},
     "output_type": "execute_result"
    }
   ],
   "source": [
    "def convertToTitle(columnNumber):\n",
    "    res = []\n",
    "    s = \"ABCDEFGHIJKLMNOPQRSTUVWXYZ\"\n",
    "    if columnNumber <= 26:\n",
    "        return s[columnNumber - 1]\n",
    "    while columnNumber > 26:\n",
    "        res.append(columnNumber % 26)\n",
    "        columnNumber = columnNumber//26\n",
    "        print(columnNumber)\n",
    "        if columnNumber <= 26:\n",
    "            res.append(columnNumber)\n",
    "    res = res[::-1]\n",
    "    ans = \"\"\n",
    "    for i in res: \n",
    "        ans += s[i - 1]\n",
    "    return ans\n",
    "\n",
    "columnNumber =  28\n",
    "convertToTitle(columnNumber)"
   ]
  },
  {
   "cell_type": "code",
   "execution_count": 185,
   "id": "f8c5ba77-c140-4350-9306-60c520a16e4e",
   "metadata": {},
   "outputs": [
    {
     "data": {
      "text/plain": [
       "'ZY'"
      ]
     },
     "execution_count": 185,
     "metadata": {},
     "output_type": "execute_result"
    }
   ],
   "source": [
    "def convertToTitle(columnNumber):\n",
    "    s = \"\"\n",
    "    n = columnNumber\n",
    "    while n:\n",
    "        n -= 1\n",
    "        s = chr (65 + n%26) + s\n",
    "        n = n//26\n",
    "    return s\n",
    "\n",
    "columnNumber =  701\n",
    "convertToTitle(columnNumber)"
   ]
  },
  {
   "cell_type": "code",
   "execution_count": null,
   "id": "713b1559-7187-4f71-bb7b-c484a81a3250",
   "metadata": {},
   "outputs": [],
   "source": [
    "class Solution:\n",
    "    def convertToTitle(self, columnNumber: int) -> str:\n",
    "        s = \"\"\n",
    "        n = columnNumber\n",
    "        while n:\n",
    "            n -= 1\n",
    "            s = chr (65 + n%26) + s\n",
    "            n = n//26\n",
    "        return s\n"
   ]
  },
  {
   "cell_type": "markdown",
   "id": "caabb454-a5f6-4053-b3b6-01169d75e3e0",
   "metadata": {
    "jp-MarkdownHeadingCollapsed": true
   },
   "source": [
    "# 18  169. 多数元素\n",
    "https://leetcode.cn/problems/majority-element/description/"
   ]
  },
  {
   "cell_type": "code",
   "execution_count": 193,
   "id": "c8d15938-a26c-4c60-81b7-0c7910268881",
   "metadata": {},
   "outputs": [
    {
     "data": {
      "text/plain": [
       "3"
      ]
     },
     "execution_count": 193,
     "metadata": {},
     "output_type": "execute_result"
    }
   ],
   "source": [
    "from collections import Counter\n",
    "def majorityElement(nums):\n",
    "    n = len(nums) / 2\n",
    "    res = Counter(nums)\n",
    "    for i in res:\n",
    "        if res[i] > n:\n",
    "            return i\n",
    "\n",
    "nums = [3,2,3]\n",
    "majorityElement(nums)"
   ]
  },
  {
   "cell_type": "code",
   "execution_count": null,
   "id": "dca67d15-9b78-4e55-95c5-cb01a00a91e0",
   "metadata": {},
   "outputs": [],
   "source": [
    "from collections import Counter\n",
    "class Solution:\n",
    "    def majorityElement(self, nums: List[int]) -> int:\n",
    "        n = len(nums) / 2\n",
    "        res = Counter(nums)\n",
    "        for i in res:\n",
    "            if res[i] > n:\n",
    "                return i"
   ]
  },
  {
   "cell_type": "markdown",
   "id": "a12eb774-f633-4543-90cf-919f1c5e63d8",
   "metadata": {
    "jp-MarkdownHeadingCollapsed": true
   },
   "source": [
    "# 19 171. Excel 表列序号\n",
    "https://leetcode.cn/problems/excel-sheet-column-number/description/"
   ]
  },
  {
   "cell_type": "code",
   "execution_count": 226,
   "id": "f1aee753-5fc9-4ab8-a2c9-e9c590dae88a",
   "metadata": {},
   "outputs": [
    {
     "data": {
      "text/plain": [
       "701"
      ]
     },
     "execution_count": 226,
     "metadata": {},
     "output_type": "execute_result"
    }
   ],
   "source": [
    "def titleToNumber(columnTitle):\n",
    "    res = 0\n",
    "    for i in columnTitle:\n",
    "        res = res * 26 +ord(i) - 64\n",
    "    return res\n",
    "\n",
    "columnTitle = \"ZY\"\n",
    "titleToNumber(columnTitle)"
   ]
  },
  {
   "cell_type": "code",
   "execution_count": null,
   "id": "0483b7b3-56e1-4331-8f22-81e8479afddb",
   "metadata": {},
   "outputs": [],
   "source": [
    "class Solution:\n",
    "    def titleToNumber(self, columnTitle: str) -> int:\n",
    "        res = 0\n",
    "        for i in columnTitle:\n",
    "            res = res * 26 +ord(i) - 64\n",
    "        return res"
   ]
  },
  {
   "cell_type": "markdown",
   "id": "e466d760-e16e-4820-8f1f-36328dfe92a2",
   "metadata": {
    "jp-MarkdownHeadingCollapsed": true
   },
   "source": [
    "# 20 190. 颠倒二进制位\n",
    "https://leetcode.cn/problems/reverse-bits/description/"
   ]
  },
  {
   "cell_type": "code",
   "execution_count": 244,
   "id": "e9b01c48-6fd6-46e6-a4d7-71865c81dff7",
   "metadata": {},
   "outputs": [
    {
     "ename": "SyntaxError",
     "evalue": "leading zeros in decimal integer literals are not permitted; use an 0o prefix for octal integers (1280380738.py, line 7)",
     "output_type": "error",
     "traceback": [
      "\u001b[0;36m  Cell \u001b[0;32mIn[244], line 7\u001b[0;36m\u001b[0m\n\u001b[0;31m    n = 00000010100101000001111010011100\u001b[0m\n\u001b[0m        ^\u001b[0m\n\u001b[0;31mSyntaxError\u001b[0m\u001b[0;31m:\u001b[0m leading zeros in decimal integer literals are not permitted; use an 0o prefix for octal integers\n"
     ]
    }
   ],
   "source": [
    "def reverseBits(n):\n",
    "    x = str(n)\n",
    "    x = x[::-1]\n",
    "    res = int(x, 2)\n",
    "    return res\n",
    "\n",
    "n = 00000010100101000001111010011100\n",
    "#n = \"00000010100101000001111010011100\"\n",
    "reverseBits(n)"
   ]
  },
  {
   "cell_type": "code",
   "execution_count": null,
   "id": "3c455a6b-728a-44a5-b2cd-5549ffb8def1",
   "metadata": {},
   "outputs": [],
   "source": [
    "class Solution:\n",
    "    def reverseBits(self, n: int) -> int:\n",
    "        x = str(n)\n",
    "        x = x[::-1]\n",
    "        res = int(x, 2)\n",
    "        return res\n",
    "            "
   ]
  },
  {
   "cell_type": "markdown",
   "id": "7d5100c5-d1c8-49b2-ac8a-041e08ffed48",
   "metadata": {
    "jp-MarkdownHeadingCollapsed": true
   },
   "source": [
    "# 21 191. 位1的个数\n",
    "https://leetcode.cn/problems/number-of-1-bits/description/"
   ]
  },
  {
   "cell_type": "code",
   "execution_count": 260,
   "id": "6ed6a36d-58ce-44a5-8844-6af3f095d397",
   "metadata": {},
   "outputs": [
    {
     "data": {
      "text/plain": [
       "3"
      ]
     },
     "execution_count": 260,
     "metadata": {},
     "output_type": "execute_result"
    }
   ],
   "source": [
    "from collections import Counter\n",
    "def hammingWeight(n):\n",
    "    res = bin(n)\n",
    "    x = Counter(res)\n",
    "    return x[\"1\"]\n",
    "    \n",
    "n = 2147483645\n",
    "n = 128\n",
    "n = 11\n",
    "hammingWeight(n)"
   ]
  },
  {
   "cell_type": "code",
   "execution_count": null,
   "id": "0616501b-bc4a-4cae-87f6-5700e4663815",
   "metadata": {},
   "outputs": [],
   "source": [
    "from collections import Counter\n",
    "class Solution:\n",
    "    def hammingWeight(self, n: int) -> int:\n",
    "        res = bin(n)\n",
    "        x = Counter(res)\n",
    "        return x[\"1\"]"
   ]
  },
  {
   "cell_type": "markdown",
   "id": "f1371a9f-f59d-45d0-8320-c7629928dd4f",
   "metadata": {
    "jp-MarkdownHeadingCollapsed": true
   },
   "source": [
    "# 22 202. 快乐数\n",
    "https://leetcode.cn/problems/happy-number/description/"
   ]
  },
  {
   "cell_type": "code",
   "execution_count": 289,
   "id": "18ae8a15-d274-49dc-9dc6-527af7f9b631",
   "metadata": {},
   "outputs": [
    {
     "data": {
      "text/plain": [
       "False"
      ]
     },
     "execution_count": 289,
     "metadata": {},
     "output_type": "execute_result"
    }
   ],
   "source": [
    "def isHappy(n):\n",
    "    s = set()\n",
    "    while n != 1 and n not in s:\n",
    "        s.add(n)\n",
    "        n = squaresum(n)\n",
    "\n",
    "    return n == 1\n",
    "\n",
    "def squaresum(n):\n",
    "    sums = 0\n",
    "    while n > 0:\n",
    "        a, b = divmod(n, 10)\n",
    "        sums += b * b\n",
    "        n  = n // 10\n",
    "    return sums\n",
    "        \n",
    "\n",
    "n = 2\n",
    "#squaresum(n)\n",
    "isHappy(n)"
   ]
  },
  {
   "cell_type": "code",
   "execution_count": null,
   "id": "3eab4867-6b10-4e48-9572-7584b0909039",
   "metadata": {},
   "outputs": [],
   "source": [
    "class Solution:\n",
    "    def isHappy(self, n: int) -> bool:\n",
    "        s = set()\n",
    "        while n != 1 and n not in s:\n",
    "            s.add(n)\n",
    "            n = self.squaresum(n)\n",
    "    \n",
    "        return n == 1\n",
    "\n",
    "    def squaresum(self, n):\n",
    "        sums = 0\n",
    "        while n > 0:\n",
    "            a, b = divmod(n, 10)\n",
    "            sums += b * b\n",
    "            n  = n // 10\n",
    "        return sums"
   ]
  },
  {
   "cell_type": "markdown",
   "id": "b0527b38-c8c6-43e5-8b52-ae8863a4671e",
   "metadata": {
    "jp-MarkdownHeadingCollapsed": true
   },
   "source": [
    "# 23 205. 同构字符串\n",
    "https://leetcode.cn/problems/isomorphic-strings/description/"
   ]
  },
  {
   "cell_type": "code",
   "execution_count": 325,
   "id": "c68a2c2d-e846-454f-888d-8dccabe8166f",
   "metadata": {},
   "outputs": [
    {
     "data": {
      "text/plain": [
       "False"
      ]
     },
     "execution_count": 325,
     "metadata": {},
     "output_type": "execute_result"
    }
   ],
   "source": [
    "def isIsomorphic(s, t):\n",
    "    res1 = dict(zip(s, t))\n",
    "    res = dict(zip(t, s))\n",
    "    if len(res.keys() ) != len(res1.keys()):\n",
    "        return False                                      \n",
    "    t_modify = \"\"\n",
    "    for i in range(len(t)):\n",
    "        if t[i] in res.keys():\n",
    "            t_modify += res[t[i]]\n",
    "        else: \n",
    "            return False\n",
    "    return t_modify == s\n",
    "        \n",
    "    \n",
    "s = \"bbbaaaba\"\n",
    "t = \"aaabbbba\"\n",
    "#s = \"paper\"\n",
    "#t = \"title\"\n",
    "#s = \"egg\"\n",
    "#t = \"add\"\n",
    "#s = \"foo\"\n",
    "#t = \"bar\"\n",
    "isIsomorphic(s, t)"
   ]
  },
  {
   "cell_type": "code",
   "execution_count": null,
   "id": "d4af050d-6c7c-4e0e-a944-23941ec8adea",
   "metadata": {},
   "outputs": [],
   "source": [
    "class Solution:\n",
    "    def isIsomorphic(self, s: str, t: str) -> bool:\n",
    "        res1 = dict(zip(s, t))\n",
    "        res = dict(zip(t, s))\n",
    "        if len(res.keys() ) != len(res1.keys()):\n",
    "            return False                                      \n",
    "        t_modify = \"\"\n",
    "        for i in range(len(t)):\n",
    "            if t[i] in res.keys():\n",
    "                t_modify += res[t[i]]\n",
    "            else: \n",
    "                return False\n",
    "        return t_modify == s\n",
    "            "
   ]
  },
  {
   "cell_type": "markdown",
   "id": "4740cd8d-ad3f-47bb-925c-ce68e039001d",
   "metadata": {
    "jp-MarkdownHeadingCollapsed": true
   },
   "source": [
    "# 24  219. 存在重复元素 II \n",
    "https://leetcode.cn/problems/contains-duplicate-ii/description/"
   ]
  },
  {
   "cell_type": "code",
   "execution_count": 343,
   "id": "bff393dc-569c-4bc1-8774-61604fc8c604",
   "metadata": {},
   "outputs": [
    {
     "data": {
      "text/plain": [
       "True"
      ]
     },
     "execution_count": 343,
     "metadata": {},
     "output_type": "execute_result"
    }
   ],
   "source": [
    "## 有问题\n",
    "def containsNearbyDuplicate(nums, k):\n",
    "    res = False\n",
    "    if len(nums) < k:\n",
    "        return False\n",
    "    fast, slow = 0, 0\n",
    "    for slow in range(len(nums)):\n",
    "        for fast in range(1, len(nums)):\n",
    "            if fast - slow <= k and nums[slow] == nums[fast]:\n",
    "                return True\n",
    "    return res\n",
    "            \n",
    "#nums = [1,2,3,1,2,3]\n",
    "#k = 2\n",
    "#nums = [1,0,1,1]\n",
    "#k = 1\n",
    "#nums = [1,2,3,1]\n",
    "#k = 3\n",
    "#nums = [-1,-1]\n",
    "#k = 1\n",
    "nums = [99,99]\n",
    "k = 2\n",
    "nums = [1,2,3,1,2,3]\n",
    "k = 2\n",
    "containsNearbyDuplicate(nums, k)"
   ]
  },
  {
   "cell_type": "code",
   "execution_count": 363,
   "id": "385c30fe-d163-4136-881a-07d74726366f",
   "metadata": {},
   "outputs": [
    {
     "name": "stdout",
     "output_type": "stream",
     "text": [
      "0 3 1 1\n"
     ]
    },
    {
     "data": {
      "text/plain": [
       "True"
      ]
     },
     "execution_count": 363,
     "metadata": {},
     "output_type": "execute_result"
    }
   ],
   "source": [
    "# Timeout\n",
    "def containsNearbyDuplicate(nums, k):\n",
    "    n = len(nums)\n",
    "    for i in range(n - 1):\n",
    "        for j in range(i + 1, n):\n",
    "            if nums[i] == nums[j] and abs(i - j) <= k:\n",
    "                return True\n",
    "    return False\n",
    "            \n",
    "#nums = [1,2,3,1,2,3]\n",
    "#k = 2\n",
    "#nums = [1,0,1,1]\n",
    "#k = 1\n",
    "nums = [1,2,3,1]\n",
    "k = 3\n",
    "#nums = [-1,-1]\n",
    "#k = 1\n",
    "#nums = [99,99]\n",
    "#k = 2\n",
    "#nums = [1,2,3,1,2,3]\n",
    "#k = 2\n",
    "containsNearbyDuplicate(nums, k)"
   ]
  },
  {
   "cell_type": "code",
   "execution_count": 393,
   "id": "cc8059b9-d7d1-4eca-8c34-f2e1b75652cd",
   "metadata": {},
   "outputs": [
    {
     "data": {
      "text/plain": [
       "True"
      ]
     },
     "execution_count": 393,
     "metadata": {},
     "output_type": "execute_result"
    }
   ],
   "source": [
    "#Optimization\n",
    "def containsNearbyDuplicate(nums, k):\n",
    "    left = 0\n",
    "    ans = False\n",
    "    s = set()\n",
    "    for right, x in enumerate(nums):\n",
    "        if right - left > k:\n",
    "            s.remove(nums[left])\n",
    "            left += 1\n",
    "        if x in s:\n",
    "            return True\n",
    "        s.add(x)\n",
    "    return False\n",
    "            \n",
    "#nums = [1,2,3,1,2,3]\n",
    "#k = 2\n",
    "#nums = [1,0,1,1]\n",
    "#k = 1\n",
    "nums = [1,2,3,1]\n",
    "k = 3\n",
    "#nums = [-1,-1]\n",
    "#k = 1\n",
    "\n",
    "# estimate true\n",
    "#nums = [99,99]\n",
    "#k = 2\n",
    "#nums = [1,2,3,1,2,3]\n",
    "#k = 2\n",
    "containsNearbyDuplicate(nums, k)"
   ]
  },
  {
   "cell_type": "code",
   "execution_count": null,
   "id": "11559712-09a6-43c6-ac1a-b8249f55c6b6",
   "metadata": {},
   "outputs": [],
   "source": [
    "class Solution:\n",
    "    def containsNearbyDuplicate(self, nums: List[int], k: int) -> bool:\n",
    "        left = 0\n",
    "        ans = False\n",
    "        s = set()\n",
    "        for right, x in enumerate(nums):\n",
    "            if right - left > k:\n",
    "                s.remove(nums[left])\n",
    "                left += 1\n",
    "            if x in s:\n",
    "                return True\n",
    "            s.add(x)\n",
    "        return False"
   ]
  },
  {
   "cell_type": "markdown",
   "id": "4c1ee193-052d-4c15-a2ee-730d6f91262d",
   "metadata": {
    "jp-MarkdownHeadingCollapsed": true
   },
   "source": [
    "# 25 228. 汇总区间\n",
    "https://leetcode.cn/problems/summary-ranges/description/"
   ]
  },
  {
   "cell_type": "code",
   "execution_count": 413,
   "id": "32e79776-58c2-4fe4-85ff-c9b58eab984c",
   "metadata": {},
   "outputs": [
    {
     "data": {
      "text/plain": [
       "[[0, 2], [4, 5]]"
      ]
     },
     "execution_count": 413,
     "metadata": {},
     "output_type": "execute_result"
    }
   ],
   "source": [
    "def summaryRanges(nums):\n",
    "    temp = []\n",
    "    res = []\n",
    "    n = len(nums)\n",
    "    if n == 0:\n",
    "        return nums\n",
    "    if n == 1:\n",
    "        res.append(str(nums[0]))\n",
    "        return res\n",
    "    i = 0\n",
    "    for i in range(n):\n",
    "        if not temp:\n",
    "            temp.append(nums[i])\n",
    "            if i == n - 1:\n",
    "                res.append([temp[0], temp[0]])\n",
    "        else:\n",
    "            if nums[i] == temp[-1] + 1:\n",
    "                temp.append(nums[i])\n",
    "                if i == n - 1:\n",
    "                    res.append([temp[0], temp[-1]])\n",
    "            else:\n",
    "                res.append([temp[0], temp[-1]])\n",
    "                temp = []\n",
    "                temp.append(nums[i])\n",
    "    return res\n",
    "\n",
    "#nums = [0,2,3,4,6,8,9]\n",
    "nums = [0,1,2,4,5,7]\n",
    "summaryRanges(nums)"
   ]
  },
  {
   "cell_type": "code",
   "execution_count": 426,
   "id": "03370099-0c2f-4bc4-8ca1-0fcc6c6d79f3",
   "metadata": {},
   "outputs": [
    {
     "data": {
      "text/plain": [
       "['0', '2->4', '6', '8->9']"
      ]
     },
     "execution_count": 426,
     "metadata": {},
     "output_type": "execute_result"
    }
   ],
   "source": [
    "def summaryRanges(nums):\n",
    "    ans = []\n",
    "    n = len(nums)\n",
    "    i = 0\n",
    "    while i < n:\n",
    "        j = i\n",
    "        while j + 1 < n and nums[j + 1] == nums[j] + 1:\n",
    "            j += 1\n",
    "        ans.append([nums[i], nums[j]])\n",
    "        i = j + 1\n",
    "    res = []\n",
    "    for i in ans:\n",
    "        if i[0] == i[1]:\n",
    "            res.append(str(i[0]))\n",
    "        else: \n",
    "            res.append(\"%s->%s\"%(i[0], i[1]))\n",
    "    return res\n",
    "    \n",
    "nums = [0,2,3,4,6,8,9]\n",
    "#nums = [0,1,2,4,5,7]\n",
    "summaryRanges(nums)"
   ]
  },
  {
   "cell_type": "code",
   "execution_count": null,
   "id": "b8d92786-f56c-48ec-ba96-e18e991e1b9b",
   "metadata": {},
   "outputs": [],
   "source": [
    "class Solution:\n",
    "    def summaryRanges(self, nums: List[int]) -> List[str]:\n",
    "        ans = []\n",
    "        n = len(nums)\n",
    "        i = 0\n",
    "        while i < n:\n",
    "            j = i\n",
    "            while j + 1 < n and nums[j + 1] == nums[j] + 1:\n",
    "                j += 1\n",
    "            ans.append([nums[i], nums[j]])\n",
    "            i = j + 1\n",
    "        res = []\n",
    "        for i in ans:\n",
    "            if i[0] == i[1]:\n",
    "                res.append(str(i[0]))\n",
    "            else: \n",
    "                res.append(\"%s->%s\"%(i[0], i[1]))\n",
    "        return res\n",
    "        "
   ]
  },
  {
   "cell_type": "markdown",
   "id": "b4b33223-1127-4f34-820b-3a17c090e6f5",
   "metadata": {
    "jp-MarkdownHeadingCollapsed": true
   },
   "source": [
    "# 26 231. 2 的幂\n",
    "https://leetcode.cn/problems/power-of-two/description/"
   ]
  },
  {
   "cell_type": "code",
   "execution_count": 356,
   "id": "8e89b7e5-92d0-4eca-9368-1bd1d15a3de0",
   "metadata": {},
   "outputs": [
    {
     "data": {
      "text/plain": [
       "False"
      ]
     },
     "execution_count": 356,
     "metadata": {},
     "output_type": "execute_result"
    }
   ],
   "source": [
    "def isPowerOfTwo(n):\n",
    "    if n == 1:\n",
    "        return True\n",
    "    while n >= 2:\n",
    "        if n == 2:\n",
    "            return True\n",
    "        n = n / 2\n",
    "    return False\n",
    "\n",
    "n = 3\n",
    "isPowerOfTwo(n)"
   ]
  },
  {
   "cell_type": "code",
   "execution_count": null,
   "id": "917f6801-ba7e-4bcf-bee0-743433d100a1",
   "metadata": {},
   "outputs": [],
   "source": [
    "class Solution:\n",
    "    def isPowerOfTwo(self, n: int) -> bool:\n",
    "        if n == 1:\n",
    "            return True\n",
    "        while n >= 2:\n",
    "            if n == 2:\n",
    "                return True\n",
    "            n = n / 2\n",
    "        return False"
   ]
  },
  {
   "cell_type": "markdown",
   "id": "adb09bf4-313f-4ca2-9003-1a69b1c78602",
   "metadata": {
    "jp-MarkdownHeadingCollapsed": true
   },
   "source": [
    "# 27 242. 有效的字母异位词\n",
    "https://leetcode.cn/problems/valid-anagram/description/"
   ]
  },
  {
   "cell_type": "code",
   "execution_count": 432,
   "id": "bbc29731-6420-468b-a8c6-28b11483951a",
   "metadata": {},
   "outputs": [
    {
     "data": {
      "text/plain": [
       "False"
      ]
     },
     "execution_count": 432,
     "metadata": {},
     "output_type": "execute_result"
    }
   ],
   "source": [
    "from collections import Counter\n",
    "def isAnagram(s, t):\n",
    "    dict_s = Counter(s)\n",
    "    dict_t = Counter(t)\n",
    "    for i in dict_s:\n",
    "        if dict_t[i] != dict_s[i]:\n",
    "            return False\n",
    "    for i in dict_t:\n",
    "        if dict_s[i] != dict_t[i]:\n",
    "            return False\n",
    "    return True\n",
    "\n",
    "s = \"anagram\"\n",
    "t = \"nagaram\"\n",
    "s = \"rat\"\n",
    "t = \"car\"\n",
    "s = \"a\"\n",
    "t = \"ab\"\n",
    "isAnagram(s, t)"
   ]
  },
  {
   "cell_type": "code",
   "execution_count": null,
   "id": "af7e2ef0-02ff-4196-9215-16f7526517bc",
   "metadata": {},
   "outputs": [],
   "source": [
    "from collections import Counter\n",
    "class Solution:\n",
    "    def isAnagram(self, s: str, t: str) -> bool:\n",
    "        dict_s = Counter(s)\n",
    "        dict_t = Counter(t)\n",
    "        for i in dict_s:\n",
    "            if dict_t[i] != dict_s[i]:\n",
    "                return False\n",
    "        for i in dict_t:\n",
    "            if dict_s[i] != dict_t[i]:\n",
    "                return False\n",
    "        return True"
   ]
  },
  {
   "cell_type": "markdown",
   "id": "72fb1a55-04a2-4b47-a5e6-16b94ba3eeb7",
   "metadata": {
    "jp-MarkdownHeadingCollapsed": true
   },
   "source": [
    "# 28 258. 各位相加\n",
    "https://leetcode.cn/problems/add-digits/description/"
   ]
  },
  {
   "cell_type": "code",
   "execution_count": 438,
   "id": "538efc06-cbed-4cb9-8c60-ffeeabc6f918",
   "metadata": {},
   "outputs": [
    {
     "data": {
      "text/plain": [
       "0"
      ]
     },
     "execution_count": 438,
     "metadata": {},
     "output_type": "execute_result"
    }
   ],
   "source": [
    "def addDigits(num):\n",
    "    if num < 10:\n",
    "        return num\n",
    "    while num > 9:\n",
    "        s = str(num)\n",
    "        a = 0\n",
    "        for i in s:\n",
    "            a += int(i)\n",
    "        num = a\n",
    "    return num\n",
    "num = 0\n",
    "addDigits(num)"
   ]
  },
  {
   "cell_type": "code",
   "execution_count": null,
   "id": "db9fe18b-558f-492b-a15f-6eef1d3710e8",
   "metadata": {},
   "outputs": [],
   "source": [
    "class Solution:\n",
    "    def addDigits(self, num: int) -> int:\n",
    "        if num < 10:\n",
    "            return num\n",
    "        while num > 9:\n",
    "            s = str(num)\n",
    "            a = 0\n",
    "            for i in s:\n",
    "                a += int(i)\n",
    "            num = a\n",
    "        return num"
   ]
  },
  {
   "cell_type": "markdown",
   "id": "43bae000-1a17-49e9-8fe4-448f1cfed2d3",
   "metadata": {
    "jp-MarkdownHeadingCollapsed": true
   },
   "source": [
    "# 29 263. 丑数\n",
    "https://leetcode.cn/problems/ugly-number/description/"
   ]
  },
  {
   "cell_type": "code",
   "execution_count": 460,
   "id": "22b7003f-dd70-45b8-b41e-d790203b3fdc",
   "metadata": {},
   "outputs": [
    {
     "data": {
      "text/plain": [
       "True"
      ]
     },
     "execution_count": 460,
     "metadata": {},
     "output_type": "execute_result"
    }
   ],
   "source": [
    "def isUgly(n):\n",
    "    if n <= 0:\n",
    "        return False\n",
    "    factors = [2, 3, 5]\n",
    "    for factor in factors:\n",
    "        while n%factor == 0:\n",
    "            n //= factor\n",
    "\n",
    "    if n == 1:\n",
    "        return True\n",
    "    else: \n",
    "        return False\n",
    "    \n",
    "\n",
    "n = 6\n",
    "isUgly(n)"
   ]
  },
  {
   "cell_type": "code",
   "execution_count": null,
   "id": "6920215a-240e-42ad-8d7c-5096dcd6c688",
   "metadata": {},
   "outputs": [],
   "source": [
    "class Solution:\n",
    "    def isUgly(self, n: int) -> bool:\n",
    "        if n <= 0:\n",
    "            return False\n",
    "        factors = [2, 3, 5]\n",
    "        for factor in factors:\n",
    "            while n%factor == 0:\n",
    "                n //= factor\n",
    "    \n",
    "        if n == 1:\n",
    "            return True\n",
    "        else: \n",
    "            return False"
   ]
  },
  {
   "cell_type": "markdown",
   "id": "caf0037f-f5ac-4bf4-a424-e98538a10fd3",
   "metadata": {
    "jp-MarkdownHeadingCollapsed": true
   },
   "source": [
    "# 30 268. 丢失的数字\n",
    "https://leetcode.cn/problems/missing-number/description/"
   ]
  },
  {
   "cell_type": "code",
   "execution_count": 465,
   "id": "42c498f8-4c79-4494-924e-b2708a2282a0",
   "metadata": {},
   "outputs": [
    {
     "data": {
      "text/plain": [
       "2"
      ]
     },
     "execution_count": 465,
     "metadata": {},
     "output_type": "execute_result"
    }
   ],
   "source": [
    "def missingNumber(nums):\n",
    "    nums.sort()\n",
    "    for i in range(len(nums)):\n",
    "        if i != nums[i]:\n",
    "            return i\n",
    "    return nums[-1] + 1\n",
    "\n",
    "#nums = [9,6,4,2,3,5,7,0,1]\n",
    "nums = [0,1]\n",
    "missingNumber(nums)"
   ]
  },
  {
   "cell_type": "code",
   "execution_count": null,
   "id": "d293952a-4ec5-4483-8981-8af50097c2c2",
   "metadata": {},
   "outputs": [],
   "source": [
    "class Solution:\n",
    "    def missingNumber(self, nums: List[int]) -> int:\n",
    "        nums.sort()\n",
    "        for i in range(len(nums)):\n",
    "            if i != nums[i]:\n",
    "                return i\n",
    "        return nums[-1] + 1"
   ]
  },
  {
   "cell_type": "markdown",
   "id": "64c61d8e-871d-4659-9bb8-44e7ff437324",
   "metadata": {
    "jp-MarkdownHeadingCollapsed": true
   },
   "source": [
    "# 31 217. 存在重复元素\n",
    "https://leetcode.cn/problems/contains-duplicate/description/"
   ]
  },
  {
   "cell_type": "code",
   "execution_count": 469,
   "id": "efd2120e-fd3d-4ea9-8c0b-230af29d35ff",
   "metadata": {},
   "outputs": [
    {
     "data": {
      "text/plain": [
       "False"
      ]
     },
     "execution_count": 469,
     "metadata": {},
     "output_type": "execute_result"
    }
   ],
   "source": [
    "from collections import Counter\n",
    "def containsDuplicate(nums):\n",
    "    d = Counter(nums)\n",
    "    for i in d:\n",
    "        if d[i] >= 2:\n",
    "            return True\n",
    "    return False\n",
    "\n",
    "nums = [1,1,1,3,3,4,3,2,4,2]\n",
    "nums = [1,2,3,4]\n",
    "containsDuplicate(nums)"
   ]
  },
  {
   "cell_type": "code",
   "execution_count": null,
   "id": "2a9c1998-d070-4a73-9886-bc1d3bda331e",
   "metadata": {},
   "outputs": [],
   "source": [
    "from collections import Counter\n",
    "class Solution:\n",
    "    def containsDuplicate(self, nums: List[int]) -> bool:\n",
    "        d = Counter(nums)\n",
    "        for i in d:\n",
    "            if d[i] >= 2:\n",
    "                return True\n",
    "        return False"
   ]
  },
  {
   "cell_type": "markdown",
   "id": "c2a42539-102f-47db-8b9e-d94c5a37d7d8",
   "metadata": {
    "jp-MarkdownHeadingCollapsed": true
   },
   "source": [
    "# 32 283. 移动零\n",
    "https://leetcode.cn/problems/move-zeroes/description/"
   ]
  },
  {
   "cell_type": "code",
   "execution_count": 483,
   "id": "9de41723-ec76-406c-b5b6-e50f29d29da2",
   "metadata": {},
   "outputs": [
    {
     "data": {
      "text/plain": [
       "[0]"
      ]
     },
     "execution_count": 483,
     "metadata": {},
     "output_type": "execute_result"
    }
   ],
   "source": [
    "def moveZeroes(nums):\n",
    "    c = 0\n",
    "    while 0 in nums:\n",
    "        c += 1\n",
    "        nums.pop(nums.index(0))\n",
    "    for i in range(c):\n",
    "        nums.append(0)\n",
    "    return nums\n",
    "\n",
    "nums = [0]\n",
    "moveZeroes(nums)"
   ]
  },
  {
   "cell_type": "code",
   "execution_count": null,
   "id": "bf049b77-9016-4a25-9891-894f092d9e7d",
   "metadata": {},
   "outputs": [],
   "source": [
    "class Solution:\n",
    "    def moveZeroes(self, nums: List[int]) -> None:\n",
    "        \"\"\"\n",
    "        Do not return anything, modify nums in-place instead.\n",
    "        \"\"\"\n",
    "        c = 0\n",
    "        while 0 in nums:\n",
    "            c += 1\n",
    "            nums.pop(nums.index(0))\n",
    "        for i in range(c):\n",
    "            nums.append(0)"
   ]
  },
  {
   "cell_type": "markdown",
   "id": "6ea074f5-1c1b-4e00-88b7-0428490ceba3",
   "metadata": {
    "jp-MarkdownHeadingCollapsed": true
   },
   "source": [
    "# 33 290. 单词规律\n",
    "https://leetcode.cn/problems/word-pattern/description/"
   ]
  },
  {
   "cell_type": "code",
   "execution_count": 503,
   "id": "7b1e04c7-a3fc-4304-904e-aab283bf6c15",
   "metadata": {},
   "outputs": [
    {
     "name": "stdout",
     "output_type": "stream",
     "text": [
      "a {}\n",
      "b {'a': 'dog'}\n"
     ]
    },
    {
     "data": {
      "text/plain": [
       "False"
      ]
     },
     "execution_count": 503,
     "metadata": {},
     "output_type": "execute_result"
    }
   ],
   "source": [
    "# Fail\n",
    "def wordPattern(pattern, s):\n",
    "    q = s.split()\n",
    "    p = list(set(pattern))\n",
    "    d = {}\n",
    "    for i in range(len(pattern)):\n",
    "        print(pattern[i], d)\n",
    "        if pattern[i] not in d:\n",
    "            if q[i] in d.values():\n",
    "                return False\n",
    "            d[pattern[i]] = q[i]\n",
    "        if pattern[i] in d and d[pattern[i]] != q[i]:\n",
    "            print(pattern[i], d, q[i])\n",
    "            return False\n",
    "    return True\n",
    "\n",
    "            \n",
    "#pattern = \"aaaa\"\n",
    "#s = \"dog cat cat dog\"\n",
    "#pattern = \"abba\"\n",
    "#s = \"dog cat cat fish\"\n",
    "#pattern = \"abba\"\n",
    "#s = \"dog cat cat dog\"\n",
    "pattern = \"abba\"\n",
    "s = \"dog dog dog dog\"\n",
    "\n",
    "wordPattern(pattern, s)"
   ]
  },
  {
   "cell_type": "code",
   "execution_count": 510,
   "id": "51036d91-039f-45bf-9eab-2ed76472236d",
   "metadata": {},
   "outputs": [
    {
     "data": {
      "text/plain": [
       "True"
      ]
     },
     "execution_count": 510,
     "metadata": {},
     "output_type": "execute_result"
    }
   ],
   "source": [
    "def wordPattern(pattern, s):\n",
    "    res = s.split()\n",
    "    a = list(map(pattern.index, pattern))\n",
    "    b = list(map(res.index, res))\n",
    "    return a == b\n",
    "    \n",
    "pattern = \"abba\"\n",
    "s = \"dog cat cat dog\"\n",
    "\n",
    "wordPattern(pattern, s)"
   ]
  },
  {
   "cell_type": "code",
   "execution_count": null,
   "id": "2d800f39-4add-413e-acd3-1419b44720b0",
   "metadata": {},
   "outputs": [],
   "source": [
    "class Solution:\n",
    "    def wordPattern(self, pattern: str, s: str) -> bool:\n",
    "        res = s.split()\n",
    "        a = list(map(pattern.index, pattern))\n",
    "        b = list(map(res.index, res))\n",
    "        return a == b\n",
    "        "
   ]
  },
  {
   "cell_type": "markdown",
   "id": "e57400d5-f291-4430-b55d-524dd9b4d9a2",
   "metadata": {
    "jp-MarkdownHeadingCollapsed": true
   },
   "source": [
    "# 34. 292. Nim 游戏\n",
    "https://leetcode.cn/problems/nim-game/description/"
   ]
  },
  {
   "cell_type": "code",
   "execution_count": 514,
   "id": "fabcf9db-b15d-46c4-bf5e-eeb9da448d8b",
   "metadata": {},
   "outputs": [
    {
     "data": {
      "text/plain": [
       "True"
      ]
     },
     "execution_count": 514,
     "metadata": {},
     "output_type": "execute_result"
    }
   ],
   "source": [
    "def canWinNim(n):\n",
    "    return n % 4 != 0\n",
    "\n",
    "n = 1\n",
    "canWinNim(n)"
   ]
  },
  {
   "cell_type": "code",
   "execution_count": null,
   "id": "6510dbca-5464-4d54-a710-d5ee422090fd",
   "metadata": {},
   "outputs": [],
   "source": [
    "class Solution:\n",
    "    def canWinNim(self, n: int) -> bool:"
   ]
  },
  {
   "cell_type": "markdown",
   "id": "6026235e-3e77-4fcd-bc5c-315bc487bbad",
   "metadata": {
    "jp-MarkdownHeadingCollapsed": true
   },
   "source": [
    "# 35 326. 3 的幂\n",
    "https://leetcode.cn/problems/power-of-three/description/\n"
   ]
  },
  {
   "cell_type": "code",
   "execution_count": 519,
   "id": "57872274-0c86-4f7c-ad02-c1705344b7a1",
   "metadata": {},
   "outputs": [
    {
     "data": {
      "text/plain": [
       "False"
      ]
     },
     "execution_count": 519,
     "metadata": {},
     "output_type": "execute_result"
    }
   ],
   "source": [
    "def isPowerOfThree(n):\n",
    "    if n == 1:\n",
    "        return True\n",
    "    while n >= 3:\n",
    "        if n == 3:\n",
    "            return True\n",
    "        n = n / 3\n",
    "    return False\n",
    "    \n",
    "n = 45\n",
    "isPowerOfThree(n)"
   ]
  },
  {
   "cell_type": "code",
   "execution_count": null,
   "id": "967c2842-dfcf-47f4-a5b5-6c5415acf7dd",
   "metadata": {},
   "outputs": [],
   "source": [
    "class Solution:\n",
    "    def isPowerOfThree(self, n: int) -> bool:\n",
    "        if n == 1:\n",
    "            return True\n",
    "        while n >= 3:\n",
    "            if n == 3:\n",
    "                return True\n",
    "            n = n / 3\n",
    "        return False"
   ]
  },
  {
   "cell_type": "markdown",
   "id": "54e668b5-81c4-4011-8416-acd123bacb9a",
   "metadata": {
    "jp-MarkdownHeadingCollapsed": true
   },
   "source": [
    "# 36. 338. 比特位计数\n",
    "\n",
    "https://leetcode.cn/problems/counting-bits/description/"
   ]
  },
  {
   "cell_type": "code",
   "execution_count": 536,
   "id": "5d013e6a-2a21-4bf2-997e-c99386cf2543",
   "metadata": {},
   "outputs": [
    {
     "data": {
      "text/plain": [
       "[0, 1, 1, 2, 1, 2]"
      ]
     },
     "execution_count": 536,
     "metadata": {},
     "output_type": "execute_result"
    }
   ],
   "source": [
    "from collections import Counter\n",
    "def countBits(n):\n",
    "    ans = []\n",
    "    for i in range(n + 1):\n",
    "        ans.append(Counter(str(bin(i)))[\"1\"])\n",
    "    return ans\n",
    "    \n",
    "n = 5\n",
    "countBits(n)"
   ]
  },
  {
   "cell_type": "code",
   "execution_count": null,
   "id": "cf04ddf3-624f-4aed-94f2-36e0e1a9f322",
   "metadata": {},
   "outputs": [],
   "source": [
    "from collections import Counter\n",
    "class Solution:\n",
    "    def countBits(self, n: int) -> List[int]:\n",
    "        ans = []\n",
    "        for i in range(n + 1):\n",
    "            ans.append(Counter(str(bin(i)))[\"1\"])\n",
    "        return ans"
   ]
  },
  {
   "cell_type": "markdown",
   "id": "e39b93f7-cb57-4de6-89e4-e204ab1815a1",
   "metadata": {
    "jp-MarkdownHeadingCollapsed": true
   },
   "source": [
    "# 37 342. 4的幂\n",
    "https://leetcode.cn/problems/power-of-four/description/\n"
   ]
  },
  {
   "cell_type": "code",
   "execution_count": 539,
   "id": "4c9a7b07-8ea3-40e3-b71a-d3f9d77d55ee",
   "metadata": {},
   "outputs": [
    {
     "data": {
      "text/plain": [
       "True"
      ]
     },
     "execution_count": 539,
     "metadata": {},
     "output_type": "execute_result"
    }
   ],
   "source": [
    "def isPowerOfFour(n):\n",
    "    if n == 1:\n",
    "        return True\n",
    "    while n >= 4:\n",
    "        if n == 4:\n",
    "            return True\n",
    "        n = n / 4\n",
    "    return False\n",
    "\n",
    "n = 16\n",
    "isPowerOfFour(n)"
   ]
  },
  {
   "cell_type": "code",
   "execution_count": null,
   "id": "7f1fde05-3674-4cda-ba02-7fb270e08d7b",
   "metadata": {},
   "outputs": [],
   "source": [
    "class Solution:\n",
    "    def isPowerOfFour(self, n: int) -> bool:\n",
    "        if n == 1:\n",
    "            return True\n",
    "        while n >= 4:\n",
    "            if n == 4:\n",
    "                return True\n",
    "            n = n / 4\n",
    "        return False"
   ]
  },
  {
   "cell_type": "markdown",
   "id": "1816f2eb-5038-471c-81c8-e8db89fb0275",
   "metadata": {
    "jp-MarkdownHeadingCollapsed": true
   },
   "source": [
    "# 38 344. 反转字符串\n",
    "https://leetcode.cn/problems/reverse-string/description/"
   ]
  },
  {
   "cell_type": "code",
   "execution_count": 541,
   "id": "521ab4da-d9a9-4ea8-9532-9d62f840f2f9",
   "metadata": {},
   "outputs": [
    {
     "data": {
      "text/plain": [
       "['o', 'l', 'l', 'e', 'h']"
      ]
     },
     "execution_count": 541,
     "metadata": {},
     "output_type": "execute_result"
    }
   ],
   "source": [
    "def reverseString(s):\n",
    "    return s[::-1]\n",
    "     \n",
    "s = [\"H\",\"a\",\"n\",\"n\",\"a\",\"h\"]\n",
    "s = [\"h\",\"e\",\"l\",\"l\",\"o\"]\n",
    "reverseString(s)"
   ]
  },
  {
   "cell_type": "code",
   "execution_count": 546,
   "id": "30b15013-741d-4372-94bf-974587870758",
   "metadata": {},
   "outputs": [
    {
     "name": "stdout",
     "output_type": "stream",
     "text": [
      "['o', 'l', 'l', 'e', 'h']\n"
     ]
    }
   ],
   "source": [
    "def reverseString(s):\n",
    "    for i in range(len(s) // 2):\n",
    "        s[i], s[-i-1] = s[-i -1], s[i]\n",
    "     \n",
    "s = [\"H\",\"a\",\"n\",\"n\",\"a\",\"h\"]\n",
    "s = [\"h\",\"e\",\"l\",\"l\",\"o\"]\n",
    "reverseString(s)"
   ]
  },
  {
   "cell_type": "code",
   "execution_count": null,
   "id": "f8a25989-fd18-4294-9631-f79bd0e11575",
   "metadata": {},
   "outputs": [],
   "source": [
    "class Solution:\n",
    "    def reverseString(self, s: List[str]) -> None:\n",
    "        \"\"\"\n",
    "        Do not return anything, modify s in-place instead.\n",
    "        \"\"\"\n",
    "        for i in range(len(s) // 2):\n",
    "            s[i], s[-i-1] = s[-i -1], s[i]"
   ]
  },
  {
   "cell_type": "markdown",
   "id": "c36c7081-e699-4522-8184-2675b5b13e37",
   "metadata": {
    "jp-MarkdownHeadingCollapsed": true
   },
   "source": [
    "# 39 345. 反转字符串中的元音字母\n",
    "\n",
    "https://leetcode.cn/problems/reverse-vowels-of-a-string/description/"
   ]
  },
  {
   "cell_type": "code",
   "execution_count": 565,
   "id": "f34a765c-9b73-46b0-9435-d44d7e0fea48",
   "metadata": {},
   "outputs": [
    {
     "data": {
      "text/plain": [
       "'holle'"
      ]
     },
     "execution_count": 565,
     "metadata": {},
     "output_type": "execute_result"
    }
   ],
   "source": [
    "def reverseVowels(s):\n",
    "    total = \"aeiouAEIOU\"\n",
    "    ori_index = []\n",
    "    ori_content = []\n",
    "    for i in range(len(s)):\n",
    "        if s[i] in total:\n",
    "            ori_index.append(i)\n",
    "            ori_content.append(s[i])\n",
    "    ori_content = ori_content[::-1]\n",
    "    s = list(s)\n",
    "    for i in range(len(ori_index)):\n",
    "        s[ori_index[i]] = ori_content[i]\n",
    "    res = \"\"\n",
    "    for i in s:\n",
    "        res += i\n",
    "    return res\n",
    "\n",
    "\n",
    "s = \"hello\"\n",
    "reverseVowels(s)"
   ]
  },
  {
   "cell_type": "code",
   "execution_count": null,
   "id": "f118ffd0-1602-4351-8832-9ca4e69269fe",
   "metadata": {},
   "outputs": [],
   "source": [
    "class Solution:\n",
    "    def reverseVowels(self, s: str) -> str:\n",
    "        total = \"aeiouAEIOU\"\n",
    "        ori_index = []\n",
    "        ori_content = []\n",
    "        for i in range(len(s)):\n",
    "            if s[i] in total:\n",
    "                ori_index.append(i)\n",
    "                ori_content.append(s[i])\n",
    "        ori_content = ori_content[::-1]\n",
    "        s = list(s)\n",
    "        for i in range(len(ori_index)):\n",
    "            s[ori_index[i]] = ori_content[i]\n",
    "        res = \"\"\n",
    "        for i in s:\n",
    "            res += i\n",
    "        return res"
   ]
  },
  {
   "cell_type": "markdown",
   "id": "34c5c66c-2ecd-4139-a582-04b60c5c726b",
   "metadata": {
    "jp-MarkdownHeadingCollapsed": true
   },
   "source": [
    "# 40 349. 两个数组的交集\n",
    "https://leetcode.cn/problems/intersection-of-two-arrays/description/"
   ]
  },
  {
   "cell_type": "code",
   "execution_count": 570,
   "id": "75b11c33-76fa-4500-a815-8dde9d7e3f0a",
   "metadata": {},
   "outputs": [
    {
     "data": {
      "text/plain": [
       "[9, 4]"
      ]
     },
     "execution_count": 570,
     "metadata": {},
     "output_type": "execute_result"
    }
   ],
   "source": [
    "def intersection(nums1, nums2):\n",
    "    set1 , set2= set(nums1), set(nums2)\n",
    "    return list(set1.intersection(set2))\n",
    "\n",
    "\n",
    "\n",
    "nums1 = [4,9,5]\n",
    "nums2 = [9,4,9,8,4]\n",
    "intersection(nums1, nums2)"
   ]
  },
  {
   "cell_type": "code",
   "execution_count": null,
   "id": "c4cb8d70-5ac6-4025-849d-6231388cebe2",
   "metadata": {},
   "outputs": [],
   "source": [
    "class Solution:\n",
    "    def intersection(self, nums1: List[int], nums2: List[int]) -> List[int]:\n",
    "        set1 , set2= set(nums1), set(nums2)\n",
    "        return list(set1.intersection(set2))"
   ]
  },
  {
   "cell_type": "markdown",
   "id": "748854c0-4a77-486c-9820-99c86388618f",
   "metadata": {
    "jp-MarkdownHeadingCollapsed": true
   },
   "source": [
    "# 41 350. 两个数组的交集 II\n",
    "\n",
    "https://leetcode.cn/problems/intersection-of-two-arrays-ii/description/"
   ]
  },
  {
   "cell_type": "code",
   "execution_count": 574,
   "id": "a3785190-daf2-4247-a0e6-bf6b6f797b63",
   "metadata": {},
   "outputs": [
    {
     "data": {
      "text/plain": [
       "[2, 2]"
      ]
     },
     "execution_count": 574,
     "metadata": {},
     "output_type": "execute_result"
    }
   ],
   "source": [
    "from collections import Counter\n",
    "def intersect(nums1, nums2):\n",
    "    set1 , set2= set(nums1), set(nums2)\n",
    "    res = list(set1.intersection(set2))\n",
    "    count1, count2 = Counter(nums1), Counter(nums2)\n",
    "    ans = []\n",
    "    for i in res:\n",
    "        x = min(count1[i], count2[i])\n",
    "        for j in range(0, x):\n",
    "            ans.append(i)\n",
    "    return ans\n",
    "\n",
    "nums1 = [4,9,5]\n",
    "nums2 = [9,4,9,8,4]\n",
    "nums1 = [1,2,2,1]\n",
    "nums2 = [2,2]\n",
    "intersect(nums1, nums2)"
   ]
  },
  {
   "cell_type": "code",
   "execution_count": null,
   "id": "bfe0304f-eccb-4d59-be13-b471ac94dc03",
   "metadata": {},
   "outputs": [],
   "source": [
    "class Solution:\n",
    "    def intersect(self, nums1: List[int], nums2: List[int]) -> List[int]:\n",
    "        set1 , set2= set(nums1), set(nums2)\n",
    "        res = list(set1.intersection(set2))\n",
    "        count1, count2 = Counter(nums1), Counter(nums2)\n",
    "        ans = []\n",
    "        for i in res:\n",
    "            x = min(count1[i], count2[i])\n",
    "            for j in range(0, x):\n",
    "                ans.append(i)\n",
    "        return ans"
   ]
  },
  {
   "cell_type": "markdown",
   "id": "d7b39969-6443-40d1-8ad5-64576705a427",
   "metadata": {
    "jp-MarkdownHeadingCollapsed": true
   },
   "source": [
    "# 42 367. 有效的完全平方数\n",
    "\n",
    "https://leetcode.cn/problems/valid-perfect-square/description/"
   ]
  },
  {
   "cell_type": "code",
   "execution_count": 587,
   "id": "285fd5d1-4d83-471c-9468-00c74f7d9a0c",
   "metadata": {},
   "outputs": [
    {
     "data": {
      "text/plain": [
       "True"
      ]
     },
     "execution_count": 587,
     "metadata": {},
     "output_type": "execute_result"
    }
   ],
   "source": [
    "def isPerfectSquare(num):\n",
    "    for i in range(num + 1):\n",
    "        if i * i == num:\n",
    "            return True\n",
    "        elif i * i > num:\n",
    "            return False\n",
    "    return False\n",
    "        \n",
    "\n",
    "\n",
    "num = 1\n",
    "isPerfectSquare(num)"
   ]
  },
  {
   "cell_type": "code",
   "execution_count": null,
   "id": "bb4299f3-3573-4a50-891c-884d1fe4c6e5",
   "metadata": {},
   "outputs": [],
   "source": [
    "class Solution:\n",
    "    def isPerfectSquare(self, num: int) -> bool:\n",
    "        for i in range(num + 1):\n",
    "            if i * i == num:\n",
    "                return True\n",
    "            elif i * i > num:\n",
    "                return False\n",
    "        return False\n",
    "            "
   ]
  },
  {
   "cell_type": "markdown",
   "id": "b39a0c0e-88cc-4cb8-a110-05cc334d0403",
   "metadata": {
    "jp-MarkdownHeadingCollapsed": true
   },
   "source": [
    "# 43 383. 赎金信\n",
    "https://leetcode.cn/problems/ransom-note/description/"
   ]
  },
  {
   "cell_type": "code",
   "execution_count": 593,
   "id": "4bd2a163-a7ea-4fc1-b763-9fff8ae8a1f5",
   "metadata": {},
   "outputs": [
    {
     "data": {
      "text/plain": [
       "True"
      ]
     },
     "execution_count": 593,
     "metadata": {},
     "output_type": "execute_result"
    }
   ],
   "source": [
    "def canConstruct(ransomNote, magazine):\n",
    "    r = Counter(ransomNote)\n",
    "    m = Counter(magazine)\n",
    "    for i in r:\n",
    "        if i not in m or r[i] > m[i]:\n",
    "            return False\n",
    "    return True\n",
    "        \n",
    "        \n",
    "\n",
    "ransomNote = \"aa\"\n",
    "magazine = \"aab\"\n",
    "#ransomNote = \"aa\"\n",
    "#magazine = \"ab\"\n",
    "canConstruct(ransomNote, magazine)"
   ]
  },
  {
   "cell_type": "code",
   "execution_count": null,
   "id": "6343b49f-0b07-4c85-a6aa-a4a7120458d7",
   "metadata": {},
   "outputs": [],
   "source": [
    "class Solution:\n",
    "    def canConstruct(self, ransomNote: str, magazine: str) -> bool:\n",
    "        r = Counter(ransomNote)\n",
    "        m = Counter(magazine)\n",
    "        for i in r:\n",
    "            if i not in m or r[i] > m[i]:\n",
    "                return False\n",
    "        return True"
   ]
  },
  {
   "cell_type": "markdown",
   "id": "03b040d6-5e1f-47fd-abad-002cf602d5c1",
   "metadata": {
    "jp-MarkdownHeadingCollapsed": true
   },
   "source": [
    "# 44 389. 找不同\n",
    "https://leetcode.cn/problems/find-the-difference/description/"
   ]
  },
  {
   "cell_type": "code",
   "execution_count": 613,
   "id": "69a2dae1-1785-4b5e-abd2-fe2472ce9287",
   "metadata": {},
   "outputs": [
    {
     "data": {
      "text/plain": [
       "False"
      ]
     },
     "execution_count": 613,
     "metadata": {},
     "output_type": "execute_result"
    }
   ],
   "source": [
    "def findTheDifference(s, t):\n",
    "    res = (set(t) - set(s))\n",
    "    if not res:\n",
    "        return False\n",
    "    res = list(res)[0]\n",
    "    return res\n",
    "    \n",
    "s = \"a\"\n",
    "t = \"aa\"\n",
    "findTheDifference(s, t)"
   ]
  },
  {
   "cell_type": "code",
   "execution_count": 618,
   "id": "69bc99cc-b156-48e6-8560-1f916ac11638",
   "metadata": {},
   "outputs": [
    {
     "name": "stdout",
     "output_type": "stream",
     "text": [
      "a\n",
      "b\n",
      "c\n",
      "d\n",
      "e\n"
     ]
    },
    {
     "data": {
      "text/plain": [
       "'e'"
      ]
     },
     "execution_count": 618,
     "metadata": {},
     "output_type": "execute_result"
    }
   ],
   "source": [
    "def findTheDifference(s, t):\n",
    "    s = list(s)\n",
    "    for i in t:\n",
    "        print(i)\n",
    "        if i in s:\n",
    "            s.pop(s.index(i))\n",
    "        elif i not in s:\n",
    "            return i\n",
    "    \n",
    "s = \"abcd\"\n",
    "t = \"abcde\"\n",
    "findTheDifference(s, t)"
   ]
  },
  {
   "cell_type": "code",
   "execution_count": null,
   "id": "fd273991-3eef-4b76-a74f-a8bc2d1ca1ee",
   "metadata": {},
   "outputs": [],
   "source": [
    "class Solution:\n",
    "    def findTheDifference(self, s: str, t: str) -> str:\n",
    "        s = list(s)\n",
    "        for i in t:\n",
    "            if i in s:\n",
    "                s.pop(s.index(i))\n",
    "            elif i not in s:\n",
    "                return i"
   ]
  },
  {
   "cell_type": "markdown",
   "id": "f9c18967-e36f-41f2-bb0b-9e2edfa4b248",
   "metadata": {
    "jp-MarkdownHeadingCollapsed": true
   },
   "source": [
    "# 45 392. 判断子序列\n",
    "\n",
    "https://leetcode.cn/problems/is-subsequence/description/"
   ]
  },
  {
   "cell_type": "code",
   "execution_count": 624,
   "id": "771716d2-c95f-4890-a9d6-e0b1e10c4768",
   "metadata": {},
   "outputs": [
    {
     "data": {
      "text/plain": [
       "False"
      ]
     },
     "execution_count": 624,
     "metadata": {},
     "output_type": "execute_result"
    }
   ],
   "source": [
    "def isSubsequence(s, t):\n",
    "    if not s:\n",
    "        return True\n",
    "    s = list(s)\n",
    "    for i in t:\n",
    "        if i == s[0]:\n",
    "            s.pop(0)\n",
    "        if not s:\n",
    "            return True\n",
    "    return False\n",
    "\n",
    "s = \"abc\"\n",
    "t = \"ahbgdc\"\n",
    "s = \"axc\"\n",
    "t = \"ahbgdc\"\n",
    "isSubsequence(s, t)"
   ]
  },
  {
   "cell_type": "code",
   "execution_count": null,
   "id": "460a2c0e-0fa7-4984-bbbd-75fa1655a8ee",
   "metadata": {},
   "outputs": [],
   "source": [
    "class Solution:\n",
    "    def isSubsequence(self, s: str, t: str) -> bool:\n",
    "        if not s:\n",
    "            return True\n",
    "        s = list(s)\n",
    "        for i in t:\n",
    "            if i == s[0]:\n",
    "                s.pop(0)\n",
    "            if not s:\n",
    "                return True\n",
    "        return False"
   ]
  },
  {
   "cell_type": "markdown",
   "id": "82f58082-90b9-4009-8c87-7b0f2520f022",
   "metadata": {
    "jp-MarkdownHeadingCollapsed": true
   },
   "source": [
    "# 46 405. 数字转换为十六进制数\n",
    "https://leetcode.cn/problems/convert-a-number-to-hexadecimal/description/"
   ]
  },
  {
   "cell_type": "code",
   "execution_count": 667,
   "id": "c437a53a-6f50-4fec-ae0c-8b49b8295fef",
   "metadata": {},
   "outputs": [
    {
     "data": {
      "text/plain": [
       "'ffffffff'"
      ]
     },
     "execution_count": 667,
     "metadata": {},
     "output_type": "execute_result"
    }
   ],
   "source": [
    "def toHex(num):\n",
    "    if num >= 0:\n",
    "        return hex(num)[2:]\n",
    "    else: \n",
    "        return hex(int(\"0Xffffffff\", 16) + num + 1)[2:]\n",
    "num = -1\n",
    "toHex(num)"
   ]
  },
  {
   "cell_type": "code",
   "execution_count": null,
   "id": "53b30357-480a-430a-9ffc-abb871ceb985",
   "metadata": {},
   "outputs": [],
   "source": [
    "class Solution:\n",
    "    def toHex(self, num: int) -> str:\n",
    "        if num >= 0:\n",
    "            return hex(num)[2:]\n",
    "        else: \n",
    "            return hex(int(\"0Xffffffff\", 16) + num + 1)[2:]"
   ]
  },
  {
   "cell_type": "markdown",
   "id": "8e917589-c4af-4210-9f06-01c8ac36091a",
   "metadata": {
    "jp-MarkdownHeadingCollapsed": true
   },
   "source": [
    "# 47: 409. 最长回文串\n",
    "https://leetcode.cn/problems/longest-palindrome/description/"
   ]
  },
  {
   "cell_type": "code",
   "execution_count": 701,
   "id": "32d0c2ca-c713-49bf-a5d6-cf7d75fddb88",
   "metadata": {},
   "outputs": [
    {
     "data": {
      "text/plain": [
       "5"
      ]
     },
     "execution_count": 701,
     "metadata": {},
     "output_type": "execute_result"
    }
   ],
   "source": [
    "from collections import Counter\n",
    "def longestPalindrome(s):\n",
    "    r = Counter(s)\n",
    "    res = 0\n",
    "    flag_not_odd = False\n",
    "    for i in r:\n",
    "        if not r[i]%2:\n",
    "            res += r[i]\n",
    "        else: \n",
    "            res += r[i] -1\n",
    "            flag_not_odd = True\n",
    "    if flag_not_odd:\n",
    "        return  res + 1\n",
    "    else: \n",
    "        return res\n",
    "s = \"aaaaa\"\n",
    "longestPalindrome(s)"
   ]
  },
  {
   "cell_type": "code",
   "execution_count": null,
   "id": "bcf7ffba-a94f-4271-a0ab-b4691f1aa26e",
   "metadata": {},
   "outputs": [],
   "source": [
    "class Solution:\n",
    "    def longestPalindrome(self, s: str) -> int:\n",
    "        r = Counter(s)\n",
    "        res = 0\n",
    "        flag_not_odd = False\n",
    "        for i in r:\n",
    "            if not r[i]%2:\n",
    "                res += r[i]\n",
    "            else: \n",
    "                res += r[i] -1\n",
    "                flag_not_odd = True\n",
    "        if flag_not_odd:\n",
    "            return  res + 1\n",
    "        else: \n",
    "            return res"
   ]
  },
  {
   "cell_type": "markdown",
   "id": "f6f3be0e-facd-45d7-b540-2979e3087364",
   "metadata": {
    "jp-MarkdownHeadingCollapsed": true
   },
   "source": [
    "# 48 412. Fizz Buzz\n",
    "https://leetcode.cn/problems/fizz-buzz/description/"
   ]
  },
  {
   "cell_type": "code",
   "execution_count": 721,
   "id": "b3fa298c-a7c6-42a1-9d45-044fd51de883",
   "metadata": {},
   "outputs": [
    {
     "data": {
      "text/plain": [
       "['1',\n",
       " '2',\n",
       " 'Fizz',\n",
       " '4',\n",
       " 'Buzz',\n",
       " 'Fizz',\n",
       " '7',\n",
       " '8',\n",
       " 'Fizz',\n",
       " 'Buzz',\n",
       " '11',\n",
       " 'Fizz',\n",
       " '13',\n",
       " '14',\n",
       " 'FizzBuzz']"
      ]
     },
     "execution_count": 721,
     "metadata": {},
     "output_type": "execute_result"
    }
   ],
   "source": [
    "def fizzBuzz(n):\n",
    "    res = []\n",
    "    for i in range(1, n + 1):\n",
    "        a = not i % 3 and not i%5\n",
    "        b = not i % 3\n",
    "        c = not i % 5\n",
    "        d = not (a and b and c and d)\n",
    "        if a and (b or c):\n",
    "            res.append(\"FizzBuzz\")\n",
    "        elif not a and b and not c:\n",
    "            res.append(\"Fizz\")\n",
    "        elif not a and not b and c:\n",
    "            res.append(\"Buzz\")\n",
    "        elif d:\n",
    "            res.append(str(i))\n",
    "    return res\n",
    "    \n",
    "n = 15\n",
    "fizzBuzz(n)"
   ]
  },
  {
   "cell_type": "code",
   "execution_count": null,
   "id": "ca44b5e5-9935-4103-9792-d870b72e5c6a",
   "metadata": {},
   "outputs": [],
   "source": [
    "class Solution:\n",
    "    def fizzBuzz(self, n: int) -> List[str]:\n",
    "        res = []\n",
    "        for i in range(1, n + 1):\n",
    "            a = not i % 3 and not i%5\n",
    "            b = not i % 3\n",
    "            c = not i % 5\n",
    "            d = not (a and b and c and d)\n",
    "            if a and (b or c):\n",
    "                res.append(\"FizzBuzz\")\n",
    "            elif not a and b and not c:\n",
    "                res.append(\"Fizz\")\n",
    "            elif not a and not b and c:\n",
    "                res.append(\"Buzz\")\n",
    "            elif d:\n",
    "                res.append(str(i))\n",
    "        return res"
   ]
  },
  {
   "cell_type": "markdown",
   "id": "b500201d-c658-4a46-88f4-d56ba2cedb1d",
   "metadata": {
    "jp-MarkdownHeadingCollapsed": true
   },
   "source": [
    "# 49 414. 第三大的数\n",
    "\n",
    "https://leetcode.cn/problems/third-maximum-number/description/"
   ]
  },
  {
   "cell_type": "code",
   "execution_count": 749,
   "id": "24209c1d-2bb2-44f5-bc3c-92ae44e6d194",
   "metadata": {},
   "outputs": [
    {
     "name": "stdout",
     "output_type": "stream",
     "text": [
      "[3, 2, 1]\n"
     ]
    },
    {
     "data": {
      "text/plain": [
       "1"
      ]
     },
     "execution_count": 749,
     "metadata": {},
     "output_type": "execute_result"
    }
   ],
   "source": [
    "def thirdMax(nums):\n",
    "    res = list(set(nums))\n",
    "    res.sort(reverse=True)\n",
    "    print(res)\n",
    "    if len(res) < 3:\n",
    "        return max(res)\n",
    "    else:\n",
    "        return res[2]\n",
    "    \n",
    "#nums = [3, 2, 1]\n",
    "#nums = [1, 2]\n",
    "nums = [2, 2, 3, 1]\n",
    "thirdMax(nums)"
   ]
  },
  {
   "cell_type": "code",
   "execution_count": null,
   "id": "f821961d-8636-43a8-8faf-681f01ac36e8",
   "metadata": {},
   "outputs": [],
   "source": [
    "class Solution:\n",
    "    def thirdMax(self, nums: List[int]) -> int:\n",
    "        res = list(set(nums))\n",
    "        res.sort(reverse=True)\n",
    "        print(res)\n",
    "        if len(res) < 3:\n",
    "            return max(res)\n",
    "        else:\n",
    "            return res[2]\n",
    "        "
   ]
  },
  {
   "cell_type": "markdown",
   "id": "3045598a-3b0d-4a8c-a260-ff95dd64e10c",
   "metadata": {
    "jp-MarkdownHeadingCollapsed": true
   },
   "source": [
    "# 50 415. 字符串相加\n",
    "https://leetcode.cn/problems/add-strings/description/"
   ]
  },
  {
   "cell_type": "code",
   "execution_count": 751,
   "id": "0ff4e49c-d9e7-4bd4-a2e1-6fdd0ff074fe",
   "metadata": {},
   "outputs": [
    {
     "data": {
      "text/plain": [
       "'134'"
      ]
     },
     "execution_count": 751,
     "metadata": {},
     "output_type": "execute_result"
    }
   ],
   "source": [
    "# No, too long string\n",
    "def addStrings(num1, num2):\n",
    "    return str((int(num1) + int(num2)))\n",
    "\n",
    "num1 = \"11\"\n",
    "num2 = \"123\"\n",
    "addStrings(num1, num2)"
   ]
  },
  {
   "cell_type": "code",
   "execution_count": 756,
   "id": "c2c13ab7-7d2e-4904-8cad-79acb21a73d5",
   "metadata": {},
   "outputs": [
    {
     "data": {
      "text/plain": [
       "'134'"
      ]
     },
     "execution_count": 756,
     "metadata": {},
     "output_type": "execute_result"
    }
   ],
   "source": [
    "def addStrings(num1, num2):\n",
    "    i, j = len(num1) -1 , len(num2) -1 \n",
    "    ans = []\n",
    "    c = 0\n",
    "    while i >= 0 or  j >= 0 or c:\n",
    "        a = 0 if i < 0 else int(num1[i])\n",
    "        b = 0 if j < 0 else int(num2[j])\n",
    "        c, v = divmod(a + b + c, 10)\n",
    "        ans.append(str(v))\n",
    "        i -= 1\n",
    "        j -= 1\n",
    "    return \"\".join(ans[::-1])\n",
    "        \n",
    "\n",
    "num1 = \"11\"\n",
    "num2 = \"123\"\n",
    "addStrings(num1, num2)"
   ]
  },
  {
   "cell_type": "code",
   "execution_count": null,
   "id": "ed87edf5-de8d-453a-9a95-a51ea21b9302",
   "metadata": {},
   "outputs": [],
   "source": [
    "class Solution:\n",
    "    def addStrings(self, num1: str, num2: str) -> str:\n",
    "        i, j = len(num1) -1 , len(num2) -1 \n",
    "        ans = []\n",
    "        c = 0\n",
    "        while i >= 0 or  j >= 0 or c:\n",
    "            a = 0 if i < 0 else int(num1[i])\n",
    "            b = 0 if j < 0 else int(num2[j])\n",
    "            c, v = divmod(a + b + c, 10)\n",
    "            ans.append(str(v))\n",
    "            i -= 1\n",
    "            j -= 1\n",
    "        return \"\".join(ans[::-1])"
   ]
  },
  {
   "cell_type": "markdown",
   "id": "f4fb569c-1f3d-4bb5-9e46-c9a14f6ad2da",
   "metadata": {
    "jp-MarkdownHeadingCollapsed": true
   },
   "source": [
    "# 51 434. 字符串中的单词数\n",
    "https://leetcode.cn/problems/number-of-segments-in-a-string/description/"
   ]
  },
  {
   "cell_type": "code",
   "execution_count": 759,
   "id": "2635939f-d0ab-42f9-bfb7-c6785f6a0d65",
   "metadata": {},
   "outputs": [
    {
     "data": {
      "text/plain": [
       "5"
      ]
     },
     "execution_count": 759,
     "metadata": {},
     "output_type": "execute_result"
    }
   ],
   "source": [
    "def countSegments(s):\n",
    "    return len(s.split())\n",
    "\n",
    "s = \"Hello, my name is John\"\n",
    "countSegments(s)"
   ]
  },
  {
   "cell_type": "code",
   "execution_count": null,
   "id": "fbcbfd12-be07-4a8a-8005-8dc2aedfac5b",
   "metadata": {},
   "outputs": [],
   "source": [
    "class Solution:\n",
    "    def countSegments(self, s: str) -> int:\n",
    "        return len(s.split())"
   ]
  },
  {
   "cell_type": "markdown",
   "id": "b3f7fac8-a368-4882-b6f7-88fcb140852e",
   "metadata": {
    "jp-MarkdownHeadingCollapsed": true
   },
   "source": [
    "# 52 441. 排列硬币\n",
    "https://leetcode.cn/problems/arranging-coins/description/"
   ]
  },
  {
   "cell_type": "code",
   "execution_count": 793,
   "id": "2be676ce-b931-49af-abf2-09dcf6c64de1",
   "metadata": {},
   "outputs": [
    {
     "name": "stdout",
     "output_type": "stream",
     "text": [
      "x\n"
     ]
    },
    {
     "data": {
      "text/plain": [
       "9"
      ]
     },
     "execution_count": 793,
     "metadata": {},
     "output_type": "execute_result"
    }
   ],
   "source": [
    "def arrangeCoins(n):\n",
    "    i = 1\n",
    "    while True:\n",
    "        res = i * (i + 1) /2\n",
    "        if res == n:\n",
    "            print(\"y\")\n",
    "            return i\n",
    "        elif n - res > i:\n",
    "            i += 1\n",
    "        elif n - res <= i:\n",
    "            print(\"x\")\n",
    "            return i\n",
    "        \n",
    "n = 46\n",
    "arrangeCoins(n)"
   ]
  },
  {
   "cell_type": "code",
   "execution_count": null,
   "id": "96ddbbd8-c94c-4923-884a-d2e98d3ad3ca",
   "metadata": {},
   "outputs": [],
   "source": [
    "class Solution:\n",
    "    def arrangeCoins(self, n: int) -> int:\n",
    "        i = 1\n",
    "        while True:\n",
    "            res = i * (i + 1) /2\n",
    "            if res == n:\n",
    "                print(\"y\")\n",
    "                return i\n",
    "            elif n - res > i:\n",
    "                i += 1\n",
    "            elif n - res <= i:\n",
    "                print(\"x\")\n",
    "                return i"
   ]
  },
  {
   "cell_type": "markdown",
   "id": "5f400e78-b376-4faf-a34f-221bc841e894",
   "metadata": {
    "jp-MarkdownHeadingCollapsed": true
   },
   "source": [
    "# 53 448. 找到所有数组中消失的数字\n",
    "https://leetcode.cn/problems/find-all-numbers-disappeared-in-an-array/description/"
   ]
  },
  {
   "cell_type": "code",
   "execution_count": 800,
   "id": "b3c1ca90-c0f2-4666-9cb8-1b9d56feee21",
   "metadata": {},
   "outputs": [
    {
     "data": {
      "text/plain": [
       "[2]"
      ]
     },
     "execution_count": 800,
     "metadata": {},
     "output_type": "execute_result"
    }
   ],
   "source": [
    "# Time out\n",
    "def findDisappearedNumbers(nums):\n",
    "    n = len(nums)\n",
    "    res = []\n",
    "    for i in range(1, n + 1):\n",
    "        if i not in nums:\n",
    "            res.append(i)\n",
    "    return res\n",
    "\n",
    "#nums = [4,3,2,7,8,2,3,1]\n",
    "nums = [1, 1]\n",
    "findDisappearedNumbers(nums)"
   ]
  },
  {
   "cell_type": "code",
   "execution_count": 827,
   "id": "483e4f6d-2bca-400b-b6e5-c86ea7e0926c",
   "metadata": {},
   "outputs": [
    {
     "data": {
      "text/plain": [
       "[5, 6]"
      ]
     },
     "execution_count": 827,
     "metadata": {},
     "output_type": "execute_result"
    }
   ],
   "source": [
    "# Time out\n",
    "def findDisappearedNumbers(nums):\n",
    "    n = len(nums)\n",
    "    total = set(nums)\n",
    "    res = []\n",
    "    for i in range(1, n + 1):\n",
    "        if i not in total:\n",
    "            res.append(i)\n",
    "    return res\n",
    "\n",
    "nums = [4,3,2,7,8,2,3,1]\n",
    "#nums = [1, 1]\n",
    "findDisappearedNumbers(nums)"
   ]
  },
  {
   "cell_type": "code",
   "execution_count": null,
   "id": "b48e947a-bda4-406a-b2dd-b475429ec449",
   "metadata": {},
   "outputs": [],
   "source": [
    "class Solution:\n",
    "    def findDisappearedNumbers(self, nums: List[int]) -> List[int]:\n",
    "        n = len(nums)\n",
    "        total = set(nums)\n",
    "        res = []\n",
    "        for i in range(1, n + 1):\n",
    "            if i not in total:\n",
    "                res.append(i)\n",
    "        return res"
   ]
  },
  {
   "cell_type": "markdown",
   "id": "8e9c3a8a-2e9d-4c87-85f8-883c16fccaaf",
   "metadata": {
    "jp-MarkdownHeadingCollapsed": true
   },
   "source": [
    "# 54 455. 分发饼干\n",
    "https://leetcode.cn/problems/assign-cookies/description/"
   ]
  },
  {
   "cell_type": "code",
   "execution_count": 887,
   "id": "f31e321f-f746-4749-b9dc-a1bfe45fa6f2",
   "metadata": {},
   "outputs": [
    {
     "data": {
      "text/plain": [
       "1"
      ]
     },
     "execution_count": 887,
     "metadata": {},
     "output_type": "execute_result"
    }
   ],
   "source": [
    "def findContentChildren(g, s):\n",
    "    g.sort()\n",
    "    s.sort()\n",
    "    gi, gn, si, sn, cnt = 0, len(g), 0, len(s), 0\n",
    "    while gi < gn and si < sn:\n",
    "        if g[gi] <= s[si]:\n",
    "            cnt += 1\n",
    "            gi += 1\n",
    "        si += 1\n",
    "    return cnt\n",
    "\n",
    "\n",
    "g = [1,2,3]\n",
    "s = [1,1]\n",
    "findContentChildren(g, s)"
   ]
  },
  {
   "cell_type": "code",
   "execution_count": null,
   "id": "2fc14fe8-3d24-4b13-b4ad-954f96fd6417",
   "metadata": {},
   "outputs": [],
   "source": [
    "class Solution:\n",
    "    def findContentChildren(self, g: List[int], s: List[int]) -> int:\n",
    "        g.sort()\n",
    "        s.sort()\n",
    "        gi, gn, si, sn, cnt = 0, len(g), 0, len(s), 0\n",
    "        while gi < gn and si < sn:\n",
    "            if g[gi] <= s[si]:\n",
    "                cnt += 1\n",
    "                gi += 1\n",
    "            si += 1\n",
    "        return cnt"
   ]
  },
  {
   "cell_type": "markdown",
   "id": "d4604808-ae56-43d9-807a-a862df8709bf",
   "metadata": {
    "jp-MarkdownHeadingCollapsed": true
   },
   "source": [
    "# 55  459. 重复的子字符串\n",
    "\n",
    "https://leetcode.cn/problems/repeated-substring-pattern/description/"
   ]
  },
  {
   "cell_type": "code",
   "execution_count": 878,
   "id": "6daf05c9-7f8a-4e0e-8432-31bab3d5d6e4",
   "metadata": {},
   "outputs": [
    {
     "data": {
      "text/plain": [
       "True"
      ]
     },
     "execution_count": 878,
     "metadata": {},
     "output_type": "execute_result"
    }
   ],
   "source": [
    "def repeatedSubstringPattern(s):\n",
    "    n = len(s)\n",
    "    if n <= 1:\n",
    "        return False\n",
    "    if n == 2:\n",
    "        return s[0] == s[1]\n",
    "    for i in range(n):\n",
    "        x, y = divmod(n, i + 1)\n",
    "        if i > n / 2:\n",
    "            return False\n",
    "        elif y == 0:\n",
    "            res = s[: i+ 1]\n",
    "            if res * x == s:\n",
    "                return True\n",
    "\n",
    "\n",
    "s = \"aba\"\n",
    "s = \"abab\"\n",
    "s = \"abcabcabcabc\"\n",
    "repeatedSubstringPattern(s)"
   ]
  },
  {
   "cell_type": "code",
   "execution_count": 879,
   "id": "b38b32ad-bc4c-4dcd-a4d0-b22f7be537b6",
   "metadata": {},
   "outputs": [],
   "source": [
    "class Solution:\n",
    "    def repeatedSubstringPattern(self, s: str) -> bool:\n",
    "        n = len(s)\n",
    "        if n <= 1:\n",
    "            return False\n",
    "        if n == 2:\n",
    "            return s[0] == s[1]\n",
    "        for i in range(n):\n",
    "            x, y = divmod(n, i + 1)\n",
    "            if i > n / 2:\n",
    "                return False\n",
    "            elif y == 0:\n",
    "                res = s[: i+ 1]\n",
    "                if res * x == s:\n",
    "                    return True\n"
   ]
  },
  {
   "cell_type": "markdown",
   "id": "8aa23878-ee0e-462a-a2e4-c6fbaf5a3b02",
   "metadata": {
    "jp-MarkdownHeadingCollapsed": true
   },
   "source": [
    "# 56  461. 汉明距离\n",
    "\n",
    "https://leetcode.cn/problems/hamming-distance/description/"
   ]
  },
  {
   "cell_type": "code",
   "execution_count": 850,
   "id": "84b317b2-3d58-4d56-8ece-0089e41103b2",
   "metadata": {},
   "outputs": [
    {
     "data": {
      "text/plain": [
       "2"
      ]
     },
     "execution_count": 850,
     "metadata": {},
     "output_type": "execute_result"
    }
   ],
   "source": [
    "def hammingDistance(x, y):\n",
    "    return bin(x ^ y).count(\"1\")\n",
    "\n",
    "x = 1\n",
    "y = 4\n",
    "hammingDistance(x, y)\n"
   ]
  },
  {
   "cell_type": "code",
   "execution_count": null,
   "id": "e0269ce7-1094-4562-874e-e7324945641f",
   "metadata": {},
   "outputs": [],
   "source": [
    "class Solution:\n",
    "    def hammingDistance(self, x: int, y: int) -> int:\n",
    "        return bin(x ^ y).count(\"1\")"
   ]
  },
  {
   "cell_type": "markdown",
   "id": "0ef600b6-0ab7-473c-9189-193fb04d005b",
   "metadata": {},
   "source": [
    "# 57 463. 岛屿的周长\n",
    "https://leetcode.cn/problems/island-perimeter/description/"
   ]
  },
  {
   "cell_type": "code",
   "execution_count": 888,
   "id": "697c39b6-71c8-4eb0-844d-e641905da885",
   "metadata": {},
   "outputs": [],
   "source": [
    "def islandPerimeter(grid):\n",
    "    pass\n",
    "\n",
    "grid = [[0,1,0,0],[1,1,1,0],[0,1,0,0],[1,1,0,0]]\n",
    "islandPerimeter(grid)"
   ]
  },
  {
   "cell_type": "code",
   "execution_count": null,
   "id": "20b5e635-c991-4621-bfd3-901238828a08",
   "metadata": {},
   "outputs": [],
   "source": [
    "class Solution:\n",
    "    def islandPerimeter(self, grid: List[List[int]]) -> int:"
   ]
  },
  {
   "cell_type": "markdown",
   "id": "0b9ac469-a634-4cdd-8e07-707f0277ca32",
   "metadata": {
    "jp-MarkdownHeadingCollapsed": true
   },
   "source": [
    "# 58 476. 数字的补数\n",
    "https://leetcode.cn/problems/number-complement/description/"
   ]
  },
  {
   "cell_type": "code",
   "execution_count": 913,
   "id": "302d3e46-cf70-4737-8946-5c3054d9a4cc",
   "metadata": {},
   "outputs": [
    {
     "data": {
      "text/plain": [
       "0"
      ]
     },
     "execution_count": 913,
     "metadata": {},
     "output_type": "execute_result"
    }
   ],
   "source": [
    "def findComplement(num):\n",
    "    res = \"0b\"\n",
    "    s = bin(num)\n",
    "    for i in s[2:]:\n",
    "        if i == \"1\":\n",
    "            res += \"0\"\n",
    "        else:\n",
    "            res += \"1\"\n",
    "    return int(res,2)\n",
    "\n",
    "\n",
    "num = 1\n",
    "findComplement(num)"
   ]
  },
  {
   "cell_type": "code",
   "execution_count": null,
   "id": "d7c63cb8-2b68-41fc-bc1f-c92167ba6e82",
   "metadata": {},
   "outputs": [],
   "source": [
    "class Solution:\n",
    "    def findComplement(self, num: int) -> int:\n",
    "        res = \"0b\"\n",
    "        s = bin(num)\n",
    "        for i in s[2:]:\n",
    "            if i == \"1\":\n",
    "                res += \"0\"\n",
    "            else:\n",
    "                res += \"1\"\n",
    "        return int(res,2)\n"
   ]
  },
  {
   "cell_type": "markdown",
   "id": "8215b1a3-2acc-4209-9c34-0406ac2faf2f",
   "metadata": {
    "jp-MarkdownHeadingCollapsed": true
   },
   "source": [
    "# 59 482. 密钥格式化\n",
    "https://leetcode.cn/problems/license-key-formatting/description/"
   ]
  },
  {
   "cell_type": "code",
   "execution_count": 951,
   "id": "b01dc101-2eae-4fc1-967d-bd8dbb124834",
   "metadata": {},
   "outputs": [
    {
     "data": {
      "text/plain": [
       "'2'"
      ]
     },
     "execution_count": 951,
     "metadata": {},
     "output_type": "execute_result"
    }
   ],
   "source": [
    " def licenseKeyFormatting(s, k):\n",
    "     s1 =\"\"\n",
    "     res = \"\"\n",
    "     for i in s.split(\"-\"):\n",
    "       s1 += i \n",
    "     n = len(s1)\n",
    "     x, y = divmod(n, k)\n",
    "     if y == 0:\n",
    "         for i in range(x):\n",
    "             res += s1[k* i: k*(i+1)]\n",
    "             if i < x - 1: res += \"-\"\n",
    "     else:\n",
    "         res += s1[:y]\n",
    "         if x != 0: res += \"-\"\n",
    "         for i in range(x):\n",
    "             res += s1[k* i + y: k*(i+1) + y]\n",
    "             if i < x - 1: res += \"-\"\n",
    "     res = res.upper()\n",
    "     return res\n",
    "\n",
    "s = \"5F3Z-2e-9-w\"\n",
    "k = 4\n",
    "s = \"2-5g-3-J\"\n",
    "k = 2\n",
    "s = \"2\"\n",
    "k = 2\n",
    "licenseKeyFormatting(s, k)"
   ]
  },
  {
   "cell_type": "code",
   "execution_count": null,
   "id": "b24626dd-fa29-4c33-8596-462846448723",
   "metadata": {},
   "outputs": [],
   "source": [
    "class Solution:\n",
    "    def licenseKeyFormatting(self, s: str, k: int) -> str:\n",
    "         s1 =\"\"\n",
    "         res = \"\"\n",
    "         for i in s.split(\"-\"):\n",
    "           s1 += i \n",
    "         n = len(s1)\n",
    "         x, y = divmod(n, k)\n",
    "         if y == 0:\n",
    "             for i in range(x):\n",
    "                 res += s1[k* i: k*(i+1)]\n",
    "                 if i < x - 1: res += \"-\"\n",
    "         else:\n",
    "             res += s1[:y]\n",
    "             if x != 0: res += \"-\"\n",
    "             for i in range(x):\n",
    "                 res += s1[k* i + y: k*(i+1) + y]\n",
    "                 if i < x - 1: res += \"-\"\n",
    "         res = res.upper()\n",
    "         return res\n"
   ]
  },
  {
   "cell_type": "markdown",
   "id": "29caf793-d553-44b7-9d63-cecb75d8630e",
   "metadata": {
    "jp-MarkdownHeadingCollapsed": true
   },
   "source": [
    "# 60 485. 最大连续 1 的个数\n",
    "https://leetcode.cn/problems/max-consecutive-ones/description/"
   ]
  },
  {
   "cell_type": "code",
   "execution_count": 972,
   "id": "4cf0f572-8358-4e23-a0ee-a801da9de713",
   "metadata": {},
   "outputs": [
    {
     "data": {
      "text/plain": [
       "3"
      ]
     },
     "execution_count": 972,
     "metadata": {},
     "output_type": "execute_result"
    }
   ],
   "source": [
    "def findMaxConsecutiveOnes(nums):\n",
    "    n, res, cnt, end = len(nums), 0, 0, 0 \n",
    "    for i in nums:\n",
    "        if i == 0:\n",
    "            cnt =  0\n",
    "            res = max(res, cnt)\n",
    "        else:\n",
    "            cnt += 1\n",
    "            res = max(res, cnt)\n",
    "    return res\n",
    "\n",
    "nums = [1,1,0,1,1,1]\n",
    "findMaxConsecutiveOnes(nums)"
   ]
  },
  {
   "cell_type": "code",
   "execution_count": null,
   "id": "2ad25a9c-90e2-402b-bf6e-12f50796da0d",
   "metadata": {},
   "outputs": [],
   "source": [
    "class Solution:\n",
    "    def findMaxConsecutiveOnes(self, nums: List[int]) -> int:\n",
    "        n, res, cnt, end = len(nums), 0, 0, 0 \n",
    "        for i in nums:\n",
    "            if i == 0:\n",
    "                cnt =  0\n",
    "                res = max(res, cnt)\n",
    "            else:\n",
    "                cnt += 1\n",
    "                res = max(res, cnt)\n",
    "        return res"
   ]
  },
  {
   "cell_type": "markdown",
   "id": "747b63e1-66a0-45c3-b17d-c0a47d9903f3",
   "metadata": {
    "jp-MarkdownHeadingCollapsed": true
   },
   "source": [
    "# 61  492. 构造矩形\n",
    "https://leetcode.cn/problems/construct-the-rectangle/description/"
   ]
  },
  {
   "cell_type": "code",
   "execution_count": 981,
   "id": "56a46dc7-7be5-41b7-8c6b-92a2d5f30e6e",
   "metadata": {},
   "outputs": [
    {
     "data": {
      "text/plain": [
       "[427, 286]"
      ]
     },
     "execution_count": 981,
     "metadata": {},
     "output_type": "execute_result"
    }
   ],
   "source": [
    "def constructRectangle(area):\n",
    "    res = []\n",
    "    for i in range(1, area + 1):\n",
    "        a, b = divmod(area, i)\n",
    "        if b == 0 and a >= i:\n",
    "            res = [a, i]\n",
    "    return res\n",
    "area =122122\n",
    "constructRectangle(area)"
   ]
  },
  {
   "cell_type": "code",
   "execution_count": null,
   "id": "56e6ac75-966f-4726-aa41-60b3470ecfef",
   "metadata": {},
   "outputs": [],
   "source": [
    "class Solution:\n",
    "    def constructRectangle(self, area: int) -> List[int]:\n",
    "        res = []\n",
    "        for i in range(1, area + 1):\n",
    "            a, b = divmod(area, i)\n",
    "            if b == 0 and a >= i:\n",
    "                res = [a, i]\n",
    "        return res"
   ]
  },
  {
   "cell_type": "markdown",
   "id": "c9a80fab-dc56-4a20-9e1d-2680d7e86b41",
   "metadata": {
    "jp-MarkdownHeadingCollapsed": true
   },
   "source": [
    "# 62 495. 提莫攻击\n",
    "https://leetcode.cn/problems/teemo-attacking/description/"
   ]
  },
  {
   "cell_type": "code",
   "execution_count": 991,
   "id": "8096a357-6855-4d91-8d6e-4b866d774e63",
   "metadata": {},
   "outputs": [
    {
     "data": {
      "text/plain": [
       "3"
      ]
     },
     "execution_count": 991,
     "metadata": {},
     "output_type": "execute_result"
    }
   ],
   "source": [
    "def findPoisonedDuration(timeSeries, duration):\n",
    "    res = 0\n",
    "    n = len(timeSeries)\n",
    "    for i in range(n):\n",
    "        if i == n -1:\n",
    "            res += duration\n",
    "        else:\n",
    "            if timeSeries[i+1] - timeSeries[i] > duration:\n",
    "                res += duration\n",
    "            else: \n",
    "                res += (timeSeries[i+1] - timeSeries[i])\n",
    "    return res\n",
    "\n",
    "timeSeries = [1,4]\n",
    "duration = 2\n",
    "timeSeries = [1,2]\n",
    "duration = 2\n",
    "findPoisonedDuration(timeSeries, duration)"
   ]
  },
  {
   "cell_type": "code",
   "execution_count": null,
   "id": "794591c4-c8da-4b74-9514-8fbe74135681",
   "metadata": {},
   "outputs": [],
   "source": [
    "class Solution:\n",
    "    def findPoisonedDuration(self, timeSeries: List[int], duration: int) -> int:\n",
    "        res = 0\n",
    "        n = len(timeSeries)\n",
    "        for i in range(n):\n",
    "            if i == n -1:\n",
    "                res += duration\n",
    "            else:\n",
    "                if timeSeries[i+1] - timeSeries[i] > duration:\n",
    "                    res += duration\n",
    "                else: \n",
    "                    res += (timeSeries[i+1] - timeSeries[i])\n",
    "        return res"
   ]
  },
  {
   "cell_type": "markdown",
   "id": "1cefe1b1-6054-4655-b53d-f4fe9361888a",
   "metadata": {
    "jp-MarkdownHeadingCollapsed": true
   },
   "source": [
    "# 63 496. 下一个更大元素 I\n",
    "\n",
    "https://leetcode.cn/problems/next-greater-element-i/description/"
   ]
  },
  {
   "cell_type": "code",
   "execution_count": 1009,
   "id": "e0b7b9d6-a357-498f-b8b7-075bf1128acf",
   "metadata": {},
   "outputs": [
    {
     "data": {
      "text/plain": [
       "[3, -1]"
      ]
     },
     "execution_count": 1009,
     "metadata": {},
     "output_type": "execute_result"
    }
   ],
   "source": [
    "def nextGreaterElement(nums1, nums2):\n",
    "    res = []\n",
    "    n2 = len(nums2)\n",
    "    for i in nums1:\n",
    "        idx = nums2.index(i)\n",
    "        if idx == n2 -1:\n",
    "            res.append(-1)\n",
    "        else:\n",
    "            Flag = True\n",
    "            for j in nums2[idx: ]:\n",
    "                if j > i and Flag:\n",
    "                    res.append(j)\n",
    "                    Flag = False\n",
    "            if Flag:\n",
    "                res.append(-1)\n",
    "    return res\n",
    "            \n",
    "\n",
    "nums1 = [2,4]\n",
    "nums2 = [1,2,3,4]\n",
    "#nums1 = [4,1,2]\n",
    "#nums2 = [1,3,4,2]\n",
    "#nums1 = [1,3,5,2,4]\n",
    "#nums2 = [6,5,4,3,2,1,7]\n",
    "nextGreaterElement(nums1, nums2)"
   ]
  },
  {
   "cell_type": "code",
   "execution_count": null,
   "id": "2f72721b-4efd-4a85-97c0-405ebd9f78ce",
   "metadata": {},
   "outputs": [],
   "source": [
    "class Solution:\n",
    "    def nextGreaterElement(self, nums1: List[int], nums2: List[int]) -> List[int]:\n",
    "        res = []\n",
    "        n2 = len(nums2)\n",
    "        for i in nums1:\n",
    "            idx = nums2.index(i)\n",
    "            if idx == n2 -1:\n",
    "                res.append(-1)\n",
    "            else:\n",
    "                Flag = True\n",
    "                for j in nums2[idx: ]:\n",
    "                    if j > i and Flag:\n",
    "                        res.append(j)\n",
    "                        Flag = False\n",
    "                if Flag:\n",
    "                    res.append(-1)\n",
    "        return res"
   ]
  },
  {
   "cell_type": "markdown",
   "id": "06047a1c-685a-4ea8-9679-f44f840ec729",
   "metadata": {},
   "source": [
    "# 64 500. 键盘行\n",
    "\n",
    "https://leetcode.cn/problems/keyboard-row/description/"
   ]
  },
  {
   "cell_type": "code",
   "execution_count": 1018,
   "id": "5cf19471-4b9f-4963-b59a-fb85e666aef7",
   "metadata": {},
   "outputs": [
    {
     "data": {
      "text/plain": [
       "['Alaska', 'Dad']"
      ]
     },
     "execution_count": 1018,
     "metadata": {},
     "output_type": "execute_result"
    }
   ],
   "source": [
    "def findWords(words):\n",
    "    res = []\n",
    "    l1, l2, l3 = set(list(\"qwertyuiop\")), set(list(\"asdfghjkl\")), set(list(\"zxcvbnm\"))\n",
    "    for i in words:\n",
    "        if set(list(i.lower())).issubset(l1) or set(list(i.lower())).issubset(l2) or set(list(i.lower())).issubset(l3):\n",
    "            res.append(i)\n",
    "    return res\n",
    "        \n",
    "words = [\"Hello\",\"Alaska\",\"Dad\",\"Peace\"]\n",
    "findWords(words)"
   ]
  },
  {
   "cell_type": "code",
   "execution_count": null,
   "id": "35074c35-5a4e-4726-b178-22459e47e976",
   "metadata": {},
   "outputs": [],
   "source": [
    "class Solution:\n",
    "    def findWords(self, words: List[str]) -> List[str]:\n",
    "        res = []\n",
    "        l1, l2, l3 = set(list(\"qwertyuiop\")), set(list(\"asdfghjkl\")), set(list(\"zxcvbnm\"))\n",
    "        for i in words:\n",
    "            if set(list(i.lower())).issubset(l1) or set(list(i.lower())).issubset(l2) or set(list(i.lower())).issubset(l3):\n",
    "                res.append(i)\n",
    "        return res\n",
    "            "
   ]
  },
  {
   "cell_type": "markdown",
   "id": "b85ebc64-e72d-4293-b7df-b84cf3538861",
   "metadata": {},
   "source": [
    "# 65 504. 七进制数\n",
    "https://leetcode.cn/problems/base-7/description/"
   ]
  },
  {
   "cell_type": "code",
   "execution_count": 1052,
   "id": "c6c27998-06ef-40d7-bb04-3cf3064e1770",
   "metadata": {},
   "outputs": [
    {
     "data": {
      "text/plain": [
       "'-10'"
      ]
     },
     "execution_count": 1052,
     "metadata": {},
     "output_type": "execute_result"
    }
   ],
   "source": [
    "def convertToBase7(num):\n",
    "    if num == 0:\n",
    "        return \"0\"\n",
    "    if num > 0:\n",
    "        sign = True\n",
    "    else:\n",
    "        sign = False\n",
    "        num = abs(num)\n",
    "        \n",
    "    res = \"\"\n",
    "    while num:\n",
    "        res += str(num%7)\n",
    "        num = num // 7\n",
    "    if sign:\n",
    "        return res[::-1]\n",
    "    if not sign: \n",
    "        return  \"-\" + res[::-1]\n",
    "    \n",
    "num =-7\n",
    "convertToBase7(num)"
   ]
  },
  {
   "cell_type": "code",
   "execution_count": null,
   "id": "b418c295-af00-4920-99e2-3abd1f8110e2",
   "metadata": {},
   "outputs": [],
   "source": [
    "class Solution:\n",
    "    def convertToBase7(self, num: int) -> str:\n",
    "        if num == 0:\n",
    "            return \"0\"\n",
    "        if num > 0:\n",
    "            sign = True\n",
    "        else:\n",
    "            sign = False\n",
    "            num = abs(num)\n",
    "            \n",
    "        res = \"\"\n",
    "        while num:\n",
    "            res += str(num%7)\n",
    "            num = num // 7\n",
    "        if sign:\n",
    "            return res[::-1]\n",
    "        if not sign: \n",
    "            return  \"-\" + res[::-1]"
   ]
  },
  {
   "cell_type": "markdown",
   "id": "5b64dca7-99f0-46c9-8757-f313cebfeef0",
   "metadata": {},
   "source": [
    "# 66 506. 相对名次\n",
    "\n",
    "https://leetcode.cn/problems/relative-ranks/description/"
   ]
  },
  {
   "cell_type": "code",
   "execution_count": 1073,
   "id": "866e58d8-fe94-48be-894b-6104206171fb",
   "metadata": {},
   "outputs": [
    {
     "data": {
      "text/plain": [
       "['Gold Medal', 'Silver Medal', 'Bronze Medal', '4', '5']"
      ]
     },
     "execution_count": 1073,
     "metadata": {},
     "output_type": "execute_result"
    }
   ],
   "source": [
    "def findRelativeRanks(score):\n",
    "    ranked = sorted(score,reverse=True)\n",
    "    res = []\n",
    "    for i in score:\n",
    "        rank = ranked.index(i) + 1\n",
    "        if rank == 1:\n",
    "            res.append(\"Gold Medal\")\n",
    "        elif rank == 2:\n",
    "            res.append(\"Silver Medal\")\n",
    "        elif rank == 3:\n",
    "            res.append(\"Bronze Medal\")\n",
    "        else: \n",
    "            res.append(str(rank))\n",
    "    return res\n",
    "\n",
    "score = [5,4,3,2,1]\n",
    "findRelativeRanks(score)"
   ]
  },
  {
   "cell_type": "code",
   "execution_count": null,
   "id": "efebae4e-9ae7-49ea-bf2b-beac2a4939d5",
   "metadata": {},
   "outputs": [],
   "source": [
    "class Solution:\n",
    "    def findRelativeRanks(self, score: List[int]) -> List[str]:\n",
    "        ranked = sorted(score,reverse=True)\n",
    "        res = []\n",
    "        for i in score:\n",
    "            rank = ranked.index(i) + 1\n",
    "            if rank == 1:\n",
    "                res.append(\"Gold Medal\")\n",
    "            elif rank == 2:\n",
    "                res.append(\"Silver Medal\")\n",
    "            elif rank == 3:\n",
    "                res.append(\"Bronze Medal\")\n",
    "            else: \n",
    "                res.append(str(rank))\n",
    "        return res"
   ]
  },
  {
   "cell_type": "markdown",
   "id": "d72b00c4-cde9-497c-a40e-fda0ef0c3a7d",
   "metadata": {},
   "source": [
    "# 67 507. 完美数\n",
    "\n",
    "https://leetcode.cn/problems/perfect-number/description/"
   ]
  },
  {
   "cell_type": "code",
   "execution_count": 1081,
   "id": "c45f3dc7-f626-4d00-8a9c-3ed04b4be080",
   "metadata": {},
   "outputs": [
    {
     "data": {
      "text/plain": [
       "True"
      ]
     },
     "execution_count": 1081,
     "metadata": {},
     "output_type": "execute_result"
    }
   ],
   "source": [
    "def checkPerfectNumber(num):\n",
    "    factor = []\n",
    "    for i in range(1, num + 1):\n",
    "        x, y = divmod(num, i)\n",
    "        if x in factor:\n",
    "            break\n",
    "        if y == 0:\n",
    "            factor.append(x)\n",
    "            factor.append(i)\n",
    "    if sum(factor) == 2 * num:\n",
    "        return True\n",
    "    else:\n",
    "        return False\n",
    "num = 28\n",
    "checkPerfectNumber(num)"
   ]
  },
  {
   "cell_type": "code",
   "execution_count": 1083,
   "id": "9d78601a-7cfe-4131-ba1a-084b5c9c2586",
   "metadata": {},
   "outputs": [
    {
     "data": {
      "text/plain": [
       "5"
      ]
     },
     "execution_count": 1083,
     "metadata": {},
     "output_type": "execute_result"
    }
   ],
   "source": [
    "10 //2"
   ]
  },
  {
   "cell_type": "code",
   "execution_count": 1082,
   "id": "09dea413-872c-4068-879e-0612ea839daa",
   "metadata": {},
   "outputs": [
    {
     "ename": "ZeroDivisionError",
     "evalue": "integer division or modulo by zero",
     "output_type": "error",
     "traceback": [
      "\u001b[0;31m---------------------------------------------------------------------------\u001b[0m",
      "\u001b[0;31mZeroDivisionError\u001b[0m                         Traceback (most recent call last)",
      "Cell \u001b[0;32mIn[1082], line 14\u001b[0m\n\u001b[1;32m     12\u001b[0m         \u001b[38;5;28;01mreturn\u001b[39;00m \u001b[38;5;28;01mFalse\u001b[39;00m\n\u001b[1;32m     13\u001b[0m num \u001b[38;5;241m=\u001b[39m \u001b[38;5;241m28\u001b[39m\n\u001b[0;32m---> 14\u001b[0m \u001b[43mcheckPerfectNumber\u001b[49m\u001b[43m(\u001b[49m\u001b[43mnum\u001b[49m\u001b[43m)\u001b[49m\n",
      "Cell \u001b[0;32mIn[1082], line 6\u001b[0m, in \u001b[0;36mcheckPerfectNumber\u001b[0;34m(num)\u001b[0m\n\u001b[1;32m      4\u001b[0m y \u001b[38;5;241m=\u001b[39m num \u001b[38;5;241m%\u001b[39m i\n\u001b[1;32m      5\u001b[0m \u001b[38;5;28;01mif\u001b[39;00m y \u001b[38;5;241m==\u001b[39m \u001b[38;5;241m0\u001b[39m:\n\u001b[0;32m----> 6\u001b[0m     x \u001b[38;5;241m=\u001b[39m \u001b[43mnum\u001b[49m\u001b[43m \u001b[49m\u001b[38;5;241;43m/\u001b[39;49m\u001b[38;5;241;43m/\u001b[39;49m\u001b[43m \u001b[49m\u001b[43my\u001b[49m\n\u001b[1;32m      7\u001b[0m     factor\u001b[38;5;241m.\u001b[39mappend(x)\n\u001b[1;32m      8\u001b[0m     factor\u001b[38;5;241m.\u001b[39mappend(i)\n",
      "\u001b[0;31mZeroDivisionError\u001b[0m: integer division or modulo by zero"
     ]
    }
   ],
   "source": [
    "def checkPerfectNumber(num):\n",
    "    factor = []\n",
    "    for i in range(1, num + 1):\n",
    "        y = num % i\n",
    "        if y == 0:\n",
    "            x = num // y\n",
    "            factor.append(x)\n",
    "            factor.append(i)\n",
    "    if sum(factor) == 2 * num:\n",
    "        return True\n",
    "    else:\n",
    "        return False\n",
    "num = 28\n",
    "checkPerfectNumber(num)"
   ]
  },
  {
   "cell_type": "code",
   "execution_count": 1079,
   "id": "55bfa08e-e934-4837-9d9a-0cc7aeef19de",
   "metadata": {},
   "outputs": [],
   "source": [
    "class Solution:\n",
    "    def checkPerfectNumber(self, num: int) -> bool:\n",
    "        factor = []\n",
    "        for i in range(1, num + 1):\n",
    "            x, y = divmod(num, i)\n",
    "            if x in factor:\n",
    "                break\n",
    "            if y == 0:\n",
    "                factor.append(x)\n",
    "                factor.append(i)\n",
    "        if sum(factor) == 2 * num:\n",
    "            return True\n",
    "        else:\n",
    "            return False"
   ]
  },
  {
   "cell_type": "markdown",
   "id": "3073ec17-20e8-4e1a-9496-8ba22ab750dd",
   "metadata": {},
   "source": [
    "# 68\n",
    "https://leetcode.cn/problems/detect-capital/description/"
   ]
  },
  {
   "cell_type": "markdown",
   "id": "ed128bad-8df1-4c9f-bfe5-badbff41db92",
   "metadata": {},
   "source": [
    "# 69\n",
    "https://leetcode.cn/problems/longest-uncommon-subsequence-i/description/"
   ]
  },
  {
   "cell_type": "markdown",
   "id": "ab415323-4109-4a04-9942-57af5cf8acb9",
   "metadata": {},
   "source": [
    "# 70\n",
    "https://leetcode.cn/problems/reverse-string-ii/description/\n"
   ]
  },
  {
   "cell_type": "markdown",
   "id": "d15e16dc-f962-4fcf-93d6-9534257bfac2",
   "metadata": {},
   "source": [
    "# 71\n",
    "\n",
    "https://leetcode.cn/problems/diameter-of-binary-tree/description/"
   ]
  },
  {
   "cell_type": "markdown",
   "id": "86e51ae7-98da-47ba-a701-c479f122c1bc",
   "metadata": {},
   "source": [
    "# 72\n",
    "\n",
    "https://leetcode.cn/problems/student-attendance-record-i/description/"
   ]
  },
  {
   "cell_type": "markdown",
   "id": "a36a02b0-bd6b-4f21-933b-e1a1b70f7167",
   "metadata": {},
   "source": [
    "# 73\n",
    "\n",
    "https://leetcode.cn/problems/reverse-words-in-a-string-iii/description/"
   ]
  },
  {
   "cell_type": "markdown",
   "id": "d8e39665-60de-42f3-abb0-c24ecc8949fc",
   "metadata": {},
   "source": [
    "# 74\n",
    "\n",
    "https://leetcode.cn/problems/maximum-depth-of-n-ary-tree/description/"
   ]
  },
  {
   "cell_type": "markdown",
   "id": "2cd529b0-cd45-480d-aac7-77e4452d2bc4",
   "metadata": {},
   "source": [
    "# 75"
   ]
  },
  {
   "cell_type": "markdown",
   "id": "e1c259e7-a6d1-4b56-8ea6-7a4102a01094",
   "metadata": {},
   "source": [
    "# 76"
   ]
  },
  {
   "cell_type": "markdown",
   "id": "29a85f2b-e0df-4ad7-a466-36212056c1e2",
   "metadata": {},
   "source": []
  },
  {
   "cell_type": "code",
   "execution_count": null,
   "id": "79d0beeb-bd79-4967-b545-7906de8a17cf",
   "metadata": {},
   "outputs": [],
   "source": []
  },
  {
   "cell_type": "code",
   "execution_count": null,
   "id": "ece4972c-b373-4da2-b51c-89bbfa457880",
   "metadata": {},
   "outputs": [],
   "source": []
  },
  {
   "cell_type": "code",
   "execution_count": null,
   "id": "9dee3e18-6d32-4798-95c5-02c1e960fec8",
   "metadata": {},
   "outputs": [],
   "source": []
  },
  {
   "cell_type": "code",
   "execution_count": null,
   "id": "0da5c84f-6a20-4ef2-9fb8-15eb12e997e0",
   "metadata": {},
   "outputs": [],
   "source": []
  },
  {
   "cell_type": "code",
   "execution_count": null,
   "id": "96fcc0d9-a0bc-4e75-9b45-780ac94f0592",
   "metadata": {},
   "outputs": [],
   "source": []
  },
  {
   "cell_type": "code",
   "execution_count": null,
   "id": "b1c6fe70-e599-4196-a252-c4d2b64b8ecc",
   "metadata": {},
   "outputs": [],
   "source": []
  },
  {
   "cell_type": "code",
   "execution_count": null,
   "id": "b2419b97-0028-48e8-ac2f-bfdbba1a7332",
   "metadata": {},
   "outputs": [],
   "source": []
  },
  {
   "cell_type": "code",
   "execution_count": null,
   "id": "ad0af964-ae44-44be-a389-1d4c428ac96b",
   "metadata": {},
   "outputs": [],
   "source": []
  },
  {
   "cell_type": "code",
   "execution_count": null,
   "id": "0b987ea3-1a71-410f-893c-ccf9f108be1b",
   "metadata": {},
   "outputs": [],
   "source": []
  },
  {
   "cell_type": "code",
   "execution_count": null,
   "id": "e00123a7-b6db-467a-9211-07c84432573d",
   "metadata": {},
   "outputs": [],
   "source": []
  },
  {
   "cell_type": "code",
   "execution_count": null,
   "id": "02c15687-13fa-466b-84b8-961754d85087",
   "metadata": {},
   "outputs": [],
   "source": []
  },
  {
   "cell_type": "code",
   "execution_count": null,
   "id": "75636b55-5340-41da-a68a-e61ae8f5306e",
   "metadata": {},
   "outputs": [],
   "source": []
  },
  {
   "cell_type": "code",
   "execution_count": null,
   "id": "2137225b-97b4-4de5-971d-f7344ef71490",
   "metadata": {},
   "outputs": [],
   "source": []
  },
  {
   "cell_type": "code",
   "execution_count": null,
   "id": "0484b0d2-ea26-4c12-b9a3-f9d4742af157",
   "metadata": {},
   "outputs": [],
   "source": []
  },
  {
   "cell_type": "code",
   "execution_count": null,
   "id": "61dc3a79-5007-4757-9f3d-78208ea95f42",
   "metadata": {},
   "outputs": [],
   "source": [
    "from time import gmtime, strftime"
   ]
  },
  {
   "cell_type": "code",
   "execution_count": 965,
   "id": "7b07dae8-ec80-4dd2-8270-31d2ab68e7eb",
   "metadata": {
    "scrolled": true
   },
   "outputs": [
    {
     "ename": "TypeError",
     "evalue": "unsupported operand type(s) for -: 'str' and 'str'",
     "output_type": "error",
     "traceback": [
      "\u001b[0;31m---------------------------------------------------------------------------\u001b[0m",
      "\u001b[0;31mTypeError\u001b[0m                                 Traceback (most recent call last)",
      "Cell \u001b[0;32mIn[965], line 4\u001b[0m\n\u001b[1;32m      2\u001b[0m s \u001b[38;5;241m=\u001b[39m \u001b[38;5;124m\"\u001b[39m\u001b[38;5;124m2024-07-25 09:31:54\u001b[39m\u001b[38;5;124m\"\u001b[39m\n\u001b[1;32m      3\u001b[0m e \u001b[38;5;241m=\u001b[39m \u001b[38;5;124m\"\u001b[39m\u001b[38;5;124m2024-07-25 09:31:54\u001b[39m\u001b[38;5;124m\"\u001b[39m\n\u001b[0;32m----> 4\u001b[0m \u001b[38;5;28mprint\u001b[39m(\u001b[43mstrftime\u001b[49m\u001b[43m(\u001b[49m\u001b[43me\u001b[49m\u001b[43m)\u001b[49m\u001b[43m \u001b[49m\u001b[38;5;241;43m-\u001b[39;49m\u001b[43m \u001b[49m\u001b[43mstrftime\u001b[49m\u001b[43m(\u001b[49m\u001b[43ms\u001b[49m\u001b[43m)\u001b[49m)\n",
      "\u001b[0;31mTypeError\u001b[0m: unsupported operand type(s) for -: 'str' and 'str'"
     ]
    }
   ],
   "source": [
    "from time import gmtime, strftime\n",
    "s = \"2024-07-25 09:31:54\"\n",
    "e = \"2024-07-25 09:31:54\"\n",
    "print(strftime(e) - strftime(s))"
   ]
  },
  {
   "cell_type": "code",
   "execution_count": null,
   "id": "3bca0e44-18e8-4294-82bf-0f0b8b8d367b",
   "metadata": {},
   "outputs": [],
   "source": []
  }
 ],
 "metadata": {
  "kernelspec": {
   "display_name": "Python 3 (ipykernel)",
   "language": "python",
   "name": "python3"
  },
  "language_info": {
   "codemirror_mode": {
    "name": "ipython",
    "version": 3
   },
   "file_extension": ".py",
   "mimetype": "text/x-python",
   "name": "python",
   "nbconvert_exporter": "python",
   "pygments_lexer": "ipython3",
   "version": "3.10.6"
  }
 },
 "nbformat": 4,
 "nbformat_minor": 5
}
