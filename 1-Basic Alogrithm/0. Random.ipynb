{
 "cells": [
  {
   "cell_type": "markdown",
   "id": "c8fca0c4-c469-4b60-b896-07941397d9b2",
   "metadata": {},
   "source": [
    "# 1. 两数之和\n",
    "https://leetcode.cn/problems/two-sum/description/"
   ]
  },
  {
   "cell_type": "code",
   "execution_count": 6,
   "id": "b960b568-dc60-4bfa-a75a-df1b72727392",
   "metadata": {},
   "outputs": [
    {
     "data": {
      "text/plain": [
       "[0, 1]"
      ]
     },
     "execution_count": 6,
     "metadata": {},
     "output_type": "execute_result"
    }
   ],
   "source": [
    "def twoSum(nums, target):\n",
    "    n = len(nums)\n",
    "    for i in range(n):\n",
    "        for j in range(n):\n",
    "            if i != j and nums[i] + nums[j] == target:\n",
    "                return [i, j]\n",
    "nums = [2,7,11,15]\n",
    "target = 9\n",
    "twoSum(nums, target)"
   ]
  },
  {
   "cell_type": "code",
   "execution_count": null,
   "id": "a2eabb76-7174-45df-9293-2aac6b72e952",
   "metadata": {},
   "outputs": [],
   "source": [
    "class Solution:\n",
    "    def twoSum(self, nums: List[int], target: int) -> List[int]:\n",
    "        n = len(nums)\n",
    "        for i in range(n):\n",
    "            for j in range(n):\n",
    "                if i != j and nums[i] + nums[j] == target:\n",
    "                    return [i, j]"
   ]
  },
  {
   "cell_type": "markdown",
   "id": "d08a9d84-f3e3-44d4-afe7-887577421038",
   "metadata": {},
   "source": [
    "# 2. 9. 回文数\n",
    "https://leetcode.cn/problems/palindrome-number/description/"
   ]
  },
  {
   "cell_type": "code",
   "execution_count": 14,
   "id": "e6c70dfd-db53-4efe-aa6f-5d4f15330b49",
   "metadata": {},
   "outputs": [
    {
     "data": {
      "text/plain": [
       "True"
      ]
     },
     "execution_count": 14,
     "metadata": {},
     "output_type": "execute_result"
    }
   ],
   "source": [
    "def isPalindrome(x):\n",
    "    if x < 0:\n",
    "        return False\n",
    "    y = int(str(x)[::-1])\n",
    "    if x == y:\n",
    "        return True\n",
    "    else: \n",
    "        return False\n",
    "\n",
    "x = 121\n",
    "isPalindrome(x)"
   ]
  },
  {
   "cell_type": "code",
   "execution_count": null,
   "id": "0107459d-e00e-49e8-99fa-7713a15e621f",
   "metadata": {},
   "outputs": [],
   "source": [
    "class Solution:\n",
    "    def isPalindrome(self, x: int) -> bool:\n",
    "        if x < 0:\n",
    "            return False\n",
    "        y = int(str(x)[::-1])\n",
    "        if x == y:\n",
    "            return True\n",
    "        else: \n",
    "            return False"
   ]
  },
  {
   "cell_type": "markdown",
   "id": "a618c5f8-0925-4984-9a7b-45c57222059f",
   "metadata": {},
   "source": [
    "# 3   13. 罗马数字转整数\n",
    "https://leetcode.cn/problems/roman-to-integer/description/"
   ]
  },
  {
   "cell_type": "code",
   "execution_count": 35,
   "id": "2a3f042f-b5a3-4b83-a1f2-c18def4c86b9",
   "metadata": {},
   "outputs": [
    {
     "data": {
      "text/plain": [
       "1994"
      ]
     },
     "execution_count": 35,
     "metadata": {},
     "output_type": "execute_result"
    }
   ],
   "source": [
    "def romanToInt(s):\n",
    "    RomeDict = {\"I\":1, \"V\":5, \"X\":10, \"L\":50, \"C\":100, \"D\":500, \"M\":1000}\n",
    "    if len(s) == 1:\n",
    "        return RomeDict[s]\n",
    "    res = 0\n",
    "    i, n = 0, len(s)\n",
    "    while i < n:\n",
    "        if i != n-1 and RomeDict[s[i]] < RomeDict[s[i + 1]]:\n",
    "            res += RomeDict[s[i + 1]] - RomeDict[s[i]]\n",
    "            i += 2\n",
    "        else:\n",
    "            res += RomeDict[s[i]]\n",
    "            i += 1\n",
    "    return res  \n",
    "        \n",
    "#s = \"MCMXCIV\"\n",
    "#s = \"V\"\n",
    "s = \"MCMXCIV\"\n",
    "romanToInt(s)"
   ]
  },
  {
   "cell_type": "code",
   "execution_count": null,
   "id": "774e2ce2-1ed3-45c8-bd0d-54af2c796f5f",
   "metadata": {},
   "outputs": [],
   "source": [
    "class Solution:\n",
    "    def romanToInt(self, s: str) -> int:\n",
    "        RomeDict = {\"I\":1, \"V\":5, \"X\":10, \"L\":50, \"C\":100, \"D\":500, \"M\":1000}\n",
    "        if len(s) == 1:\n",
    "            return RomeDict[s]\n",
    "        res = 0\n",
    "        i, n = 0, len(s)\n",
    "        while i < n:\n",
    "            if i != n-1 and RomeDict[s[i]] < RomeDict[s[i + 1]]:\n",
    "                res += RomeDict[s[i + 1]] - RomeDict[s[i]]\n",
    "                i += 2\n",
    "            else:\n",
    "                res += RomeDict[s[i]]\n",
    "                i += 1\n",
    "        return res  "
   ]
  },
  {
   "cell_type": "markdown",
   "id": "f45e6b88-aa90-4370-8071-0dbc51e4014f",
   "metadata": {},
   "source": [
    "# 4 14. 最长公共前缀\n",
    "https://leetcode.cn/problems/longest-common-prefix/description/"
   ]
  },
  {
   "cell_type": "code",
   "execution_count": 55,
   "id": "3eda02ad-a548-4663-8476-e4fdcb061350",
   "metadata": {},
   "outputs": [
    {
     "data": {
      "text/plain": [
       "''"
      ]
     },
     "execution_count": 55,
     "metadata": {},
     "output_type": "execute_result"
    }
   ],
   "source": [
    "def longestCommonPrefix(strs):\n",
    "    sample = min(strs, key = len)\n",
    "    res = \"\"\n",
    "    for i in range(len(sample),0, -1):\n",
    "        flag = True\n",
    "        for j in strs:\n",
    "            if not j.startswith(sample[:i]):\n",
    "                flag  = False\n",
    "        if flag: \n",
    "            return sample[:i]\n",
    "    return res\n",
    "    \n",
    "#    res.startswith\n",
    "#    return res\n",
    "\n",
    "strs = [\"flower\",\"flow\",\"flight\"]\n",
    "strs = [\"dog\",\"racecar\",\"car\"]\n",
    "longestCommonPrefix(strs)"
   ]
  },
  {
   "cell_type": "code",
   "execution_count": null,
   "id": "dc367aec-686a-43d3-a024-58f7f49aa607",
   "metadata": {},
   "outputs": [],
   "source": [
    "class Solution:\n",
    "    def longestCommonPrefix(self, strs: List[str]) -> str:\n",
    "        sample = min(strs, key = len)\n",
    "        res = \"\"\n",
    "        for i in range(len(sample),0, -1):\n",
    "            flag = True\n",
    "            for j in strs:\n",
    "                if not j.startswith(sample[:i]):\n",
    "                    flag  = False\n",
    "            if flag: \n",
    "                return sample[:i]\n",
    "        return res"
   ]
  },
  {
   "cell_type": "markdown",
   "id": "8af0a8c4-7762-4ea2-aecf-07b769c03326",
   "metadata": {},
   "source": [
    "# 5. 20. 有效的括号\n",
    "https://leetcode.cn/problems/valid-parentheses/description/"
   ]
  },
  {
   "cell_type": "code",
   "execution_count": 62,
   "id": "9ef275a2-63b6-44b7-aeae-8338215b5100",
   "metadata": {},
   "outputs": [
    {
     "data": {
      "text/plain": [
       "[2, 3]"
      ]
     },
     "execution_count": 62,
     "metadata": {},
     "output_type": "execute_result"
    }
   ],
   "source": [
    "a = [1, 2,3]\n",
    "a.pop(0)\n",
    "a"
   ]
  },
  {
   "cell_type": "code",
   "execution_count": 76,
   "id": "3ecfcec8-e930-4121-a58b-ef894c42ae4c",
   "metadata": {},
   "outputs": [
    {
     "data": {
      "text/plain": [
       "False"
      ]
     },
     "execution_count": 76,
     "metadata": {},
     "output_type": "execute_result"
    }
   ],
   "source": [
    "def isValid(s):\n",
    "    d = {\")\":\"(\",\"]\":\"[\",\"}\":\"{\"}\n",
    "    res  = []\n",
    "    for i in s:\n",
    "        if res and i in d and res[-1] == d[i]:\n",
    "            res.pop()\n",
    "        else:\n",
    "            res.append(i)\n",
    "    return not res\n",
    "\n",
    "#s = \"()[]{}\"\n",
    "#s = \"(]\"\n",
    "#s = \"()\"\n",
    "s = \"([)]\"\n",
    "isValid(s)"
   ]
  },
  {
   "cell_type": "code",
   "execution_count": null,
   "id": "0ddbaab7-1e0c-43ff-8fd0-b19694f887ec",
   "metadata": {},
   "outputs": [],
   "source": [
    "class Solution:\n",
    "    def isValid(self, s: str) -> bool:\n",
    "        d = {\")\":\"(\",\"]\":\"[\",\"}\":\"{\"}\n",
    "        res  = []\n",
    "        for i in s:\n",
    "            if res and i in d and res[-1] == d[i]:\n",
    "                res.pop()\n",
    "            else:\n",
    "                res.append(i)\n",
    "        return not res"
   ]
  },
  {
   "cell_type": "markdown",
   "id": "c46403e2-63f7-4a38-8018-19c6202ab339",
   "metadata": {},
   "source": [
    "# 6 21. 合并两个有序链表\n",
    "https://leetcode.cn/problems/merge-two-sorted-lists/description/"
   ]
  }
 ],
 "metadata": {
  "kernelspec": {
   "display_name": "Python 3 (ipykernel)",
   "language": "python",
   "name": "python3"
  },
  "language_info": {
   "codemirror_mode": {
    "name": "ipython",
    "version": 3
   },
   "file_extension": ".py",
   "mimetype": "text/x-python",
   "name": "python",
   "nbconvert_exporter": "python",
   "pygments_lexer": "ipython3",
   "version": "3.10.6"
  }
 },
 "nbformat": 4,
 "nbformat_minor": 5
}
