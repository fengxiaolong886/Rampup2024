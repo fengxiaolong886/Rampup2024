{
 "cells": [
  {
   "cell_type": "markdown",
   "id": "926eeb1a-3a89-4152-a208-d872bcd582f4",
   "metadata": {},
   "source": [
    "# 5. Stack and Queue\n",
    "https://programmercarl.com/%E6%A0%88%E4%B8%8E%E9%98%9F%E5%88%97%E7%90%86%E8%AE%BA%E5%9F%BA%E7%A1%80.html"
   ]
  },
  {
   "cell_type": "markdown",
   "id": "e9d33635-a12e-4361-8779-7f65b311284b",
   "metadata": {},
   "source": [
    "# 01. 347. 前 K 个高频元素\n",
    "\n",
    "https://leetcode.cn/problems/top-k-frequent-elements/description/"
   ]
  },
  {
   "cell_type": "code",
   "execution_count": 11,
   "id": "2e39213b-a8f8-4891-bb9f-f8e35dec0791",
   "metadata": {},
   "outputs": [
    {
     "data": {
      "text/plain": [
       "[1, 2]"
      ]
     },
     "execution_count": 11,
     "metadata": {},
     "output_type": "execute_result"
    }
   ],
   "source": [
    "from collections import Counter\n",
    "def topKFrequent(nums, k):\n",
    "    s = Counter(nums)\n",
    "    qu = [(s[i], i) for i in s]\n",
    "    qu.sort(reverse=True)\n",
    "    res = [i[1] for i in qu[:k]]\n",
    "    return res\n",
    "\n",
    "nums = [1,1,1,2,2,3]\n",
    "k = 2\n",
    "topKFrequent(nums, k)"
   ]
  },
  {
   "cell_type": "code",
   "execution_count": null,
   "id": "dba77897-d10b-4ec6-8193-e42d5d5d5863",
   "metadata": {},
   "outputs": [],
   "source": [
    "class Solution:\n",
    "    def topKFrequent(self, nums: List[int], k: int) -> List[int]:\n",
    "        s = Counter(nums)\n",
    "        qu = [(s[i], i) for i in s]\n",
    "        qu.sort(reverse=True)\n",
    "        res = [i[1] for i in qu[:k]]\n",
    "        return res"
   ]
  },
  {
   "cell_type": "markdown",
   "id": "8e61c7fc-be62-4c8b-a582-7175da2e3ac1",
   "metadata": {},
   "source": [
    "# 02  239. 滑动窗口最大值\n",
    "\n",
    "https://leetcode.cn/problems/sliding-window-maximum/submissions/"
   ]
  },
  {
   "cell_type": "code",
   "execution_count": 17,
   "id": "094b5331-7f5f-46e3-89da-fafaf78f2919",
   "metadata": {},
   "outputs": [
    {
     "data": {
      "text/plain": [
       "[3, 3, 5, 5, 6, 7]"
      ]
     },
     "execution_count": 17,
     "metadata": {},
     "output_type": "execute_result"
    }
   ],
   "source": [
    "#Solution 1\n",
    "def maxSlidingWindow(nums, k):\n",
    "    left, right = 0, k\n",
    "    res = []\n",
    "    while right <= len(nums):\n",
    "        res.append(sorted(nums[left: right])[-1])\n",
    "        right += 1\n",
    "        left += 1\n",
    "    return res\n",
    "\n",
    "nums = [1,3,-1,-3,5,3,6,7]\n",
    "k = 3\n",
    "#nums = [1]\n",
    "#k = 1\n",
    "maxSlidingWindow(nums, k)"
   ]
  },
  {
   "cell_type": "code",
   "execution_count": 24,
   "id": "c3c78f71-84d6-4597-ab48-984e7f7ae10d",
   "metadata": {},
   "outputs": [
    {
     "data": {
      "text/plain": [
       "[3, 3, 5, 5, 6, 7]"
      ]
     },
     "execution_count": 24,
     "metadata": {},
     "output_type": "execute_result"
    }
   ],
   "source": [
    "#Solution 2\n",
    "def maxSlidingWindow(nums, k):\n",
    "    left, right = 0, k\n",
    "    res = []\n",
    "    while right <= len(nums):\n",
    "        if left == 0:\n",
    "            res.append(max(nums[left: right]))\n",
    "        else:\n",
    "            a, b, c = nums[left - 1],  res[-1], nums[right-1]\n",
    "            if a < b and c < b:\n",
    "                res.append(b)\n",
    "            elif c >= b:\n",
    "                res.append(c)\n",
    "            else:\n",
    "                res.append(max(nums[left: right]))\n",
    "        right += 1\n",
    "        left += 1\n",
    "    return res\n",
    "\n",
    "nums = [1,3,-1,-3,5,3,6,7]\n",
    "k = 3\n",
    "#nums = [1]\n",
    "#k = 1\n",
    "maxSlidingWindow(nums, k)"
   ]
  },
  {
   "cell_type": "code",
   "execution_count": 30,
   "id": "49e647d6-e003-41e9-be95-6c89821e4739",
   "metadata": {},
   "outputs": [
    {
     "data": {
      "text/plain": [
       "[3, 3, 5, 5, 6, 7]"
      ]
     },
     "execution_count": 30,
     "metadata": {},
     "output_type": "execute_result"
    }
   ],
   "source": [
    "#Solution 3\n",
    "from collections import deque\n",
    "def maxSlidingWindow(nums, k):\n",
    "    res = []\n",
    "    q = deque()\n",
    "    while right <= len(nums):\n",
    "        if left == 0:\n",
    "            res.append(max(nums[left: right]))\n",
    "        else:\n",
    "            a, b, c = nums[left - 1],  res[-1], nums[right-1]\n",
    "            if a < b and c < b:\n",
    "                res.append(b)\n",
    "            elif c >= b:\n",
    "                res.append(c)\n",
    "            else:\n",
    "                res.append(max(nums[left: right]))\n",
    "        right += 1\n",
    "        left += 1\n",
    "    return res\n",
    "nums = [1,3,-1,-3,5,3,6,7]\n",
    "k = 3\n",
    "#nums = [1]\n",
    "#k = 1\n",
    "maxSlidingWindow(nums, k)"
   ]
  },
  {
   "cell_type": "code",
   "execution_count": 41,
   "id": "74e1841f-6e39-4c3a-b9d1-2ec621119604",
   "metadata": {},
   "outputs": [
    {
     "data": {
      "text/plain": [
       "[1, -1]"
      ]
     },
     "execution_count": 41,
     "metadata": {},
     "output_type": "execute_result"
    }
   ],
   "source": [
    "#Solution 4\n",
    "from collections import deque\n",
    "def maxSlidingWindow(nums, k):\n",
    "    q = deque()\n",
    "    n = len(nums)\n",
    "    for i in range(k):\n",
    "        while q and nums[i] >= nums[q[-1]]:\n",
    "            q.pop()\n",
    "        q.append(i)\n",
    "\n",
    "    res = [nums[q[0]]]\n",
    "    for i in range(k, n):\n",
    "        while q and nums[i] >= nums[q[-1]]:\n",
    "            q.pop()\n",
    "        q.append(i)\n",
    "\n",
    "        while q[0] <= i - k:\n",
    "            q.popleft()\n",
    "        res.append(nums[q[0]])\n",
    "    return res\n",
    "\n",
    "    \n",
    "nums = [1,3,-1,-3,5,3,6,7]\n",
    "k = 3\n",
    "nums = [1]\n",
    "k = 1\n",
    "nums = [1,-1]\n",
    "k = 1\n",
    "maxSlidingWindow(nums, k)"
   ]
  },
  {
   "cell_type": "code",
   "execution_count": null,
   "id": "178ff2a7-3d93-485b-b1d5-edb2cd362575",
   "metadata": {},
   "outputs": [],
   "source": [
    "class Solution:\n",
    "    def maxSlidingWindow(self, nums: List[int], k: int) -> List[int]:\n",
    "        left, right = 0, k\n",
    "        res = []\n",
    "        while right <= len(nums):\n",
    "            if left == 0:\n",
    "                res.append(max(nums[left: right]))\n",
    "            else:\n",
    "                a, b, c = nums[left - 1],  res[-1], nums[right-1]\n",
    "                if a < b and c < b:\n",
    "                    res.append(b)\n",
    "                elif c >= b:\n",
    "                    res.append(c)\n",
    "                else:\n",
    "                    res.append(max(nums[left: right]))\n",
    "            right += 1\n",
    "            left += 1\n",
    "        return res"
   ]
  },
  {
   "cell_type": "markdown",
   "id": "893eac55-6032-4727-8e24-8a7917bbaa12",
   "metadata": {},
   "source": [
    "# 03 150. 逆波兰表达式求值\n",
    "\n",
    "https://leetcode.cn/problems/evaluate-reverse-polish-notation/description/\n",
    "\n",
    "向0取整，也称为“截断取整”，是一种取整方式。它将一个浮点数取整为最接近但小于它的整数。具体来说，对于正数，向0取整将取其整数部分；对于负数，向0取整将取其绝对值的整数部分并添加负号。例如，17 / 10 = 1，5 / 2 = 2，而 -9 / 4 = -2。在C和Java中，这种取整方式被默认采用，并可以通过trunc函数来实现。"
   ]
  },
  {
   "cell_type": "code",
   "execution_count": 68,
   "id": "c1828590-bd07-4365-ae52-4faf29321968",
   "metadata": {},
   "outputs": [
    {
     "data": {
      "text/plain": [
       "-7"
      ]
     },
     "execution_count": 68,
     "metadata": {},
     "output_type": "execute_result"
    }
   ],
   "source": [
    "from collections import deque\n",
    "def evalRPN(tokens):\n",
    "    q = deque()\n",
    "    m = [\"+\", \"-\", \"*\", \"/\"]\n",
    "    for i in tokens:\n",
    "        if i not in m:\n",
    "            q.append(int(i))\n",
    "        else:\n",
    "            if i == \"+\":\n",
    "                a = q.pop()\n",
    "                b = q.pop()\n",
    "                q.append(a + b)\n",
    "            elif i == \"-\":\n",
    "                a = q.pop()\n",
    "                b = q.pop()\n",
    "                q.append(b - a)\n",
    "            elif i == \"*\":\n",
    "                a = q.pop()\n",
    "                b = q.pop()\n",
    "                q.append(a * b)     \n",
    "            elif i == \"/\":\n",
    "                a = q.pop()\n",
    "                b = q.pop()\n",
    "                q.append(int(b / a) if b * a > 0 else -(abs(b) // abs(a)))\n",
    "    return q[0]\n",
    "        \n",
    "    \n",
    "tokens = [\"2\",\"1\",\"+\",\"3\",\"*\"]\n",
    "#tokens = [\"4\",\"13\",\"5\",\"/\",\"+\"]\n",
    "#tokens = [\"10\",\"6\",\"9\",\"3\",\"+\",\"-11\",\"*\",\"/\",\"*\",\"17\",\"+\",\"5\",\"+\"]\n",
    "tokens = [\"4\",\"-2\",\"/\",\"2\",\"-3\",\"-\",\"-\"]   # -7\n",
    "\n",
    "evalRPN(tokens)"
   ]
  },
  {
   "cell_type": "code",
   "execution_count": null,
   "id": "ec2acf83-c0ac-428d-848f-d1581905d642",
   "metadata": {},
   "outputs": [],
   "source": [
    "class Solution:\n",
    "    def evalRPN(self, tokens: List[str]) -> int:\n",
    "        q = deque()\n",
    "        m = [\"+\", \"-\", \"*\", \"/\"]\n",
    "        for i in tokens:\n",
    "            if i not in m:\n",
    "                q.append(int(i))\n",
    "            else:\n",
    "                if i == \"+\":\n",
    "                    a = q.pop()\n",
    "                    b = q.pop()\n",
    "                    q.append(a + b)\n",
    "                elif i == \"-\":\n",
    "                    a = q.pop()\n",
    "                    b = q.pop()\n",
    "                    q.append(b - a)\n",
    "                elif i == \"*\":\n",
    "                    a = q.pop()\n",
    "                    b = q.pop()\n",
    "                    q.append(a * b)     \n",
    "                elif i == \"/\":\n",
    "                    a = q.pop()\n",
    "                    b = q.pop()\n",
    "                    q.append(int(b / a) if b * a > 0 else -(abs(b) // abs(a)))\n",
    "        return q[0]\n",
    "            "
   ]
  }
 ],
 "metadata": {
  "kernelspec": {
   "display_name": "Python 3 (ipykernel)",
   "language": "python",
   "name": "python3"
  },
  "language_info": {
   "codemirror_mode": {
    "name": "ipython",
    "version": 3
   },
   "file_extension": ".py",
   "mimetype": "text/x-python",
   "name": "python",
   "nbconvert_exporter": "python",
   "pygments_lexer": "ipython3",
   "version": "3.10.6"
  }
 },
 "nbformat": 4,
 "nbformat_minor": 5
}
