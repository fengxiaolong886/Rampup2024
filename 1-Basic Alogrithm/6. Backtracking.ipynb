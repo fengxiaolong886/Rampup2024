{
 "cells": [
  {
   "attachments": {},
   "cell_type": "markdown",
   "id": "450bb014-58b3-45fa-ad82-9d37283e37c6",
   "metadata": {},
   "source": [
    "# 6 Backtracking\n",
    "https://programmercarl.com/%E5%9B%9E%E6%BA%AF%E7%AE%97%E6%B3%95%E7%90%86%E8%AE%BA%E5%9F%BA%E7%A1%80.html\n",
    "\n",
    "回溯法解决的问题\n",
    "回溯法，一般可以解决如下几种问题：\n",
    "\n",
    "组合问题：N个数里面按一定规则找出k个数的集合\n",
    "切割问题：一个字符串按一定规则有几种切割方式\n",
    "子集问题：一个N个数的集合里有多少符合条件的子集\n",
    "排列问题：N个数按一定规则全排列，有几种排列方式\n",
    "棋盘问题：N皇后，解数独等等\n",
    "\n",
    "模板：\n",
    "\n",
    "def xxx {\n",
    "    if (终止条件){\n",
    "        存放结果;\n",
    "        return;\n",
    "\n",
    "    for (选择：本层集合中元素（树中节点孩子的数量就是集合的大小）) \n",
    "        处理节点;\n",
    "        backtracking(路径，选择列表); // 递归\n",
    "        回溯，撤销处理结果\n",
    "    \n",
    "}"
   ]
  },
  {
   "cell_type": "markdown",
   "id": "f8c98584-9cf2-4e8f-b6a2-3af8bbb9b7b0",
   "metadata": {},
   "source": [
    "# 1  77. combinations\n",
    "\n",
    "https://leetcode.cn/problems/combinations/description/"
   ]
  },
  {
   "cell_type": "code",
   "execution_count": 5,
   "id": "f218331b-2a4e-4adb-8941-55732616f16a",
   "metadata": {},
   "outputs": [
    {
     "data": {
      "text/plain": [
       "[[1]]"
      ]
     },
     "execution_count": 5,
     "metadata": {},
     "output_type": "execute_result"
    }
   ],
   "source": [
    "from itertools import combinations\n",
    "def combine(n, k):\n",
    "    s = combinations([i for i in range(1, n + 1)], k)\n",
    "    res = []\n",
    "    for i in s:\n",
    "        res.append(list(i))\n",
    "    return res\n",
    "\n",
    "n = 1\n",
    "k = 1\n",
    "combine(n, k)"
   ]
  },
  {
   "cell_type": "code",
   "execution_count": null,
   "id": "a705be6b-c09d-427a-aff9-b1a34596c1df",
   "metadata": {},
   "outputs": [],
   "source": [
    "class Solution:\n",
    "    def combine(self, n: int, k: int) -> List[List[int]]:\n",
    "        s = combinations([i for i in range(1, n + 1)], k)\n",
    "        res = []\n",
    "        for i in s:\n",
    "            res.append(list(i))\n",
    "        return res"
   ]
  },
  {
   "cell_type": "markdown",
   "id": "6e4f7936-9050-4e93-bea3-426b1aca7495",
   "metadata": {},
   "source": [
    "# 2 216. combination-sum-iii\n",
    "https://leetcode.cn/problems/combination-sum-iii/description/"
   ]
  },
  {
   "cell_type": "code",
   "execution_count": 10,
   "id": "61c6bbd2-289d-4416-a1f3-75d43fcdbcfe",
   "metadata": {},
   "outputs": [
    {
     "data": {
      "text/plain": [
       "[]"
      ]
     },
     "execution_count": 10,
     "metadata": {},
     "output_type": "execute_result"
    }
   ],
   "source": [
    "def combinationSum3(k, n):\n",
    "    s = combinations([i for i in range(1, 10)], k)\n",
    "    res = []\n",
    "    for i in s:\n",
    "        if sum(i) == n:\n",
    "            res.append(list(i))\n",
    "    return res\n",
    "k = 4\n",
    "n = 1\n",
    "combinationSum3(k, n)"
   ]
  },
  {
   "cell_type": "code",
   "execution_count": null,
   "id": "c19459ff-cc9b-4f68-bec6-e4185874d2d8",
   "metadata": {},
   "outputs": [],
   "source": [
    "class Solution:\n",
    "    def combinationSum3(self, k: int, n: int) -> List[List[int]]:\n",
    "        s = combinations([i for i in range(1, 10)], k)\n",
    "        res = []\n",
    "        for i in s:\n",
    "            if sum(i) == n:\n",
    "                res.append(list(i))\n",
    "        return res"
   ]
  },
  {
   "cell_type": "markdown",
   "id": "39b1ff30-ba55-4705-8cfa-d9ec742991ac",
   "metadata": {},
   "source": [
    "# 3. 17. letter-combinations-of-a-phone-number\n",
    "\n",
    "https://leetcode.cn/problems/letter-combinations-of-a-phone-number/description/"
   ]
  },
  {
   "cell_type": "code",
   "execution_count": 26,
   "id": "a4f8cfeb-688a-44e0-8708-dbf9189150a0",
   "metadata": {},
   "outputs": [
    {
     "data": {
      "text/plain": [
       "['ad', 'ae', 'af', 'bd', 'be', 'bf', 'cd', 'ce', 'cf']"
      ]
     },
     "execution_count": 26,
     "metadata": {},
     "output_type": "execute_result"
    }
   ],
   "source": [
    "class Solution:\n",
    "    def __init__(self):\n",
    "        self.lettermap = [\"\", \"\", \"abc\",\"def\", \"ghi\", \"jkl\",\"mno\", \"pqrs\", \"tuv\",\"wxyz\"]\n",
    "        self.result = []\n",
    "        \n",
    "    def getCombinnation(self, digits, index, s):\n",
    "        if index == len(digits):\n",
    "            self.result.append(s)\n",
    "            return\n",
    "        digit = int(digits[index])\n",
    "        letters = self.lettermap[digit]\n",
    "        for letter in letters:\n",
    "            self.getCombinnation(digits, index + 1, s + letter)\n",
    "        \n",
    "    def letterCombinations(self, digits):\n",
    "        if len(digits) == 0:\n",
    "            return self.result\n",
    "\n",
    "        self.getCombinnation(digits, 0,  \"\")\n",
    "        return self.result\n",
    "        \n",
    "    \n",
    "    \n",
    "digits = \"23\"\n",
    "s = Solution()\n",
    "s.letterCombinations(digits)\n"
   ]
  },
  {
   "cell_type": "markdown",
   "id": "c1c568f8-27fe-427f-98ef-95f9f015bd22",
   "metadata": {},
   "source": [
    "# 4. 39. combination-sum\n",
    "\n",
    "https://leetcode.cn/problems/combination-sum/description/"
   ]
  },
  {
   "cell_type": "code",
   "execution_count": 29,
   "id": "eaa391ec-831a-4876-8728-3b2908f6576b",
   "metadata": {},
   "outputs": [],
   "source": [
    "class Solution:\n",
    "    def __init__(self):\n",
    "        self.result = []\n",
    "    def combinationSum(self, candidates, target):\n",
    "        pass\n",
    "\n",
    "\n",
    "candidates = [2,3,6,7]\n",
    "target = 7\n",
    "s = Solution()\n",
    "s.combinationSum(candidates, target)"
   ]
  },
  {
   "cell_type": "code",
   "execution_count": null,
   "id": "18e0fbe9-d1f8-4efe-a746-2c2764c1be7c",
   "metadata": {},
   "outputs": [],
   "source": [
    "class Solution:\n",
    "    def combinationSum(self, candidates: List[int], target: int) -> List[List[int]]:"
   ]
  },
  {
   "cell_type": "markdown",
   "id": "fdb46d55-2aa2-4d4f-bdec-1406b2f9c7f6",
   "metadata": {},
   "source": [
    "# 4 40. combination-sum-ii\n",
    "https://leetcode.cn/problems/combination-sum-ii/description/"
   ]
  },
  {
   "cell_type": "code",
   "execution_count": 14,
   "id": "182805f4-e2e8-45da-acdf-96635179b5bb",
   "metadata": {},
   "outputs": [],
   "source": [
    "def combinationSum2(candidates, target):\n",
    "    pass\n",
    "\n",
    "candidates = [10,1,2,7,6,1,5]\n",
    "target = 8\n",
    "combinationSum2(candidates, target)"
   ]
  },
  {
   "cell_type": "code",
   "execution_count": null,
   "id": "29efb500-7a99-4e43-ba6e-1589df89973f",
   "metadata": {},
   "outputs": [],
   "source": [
    "class Solution:\n",
    "    def combinationSum2(self, candidates: List[int], target: int) -> List[List[int]]:"
   ]
  },
  {
   "cell_type": "markdown",
   "id": "6ec9c262-3304-4471-8a5d-f1500099935a",
   "metadata": {},
   "source": [
    "https://leetcode.cn/problems/palindrome-partitioning/description/"
   ]
  },
  {
   "cell_type": "markdown",
   "id": "02b5d89f-a2db-4765-829c-2ee7b49eec6a",
   "metadata": {},
   "source": [
    "https://leetcode.cn/problems/restore-ip-addresses/description/"
   ]
  },
  {
   "cell_type": "markdown",
   "id": "af9dbd2a-466a-4b52-987c-969df68b8cb1",
   "metadata": {},
   "source": [
    "https://leetcode.cn/problems/subsets/description/"
   ]
  },
  {
   "cell_type": "markdown",
   "id": "7e1123e1-f085-45b6-bd7d-6d8e57849d25",
   "metadata": {},
   "source": [
    "https://leetcode.cn/problems/subsets-ii/description/"
   ]
  },
  {
   "cell_type": "markdown",
   "id": "ec0c6d78-41c5-49a1-88a7-7e0d11e3b528",
   "metadata": {},
   "source": [
    "https://leetcode.cn/problems/non-decreasing-subsequences/description/"
   ]
  },
  {
   "cell_type": "markdown",
   "id": "3de61208-910b-4382-b9fd-38387269f9e0",
   "metadata": {},
   "source": [
    "https://leetcode.cn/problems/permutations/description/"
   ]
  },
  {
   "cell_type": "markdown",
   "id": "643b67d5-90da-4dc6-babd-827f540e184b",
   "metadata": {},
   "source": [
    "https://leetcode.cn/problems/permutations-ii/description/"
   ]
  },
  {
   "cell_type": "markdown",
   "id": "288f21a0-e000-4d86-8ff8-677b67affd79",
   "metadata": {},
   "source": [
    "https://leetcode.cn/problems/reconstruct-itinerary/description/"
   ]
  },
  {
   "cell_type": "markdown",
   "id": "3fa8507e-6d52-4e9f-bd37-7fd053969a0d",
   "metadata": {},
   "source": [
    "https://leetcode.cn/problems/n-queens/description/"
   ]
  },
  {
   "cell_type": "markdown",
   "id": "f2ae9838-83bf-45bc-9c46-979c12080f45",
   "metadata": {},
   "source": [
    "https://leetcode.cn/problems/sudoku-solver/description/"
   ]
  }
 ],
 "metadata": {
  "kernelspec": {
   "display_name": "Python 3 (ipykernel)",
   "language": "python",
   "name": "python3"
  },
  "language_info": {
   "codemirror_mode": {
    "name": "ipython",
    "version": 3
   },
   "file_extension": ".py",
   "mimetype": "text/x-python",
   "name": "python",
   "nbconvert_exporter": "python",
   "pygments_lexer": "ipython3",
   "version": "3.10.6"
  }
 },
 "nbformat": 4,
 "nbformat_minor": 5
}
