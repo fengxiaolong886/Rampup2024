{
 "cells": [
  {
   "cell_type": "markdown",
   "id": "d047d43f-291d-4d6f-a0fe-f527300fb3d4",
   "metadata": {},
   "source": [
    "# Dynamic Programming (DP) - 动态规划"
   ]
  },
  {
   "cell_type": "markdown",
   "id": "babf352d-6ea7-418f-95a5-3fa6f6d61797",
   "metadata": {},
   "source": [
    "Follow: https://blog.csdn.net/zy450271923/article/details/105298999"
   ]
  },
  {
   "cell_type": "markdown",
   "id": "a9f2d73b-c199-4a81-b3e1-b17d170da90d",
   "metadata": {},
   "source": [
    "1、何时采用动态规划\n",
    "整个数组或在固定大小的滑动窗口中找到总和或最大值或最小值的问题可以通过动态规划（DP）在线性时间内解决。\n",
    "\n",
    "2、动态规划解题步骤\n",
    "总体上分为四步：定义状态、状态转移方程、初始化、输出\n",
    "\n",
    "2.1 定义状态\n",
    "什么状态好转移就定义什么状态。\n",
    "常见的状态定义方法：\n",
    "一维动态规划：\n",
    "\n",
    "    （1） dp[i]定义为数组前i个元素的最值或者总和\n",
    "    \n",
    "    （2） dp[i]表示以nums[i]作为结尾元素的最值或总和\n",
    "\n",
    "二维动态规划：\n",
    "\n",
    "    （1） dp[i][j]定义为数组或字符串从nums[i…j]之间的最值\n",
    "    \n",
    "    （2） dp[i][j]定义为以nums[i]开始并且以nums[j]结尾的子数组的最值\n",
    " \n",
    "    （3） dp[i][j]定义为两个数组分别以nums[i]和nums[j]结尾的最值\n",
    "   \n",
    "    （4） dp[i][j]在01背包问题中表示添加前i个数值后剩余的容量为j\n",
    "\n",
    "2.1 状态转移方程\n",
    "\n",
    "1. 01背包问题\n",
    "从数组中选出一些数值，使其满足特定的容量，从而求其最大值。包含有容量大小V，价值还有物品v,剩余容量大于物品重量 w时：\n",
    "初始时：i=1,j=1\n",
    "\n",
    "\n",
    " <code>dp(i,j)=max(dp(i-1,j)，dp(i-1,j-w(i))+v(i))</code>\n",
    "\n",
    "3. "
   ]
  }
 ],
 "metadata": {
  "kernelspec": {
   "display_name": "Python 3 (ipykernel)",
   "language": "python",
   "name": "python3"
  },
  "language_info": {
   "codemirror_mode": {
    "name": "ipython",
    "version": 3
   },
   "file_extension": ".py",
   "mimetype": "text/x-python",
   "name": "python",
   "nbconvert_exporter": "python",
   "pygments_lexer": "ipython3",
   "version": "3.10.6"
  }
 },
 "nbformat": 4,
 "nbformat_minor": 5
}
