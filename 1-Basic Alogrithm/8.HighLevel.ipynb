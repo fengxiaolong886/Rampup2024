{
 "cells": [
  {
   "cell_type": "markdown",
   "id": "d8daa983-a425-4acc-b17d-df0e05c07c8e",
   "metadata": {},
   "source": [
    "# High level"
   ]
  },
  {
   "cell_type": "markdown",
   "id": "27461fd8-292a-456d-b044-3ddfb5f18d18",
   "metadata": {},
   "source": [
    "# 1. 2940 find-building-where-alice-and-bob-can-meet\n",
    "\n",
    "https://leetcode.cn/problems/find-building-where-alice-and-bob-can-meet/description/?envType=daily-question&envId=2024-08-10"
   ]
  },
  {
   "cell_type": "code",
   "execution_count": 58,
   "id": "51c0b3be-cd63-444b-8803-8297be840cd0",
   "metadata": {},
   "outputs": [
    {
     "name": "stdout",
     "output_type": "stream",
     "text": [
      "[2, 5, -1, 5, 2]\n",
      "False\n"
     ]
    }
   ],
   "source": [
    "# 1  Timeout\n",
    "class Solution:\n",
    "    def leftmostBuildingQueries(self, heights, queries):\n",
    "        res = []\n",
    "        for i in queries:\n",
    "            a, b = i [0], i[1]\n",
    "            if heights[min(a, b)] >=  heights[max(a, b)] and a != b:\n",
    "                deviation = max(a, b)\n",
    "                q = heights[deviation +1 :]\n",
    "                candidate = []\n",
    "                for j in range(len(q)):\n",
    "                    if q[j] > heights[a] and q[j] > heights[b]:\n",
    "                        candidate = j + deviation + 1\n",
    "                        break\n",
    "                if candidate:\n",
    "                    res.append(candidate)\n",
    "                else: \n",
    "                    res.append(-1)\n",
    "            else:\n",
    "                res.append(max(a, b))\n",
    "        return res\n",
    "\n",
    "heights = [6,4,8,5,2,7]\n",
    "queries = [[0,1],[0,3],[2,4],[3,4],[2,2]] #[2, 5, -1, 5, 2]\n",
    "#heights = [5,3,8,2,6,1,4,6]\n",
    "#queries = [[0,7],[3,5],[5,2],[3,0],[1,6]]   #输出：[7,6,-1,4,6]\n",
    "#heights = [1,2,1,2,1,2]\n",
    "#queries = [[0,0],[0,1],[0,2],[0,3],[0,4],[0,5],[1,0],[1,1],[1,2],[1,3],[1,4],[1,5],[2,0],[2,1],[2,2],[2,3],[2,4],[2,5],[3,0],[3,1],[3,2],[3,3],[3,4],[3,5],[4,0],[4,1],[4,2],[4,3],[4,4],[4,5],[5,0],[5,1],[5,2],[5,3],[5,4],[5,5]]\n",
    "## [0,1,2,3,4,5,1,1,-1,3,-1,5,2,-1,2,3,4,5,3,3,3,3,-1,5,4,-1,4,-1,4,5,5,5,5,5,5,5]\n",
    "ans = Solution()\n",
    "m = ans.leftmostBuildingQueries(heights, queries)\n",
    "n = [0,1,3,3,5,5,1,1,-1,-1,-1,-1,3,-1,2,3,5,5,3,-1,3,3,-1,-1,5,-1,5,-1,4,5,5,-1,5,-1,5,5]\n",
    "print(m)\n",
    "print(m ==n)"
   ]
  },
  {
   "cell_type": "code",
   "execution_count": 68,
   "id": "bb84d440-bc93-41bc-a30e-f535b54eaed9",
   "metadata": {},
   "outputs": [
    {
     "name": "stdout",
     "output_type": "stream",
     "text": [
      "[2, 5, -1, 5, 2]\n",
      "False\n"
     ]
    }
   ],
   "source": [
    "# 2. Optimization, but also Timeout\n",
    "class Solution:\n",
    "    def leftmostBuildingQueries(self, heights, queries):\n",
    "        res, n  = [], len(heights)       \n",
    "        for i in queries:\n",
    "            a, b = i [0], i[1]\n",
    "            if a > b:\n",
    "                a, b = b, a\n",
    "            if heights[a] >=  heights[b] and a != b:\n",
    "                candidate = []\n",
    "                for j in range(b + 1,  n):\n",
    "                    if heights[j] > heights[a] and heights[j] > heights[b]:\n",
    "                        candidate = j\n",
    "                        break\n",
    "                if candidate:\n",
    "                    res.append(candidate)\n",
    "                else: \n",
    "                    res.append(-1)\n",
    "            else:\n",
    "                res.append(b)\n",
    "        return res\n",
    "\n",
    "heights = [6,4,8,5,2,7]\n",
    "queries = [[0,1],[0,3],[2,4],[3,4],[2,2]] #[2, 5, -1, 5, 2]\n",
    "#heights = [5,3,8,2,6,1,4,6]\n",
    "#queries = [[0,7],[3,5],[5,2],[3,0],[1,6]]   #输出：[7,6,-1,4,6]\n",
    "#heights = [1,2,1,2,1,2]\n",
    "#queries = [[0,0],[0,1],[0,2],[0,3],[0,4],[0,5],[1,0],[1,1],[1,2],[1,3],[1,4],[1,5],[2,0],[2,1],[2,2],[2,3],[2,4],[2,5],[3,0],[3,1],[3,2],[3,3],[3,4],[3,5],[4,0],[4,1],[4,2],[4,3],[4,4],[4,5],[5,0],[5,1],[5,2],[5,3],[5,4],[5,5]]\n",
    "ans = Solution()\n",
    "m = ans.leftmostBuildingQueries(heights, queries)\n",
    "n = [0,1,3,3,5,5,1,1,-1,-1,-1,-1,3,-1,2,3,5,5,3,-1,3,3,-1,-1,5,-1,5,-1,4,5,5,-1,5,-1,5,5]\n",
    "print(m)\n",
    "print(m ==n)"
   ]
  },
  {
   "cell_type": "markdown",
   "id": "cbed0e58-ba56-4a59-979b-4d4b480b66fa",
   "metadata": {},
   "source": [
    "# 2 4 median-of-two-sorted-arrays\n",
    "https://leetcode.cn/problems/median-of-two-sorted-arrays/description/"
   ]
  },
  {
   "cell_type": "code",
   "execution_count": 83,
   "id": "f9dca4bc-eb62-457b-a7e8-89168674797f",
   "metadata": {},
   "outputs": [
    {
     "data": {
      "text/plain": [
       "2.5"
      ]
     },
     "execution_count": 83,
     "metadata": {},
     "output_type": "execute_result"
    }
   ],
   "source": [
    "import numpy as np\n",
    "class Solution:\n",
    "    def findMedianSortedArrays(self, nums1, nums2):\n",
    "        nums1 += nums2\n",
    "        return np.median(np.array(nums1, dtype=int)).tolist()\n",
    "\n",
    "nums1 = [1,3]\n",
    "nums2 = [2]\n",
    "nums1 = [1,2]\n",
    "nums2 = [3,4]\n",
    "ans = Solution()\n",
    "ans.findMedianSortedArrays(nums1, nums2)"
   ]
  },
  {
   "cell_type": "markdown",
   "id": "104e965e-bf4d-422a-88dc-dfe4612a1987",
   "metadata": {},
   "source": [
    "# 3. longest-palindromic-substring\n",
    "https://leetcode.cn/problems/longest-palindromic-substring/description/"
   ]
  },
  {
   "cell_type": "code",
   "execution_count": 115,
   "id": "ce3d5153-28ff-4831-ae5f-3c2c4816e2a0",
   "metadata": {},
   "outputs": [
    {
     "data": {
      "text/plain": [
       "'a'"
      ]
     },
     "execution_count": 115,
     "metadata": {},
     "output_type": "execute_result"
    }
   ],
   "source": [
    "class Solution:\n",
    "    def longestPalindrome(self, s):\n",
    "        i, j, res_num, n ,heap, res= 0, 1, 1, len(s), [], s[0]\n",
    "        if len(s) <= 1:\n",
    "            return s\n",
    "\n",
    "        for i in range(n):\n",
    "            for j in range(i + 1, n):\n",
    "                temp = s[i: j + 1]\n",
    "                if temp == temp[::-1] and len(temp) > res_num:\n",
    "                    res_num = len(temp)\n",
    "                    res = temp\n",
    "        return res\n",
    "        \n",
    "s = \"babad\"\n",
    "#s = \"cbbd\"\n",
    "#s = \"bb\"\n",
    "s = \"ac\"\n",
    "ans = Solution()\n",
    "ans.longestPalindrome(s)"
   ]
  },
  {
   "cell_type": "markdown",
   "id": "e40602bc-c4b2-4b65-8eb8-a1ef11a19e99",
   "metadata": {},
   "source": [
    "# 4 6.zigzag-conversion\n",
    "https://leetcode.cn/problems/zigzag-conversion/description/"
   ]
  },
  {
   "cell_type": "code",
   "execution_count": 161,
   "id": "fc163a9f-2c3f-400c-b54c-08aa06691d2b",
   "metadata": {},
   "outputs": [
    {
     "data": {
      "text/plain": [
       "'PINALSIGYAHRPI'"
      ]
     },
     "execution_count": 161,
     "metadata": {},
     "output_type": "execute_result"
    }
   ],
   "source": [
    "class Solution:\n",
    "    def convert(self, s, numRows):\n",
    "        if numRows < 2: return s\n",
    "        res = [\"\" for _ in range(numRows)]\n",
    "        i, flag = 0, -1\n",
    "        for c in s:\n",
    "            res[i] += c\n",
    "            if i ==0 or i == numRows -1: flag = - flag\n",
    "            i += flag\n",
    "        return \"\".join(res)\n",
    "\n",
    "\n",
    "s = \"PAYPALISHIRING\"\n",
    "numRows = 4\n",
    "ans = Solution()\n",
    "ans.convert(s, numRows)"
   ]
  },
  {
   "cell_type": "markdown",
   "id": "9fe8a301-9adb-4224-915d-acb6472867d3",
   "metadata": {},
   "source": [
    "# 5. 1035. 不相交的线\n",
    "\n",
    "https://leetcode.cn/problems/uncrossed-lines/description/?envType=daily-question&envId=2024-08-11"
   ]
  },
  {
   "cell_type": "code",
   "execution_count": 212,
   "id": "39bceff7-3160-413d-a492-dddde5bebc0b",
   "metadata": {},
   "outputs": [
    {
     "data": {
      "text/plain": [
       "2"
      ]
     },
     "execution_count": 212,
     "metadata": {},
     "output_type": "execute_result"
    }
   ],
   "source": [
    "class Solution:\n",
    "    def maxUncrossedLines(self, nums1, nums2):\n",
    "        m, n = len(nums1), len(nums2)\n",
    "        f = [[0] * (n + 1) for _ in range(m + 1)]\n",
    "        for i, x in enumerate(nums1,1):\n",
    "            for j, y in enumerate(nums2, 1):\n",
    "                if x == y:\n",
    "                    f[i][j] = f[i-1][j - 1] + 1\n",
    "                else:\n",
    "                    f[i][j] = max(f[i-1][j], f[i][j-1])\n",
    "        return f[m][n]\n",
    "\n",
    "nums1 = [1,4,2]\n",
    "nums2 = [1,2,4] #2\n",
    "#nums1 = [2,5,1,2,5]\n",
    "#nums2 = [10,5,2,1,5,2] #3\n",
    "nums1 = [1,3,7,1,7,5]\n",
    "nums2 = [1,9,2,5,1] #2\n",
    "nums1 = [2,1,2]\n",
    "nums2 = [2,2,2] # 2\n",
    "ans = Solution()\n",
    "ans.maxUncrossedLines(nums1, nums2)"
   ]
  },
  {
   "cell_type": "markdown",
   "id": "54477a97-2c15-4692-b704-09e72f7c5d02",
   "metadata": {},
   "source": [
    "# 6  7.reverse-integer\n",
    "https://leetcode.cn/problems/reverse-integer/submissions/"
   ]
  },
  {
   "cell_type": "code",
   "execution_count": 228,
   "id": "82efd4d6-d834-4845-ab73-c022ea40e04c",
   "metadata": {},
   "outputs": [
    {
     "data": {
      "text/plain": [
       "0"
      ]
     },
     "execution_count": 228,
     "metadata": {},
     "output_type": "execute_result"
    }
   ],
   "source": [
    "class Solution:\n",
    "    def reverse(self, x):\n",
    "        try:\n",
    "            if x >= 0:\n",
    "                res = int(str(x)[::-1])\n",
    "            else: \n",
    "                res =  -int(str(x)[1:][::-1])\n",
    "            if res > 2147483647 or res < -2147483648:\n",
    "                return 0\n",
    "            else:\n",
    "                return res\n",
    "        except:\n",
    "            return 0\n",
    "\n",
    "x = 1534236469\n",
    "ans = Solution()\n",
    "ans.reverse(x)"
   ]
  },
  {
   "cell_type": "markdown",
   "id": "3e3b5eb0-658f-4926-846f-6fdc78448561",
   "metadata": {},
   "source": [
    "# 7   8. string-to-integer-atoi\n",
    "https://leetcode.cn/problems/string-to-integer-atoi/description/"
   ]
  },
  {
   "cell_type": "code",
   "execution_count": 261,
   "id": "129c9195-2341-4d46-8649-8aa643e54540",
   "metadata": {},
   "outputs": [
    {
     "data": {
      "text/plain": [
       "0"
      ]
     },
     "execution_count": 261,
     "metadata": {},
     "output_type": "execute_result"
    }
   ],
   "source": [
    "class Solution:\n",
    "    def myAtoi(self, s):\n",
    "        s = s.strip()\n",
    "        if not s:\n",
    "            return 0\n",
    "        fu = False\n",
    "        if s[0] == \"-\":\n",
    "            s = s[1:]\n",
    "            fu = True\n",
    "        elif s[0] == \"+\":\n",
    "            s = s[1:]\n",
    "        s1 = \"\"\n",
    "        for i in s:\n",
    "            if ord(i) >= 48 and ord(i) <= 57 :\n",
    "                s1 += i\n",
    "            else:\n",
    "                break\n",
    "        s = s1\n",
    "        if s:\n",
    "            if fu:\n",
    "                res = -int(s)\n",
    "            else:\n",
    "                res = int(s)\n",
    "            if res > 2147483647:\n",
    "                return 2147483647\n",
    "            elif res < -2147483648:\n",
    "                return -2147483648\n",
    "            else:\n",
    "                return res\n",
    "        else:\n",
    "            return 0\n",
    "            \n",
    "s = \"   +42\"\n",
    "#s = \"   -042\"\n",
    "#s = \"1337c0d3\" #1337\n",
    "s = \"words and 987\"\n",
    "s = \"\"\n",
    "s = \" \"\n",
    "ans = Solution()\n",
    "ans.myAtoi(s)"
   ]
  },
  {
   "cell_type": "markdown",
   "id": "f152990c-3fb1-4cad-b181-477fd8c4b809",
   "metadata": {},
   "source": [
    "# 8. 11. 盛最多水的容器\n",
    "https://leetcode.cn/problems/container-with-most-water/description/"
   ]
  },
  {
   "cell_type": "code",
   "execution_count": 299,
   "id": "50ebf45d-da4c-4d56-b537-b4cde418d941",
   "metadata": {},
   "outputs": [
    {
     "data": {
      "text/plain": [
       "1"
      ]
     },
     "execution_count": 299,
     "metadata": {},
     "output_type": "execute_result"
    }
   ],
   "source": [
    "class Solution:\n",
    "    def maxArea(self, height):\n",
    "        res = 0\n",
    "        for left, leftval in enumerate(height[:-1]):\n",
    "            right = left + 1\n",
    "            while right < len(height):\n",
    "                long = right - left\n",
    "                short = min(leftval, height[right])\n",
    "                res = max(res, long * short)\n",
    "                right += 1\n",
    "        return res\n",
    "\n",
    "height = [1,8,6,2,5,4,8,3,7]\n",
    "height = [1,1]\n",
    "ans = Solution()\n",
    "ans.maxArea(height)"
   ]
  },
  {
   "cell_type": "code",
   "execution_count": 302,
   "id": "c0cb7f59-59b8-47e4-a95c-d3a2ac0a00dc",
   "metadata": {},
   "outputs": [
    {
     "data": {
      "text/plain": [
       "49"
      ]
     },
     "execution_count": 302,
     "metadata": {},
     "output_type": "execute_result"
    }
   ],
   "source": [
    "class Solution:\n",
    "    def maxArea(self, height):\n",
    "        i, j, res = 0, len(height) - 1, 0\n",
    "        while i < j:\n",
    "            if height[i] < height[j]:\n",
    "                res = max(res, height[i] * (j - i))\n",
    "                i += 1\n",
    "            else:\n",
    "                res = max(res, height[j] * (j - i))\n",
    "                j -= 1\n",
    "        return res\n",
    "\n",
    "height = [1,8,6,2,5,4,8,3,7]\n",
    "#height = [1,1]\n",
    "ans = Solution()\n",
    "ans.maxArea(height)"
   ]
  },
  {
   "cell_type": "markdown",
   "id": "cd8db375-ed96-4c02-9bd9-3dab91d5e643",
   "metadata": {},
   "source": [
    "# 9 12. 整数转罗马数字\n",
    "https://leetcode.cn/problems/integer-to-roman/description/"
   ]
  },
  {
   "cell_type": "code",
   "execution_count": 317,
   "id": "57383f0d-dfa0-474e-8ff3-8c9828ad61c1",
   "metadata": {},
   "outputs": [
    {
     "data": {
      "text/plain": [
       "'MMMDCCXLIX'"
      ]
     },
     "execution_count": 317,
     "metadata": {},
     "output_type": "execute_result"
    }
   ],
   "source": [
    "class Solution:\n",
    "    def intToRoman(self, num):\n",
    "        t, num = divmod(num, 1000)\n",
    "        b, num = divmod(num, 100)\n",
    "        s, num = divmod(num, 10)\n",
    "        ge  = ['','I','II','III','IV','V','VI','VII','VIII','IX']\n",
    "        shi = ['','X','XX','XXX','XL','L','LX','LXX','LXXX','XC']\n",
    "        bai = ['','C','CC','CCC','CD','D','DC','DCC','DCCC','CM']\n",
    "        qian =['','M','MM','MMM']\n",
    "        res = \"\"\n",
    "        res += qian[t] + bai[b] + shi[s] + ge[num]\n",
    "        return res\n",
    "    \n",
    "num = 3749\n",
    "ans = Solution()\n",
    "ans.intToRoman(num)"
   ]
  },
  {
   "cell_type": "markdown",
   "id": "c291ab87-9c75-4e89-a6d4-3ec0b8bb615d",
   "metadata": {},
   "source": [
    "# 10 16 3sum-closest\n",
    "https://leetcode.cn/problems/3sum-closest/description/"
   ]
  },
  {
   "cell_type": "code",
   "execution_count": 325,
   "id": "74220433-dcf3-4dd2-bab0-3684fc42656c",
   "metadata": {},
   "outputs": [
    {
     "data": {
      "text/plain": [
       "0"
      ]
     },
     "execution_count": 325,
     "metadata": {},
     "output_type": "execute_result"
    }
   ],
   "source": [
    "# timeout\n",
    "\n",
    "from itertools import combinations\n",
    "class Solution:\n",
    "    def threeSumClosest(self, nums, target):\n",
    "        res = sum(nums[:3])\n",
    "        temp = float(\"inf\")\n",
    "        s = combinations(nums, 3)\n",
    "        for i in s:\n",
    "            j = sum(i)\n",
    "            d = abs(j - target)\n",
    "            if d < temp:\n",
    "                temp = d\n",
    "                res = j\n",
    "        return res\n",
    "\n",
    "nums = [-1,2,1,-4]\n",
    "target = 1\n",
    "nums = [0,0,0]\n",
    "target = 1\n",
    "ans = Solution()\n",
    "ans.threeSumClosest(nums, target)"
   ]
  },
  {
   "cell_type": "code",
   "execution_count": 334,
   "id": "2a0ca269-0a95-4570-b072-7f27af435200",
   "metadata": {},
   "outputs": [
    {
     "data": {
      "text/plain": [
       "-2960"
      ]
     },
     "execution_count": 334,
     "metadata": {},
     "output_type": "execute_result"
    }
   ],
   "source": [
    "class Solution:\n",
    "    def threeSumClosest(self, nums, target):\n",
    "        nums.sort()\n",
    "        res = 0\n",
    "        temp = float(\"inf\")\n",
    "        for i in range(len(nums)):\n",
    "            left, right  = i + 1, len(nums) -1\n",
    "            while right > left:\n",
    "                sum_ = nums[i] + nums[left] + nums[right]\n",
    "                d = abs(sum_ - target) \n",
    "#                print(sum_, d, target, abs(d-target))\n",
    "                if d < temp:\n",
    "                    temp = d\n",
    "                    res = sum_\n",
    "                if sum_ > target:\n",
    "                    right -= 1\n",
    "                elif sum_ == target:\n",
    "                    return target\n",
    "                else:\n",
    "                    left += 1\n",
    "        return res\n",
    "\n",
    "\n",
    "nums = [-1,2,1,-4]\n",
    "target = 1\n",
    "#nums = [0,0,0]\n",
    "#target = 1\n",
    "nums = [833,736,953,-584,-448,207,128,-445,126,248,871,860,333,-899,463,488,-50,-331,903,575,265,162,-733,648,678,549,579,-172,-897,562,-503,-508,858,259,-347,-162,-505,-694,300,-40,-147,383,-221,-28,-699,36,-229,960,317,-585,879,406,2,409,-393,-934,67,71,-312,787,161,514,865,60,555,843,-725,-966,-352,862,821,803,-835,-635,476,-704,-78,393,212,767,-833,543,923,-993,274,-839,389,447,741,999,-87,599,-349,-515,-553,-14,-421,-294,-204,-713,497,168,337,-345,-948,145,625,901,34,-306,-546,-536,332,-467,-729,229,-170,-915,407,450,159,-385,163,-420,58,869,308,-494,367,-33,205,-823,-869,478,-238,-375,352,113,-741,-970,-990,802,-173,-977,464,-801,-408,-77,694,-58,-796,-599,-918,643,-651,-555,864,-274,534,211,-910,815,-102,24,-461,-146]\n",
    "target = -7111 #-2960\n",
    "ans = Solution()\n",
    "ans.threeSumClosest(nums, target)"
   ]
  },
  {
   "cell_type": "markdown",
   "id": "445cf8a5-53a2-420a-a006-b3e8e8ad4ca9",
   "metadata": {},
   "source": [
    "# 11.  29. 两数相除\n",
    "https://leetcode.cn/problems/divide-two-integers/description/"
   ]
  },
  {
   "cell_type": "code",
   "execution_count": 349,
   "id": "48f9e80c-6150-48c1-bbb9-619d5bedd756",
   "metadata": {},
   "outputs": [
    {
     "data": {
      "text/plain": [
       "2147483648"
      ]
     },
     "execution_count": 349,
     "metadata": {},
     "output_type": "execute_result"
    }
   ],
   "source": [
    "import math\n",
    "class Solution:\n",
    "    def divide(self, dividend, divisor):\n",
    "        res = math.trunc(dividend / divisor)\n",
    "        if res > 2147483647:\n",
    "            return 2147483647\n",
    "        else: \n",
    "            return res\n",
    "        \n",
    "dividend = -2147483648\n",
    "divisor = -1 #2147483647\n",
    "ans = Solution()\n",
    "ans.divide(dividend, divisor)"
   ]
  },
  {
   "cell_type": "markdown",
   "id": "c9b68949-76e6-42dd-8d0c-4c05c7c17e65",
   "metadata": {},
   "source": [
    "# 12. 43. 字符串相乘\n",
    "https://leetcode.cn/problems/multiply-strings/description/"
   ]
  },
  {
   "cell_type": "code",
   "execution_count": null,
   "id": "bee41b56-25f1-4d32-84fe-16660569b10f",
   "metadata": {},
   "outputs": [],
   "source": [
    "class Solution:\n",
    "    def multiply(self, num1: str, num2: str) -> str:\n",
    "        return str(int(num1) * int(num2))"
   ]
  },
  {
   "cell_type": "markdown",
   "id": "77ce4e11-e695-4266-9cd2-29d6a6934ca3",
   "metadata": {},
   "source": [
    "# 13. 80. 删除有序数组中的重复项 II\n",
    "https://leetcode.cn/problems/remove-duplicates-from-sorted-array-ii/description/?envType=study-plan-v2&envId=top-interview-150"
   ]
  },
  {
   "cell_type": "code",
   "execution_count": 351,
   "id": "eb72a56c-711b-4856-ae1a-1cf0b0b785ec",
   "metadata": {},
   "outputs": [
    {
     "data": {
      "text/plain": [
       "5"
      ]
     },
     "execution_count": 351,
     "metadata": {},
     "output_type": "execute_result"
    }
   ],
   "source": [
    "class Solution:\n",
    "    def removeDuplicates(self, nums):\n",
    "        j = 0\n",
    "        q = {}\n",
    "        while j < len(nums):\n",
    "            i = nums[j]\n",
    "            if i not in q:\n",
    "                q[i] = 1\n",
    "                j += 1\n",
    "            elif i in q  and q[i] == 1:\n",
    "                q[i] += 1\n",
    "                j += 1\n",
    "            elif i in q and q[i] ==2:\n",
    "                nums.pop(j)\n",
    "        return len(nums)\n",
    "\n",
    "nums = [0,0,1,1,1,1,2,3,3]\n",
    "nums = [1,1,1,2,2,3]\n",
    "ans = Solution()\n",
    "ans.removeDuplicates(nums)"
   ]
  },
  {
   "cell_type": "markdown",
   "id": "02445e95-91ff-4856-95a2-256ac41cf290",
   "metadata": {},
   "source": [
    "# 14 189. 轮转数组\n",
    "https://leetcode.cn/problems/rotate-array/description/?envType=study-plan-v2&envId=top-interview-150"
   ]
  },
  {
   "cell_type": "code",
   "execution_count": 392,
   "id": "934d4571-6ea1-45cf-b45d-89f5b35aea35",
   "metadata": {},
   "outputs": [
    {
     "data": {
      "text/plain": [
       "[3, 99, -1, -100]"
      ]
     },
     "execution_count": 392,
     "metadata": {},
     "output_type": "execute_result"
    }
   ],
   "source": [
    "class Solution:\n",
    "    def rotate(self, nums, k):\n",
    "        n = len(nums)\n",
    "        k1 = k % n\n",
    "        for i in range(k1):\n",
    "            a= nums.pop()\n",
    "            nums.insert(0, a)\n",
    "        return nums\n",
    "        \n",
    "        \n",
    "#nums = [1,2,3,4,5,6,7]\n",
    "#k = 3\n",
    "nums = [-1,-100,3,99]\n",
    "k = 2\n",
    "ans = Solution()\n",
    "ans.rotate(nums, k)"
   ]
  },
  {
   "cell_type": "markdown",
   "id": "0b194bfe-03ed-4f7f-bd87-0646d78b0d43",
   "metadata": {},
   "source": [
    "# 15 274. H 指数\n",
    "https://leetcode.cn/problems/h-index/description/?envType=study-plan-v2&envId=top-interview-150"
   ]
  },
  {
   "cell_type": "code",
   "execution_count": 408,
   "id": "50fae6ee-a146-4e9e-9dcd-a44fb2d0e1c0",
   "metadata": {},
   "outputs": [
    {
     "data": {
      "text/plain": [
       "1"
      ]
     },
     "execution_count": 408,
     "metadata": {},
     "output_type": "execute_result"
    }
   ],
   "source": [
    "class Solution:\n",
    "    def hIndex(self, citations):\n",
    "        n = len(citations)\n",
    "        database = {}\n",
    "        for i in range(n, 0, -1):\n",
    "            s = [j >= i for j in citations]\n",
    "            if sum(s) >= i:\n",
    "                return i\n",
    "        return 0\n",
    "        \n",
    "\n",
    "citations = [3,0,6,1,5]\n",
    "citations = [1,3,1]\n",
    "ans = Solution()\n",
    "ans.hIndex(citations)"
   ]
  },
  {
   "cell_type": "markdown",
   "id": "de6b48c9-799f-4c84-a049-43b3b2627f84",
   "metadata": {},
   "source": [
    "# 16. 172. 阶乘后的零\n",
    "\n",
    "https://leetcode.cn/problems/factorial-trailing-zeroes/?envType=study-plan-v2&envId=top-interview-150"
   ]
  },
  {
   "cell_type": "code",
   "execution_count": 418,
   "id": "ddea6706-db8a-4097-8eb6-e9e1f7a1623e",
   "metadata": {},
   "outputs": [
    {
     "data": {
      "text/plain": [
       "390"
      ]
     },
     "execution_count": 418,
     "metadata": {},
     "output_type": "execute_result"
    }
   ],
   "source": [
    "class Solution:\n",
    "    def trailingZeroes(self, n):\n",
    "        res = 0\n",
    "        while n:\n",
    "            n //=5\n",
    "            res +=n\n",
    "        return res\n",
    "\n",
    "n = 1574\n",
    "ans = Solution()\n",
    "ans.trailingZeroes(n)"
   ]
  },
  {
   "cell_type": "markdown",
   "id": "32da14db-73c3-4b22-855c-ba1f1906f781",
   "metadata": {},
   "source": [
    "# 17  137. 只出现一次的数字 II\n",
    "\n",
    "https://leetcode.cn/problems/single-number-ii/description/?envType=study-plan-v2&envId=top-interview-150"
   ]
  },
  {
   "cell_type": "code",
   "execution_count": 419,
   "id": "a1a0bee0-aa59-400a-9b99-f7f1d1841c61",
   "metadata": {},
   "outputs": [
    {
     "data": {
      "text/plain": [
       "3"
      ]
     },
     "execution_count": 419,
     "metadata": {},
     "output_type": "execute_result"
    }
   ],
   "source": [
    "from collections import Counter\n",
    "class Solution:\n",
    "    def singleNumber(self, nums):\n",
    "        res = Counter(nums)\n",
    "        for i in res:\n",
    "            if res[i] == 1:\n",
    "                return i\n",
    "        \n",
    "nums = [2,2,3,2]\n",
    "ans = Solution()\n",
    "ans.singleNumber(nums)"
   ]
  },
  {
   "cell_type": "markdown",
   "id": "9bdca297-4c40-4d5d-b4af-ab1649b5f55d",
   "metadata": {},
   "source": [
    "# 18 215. 数组中的第K个最大元素\n",
    "https://leetcode.cn/problems/kth-largest-element-in-an-array/description/?envType=study-plan-v2&envId=top-interview-150"
   ]
  },
  {
   "cell_type": "code",
   "execution_count": 446,
   "id": "2effdce4-5be4-4bf3-9149-806215aea92f",
   "metadata": {},
   "outputs": [
    {
     "data": {
      "text/plain": [
       "4"
      ]
     },
     "execution_count": 446,
     "metadata": {},
     "output_type": "execute_result"
    }
   ],
   "source": [
    "class Solution:\n",
    "    def findKthLargest(self, nums, k):\n",
    "        nums.sort()\n",
    "        return nums[-k]\n",
    "\n",
    "nums = [3,2,3,1,2,4,5,5,6]\n",
    "k = 4\n",
    "ans = Solution()\n",
    "ans.findKthLargest(nums, k)"
   ]
  },
  {
   "cell_type": "markdown",
   "id": "b4d6dc7b-1387-4811-8a97-485ac56bfb54",
   "metadata": {},
   "source": [
    "# 19  373. 查找和最小的 K 对数字\n",
    "https://leetcode.cn/problems/find-k-pairs-with-smallest-sums/?envType=study-plan-v2&envId=top-interview-150"
   ]
  },
  {
   "cell_type": "code",
   "execution_count": 462,
   "id": "a0ff2f68-6dd8-4744-bbc7-dc661cc6f4d5",
   "metadata": {},
   "outputs": [
    {
     "data": {
      "text/plain": [
       "[[1, 2], [1, 4], [1, 6]]"
      ]
     },
     "execution_count": 462,
     "metadata": {},
     "output_type": "execute_result"
    }
   ],
   "source": [
    "class Solution:\n",
    "    def kSmallestPairs(self, nums1, nums2, k):\n",
    "        s = []\n",
    "        for i in nums1:\n",
    "            for j in nums2:\n",
    "                s.append((i + j, i, j))\n",
    "        s.sort()\n",
    "        return [[i[1], i[2]] for i in s[:k]] \n",
    "        \n",
    "nums1 = [1,7,11]\n",
    "nums2 = [2,4,6]\n",
    "k = 3\n",
    "ans = Solution()\n",
    "ans.kSmallestPairs(nums1, nums2, k)"
   ]
  },
  {
   "cell_type": "code",
   "execution_count": 473,
   "id": "2900fc6e-989c-41b2-b930-a2bed72b03fa",
   "metadata": {},
   "outputs": [
    {
     "data": {
      "text/plain": [
       "[[1, 6], [1, 2], [1, 4]]"
      ]
     },
     "execution_count": 473,
     "metadata": {},
     "output_type": "execute_result"
    }
   ],
   "source": [
    "import heapq\n",
    "class Solution:\n",
    "    def kSmallestPairs(self, nums1, nums2, k):\n",
    "        s = []\n",
    "        for i in nums1[:k]:\n",
    "            for j in nums2[:k]:\n",
    "                heapq.heappush(s, (-i -j, i, j))\n",
    "                if len(s) >k:\n",
    "                    heapq.heappop(s)\n",
    "        return [[i[1], i[2]] for i in s] \n",
    "        \n",
    "nums1 = [1,7,11]\n",
    "nums2 = [2,4,6]\n",
    "k = 3\n",
    "ans = Solution()\n",
    "ans.kSmallestPairs(nums1, nums2, k)"
   ]
  },
  {
   "cell_type": "code",
   "execution_count": 481,
   "id": "5825233f-1d78-4aae-b604-f4492c8a3f83",
   "metadata": {},
   "outputs": [
    {
     "data": {
      "text/plain": [
       "[[1, 2], [1, 4], [1, 6]]"
      ]
     },
     "execution_count": 481,
     "metadata": {},
     "output_type": "execute_result"
    }
   ],
   "source": [
    "class Solution:\n",
    "    def kSmallestPairs(self, nums1, nums2, k):\n",
    "        m, n = len(nums1), len(nums2)\n",
    "        heap, res  = [] , []\n",
    "        vis = set()\n",
    "        heapq.heappush(heap, [nums1[0] + nums2[0], 0, 0])\n",
    "\n",
    "        while heap and len(res) <=k:\n",
    "            _, i, j = heapq.heappop(heap)\n",
    "            if (i,j) in vis:\n",
    "                continue\n",
    "            vis.add((i,j))\n",
    "            res.append([nums1[i], nums2[j]])\n",
    "            if len(res) == k:\n",
    "                break\n",
    "            if i +1 < m:\n",
    "                heapq.heappush(heap, [nums1[i + 1] + nums2[j], i + 1, j])\n",
    "            if j +1 < n:\n",
    "                heapq.heappush(heap, [nums1[i] + nums2[j + 1], i, j+ 1])\n",
    "        return res\n",
    "                \n",
    "            \n",
    "nums1 = [1,7,11]\n",
    "nums2 = [2,4,6]\n",
    "k = 3\n",
    "ans = Solution()\n",
    "ans.kSmallestPairs(nums1, nums2, k)"
   ]
  },
  {
   "cell_type": "markdown",
   "id": "fc98a1cc-7ba8-4503-9966-b650d4df3271",
   "metadata": {},
   "source": [
    "# 20 74. 搜索二维矩阵\n",
    "https://leetcode.cn/problems/search-a-2d-matrix/description/?envType=study-plan-v2&envId=top-interview-150 "
   ]
  },
  {
   "cell_type": "code",
   "execution_count": 486,
   "id": "ab1d1a75-1a33-44de-8523-f91e5f2e9b70",
   "metadata": {},
   "outputs": [
    {
     "data": {
      "text/plain": [
       "True"
      ]
     },
     "execution_count": 486,
     "metadata": {},
     "output_type": "execute_result"
    }
   ],
   "source": [
    "import numpy as np\n",
    "class Solution:\n",
    "    def searchMatrix(self, matrix, target):\n",
    "        s = np.array(matrix).flatten()\n",
    "        return target in s\n",
    "\n",
    "matrix = [[1,3,5,7],[10,11,16,20],[23,30,34,60]]\n",
    "target = 3\n",
    "ans = Solution()\n",
    "ans.searchMatrix(matrix, target)"
   ]
  },
  {
   "cell_type": "markdown",
   "id": "3522b9cd-aafa-44c2-b808-5ab6de14133b",
   "metadata": {},
   "source": [
    "# 21 162. 寻找峰值\n",
    "https://leetcode.cn/problems/find-peak-element/description/?envType=study-plan-v2&envId=top-interview-150"
   ]
  },
  {
   "cell_type": "code",
   "execution_count": 489,
   "id": "e8c401e4-482a-4830-842f-75cd3f54b914",
   "metadata": {},
   "outputs": [
    {
     "data": {
      "text/plain": [
       "2"
      ]
     },
     "execution_count": 489,
     "metadata": {},
     "output_type": "execute_result"
    }
   ],
   "source": [
    "class Solution:\n",
    "    def findPeakElement(self, nums):\n",
    "        return nums.index(max(nums))\n",
    "\n",
    "nums = [1,2,3,1]\n",
    "ans = Solution()\n",
    "ans.findPeakElement(nums)"
   ]
  },
  {
   "cell_type": "markdown",
   "id": "016a7f68-12da-4d86-aeac-463fda6276e1",
   "metadata": {},
   "source": [
    "# 23 33. 搜索旋转排序数组\n",
    "https://leetcode.cn/problems/search-in-rotated-sorted-array/description/?envType=study-plan-v2&envId=top-interview-150"
   ]
  },
  {
   "cell_type": "code",
   "execution_count": 493,
   "id": "2aba0017-23ae-42fb-a680-ac8e9cc78916",
   "metadata": {},
   "outputs": [
    {
     "data": {
      "text/plain": [
       "4"
      ]
     },
     "execution_count": 493,
     "metadata": {},
     "output_type": "execute_result"
    }
   ],
   "source": [
    "class Solution:\n",
    "    def search(self, nums, target):\n",
    "        if target in nums:\n",
    "            return nums.index(target)\n",
    "        else: \n",
    "            return -1\n",
    "\n",
    "nums = [4,5,6,7,0,1,2]\n",
    "target = 0\n",
    "ans = Solution()\n",
    "ans.search(nums, target)"
   ]
  },
  {
   "cell_type": "markdown",
   "id": "a2ec61f9-78e9-4b1f-84f8-4cc007b4a227",
   "metadata": {},
   "source": [
    "# 24  34. 在排序数组中查找元素的第一个和最后一个位置\n",
    "\n",
    "https://leetcode.cn/problems/find-first-and-last-position-of-element-in-sorted-array/description/?envType=study-plan-v2&envId=top-interview-150"
   ]
  },
  {
   "cell_type": "code",
   "execution_count": 514,
   "id": "b523c947-560f-4231-818e-b3afe3b549ab",
   "metadata": {},
   "outputs": [
    {
     "data": {
      "text/plain": [
       "[0, 0]"
      ]
     },
     "execution_count": 514,
     "metadata": {},
     "output_type": "execute_result"
    }
   ],
   "source": [
    "class Solution:\n",
    "    def searchRange(self, nums, target):\n",
    "        res = []\n",
    "        n = len(nums)\n",
    "        for i in range(n):\n",
    "            if nums[i] == target:\n",
    "                res.append(i)\n",
    "                break\n",
    "        if not res:\n",
    "            return [-1, -1]\n",
    "        for i in range(n -1 , 0, -1):\n",
    "            if nums[i] == target:\n",
    "                res.append(i)\n",
    "                break\n",
    "        if len(res) == 1:\n",
    "            return [0, 0]\n",
    "        return res\n",
    "            \n",
    "        \n",
    "nums = [1]\n",
    "target = 1\n",
    "ans = Solution()\n",
    "ans.searchRange(nums, target)"
   ]
  },
  {
   "cell_type": "markdown",
   "id": "a3e6ba32-480c-4ca0-84d3-e7f82b4add07",
   "metadata": {},
   "source": [
    "# 23 53. 最大子数组和\n",
    "https://leetcode.cn/problems/maximum-subarray/description/?envType=study-plan-v2&envId=top-interview-150"
   ]
  },
  {
   "cell_type": "code",
   "execution_count": 521,
   "id": "1e2af20f-2c2a-48d6-8220-57d34b359ccb",
   "metadata": {},
   "outputs": [
    {
     "data": {
      "text/plain": [
       "6"
      ]
     },
     "execution_count": 521,
     "metadata": {},
     "output_type": "execute_result"
    }
   ],
   "source": [
    "class Solution:\n",
    "    def maxSubArray(self, nums):\n",
    "        for i in range(1, len(nums)):\n",
    "            nums[i] = max(nums[i] + nums[i - 1], nums[i])\n",
    "        return max(nums)\n",
    "        \n",
    "nums = [-2,1,-3,4,-1,2,1,-5,4]\n",
    "ans = Solution()\n",
    "ans.maxSubArray(nums)"
   ]
  },
  {
   "cell_type": "markdown",
   "id": "09dc9cd5-34ed-43a2-adb5-c9fde6dd176f",
   "metadata": {},
   "source": [
    "# 25 153. 寻找旋转排序数组中的最小值\n",
    "https://leetcode.cn/problems/find-minimum-in-rotated-sorted-array/description/?envType=study-plan-v2&envId=top-interview-150"
   ]
  },
  {
   "cell_type": "code",
   "execution_count": 517,
   "id": "91bcede8-4cd8-45da-9454-b5703c6774c2",
   "metadata": {},
   "outputs": [
    {
     "data": {
      "text/plain": [
       "1"
      ]
     },
     "execution_count": 517,
     "metadata": {},
     "output_type": "execute_result"
    }
   ],
   "source": [
    "class Solution:\n",
    "    def findMin(self, nums):\n",
    "        return min(nums)\n",
    "\n",
    "nums = [3,4,5,1,2]\n",
    "ans = Solution()\n",
    "ans.findMin(nums)"
   ]
  },
  {
   "cell_type": "code",
   "execution_count": null,
   "id": "7f7c104b-357b-4d55-a3ce-8779554a5db5",
   "metadata": {},
   "outputs": [],
   "source": []
  },
  {
   "cell_type": "markdown",
   "id": "3b0a7588-8fe9-4561-bd77-dc0ed31a4f0e",
   "metadata": {
    "jp-MarkdownHeadingCollapsed": true
   },
   "source": [
    "201. 数字范围按位与\n",
    "https://leetcode.cn/problems/bitwise-and-of-numbers-range/description/?envType=study-plan-v2&envId=top-interview-150"
   ]
  },
  {
   "cell_type": "code",
   "execution_count": 441,
   "id": "40e8db9b-6ae5-41ad-833b-42173406c633",
   "metadata": {},
   "outputs": [
    {
     "ename": "KeyboardInterrupt",
     "evalue": "",
     "output_type": "error",
     "traceback": [
      "\u001b[0;31m---------------------------------------------------------------------------\u001b[0m",
      "\u001b[0;31mKeyboardInterrupt\u001b[0m                         Traceback (most recent call last)",
      "Cell \u001b[0;32mIn[441], line 11\u001b[0m\n\u001b[1;32m      9\u001b[0m right \u001b[38;5;241m=\u001b[39m \u001b[38;5;241m2147483647\u001b[39m\n\u001b[1;32m     10\u001b[0m ans \u001b[38;5;241m=\u001b[39m Solution()\n\u001b[0;32m---> 11\u001b[0m \u001b[43mans\u001b[49m\u001b[38;5;241;43m.\u001b[39;49m\u001b[43mrangeBitwiseAnd\u001b[49m\u001b[43m(\u001b[49m\u001b[43mleft\u001b[49m\u001b[43m,\u001b[49m\u001b[43m \u001b[49m\u001b[43mright\u001b[49m\u001b[43m)\u001b[49m\n",
      "Cell \u001b[0;32mIn[441], line 5\u001b[0m, in \u001b[0;36mSolution.rangeBitwiseAnd\u001b[0;34m(self, left, right)\u001b[0m\n\u001b[1;32m      3\u001b[0m res \u001b[38;5;241m=\u001b[39m left\n\u001b[1;32m      4\u001b[0m \u001b[38;5;28;01mfor\u001b[39;00m i \u001b[38;5;129;01min\u001b[39;00m \u001b[38;5;28mrange\u001b[39m(left \u001b[38;5;241m+\u001b[39m \u001b[38;5;241m1\u001b[39m, right \u001b[38;5;241m+\u001b[39m \u001b[38;5;241m1\u001b[39m):\n\u001b[0;32m----> 5\u001b[0m     res \u001b[38;5;241m=\u001b[39m res \u001b[38;5;241m&\u001b[39m i\n\u001b[1;32m      6\u001b[0m \u001b[38;5;28;01mreturn\u001b[39;00m res\n",
      "\u001b[0;31mKeyboardInterrupt\u001b[0m: "
     ]
    }
   ],
   "source": [
    "class Solution:\n",
    "    def rangeBitwiseAnd(self, left, right):\n",
    "        res = left\n",
    "        for i in range(left + 1, right + 1):\n",
    "            res = res & i\n",
    "        return res\n",
    "\n",
    "left = 1\n",
    "right = 2147483647\n",
    "ans = Solution()\n",
    "ans.rangeBitwiseAnd(left, right)"
   ]
  },
  {
   "cell_type": "code",
   "execution_count": null,
   "id": "8e19b493-af0a-4de9-bfb7-6f9404b0a0ac",
   "metadata": {},
   "outputs": [],
   "source": [
    "https://leetcode.cn/problems/jump-game/description/?envType=study-plan-v2&envId=top-interview-150"
   ]
  },
  {
   "cell_type": "code",
   "execution_count": null,
   "id": "b5e21a47-4b43-48f1-b89a-0d786fe59ffb",
   "metadata": {},
   "outputs": [],
   "source": [
    "https://leetcode.cn/problems/jump-game-ii/description/?envType=study-plan-v2&envId=top-interview-150"
   ]
  },
  {
   "cell_type": "code",
   "execution_count": null,
   "id": "cce0a25a-f313-4669-8e65-3c3305a9ce22",
   "metadata": {},
   "outputs": [],
   "source": [
    "https://leetcode.cn/problems/best-time-to-buy-and-sell-stock-ii/description/?envType=study-plan-v2&envId=top-interview-150"
   ]
  },
  {
   "cell_type": "code",
   "execution_count": null,
   "id": "11c21db5-69e0-4d1f-a834-7653ea9277f2",
   "metadata": {},
   "outputs": [],
   "source": []
  }
 ],
 "metadata": {
  "kernelspec": {
   "display_name": "Python 3 (ipykernel)",
   "language": "python",
   "name": "python3"
  },
  "language_info": {
   "codemirror_mode": {
    "name": "ipython",
    "version": 3
   },
   "file_extension": ".py",
   "mimetype": "text/x-python",
   "name": "python",
   "nbconvert_exporter": "python",
   "pygments_lexer": "ipython3",
   "version": "3.10.6"
  }
 },
 "nbformat": 4,
 "nbformat_minor": 5
}
