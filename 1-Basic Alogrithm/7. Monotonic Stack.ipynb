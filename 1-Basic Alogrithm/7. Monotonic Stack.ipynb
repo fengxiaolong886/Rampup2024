{
 "cells": [
  {
   "cell_type": "markdown",
   "id": "15a9dc33-d01b-42ba-8777-2e8dfdb4b9b8",
   "metadata": {},
   "source": [
    "# 7. Monotonic Stack\n",
    "https://programmercarl.com/0739.%E6%AF%8F%E6%97%A5%E6%B8%A9%E5%BA%A6.html#%E6%80%9D%E8%B7%AF"
   ]
  },
  {
   "cell_type": "markdown",
   "id": "3a22ac24-2390-4e41-a1df-ba613d75d46d",
   "metadata": {},
   "source": [
    "# 1. 739 daily-temperatures\n",
    "https://leetcode.cn/problems/daily-temperatures/description/"
   ]
  },
  {
   "cell_type": "code",
   "execution_count": 12,
   "id": "b5a580f5-dcd8-4bcf-9341-7b621ea24cdc",
   "metadata": {},
   "outputs": [
    {
     "data": {
      "text/plain": [
       "[1, 1, 0]"
      ]
     },
     "execution_count": 12,
     "metadata": {},
     "output_type": "execute_result"
    }
   ],
   "source": [
    "class Solution:\n",
    "    def dailyTemperatures(self, temperatures):\n",
    "        res = []\n",
    "        n = len(temperatures)\n",
    "        for i in range(n):\n",
    "            j = i + 1\n",
    "            while j < n:\n",
    "                if temperatures[j] > temperatures[i]:\n",
    "                    res.append(j - i)\n",
    "                    break\n",
    "                elif j == n-1:\n",
    "                    res.append(0)\n",
    "                j += 1\n",
    "        return res + [0]\n",
    "\n",
    "temperatures = [73,74,75,71,69,72,76,73]\n",
    "temperatures = [30,40,50,60]\n",
    "temperatures = [30,60,90]\n",
    "s = Solution()\n",
    "s.dailyTemperatures(temperatures)"
   ]
  },
  {
   "cell_type": "code",
   "execution_count": 15,
   "id": "7c0755bf-b32b-41f8-9357-6967a581f857",
   "metadata": {},
   "outputs": [
    {
     "data": {
      "text/plain": [
       "[1, 1, 0]"
      ]
     },
     "execution_count": 15,
     "metadata": {},
     "output_type": "execute_result"
    }
   ],
   "source": [
    "class Solution:\n",
    "    def dailyTemperatures(self, temperatures):\n",
    "        n = len(temperatures)\n",
    "        res, stack = [0] * n, [0]\n",
    "        for i in range(1, n):\n",
    "            if temperatures[i] <= temperatures[stack[-1]]:\n",
    "                stack.append(i)\n",
    "            else:\n",
    "                while len(stack) != 0 and temperatures[i] > temperatures[stack[-1]]:\n",
    "                    res[stack[-1]] = i - stack[-1]\n",
    "                    stack.pop()\n",
    "                stack.append(i)\n",
    "        return res\n",
    "\n",
    "temperatures = [73,74,75,71,69,72,76,73]\n",
    "temperatures = [30,40,50,60]\n",
    "temperatures = [30,60,90]\n",
    "s = Solution()\n",
    "s.dailyTemperatures(temperatures)"
   ]
  },
  {
   "cell_type": "markdown",
   "id": "9929246c-0fa1-44ff-a07c-8e9cba6385f4",
   "metadata": {},
   "source": [
    "# 2. next-greater-element-i\n",
    "https://leetcode.cn/problems/next-greater-element-ii/description/"
   ]
  },
  {
   "cell_type": "code",
   "execution_count": 16,
   "id": "6af65072-9381-4a35-930b-807f92c3f81f",
   "metadata": {},
   "outputs": [],
   "source": [
    "class Solution:\n",
    "    def nextGreaterElements(self, nums):\n",
    "        pass\n",
    "        \n",
    "nums = [1,2,1]\n",
    "s = Solution()\n",
    "s.nextGreaterElements(temperatures)"
   ]
  },
  {
   "cell_type": "code",
   "execution_count": null,
   "id": "590f2e6d-89a1-44a6-9356-5557707edac8",
   "metadata": {},
   "outputs": [],
   "source": [
    "https://leetcode.cn/problems/trapping-rain-water/description/"
   ]
  },
  {
   "cell_type": "code",
   "execution_count": null,
   "id": "da0977e5-f649-495f-a5ab-07e77a905f8a",
   "metadata": {},
   "outputs": [],
   "source": [
    "https://leetcode.cn/problems/largest-rectangle-in-histogram/description/"
   ]
  }
 ],
 "metadata": {
  "kernelspec": {
   "display_name": "Python 3 (ipykernel)",
   "language": "python",
   "name": "python3"
  },
  "language_info": {
   "codemirror_mode": {
    "name": "ipython",
    "version": 3
   },
   "file_extension": ".py",
   "mimetype": "text/x-python",
   "name": "python",
   "nbconvert_exporter": "python",
   "pygments_lexer": "ipython3",
   "version": "3.10.6"
  }
 },
 "nbformat": 4,
 "nbformat_minor": 5
}
