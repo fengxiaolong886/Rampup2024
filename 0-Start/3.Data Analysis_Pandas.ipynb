{
 "cells": [
  {
   "cell_type": "markdown",
   "id": "7d4e1580-5959-467b-ab2a-815531968eb5",
   "metadata": {},
   "source": [
    "Follow: https://github.com/jackfrued/Python-100-Days/blob/master/Day66-80/72.%E6%B7%B1%E5%85%A5%E6%B5%85%E5%87%BApandas-1.md"
   ]
  },
  {
   "cell_type": "markdown",
   "id": "64ec6bfd-5b04-4b1e-be74-e0aae32280fa",
   "metadata": {},
   "source": [
    "# 72"
   ]
  },
  {
   "cell_type": "code",
   "execution_count": 1,
   "id": "60a658ad-fc37-46ad-9285-d51f7ea6342d",
   "metadata": {},
   "outputs": [],
   "source": [
    "import numpy as np\n",
    "import pandas as pd\n"
   ]
  },
  {
   "cell_type": "code",
   "execution_count": 3,
   "id": "b1859bae-da0d-4de4-8ea0-47eca40e1837",
   "metadata": {},
   "outputs": [
    {
     "data": {
      "text/plain": [
       "Q1    120\n",
       "Q2    380\n",
       "Q3    250\n",
       "Q4    360\n",
       "dtype: int64"
      ]
     },
     "execution_count": 3,
     "metadata": {},
     "output_type": "execute_result"
    }
   ],
   "source": [
    "ser1 = pd.Series(data = [120, 380, 250, 360], index = [\"Q1\", \"Q2\", \"Q3\", \"Q4\"])\n",
    "ser1"
   ]
  },
  {
   "cell_type": "code",
   "execution_count": 7,
   "id": "b5b963b4-e200-480b-a067-124c1aae4845",
   "metadata": {},
   "outputs": [
    {
     "data": {
      "text/plain": [
       "Q1    320\n",
       "Q2    180\n",
       "Q3    300\n",
       "Q4    405\n",
       "dtype: int64"
      ]
     },
     "execution_count": 7,
     "metadata": {},
     "output_type": "execute_result"
    }
   ],
   "source": [
    "ser2 = pd.Series({'Q1': 320, \"Q2\": 180, 'Q3': 300, 'Q4': 405})\n",
    "ser2"
   ]
  },
  {
   "cell_type": "code",
   "execution_count": 8,
   "id": "b90573d8-701b-4607-a26e-539b09869ace",
   "metadata": {},
   "outputs": [
    {
     "data": {
      "text/plain": [
       "Q1    440\n",
       "Q2    560\n",
       "Q3    550\n",
       "Q4    765\n",
       "dtype: int64"
      ]
     },
     "execution_count": 8,
     "metadata": {},
     "output_type": "execute_result"
    }
   ],
   "source": [
    "ser1 + ser2"
   ]
  },
  {
   "cell_type": "code",
   "execution_count": 9,
   "id": "a51b511e-80c1-4402-9d56-abb19843b31d",
   "metadata": {},
   "outputs": [
    {
     "name": "stderr",
     "output_type": "stream",
     "text": [
      "/tmp/ipykernel_124249/1246933833.py:1: FutureWarning: Series.__getitem__ treating keys as positions is deprecated. In a future version, integer keys will always be treated as labels (consistent with DataFrame behavior). To access a value by position, use `ser.iloc[pos]`\n",
      "  ser1[2]\n"
     ]
    },
    {
     "data": {
      "text/plain": [
       "np.int64(250)"
      ]
     },
     "execution_count": 9,
     "metadata": {},
     "output_type": "execute_result"
    }
   ],
   "source": [
    "ser1[2]"
   ]
  },
  {
   "cell_type": "code",
   "execution_count": 11,
   "id": "23fc0513-6bde-42b8-9c4e-4f1c196da95a",
   "metadata": {},
   "outputs": [
    {
     "data": {
      "text/plain": [
       "np.int64(120)"
      ]
     },
     "execution_count": 11,
     "metadata": {},
     "output_type": "execute_result"
    }
   ],
   "source": [
    "ser1[\"Q1\"]"
   ]
  },
  {
   "cell_type": "code",
   "execution_count": 12,
   "id": "f957c4ad-fef9-4a56-be61-34d73ca70169",
   "metadata": {},
   "outputs": [],
   "source": [
    "ser1[\"Q1\"] = 9999"
   ]
  },
  {
   "cell_type": "code",
   "execution_count": 14,
   "id": "5fbbfa47-8e0d-4315-a113-c930e2d0fa7b",
   "metadata": {},
   "outputs": [
    {
     "data": {
      "text/plain": [
       "Q1    9999\n",
       "Q2     380\n",
       "Q3     250\n",
       "Q4     360\n",
       "dtype: int64"
      ]
     },
     "execution_count": 14,
     "metadata": {},
     "output_type": "execute_result"
    }
   ],
   "source": [
    "ser1"
   ]
  },
  {
   "cell_type": "code",
   "execution_count": 16,
   "id": "853bf808-ef34-4ba9-93b6-8be823d9617c",
   "metadata": {},
   "outputs": [
    {
     "data": {
      "text/plain": [
       "Q2    380\n",
       "Q3    250\n",
       "Q4    360\n",
       "dtype: int64"
      ]
     },
     "execution_count": 16,
     "metadata": {},
     "output_type": "execute_result"
    }
   ],
   "source": [
    "ser1[1:]"
   ]
  },
  {
   "cell_type": "code",
   "execution_count": 17,
   "id": "1fb1d49f-677b-4a32-b619-00434d4354d1",
   "metadata": {},
   "outputs": [
    {
     "data": {
      "text/plain": [
       "Q2    380\n",
       "Q3    250\n",
       "Q4    360\n",
       "dtype: int64"
      ]
     },
     "execution_count": 17,
     "metadata": {},
     "output_type": "execute_result"
    }
   ],
   "source": [
    "ser1[\"Q2\":\"Q4\"]"
   ]
  },
  {
   "cell_type": "code",
   "execution_count": 26,
   "id": "a1e31db7-95a1-44ab-a9fe-74e7751e28bf",
   "metadata": {},
   "outputs": [
    {
     "name": "stdout",
     "output_type": "stream",
     "text": [
      "int64\n",
      "False\n",
      "Index(['Q1', 'Q2', 'Q3', 'Q4'], dtype='object')\n",
      "[9999  380  250  360]\n",
      "False\n",
      "True\n"
     ]
    }
   ],
   "source": [
    "print(ser1.dtype)\n",
    "print(ser1.hasnans)\n",
    "print(ser1.index)\n",
    "print(ser1.values)\n",
    "print(ser1.is_monotonic_increasing)\n",
    "print(ser1.is_unique)"
   ]
  },
  {
   "cell_type": "code",
   "execution_count": 37,
   "id": "0331ad6e-4cc9-4ffc-910f-e90eb6a8abc5",
   "metadata": {},
   "outputs": [
    {
     "name": "stdout",
     "output_type": "stream",
     "text": [
      "4\n",
      "10989\n",
      "2747.25\n",
      "370.0\n",
      "9999\n",
      "250\n",
      "4834.83783768046\n",
      "23375656.916666668\n"
     ]
    }
   ],
   "source": [
    "print(ser1.count())\n",
    "print(ser1.sum())\n",
    "print(ser1.mean())\n",
    "print(ser1.median())\n",
    "print(ser1.max())\n",
    "print(ser1.min())\n",
    "print(ser1.std())\n",
    "print(ser1.var())"
   ]
  },
  {
   "cell_type": "code",
   "execution_count": 38,
   "id": "67a46608-760f-4bd2-911e-03c825013736",
   "metadata": {},
   "outputs": [
    {
     "data": {
      "text/plain": [
       "count       4.000000\n",
       "mean     2747.250000\n",
       "std      4834.837838\n",
       "min       250.000000\n",
       "25%       332.500000\n",
       "50%       370.000000\n",
       "75%      2784.750000\n",
       "max      9999.000000\n",
       "dtype: float64"
      ]
     },
     "execution_count": 38,
     "metadata": {},
     "output_type": "execute_result"
    }
   ],
   "source": [
    "ser1.describe()"
   ]
  },
  {
   "cell_type": "code",
   "execution_count": 39,
   "id": "a26a3d63-dfab-4efe-9b1a-02e73deda6d3",
   "metadata": {},
   "outputs": [
    {
     "data": {
      "text/plain": [
       "apple     3\n",
       "pitaya    2\n",
       "banana    1\n",
       "durian    1\n",
       "Name: count, dtype: int64"
      ]
     },
     "execution_count": 39,
     "metadata": {},
     "output_type": "execute_result"
    }
   ],
   "source": [
    "ser3 = pd.Series(data=['apple', 'banana', 'apple', 'pitaya', 'apple', 'pitaya', 'durian'])\n",
    "ser3.value_counts()"
   ]
  },
  {
   "cell_type": "code",
   "execution_count": 41,
   "id": "52140fac-4a33-4125-9a0f-128e927474f2",
   "metadata": {},
   "outputs": [
    {
     "data": {
      "text/plain": [
       "4"
      ]
     },
     "execution_count": 41,
     "metadata": {},
     "output_type": "execute_result"
    }
   ],
   "source": [
    "ser3.nunique()"
   ]
  },
  {
   "cell_type": "code",
   "execution_count": 42,
   "id": "7935a252-03fe-46d5-8750-dfa5a52f7558",
   "metadata": {},
   "outputs": [
    {
     "data": {
      "text/plain": [
       "0    apple\n",
       "dtype: object"
      ]
     },
     "execution_count": 42,
     "metadata": {},
     "output_type": "execute_result"
    }
   ],
   "source": [
    "ser3.mode()"
   ]
  },
  {
   "cell_type": "code",
   "execution_count": 43,
   "id": "e2ed1c91-302c-458c-9fc5-3504c71f55ea",
   "metadata": {},
   "outputs": [
    {
     "data": {
      "text/plain": [
       "0    False\n",
       "1    False\n",
       "2     True\n",
       "3    False\n",
       "4     True\n",
       "dtype: bool"
      ]
     },
     "execution_count": 43,
     "metadata": {},
     "output_type": "execute_result"
    }
   ],
   "source": [
    "ser4 = pd.Series(data=[10, 20, np.nan, 30, np.nan])\n",
    "ser4.isna()"
   ]
  },
  {
   "cell_type": "code",
   "execution_count": 44,
   "id": "1c306856-4115-47d0-9456-5c95dd50f01d",
   "metadata": {},
   "outputs": [
    {
     "data": {
      "text/plain": [
       "0     True\n",
       "1     True\n",
       "2    False\n",
       "3     True\n",
       "4    False\n",
       "dtype: bool"
      ]
     },
     "execution_count": 44,
     "metadata": {},
     "output_type": "execute_result"
    }
   ],
   "source": [
    "ser4.notna()"
   ]
  },
  {
   "cell_type": "code",
   "execution_count": 45,
   "id": "798d5945-92a1-4da2-b7ac-b61596a8af48",
   "metadata": {},
   "outputs": [
    {
     "data": {
      "text/plain": [
       "0    10.0\n",
       "1    20.0\n",
       "3    30.0\n",
       "dtype: float64"
      ]
     },
     "execution_count": 45,
     "metadata": {},
     "output_type": "execute_result"
    }
   ],
   "source": [
    "ser4.dropna()"
   ]
  },
  {
   "cell_type": "code",
   "execution_count": 47,
   "id": "f2a7184f-02ff-4cb3-a021-9db512735fac",
   "metadata": {},
   "outputs": [
    {
     "data": {
      "text/plain": [
       "0     10.0\n",
       "1     20.0\n",
       "2    999.0\n",
       "3     30.0\n",
       "4    999.0\n",
       "dtype: float64"
      ]
     },
     "execution_count": 47,
     "metadata": {},
     "output_type": "execute_result"
    }
   ],
   "source": [
    "ser4.fillna(999.0)"
   ]
  },
  {
   "cell_type": "code",
   "execution_count": 50,
   "id": "7dd099e3-e2df-4f8f-a95a-7829ab68062b",
   "metadata": {},
   "outputs": [
    {
     "data": {
      "text/plain": [
       "0    10.0\n",
       "1    20.0\n",
       "2    20.0\n",
       "3    30.0\n",
       "4    30.0\n",
       "dtype: float64"
      ]
     },
     "execution_count": 50,
     "metadata": {},
     "output_type": "execute_result"
    }
   ],
   "source": [
    "ser4.ffill()"
   ]
  },
  {
   "cell_type": "code",
   "execution_count": 51,
   "id": "d9859ff6-d57e-4bd6-be95-77edd6081f65",
   "metadata": {},
   "outputs": [
    {
     "data": {
      "text/plain": [
       "0    10.0\n",
       "1    20.0\n",
       "2    30.0\n",
       "3    30.0\n",
       "4     NaN\n",
       "dtype: float64"
      ]
     },
     "execution_count": 51,
     "metadata": {},
     "output_type": "execute_result"
    }
   ],
   "source": [
    "ser4.bfill()"
   ]
  },
  {
   "cell_type": "code",
   "execution_count": 55,
   "id": "d1731cf6-a98f-4f7c-8f7e-b1950fd9d4c9",
   "metadata": {},
   "outputs": [
    {
     "name": "stdout",
     "output_type": "stream",
     "text": [
      "0    0\n",
      "1    1\n",
      "2    2\n",
      "3    3\n",
      "4    4\n",
      "dtype: int64\n"
     ]
    },
    {
     "data": {
      "text/plain": [
       "0    NaN\n",
       "1    NaN\n",
       "2    2.0\n",
       "3    3.0\n",
       "4    4.0\n",
       "dtype: float64"
      ]
     },
     "execution_count": 55,
     "metadata": {},
     "output_type": "execute_result"
    }
   ],
   "source": [
    "ser5 = pd.Series(range(5))\n",
    "print(ser5)\n",
    "ser5.where(ser5 > 1)"
   ]
  },
  {
   "cell_type": "code",
   "execution_count": 58,
   "id": "6070306c-5ebc-4302-b08a-316854e1d058",
   "metadata": {},
   "outputs": [
    {
     "data": {
      "text/plain": [
       "0    23\n",
       "1    23\n",
       "2     2\n",
       "3     3\n",
       "4     4\n",
       "dtype: int64"
      ]
     },
     "execution_count": 58,
     "metadata": {},
     "output_type": "execute_result"
    }
   ],
   "source": [
    "ser5.where(ser5 > 1, 23)"
   ]
  },
  {
   "cell_type": "code",
   "execution_count": 59,
   "id": "1104f82a-3335-4c52-a120-989cf3b382dd",
   "metadata": {},
   "outputs": [
    {
     "data": {
      "text/plain": [
       "0     0\n",
       "1     1\n",
       "2    23\n",
       "3    23\n",
       "4    23\n",
       "dtype: int64"
      ]
     },
     "execution_count": 59,
     "metadata": {},
     "output_type": "execute_result"
    }
   ],
   "source": [
    "ser5.mask(ser5 > 1, 23)"
   ]
  },
  {
   "cell_type": "code",
   "execution_count": 60,
   "id": "4ac33e17-3328-4385-8046-a83bc52bbca5",
   "metadata": {},
   "outputs": [
    {
     "data": {
      "text/plain": [
       "0    False\n",
       "1    False\n",
       "2     True\n",
       "3    False\n",
       "4     True\n",
       "5     True\n",
       "6    False\n",
       "dtype: bool"
      ]
     },
     "execution_count": 60,
     "metadata": {},
     "output_type": "execute_result"
    }
   ],
   "source": [
    "ser3.duplicated()"
   ]
  },
  {
   "cell_type": "code",
   "execution_count": 62,
   "id": "dc82cb7b-c8ac-4334-9d32-d3ae50b4fbf3",
   "metadata": {},
   "outputs": [
    {
     "data": {
      "text/plain": [
       "0     apple\n",
       "1    banana\n",
       "3    pitaya\n",
       "6    durian\n",
       "dtype: object"
      ]
     },
     "execution_count": 62,
     "metadata": {},
     "output_type": "execute_result"
    }
   ],
   "source": [
    "ser3.drop_duplicates()"
   ]
  },
  {
   "cell_type": "code",
   "execution_count": 63,
   "id": "4479d3b0-5037-4ad9-8b48-a90cbeae6c4a",
   "metadata": {},
   "outputs": [
    {
     "data": {
      "text/plain": [
       "0       cat\n",
       "1       dog\n",
       "2       NaN\n",
       "3    rabbit\n",
       "dtype: object"
      ]
     },
     "execution_count": 63,
     "metadata": {},
     "output_type": "execute_result"
    }
   ],
   "source": [
    "ser6 = pd.Series(['cat', 'dog', np.nan, 'rabbit'])\n",
    "ser6"
   ]
  },
  {
   "cell_type": "code",
   "execution_count": 64,
   "id": "0e1c7f80-a756-4a89-bd4b-7df7d787a3f9",
   "metadata": {},
   "outputs": [
    {
     "data": {
      "text/plain": [
       "0    kitten\n",
       "1     puppy\n",
       "2       NaN\n",
       "3       NaN\n",
       "dtype: object"
      ]
     },
     "execution_count": 64,
     "metadata": {},
     "output_type": "execute_result"
    }
   ],
   "source": [
    "ser6.map({'cat': 'kitten', 'dog': 'puppy'})"
   ]
  },
  {
   "cell_type": "code",
   "execution_count": 65,
   "id": "ef914fee-6716-49d8-9f98-75fa420a8ed2",
   "metadata": {},
   "outputs": [
    {
     "data": {
      "text/plain": [
       "0       I am a cat\n",
       "1       I am a dog\n",
       "2              NaN\n",
       "3    I am a rabbit\n",
       "dtype: object"
      ]
     },
     "execution_count": 65,
     "metadata": {},
     "output_type": "execute_result"
    }
   ],
   "source": [
    "ser6.map(\"I am a {}\".format, na_action=\"ignore\")"
   ]
  },
  {
   "cell_type": "code",
   "execution_count": 66,
   "id": "e47c8c37-3e91-41da-b5d1-5dfac8a589ed",
   "metadata": {},
   "outputs": [
    {
     "data": {
      "text/plain": [
       "A    20\n",
       "B    21\n",
       "C    12\n",
       "dtype: int64"
      ]
     },
     "execution_count": 66,
     "metadata": {},
     "output_type": "execute_result"
    }
   ],
   "source": [
    "ser7 = pd.Series([20, 21, 12],  index=['A', 'B', 'C'])\n",
    "ser7"
   ]
  },
  {
   "cell_type": "code",
   "execution_count": 67,
   "id": "fa337163-abad-43ac-a45f-593ebe14288c",
   "metadata": {},
   "outputs": [
    {
     "data": {
      "text/plain": [
       "A    400\n",
       "B    441\n",
       "C    144\n",
       "dtype: int64"
      ]
     },
     "execution_count": 67,
     "metadata": {},
     "output_type": "execute_result"
    }
   ],
   "source": [
    "ser7.apply(np.square)"
   ]
  },
  {
   "cell_type": "code",
   "execution_count": 72,
   "id": "1957e264-5b64-4f70-a98e-fe288cb98dc7",
   "metadata": {},
   "outputs": [
    {
     "data": {
      "text/plain": [
       "A   -80\n",
       "B   -79\n",
       "C   -88\n",
       "dtype: int64"
      ]
     },
     "execution_count": 72,
     "metadata": {},
     "output_type": "execute_result"
    }
   ],
   "source": [
    "ser7.apply(lambda x, value: x - value, args= (100,))"
   ]
  },
  {
   "cell_type": "code",
   "execution_count": 73,
   "id": "ca521b4e-83e4-4ee0-8d58-59d089997b37",
   "metadata": {},
   "outputs": [],
   "source": [
    "ser8 = pd.Series(\n",
    "    data=[35, 96, 12, 57, 25, 89], \n",
    "    index=['grape', 'banana', 'pitaya', 'apple', 'peach', 'orange']\n",
    ")"
   ]
  },
  {
   "cell_type": "code",
   "execution_count": 77,
   "id": "60a0579c-c6d7-4e3d-9fc8-94000408d3bd",
   "metadata": {},
   "outputs": [
    {
     "data": {
      "text/plain": [
       "pitaya    12\n",
       "peach     25\n",
       "grape     35\n",
       "apple     57\n",
       "orange    89\n",
       "banana    96\n",
       "dtype: int64"
      ]
     },
     "execution_count": 77,
     "metadata": {},
     "output_type": "execute_result"
    }
   ],
   "source": [
    "ser8.sort_values()"
   ]
  },
  {
   "cell_type": "code",
   "execution_count": 78,
   "id": "0cd51b67-1939-4359-913f-5f2dac085380",
   "metadata": {},
   "outputs": [
    {
     "data": {
      "text/plain": [
       "banana    96\n",
       "orange    89\n",
       "apple     57\n",
       "grape     35\n",
       "peach     25\n",
       "pitaya    12\n",
       "dtype: int64"
      ]
     },
     "execution_count": 78,
     "metadata": {},
     "output_type": "execute_result"
    }
   ],
   "source": [
    "ser8.sort_values(ascending = False)"
   ]
  },
  {
   "cell_type": "code",
   "execution_count": 79,
   "id": "ee7b8829-ba25-452b-8261-dc529dc6891f",
   "metadata": {},
   "outputs": [
    {
     "data": {
      "text/plain": [
       "banana    96\n",
       "orange    89\n",
       "apple     57\n",
       "dtype: int64"
      ]
     },
     "execution_count": 79,
     "metadata": {},
     "output_type": "execute_result"
    }
   ],
   "source": [
    "ser8.nlargest(3)"
   ]
  },
  {
   "cell_type": "code",
   "execution_count": 80,
   "id": "73d7d910-a4a8-494d-87a8-e6af64bc7995",
   "metadata": {},
   "outputs": [
    {
     "data": {
      "text/plain": [
       "pitaya    12\n",
       "peach     25\n",
       "grape     35\n",
       "dtype: int64"
      ]
     },
     "execution_count": 80,
     "metadata": {},
     "output_type": "execute_result"
    }
   ],
   "source": [
    "ser8.nsmallest(3)"
   ]
  },
  {
   "cell_type": "code",
   "execution_count": 81,
   "id": "c7a228b8-2816-4932-85f7-14455d311a9b",
   "metadata": {},
   "outputs": [],
   "source": [
    "import matplotlib.pyplot as plt"
   ]
  },
  {
   "cell_type": "code",
   "execution_count": 89,
   "id": "9f236c46-c3fc-41e3-8a8c-790009047ad4",
   "metadata": {},
   "outputs": [
    {
     "name": "stderr",
     "output_type": "stream",
     "text": [
      "/tmp/ipykernel_124249/3291074471.py:6: FutureWarning: Series.__getitem__ treating keys as positions is deprecated. In a future version, integer keys will always be treated as labels (consistent with DataFrame behavior). To access a value by position, use `ser.iloc[pos]`\n",
      "  plt.text(i, ser9[i] +5, ser9[i], ha = \"center\")\n"
     ]
    },
    {
     "data": {
      "image/png": "[encoded data removed]",
      "text/plain": [
       "<Figure size 640x480 with 1 Axes>"
      ]
     },
     "metadata": {},
     "output_type": "display_data"
    }
   ],
   "source": [
    "ser9 = pd.Series({'Q1': 400, 'Q2': 520, 'Q3': 180, 'Q4': 380})\n",
    "ser9.plot(kind = \"bar\")\n",
    "plt.ylim(0, 600)\n",
    "plt.xticks(rotation = -0)\n",
    "for i in range(ser9.size):\n",
    "    plt.text(i, ser9[i] +5, ser9[i], ha = \"center\")\n",
    "plt.show()\n"
   ]
  },
  {
   "cell_type": "code",
   "execution_count": 96,
   "id": "087f7e28-393d-49df-a961-9dd154e5d372",
   "metadata": {},
   "outputs": [
    {
     "data": {
      "image/png": "[encoded data removed]",
      "text/plain": [
       "<Figure size 640x480 with 1 Axes>"
      ]
     },
     "metadata": {},
     "output_type": "display_data"
    }
   ],
   "source": [
    "ser9.plot(kind = \"pie\", autopct = \"%.1f%%\", pctdistance = 0.5)\n",
    "plt.show()"
   ]
  },
  {
   "cell_type": "markdown",
   "id": "599063f7-4c59-4f7a-af35-9eb463cc8d90",
   "metadata": {},
   "source": [
    "# 73"
   ]
  },
  {
   "cell_type": "code",
   "execution_count": null,
   "id": "955f09b8-4987-46aa-9ecd-f209135a90ce",
   "metadata": {},
   "outputs": [],
   "source": []
  }
 ],
 "metadata": {
  "kernelspec": {
   "display_name": "Python 3 (ipykernel)",
   "language": "python",
   "name": "python3"
  },
  "language_info": {
   "codemirror_mode": {
    "name": "ipython",
    "version": 3
   },
   "file_extension": ".py",
   "mimetype": "text/x-python",
   "name": "python",
   "nbconvert_exporter": "python",
   "pygments_lexer": "ipython3",
   "version": "3.10.6"
  }
 },
 "nbformat": 4,
 "nbformat_minor": 5
}
