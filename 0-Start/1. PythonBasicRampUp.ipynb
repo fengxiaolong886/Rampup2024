{
 "cells": [
  {
   "cell_type": "markdown",
   "id": "c2f7b59f-5a31-46eb-9e81-70953b0b7d51",
   "metadata": {},
   "source": [
    "### This notebook follows the course: \n",
    "https://github.com/jackfrued/Python-100-Days"
   ]
  },
  {
   "cell_type": "markdown",
   "id": "2ed21794-7b71-4832-8207-7738f05d6d96",
   "metadata": {
    "jp-MarkdownHeadingCollapsed": true
   },
   "source": [
    "# 01 What is Python"
   ]
  },
  {
   "cell_type": "code",
   "execution_count": 1,
   "id": "239650ed-d0ee-43d3-af43-937f638fe8ee",
   "metadata": {},
   "outputs": [
    {
     "name": "stdout",
     "output_type": "stream",
     "text": [
      "The Zen of Python, by Tim Peters\n",
      "\n",
      "Beautiful is better than ugly.\n",
      "Explicit is better than implicit.\n",
      "Simple is better than complex.\n",
      "Complex is better than complicated.\n",
      "Flat is better than nested.\n",
      "Sparse is better than dense.\n",
      "Readability counts.\n",
      "Special cases aren't special enough to break the rules.\n",
      "Although practicality beats purity.\n",
      "Errors should never pass silently.\n",
      "Unless explicitly silenced.\n",
      "In the face of ambiguity, refuse the temptation to guess.\n",
      "There should be one-- and preferably only one --obvious way to do it.\n",
      "Although that way may not be obvious at first unless you're Dutch.\n",
      "Now is better than never.\n",
      "Although never is often better than *right* now.\n",
      "If the implementation is hard to explain, it's a bad idea.\n",
      "If the implementation is easy to explain, it may be a good idea.\n",
      "Namespaces are one honking great idea -- let's do more of those!\n"
     ]
    }
   ],
   "source": [
    "import this"
   ]
  },
  {
   "cell_type": "code",
   "execution_count": 2,
   "id": "a02837e9-c183-41ed-a122-d120ee70fc57",
   "metadata": {},
   "outputs": [],
   "source": [
    "import turtle"
   ]
  },
  {
   "cell_type": "code",
   "execution_count": 5,
   "id": "f36e338a-62e6-453f-a522-f1712891f612",
   "metadata": {},
   "outputs": [],
   "source": [
    "turtle.pensize(4)\n",
    "turtle.pencolor(\"red\")\n",
    "turtle.forward(100)\n",
    "turtle.right(90)\n",
    "turtle.forward(100)\n",
    "turtle.right(90)\n",
    "turtle.forward(100)\n",
    "turtle.right(90)\n",
    "turtle.forward(100)\n",
    "\n",
    "turtle.mainloop()"
   ]
  },
  {
   "cell_type": "markdown",
   "id": "0874ccec-0e84-4d7c-89b8-3f97e0c0125c",
   "metadata": {
    "jp-MarkdownHeadingCollapsed": true
   },
   "source": [
    "# 02 Basic Calculation"
   ]
  },
  {
   "cell_type": "code",
   "execution_count": 6,
   "id": "b22362a6-aac3-4b57-880b-b2967eb538e5",
   "metadata": {},
   "outputs": [
    {
     "name": "stdout",
     "output_type": "stream",
     "text": [
      "25\n"
     ]
    }
   ],
   "source": [
    "a = 10\n",
    "b = 15\n",
    "print(a + b)"
   ]
  },
  {
   "cell_type": "code",
   "execution_count": 8,
   "id": "b401e12c-e83d-4b42-917e-b4698ce7ccf0",
   "metadata": {},
   "outputs": [
    {
     "name": "stdin",
     "output_type": "stream",
     "text": [
      "a =  5\n",
      "b =  6\n"
     ]
    },
    {
     "name": "stdout",
     "output_type": "stream",
     "text": [
      "5 + 6 = 11\n",
      "5 + 6 = -1\n",
      "5 + 6 = 30\n",
      "5 + 6 = 0\n",
      "5 + 6 = 0\n",
      "5 + 6 = 5\n",
      "5 + 6 = 15625\n"
     ]
    }
   ],
   "source": [
    "a = int(input(\"a = \"))\n",
    "b = int(input(\"b = \"))\n",
    "\n",
    "print(\"%d + %d = %d\"%(a, b, a + b))\n",
    "print(\"%d + %d = %d\"%(a, b, a - b))\n",
    "print(\"%d + %d = %d\"%(a, b, a * b))\n",
    "print(\"%d + %d = %d\"%(a, b, a / b))\n",
    "print(\"%d + %d = %d\"%(a, b, a // b))\n",
    "print(\"%d + %d = %d\"%(a, b, a % b))\n",
    "print(\"%d + %d = %d\"%(a, b, a ** b))"
   ]
  },
  {
   "cell_type": "code",
   "execution_count": 11,
   "id": "5d2efe12-9ee0-4b15-aa6e-f9bc9c7e0d41",
   "metadata": {},
   "outputs": [
    {
     "name": "stdout",
     "output_type": "stream",
     "text": [
      "0\n",
      "10\n",
      "False\n"
     ]
    }
   ],
   "source": [
    "a = 10\n",
    "b = 0\n",
    "print(a and b)\n",
    "print(a or b)\n",
    "print(not(a or b))"
   ]
  },
  {
   "cell_type": "code",
   "execution_count": 13,
   "id": "0a548afc-ca61-4166-8f97-6f4c1f12b19e",
   "metadata": {},
   "outputs": [
    {
     "name": "stdin",
     "output_type": "stream",
     "text": [
      "please Warsons: 120\n"
     ]
    },
    {
     "name": "stdout",
     "output_type": "stream",
     "text": [
      "120.0 Warsons = 48.9 Cers\n"
     ]
    }
   ],
   "source": [
    "f = float(input(\"please Warsons:\"))\n",
    "c = (f - 32) / 1.8\n",
    "print(\"%0.1f Warsons = %0.1f Cers\" % (f, c))"
   ]
  },
  {
   "cell_type": "code",
   "execution_count": 14,
   "id": "bd37281d-c262-4d29-96c1-e56b49f8778e",
   "metadata": {},
   "outputs": [
    {
     "name": "stdin",
     "output_type": "stream",
     "text": [
      "Please input radious of the cycle: 5\n"
     ]
    },
    {
     "name": "stdout",
     "output_type": "stream",
     "text": [
      "Perimeter is 31.42\n",
      "Area is 78.54\n"
     ]
    }
   ],
   "source": [
    "radius = float(input(\"Please input radious of the cycle:\"))\n",
    "perimeter = 2 * 3.141592653 * radius\n",
    "area = 3.1415 * radius * radius\n",
    "\n",
    "print(\"Perimeter is %.2f\"% perimeter)\n",
    "print(\"Area is %.2f\"%area)"
   ]
  },
  {
   "cell_type": "code",
   "execution_count": 17,
   "id": "d301f71d-7f05-4b6e-a7b1-1648008fa568",
   "metadata": {},
   "outputs": [
    {
     "name": "stdin",
     "output_type": "stream",
     "text": [
      "Plese input year: 2025\n"
     ]
    },
    {
     "name": "stdout",
     "output_type": "stream",
     "text": [
      "False\n"
     ]
    }
   ],
   "source": [
    "year = int(input(\"Plese input year:\"))\n",
    "is_leap = year % 4 == 0 and year % 100 !=0 or year % 400 ==0\n",
    "print(is_leap)"
   ]
  },
  {
   "cell_type": "markdown",
   "id": "a7e9d58f-45e4-4d5b-8d10-22678b190b64",
   "metadata": {
    "jp-MarkdownHeadingCollapsed": true
   },
   "source": [
    "# 03 Branch structure"
   ]
  },
  {
   "cell_type": "code",
   "execution_count": 24,
   "id": "db5292ab-889b-4fae-941a-1c57a43f6ce4",
   "metadata": {},
   "outputs": [
    {
     "name": "stdin",
     "output_type": "stream",
     "text": [
      "please input username: adminr\n",
      "Please input password: 12345\n"
     ]
    },
    {
     "name": "stdout",
     "output_type": "stream",
     "text": [
      "Fail!\n"
     ]
    }
   ],
   "source": [
    "username = input(\"please input username:\")\n",
    "password = input(\"Please input password:\")\n",
    "\n",
    "if username == \"admin\" and password == \"123456\":\n",
    "    print(\"Success!\")\n",
    "else:\n",
    "    print(\"Fail!\")"
   ]
  },
  {
   "cell_type": "code",
   "execution_count": 27,
   "id": "03a1acde-d3af-4ab9-b0dd-94e3c0cfd938",
   "metadata": {},
   "outputs": [
    {
     "name": "stdin",
     "output_type": "stream",
     "text": [
      "please input length: 3345\n",
      "in or cm in\n"
     ]
    },
    {
     "name": "stdout",
     "output_type": "stream",
     "text": [
      "3345.000000 Inch = 8496.300000 cm\n"
     ]
    }
   ],
   "source": [
    "value = float(input(\"please input length:\"))\n",
    "unit = input (\"in or cm\")\n",
    "\n",
    "if unit == \"in\":\n",
    "    print(\"%f Inch = %f cm\"%(value, value * 2.54))\n",
    "elif unit == \"cm\":\n",
    "    print(\"%f cm = %f inch\"%(value, value / 2.54))\n",
    "else: \n",
    "    print(\"not in or cm for your input!\")\n"
   ]
  },
  {
   "cell_type": "markdown",
   "id": "cdc2a2eb-4a91-4968-8ea5-b89ff7374376",
   "metadata": {
    "jp-MarkdownHeadingCollapsed": true
   },
   "source": [
    "# 04 For-loop, While"
   ]
  },
  {
   "cell_type": "code",
   "execution_count": 28,
   "id": "854d4369-3373-4697-9ee1-7c39cd864bc4",
   "metadata": {},
   "outputs": [
    {
     "name": "stdout",
     "output_type": "stream",
     "text": [
      "2450\n"
     ]
    }
   ],
   "source": [
    "sum = 0\n",
    "for x in range(2, 100, 2):\n",
    "    sum += x\n",
    "print(sum)"
   ]
  },
  {
   "cell_type": "code",
   "execution_count": 29,
   "id": "67c4cc49-ca3e-4a22-ac98-0d9fff43d68e",
   "metadata": {},
   "outputs": [
    {
     "name": "stdout",
     "output_type": "stream",
     "text": [
      "2450\n"
     ]
    }
   ],
   "source": [
    "sum = 0\n",
    "for x in range(1, 100):\n",
    "    if x % 2 == 0:\n",
    "        sum +=  x\n",
    "print(sum)"
   ]
  },
  {
   "cell_type": "code",
   "execution_count": 30,
   "id": "ee2e8f33-e31e-4fc2-8a06-f27b684d7e72",
   "metadata": {},
   "outputs": [
    {
     "name": "stdin",
     "output_type": "stream",
     "text": [
      "Guess:  50\n"
     ]
    },
    {
     "name": "stdout",
     "output_type": "stream",
     "text": [
      "Input should be larger!\n"
     ]
    },
    {
     "name": "stdin",
     "output_type": "stream",
     "text": [
      "Guess:  70\n"
     ]
    },
    {
     "name": "stdout",
     "output_type": "stream",
     "text": [
      "Input should be larger!\n"
     ]
    },
    {
     "name": "stdin",
     "output_type": "stream",
     "text": [
      "Guess:  90\n"
     ]
    },
    {
     "name": "stdout",
     "output_type": "stream",
     "text": [
      "Input should be smaller!\n"
     ]
    },
    {
     "name": "stdin",
     "output_type": "stream",
     "text": [
      "Guess:  80\n"
     ]
    },
    {
     "name": "stdout",
     "output_type": "stream",
     "text": [
      "Input should be smaller!\n"
     ]
    },
    {
     "name": "stdin",
     "output_type": "stream",
     "text": [
      "Guess:  75\n"
     ]
    },
    {
     "name": "stdout",
     "output_type": "stream",
     "text": [
      "Input should be larger!\n"
     ]
    },
    {
     "name": "stdin",
     "output_type": "stream",
     "text": [
      "Guess:  77\n"
     ]
    },
    {
     "name": "stdout",
     "output_type": "stream",
     "text": [
      "Input should be smaller!\n"
     ]
    },
    {
     "name": "stdin",
     "output_type": "stream",
     "text": [
      "Guess:  76\n"
     ]
    },
    {
     "name": "stdout",
     "output_type": "stream",
     "text": [
      "Correct\n",
      "You guess 7 times\n"
     ]
    }
   ],
   "source": [
    "import random\n",
    "\n",
    "answer = random.randint(1, 100)\n",
    "counter = 0\n",
    "while True:\n",
    "    counter += 1\n",
    "    number = int(input(\"Guess: \"))\n",
    "    if number < answer:\n",
    "        print(\"Input should be larger!\")\n",
    "    elif number > answer:\n",
    "        print(\"Input should be smaller!\")\n",
    "    else:\n",
    "        print(\"Correct\")\n",
    "        break\n",
    "print(\"You guess %d times\" % counter)\n",
    "if counter > 7:\n",
    "    print(\"Foolish boy!!\")"
   ]
  },
  {
   "cell_type": "code",
   "execution_count": 33,
   "id": "c5e5d9e3-6a91-4726-a31b-3d60f11dc848",
   "metadata": {},
   "outputs": [
    {
     "name": "stdout",
     "output_type": "stream",
     "text": [
      "1 * 1 = 1\t \n",
      "2 * 1 = 2\t 2 * 2 = 4\t \n",
      "3 * 1 = 3\t 3 * 2 = 6\t 3 * 3 = 9\t \n",
      "4 * 1 = 4\t 4 * 2 = 8\t 4 * 3 = 12\t 4 * 4 = 16\t \n",
      "5 * 1 = 5\t 5 * 2 = 10\t 5 * 3 = 15\t 5 * 4 = 20\t 5 * 5 = 25\t \n",
      "6 * 1 = 6\t 6 * 2 = 12\t 6 * 3 = 18\t 6 * 4 = 24\t 6 * 5 = 30\t 6 * 6 = 36\t \n",
      "7 * 1 = 7\t 7 * 2 = 14\t 7 * 3 = 21\t 7 * 4 = 28\t 7 * 5 = 35\t 7 * 6 = 42\t 7 * 7 = 49\t \n",
      "8 * 1 = 8\t 8 * 2 = 16\t 8 * 3 = 24\t 8 * 4 = 32\t 8 * 5 = 40\t 8 * 6 = 48\t 8 * 7 = 56\t 8 * 8 = 64\t \n",
      "9 * 1 = 9\t 9 * 2 = 18\t 9 * 3 = 27\t 9 * 4 = 36\t 9 * 5 = 45\t 9 * 6 = 54\t 9 * 7 = 63\t 9 * 8 = 72\t 9 * 9 = 81\t \n"
     ]
    }
   ],
   "source": [
    "for i in range(1, 10):\n",
    "    for j in range(1, i + 1):\n",
    "        print (\"%d * %d = %d\"%(i, j, i * j), end= \"\\t \")\n",
    "    print()"
   ]
  },
  {
   "cell_type": "markdown",
   "id": "4c706268-77ca-4468-85a5-6df7218bb998",
   "metadata": {
    "jp-MarkdownHeadingCollapsed": true
   },
   "source": [
    "# 05 Program Stucture"
   ]
  },
  {
   "cell_type": "code",
   "execution_count": 34,
   "id": "0e60a7a1-308d-4deb-a2bb-2fd90fb9e547",
   "metadata": {},
   "outputs": [
    {
     "name": "stdout",
     "output_type": "stream",
     "text": [
      "153\n",
      "370\n",
      "371\n",
      "407\n"
     ]
    }
   ],
   "source": [
    "for num in range(100, 1000):\n",
    "    low = num %10\n",
    "    mid = num // 10 % 10\n",
    "    high = num // 100\n",
    "    if num == low ** 3 + mid ** 3 + high ** 3:\n",
    "        print(num)"
   ]
  },
  {
   "cell_type": "markdown",
   "id": "c942aaeb-354d-42fb-8b86-3c361f3f112d",
   "metadata": {
    "jp-MarkdownHeadingCollapsed": true
   },
   "source": [
    "# 06 Function"
   ]
  },
  {
   "attachments": {
    "600dbf06-2cc5-4083-9b0a-865acabfe957.png": {
     "image/png": "[encoded data removed]"
    },
    "72d18028-2cd3-4361-b72c-94f8d743d5f6.png": {
     "image/png": "[encoded data removed]"
    },
    "bb1919be-9a01-4b16-b0eb-2281ce72ca6a.png": {
     "image/png": "[encoded data removed]"
    },
    "d5aad3a7-512c-43d4-be35-7388fc569475.png": {
     "image/png": "[encoded data removed]"
    }
   },
   "cell_type": "markdown",
   "id": "5eba9aa0-a963-4960-a38c-ef1283b9048f",
   "metadata": {},
   "source": [
    "排列的定义：从n个不同元素中，任取m（m≤n,m与n均为自然数,下同）个不同的元素按照一定的顺序排成一列，叫做从n个不同元素中取出m个元素的一个排列；从n个不同元素中取出m（m≤n）个元素的所有排列的个数，叫做从n个不同元素中取出m个元素的排列数，用符号 或表示。\n",
    "![image.png](attachment:bb1919be-9a01-4b16-b0eb-2281ce72ca6a.png)![image.png](attachment:d5aad3a7-512c-43d4-be35-7388fc569475.png)\n",
    "\n",
    "组合的定义：从n个不同元素中，任取m（m≤n）个元素并成一组，叫做从n个不同元素中取出m个元素的一个组合；从n个不同元素中取出m（m≤n）个元素的所有组合的个数，叫做从n个不同元素中取出m个元素的组合数。用符号 C(n,m) 表示。计算公式：\n",
    "\n",
    "![image.png](attachment:72d18028-2cd3-4361-b72c-94f8d743d5f6.png)\n",
    "\n",
    "![image.png](attachment:600dbf06-2cc5-4083-9b0a-865acabfe957.png)"
   ]
  },
  {
   "cell_type": "code",
   "execution_count": 36,
   "id": "6d736bb8-795e-4917-942b-8fd3c6e03e11",
   "metadata": {},
   "outputs": [
    {
     "name": "stdin",
     "output_type": "stream",
     "text": [
      "m =  10\n",
      "n =  9\n"
     ]
    },
    {
     "name": "stdout",
     "output_type": "stream",
     "text": [
      "10\n"
     ]
    }
   ],
   "source": [
    "m = int(input(\"m = \"))\n",
    "n = int(input(\"n = \"))\n",
    "fm = 1\n",
    "for num in range(1, m + 1):\n",
    "    fm *= num\n",
    "\n",
    "fn = 1\n",
    "for num in range(1, n + 1):\n",
    "    fn *= num\n",
    "\n",
    "fm_n = 1\n",
    "for num in range(1, m - n + 1):\n",
    "    fm_n *= num\n",
    "\n",
    "print(fm // fn // fm_n)"
   ]
  },
  {
   "cell_type": "markdown",
   "id": "aeeeb5d0-46d3-4dac-bd0f-4b3016683dca",
   "metadata": {},
   "source": [
    "### Change to function method"
   ]
  },
  {
   "cell_type": "code",
   "execution_count": 38,
   "id": "5edd3d0e-d555-4612-ad52-f9e96869d89e",
   "metadata": {},
   "outputs": [
    {
     "name": "stdin",
     "output_type": "stream",
     "text": [
      "m =  10\n",
      "n =  9\n"
     ]
    },
    {
     "name": "stdout",
     "output_type": "stream",
     "text": [
      "10\n"
     ]
    }
   ],
   "source": [
    "def fac(num):\n",
    "    result = 1\n",
    "    for n in range(1, num + 1):\n",
    "        result *= n\n",
    "    return result\n",
    "\n",
    "m = int(input(\"m = \"))\n",
    "n = int(input(\"n = \"))\n",
    "\n",
    "print(fac(m) // fac(n) // fac(m-n))"
   ]
  },
  {
   "cell_type": "markdown",
   "id": "ee465eb6-be12-4b0c-8f16-0edd3934943b",
   "metadata": {},
   "source": [
    "## Another example for function"
   ]
  },
  {
   "cell_type": "code",
   "execution_count": 39,
   "id": "02a77693-072b-44eb-8e99-ce602e7abec5",
   "metadata": {},
   "outputs": [
    {
     "name": "stdout",
     "output_type": "stream",
     "text": [
      "9\n",
      "7\n",
      "1\n",
      "3\n",
      "6\n",
      "350\n"
     ]
    }
   ],
   "source": [
    "from random import randint\n",
    "\n",
    "def roll_dice(n = 2):\n",
    "    total = 0\n",
    "    for _ in range(n):\n",
    "        total += randint(1, 6)\n",
    "    return total\n",
    "\n",
    "def add(a=0, b=0, c=0):\n",
    "    return a + b + c\n",
    "\n",
    "print(roll_dice())\n",
    "print(roll_dice(3))\n",
    "print(add(1))\n",
    "print(add(1, 2))\n",
    "print(add(1, 2, 3))\n",
    "print(add(c=50, a=100, b=200))"
   ]
  },
  {
   "cell_type": "markdown",
   "id": "6ee8432b-d663-4d62-b524-7b5a8b97872d",
   "metadata": {},
   "source": [
    "### Variable fucntion input"
   ]
  },
  {
   "cell_type": "code",
   "execution_count": 40,
   "id": "48f488d1-d3a3-4018-b2c7-97a91af2b777",
   "metadata": {},
   "outputs": [
    {
     "name": "stdout",
     "output_type": "stream",
     "text": [
      "0\n",
      "1\n",
      "3\n",
      "6\n",
      "25\n"
     ]
    }
   ],
   "source": [
    "def add(*args):\n",
    "    total = 0\n",
    "    for val in args:\n",
    "        total += val\n",
    "    return total\n",
    "\n",
    "print(add())\n",
    "print(add(1))\n",
    "print(add(1, 2))\n",
    "print(add(1, 2, 3))\n",
    "print(add(1, 3, 5, 7, 9))"
   ]
  },
  {
   "cell_type": "raw",
   "id": "a6bf3183-b613-40ec-bfb3-63427fbbb66f",
   "metadata": {},
   "source": [
    "练习1：实现计算求最大公约数和最小公倍数的函数。"
   ]
  },
  {
   "cell_type": "code",
   "execution_count": 1,
   "id": "25ddbeaa-348e-4dca-9869-e3c8b0efd6bc",
   "metadata": {},
   "outputs": [],
   "source": [
    "def gcd(x, y):\n",
    "    \"\"\" 获取最大公约数 \"\"\"\n",
    "    (x, y) = (y, x) if x > y else (x, y)\n",
    "    for factor in range(x, 0, -1):\n",
    "        if x % factor == 0 and y % factor ==0:\n",
    "            return factor\n",
    "\n",
    "def lcm(x, y):\n",
    "    \"\"\"求最小公倍数\"\"\"\n",
    "    return x * y // gcd(x, y)"
   ]
  },
  {
   "cell_type": "markdown",
   "id": "224542f2-face-497a-9f6e-8faa97146859",
   "metadata": {},
   "source": [
    "练习2：实现判断一个数是不是回文数的函数。"
   ]
  },
  {
   "cell_type": "code",
   "execution_count": 3,
   "id": "65790dcf-61c1-4d4d-bf69-3335acaf7442",
   "metadata": {},
   "outputs": [],
   "source": [
    "def is_palindrome(num):\n",
    "    temp = num\n",
    "    total = 0\n",
    "    while temp > 0:\n",
    "        total = total * 10 + temp % 10\n",
    "        temp //= 10\n",
    "    return total == num"
   ]
  },
  {
   "cell_type": "markdown",
   "id": "e9389847-33fd-4baa-bb5e-c78beb1e6c2f",
   "metadata": {},
   "source": [
    "## Work area for Variable"
   ]
  },
  {
   "cell_type": "code",
   "execution_count": 4,
   "id": "1131c335-9ec7-4658-a63e-80031b186077",
   "metadata": {},
   "outputs": [
    {
     "name": "stdout",
     "output_type": "stream",
     "text": [
      "0\n",
      "Hello\n",
      "True\n"
     ]
    }
   ],
   "source": [
    "def foo():\n",
    "    b = \"Hello\"\n",
    "\n",
    "    def bar():\n",
    "        c = True\n",
    "        print(a)\n",
    "        print(b)\n",
    "        print(c)\n",
    "    bar()\n",
    "\n",
    "a = 0\n",
    "foo()"
   ]
  },
  {
   "cell_type": "code",
   "execution_count": 5,
   "id": "14a8dcdd-65a6-402e-b802-f264d5f8948a",
   "metadata": {},
   "outputs": [
    {
     "name": "stdout",
     "output_type": "stream",
     "text": [
      "200\n",
      "200\n"
     ]
    }
   ],
   "source": [
    "def foo():\n",
    "    global a\n",
    "    a = 200\n",
    "    print(a)\n",
    "\n",
    "a = 100\n",
    "foo()\n",
    "print(a)"
   ]
  },
  {
   "cell_type": "markdown",
   "id": "78516cd0-baba-4577-8b81-f23e361c76c9",
   "metadata": {
    "jp-MarkdownHeadingCollapsed": true
   },
   "source": [
    "# 07 String and data structure"
   ]
  },
  {
   "cell_type": "markdown",
   "id": "2e5f5bcd-7308-40b8-9b7a-c612efe9ff0d",
   "metadata": {},
   "source": [
    "## String"
   ]
  },
  {
   "cell_type": "code",
   "execution_count": 7,
   "id": "e748edff-6cc9-4e6b-abfd-67b7e1712a97",
   "metadata": {},
   "outputs": [
    {
     "name": "stdout",
     "output_type": "stream",
     "text": [
      "Hello world! Hello world! \n",
      "hello,\n",
      "world!\n"
     ]
    }
   ],
   "source": [
    "s1 = \"Hello world!\"\n",
    "s2 = \"Hello world!\"\n",
    "s3 = \"\"\"\n",
    "hello,\n",
    "world!\n",
    "\"\"\"\n",
    "print(s1, s2, s3, end = \"\")"
   ]
  },
  {
   "cell_type": "code",
   "execution_count": 19,
   "id": "ed0980dd-a0ca-4290-a90d-808b8102f984",
   "metadata": {},
   "outputs": [
    {
     "name": "stdout",
     "output_type": "stream",
     "text": [
      "hellohellohello\n",
      "hellohellohelloworld\n",
      "True\n",
      "False\n",
      "c\n",
      "c12\n",
      "c123456\n",
      "c246\n",
      "ac246\n",
      "654321cba\n",
      "45\n"
     ]
    }
   ],
   "source": [
    "s1 = \"hello\" * 3\n",
    "print(s1)\n",
    "s2 = \"world\"\n",
    "s1 += s2\n",
    "print(s1)\n",
    "print(\"ll\" in s1)\n",
    "print(\"good\" in s1)\n",
    "str2 = \"abc123456\"\n",
    "print(str2[2])\n",
    "print(str2[2:5])\n",
    "print(str2[2:])\n",
    "print(str2[2::2])\n",
    "print(str2[::2])\n",
    "print(str2[::-1])\n",
    "print(str2[-3:-1])"
   ]
  },
  {
   "cell_type": "code",
   "execution_count": 39,
   "id": "4bba8339-3377-4818-a846-968296249306",
   "metadata": {},
   "outputs": [
    {
     "name": "stdout",
     "output_type": "stream",
     "text": [
      "13\n",
      "Hello, world!\n",
      "Hello, World!\n",
      "HELLO, WORLD!\n",
      "8\n",
      "-1\n",
      "True\n",
      "False\n",
      "False\n",
      "True\n",
      "******************hello, world!*******************\n",
      "                  hello, world!                   \n",
      "                                     hello, world!\n"
     ]
    }
   ],
   "source": [
    "str1 = \"hello, world!\"\n",
    "print(len(str1))\n",
    "print(str1.capitalize())\n",
    "print(str1.title())\n",
    "print(str1.upper())\n",
    "print(str1.find(\"or\"))\n",
    "print(str1.find(\"shit\"))\n",
    "print(str1.startswith(\"he\"))\n",
    "print(str1.startswith(\"He\"))\n",
    "print(str1.endswith(\"l\"))\n",
    "print(str1.endswith(\"!\"))\n",
    "print(str1.center(50, \"*\"))\n",
    "print(str1.center(50, \" \"))\n",
    "print(str1.rjust(50, \" \"))"
   ]
  },
  {
   "cell_type": "code",
   "execution_count": 42,
   "id": "1fbf9cee-bbe6-47c4-ad96-a3c2ea2db9dd",
   "metadata": {},
   "outputs": [
    {
     "name": "stdout",
     "output_type": "stream",
     "text": [
      "False\n",
      "False\n",
      "True\n"
     ]
    }
   ],
   "source": [
    "str2 = \"abc123456\"\n",
    "print(str2.isdigit())\n",
    "print(str2.isalpha())\n",
    "print(str2.isalnum())"
   ]
  },
  {
   "cell_type": "code",
   "execution_count": 44,
   "id": "7e45b464-8414-45cf-af04-943471783084",
   "metadata": {},
   "outputs": [
    {
     "name": "stdout",
     "output_type": "stream",
     "text": [
      "     jackfrued@126.com\n",
      "jackfrued@126.com\n"
     ]
    }
   ],
   "source": [
    "str3 = \"     jackfrued@126.com\"\n",
    "print(str3)\n",
    "print(str3.strip())"
   ]
  },
  {
   "cell_type": "code",
   "execution_count": 46,
   "id": "f83a2092-061d-41b8-96c6-e634f3e8b1f9",
   "metadata": {},
   "outputs": [
    {
     "name": "stdout",
     "output_type": "stream",
     "text": [
      "5 * 10 = 50\n",
      "5 * 10 = 50\n"
     ]
    }
   ],
   "source": [
    "a, b = 5, 10\n",
    "print(\"{0} * {1} = {2}\".format(a, b, a * b))\n",
    "print(f'{a} * {b} = {a * b}')"
   ]
  },
  {
   "cell_type": "markdown",
   "id": "f8e79054-cbd1-4867-94d1-622eb3608215",
   "metadata": {},
   "source": [
    "## List"
   ]
  },
  {
   "cell_type": "code",
   "execution_count": 61,
   "id": "f8c377ec-0ad3-4ce7-aff6-097fd801f1b3",
   "metadata": {},
   "outputs": [
    {
     "name": "stdout",
     "output_type": "stream",
     "text": [
      "[1, 3, 5, 7, 100]\n",
      "['hello', 'hello', 'hello']\n",
      "5\n",
      "3\n",
      "1\n",
      "100\n",
      "100\n",
      "[1, 3, 400, 7, 100]\n",
      "1\n",
      "3\n",
      "400\n",
      "7\n",
      "100\n",
      "1\n",
      "3\n",
      "400\n",
      "7\n",
      "100\n",
      "0 1\n",
      "1 3\n",
      "2 400\n",
      "3 7\n",
      "4 100\n"
     ]
    }
   ],
   "source": [
    "list1 = [1, 3, 5, 7, 100]\n",
    "print(list1)\n",
    "list2 = [\"hello\"] * 3\n",
    "print(list2)\n",
    "print(len(list1))\n",
    "print(len(list2))\n",
    "print(list1[0])\n",
    "print(list1[4])\n",
    "print(list1[-1])\n",
    "list1[2] = 400\n",
    "print(list1)\n",
    "\n",
    "for index in range(len(list1)):\n",
    "    print(list1[index])\n",
    "\n",
    "for elem in list1:\n",
    "    print(elem)\n",
    "\n",
    "for index, elem in enumerate(list1):\n",
    "    print(index, elem)"
   ]
  },
  {
   "cell_type": "code",
   "execution_count": 71,
   "id": "07dcab05-ce73-4e97-a3ff-533e071bb638",
   "metadata": {},
   "outputs": [
    {
     "name": "stdout",
     "output_type": "stream",
     "text": [
      "[1, 3, 5, 7, 100, 200]\n",
      "[1, 400, 3, 5, 7, 100, 200]\n",
      "[1, 400, 3, 5, 7, 100, 200, 1000, 2000]\n",
      "9\n",
      "[1, 400, 5, 7, 100, 200, 1000, 2000]\n",
      "[400, 5, 7, 100, 200, 1000, 2000]\n",
      "[400, 5, 7, 100, 200, 1000]\n",
      "[]\n"
     ]
    }
   ],
   "source": [
    "list1 = [1, 3, 5, 7, 100]\n",
    "list1.append(200)\n",
    "print(list1)\n",
    "list1.insert(1, 400)\n",
    "print(list1)\n",
    "list1 += [1000, 2000]\n",
    "print(list1)\n",
    "print(len(list1))\n",
    "\n",
    "if 3 in list1:\n",
    "    list1.remove(3)\n",
    "if 1234 in list1:\n",
    "    list1.remove(1234)\n",
    "print(list1)\n",
    "\n",
    "list1.pop(0)\n",
    "print(list1)\n",
    "\n",
    "list1.pop(len(list1)-1)\n",
    "print(list1)\n",
    "\n",
    "list1.clear()\n",
    "print(list1)"
   ]
  },
  {
   "cell_type": "code",
   "execution_count": 83,
   "id": "c78256ca-86dc-4a6f-966b-44aab60aa25c",
   "metadata": {},
   "outputs": [
    {
     "name": "stdout",
     "output_type": "stream",
     "text": [
      "['grape', 'apple', 'strawberry', 'waxberry', 'pitaya', 'pear', 'mango']\n",
      "['apple', 'strawberry', 'waxberry']\n",
      "['mango', 'pear', 'pitaya', 'waxberry', 'strawberry', 'apple', 'grape']\n",
      "['apple', 'grape', 'mango', 'pear', 'pitaya', 'strawberry', 'waxberry']\n",
      "['waxberry', 'strawberry', 'pitaya', 'pear', 'mango', 'grape', 'apple']\n",
      "['pear', 'grape', 'apple', 'mango', 'pitaya', 'waxberry', 'strawberry']\n",
      "['waxberry', 'strawberry', 'pitaya', 'pear', 'mango', 'grape', 'apple']\n"
     ]
    }
   ],
   "source": [
    "fruits = ['grape', 'apple', 'strawberry', 'waxberry']\n",
    "fruits += ['pitaya', 'pear', 'mango']\n",
    "\n",
    "print(fruits)\n",
    "\n",
    "fruit2 = fruits[1:4]\n",
    "print(fruit2)\n",
    "print(fruits[::-1])\n",
    "print(sorted(fruits))\n",
    "print(sorted(fruits, reverse=True))\n",
    "print(sorted(fruits, key = len))\n",
    "fruits.sort(reverse=True)\n",
    "print(fruits)"
   ]
  },
  {
   "cell_type": "markdown",
   "id": "4b5fe5cd-2f79-47b9-a573-8dc3684a867e",
   "metadata": {},
   "source": [
    "生成式和生成器"
   ]
  },
  {
   "cell_type": "code",
   "execution_count": 88,
   "id": "d75cda3f-c573-43f1-8e04-f77abe81b7a4",
   "metadata": {},
   "outputs": [],
   "source": [
    "import sys"
   ]
  },
  {
   "cell_type": "code",
   "execution_count": 90,
   "id": "a4c786d4-496f-4bb2-8394-062a4daab270",
   "metadata": {},
   "outputs": [
    {
     "name": "stdout",
     "output_type": "stream",
     "text": [
      "[1, 2, 3, 4, 5, 6, 7, 8, 9]\n",
      "['A1', 'A2', 'A3', 'A4', 'A5', 'A6', 'A7', 'B1', 'B2', 'B3', 'B4', 'B5', 'B6', 'B7', 'C1', 'C2', 'C3', 'C4', 'C5', 'C6', 'C7', 'D1', 'D2', 'D3', 'D4', 'D5', 'D6', 'D7', 'E1', 'E2', 'E3', 'E4', 'E5', 'E6', 'E7']\n",
      "8856\n",
      "[1, 4, 9, 16, 25, 36, 49, 64, 81, 100, 121, 144, 169, 196, 225, 256, 289, 324, 361, 400, 441, 484, 529, 576, 625, 676, 729, 784, 841, 900, 961, 1024, 1089, 1156, 1225, 1296, 1369, 1444, 1521, 1600, 1681, 1764, 1849, 1936, 2025, 2116, 2209, 2304, 2401, 2500, 2601, 2704, 2809, 2916, 3025, 3136, 3249, 3364, 3481, 3600, 3721, 3844, 3969, 4096, 4225, 4356, 4489, 4624, 4761, 4900, 5041, 5184, 5329, 5476, 5625, 5776, 5929, 6084, 6241, 6400, 6561, 6724, 6889, 7056, 7225, 7396, 7569, 7744, 7921, 8100, 8281, 8464, 8649, 8836, 9025, 9216, 9409, 9604, 9801, 10000, 10201, 10404, 10609, 10816, 11025, 11236, 11449, 11664, 11881, 12100, 12321, 12544, 12769, 12996, 13225, 13456, 13689, 13924, 14161, 14400, 14641, 14884, 15129, 15376, 15625, 15876, 16129, 16384, 16641, 16900, 17161, 17424, 17689, 17956, 18225, 18496, 18769, 19044, 19321, 19600, 19881, 20164, 20449, 20736, 21025, 21316, 21609, 21904, 22201, 22500, 22801, 23104, 23409, 23716, 24025, 24336, 24649, 24964, 25281, 25600, 25921, 26244, 26569, 26896, 27225, 27556, 27889, 28224, 28561, 28900, 29241, 29584, 29929, 30276, 30625, 30976, 31329, 31684, 32041, 32400, 32761, 33124, 33489, 33856, 34225, 34596, 34969, 35344, 35721, 36100, 36481, 36864, 37249, 37636, 38025, 38416, 38809, 39204, 39601, 40000, 40401, 40804, 41209, 41616, 42025, 42436, 42849, 43264, 43681, 44100, 44521, 44944, 45369, 45796, 46225, 46656, 47089, 47524, 47961, 48400, 48841, 49284, 49729, 50176, 50625, 51076, 51529, 51984, 52441, 52900, 53361, 53824, 54289, 54756, 55225, 55696, 56169, 56644, 57121, 57600, 58081, 58564, 59049, 59536, 60025, 60516, 61009, 61504, 62001, 62500, 63001, 63504, 64009, 64516, 65025, 65536, 66049, 66564, 67081, 67600, 68121, 68644, 69169, 69696, 70225, 70756, 71289, 71824, 72361, 72900, 73441, 73984, 74529, 75076, 75625, 76176, 76729, 77284, 77841, 78400, 78961, 79524, 80089, 80656, 81225, 81796, 82369, 82944, 83521, 84100, 84681, 85264, 85849, 86436, 87025, 87616, 88209, 88804, 89401, 90000, 90601, 91204, 91809, 92416, 93025, 93636, 94249, 94864, 95481, 96100, 96721, 97344, 97969, 98596, 99225, 99856, 100489, 101124, 101761, 102400, 103041, 103684, 104329, 104976, 105625, 106276, 106929, 107584, 108241, 108900, 109561, 110224, 110889, 111556, 112225, 112896, 113569, 114244, 114921, 115600, 116281, 116964, 117649, 118336, 119025, 119716, 120409, 121104, 121801, 122500, 123201, 123904, 124609, 125316, 126025, 126736, 127449, 128164, 128881, 129600, 130321, 131044, 131769, 132496, 133225, 133956, 134689, 135424, 136161, 136900, 137641, 138384, 139129, 139876, 140625, 141376, 142129, 142884, 143641, 144400, 145161, 145924, 146689, 147456, 148225, 148996, 149769, 150544, 151321, 152100, 152881, 153664, 154449, 155236, 156025, 156816, 157609, 158404, 159201, 160000, 160801, 161604, 162409, 163216, 164025, 164836, 165649, 166464, 167281, 168100, 168921, 169744, 170569, 171396, 172225, 173056, 173889, 174724, 175561, 176400, 177241, 178084, 178929, 179776, 180625, 181476, 182329, 183184, 184041, 184900, 185761, 186624, 187489, 188356, 189225, 190096, 190969, 191844, 192721, 193600, 194481, 195364, 196249, 197136, 198025, 198916, 199809, 200704, 201601, 202500, 203401, 204304, 205209, 206116, 207025, 207936, 208849, 209764, 210681, 211600, 212521, 213444, 214369, 215296, 216225, 217156, 218089, 219024, 219961, 220900, 221841, 222784, 223729, 224676, 225625, 226576, 227529, 228484, 229441, 230400, 231361, 232324, 233289, 234256, 235225, 236196, 237169, 238144, 239121, 240100, 241081, 242064, 243049, 244036, 245025, 246016, 247009, 248004, 249001, 250000, 251001, 252004, 253009, 254016, 255025, 256036, 257049, 258064, 259081, 260100, 261121, 262144, 263169, 264196, 265225, 266256, 267289, 268324, 269361, 270400, 271441, 272484, 273529, 274576, 275625, 276676, 277729, 278784, 279841, 280900, 281961, 283024, 284089, 285156, 286225, 287296, 288369, 289444, 290521, 291600, 292681, 293764, 294849, 295936, 297025, 298116, 299209, 300304, 301401, 302500, 303601, 304704, 305809, 306916, 308025, 309136, 310249, 311364, 312481, 313600, 314721, 315844, 316969, 318096, 319225, 320356, 321489, 322624, 323761, 324900, 326041, 327184, 328329, 329476, 330625, 331776, 332929, 334084, 335241, 336400, 337561, 338724, 339889, 341056, 342225, 343396, 344569, 345744, 346921, 348100, 349281, 350464, 351649, 352836, 354025, 355216, 356409, 357604, 358801, 360000, 361201, 362404, 363609, 364816, 366025, 367236, 368449, 369664, 370881, 372100, 373321, 374544, 375769, 376996, 378225, 379456, 380689, 381924, 383161, 384400, 385641, 386884, 388129, 389376, 390625, 391876, 393129, 394384, 395641, 396900, 398161, 399424, 400689, 401956, 403225, 404496, 405769, 407044, 408321, 409600, 410881, 412164, 413449, 414736, 416025, 417316, 418609, 419904, 421201, 422500, 423801, 425104, 426409, 427716, 429025, 430336, 431649, 432964, 434281, 435600, 436921, 438244, 439569, 440896, 442225, 443556, 444889, 446224, 447561, 448900, 450241, 451584, 452929, 454276, 455625, 456976, 458329, 459684, 461041, 462400, 463761, 465124, 466489, 467856, 469225, 470596, 471969, 473344, 474721, 476100, 477481, 478864, 480249, 481636, 483025, 484416, 485809, 487204, 488601, 490000, 491401, 492804, 494209, 495616, 497025, 498436, 499849, 501264, 502681, 504100, 505521, 506944, 508369, 509796, 511225, 512656, 514089, 515524, 516961, 518400, 519841, 521284, 522729, 524176, 525625, 527076, 528529, 529984, 531441, 532900, 534361, 535824, 537289, 538756, 540225, 541696, 543169, 544644, 546121, 547600, 549081, 550564, 552049, 553536, 555025, 556516, 558009, 559504, 561001, 562500, 564001, 565504, 567009, 568516, 570025, 571536, 573049, 574564, 576081, 577600, 579121, 580644, 582169, 583696, 585225, 586756, 588289, 589824, 591361, 592900, 594441, 595984, 597529, 599076, 600625, 602176, 603729, 605284, 606841, 608400, 609961, 611524, 613089, 614656, 616225, 617796, 619369, 620944, 622521, 624100, 625681, 627264, 628849, 630436, 632025, 633616, 635209, 636804, 638401, 640000, 641601, 643204, 644809, 646416, 648025, 649636, 651249, 652864, 654481, 656100, 657721, 659344, 660969, 662596, 664225, 665856, 667489, 669124, 670761, 672400, 674041, 675684, 677329, 678976, 680625, 682276, 683929, 685584, 687241, 688900, 690561, 692224, 693889, 695556, 697225, 698896, 700569, 702244, 703921, 705600, 707281, 708964, 710649, 712336, 714025, 715716, 717409, 719104, 720801, 722500, 724201, 725904, 727609, 729316, 731025, 732736, 734449, 736164, 737881, 739600, 741321, 743044, 744769, 746496, 748225, 749956, 751689, 753424, 755161, 756900, 758641, 760384, 762129, 763876, 765625, 767376, 769129, 770884, 772641, 774400, 776161, 777924, 779689, 781456, 783225, 784996, 786769, 788544, 790321, 792100, 793881, 795664, 797449, 799236, 801025, 802816, 804609, 806404, 808201, 810000, 811801, 813604, 815409, 817216, 819025, 820836, 822649, 824464, 826281, 828100, 829921, 831744, 833569, 835396, 837225, 839056, 840889, 842724, 844561, 846400, 848241, 850084, 851929, 853776, 855625, 857476, 859329, 861184, 863041, 864900, 866761, 868624, 870489, 872356, 874225, 876096, 877969, 879844, 881721, 883600, 885481, 887364, 889249, 891136, 893025, 894916, 896809, 898704, 900601, 902500, 904401, 906304, 908209, 910116, 912025, 913936, 915849, 917764, 919681, 921600, 923521, 925444, 927369, 929296, 931225, 933156, 935089, 937024, 938961, 940900, 942841, 944784, 946729, 948676, 950625, 952576, 954529, 956484, 958441, 960400, 962361, 964324, 966289, 968256, 970225, 972196, 974169, 976144, 978121, 980100, 982081, 984064, 986049, 988036, 990025, 992016, 994009, 996004, 998001]\n"
     ]
    }
   ],
   "source": [
    "f = [x for x in range(1, 10)]\n",
    "print(f)\n",
    "\n",
    "f = [x + y for x in \"ABCDE\" for y in \"1234567\"]\n",
    "print(f)\n",
    "\n",
    "f = [x ** 2 for x in range(1, 1000)]\n",
    "print(sys.getsizeof(f))\n",
    "print(f)"
   ]
  },
  {
   "cell_type": "code",
   "execution_count": 96,
   "id": "ae36eb3c-c054-4f52-a8a9-5a78a85f1170",
   "metadata": {},
   "outputs": [
    {
     "name": "stdout",
     "output_type": "stream",
     "text": [
      "104\n",
      "<generator object <genexpr> at 0x00000145FA9A4AC0>\n",
      "1,4,9,16,25,36,49,64,81,100,121,144,169,196,225,256,289,324,361,400,441,484,529,576,625,676,729,784,841,900,961,1024,1089,1156,1225,1296,1369,1444,1521,1600,1681,1764,1849,1936,2025,2116,2209,2304,2401,2500,2601,2704,2809,2916,3025,3136,3249,3364,3481,3600,3721,3844,3969,4096,4225,4356,4489,4624,4761,4900,5041,5184,5329,5476,5625,5776,5929,6084,6241,6400,6561,6724,6889,7056,7225,7396,7569,7744,7921,8100,8281,8464,8649,8836,9025,9216,9409,9604,9801,10000,10201,10404,10609,10816,11025,11236,11449,11664,11881,12100,12321,12544,12769,12996,13225,13456,13689,13924,14161,14400,14641,14884,15129,15376,15625,15876,16129,16384,16641,16900,17161,17424,17689,17956,18225,18496,18769,19044,19321,19600,19881,20164,20449,20736,21025,21316,21609,21904,22201,22500,22801,23104,23409,23716,24025,24336,24649,24964,25281,25600,25921,26244,26569,26896,27225,27556,27889,28224,28561,28900,29241,29584,29929,30276,30625,30976,31329,31684,32041,32400,32761,33124,33489,33856,34225,34596,34969,35344,35721,36100,36481,36864,37249,37636,38025,38416,38809,39204,39601,40000,40401,40804,41209,41616,42025,42436,42849,43264,43681,44100,44521,44944,45369,45796,46225,46656,47089,47524,47961,48400,48841,49284,49729,50176,50625,51076,51529,51984,52441,52900,53361,53824,54289,54756,55225,55696,56169,56644,57121,57600,58081,58564,59049,59536,60025,60516,61009,61504,62001,62500,63001,63504,64009,64516,65025,65536,66049,66564,67081,67600,68121,68644,69169,69696,70225,70756,71289,71824,72361,72900,73441,73984,74529,75076,75625,76176,76729,77284,77841,78400,78961,79524,80089,80656,81225,81796,82369,82944,83521,84100,84681,85264,85849,86436,87025,87616,88209,88804,89401,90000,90601,91204,91809,92416,93025,93636,94249,94864,95481,96100,96721,97344,97969,98596,99225,99856,100489,101124,101761,102400,103041,103684,104329,104976,105625,106276,106929,107584,108241,108900,109561,110224,110889,111556,112225,112896,113569,114244,114921,115600,116281,116964,117649,118336,119025,119716,120409,121104,121801,122500,123201,123904,124609,125316,126025,126736,127449,128164,128881,129600,130321,131044,131769,132496,133225,133956,134689,135424,136161,136900,137641,138384,139129,139876,140625,141376,142129,142884,143641,144400,145161,145924,146689,147456,148225,148996,149769,150544,151321,152100,152881,153664,154449,155236,156025,156816,157609,158404,159201,160000,160801,161604,162409,163216,164025,164836,165649,166464,167281,168100,168921,169744,170569,171396,172225,173056,173889,174724,175561,176400,177241,178084,178929,179776,180625,181476,182329,183184,184041,184900,185761,186624,187489,188356,189225,190096,190969,191844,192721,193600,194481,195364,196249,197136,198025,198916,199809,200704,201601,202500,203401,204304,205209,206116,207025,207936,208849,209764,210681,211600,212521,213444,214369,215296,216225,217156,218089,219024,219961,220900,221841,222784,223729,224676,225625,226576,227529,228484,229441,230400,231361,232324,233289,234256,235225,236196,237169,238144,239121,240100,241081,242064,243049,244036,245025,246016,247009,248004,249001,250000,251001,252004,253009,254016,255025,256036,257049,258064,259081,260100,261121,262144,263169,264196,265225,266256,267289,268324,269361,270400,271441,272484,273529,274576,275625,276676,277729,278784,279841,280900,281961,283024,284089,285156,286225,287296,288369,289444,290521,291600,292681,293764,294849,295936,297025,298116,299209,300304,301401,302500,303601,304704,305809,306916,308025,309136,310249,311364,312481,313600,314721,315844,316969,318096,319225,320356,321489,322624,323761,324900,326041,327184,328329,329476,330625,331776,332929,334084,335241,336400,337561,338724,339889,341056,342225,343396,344569,345744,346921,348100,349281,350464,351649,352836,354025,355216,356409,357604,358801,360000,361201,362404,363609,364816,366025,367236,368449,369664,370881,372100,373321,374544,375769,376996,378225,379456,380689,381924,383161,384400,385641,386884,388129,389376,390625,391876,393129,394384,395641,396900,398161,399424,400689,401956,403225,404496,405769,407044,408321,409600,410881,412164,413449,414736,416025,417316,418609,419904,421201,422500,423801,425104,426409,427716,429025,430336,431649,432964,434281,435600,436921,438244,439569,440896,442225,443556,444889,446224,447561,448900,450241,451584,452929,454276,455625,456976,458329,459684,461041,462400,463761,465124,466489,467856,469225,470596,471969,473344,474721,476100,477481,478864,480249,481636,483025,484416,485809,487204,488601,490000,491401,492804,494209,495616,497025,498436,499849,501264,502681,504100,505521,506944,508369,509796,511225,512656,514089,515524,516961,518400,519841,521284,522729,524176,525625,527076,528529,529984,531441,532900,534361,535824,537289,538756,540225,541696,543169,544644,546121,547600,549081,550564,552049,553536,555025,556516,558009,559504,561001,562500,564001,565504,567009,568516,570025,571536,573049,574564,576081,577600,579121,580644,582169,583696,585225,586756,588289,589824,591361,592900,594441,595984,597529,599076,600625,602176,603729,605284,606841,608400,609961,611524,613089,614656,616225,617796,619369,620944,622521,624100,625681,627264,628849,630436,632025,633616,635209,636804,638401,640000,641601,643204,644809,646416,648025,649636,651249,652864,654481,656100,657721,659344,660969,662596,664225,665856,667489,669124,670761,672400,674041,675684,677329,678976,680625,682276,683929,685584,687241,688900,690561,692224,693889,695556,697225,698896,700569,702244,703921,705600,707281,708964,710649,712336,714025,715716,717409,719104,720801,722500,724201,725904,727609,729316,731025,732736,734449,736164,737881,739600,741321,743044,744769,746496,748225,749956,751689,753424,755161,756900,758641,760384,762129,763876,765625,767376,769129,770884,772641,774400,776161,777924,779689,781456,783225,784996,786769,788544,790321,792100,793881,795664,797449,799236,801025,802816,804609,806404,808201,810000,811801,813604,815409,817216,819025,820836,822649,824464,826281,828100,829921,831744,833569,835396,837225,839056,840889,842724,844561,846400,848241,850084,851929,853776,855625,857476,859329,861184,863041,864900,866761,868624,870489,872356,874225,876096,877969,879844,881721,883600,885481,887364,889249,891136,893025,894916,896809,898704,900601,902500,904401,906304,908209,910116,912025,913936,915849,917764,919681,921600,923521,925444,927369,929296,931225,933156,935089,937024,938961,940900,942841,944784,946729,948676,950625,952576,954529,956484,958441,960400,962361,964324,966289,968256,970225,972196,974169,976144,978121,980100,982081,984064,986049,988036,990025,992016,994009,996004,998001,"
     ]
    }
   ],
   "source": [
    "f = (x ** 2 for x in range(1, 1000))\n",
    "print(sys.getsizeof(f))\n",
    "print(f)\n",
    "for val in f:\n",
    "    print(val, end = \",\")"
   ]
  },
  {
   "cell_type": "markdown",
   "id": "713b4805-7b2f-4d57-a625-111eb2e05a12",
   "metadata": {},
   "source": [
    "除了上面提到的生成器语法，Python中还有另外一种定义生成器的方式，就是通过yield关键字将一个普通函数改造成生成器函数。下面的代码演示了如何实现一个生成斐波拉切数列的生成器。所谓斐波拉切数列可以通过下面递归的方法来进行定义："
   ]
  },
  {
   "cell_type": "code",
   "execution_count": 98,
   "id": "2cd004ca-8f08-4322-b0cf-b89cc1a7cb95",
   "metadata": {},
   "outputs": [
    {
     "name": "stdout",
     "output_type": "stream",
     "text": [
      "1\n",
      "1\n",
      "2\n",
      "3\n",
      "5\n",
      "8\n",
      "13\n",
      "21\n",
      "34\n",
      "55\n",
      "89\n",
      "144\n",
      "233\n",
      "377\n",
      "610\n",
      "987\n",
      "1597\n",
      "2584\n",
      "4181\n",
      "6765\n"
     ]
    }
   ],
   "source": [
    "def fib(n):\n",
    "    a, b = 0, 1\n",
    "    for _ in range(n):\n",
    "        a, b = b, a + b\n",
    "        yield a\n",
    "\n",
    "for val in fib(20):\n",
    "    print(val)"
   ]
  },
  {
   "cell_type": "markdown",
   "id": "3968c8b0-6045-44bc-b9ca-8204a72839b9",
   "metadata": {},
   "source": [
    "## Turple"
   ]
  },
  {
   "cell_type": "code",
   "execution_count": 6,
   "id": "80fed52b-91af-4330-a2aa-d08057bd9dd0",
   "metadata": {},
   "outputs": [
    {
     "name": "stdout",
     "output_type": "stream",
     "text": [
      "('ABC', 38, True, 'xxdd')\n",
      "ABC\n",
      "ABC\n",
      "38\n",
      "True\n",
      "xxdd\n",
      "['ABC', 38, True, 'xxdd']\n",
      "('ABC', 38, True, 'xxdd')\n"
     ]
    }
   ],
   "source": [
    "t = (\"ABC\", 38, True, \"xxdd\")\n",
    "print(t)\n",
    "print(t[0])\n",
    "for member in t:\n",
    "    print(member)\n",
    "t1 = list(t)\n",
    "print(t1)\n",
    "t2 = tuple(t1)\n",
    "print(t2)"
   ]
  },
  {
   "cell_type": "markdown",
   "id": "cdb57665-6577-4b06-b58d-6a5166ec2496",
   "metadata": {},
   "source": [
    "## Set"
   ]
  },
  {
   "cell_type": "code",
   "execution_count": 12,
   "id": "c91e2748-ba73-4c02-89be-652b9e3ebf64",
   "metadata": {},
   "outputs": [
    {
     "name": "stdout",
     "output_type": "stream",
     "text": [
      "{1, 2, 3}\n",
      "length =  3\n",
      "{1, 2, 3, 4, 5, 6, 7, 8, 9} {1, 2, 3}\n",
      "{3, 5, 6, 9, 10, 12, 15, 18, 20, 21, 24, 25, 27, 30, 33, 35, 36, 39, 40, 42, 45, 48, 50, 51, 54, 55, 57, 60, 63, 65, 66, 69, 70, 72, 75, 78, 80, 81, 84, 85, 87, 90, 93, 95, 96, 99}\n"
     ]
    }
   ],
   "source": [
    "set1 = {1, 2, 3, 3, 3, 2}\n",
    "print(set1)\n",
    "print(\"length = \", len(set1))\n",
    "\n",
    "set2 = set(range(1, 10))\n",
    "set3 = set((1, 2, 3, 3, 2, 1))\n",
    "print(set2, set3)\n",
    "\n",
    "set4 = {num for num in range(1, 100) if num % 3 == 0 or num % 5 == 0}\n",
    "print(set4)"
   ]
  },
  {
   "cell_type": "code",
   "execution_count": 14,
   "id": "d8dc0ef6-d19e-4b4a-ab03-8763d8007d3f",
   "metadata": {},
   "outputs": [
    {
     "name": "stdout",
     "output_type": "stream",
     "text": [
      "{1, 2, 3, 4}\n"
     ]
    }
   ],
   "source": [
    "set1.add(4)\n",
    "print(set1)"
   ]
  },
  {
   "cell_type": "code",
   "execution_count": 16,
   "id": "37dbe33b-4a0b-4c3d-a979-4f5d09fd2a68",
   "metadata": {},
   "outputs": [
    {
     "name": "stdout",
     "output_type": "stream",
     "text": [
      "{1, 2, 3, 4, 11, 12}\n"
     ]
    }
   ],
   "source": [
    "set1.update([11, 12])\n",
    "print(set1)"
   ]
  },
  {
   "cell_type": "code",
   "execution_count": 18,
   "id": "1adec1d2-f377-4820-94fb-25850ff714b7",
   "metadata": {},
   "outputs": [
    {
     "name": "stdout",
     "output_type": "stream",
     "text": [
      "{1, 3, 4, 11, 12}\n"
     ]
    }
   ],
   "source": [
    "set1.discard(2)\n",
    "print(set1)"
   ]
  },
  {
   "cell_type": "code",
   "execution_count": 19,
   "id": "c2211ff3-f972-4e2e-8277-ccaf5e9488f8",
   "metadata": {},
   "outputs": [
    {
     "name": "stdout",
     "output_type": "stream",
     "text": [
      "{3, 4, 11, 12}\n"
     ]
    }
   ],
   "source": [
    "set1.pop()\n",
    "print(set1)"
   ]
  },
  {
   "cell_type": "markdown",
   "id": "56031d90-cc6e-4c1c-9475-9551bd1b39b5",
   "metadata": {},
   "source": [
    "## Dict"
   ]
  },
  {
   "cell_type": "code",
   "execution_count": 40,
   "id": "4ab488bc-3b77-484f-9b52-f517528899be",
   "metadata": {},
   "outputs": [
    {
     "name": "stdout",
     "output_type": "stream",
     "text": [
      "{'A': 95, 'B': 78, 'C': 82}\n",
      "{'one': 1, 'two': 2, 'three': 3}\n",
      "{'a': '1', 'b': '2', 'c': '3'}\n",
      "{1: 1, 2: 4, 3: 9, 4: 16, 5: 25, 6: 36, 7: 49, 8: 64, 9: 81}\n",
      "95\n",
      "A: 95\n",
      "B: 78\n",
      "C: 82\n",
      "{'A': 100, 'B': 78, 'C': 82}\n",
      "{'A': 100, 'B': 78, 'C': 82, 'D': 1, 'E': 23}\n",
      "100\n",
      "('E', 23)\n",
      "('D', 1)\n",
      "{'A': 100, 'B': 78, 'C': 82}\n",
      "100\n",
      "{'B': 78, 'C': 82}\n",
      "{}\n"
     ]
    }
   ],
   "source": [
    "scores = {'A': 95, 'B': 78, 'C': 82}\n",
    "print(scores)\n",
    "\n",
    "items1 = dict(one = 1, two = 2, three = 3)\n",
    "print(items1)\n",
    "\n",
    "items2 = dict(zip([\"a\", \"b\", \"c\"], \"123\"))\n",
    "print(items2)\n",
    "\n",
    "items3 = {num: num **2 for num in range(1, 10)}\n",
    "print(items3)\n",
    "\n",
    "print(scores[\"A\"])\n",
    "\n",
    "for key in scores:\n",
    "    print(f'{key}: {scores[key]}')\n",
    "\n",
    "scores[\"A\"] = 100\n",
    "print(scores)\n",
    "\n",
    "scores.update(D=1, E=23)\n",
    "print(scores)\n",
    "\n",
    "print(scores.get(\"A\"))\n",
    "print(scores.popitem())\n",
    "print(scores.popitem())\n",
    "print(scores)\n",
    "print(scores.pop(\"A\", 100))\n",
    "print(scores)\n",
    "scores.clear()\n",
    "print(scores)"
   ]
  },
  {
   "cell_type": "markdown",
   "id": "bcfcd952-a99d-491e-b02a-3da3c82b1e52",
   "metadata": {},
   "source": [
    "### Exercise 2: Design a function to generate a verification code of specified length, consisting of uppercase and lowercase letters as well as numbers."
   ]
  },
  {
   "cell_type": "code",
   "execution_count": 46,
   "id": "cb780df5-2ca8-4d0d-b1b0-2bb670d26af2",
   "metadata": {},
   "outputs": [
    {
     "data": {
      "text/plain": [
       "'fR5f'"
      ]
     },
     "execution_count": 46,
     "metadata": {},
     "output_type": "execute_result"
    }
   ],
   "source": [
    "import random\n",
    "\n",
    "def generate_code(code_len = 4):\n",
    "    all_chars = \"0123456789abcdefghijklmnopqrstuvwxyzABCDEFGHIJKLMNOPQRSTUVWXYZ\"\n",
    "    last_pos = len(all_chars) -1\n",
    "    code = \"\"\n",
    "    for _ in range(code_len):\n",
    "        index = random. randint(0, last_pos)\n",
    "        code += all_chars[index]\n",
    "    return code\n",
    "generate_code()"
   ]
  },
  {
   "cell_type": "markdown",
   "id": "3be73192-9a48-42f1-9be4-eafd2cf1e5ab",
   "metadata": {
    "jp-MarkdownHeadingCollapsed": true
   },
   "source": [
    "# 8. Class"
   ]
  },
  {
   "cell_type": "code",
   "execution_count": 47,
   "id": "b7a64bbc-40e2-40cc-878e-ea9572c9ead1",
   "metadata": {},
   "outputs": [],
   "source": [
    "class Student(object):\n",
    "    def __init__(self, name, age):\n",
    "        self.name = name\n",
    "        self.age = age\n",
    "\n",
    "    def study(self, couse_name):\n",
    "        print(\"%s Studying for %s\" % (self.name, couse_name))\n",
    "\n",
    "    def watch_movie(self):\n",
    "        if self.age < 18:\n",
    "            print(\"%s Restricted.\"%self.name)\n",
    "        else:\n",
    "            print(\"%s No Limit.\"%self.name)"
   ]
  },
  {
   "cell_type": "code",
   "execution_count": 48,
   "id": "ac37cab3-ed75-4e3d-b023-39eb49827e6e",
   "metadata": {},
   "outputs": [
    {
     "name": "stdout",
     "output_type": "stream",
     "text": [
      "Jacky Studying for NLP\n",
      "Jacky No Limit.\n",
      "Evan Studying for CSA\n",
      "Evan Restricted.\n"
     ]
    }
   ],
   "source": [
    "stu1 = Student(\"Jacky\", 38)\n",
    "stu1.study(\"NLP\")\n",
    "stu1.watch_movie()\n",
    "stu2 = Student(\"Evan\", 15)\n",
    "stu2.study(\"CSA\")\n",
    "stu2.watch_movie()"
   ]
  },
  {
   "cell_type": "code",
   "execution_count": 49,
   "id": "371b6549-c7dd-4cd7-aeef-2239fbd76cfe",
   "metadata": {},
   "outputs": [],
   "source": [
    "class Test:\n",
    "    def __init__(self, foo):\n",
    "        self.__foo =foo\n",
    "\n",
    "    def __bar(self):\n",
    "        print(self.__foo)\n",
    "        print(\"__bar\")"
   ]
  },
  {
   "cell_type": "code",
   "execution_count": 50,
   "id": "9be300da-b50b-4c76-9d7b-bbc7b871977a",
   "metadata": {},
   "outputs": [
    {
     "ename": "AttributeError",
     "evalue": "'Test' object has no attribute '__bar'",
     "output_type": "error",
     "traceback": [
      "\u001b[0;31m---------------------------------------------------------------------------\u001b[0m",
      "\u001b[0;31mAttributeError\u001b[0m                            Traceback (most recent call last)",
      "Cell \u001b[0;32mIn[50], line 2\u001b[0m\n\u001b[1;32m      1\u001b[0m test \u001b[38;5;241m=\u001b[39m Test(\u001b[38;5;124m\"\u001b[39m\u001b[38;5;124mhello\u001b[39m\u001b[38;5;124m\"\u001b[39m)\n\u001b[0;32m----> 2\u001b[0m \u001b[43mtest\u001b[49m\u001b[38;5;241;43m.\u001b[39;49m\u001b[43m__bar\u001b[49m()\n\u001b[1;32m      4\u001b[0m \u001b[38;5;28mprint\u001b[39m(test\u001b[38;5;241m.\u001b[39m__foo)\n",
      "\u001b[0;31mAttributeError\u001b[0m: 'Test' object has no attribute '__bar'"
     ]
    }
   ],
   "source": [
    "test = Test(\"hello\")\n",
    "test.__bar()\n",
    "\n",
    "print(test.__foo)"
   ]
  },
  {
   "cell_type": "markdown",
   "id": "952ee025-ec42-4a15-8e42-96b3b84131fa",
   "metadata": {},
   "source": [
    "### Exercise: define a clock"
   ]
  },
  {
   "cell_type": "code",
   "execution_count": 51,
   "id": "61578ef7-b0c0-47cb-b62a-b612206efc97",
   "metadata": {},
   "outputs": [],
   "source": [
    "from time import sleep"
   ]
  },
  {
   "cell_type": "code",
   "execution_count": 55,
   "id": "9b773c80-8b77-437c-9c55-347014844cc3",
   "metadata": {},
   "outputs": [],
   "source": [
    "class Clock(object):\n",
    "    def __init__(self, hour=0, minute=0, second=0):\n",
    "        self._hour=hour\n",
    "        self._minute=minute\n",
    "        self._second=second\n",
    "\n",
    "    def run(self):\n",
    "        self._second += 1\n",
    "        if self._second == 60:\n",
    "            self._second = 0\n",
    "            self._minute += 1\n",
    "            if self._minute == 60:\n",
    "                self._minute = 0\n",
    "                self._hour += 1\n",
    "                if self._hour == 24:\n",
    "                    self._hour = 0\n",
    "    def show(self):\n",
    "        return \"%0.2d:%0.2d:%0.2d\"% \\\n",
    "                (self._hour, self._minute, self._second)"
   ]
  },
  {
   "cell_type": "code",
   "execution_count": 56,
   "id": "002dc7e1-f510-4fc5-9757-bb506195b4d9",
   "metadata": {},
   "outputs": [
    {
     "name": "stdout",
     "output_type": "stream",
     "text": [
      "23:59:58\n",
      "23:59:59\n",
      "00:00:00\n",
      "00:00:01\n",
      "00:00:02\n",
      "00:00:03\n",
      "00:00:04\n",
      "00:00:05\n",
      "00:00:06\n",
      "00:00:07\n",
      "00:00:08\n",
      "00:00:09\n",
      "00:00:10\n",
      "00:00:11\n"
     ]
    },
    {
     "ename": "KeyboardInterrupt",
     "evalue": "",
     "output_type": "error",
     "traceback": [
      "\u001b[0;31m---------------------------------------------------------------------------\u001b[0m",
      "\u001b[0;31mKeyboardInterrupt\u001b[0m                         Traceback (most recent call last)",
      "Cell \u001b[0;32mIn[56], line 4\u001b[0m\n\u001b[1;32m      2\u001b[0m \u001b[38;5;28;01mwhile\u001b[39;00m \u001b[38;5;28;01mTrue\u001b[39;00m:\n\u001b[1;32m      3\u001b[0m     \u001b[38;5;28mprint\u001b[39m(clock\u001b[38;5;241m.\u001b[39mshow())\n\u001b[0;32m----> 4\u001b[0m     \u001b[43msleep\u001b[49m\u001b[43m(\u001b[49m\u001b[38;5;241;43m1\u001b[39;49m\u001b[43m)\u001b[49m\n\u001b[1;32m      5\u001b[0m     clock\u001b[38;5;241m.\u001b[39mrun()\n",
      "\u001b[0;31mKeyboardInterrupt\u001b[0m: "
     ]
    }
   ],
   "source": [
    "clock = Clock(23,59, 58)\n",
    "while True:\n",
    "    print(clock.show())\n",
    "    sleep(1)\n",
    "    clock.run()"
   ]
  },
  {
   "cell_type": "markdown",
   "id": "34e8b88e-5586-45c4-8aa5-41afedf44ab6",
   "metadata": {
    "jp-MarkdownHeadingCollapsed": true
   },
   "source": [
    "# 09 Object +"
   ]
  },
  {
   "cell_type": "markdown",
   "id": "f8da92ea-62d8-4b77-a5d7-77ec0b192b8d",
   "metadata": {},
   "source": [
    "@property"
   ]
  },
  {
   "cell_type": "code",
   "execution_count": 57,
   "id": "66276881-a747-4e13-8437-1c04da552129",
   "metadata": {},
   "outputs": [
    {
     "name": "stdout",
     "output_type": "stream",
     "text": [
      "王大锤正在玩飞行棋.\n",
      "王大锤正在玩斗地主.\n"
     ]
    }
   ],
   "source": [
    "class Person(object):\n",
    "\n",
    "    def __init__(self, name, age):\n",
    "        self._name = name\n",
    "        self._age = age\n",
    "\n",
    "    # 访问器 - getter方法\n",
    "    @property\n",
    "    def name(self):\n",
    "        return self._name\n",
    "\n",
    "    # 访问器 - getter方法\n",
    "    @property\n",
    "    def age(self):\n",
    "        return self._age\n",
    "\n",
    "    # 修改器 - setter方法\n",
    "    @age.setter\n",
    "    def age(self, age):\n",
    "        self._age = age\n",
    "\n",
    "    def play(self):\n",
    "        if self._age <= 16:\n",
    "            print('%s正在玩飞行棋.' % self._name)\n",
    "        else:\n",
    "            print('%s正在玩斗地主.' % self._name)\n",
    "\n",
    "\n",
    "def main():\n",
    "    person = Person('王大锤', 12)\n",
    "    person.play()\n",
    "    person.age = 22\n",
    "    person.play()\n",
    "    # person.name = '白元芳'  # AttributeError: can't set attribute\n",
    "\n",
    "\n",
    "if __name__ == '__main__':\n",
    "    main()"
   ]
  },
  {
   "cell_type": "markdown",
   "id": "ab4460b3-7bd8-486c-bc69-b9006737b088",
   "metadata": {},
   "source": [
    "__slots__魔法"
   ]
  },
  {
   "cell_type": "code",
   "execution_count": 61,
   "id": "7f1ef625-c1de-4aae-bf4a-d47ec35aa6c4",
   "metadata": {},
   "outputs": [],
   "source": [
    "class Person(object):\n",
    "\n",
    "    # 限定Person对象只能绑定_name, _age和_gender属性\n",
    "    __slots__ = ('_name', '_age', '_gender')\n",
    "\n",
    "    def __init__(self, name, age):\n",
    "        self._name = name\n",
    "        self._age = age\n",
    "\n",
    "    @property\n",
    "    def name(self):\n",
    "        return self._name\n",
    "\n",
    "    @property\n",
    "    def age(self):\n",
    "        return self._age\n",
    "\n",
    "    @age.setter\n",
    "    def age(self, age):\n",
    "        self._age = age\n",
    "\n",
    "    def play(self):\n",
    "        if self._age <= 16:\n",
    "            print('%s正在玩飞行棋.' % self._name)\n",
    "        else:\n",
    "            print('%s正在玩斗地主.' % self._name)\n",
    "\n",
    "\n",
    "def main():\n",
    "    person = Person('王大锤', 22)\n",
    "    person.play()\n",
    "    person._gender = '男'\n",
    "    # AttributeError: 'Person' object has no attribute '_is_gay'\n",
    "    # person._is_gay = True"
   ]
  },
  {
   "cell_type": "markdown",
   "id": "84f40441-c89c-4ca1-a914-5c14d8d0ca0a",
   "metadata": {},
   "source": [
    "# 10. GUI"
   ]
  },
  {
   "cell_type": "markdown",
   "id": "96aa2c6d-f077-4fe1-980d-2f2721fbbd22",
   "metadata": {
    "jp-MarkdownHeadingCollapsed": true
   },
   "source": [
    "# 11. File and Exception"
   ]
  },
  {
   "cell_type": "code",
   "execution_count": 63,
   "id": "63f1b690-07a2-4252-8c87-bd2da3e1d8e5",
   "metadata": {},
   "outputs": [
    {
     "name": "stdout",
     "output_type": "stream",
     "text": [
      "No File\n"
     ]
    }
   ],
   "source": [
    "def main():\n",
    "    f = None\n",
    "    try:\n",
    "        f = open(\"xxx.txt\", \"r\", encoding=\"utf-8\")\n",
    "        print(f.read())\n",
    "    except FileNotFoundError:\n",
    "        print(\"No File\")\n",
    "    except LookupError:\n",
    "        print(\"Unknown coding\")\n",
    "    except UnicodeDecodeError:\n",
    "        print(\"decode error\")\n",
    "    finally:\n",
    "        if f:\n",
    "            f.close()\n",
    "\n",
    "main()"
   ]
  },
  {
   "cell_type": "code",
   "execution_count": 64,
   "id": "e3616396-ce0c-4518-8010-fc134215c2ca",
   "metadata": {},
   "outputs": [
    {
     "ename": "KeyError",
     "evalue": "'newslist'",
     "output_type": "error",
     "traceback": [
      "\u001b[0;31m---------------------------------------------------------------------------\u001b[0m",
      "\u001b[0;31mKeyError\u001b[0m                                  Traceback (most recent call last)",
      "Cell \u001b[0;32mIn[64], line 13\u001b[0m\n\u001b[1;32m      9\u001b[0m         \u001b[38;5;28mprint\u001b[39m(news[\u001b[38;5;124m'\u001b[39m\u001b[38;5;124mtitle\u001b[39m\u001b[38;5;124m'\u001b[39m])\n\u001b[1;32m     12\u001b[0m \u001b[38;5;28;01mif\u001b[39;00m \u001b[38;5;18m__name__\u001b[39m \u001b[38;5;241m==\u001b[39m \u001b[38;5;124m'\u001b[39m\u001b[38;5;124m__main__\u001b[39m\u001b[38;5;124m'\u001b[39m:\n\u001b[0;32m---> 13\u001b[0m     \u001b[43mmain\u001b[49m\u001b[43m(\u001b[49m\u001b[43m)\u001b[49m\n",
      "Cell \u001b[0;32mIn[64], line 8\u001b[0m, in \u001b[0;36mmain\u001b[0;34m()\u001b[0m\n\u001b[1;32m      6\u001b[0m resp \u001b[38;5;241m=\u001b[39m requests\u001b[38;5;241m.\u001b[39mget(\u001b[38;5;124m'\u001b[39m\u001b[38;5;124mhttp://api.tianapi.com/guonei/?key=APIKey&num=10\u001b[39m\u001b[38;5;124m'\u001b[39m)\n\u001b[1;32m      7\u001b[0m data_model \u001b[38;5;241m=\u001b[39m json\u001b[38;5;241m.\u001b[39mloads(resp\u001b[38;5;241m.\u001b[39mtext)\n\u001b[0;32m----> 8\u001b[0m \u001b[38;5;28;01mfor\u001b[39;00m news \u001b[38;5;129;01min\u001b[39;00m \u001b[43mdata_model\u001b[49m\u001b[43m[\u001b[49m\u001b[38;5;124;43m'\u001b[39;49m\u001b[38;5;124;43mnewslist\u001b[39;49m\u001b[38;5;124;43m'\u001b[39;49m\u001b[43m]\u001b[49m:\n\u001b[1;32m      9\u001b[0m     \u001b[38;5;28mprint\u001b[39m(news[\u001b[38;5;124m'\u001b[39m\u001b[38;5;124mtitle\u001b[39m\u001b[38;5;124m'\u001b[39m])\n",
      "\u001b[0;31mKeyError\u001b[0m: 'newslist'"
     ]
    }
   ],
   "source": [
    "import requests\n",
    "import json\n",
    "\n",
    "\n",
    "def main():\n",
    "    resp = requests.get('http://api.tianapi.com/guonei/?key=APIKey&num=10')\n",
    "    data_model = json.loads(resp.text)\n",
    "    for news in data_model['newslist']:\n",
    "        print(news['title'])\n",
    "\n",
    "\n",
    "if __name__ == '__main__':\n",
    "    main()"
   ]
  },
  {
   "cell_type": "markdown",
   "id": "c81eea23-b862-455a-ad83-8ecf7f0e29a8",
   "metadata": {
    "jp-MarkdownHeadingCollapsed": true
   },
   "source": [
    "# 12 Reg"
   ]
  },
  {
   "cell_type": "code",
   "execution_count": 66,
   "id": "76ca784e-b806-433b-aeec-480a5c3e6465",
   "metadata": {},
   "outputs": [
    {
     "name": "stdin",
     "output_type": "stream",
     "text": [
      "iput username: adfdlfjl233\n",
      "Input QQ: 123314566\n"
     ]
    },
    {
     "name": "stdout",
     "output_type": "stream",
     "text": [
      "pass\n"
     ]
    }
   ],
   "source": [
    "import re\n",
    "\n",
    "def main():\n",
    "    username = input(\"iput username:\")\n",
    "    qq = input(\"Input QQ:\")\n",
    "    m1 = re.match(r'^[0-9a-zA-Z]{6,20}$', username)\n",
    "    if not m1:\n",
    "        print(\"Not valid username\")\n",
    "    m2 = re.match(r'^[1-9]\\d{4,11}$', qq)\n",
    "    if not m2:\n",
    "        print(\"not valid QQ\")\n",
    "    if m1 and m2:\n",
    "        print(\"pass\")\n",
    "\n",
    "main()"
   ]
  },
  {
   "cell_type": "markdown",
   "id": "b1713b10-6e50-497a-913a-9b5b1089484a",
   "metadata": {},
   "source": [
    "# 13 Thread"
   ]
  },
  {
   "cell_type": "code",
   "execution_count": 67,
   "id": "55729aca-272c-48e6-ac41-5f1b74d5156e",
   "metadata": {},
   "outputs": [
    {
     "name": "stdout",
     "output_type": "stream",
     "text": [
      "开始下载Python从入门到住院.pdf...\n",
      "Python从入门到住院.pdf下载完成! 耗费了10秒\n",
      "开始下载Peking Hot.avi...\n",
      "Peking Hot.avi下载完成! 耗费了8秒\n",
      "总共耗费了18.02秒.\n"
     ]
    }
   ],
   "source": [
    "from random import randint\n",
    "from time import time, sleep\n",
    "\n",
    "\n",
    "def download_task(filename):\n",
    "    print('开始下载%s...' % filename)\n",
    "    time_to_download = randint(5, 10)\n",
    "    sleep(time_to_download)\n",
    "    print('%s下载完成! 耗费了%d秒' % (filename, time_to_download))\n",
    "\n",
    "\n",
    "def main():\n",
    "    start = time()\n",
    "    download_task('Python从入门到住院.pdf')\n",
    "    download_task('Peking Hot.avi')\n",
    "    end = time()\n",
    "    print('总共耗费了%.2f秒.' % (end - start))\n",
    "\n",
    "\n",
    "if __name__ == '__main__':\n",
    "    main()"
   ]
  },
  {
   "cell_type": "code",
   "execution_count": 68,
   "id": "0ac241c3-7c58-407a-9b2c-0fe532f678c6",
   "metadata": {},
   "outputs": [
    {
     "name": "stdout",
     "output_type": "stream",
     "text": [
      "启动下载进程，进程号[14520].启动下载进程，进程号[14521].\n",
      "\n",
      "开始下载Peking Hot.avi...\n",
      "开始下载Python从入门到住院.pdf...\n",
      "Python从入门到住院.pdf下载完成! 耗费了5秒\n",
      "Peking Hot.avi下载完成! 耗费了9秒\n",
      "总共耗费了9.05秒.\n"
     ]
    }
   ],
   "source": [
    "from multiprocessing import Process\n",
    "from os import getpid\n",
    "from random import randint\n",
    "from time import time, sleep\n",
    "\n",
    "\n",
    "def download_task(filename):\n",
    "    print('启动下载进程，进程号[%d].' % getpid())\n",
    "    print('开始下载%s...' % filename)\n",
    "    time_to_download = randint(5, 10)\n",
    "    sleep(time_to_download)\n",
    "    print('%s下载完成! 耗费了%d秒' % (filename, time_to_download))\n",
    "\n",
    "\n",
    "def main():\n",
    "    start = time()\n",
    "    p1 = Process(target=download_task, args=('Python从入门到住院.pdf', ))\n",
    "    p1.start()\n",
    "    p2 = Process(target=download_task, args=('Peking Hot.avi', ))\n",
    "    p2.start()\n",
    "    p1.join()\n",
    "    p2.join()\n",
    "    end = time()\n",
    "    print('总共耗费了%.2f秒.' % (end - start))\n",
    "\n",
    "\n",
    "if __name__ == '__main__':\n",
    "    main()"
   ]
  },
  {
   "cell_type": "code",
   "execution_count": 69,
   "id": "836b9f92-fdda-4bd8-bcba-aad4262a265c",
   "metadata": {},
   "outputs": [
    {
     "name": "stdout",
     "output_type": "stream",
     "text": [
      "开始下载Python从入门到住院.pdf...\n",
      "开始下载Peking Hot.avi...\n",
      "Peking Hot.avi下载完成! 耗费了7秒\n",
      "Python从入门到住院.pdf下载完成! 耗费了10秒\n",
      "总共耗费了10.010秒\n"
     ]
    }
   ],
   "source": [
    "from random import randint\n",
    "from threading import Thread\n",
    "from time import time, sleep\n",
    "\n",
    "\n",
    "def download(filename):\n",
    "    print('开始下载%s...' % filename)\n",
    "    time_to_download = randint(5, 10)\n",
    "    sleep(time_to_download)\n",
    "    print('%s下载完成! 耗费了%d秒' % (filename, time_to_download))\n",
    "\n",
    "\n",
    "def main():\n",
    "    start = time()\n",
    "    t1 = Thread(target=download, args=('Python从入门到住院.pdf',))\n",
    "    t1.start()\n",
    "    t2 = Thread(target=download, args=('Peking Hot.avi',))\n",
    "    t2.start()\n",
    "    t1.join()\n",
    "    t2.join()\n",
    "    end = time()\n",
    "    print('总共耗费了%.3f秒' % (end - start))\n",
    "\n",
    "\n",
    "if __name__ == '__main__':\n",
    "    main()"
   ]
  },
  {
   "cell_type": "markdown",
   "id": "e6954e05-e1c7-4f06-aa0b-e28395eb106f",
   "metadata": {},
   "source": [
    "# 14. Network"
   ]
  },
  {
   "cell_type": "code",
   "execution_count": 75,
   "id": "41f6c550-7bc1-4a4c-94e7-bc97afa46199",
   "metadata": {},
   "outputs": [
    {
     "name": "stdout",
     "output_type": "stream",
     "text": [
      "{'code': 230, 'msg': 'key错误或为空'}\n"
     ]
    },
    {
     "ename": "KeyError",
     "evalue": "'newslist'",
     "output_type": "error",
     "traceback": [
      "\u001b[0;31m---------------------------------------------------------------------------\u001b[0m",
      "\u001b[0;31mKeyError\u001b[0m                                  Traceback (most recent call last)",
      "Cell \u001b[0;32mIn[75], line 25\u001b[0m\n\u001b[1;32m     22\u001b[0m         url \u001b[38;5;241m=\u001b[39m mm_dict[\u001b[38;5;124m\"\u001b[39m\u001b[38;5;124mpicUrl\u001b[39m\u001b[38;5;124m\"\u001b[39m]\n\u001b[1;32m     23\u001b[0m         DownloadHandler(url)\u001b[38;5;241m.\u001b[39mstart()\n\u001b[0;32m---> 25\u001b[0m \u001b[43mmain\u001b[49m\u001b[43m(\u001b[49m\u001b[43m)\u001b[49m\n",
      "Cell \u001b[0;32mIn[75], line 21\u001b[0m, in \u001b[0;36mmain\u001b[0;34m()\u001b[0m\n\u001b[1;32m     19\u001b[0m data_model \u001b[38;5;241m=\u001b[39m resp\u001b[38;5;241m.\u001b[39mjson()\n\u001b[1;32m     20\u001b[0m \u001b[38;5;28mprint\u001b[39m(data_model)\n\u001b[0;32m---> 21\u001b[0m \u001b[38;5;28;01mfor\u001b[39;00m mm_dict \u001b[38;5;129;01min\u001b[39;00m \u001b[43mdata_model\u001b[49m\u001b[43m[\u001b[49m\u001b[38;5;124;43m\"\u001b[39;49m\u001b[38;5;124;43mnewslist\u001b[39;49m\u001b[38;5;124;43m\"\u001b[39;49m\u001b[43m]\u001b[49m:\n\u001b[1;32m     22\u001b[0m     url \u001b[38;5;241m=\u001b[39m mm_dict[\u001b[38;5;124m\"\u001b[39m\u001b[38;5;124mpicUrl\u001b[39m\u001b[38;5;124m\"\u001b[39m]\n\u001b[1;32m     23\u001b[0m     DownloadHandler(url)\u001b[38;5;241m.\u001b[39mstart()\n",
      "\u001b[0;31mKeyError\u001b[0m: 'newslist'"
     ]
    }
   ],
   "source": [
    "from time import time\n",
    "from threading import Thread\n",
    "\n",
    "import requests\n",
    "\n",
    "class DownloadHandler(Thread):\n",
    "    def __init__(self, url):\n",
    "        super().__init__()\n",
    "        self.url = url\n",
    "\n",
    "    def run(self):\n",
    "        filename = self.url[self.url.rfind(\"/\") + 1 :]\n",
    "        resp = requests.get(self.url)\n",
    "        with open(\"/home/test\" + filename, \"wb\") as f:\n",
    "            f.write(resp.content)\n",
    "\n",
    "def main():\n",
    "    resp = requests.get(\"https://apis.tianapi.com/woman/index?key=你的APIKEY&num=10\")\n",
    "    data_model = resp.json()\n",
    "    print(data_model)\n",
    "    for mm_dict in data_model[\"newslist\"]:\n",
    "        url = mm_dict[\"picUrl\"]\n",
    "        DownloadHandler(url).start()\n",
    "\n",
    "main()"
   ]
  },
  {
   "cell_type": "code",
   "execution_count": null,
   "id": "bb3832a6-92c2-4cdd-8534-6dcfda773cce",
   "metadata": {},
   "outputs": [],
   "source": []
  }
 ],
 "metadata": {
  "kernelspec": {
   "display_name": "Python 3 (ipykernel)",
   "language": "python",
   "name": "python3"
  },
  "language_info": {
   "codemirror_mode": {
    "name": "ipython",
    "version": 3
   },
   "file_extension": ".py",
   "mimetype": "text/x-python",
   "name": "python",
   "nbconvert_exporter": "python",
   "pygments_lexer": "ipython3",
   "version": "3.10.6"
  }
 },
 "nbformat": 4,
 "nbformat_minor": 5
}
