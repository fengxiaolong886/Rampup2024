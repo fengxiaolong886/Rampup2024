{
 "cells": [
  {
   "cell_type": "markdown",
   "id": "4df31b9d-f6ea-4093-af02-e348a355a21b",
   "metadata": {},
   "source": [
    "### This notebook follows the course: https://github.com/jackfrued/Python-100-Days/blob/master/Day01-15/06.%E5%87%BD%E6%95%B0%E5%92%8C%E6%A8%A1%E5%9D%97%E7%9A%84%E4%BD%BF%E7%94%A8.md"
   ]
  },
  {
   "cell_type": "markdown",
   "id": "2ed21794-7b71-4832-8207-7738f05d6d96",
   "metadata": {},
   "source": [
    "# 01 What is Python"
   ]
  },
  {
   "cell_type": "code",
   "execution_count": 1,
   "id": "239650ed-d0ee-43d3-af43-937f638fe8ee",
   "metadata": {},
   "outputs": [
    {
     "name": "stdout",
     "output_type": "stream",
     "text": [
      "The Zen of Python, by Tim Peters\n",
      "\n",
      "Beautiful is better than ugly.\n",
      "Explicit is better than implicit.\n",
      "Simple is better than complex.\n",
      "Complex is better than complicated.\n",
      "Flat is better than nested.\n",
      "Sparse is better than dense.\n",
      "Readability counts.\n",
      "Special cases aren't special enough to break the rules.\n",
      "Although practicality beats purity.\n",
      "Errors should never pass silently.\n",
      "Unless explicitly silenced.\n",
      "In the face of ambiguity, refuse the temptation to guess.\n",
      "There should be one-- and preferably only one --obvious way to do it.\n",
      "Although that way may not be obvious at first unless you're Dutch.\n",
      "Now is better than never.\n",
      "Although never is often better than *right* now.\n",
      "If the implementation is hard to explain, it's a bad idea.\n",
      "If the implementation is easy to explain, it may be a good idea.\n",
      "Namespaces are one honking great idea -- let's do more of those!\n"
     ]
    }
   ],
   "source": [
    "import this"
   ]
  },
  {
   "cell_type": "code",
   "execution_count": 2,
   "id": "a02837e9-c183-41ed-a122-d120ee70fc57",
   "metadata": {},
   "outputs": [],
   "source": [
    "import turtle"
   ]
  },
  {
   "cell_type": "code",
   "execution_count": 5,
   "id": "f36e338a-62e6-453f-a522-f1712891f612",
   "metadata": {},
   "outputs": [],
   "source": [
    "turtle.pensize(4)\n",
    "turtle.pencolor(\"red\")\n",
    "turtle.forward(100)\n",
    "turtle.right(90)\n",
    "turtle.forward(100)\n",
    "turtle.right(90)\n",
    "turtle.forward(100)\n",
    "turtle.right(90)\n",
    "turtle.forward(100)\n",
    "\n",
    "turtle.mainloop()"
   ]
  },
  {
   "cell_type": "markdown",
   "id": "0874ccec-0e84-4d7c-89b8-3f97e0c0125c",
   "metadata": {},
   "source": [
    "# 02 Basic Calculation"
   ]
  },
  {
   "cell_type": "code",
   "execution_count": 6,
   "id": "b22362a6-aac3-4b57-880b-b2967eb538e5",
   "metadata": {},
   "outputs": [
    {
     "name": "stdout",
     "output_type": "stream",
     "text": [
      "25\n"
     ]
    }
   ],
   "source": [
    "a = 10\n",
    "b = 15\n",
    "print(a + b)"
   ]
  },
  {
   "cell_type": "code",
   "execution_count": 8,
   "id": "b401e12c-e83d-4b42-917e-b4698ce7ccf0",
   "metadata": {},
   "outputs": [
    {
     "name": "stdin",
     "output_type": "stream",
     "text": [
      "a =  5\n",
      "b =  6\n"
     ]
    },
    {
     "name": "stdout",
     "output_type": "stream",
     "text": [
      "5 + 6 = 11\n",
      "5 + 6 = -1\n",
      "5 + 6 = 30\n",
      "5 + 6 = 0\n",
      "5 + 6 = 0\n",
      "5 + 6 = 5\n",
      "5 + 6 = 15625\n"
     ]
    }
   ],
   "source": [
    "a = int(input(\"a = \"))\n",
    "b = int(input(\"b = \"))\n",
    "\n",
    "print(\"%d + %d = %d\"%(a, b, a + b))\n",
    "print(\"%d + %d = %d\"%(a, b, a - b))\n",
    "print(\"%d + %d = %d\"%(a, b, a * b))\n",
    "print(\"%d + %d = %d\"%(a, b, a / b))\n",
    "print(\"%d + %d = %d\"%(a, b, a // b))\n",
    "print(\"%d + %d = %d\"%(a, b, a % b))\n",
    "print(\"%d + %d = %d\"%(a, b, a ** b))"
   ]
  },
  {
   "cell_type": "code",
   "execution_count": 11,
   "id": "5d2efe12-9ee0-4b15-aa6e-f9bc9c7e0d41",
   "metadata": {},
   "outputs": [
    {
     "name": "stdout",
     "output_type": "stream",
     "text": [
      "0\n",
      "10\n",
      "False\n"
     ]
    }
   ],
   "source": [
    "a = 10\n",
    "b = 0\n",
    "print(a and b)\n",
    "print(a or b)\n",
    "print(not(a or b))"
   ]
  },
  {
   "cell_type": "code",
   "execution_count": 13,
   "id": "0a548afc-ca61-4166-8f97-6f4c1f12b19e",
   "metadata": {},
   "outputs": [
    {
     "name": "stdin",
     "output_type": "stream",
     "text": [
      "please Warsons: 120\n"
     ]
    },
    {
     "name": "stdout",
     "output_type": "stream",
     "text": [
      "120.0 Warsons = 48.9 Cers\n"
     ]
    }
   ],
   "source": [
    "f = float(input(\"please Warsons:\"))\n",
    "c = (f - 32) / 1.8\n",
    "print(\"%0.1f Warsons = %0.1f Cers\" % (f, c))"
   ]
  },
  {
   "cell_type": "code",
   "execution_count": 14,
   "id": "bd37281d-c262-4d29-96c1-e56b49f8778e",
   "metadata": {},
   "outputs": [
    {
     "name": "stdin",
     "output_type": "stream",
     "text": [
      "Please input radious of the cycle: 5\n"
     ]
    },
    {
     "name": "stdout",
     "output_type": "stream",
     "text": [
      "Perimeter is 31.42\n",
      "Area is 78.54\n"
     ]
    }
   ],
   "source": [
    "radius = float(input(\"Please input radious of the cycle:\"))\n",
    "perimeter = 2 * 3.141592653 * radius\n",
    "area = 3.1415 * radius * radius\n",
    "\n",
    "print(\"Perimeter is %.2f\"% perimeter)\n",
    "print(\"Area is %.2f\"%area)"
   ]
  },
  {
   "cell_type": "code",
   "execution_count": 17,
   "id": "d301f71d-7f05-4b6e-a7b1-1648008fa568",
   "metadata": {},
   "outputs": [
    {
     "name": "stdin",
     "output_type": "stream",
     "text": [
      "Plese input year: 2025\n"
     ]
    },
    {
     "name": "stdout",
     "output_type": "stream",
     "text": [
      "False\n"
     ]
    }
   ],
   "source": [
    "year = int(input(\"Plese input year:\"))\n",
    "is_leap = year % 4 == 0 and year % 100 !=0 or year % 400 ==0\n",
    "print(is_leap)"
   ]
  },
  {
   "cell_type": "markdown",
   "id": "a7e9d58f-45e4-4d5b-8d10-22678b190b64",
   "metadata": {},
   "source": [
    "# 03 Branch structure"
   ]
  },
  {
   "cell_type": "code",
   "execution_count": 24,
   "id": "db5292ab-889b-4fae-941a-1c57a43f6ce4",
   "metadata": {},
   "outputs": [
    {
     "name": "stdin",
     "output_type": "stream",
     "text": [
      "please input username: adminr\n",
      "Please input password: 12345\n"
     ]
    },
    {
     "name": "stdout",
     "output_type": "stream",
     "text": [
      "Fail!\n"
     ]
    }
   ],
   "source": [
    "username = input(\"please input username:\")\n",
    "password = input(\"Please input password:\")\n",
    "\n",
    "if username == \"admin\" and password == \"123456\":\n",
    "    print(\"Success!\")\n",
    "else:\n",
    "    print(\"Fail!\")"
   ]
  },
  {
   "cell_type": "code",
   "execution_count": 27,
   "id": "03a1acde-d3af-4ab9-b0dd-94e3c0cfd938",
   "metadata": {},
   "outputs": [
    {
     "name": "stdin",
     "output_type": "stream",
     "text": [
      "please input length: 3345\n",
      "in or cm in\n"
     ]
    },
    {
     "name": "stdout",
     "output_type": "stream",
     "text": [
      "3345.000000 Inch = 8496.300000 cm\n"
     ]
    }
   ],
   "source": [
    "value = float(input(\"please input length:\"))\n",
    "unit = input (\"in or cm\")\n",
    "\n",
    "if unit == \"in\":\n",
    "    print(\"%f Inch = %f cm\"%(value, value * 2.54))\n",
    "elif unit == \"cm\":\n",
    "    print(\"%f cm = %f inch\"%(value, value / 2.54))\n",
    "else: \n",
    "    print(\"not in or cm for your input!\")\n"
   ]
  },
  {
   "cell_type": "markdown",
   "id": "cdc2a2eb-4a91-4968-8ea5-b89ff7374376",
   "metadata": {},
   "source": [
    "# 04 For-loop, While"
   ]
  },
  {
   "cell_type": "code",
   "execution_count": 28,
   "id": "854d4369-3373-4697-9ee1-7c39cd864bc4",
   "metadata": {},
   "outputs": [
    {
     "name": "stdout",
     "output_type": "stream",
     "text": [
      "2450\n"
     ]
    }
   ],
   "source": [
    "sum = 0\n",
    "for x in range(2, 100, 2):\n",
    "    sum += x\n",
    "print(sum)"
   ]
  },
  {
   "cell_type": "code",
   "execution_count": 29,
   "id": "67c4cc49-ca3e-4a22-ac98-0d9fff43d68e",
   "metadata": {},
   "outputs": [
    {
     "name": "stdout",
     "output_type": "stream",
     "text": [
      "2450\n"
     ]
    }
   ],
   "source": [
    "sum = 0\n",
    "for x in range(1, 100):\n",
    "    if x % 2 == 0:\n",
    "        sum +=  x\n",
    "print(sum)"
   ]
  },
  {
   "cell_type": "code",
   "execution_count": 30,
   "id": "ee2e8f33-e31e-4fc2-8a06-f27b684d7e72",
   "metadata": {},
   "outputs": [
    {
     "name": "stdin",
     "output_type": "stream",
     "text": [
      "Guess:  50\n"
     ]
    },
    {
     "name": "stdout",
     "output_type": "stream",
     "text": [
      "Input should be larger!\n"
     ]
    },
    {
     "name": "stdin",
     "output_type": "stream",
     "text": [
      "Guess:  70\n"
     ]
    },
    {
     "name": "stdout",
     "output_type": "stream",
     "text": [
      "Input should be larger!\n"
     ]
    },
    {
     "name": "stdin",
     "output_type": "stream",
     "text": [
      "Guess:  90\n"
     ]
    },
    {
     "name": "stdout",
     "output_type": "stream",
     "text": [
      "Input should be smaller!\n"
     ]
    },
    {
     "name": "stdin",
     "output_type": "stream",
     "text": [
      "Guess:  80\n"
     ]
    },
    {
     "name": "stdout",
     "output_type": "stream",
     "text": [
      "Input should be smaller!\n"
     ]
    },
    {
     "name": "stdin",
     "output_type": "stream",
     "text": [
      "Guess:  75\n"
     ]
    },
    {
     "name": "stdout",
     "output_type": "stream",
     "text": [
      "Input should be larger!\n"
     ]
    },
    {
     "name": "stdin",
     "output_type": "stream",
     "text": [
      "Guess:  77\n"
     ]
    },
    {
     "name": "stdout",
     "output_type": "stream",
     "text": [
      "Input should be smaller!\n"
     ]
    },
    {
     "name": "stdin",
     "output_type": "stream",
     "text": [
      "Guess:  76\n"
     ]
    },
    {
     "name": "stdout",
     "output_type": "stream",
     "text": [
      "Correct\n",
      "You guess 7 times\n"
     ]
    }
   ],
   "source": [
    "import random\n",
    "\n",
    "answer = random.randint(1, 100)\n",
    "counter = 0\n",
    "while True:\n",
    "    counter += 1\n",
    "    number = int(input(\"Guess: \"))\n",
    "    if number < answer:\n",
    "        print(\"Input should be larger!\")\n",
    "    elif number > answer:\n",
    "        print(\"Input should be smaller!\")\n",
    "    else:\n",
    "        print(\"Correct\")\n",
    "        break\n",
    "print(\"You guess %d times\" % counter)\n",
    "if counter > 7:\n",
    "    print(\"Foolish boy!!\")"
   ]
  },
  {
   "cell_type": "code",
   "execution_count": 33,
   "id": "c5e5d9e3-6a91-4726-a31b-3d60f11dc848",
   "metadata": {},
   "outputs": [
    {
     "name": "stdout",
     "output_type": "stream",
     "text": [
      "1 * 1 = 1\t \n",
      "2 * 1 = 2\t 2 * 2 = 4\t \n",
      "3 * 1 = 3\t 3 * 2 = 6\t 3 * 3 = 9\t \n",
      "4 * 1 = 4\t 4 * 2 = 8\t 4 * 3 = 12\t 4 * 4 = 16\t \n",
      "5 * 1 = 5\t 5 * 2 = 10\t 5 * 3 = 15\t 5 * 4 = 20\t 5 * 5 = 25\t \n",
      "6 * 1 = 6\t 6 * 2 = 12\t 6 * 3 = 18\t 6 * 4 = 24\t 6 * 5 = 30\t 6 * 6 = 36\t \n",
      "7 * 1 = 7\t 7 * 2 = 14\t 7 * 3 = 21\t 7 * 4 = 28\t 7 * 5 = 35\t 7 * 6 = 42\t 7 * 7 = 49\t \n",
      "8 * 1 = 8\t 8 * 2 = 16\t 8 * 3 = 24\t 8 * 4 = 32\t 8 * 5 = 40\t 8 * 6 = 48\t 8 * 7 = 56\t 8 * 8 = 64\t \n",
      "9 * 1 = 9\t 9 * 2 = 18\t 9 * 3 = 27\t 9 * 4 = 36\t 9 * 5 = 45\t 9 * 6 = 54\t 9 * 7 = 63\t 9 * 8 = 72\t 9 * 9 = 81\t \n"
     ]
    }
   ],
   "source": [
    "for i in range(1, 10):\n",
    "    for j in range(1, i + 1):\n",
    "        print (\"%d * %d = %d\"%(i, j, i * j), end= \"\\t \")\n",
    "    print()"
   ]
  },
  {
   "cell_type": "markdown",
   "id": "4c706268-77ca-4468-85a5-6df7218bb998",
   "metadata": {},
   "source": [
    "# 05 Program Stucture"
   ]
  },
  {
   "cell_type": "code",
   "execution_count": 34,
   "id": "0e60a7a1-308d-4deb-a2bb-2fd90fb9e547",
   "metadata": {},
   "outputs": [
    {
     "name": "stdout",
     "output_type": "stream",
     "text": [
      "153\n",
      "370\n",
      "371\n",
      "407\n"
     ]
    }
   ],
   "source": [
    "for num in range(100, 1000):\n",
    "    low = num %10\n",
    "    mid = num // 10 % 10\n",
    "    high = num // 100\n",
    "    if num == low ** 3 + mid ** 3 + high ** 3:\n",
    "        print(num)"
   ]
  },
  {
   "cell_type": "markdown",
   "id": "c942aaeb-354d-42fb-8b86-3c361f3f112d",
   "metadata": {},
   "source": [
    "# 06 Function"
   ]
  },
  {
   "attachments": {
    "600dbf06-2cc5-4083-9b0a-865acabfe957.png": {
     "image/png": "[encoded data removed]"
    },
    "72d18028-2cd3-4361-b72c-94f8d743d5f6.png": {
     "image/png": "[encoded data removed]"
    },
    "bb1919be-9a01-4b16-b0eb-2281ce72ca6a.png": {
     "image/png": "[encoded data removed]"
    },
    "d5aad3a7-512c-43d4-be35-7388fc569475.png": {
     "image/png": "[encoded data removed]"
    }
   },
   "cell_type": "markdown",
   "id": "5eba9aa0-a963-4960-a38c-ef1283b9048f",
   "metadata": {},
   "source": [
    "排列的定义：从n个不同元素中，任取m（m≤n,m与n均为自然数,下同）个不同的元素按照一定的顺序排成一列，叫做从n个不同元素中取出m个元素的一个排列；从n个不同元素中取出m（m≤n）个元素的所有排列的个数，叫做从n个不同元素中取出m个元素的排列数，用符号 或表示。\n",
    "![image.png](attachment:bb1919be-9a01-4b16-b0eb-2281ce72ca6a.png)![image.png](attachment:d5aad3a7-512c-43d4-be35-7388fc569475.png)\n",
    "\n",
    "组合的定义：从n个不同元素中，任取m（m≤n）个元素并成一组，叫做从n个不同元素中取出m个元素的一个组合；从n个不同元素中取出m（m≤n）个元素的所有组合的个数，叫做从n个不同元素中取出m个元素的组合数。用符号 C(n,m) 表示。计算公式：\n",
    "\n",
    "![image.png](attachment:72d18028-2cd3-4361-b72c-94f8d743d5f6.png)\n",
    "\n",
    "![image.png](attachment:600dbf06-2cc5-4083-9b0a-865acabfe957.png)"
   ]
  },
  {
   "cell_type": "code",
   "execution_count": 36,
   "id": "6d736bb8-795e-4917-942b-8fd3c6e03e11",
   "metadata": {},
   "outputs": [
    {
     "name": "stdin",
     "output_type": "stream",
     "text": [
      "m =  10\n",
      "n =  9\n"
     ]
    },
    {
     "name": "stdout",
     "output_type": "stream",
     "text": [
      "10\n"
     ]
    }
   ],
   "source": [
    "m = int(input(\"m = \"))\n",
    "n = int(input(\"n = \"))\n",
    "fm = 1\n",
    "for num in range(1, m + 1):\n",
    "    fm *= num\n",
    "\n",
    "fn = 1\n",
    "for num in range(1, n + 1):\n",
    "    fn *= num\n",
    "\n",
    "fm_n = 1\n",
    "for num in range(1, m - n + 1):\n",
    "    fm_n *= num\n",
    "\n",
    "print(fm // fn // fm_n)"
   ]
  },
  {
   "cell_type": "markdown",
   "id": "aeeeb5d0-46d3-4dac-bd0f-4b3016683dca",
   "metadata": {},
   "source": [
    "### Change to function method"
   ]
  },
  {
   "cell_type": "code",
   "execution_count": 38,
   "id": "5edd3d0e-d555-4612-ad52-f9e96869d89e",
   "metadata": {},
   "outputs": [
    {
     "name": "stdin",
     "output_type": "stream",
     "text": [
      "m =  10\n",
      "n =  9\n"
     ]
    },
    {
     "name": "stdout",
     "output_type": "stream",
     "text": [
      "10\n"
     ]
    }
   ],
   "source": [
    "def fac(num):\n",
    "    result = 1\n",
    "    for n in range(1, num + 1):\n",
    "        result *= n\n",
    "    return result\n",
    "\n",
    "m = int(input(\"m = \"))\n",
    "n = int(input(\"n = \"))\n",
    "\n",
    "print(fac(m) // fac(n) // fac(m-n))"
   ]
  },
  {
   "cell_type": "markdown",
   "id": "ee465eb6-be12-4b0c-8f16-0edd3934943b",
   "metadata": {},
   "source": [
    "## Another example for function"
   ]
  },
  {
   "cell_type": "code",
   "execution_count": 39,
   "id": "02a77693-072b-44eb-8e99-ce602e7abec5",
   "metadata": {},
   "outputs": [
    {
     "name": "stdout",
     "output_type": "stream",
     "text": [
      "9\n",
      "7\n",
      "1\n",
      "3\n",
      "6\n",
      "350\n"
     ]
    }
   ],
   "source": [
    "from random import randint\n",
    "\n",
    "def roll_dice(n = 2):\n",
    "    total = 0\n",
    "    for _ in range(n):\n",
    "        total += randint(1, 6)\n",
    "    return total\n",
    "\n",
    "def add(a=0, b=0, c=0):\n",
    "    return a + b + c\n",
    "\n",
    "print(roll_dice())\n",
    "print(roll_dice(3))\n",
    "print(add(1))\n",
    "print(add(1, 2))\n",
    "print(add(1, 2, 3))\n",
    "print(add(c=50, a=100, b=200))"
   ]
  },
  {
   "cell_type": "markdown",
   "id": "6ee8432b-d663-4d62-b524-7b5a8b97872d",
   "metadata": {},
   "source": [
    "### Variable fucntion input"
   ]
  },
  {
   "cell_type": "code",
   "execution_count": 40,
   "id": "48f488d1-d3a3-4018-b2c7-97a91af2b777",
   "metadata": {},
   "outputs": [
    {
     "name": "stdout",
     "output_type": "stream",
     "text": [
      "0\n",
      "1\n",
      "3\n",
      "6\n",
      "25\n"
     ]
    }
   ],
   "source": [
    "def add(*args):\n",
    "    total = 0\n",
    "    for val in args:\n",
    "        total += val\n",
    "    return total\n",
    "\n",
    "print(add())\n",
    "print(add(1))\n",
    "print(add(1, 2))\n",
    "print(add(1, 2, 3))\n",
    "print(add(1, 3, 5, 7, 9))"
   ]
  }
 ],
 "metadata": {
  "kernelspec": {
   "display_name": "Python 3 (ipykernel)",
   "language": "python",
   "name": "python3"
  },
  "language_info": {
   "codemirror_mode": {
    "name": "ipython",
    "version": 3
   },
   "file_extension": ".py",
   "mimetype": "text/x-python",
   "name": "python",
   "nbconvert_exporter": "python",
   "pygments_lexer": "ipython3",
   "version": "3.10.6"
  }
 },
 "nbformat": 4,
 "nbformat_minor": 5
}
