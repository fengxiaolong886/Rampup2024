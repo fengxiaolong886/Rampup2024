{
 "cells": [
  {
   "cell_type": "markdown",
   "id": "6da0337b-cd52-4a8b-a860-11b1f58c9f5b",
   "metadata": {},
   "source": [
    "Follow https://github.com/jackfrued/Python-100-Days/tree/master/Day66-80"
   ]
  },
  {
   "cell_type": "markdown",
   "id": "c16eed67-65ce-4dc4-9cd8-7f0b1158a808",
   "metadata": {},
   "source": [
    "# 68"
   ]
  },
  {
   "cell_type": "code",
   "execution_count": 1,
   "id": "d42afe26-4930-4c1c-b4d3-f6fe18f06feb",
   "metadata": {},
   "outputs": [],
   "source": [
    "import numpy as np\n",
    "import pandas as pd\n",
    "import matplotlib.pyplot as plt"
   ]
  },
  {
   "cell_type": "code",
   "execution_count": 2,
   "id": "cdf61d1b-fbbe-4c4a-ac7c-e808fbf7ce1f",
   "metadata": {},
   "outputs": [
    {
     "data": {
      "text/plain": [
       "array([1, 2, 3, 4, 5])"
      ]
     },
     "execution_count": 2,
     "metadata": {},
     "output_type": "execute_result"
    }
   ],
   "source": [
    "array1 = np.array([1, 2, 3, 4, 5])\n",
    "array1"
   ]
  },
  {
   "cell_type": "code",
   "execution_count": 3,
   "id": "94b96adb-8552-4663-bb10-bba21f49d38e",
   "metadata": {},
   "outputs": [
    {
     "name": "stdout",
     "output_type": "stream",
     "text": [
      "[[1 2 3]\n",
      " [4 5 6]]\n"
     ]
    }
   ],
   "source": [
    "array2 = np.array([[1,2,3], [4,5,6]])\n",
    "print(array2)"
   ]
  },
  {
   "cell_type": "code",
   "execution_count": 4,
   "id": "5ae5a6ce-4998-4cab-b2b1-d920e2eb06d4",
   "metadata": {},
   "outputs": [
    {
     "name": "stdout",
     "output_type": "stream",
     "text": [
      "[ 0  2  4  6  8 10 12 14 16 18]\n"
     ]
    }
   ],
   "source": [
    "array3 = np.arange(0, 20, 2)\n",
    "print(array3)"
   ]
  },
  {
   "cell_type": "code",
   "execution_count": 5,
   "id": "b3c2c533-2ceb-4b72-b999-238e8ea13965",
   "metadata": {},
   "outputs": [
    {
     "name": "stdout",
     "output_type": "stream",
     "text": [
      "[-1.  -0.8 -0.6 -0.4 -0.2  0.   0.2  0.4  0.6  0.8  1. ]\n",
      "11\n"
     ]
    }
   ],
   "source": [
    "array4 = np.linspace(-1.0, 1.0, 11)\n",
    "print(array4)\n",
    "print(len(array4))"
   ]
  },
  {
   "cell_type": "code",
   "execution_count": 6,
   "id": "67160802-8402-4059-a2d9-76be8515278a",
   "metadata": {},
   "outputs": [
    {
     "name": "stdout",
     "output_type": "stream",
     "text": [
      "[   2.    4.    8.   16.   32.   64.  128.  256.  512. 1024.]\n"
     ]
    }
   ],
   "source": [
    "array5 = np.logspace(1, 10, num=10, base = 2)\n",
    "print(array5)"
   ]
  },
  {
   "cell_type": "code",
   "execution_count": 7,
   "id": "60df571e-e787-483c-a3cf-9e8c0f41959e",
   "metadata": {},
   "outputs": [
    {
     "data": {
      "text/plain": [
       "array([1, 2, 3, 4, 5, 6])"
      ]
     },
     "execution_count": 7,
     "metadata": {},
     "output_type": "execute_result"
    }
   ],
   "source": [
    "array6 = np.fromstring(\"1,2,3,4,5,6\", sep=\",\", dtype = \"i8\")\n",
    "array6"
   ]
  },
  {
   "cell_type": "code",
   "execution_count": 8,
   "id": "4111af9b-8c4a-4072-a288-9855aeba027c",
   "metadata": {},
   "outputs": [
    {
     "data": {
      "text/plain": [
       "array([   1,    1,    2,    3,    5,    8,   13,   21,   34,   55,   89,\n",
       "        144,  233,  377,  610,  987, 1597, 2584, 4181, 6765])"
      ]
     },
     "execution_count": 8,
     "metadata": {},
     "output_type": "execute_result"
    }
   ],
   "source": [
    "def fib(how_many):\n",
    "    a, b = 0, 1\n",
    "    for _ in range(how_many):\n",
    "        a, b = b, a + b\n",
    "        yield a\n",
    "\n",
    "gen = fib(20)\n",
    "array7 = np.fromiter(gen, dtype = \"i8\")\n",
    "array7"
   ]
  },
  {
   "cell_type": "code",
   "execution_count": 9,
   "id": "a767c598-f5e0-4711-abb2-35a0507aaf26",
   "metadata": {},
   "outputs": [
    {
     "data": {
      "text/plain": [
       "array([0.88415893, 0.62458335, 0.70677037, 0.52107227, 0.65033146,\n",
       "       0.25818028, 0.92962761, 0.38824617, 0.99116701, 0.60088611])"
      ]
     },
     "execution_count": 9,
     "metadata": {},
     "output_type": "execute_result"
    }
   ],
   "source": [
    "array8 = np.random.rand(10)\n",
    "array8"
   ]
  },
  {
   "cell_type": "code",
   "execution_count": 10,
   "id": "74b8585e-25bf-4a2c-b06e-86655213162a",
   "metadata": {},
   "outputs": [
    {
     "data": {
      "text/plain": [
       "array([55, 33, 85, 75, 88, 89, 13, 43, 67, 16])"
      ]
     },
     "execution_count": 10,
     "metadata": {},
     "output_type": "execute_result"
    }
   ],
   "source": [
    "array9 = np.random.randint(1, 100, 10)\n",
    "array9"
   ]
  },
  {
   "cell_type": "code",
   "execution_count": 11,
   "id": "2f0e959c-5766-4708-8afb-8f0029ccf6f5",
   "metadata": {},
   "outputs": [
    {
     "data": {
      "text/plain": [
       "array([56.13318744, 48.60234707, 49.27597648, 52.62448745, 59.57015314,\n",
       "       62.35647559, 40.42068837, 45.64104675, 47.17293572, 57.70730025,\n",
       "       53.48179617, 61.11174494, 44.23786564, 52.43030685, 52.31478813,\n",
       "       39.22899163, 44.71717045, 49.54720324, 56.54515053, 55.87906562])"
      ]
     },
     "execution_count": 11,
     "metadata": {},
     "output_type": "execute_result"
    }
   ],
   "source": [
    "array10 = np.random.normal(50, 10, 20)\n",
    "array10"
   ]
  },
  {
   "cell_type": "code",
   "execution_count": 12,
   "id": "fb92ec43-9322-41d1-a3af-7efaa160e88c",
   "metadata": {},
   "outputs": [
    {
     "data": {
      "text/plain": [
       "array([[0.64966705, 0.08515806, 0.51805951, 0.40407714],\n",
       "       [0.19271042, 0.12004724, 0.54534692, 0.17565038],\n",
       "       [0.95109309, 0.97571895, 0.62980034, 0.80947959]])"
      ]
     },
     "execution_count": 12,
     "metadata": {},
     "output_type": "execute_result"
    }
   ],
   "source": [
    "array11 = np.random.rand(3, 4)\n",
    "array11"
   ]
  },
  {
   "cell_type": "code",
   "execution_count": 13,
   "id": "e0f1ed32-f61b-434c-b1bc-0aae2c979324",
   "metadata": {},
   "outputs": [
    {
     "data": {
      "text/plain": [
       "array([[[63, 81, 95, 97, 49],\n",
       "        [45, 70, 64, 77, 52],\n",
       "        [89, 54, 31, 72, 99],\n",
       "        [75, 53, 82, 44, 72]],\n",
       "\n",
       "       [[64, 66,  9, 57, 66],\n",
       "        [34, 16, 16, 94,  6],\n",
       "        [18, 30,  2, 96, 13],\n",
       "        [29, 88, 34,  6, 20]],\n",
       "\n",
       "       [[35, 76,  8, 51, 57],\n",
       "        [90, 45, 33, 48, 15],\n",
       "        [86, 84, 54, 37, 25],\n",
       "        [93, 88, 81, 67, 81]]])"
      ]
     },
     "execution_count": 13,
     "metadata": {},
     "output_type": "execute_result"
    }
   ],
   "source": [
    "array12 = np.random.randint(1, 100, (3,4,5))\n",
    "array12"
   ]
  },
  {
   "cell_type": "code",
   "execution_count": 14,
   "id": "c765c5b6-eba9-4bad-9b42-3dea127f4dff",
   "metadata": {},
   "outputs": [
    {
     "data": {
      "text/plain": [
       "array([[0., 0., 0., 0.],\n",
       "       [0., 0., 0., 0.],\n",
       "       [0., 0., 0., 0.]])"
      ]
     },
     "execution_count": 14,
     "metadata": {},
     "output_type": "execute_result"
    }
   ],
   "source": [
    "array13 = np.zeros((3, 4))\n",
    "array13"
   ]
  },
  {
   "cell_type": "code",
   "execution_count": 15,
   "id": "ba0782c0-7876-495f-a4e2-18c21da08e73",
   "metadata": {},
   "outputs": [
    {
     "data": {
      "text/plain": [
       "array([[1., 1., 1., 1.],\n",
       "       [1., 1., 1., 1.],\n",
       "       [1., 1., 1., 1.]])"
      ]
     },
     "execution_count": 15,
     "metadata": {},
     "output_type": "execute_result"
    }
   ],
   "source": [
    "array13 = np.ones((3, 4))\n",
    "array13"
   ]
  },
  {
   "cell_type": "code",
   "execution_count": 16,
   "id": "394ad1b2-ab92-45b0-bdf6-7e58783f20e9",
   "metadata": {},
   "outputs": [
    {
     "data": {
      "text/plain": [
       "array([[10, 10, 10, 10],\n",
       "       [10, 10, 10, 10],\n",
       "       [10, 10, 10, 10]])"
      ]
     },
     "execution_count": 16,
     "metadata": {},
     "output_type": "execute_result"
    }
   ],
   "source": [
    "array13 = np.full((3, 4), 10)\n",
    "array13"
   ]
  },
  {
   "cell_type": "code",
   "execution_count": 17,
   "id": "520c9137-6502-4d28-b375-54d3f861634f",
   "metadata": {},
   "outputs": [
    {
     "data": {
      "text/plain": [
       "array([[1., 0., 0., 0.],\n",
       "       [0., 1., 0., 0.],\n",
       "       [0., 0., 1., 0.],\n",
       "       [0., 0., 0., 1.]])"
      ]
     },
     "execution_count": 17,
     "metadata": {},
     "output_type": "execute_result"
    }
   ],
   "source": [
    "np.eye(4)"
   ]
  },
  {
   "cell_type": "code",
   "execution_count": 18,
   "id": "8e08ce38-3d6a-45a4-a07c-6a591531e5ee",
   "metadata": {},
   "outputs": [
    {
     "data": {
      "text/plain": [
       "1080000"
      ]
     },
     "execution_count": 18,
     "metadata": {},
     "output_type": "execute_result"
    }
   ],
   "source": [
    "array16 = plt.imread(\"test.jpg\")\n",
    "array16.size"
   ]
  },
  {
   "cell_type": "code",
   "execution_count": 19,
   "id": "07c37756-543b-41be-ba2d-7514f9935a02",
   "metadata": {},
   "outputs": [
    {
     "name": "stdout",
     "output_type": "stream",
     "text": [
      "1080000\n",
      "50\n",
      "12\n"
     ]
    }
   ],
   "source": [
    "array17 = np.arange(1, 100, 2)\n",
    "array18 = np.random.rand(3, 4)\n",
    "print(array16.size)\n",
    "print(array17.size)\n",
    "print(array18.size)"
   ]
  },
  {
   "cell_type": "code",
   "execution_count": 20,
   "id": "54099912-fbb9-4292-b11f-77a0a48b498a",
   "metadata": {},
   "outputs": [
    {
     "name": "stdout",
     "output_type": "stream",
     "text": [
      "(600, 600, 3)\n",
      "(50,)\n",
      "(3, 4)\n"
     ]
    }
   ],
   "source": [
    "print(array16.shape)\n",
    "print(array17.shape)\n",
    "print(array18.shape)"
   ]
  },
  {
   "cell_type": "code",
   "execution_count": 21,
   "id": "17385555-6da6-40f2-83f2-7a973ef12968",
   "metadata": {},
   "outputs": [
    {
     "name": "stdout",
     "output_type": "stream",
     "text": [
      "uint8\n",
      "int64\n",
      "float64\n"
     ]
    }
   ],
   "source": [
    "print(array16.dtype)\n",
    "print(array17.dtype)\n",
    "print(array18.dtype)"
   ]
  },
  {
   "cell_type": "code",
   "execution_count": 22,
   "id": "2d9cae8b-d0a9-4dc8-a930-ab843a713986",
   "metadata": {},
   "outputs": [
    {
     "name": "stdout",
     "output_type": "stream",
     "text": [
      "3\n",
      "1\n",
      "2\n"
     ]
    }
   ],
   "source": [
    "print(array16.ndim)\n",
    "print(array17.ndim)\n",
    "print(array18.ndim)"
   ]
  },
  {
   "cell_type": "code",
   "execution_count": 23,
   "id": "ac0976df-382a-448e-a6a8-2d5dfb561ad6",
   "metadata": {},
   "outputs": [
    {
     "name": "stdout",
     "output_type": "stream",
     "text": [
      "1\n",
      "8\n",
      "8\n"
     ]
    }
   ],
   "source": [
    "print(array16.itemsize)\n",
    "print(array17.itemsize)\n",
    "print(array18.itemsize)"
   ]
  },
  {
   "cell_type": "code",
   "execution_count": 24,
   "id": "f01a6ff4-66e4-4b63-94a8-660cb93f47c6",
   "metadata": {},
   "outputs": [
    {
     "name": "stdout",
     "output_type": "stream",
     "text": [
      "1080000\n",
      "400\n",
      "96\n"
     ]
    }
   ],
   "source": [
    "print(array16.nbytes)\n",
    "print(array17.nbytes)\n",
    "print(array18.nbytes)"
   ]
  },
  {
   "cell_type": "code",
   "execution_count": 25,
   "id": "77a50bf4-386c-46df-91ae-daed6d094573",
   "metadata": {},
   "outputs": [
    {
     "name": "stdout",
     "output_type": "stream",
     "text": [
      "[1 2 3 4 5 6 7 8 9]\n",
      "1 9\n",
      "1 9\n"
     ]
    }
   ],
   "source": [
    "array19 = np.arange(1, 10)\n",
    "print(array19)\n",
    "print(array19[0], array19[array19.size - 1])\n",
    "print(array19[-array19.size], array19[-1])"
   ]
  },
  {
   "cell_type": "code",
   "execution_count": 26,
   "id": "631dff9b-50f5-42cf-a409-0f59470c17f4",
   "metadata": {},
   "outputs": [
    {
     "data": {
      "text/plain": [
       "array([7, 8, 9])"
      ]
     },
     "execution_count": 26,
     "metadata": {},
     "output_type": "execute_result"
    }
   ],
   "source": [
    "array20 = np.array([[1, 2, 3], [4, 5, 6], [7, 8, 9]])\n",
    "array20[2]"
   ]
  },
  {
   "cell_type": "code",
   "execution_count": 27,
   "id": "7aa612fc-3951-41b7-95ea-bf6da90807ee",
   "metadata": {},
   "outputs": [
    {
     "name": "stdout",
     "output_type": "stream",
     "text": [
      "9\n"
     ]
    }
   ],
   "source": [
    "print(array20[2][2])"
   ]
  },
  {
   "cell_type": "code",
   "execution_count": 28,
   "id": "fdd5058d-6fdb-460f-a1e7-685f62061796",
   "metadata": {},
   "outputs": [
    {
     "data": {
      "text/plain": [
       "array([[    1,     2,     3],\n",
       "       [    4, 23234,     6],\n",
       "       [    7,     8,     9]])"
      ]
     },
     "execution_count": 28,
     "metadata": {},
     "output_type": "execute_result"
    }
   ],
   "source": [
    "array20[1][1] = 23234\n",
    "array20"
   ]
  },
  {
   "cell_type": "code",
   "execution_count": 29,
   "id": "c6b8dac9-bd21-462b-9ebe-b95a65cfe69c",
   "metadata": {},
   "outputs": [
    {
     "data": {
      "text/plain": [
       "array([[    2,     3],\n",
       "       [23234,     6]])"
      ]
     },
     "execution_count": 29,
     "metadata": {},
     "output_type": "execute_result"
    }
   ],
   "source": [
    "array20[:2, 1:]"
   ]
  },
  {
   "cell_type": "code",
   "execution_count": 30,
   "id": "79d1529e-a05d-4e79-9b20-adfa474473a5",
   "metadata": {},
   "outputs": [
    {
     "data": {
      "text/plain": [
       "array([7, 8, 9])"
      ]
     },
     "execution_count": 30,
     "metadata": {},
     "output_type": "execute_result"
    }
   ],
   "source": [
    "array20[2, :]"
   ]
  },
  {
   "cell_type": "code",
   "execution_count": 31,
   "id": "7a5655f7-fa5e-48ab-8a7e-3082c01cb695",
   "metadata": {},
   "outputs": [
    {
     "data": {
      "text/plain": [
       "array([[7, 8, 9]])"
      ]
     },
     "execution_count": 31,
     "metadata": {},
     "output_type": "execute_result"
    }
   ],
   "source": [
    "array20[2:, :]"
   ]
  },
  {
   "cell_type": "code",
   "execution_count": 32,
   "id": "df634da9-3f5e-4628-9152-d0f5fbaf37af",
   "metadata": {},
   "outputs": [
    {
     "data": {
      "text/plain": [
       "array([[1, 2, 3],\n",
       "       [7, 8, 9]])"
      ]
     },
     "execution_count": 32,
     "metadata": {},
     "output_type": "execute_result"
    }
   ],
   "source": [
    "array20[::2]"
   ]
  },
  {
   "cell_type": "code",
   "execution_count": 33,
   "id": "c4a97bec-15f4-43a7-91eb-316f9cce501e",
   "metadata": {},
   "outputs": [
    {
     "data": {
      "text/plain": [
       "array([[1, 3],\n",
       "       [7, 9]])"
      ]
     },
     "execution_count": 33,
     "metadata": {},
     "output_type": "execute_result"
    }
   ],
   "source": [
    "array20[::2, ::2]"
   ]
  },
  {
   "cell_type": "code",
   "execution_count": 34,
   "id": "e6d68d72-30c1-476a-9266-911c9f6bc5eb",
   "metadata": {},
   "outputs": [
    {
     "data": {
      "text/plain": [
       "array([[7, 8, 9],\n",
       "       [1, 2, 3]])"
      ]
     },
     "execution_count": 34,
     "metadata": {},
     "output_type": "execute_result"
    }
   ],
   "source": [
    "array20[::-2]"
   ]
  },
  {
   "cell_type": "code",
   "execution_count": 35,
   "id": "cc6925ac-fdff-45ab-8222-ceb44a1de51a",
   "metadata": {},
   "outputs": [
    {
     "data": {
      "text/plain": [
       "array([[9, 7],\n",
       "       [3, 1]])"
      ]
     },
     "execution_count": 35,
     "metadata": {},
     "output_type": "execute_result"
    }
   ],
   "source": [
    "array20[::-2, ::-2]"
   ]
  },
  {
   "cell_type": "code",
   "execution_count": 36,
   "id": "e957bc53-b66b-494c-8d57-5ec407381246",
   "metadata": {},
   "outputs": [
    {
     "data": {
      "text/plain": [
       "array([1, 2, 3, 4, 5, 6, 7, 8, 9])"
      ]
     },
     "execution_count": 36,
     "metadata": {},
     "output_type": "execute_result"
    }
   ],
   "source": [
    "array19"
   ]
  },
  {
   "cell_type": "code",
   "execution_count": 37,
   "id": "d4bcad43-3e79-412b-b2e9-dc277cb59036",
   "metadata": {},
   "outputs": [
    {
     "data": {
      "text/plain": [
       "array([1, 2])"
      ]
     },
     "execution_count": 37,
     "metadata": {},
     "output_type": "execute_result"
    }
   ],
   "source": [
    "array19[[0,1]]"
   ]
  },
  {
   "cell_type": "code",
   "execution_count": 38,
   "id": "b386141f-d3f8-4dc1-b3e0-6c8eb9991677",
   "metadata": {},
   "outputs": [
    {
     "data": {
      "text/plain": [
       "array([1, 2, 3, 4, 5, 6, 7, 8])"
      ]
     },
     "execution_count": 38,
     "metadata": {},
     "output_type": "execute_result"
    }
   ],
   "source": [
    "array19[[True, True, True, True, True, True, True, True, False]]"
   ]
  },
  {
   "cell_type": "code",
   "execution_count": 39,
   "id": "0de32b2b-2ab8-4cba-b804-4870227535c5",
   "metadata": {},
   "outputs": [
    {
     "data": {
      "text/plain": [
       "array([[    1,     2,     3],\n",
       "       [    4, 23234,     6],\n",
       "       [    7,     8,     9]])"
      ]
     },
     "execution_count": 39,
     "metadata": {},
     "output_type": "execute_result"
    }
   ],
   "source": [
    "array20"
   ]
  },
  {
   "cell_type": "code",
   "execution_count": 40,
   "id": "72f5a70d-dccc-4327-8883-16ec2b480690",
   "metadata": {},
   "outputs": [
    {
     "data": {
      "text/plain": [
       "<matplotlib.image.AxesImage at 0x7f98a8af79a0>"
      ]
     },
     "execution_count": 40,
     "metadata": {},
     "output_type": "execute_result"
    },
    {
     "data": {
      "image/png": "[encoded data removed]",
      "text/plain": [
       "<Figure size 640x480 with 1 Axes>"
      ]
     },
     "metadata": {},
     "output_type": "display_data"
    }
   ],
   "source": [
    "array16 = plt.imread(\"test.jpg\")\n",
    "plt.imshow(array16)"
   ]
  },
  {
   "cell_type": "code",
   "execution_count": 41,
   "id": "17b986b0-9b18-46f7-b340-44b75facec50",
   "metadata": {},
   "outputs": [
    {
     "data": {
      "text/plain": [
       "<matplotlib.image.AxesImage at 0x7f98a89ed420>"
      ]
     },
     "execution_count": 41,
     "metadata": {},
     "output_type": "execute_result"
    },
    {
     "data": {
      "image/png": "[encoded data removed]",
      "text/plain": [
       "<Figure size 640x480 with 1 Axes>"
      ]
     },
     "metadata": {},
     "output_type": "display_data"
    }
   ],
   "source": [
    "plt.imshow(array16[::-1])"
   ]
  },
  {
   "cell_type": "code",
   "execution_count": 42,
   "id": "2c4a1746-6ba9-4d67-8896-174294f0e033",
   "metadata": {},
   "outputs": [
    {
     "data": {
      "text/plain": [
       "<matplotlib.image.AxesImage at 0x7f98a686e3b0>"
      ]
     },
     "execution_count": 42,
     "metadata": {},
     "output_type": "execute_result"
    },
    {
     "data": {
      "image/png": "[encoded data removed]",
      "text/plain": [
       "<Figure size 640x480 with 1 Axes>"
      ]
     },
     "metadata": {},
     "output_type": "display_data"
    }
   ],
   "source": [
    "plt.imshow(array16[:,::-1])"
   ]
  },
  {
   "cell_type": "code",
   "execution_count": 43,
   "id": "06726db3-7fac-4503-bf25-25315ace62bd",
   "metadata": {},
   "outputs": [
    {
     "data": {
      "text/plain": [
       "<matplotlib.image.AxesImage at 0x7f98a68dfd00>"
      ]
     },
     "execution_count": 43,
     "metadata": {},
     "output_type": "execute_result"
    },
    {
     "data": {
      "image/png": "[encoded data removed]",
      "text/plain": [
       "<Figure size 640x480 with 1 Axes>"
      ]
     },
     "metadata": {},
     "output_type": "display_data"
    }
   ],
   "source": [
    "plt.imshow(array16[30:455,90:334])"
   ]
  },
  {
   "cell_type": "code",
   "execution_count": 44,
   "id": "558870f2-d09a-46c5-8283-9376994c841c",
   "metadata": {},
   "outputs": [
    {
     "data": {
      "text/plain": [
       "<matplotlib.image.AxesImage at 0x7f98a6769540>"
      ]
     },
     "execution_count": 44,
     "metadata": {},
     "output_type": "execute_result"
    },
    {
     "data": {
      "image/png": "[encoded data removed]",
      "text/plain": [
       "<Figure size 640x480 with 1 Axes>"
      ]
     },
     "metadata": {},
     "output_type": "display_data"
    }
   ],
   "source": [
    "plt.imshow(array16[::10, ::10])"
   ]
  },
  {
   "cell_type": "markdown",
   "id": "fd527d19-4c0d-48fd-81b3-194e68db8d65",
   "metadata": {},
   "source": [
    "# 69"
   ]
  },
  {
   "cell_type": "code",
   "execution_count": 45,
   "id": "8baf01f5-2636-4f5a-89ea-e0e8a9b6272f",
   "metadata": {},
   "outputs": [
    {
     "data": {
      "text/plain": [
       "array([ 6, 27, 53, 32, 18, 14, 44, 90,  8, 23])"
      ]
     },
     "execution_count": 45,
     "metadata": {},
     "output_type": "execute_result"
    }
   ],
   "source": [
    "array1 = np.random.randint(1, 100, 10)\n",
    "array1"
   ]
  },
  {
   "cell_type": "code",
   "execution_count": 46,
   "id": "6e019b3c-6a0f-48e0-ad8a-711dec92dc3e",
   "metadata": {},
   "outputs": [
    {
     "name": "stdout",
     "output_type": "stream",
     "text": [
      "315\n",
      "315\n",
      "31.5\n",
      "31.5\n",
      "25.0\n",
      "12.8\n"
     ]
    }
   ],
   "source": [
    "print(array1.sum())\n",
    "print(np.sum(array1))\n",
    "print(array1.mean())\n",
    "print(np.mean(array1))\n",
    "print(np.median(array1))\n",
    "print(np.quantile(array1, 0.2))"
   ]
  },
  {
   "cell_type": "code",
   "execution_count": 47,
   "id": "127eafa1-c740-4c58-9733-a2822496b1a5",
   "metadata": {},
   "outputs": [
    {
     "name": "stdout",
     "output_type": "stream",
     "text": [
      "90\n",
      "6\n",
      "90\n",
      "6\n",
      "26.0\n"
     ]
    }
   ],
   "source": [
    "print(array1.max())\n",
    "print(array1.min())\n",
    "print(np.amax(array1))\n",
    "print(np.amin(array1))\n",
    "\n",
    "q3, q1 = np.quantile(array1, [0.25, 0.75])\n",
    "print(q1 - q3)"
   ]
  },
  {
   "cell_type": "code",
   "execution_count": 48,
   "id": "fd1fc91d-1e40-43e5-99d6-ae20ba64ed27",
   "metadata": {},
   "outputs": [
    {
     "name": "stdout",
     "output_type": "stream",
     "text": [
      "582.45\n",
      "24.13400091157701\n",
      "0.7661587590976829\n"
     ]
    }
   ],
   "source": [
    "print(array1.var())\n",
    "print(array1.std())\n",
    "print(array1.std() / array1.mean())"
   ]
  },
  {
   "cell_type": "code",
   "execution_count": 49,
   "id": "6512a8c9-56a1-45ef-8097-d0b94bdce140",
   "metadata": {},
   "outputs": [
    {
     "data": {
      "image/png": "[encoded data removed]",
      "text/plain": [
       "<Figure size 640x480 with 1 Axes>"
      ]
     },
     "metadata": {},
     "output_type": "display_data"
    }
   ],
   "source": [
    "plt.boxplot(array1, showmeans=True)\n",
    "plt.ylim([-20, 120])\n",
    "plt.show()"
   ]
  },
  {
   "cell_type": "code",
   "execution_count": 50,
   "id": "f134b163-0a96-46ff-93c6-ccd6688df59e",
   "metadata": {},
   "outputs": [
    {
     "data": {
      "text/plain": [
       "array([[88, 63, 62],\n",
       "       [63, 84, 65],\n",
       "       [67, 69, 84],\n",
       "       [69, 61, 85],\n",
       "       [64, 60, 88]])"
      ]
     },
     "execution_count": 50,
     "metadata": {},
     "output_type": "execute_result"
    }
   ],
   "source": [
    "array2 = np.random.randint(60, 101, (5, 3))\n",
    "array2"
   ]
  },
  {
   "cell_type": "code",
   "execution_count": 51,
   "id": "4b02a98f-88ad-473f-af47-ae44b14520c5",
   "metadata": {},
   "outputs": [
    {
     "data": {
      "text/plain": [
       "np.float64(71.46666666666667)"
      ]
     },
     "execution_count": 51,
     "metadata": {},
     "output_type": "execute_result"
    }
   ],
   "source": [
    "array2.mean()"
   ]
  },
  {
   "cell_type": "code",
   "execution_count": 52,
   "id": "e477a648-bc38-4b24-8f66-dded494d64f6",
   "metadata": {},
   "outputs": [
    {
     "data": {
      "text/plain": [
       "array([71.        , 70.66666667, 73.33333333, 71.66666667, 70.66666667])"
      ]
     },
     "execution_count": 52,
     "metadata": {},
     "output_type": "execute_result"
    }
   ],
   "source": [
    "array2.mean(axis=1)"
   ]
  },
  {
   "cell_type": "code",
   "execution_count": 53,
   "id": "64840d65-0d7d-4a45-a38f-8ff6a02953e6",
   "metadata": {},
   "outputs": [
    {
     "data": {
      "text/plain": [
       "array([70.2, 67.4, 76.8])"
      ]
     },
     "execution_count": 53,
     "metadata": {},
     "output_type": "execute_result"
    }
   ],
   "source": [
    "array2.mean(axis=0)"
   ]
  },
  {
   "cell_type": "code",
   "execution_count": 54,
   "id": "faaa683c-81d6-421b-a581-ea304f70740b",
   "metadata": {},
   "outputs": [
    {
     "name": "stdout",
     "output_type": "stream",
     "text": [
      "88\n",
      "[88 84 88]\n",
      "[88 84 84 85 88]\n"
     ]
    }
   ],
   "source": [
    "print(array2.max())\n",
    "print(array2.max(axis = 0))\n",
    "print(array2.max(axis = 1))"
   ]
  },
  {
   "cell_type": "code",
   "execution_count": 55,
   "id": "ae0a01d0-aa82-4314-9813-1c8a62ca0cb3",
   "metadata": {},
   "outputs": [
    {
     "data": {
      "image/png": "[encoded data removed]",
      "text/plain": [
       "<Figure size 640x480 with 1 Axes>"
      ]
     },
     "metadata": {},
     "output_type": "display_data"
    }
   ],
   "source": [
    "plt.boxplot(array2, showmeans=True)\n",
    "plt.ylim([-20, 120])\n",
    "plt.show()"
   ]
  },
  {
   "cell_type": "code",
   "execution_count": 56,
   "id": "ef064b3c-4388-4626-b62f-c5a98ee21af7",
   "metadata": {},
   "outputs": [],
   "source": [
    "from scipy import stats"
   ]
  },
  {
   "cell_type": "code",
   "execution_count": 57,
   "id": "0ee87da2-c45b-4667-b48e-5f15aa68b413",
   "metadata": {},
   "outputs": [
    {
     "name": "stdout",
     "output_type": "stream",
     "text": [
      "31.5\n",
      "23.45770072465132\n",
      "17.14905824455025\n",
      "31.5\n"
     ]
    }
   ],
   "source": [
    "print(np.mean(array1))\n",
    "print(stats.gmean(array1))\n",
    "print(stats.hmean(array1))\n",
    "print(stats.tmean(array1))"
   ]
  },
  {
   "cell_type": "code",
   "execution_count": 58,
   "id": "8aa9fe2b-6838-4c47-bc96-14df842c66d6",
   "metadata": {},
   "outputs": [
    {
     "data": {
      "text/plain": [
       "array([[ 6, 27, 53, 32, 18],\n",
       "       [14, 44, 90,  8, 23]])"
      ]
     },
     "execution_count": 58,
     "metadata": {},
     "output_type": "execute_result"
    }
   ],
   "source": [
    "array1.reshape([2,5])"
   ]
  },
  {
   "cell_type": "code",
   "execution_count": 59,
   "id": "f523e9f8-2442-494b-ae62-b32b04795c5a",
   "metadata": {},
   "outputs": [
    {
     "data": {
      "text/plain": [
       "array([ 6, 27, 53, 32, 18, 14, 44, 90,  8, 23])"
      ]
     },
     "execution_count": 59,
     "metadata": {},
     "output_type": "execute_result"
    }
   ],
   "source": [
    "array1.flatten()"
   ]
  },
  {
   "cell_type": "code",
   "execution_count": 60,
   "id": "fa58e0c5-e2b6-430f-9059-ff446115a8b2",
   "metadata": {},
   "outputs": [
    {
     "data": {
      "text/plain": [
       "(array([0, 1, 2, 3, 4, 5, 6, 7, 8, 9]),)"
      ]
     },
     "execution_count": 60,
     "metadata": {},
     "output_type": "execute_result"
    }
   ],
   "source": [
    "array1.nonzero()"
   ]
  },
  {
   "cell_type": "code",
   "execution_count": 61,
   "id": "4bbee014-9c76-4c51-98ae-dd9467ac29d6",
   "metadata": {},
   "outputs": [
    {
     "data": {
      "text/plain": [
       "array([ 6, 27, 53, 32, 18, 14, 44, 90,  8, 23])"
      ]
     },
     "execution_count": 61,
     "metadata": {},
     "output_type": "execute_result"
    }
   ],
   "source": [
    "array1.round()"
   ]
  },
  {
   "cell_type": "code",
   "execution_count": 62,
   "id": "9d2209b0-6e99-42a9-8d0c-fba10e15c873",
   "metadata": {},
   "outputs": [
    {
     "data": {
      "text/plain": [
       "array([ 6,  8, 14, 18, 23, 27, 32, 44, 53, 90])"
      ]
     },
     "execution_count": 62,
     "metadata": {},
     "output_type": "execute_result"
    }
   ],
   "source": [
    "array1.sort()\n",
    "array1"
   ]
  },
  {
   "cell_type": "code",
   "execution_count": 63,
   "id": "37648b88-9331-4f0a-ada9-01e4bc8df629",
   "metadata": {},
   "outputs": [
    {
     "data": {
      "text/plain": [
       "array([[ 6,  8, 14, 18, 23],\n",
       "       [27, 32, 44, 53, 90]])"
      ]
     },
     "execution_count": 63,
     "metadata": {},
     "output_type": "execute_result"
    }
   ],
   "source": [
    "array1 = array1.reshape([2,5])\n",
    "array1"
   ]
  },
  {
   "cell_type": "code",
   "execution_count": 65,
   "id": "7d3bd127-0ef2-43bc-afb3-92a26057a669",
   "metadata": {},
   "outputs": [
    {
     "data": {
      "text/plain": [
       "array([[ 6, 27],\n",
       "       [ 8, 32],\n",
       "       [14, 44],\n",
       "       [18, 53],\n",
       "       [23, 90]])"
      ]
     },
     "execution_count": 65,
     "metadata": {},
     "output_type": "execute_result"
    }
   ],
   "source": [
    "array1 = array1.swapaxes(0, 1)\n",
    "array1"
   ]
  },
  {
   "cell_type": "code",
   "execution_count": 67,
   "id": "0e9a1308-f649-4aa0-9df6-b23f7f53ca88",
   "metadata": {},
   "outputs": [
    {
     "data": {
      "text/plain": [
       "array([[ 6,  8, 14, 18, 23],\n",
       "       [27, 32, 44, 53, 90]])"
      ]
     },
     "execution_count": 67,
     "metadata": {},
     "output_type": "execute_result"
    }
   ],
   "source": [
    "array1.transpose()"
   ]
  },
  {
   "cell_type": "code",
   "execution_count": 68,
   "id": "cce89a2b-314c-448e-af17-95007d2c8131",
   "metadata": {},
   "outputs": [
    {
     "data": {
      "text/plain": [
       "[[6, 27], [8, 32], [14, 44], [18, 53], [23, 90]]"
      ]
     },
     "execution_count": 68,
     "metadata": {},
     "output_type": "execute_result"
    }
   ],
   "source": [
    "array1.tolist()"
   ]
  },
  {
   "cell_type": "code",
   "execution_count": 71,
   "id": "6d70fed8-7ce5-4343-926f-90cd8e445c83",
   "metadata": {},
   "outputs": [],
   "source": [
    "array1 = array1.flatten()"
   ]
  },
  {
   "cell_type": "code",
   "execution_count": 73,
   "id": "21143a2e-9dba-4556-9fec-bbecaf9c6dd6",
   "metadata": {},
   "outputs": [
    {
     "data": {
      "text/plain": [
       "[6, 27, 8, 32, 14, 44, 18, 53, 23, 90]"
      ]
     },
     "execution_count": 73,
     "metadata": {},
     "output_type": "execute_result"
    }
   ],
   "source": [
    "array1.tolist()"
   ]
  },
  {
   "cell_type": "markdown",
   "id": "e01fff9d-0924-42cd-8f9a-2af0dbaf33ed",
   "metadata": {},
   "source": [
    "# 70"
   ]
  },
  {
   "cell_type": "code",
   "execution_count": 75,
   "id": "65380725-d1b0-455b-b632-b7a1d041c9e3",
   "metadata": {},
   "outputs": [
    {
     "data": {
      "text/plain": [
       "array([1, 2, 3, 4, 5, 6, 7, 8, 9])"
      ]
     },
     "execution_count": 75,
     "metadata": {},
     "output_type": "execute_result"
    }
   ],
   "source": [
    "array1 = np.arange(1, 10)\n",
    "array1"
   ]
  },
  {
   "cell_type": "code",
   "execution_count": 77,
   "id": "f93d0ace-14dd-4a31-9447-6004ccfa9b80",
   "metadata": {},
   "outputs": [
    {
     "name": "stdout",
     "output_type": "stream",
     "text": [
      "[10 20 30 40 50 60 70 80 90]\n"
     ]
    }
   ],
   "source": [
    "print(array1 * 10)"
   ]
  },
  {
   "cell_type": "code",
   "execution_count": 79,
   "id": "ab94a7ec-9548-4731-bc9b-4d08b83b30d6",
   "metadata": {},
   "outputs": [
    {
     "name": "stdout",
     "output_type": "stream",
     "text": [
      "[False False False False False  True  True  True  True]\n"
     ]
    }
   ],
   "source": [
    "print(array1 > 5)"
   ]
  },
  {
   "cell_type": "code",
   "execution_count": 80,
   "id": "51ab843e-b766-4c82-8a82-bcbd88ed3183",
   "metadata": {},
   "outputs": [],
   "source": [
    "array2 = np.array([1, 1, 1, 2, 2, 2, 3, 3, 3])"
   ]
  },
  {
   "cell_type": "code",
   "execution_count": 82,
   "id": "cb60e069-4229-4429-bd26-026212595be8",
   "metadata": {},
   "outputs": [
    {
     "name": "stdout",
     "output_type": "stream",
     "text": [
      "[ 1  2  3  8 10 12 21 24 27]\n"
     ]
    }
   ],
   "source": [
    "print(array1 * array2)"
   ]
  },
  {
   "cell_type": "code",
   "execution_count": 83,
   "id": "5efa9896-61c7-4784-8ee3-f73d6bf98d31",
   "metadata": {},
   "outputs": [
    {
     "name": "stdout",
     "output_type": "stream",
     "text": [
      "[False  True  True  True  True  True  True  True  True]\n"
     ]
    }
   ],
   "source": [
    "print(array1 > array2)"
   ]
  },
  {
   "cell_type": "code",
   "execution_count": 85,
   "id": "ad26bd27-ef92-47e9-b528-2fb7765f10a9",
   "metadata": {},
   "outputs": [
    {
     "name": "stdout",
     "output_type": "stream",
     "text": [
      "[1.         1.41421356 1.73205081 2.         2.23606798 2.44948974\n",
      " 2.64575131 2.82842712 3.        ]\n",
      "[0.         1.         1.5849625  2.         2.32192809 2.5849625\n",
      " 2.80735492 3.         3.169925  ]\n"
     ]
    }
   ],
   "source": [
    "print(np.sqrt(array1))\n",
    "print(np.log2(array1))"
   ]
  },
  {
   "cell_type": "code",
   "execution_count": 89,
   "id": "8233d89c-1494-465a-aa08-66400b1d3bb6",
   "metadata": {},
   "outputs": [
    {
     "name": "stdout",
     "output_type": "stream",
     "text": [
      "[[4 5 6]\n",
      " [7 8 9]]\n",
      "[[  4  25 216]\n",
      " [343  64   9]]\n",
      "[[32 28]\n",
      " [50 46]]\n"
     ]
    }
   ],
   "source": [
    "array3 = np.array([[4, 5, 6], [7, 8, 9]])\n",
    "array4 = np.array([[1, 2, 3], [3, 2, 1]])\n",
    "\n",
    "print(np.maximum(array3, array4))\n",
    "print(np.power(array3, array4))\n",
    "print(np.inner(array3, array4))"
   ]
  },
  {
   "cell_type": "code",
   "execution_count": 90,
   "id": "ac91cf60-5c08-499b-bb9d-102911840801",
   "metadata": {},
   "outputs": [
    {
     "data": {
      "text/plain": [
       "array([[1, 2, 3],\n",
       "       [2, 3, 4],\n",
       "       [3, 4, 5],\n",
       "       [4, 5, 6]])"
      ]
     },
     "execution_count": 90,
     "metadata": {},
     "output_type": "execute_result"
    }
   ],
   "source": [
    "array5 = np.array([[0, 0, 0], [1, 1, 1], [2, 2, 2], [3, 3, 3]])\n",
    "array6 = np.array([1, 2, 3])\n",
    "array5 + array6"
   ]
  },
  {
   "cell_type": "code",
   "execution_count": 91,
   "id": "28f4e7b8-720d-4b5b-beba-8e74cb66b82b",
   "metadata": {},
   "outputs": [
    {
     "data": {
      "text/plain": [
       "array([[1, 1, 1],\n",
       "       [3, 3, 3],\n",
       "       [5, 5, 5],\n",
       "       [7, 7, 7]])"
      ]
     },
     "execution_count": 91,
     "metadata": {},
     "output_type": "execute_result"
    }
   ],
   "source": [
    "array7 = np.array([[1], [2], [3], [4]])\n",
    "array5 + array7"
   ]
  },
  {
   "cell_type": "code",
   "execution_count": 92,
   "id": "33bf96c0-19f9-439f-89b5-71a6aab1f6f3",
   "metadata": {},
   "outputs": [
    {
     "data": {
      "text/plain": [
       "array([[0, 0, 0],\n",
       "       [1, 1, 1],\n",
       "       [2, 2, 2],\n",
       "       [3, 3, 3]])"
      ]
     },
     "execution_count": 92,
     "metadata": {},
     "output_type": "execute_result"
    }
   ],
   "source": [
    "array5"
   ]
  },
  {
   "cell_type": "code",
   "execution_count": 93,
   "id": "07bb5835-294e-4dd6-b103-dff987cb9b90",
   "metadata": {},
   "outputs": [
    {
     "data": {
      "text/plain": [
       "array([0, 1, 2, 3])"
      ]
     },
     "execution_count": 93,
     "metadata": {},
     "output_type": "execute_result"
    }
   ],
   "source": [
    "np.unique(array5)"
   ]
  },
  {
   "cell_type": "code",
   "execution_count": 94,
   "id": "bc973b64-23e6-4573-849b-f726ab41a2f6",
   "metadata": {},
   "outputs": [
    {
     "data": {
      "text/plain": [
       "array([[1, 1, 1, 4, 4, 4],\n",
       "       [2, 2, 2, 5, 5, 5],\n",
       "       [3, 3, 3, 6, 6, 6]])"
      ]
     },
     "execution_count": 94,
     "metadata": {},
     "output_type": "execute_result"
    }
   ],
   "source": [
    "array8 = np.array([[1, 1, 1], [2, 2, 2], [3, 3, 3]])\n",
    "array9 = np.array([[4, 4, 4], [5, 5, 5], [6, 6, 6]])\n",
    "np.hstack((array8, array9))"
   ]
  },
  {
   "cell_type": "code",
   "execution_count": 95,
   "id": "39fffdf9-c0f6-4868-8ae6-6b49feb7aa60",
   "metadata": {},
   "outputs": [
    {
     "data": {
      "text/plain": [
       "array([[1, 1, 1],\n",
       "       [2, 2, 2],\n",
       "       [3, 3, 3],\n",
       "       [4, 4, 4],\n",
       "       [5, 5, 5],\n",
       "       [6, 6, 6]])"
      ]
     },
     "execution_count": 95,
     "metadata": {},
     "output_type": "execute_result"
    }
   ],
   "source": [
    "np.vstack((array8, array9))"
   ]
  },
  {
   "cell_type": "code",
   "execution_count": 98,
   "id": "dd393132-19a5-4675-98c1-2891fa9e924c",
   "metadata": {},
   "outputs": [
    {
     "data": {
      "text/plain": [
       "array([[1, 1, 1],\n",
       "       [2, 2, 2],\n",
       "       [3, 3, 3],\n",
       "       [4, 4, 4],\n",
       "       [5, 5, 5],\n",
       "       [6, 6, 6]])"
      ]
     },
     "execution_count": 98,
     "metadata": {},
     "output_type": "execute_result"
    }
   ],
   "source": [
    "np.concatenate((array8, array9))"
   ]
  },
  {
   "cell_type": "code",
   "execution_count": 100,
   "id": "830da62f-0a26-450d-836f-e3523af31ed2",
   "metadata": {},
   "outputs": [
    {
     "data": {
      "text/plain": [
       "array([[1, 1, 1, 4, 4, 4],\n",
       "       [2, 2, 2, 5, 5, 5],\n",
       "       [3, 3, 3, 6, 6, 6]])"
      ]
     },
     "execution_count": 100,
     "metadata": {},
     "output_type": "execute_result"
    }
   ],
   "source": [
    "np.concatenate((array8, array9), axis = 1)"
   ]
  },
  {
   "cell_type": "code",
   "execution_count": 105,
   "id": "7f6b922f-96f9-4d33-a6a9-54f758c77faa",
   "metadata": {},
   "outputs": [
    {
     "data": {
      "text/plain": [
       "array([  1,   2,   3,   4,   5,   6,   7,   8,   9, 199,  33])"
      ]
     },
     "execution_count": 105,
     "metadata": {},
     "output_type": "execute_result"
    }
   ],
   "source": [
    "np.append(array1, [199, 33])"
   ]
  },
  {
   "cell_type": "code",
   "execution_count": 106,
   "id": "78d07c88-8ada-44c0-b5a5-cd55e2e9f714",
   "metadata": {},
   "outputs": [
    {
     "data": {
      "text/plain": [
       "array([    1, 45465,  4324,   434,     2,     3,     4,     5,     6,\n",
       "           7,     8,     9])"
      ]
     },
     "execution_count": 106,
     "metadata": {},
     "output_type": "execute_result"
    }
   ],
   "source": [
    "np.insert(array1, 1, [45465, 4324,434])"
   ]
  },
  {
   "cell_type": "code",
   "execution_count": 108,
   "id": "9f7dfea7-f45d-46b2-9c26-2c1446dc718e",
   "metadata": {},
   "outputs": [
    {
     "data": {
      "text/plain": [
       "array([1, 2, 3, 4, 5, 6, 7, 8, 9])"
      ]
     },
     "execution_count": 108,
     "metadata": {},
     "output_type": "execute_result"
    }
   ],
   "source": [
    "array1"
   ]
  },
  {
   "cell_type": "code",
   "execution_count": 107,
   "id": "472967dc-48da-4387-a545-1333cbd75ed5",
   "metadata": {},
   "outputs": [
    {
     "data": {
      "text/plain": [
       "array([ 10,  20,   0,   0,   0,   0,   0, 512, 729])"
      ]
     },
     "execution_count": 107,
     "metadata": {},
     "output_type": "execute_result"
    }
   ],
   "source": [
    "np.select([array1 < 3, array1 > 7], [array1 *10, array1 ** 3])"
   ]
  },
  {
   "cell_type": "code",
   "execution_count": 109,
   "id": "2bea83a6-026f-481d-889f-35ccc40ad1fc",
   "metadata": {},
   "outputs": [
    {
     "data": {
      "text/plain": [
       "array([ 10,  20,  30,  40,  50, 216, 343, 512, 729])"
      ]
     },
     "execution_count": 109,
     "metadata": {},
     "output_type": "execute_result"
    }
   ],
   "source": [
    "np.where(array1 <=5, array1 * 10, array1 ** 3)"
   ]
  },
  {
   "cell_type": "code",
   "execution_count": 111,
   "id": "180938e5-6390-452d-97eb-2dc0ef15d501",
   "metadata": {},
   "outputs": [
    {
     "data": {
      "text/plain": [
       "array([1, 1, 1, 2, 2, 2, 3, 3, 3, 4, 4, 4, 5, 5, 5, 6, 6, 6, 7, 7, 7, 8,\n",
       "       8, 8, 9, 9, 9])"
      ]
     },
     "execution_count": 111,
     "metadata": {},
     "output_type": "execute_result"
    }
   ],
   "source": [
    "np.repeat(array1, 3)"
   ]
  },
  {
   "cell_type": "code",
   "execution_count": 113,
   "id": "a1a53e72-ed2c-4027-88fe-8f477d724068",
   "metadata": {},
   "outputs": [
    {
     "data": {
      "text/plain": [
       "array([1, 2, 3, 4, 5, 6, 7, 8, 9, 1, 2, 3, 4, 5, 6, 7, 8, 9, 1, 2, 3, 4,\n",
       "       5, 6, 7, 8, 9, 1, 2, 3, 4, 5, 6, 7, 8, 9, 1, 2, 3, 4, 5, 6, 7, 8,\n",
       "       9])"
      ]
     },
     "execution_count": 113,
     "metadata": {},
     "output_type": "execute_result"
    }
   ],
   "source": [
    "np.tile(array1, 5)"
   ]
  },
  {
   "cell_type": "code",
   "execution_count": 115,
   "id": "65e1bd60-3b67-44b8-b65e-c5a65d77f004",
   "metadata": {},
   "outputs": [
    {
     "data": {
      "text/plain": [
       "array([[1, 2, 3, 4, 5],\n",
       "       [6, 7, 8, 9, 1],\n",
       "       [2, 3, 4, 5, 6]])"
      ]
     },
     "execution_count": 115,
     "metadata": {},
     "output_type": "execute_result"
    }
   ],
   "source": [
    "np.resize(array1, (3, 5))"
   ]
  },
  {
   "cell_type": "markdown",
   "id": "8c9f5b89-757f-4cbe-85e2-de36341c1d14",
   "metadata": {},
   "source": [
    "# 71"
   ]
  },
  {
   "cell_type": "code",
   "execution_count": null,
   "id": "9db5d2e6-1f72-4f86-b954-67c67f57fb70",
   "metadata": {},
   "outputs": [],
   "source": []
  },
  {
   "cell_type": "code",
   "execution_count": null,
   "id": "83cc5e0a-17d5-4766-a4c7-97a350bbc73b",
   "metadata": {},
   "outputs": [],
   "source": []
  }
 ],
 "metadata": {
  "kernelspec": {
   "display_name": "Python 3 (ipykernel)",
   "language": "python",
   "name": "python3"
  },
  "language_info": {
   "codemirror_mode": {
    "name": "ipython",
    "version": 3
   },
   "file_extension": ".py",
   "mimetype": "text/x-python",
   "name": "python",
   "nbconvert_exporter": "python",
   "pygments_lexer": "ipython3",
   "version": "3.10.6"
  }
 },
 "nbformat": 4,
 "nbformat_minor": 5
}
