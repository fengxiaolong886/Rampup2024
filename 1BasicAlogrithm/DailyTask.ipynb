{
 "cells": [
  {
   "cell_type": "markdown",
   "id": "1d1f6ed8-2dee-484c-9268-dd751678337d",
   "metadata": {},
   "source": [
    "# Daily Task\n",
    "at least two problem each day"
   ]
  },
  {
   "cell_type": "markdown",
   "id": "b29fdc37-4cf6-437c-b4e0-7f786b0518c6",
   "metadata": {},
   "source": [
    "#### 104. 二叉树的最大深度\n",
    "   https://leetcode.cn/problems/maximum-depth-of-binary-tree/description/"
   ]
  },
  {
   "cell_type": "code",
   "execution_count": null,
   "id": "bf855709-d0c5-4f16-9faf-63dbef4e743c",
   "metadata": {},
   "outputs": [],
   "source": [
    "# Definition for a binary tree node.\n",
    "# class TreeNode:\n",
    "#     def __init__(self, val=0, left=None, right=None):\n",
    "#         self.val = val\n",
    "#         self.left = left\n",
    "#         self.right = right\n",
    "class Solution:\n",
    "    def maxDepth(self, root):\n",
    "        if root is None:\n",
    "            return 0\n",
    "\n",
    "        l_depth = self.maxDepth(root.left)\n",
    "        r_depth = self.maxDepth(root.right)\n",
    "        return max(l_depth, r_depth) + 1"
   ]
  },
  {
   "cell_type": "code",
   "execution_count": null,
   "id": "e92cf92f-bd58-4c76-a927-102abc73f2ba",
   "metadata": {},
   "outputs": [],
   "source": [
    "# Definition for a binary tree node.\n",
    "# class TreeNode:\n",
    "#     def __init__(self, val=0, left=None, right=None):\n",
    "#         self.val = val\n",
    "#         self.left = left\n",
    "#         self.right = right\n",
    "class Solution:\n",
    "    def maxDepth(self, root):\n",
    "        ans = 0\n",
    "        def f(node, cnt):\n",
    "            if node is None:\n",
    "                return\n",
    "            cnt += 1\n",
    "            nonlocal ans\n",
    "            ans = max(ans, cnt)\n",
    "            f(node.left, cnt)\n",
    "            f(node.right, cnt)\n",
    "        f(root, 0)\n",
    "        return ans\n",
    "        "
   ]
  },
  {
   "cell_type": "markdown",
   "id": "05ee1c67-d394-4531-8470-89142357c85d",
   "metadata": {},
   "source": [
    "#### 100. 相同的树\n",
    "https://leetcode.cn/problems/same-tree/description/"
   ]
  },
  {
   "cell_type": "code",
   "execution_count": null,
   "id": "b59f5f9c-7d25-4e4f-ad31-e1d201cbe77b",
   "metadata": {},
   "outputs": [],
   "source": [
    "# Definition for a binary tree node.\n",
    "# class TreeNode:\n",
    "#     def __init__(self, val=0, left=None, right=None):\n",
    "#         self.val = val\n",
    "#         self.left = left\n",
    "#         self.right = right\n",
    "class Solution:\n",
    "    def isSameTree(self, p, q):\n",
    "        if p is None or q is None:\n",
    "            return p is q\n",
    "        return p.val == q.val and self.isSameTree(p.left, q.left) and self.isSameTree(p.right, q.right)\n",
    "\n"
   ]
  },
  {
   "cell_type": "markdown",
   "id": "9fa850ba-5897-4128-9618-f5a36bf3e68c",
   "metadata": {},
   "source": [
    "#### 101. 对称二叉树\n",
    "https://leetcode.cn/problems/symmetric-tree/description/"
   ]
  },
  {
   "cell_type": "code",
   "execution_count": null,
   "id": "1cf35925-ab25-4ada-9bdd-0714c64fc3cc",
   "metadata": {},
   "outputs": [],
   "source": [
    "# Definition for a binary tree node.\n",
    "# class TreeNode:\n",
    "#     def __init__(self, val=0, left=None, right=None):\n",
    "#         self.val = val\n",
    "#         self.left = left\n",
    "#         self.right = right\n",
    "class Solution:\n",
    "    def isSameTree(self, p, q):\n",
    "        if p is None or q is None:\n",
    "            return p is q\n",
    "        return p.val == q.val and self.isSameTree(p.left, q.right) and self.isSameTree(p.right, q.left)\n",
    "\n",
    "    \n",
    "    def isSymmetric(self, root):\n",
    "        return self.isSameTree(root.left, root.right)\n"
   ]
  },
  {
   "cell_type": "markdown",
   "id": "d5bce043-038c-46cb-a921-a96c20f284b5",
   "metadata": {},
   "source": [
    "#### 110. 平衡二叉树\n",
    "\n",
    "https://leetcode.cn/problems/balanced-binary-tree/description/\n",
    "平衡二叉树 是指该树所有节点的左右子树的深度相差不超过 1。\n",
    "\n"
   ]
  },
  {
   "cell_type": "code",
   "execution_count": null,
   "id": "2e1258e7-6b1d-4d3b-8d72-e924fb07d8f8",
   "metadata": {},
   "outputs": [],
   "source": [
    "# Definition for a binary tree node.\n",
    "# class TreeNode:\n",
    "#     def __init__(self, val=0, left=None, right=None):\n",
    "#         self.val = val\n",
    "#         self.left = left\n",
    "#         self.right = right\n",
    "class Solution:\n",
    "    def isBalanced(self, root):\n",
    "        def get_height(node):\n",
    "            if node is None:\n",
    "                return 0\n",
    "            left_height = get_height(node.left)\n",
    "            if left_height == -1:\n",
    "                return -1\n",
    "            right_height = get_height(node.right)\n",
    "            if right_height == -1 or abs (left_height - right_height) > 1:\n",
    "                return -1\n",
    "            return max(left_height, right_height) + 1\n",
    "        return get_height(root) != -1\n",
    "        \n",
    "        "
   ]
  },
  {
   "cell_type": "markdown",
   "id": "4d03931e-3354-4999-a61c-5fb494aa9363",
   "metadata": {},
   "source": [
    "#### 199. 二叉树的右视图 \n",
    "https://leetcode.cn/problems/binary-tree-right-side-view/description/"
   ]
  },
  {
   "cell_type": "code",
   "execution_count": null,
   "id": "35134b31-f789-4b47-947c-885a19967f6c",
   "metadata": {},
   "outputs": [],
   "source": [
    "# Definition for a binary tree node.\n",
    "# class TreeNode:\n",
    "#     def __init__(self, val=0, left=None, right=None):\n",
    "#         self.val = val\n",
    "#         self.left = left\n",
    "#         self.right = right\n",
    "class Solution:\n",
    "    def rightSideView(self, root):\n",
    "        ans = []\n",
    "        def f(node, depth):\n",
    "            if node is None:\n",
    "                return\n",
    "            if depth == len(ans):\n",
    "                ans.append(node.val)\n",
    "            f(node.right, depth + 1)\n",
    "            f(node.left, depth + 1)\n",
    "        f(root, 0)\n",
    "        return ans"
   ]
  },
  {
   "cell_type": "markdown",
   "id": "4fbb6387-3e56-4d84-a9ec-ebf72c61537f",
   "metadata": {},
   "source": [
    "#### 94. 二叉树的中序遍历\n",
    "https://leetcode.cn/problems/binary-tree-inorder-traversal/description/"
   ]
  },
  {
   "cell_type": "code",
   "execution_count": null,
   "id": "47ec8453-222b-4d69-9c50-3df560a7315a",
   "metadata": {},
   "outputs": [],
   "source": [
    "# Definition for a binary tree node.\n",
    "# class TreeNode:\n",
    "#     def __init__(self, val=0, left=None, right=None):\n",
    "#         self.val = val\n",
    "#         self.left = left\n",
    "#         self.right = right\n",
    "class Solution:\n",
    "    def inorderTraversal(self, root):\n",
    "        ans = []\n",
    "        def f(node):\n",
    "            if node is None:\n",
    "                return\n",
    "            f(node.left)\n",
    "            ans.append(node.val)\n",
    "            f(node.right)\n",
    "        f(root)\n",
    "        return ans\n",
    "            "
   ]
  },
  {
   "cell_type": "markdown",
   "id": "f0670bbc-cb33-4df4-8f60-ad7c4dc551ba",
   "metadata": {},
   "source": [
    "#### 2848. 与车相交的点\n",
    "https://leetcode.cn/problems/points-that-intersect-with-cars/description/?envType=daily-question&envId=2024-09-15"
   ]
  },
  {
   "cell_type": "code",
   "execution_count": 7,
   "id": "2305c57e-847b-443c-96d7-a53847738158",
   "metadata": {
    "scrolled": true
   },
   "outputs": [
    {
     "data": {
      "text/plain": [
       "7"
      ]
     },
     "execution_count": 7,
     "metadata": {},
     "output_type": "execute_result"
    }
   ],
   "source": [
    "class Solution:\n",
    "    def numberOfPoints(self, nums):\n",
    "        res = set()\n",
    "        for i in nums:\n",
    "            for j in range(i[0], i[1] + 1):\n",
    "                res.add(j)\n",
    "        return len(res)\n",
    "\n",
    "nums = [[3,6],[1,5],[4,7]]\n",
    "nums = [[1,3],[5,8]]\n",
    "ans = Solution()\n",
    "ans.numberOfPoints(nums)"
   ]
  },
  {
   "cell_type": "markdown",
   "id": "71d02d77-f66b-464d-af46-68739ac2be5b",
   "metadata": {},
   "source": [
    "#### 111. 二叉树的最小深度\n",
    "https://leetcode.cn/problems/minimum-depth-of-binary-tree/description/"
   ]
  },
  {
   "cell_type": "code",
   "execution_count": 42,
   "id": "8a540d11-18da-431d-934e-03941f474a40",
   "metadata": {},
   "outputs": [],
   "source": [
    "# Definition for a binary tree node.\n",
    "# class TreeNode:\n",
    "#     def __init__(self, val=0, left=None, right=None):\n",
    "#         self.val = val\n",
    "#         self.left = left\n",
    "#         self.right = right\n",
    "class Solution:\n",
    "    def minDepth(self, root):\n",
    "        if not root:\n",
    "            return 0\n",
    "        l_depth = self.minDepth(root.left)\n",
    "        r_depth = self.minDepth(root.right)\n",
    "    \n",
    "        if not root.left or not root.right:\n",
    "            return l_depth + r_depth + 1\n",
    "        else:\n",
    "            return min(l_depth + r_depth) + 1"
   ]
  },
  {
   "cell_type": "markdown",
   "id": "d10bba43-fbe8-49d6-a6f1-9dfd9ebbe02f",
   "metadata": {},
   "source": [
    "#### 68. 文本左右对齐\n",
    "https://leetcode.cn/problems/text-justification/description/"
   ]
  },
  {
   "cell_type": "code",
   "execution_count": 104,
   "id": "e21c90a1-6931-447a-9790-5efab2cc4e72",
   "metadata": {},
   "outputs": [
    {
     "data": {
      "text/plain": [
       "['This    is    an', 'example  of text', 'justification.  ']"
      ]
     },
     "execution_count": 104,
     "metadata": {},
     "output_type": "execute_result"
    }
   ],
   "source": [
    "class Solution:\n",
    "    def fullJustify(self, words, maxWidth):\n",
    "        res = []\n",
    "        line = \"\"\n",
    "        for i in words:\n",
    "            if not line:\n",
    "                line += i\n",
    "            elif 1 + len(i) + len(line) <= maxWidth:\n",
    "                line += \" \"\n",
    "                line += i\n",
    "            else:\n",
    "                res.append(line)\n",
    "                line = i\n",
    "        res.append(line)\n",
    "\n",
    "        for i in range(len(res) -1):\n",
    "            c = res[i]\n",
    "            diff = maxWidth - len(c)\n",
    "            clist = c.split()\n",
    "            for j in range(diff):\n",
    "                clist[j%max(len(clist)-1, 1)] += ' '\n",
    "            res[i] = \" \".join(clist).ljust(maxWidth)\n",
    "        res[-1] = res[-1].ljust(maxWidth)\n",
    "        return res\n",
    "                \n",
    "            \n",
    "\n",
    "words = [\"This\", \"is\", \"an\", \"example\", \"of\", \"text\", \"justification.\"]\n",
    "maxWidth = 16\n",
    "#words = [\"What\",\"must\",\"be\",\"acknowledgment\",\"shall\",\"be\"]\n",
    "#maxWidth = 16\n",
    "#words = [\"Science\",\"is\",\"what\",\"we\",\"understand\",\"well\",\"enough\",\"to\",\"explain\",\"to\",\"a\",\"computer.\",\"Art\",\"is\",\"everything\",\"else\",\"we\",\"do\"]\n",
    "#maxWidth = 20\n",
    "ans = Solution()\n",
    "ans.fullJustify(words, maxWidth)\n"
   ]
  },
  {
   "cell_type": "markdown",
   "id": "028d4088-54a0-4841-99e6-c7683e30818d",
   "metadata": {},
   "source": [
    "#### 692. 前K个高频单词\n",
    "https://leetcode.cn/problems/top-k-frequent-words/description/"
   ]
  },
  {
   "cell_type": "code",
   "execution_count": 25,
   "id": "2d1fbe43-a9b5-4099-90c2-2506e5b787a6",
   "metadata": {},
   "outputs": [
    {
     "data": {
      "text/plain": [
       "['i', 'love', 'coding']"
      ]
     },
     "execution_count": 25,
     "metadata": {},
     "output_type": "execute_result"
    }
   ],
   "source": [
    "from collections import Counter\n",
    "class Solution:\n",
    "    def topKFrequent(self, words, k):\n",
    "        s = Counter(words)\n",
    "        res = sorted([(i, j ) for i, j in s.items()], key=lambda x:(-x[1],x[0]))\n",
    "        return [i for i, _ in res[:k]]\n",
    "\n",
    "        \n",
    "words = [\"i\", \"love\", \"leetcode\", \"i\", \"love\", \"coding\"]\n",
    "k = 3\n",
    "#words = [\"the\", \"day\", \"is\", \"sunny\", \"the\", \"the\", \"the\", \"sunny\", \"is\", \"is\"]\n",
    "#k = 4\n",
    "ans = Solution()\n",
    "ans.topKFrequent(words, k)"
   ]
  },
  {
   "cell_type": "markdown",
   "id": "e7feefb8-80fb-43b0-89e8-b7815b95c5bf",
   "metadata": {},
   "source": [
    "#### 90. 子集 II\n",
    "https://leetcode.cn/problems/subsets-ii/"
   ]
  },
  {
   "cell_type": "code",
   "execution_count": 34,
   "id": "3e3bbd13-4c94-4aed-847a-33ab32a39bd9",
   "metadata": {},
   "outputs": [
    {
     "data": {
      "text/plain": [
       "[[],\n",
       " [4],\n",
       " [1],\n",
       " [4, 4],\n",
       " [1, 4],\n",
       " [4, 4, 4],\n",
       " [1, 4, 4],\n",
       " [1, 4, 4, 4],\n",
       " [4, 4, 4, 4],\n",
       " [1, 4, 4, 4, 4]]"
      ]
     },
     "execution_count": 34,
     "metadata": {},
     "output_type": "execute_result"
    }
   ],
   "source": [
    "from itertools import combinations\n",
    "class Solution:\n",
    "    def subsetsWithDup(self, nums):\n",
    "        n = len(nums)\n",
    "        res = []\n",
    "        for i in range(n + 1):\n",
    "            s = combinations(nums, i)\n",
    "            for x in s:\n",
    "                new  = sorted(list(x))\n",
    "                if new not in res:\n",
    "                    res.append(new)\n",
    "        return res\n",
    "        \n",
    "nums = [1,2,2]\n",
    "nums = [4,4,4,1,4]\n",
    "ans = Solution()\n",
    "ans.subsetsWithDup(nums)"
   ]
  },
  {
   "cell_type": "markdown",
   "id": "71a4be95-d024-4934-bdda-0cca2e82d933",
   "metadata": {},
   "source": [
    "#### 2414. 最长的字母序连续子字符串的长度\n",
    "https://leetcode.cn/problems/length-of-the-longest-alphabetical-continuous-substring/description/?envType=daily-question&envId=2024-09-19"
   ]
  },
  {
   "cell_type": "code",
   "execution_count": 44,
   "id": "a22e961f-1899-4258-984d-0381a299c488",
   "metadata": {},
   "outputs": [
    {
     "data": {
      "text/plain": [
       "1"
      ]
     },
     "execution_count": 44,
     "metadata": {},
     "output_type": "execute_result"
    }
   ],
   "source": [
    "class Solution:\n",
    "    def longestContinuousSubstring(self, s):\n",
    "        sd = [ord(i) for i in s]\n",
    "        res = 1\n",
    "        ans = 1\n",
    "        for i in range(1, len(s)):\n",
    "            if sd[i] - sd[i -1] == 1:\n",
    "                res += 1\n",
    "                ans = max(res, ans)\n",
    "            else:\n",
    "                res = 1\n",
    "        return ans\n",
    "\n",
    "s = \"abacaba\"\n",
    "s = \"abcde\"\n",
    "s = \"a\"\n",
    "ans = Solution()\n",
    "ans.longestContinuousSubstring(s)"
   ]
  },
  {
   "cell_type": "markdown",
   "id": "4fce8f36-52f9-4c17-a321-b6f739366916",
   "metadata": {},
   "source": [
    "#### 443. 压缩字符串\n",
    "https://leetcode.cn/problems/string-compression/"
   ]
  },
  {
   "cell_type": "code",
   "execution_count": 57,
   "id": "f6fd7c86-a2e1-4ad4-aba4-fb0b6a51a7fc",
   "metadata": {},
   "outputs": [
    {
     "data": {
      "text/plain": [
       "(4, ['a', 'b', '1', '2', 'b', 'b', 'b', 'b', 'b', 'b', 'b', 'b', 'b'])"
      ]
     },
     "execution_count": 57,
     "metadata": {},
     "output_type": "execute_result"
    }
   ],
   "source": [
    "class Solution:\n",
    "    def compress(self, chars):\n",
    "        res = chars[0]\n",
    "        tmp = 1\n",
    "        for i in range(1, len(chars)):\n",
    "            if chars[i] == res[-1]:\n",
    "                tmp += 1\n",
    "            else:\n",
    "                if tmp > 1:\n",
    "                    res += str(tmp)\n",
    "                tmp = 1\n",
    "                res += chars[i]\n",
    "        if tmp > 1:\n",
    "            res += str(tmp)\n",
    "        for i in range(len(res)):\n",
    "            chars[i] = res[i]\n",
    "        return len(res)\n",
    "\n",
    "chars = [\"a\",\"a\",\"b\",\"b\",\"c\",\"c\",\"c\"]\n",
    "#chars = [\"a\"]\n",
    "chars = [\"a\",\"b\",\"b\",\"b\",\"b\",\"b\",\"b\",\"b\",\"b\",\"b\",\"b\",\"b\",\"b\"]\n",
    "ans = Solution()\n",
    "ans.compress(chars)"
   ]
  },
  {
   "cell_type": "markdown",
   "id": "bdcda373-9461-45cf-8c75-0429f10d60c4",
   "metadata": {},
   "source": [
    "#### 539. 最小时间差\n",
    "https://leetcode.cn/problems/minimum-time-difference/description/"
   ]
  },
  {
   "cell_type": "code",
   "execution_count": 71,
   "id": "96db9dbd-d664-4dc1-b15d-e3d728818b2d",
   "metadata": {},
   "outputs": [
    {
     "data": {
      "text/plain": [
       "1"
      ]
     },
     "execution_count": 71,
     "metadata": {},
     "output_type": "execute_result"
    }
   ],
   "source": [
    "class Solution:\n",
    "    def findMinDifference(self, timePoints):\n",
    "        res = []\n",
    "        for i in timePoints:\n",
    "            x = i.split(\":\")\n",
    "            res.append(int(x[0]) * 60 + int(x[1]))\n",
    "        res.sort()\n",
    "        ans = float(\"inf\")\n",
    "        for i in range(1, len(res)):\n",
    "            ans = min(ans, res[i] - res[i - 1])\n",
    "        return min(ans, res[0] + 1440 - res[-1])\n",
    "\n",
    "timePoints = [\"23:59\",\"00:00\"]\n",
    "ans = Solution()\n",
    "ans.findMinDifference(timePoints)"
   ]
  },
  {
   "cell_type": "markdown",
   "id": "f5da3ce7-c94c-4e44-91aa-a6428f8d3baa",
   "metadata": {},
   "source": [
    "####  498. 对角线遍历\n",
    "https://leetcode.cn/problems/diagonal-traverse/description/"
   ]
  },
  {
   "cell_type": "code",
   "execution_count": 74,
   "id": "b0a0af1e-d83b-4212-a48a-5c0c0137e207",
   "metadata": {},
   "outputs": [
    {
     "data": {
      "text/plain": [
       "[1, 2, 4, 7, 5, 3, 6, 8, 9]"
      ]
     },
     "execution_count": 74,
     "metadata": {},
     "output_type": "execute_result"
    }
   ],
   "source": [
    "from collections import defaultdict\n",
    "class Solution:\n",
    "    def findDiagonalOrder(self, mat):\n",
    "        s = defaultdict(list)\n",
    "        for r, row in enumerate(mat):\n",
    "            for c, num in enumerate(row):\n",
    "                sums = r + c\n",
    "                s[sums].append(num)\n",
    "        res = []\n",
    "        for k, l in enumerate(s.values()):\n",
    "            if k % 2 == 0:\n",
    "                l = l[::-1]\n",
    "            for val in l:\n",
    "                res.append(val)\n",
    "        return res\n",
    "\n",
    "mat = [[1,2,3],[4,5,6],[7,8,9]]\n",
    "ans = Solution()\n",
    "ans.findDiagonalOrder(mat)"
   ]
  },
  {
   "cell_type": "markdown",
   "id": "4f0a3e78-2e06-4745-9b0c-04c80306b392",
   "metadata": {},
   "source": [
    "#### 396. 旋转函数\n",
    "https://leetcode.cn/problems/rotate-function/description/"
   ]
  },
  {
   "cell_type": "code",
   "execution_count": 83,
   "id": "a6fa9c6b-861d-4dbe-9c03-e86017c05a06",
   "metadata": {},
   "outputs": [
    {
     "data": {
      "text/plain": [
       "0"
      ]
     },
     "execution_count": 83,
     "metadata": {},
     "output_type": "execute_result"
    }
   ],
   "source": [
    "class Solution:\n",
    "    def maxRotateFunction(self, nums):\n",
    "        candidate = []\n",
    "        for i in range(len(nums)):\n",
    "            temp = nums[-i:] + nums[:-i]\n",
    "            candidate.append(temp)\n",
    "        res = []\n",
    "        for i in candidate:\n",
    "            t = 0\n",
    "            for idx, val in enumerate(i):\n",
    "                t += idx * val\n",
    "            res.append(t)\n",
    "        return max(res)\n",
    "\n",
    "        \n",
    "nums = [4,3,2,6]\n",
    "nums = [100]\n",
    "ans = Solution()\n",
    "ans.maxRotateFunction(nums)"
   ]
  },
  {
   "cell_type": "code",
   "execution_count": 85,
   "id": "e1a574cc-6d51-416e-bedd-af37998afec9",
   "metadata": {},
   "outputs": [
    {
     "data": {
      "text/plain": [
       "26"
      ]
     },
     "execution_count": 85,
     "metadata": {},
     "output_type": "execute_result"
    }
   ],
   "source": [
    "class Solution:\n",
    "    def maxRotateFunction(self, nums):\n",
    "        candidate = []\n",
    "        res = float(\"-inf\")\n",
    "        for i in range(len(nums)):\n",
    "            temp = nums[-i:] + nums[:-i]\n",
    "            t = 0\n",
    "            for idx, val in enumerate(temp):\n",
    "                t += idx * val\n",
    "            res = max(t, res)\n",
    "        return res\n",
    "        \n",
    "nums = [4,3,2,6]\n",
    "#nums = [100]\n",
    "ans = Solution()\n",
    "ans.maxRotateFunction(nums)"
   ]
  },
  {
   "cell_type": "code",
   "execution_count": 86,
   "id": "a095d5d3-d010-4ba5-8f29-e0d6bcfb4387",
   "metadata": {},
   "outputs": [
    {
     "data": {
      "text/plain": [
       "26"
      ]
     },
     "execution_count": 86,
     "metadata": {},
     "output_type": "execute_result"
    }
   ],
   "source": [
    "class Solution:\n",
    "    def maxRotateFunction(self, nums):\n",
    "        total = sum(nums)\n",
    "        n = len(nums)\n",
    "        last = sum(i * num for i, num in enumerate(nums))\n",
    "        ans = last\n",
    "        for i in range(1, n + 1):\n",
    "            last += total - n * nums[n - i]\n",
    "            ans = max(ans, last)\n",
    "        return ans\n",
    "        \n",
    "nums = [4,3,2,6]\n",
    "#nums = [100]\n",
    "ans = Solution()\n",
    "ans.maxRotateFunction(nums)"
   ]
  }
 ],
 "metadata": {
  "kernelspec": {
   "display_name": "Python 3 (ipykernel)",
   "language": "python",
   "name": "python3"
  },
  "language_info": {
   "codemirror_mode": {
    "name": "ipython",
    "version": 3
   },
   "file_extension": ".py",
   "mimetype": "text/x-python",
   "name": "python",
   "nbconvert_exporter": "python",
   "pygments_lexer": "ipython3",
   "version": "3.10.6"
  }
 },
 "nbformat": 4,
 "nbformat_minor": 5
}
