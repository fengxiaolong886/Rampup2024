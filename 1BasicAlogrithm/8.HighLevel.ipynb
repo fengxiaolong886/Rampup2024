{
 "cells": [
  {
   "cell_type": "markdown",
   "id": "d8daa983-a425-4acc-b17d-df0e05c07c8e",
   "metadata": {},
   "source": [
    "# High level"
   ]
  },
  {
   "cell_type": "markdown",
   "id": "27461fd8-292a-456d-b044-3ddfb5f18d18",
   "metadata": {},
   "source": [
    "# 1. 2940 find-building-where-alice-and-bob-can-meet\n",
    "\n",
    "https://leetcode.cn/problems/find-building-where-alice-and-bob-can-meet/description/?envType=daily-question&envId=2024-08-10"
   ]
  },
  {
   "cell_type": "code",
   "execution_count": 58,
   "id": "51c0b3be-cd63-444b-8803-8297be840cd0",
   "metadata": {},
   "outputs": [
    {
     "name": "stdout",
     "output_type": "stream",
     "text": [
      "[2, 5, -1, 5, 2]\n",
      "False\n"
     ]
    }
   ],
   "source": [
    "# 1  Timeout\n",
    "class Solution:\n",
    "    def leftmostBuildingQueries(self, heights, queries):\n",
    "        res = []\n",
    "        for i in queries:\n",
    "            a, b = i [0], i[1]\n",
    "            if heights[min(a, b)] >=  heights[max(a, b)] and a != b:\n",
    "                deviation = max(a, b)\n",
    "                q = heights[deviation +1 :]\n",
    "                candidate = []\n",
    "                for j in range(len(q)):\n",
    "                    if q[j] > heights[a] and q[j] > heights[b]:\n",
    "                        candidate = j + deviation + 1\n",
    "                        break\n",
    "                if candidate:\n",
    "                    res.append(candidate)\n",
    "                else: \n",
    "                    res.append(-1)\n",
    "            else:\n",
    "                res.append(max(a, b))\n",
    "        return res\n",
    "\n",
    "heights = [6,4,8,5,2,7]\n",
    "queries = [[0,1],[0,3],[2,4],[3,4],[2,2]] #[2, 5, -1, 5, 2]\n",
    "#heights = [5,3,8,2,6,1,4,6]\n",
    "#queries = [[0,7],[3,5],[5,2],[3,0],[1,6]]   #输出：[7,6,-1,4,6]\n",
    "#heights = [1,2,1,2,1,2]\n",
    "#queries = [[0,0],[0,1],[0,2],[0,3],[0,4],[0,5],[1,0],[1,1],[1,2],[1,3],[1,4],[1,5],[2,0],[2,1],[2,2],[2,3],[2,4],[2,5],[3,0],[3,1],[3,2],[3,3],[3,4],[3,5],[4,0],[4,1],[4,2],[4,3],[4,4],[4,5],[5,0],[5,1],[5,2],[5,3],[5,4],[5,5]]\n",
    "## [0,1,2,3,4,5,1,1,-1,3,-1,5,2,-1,2,3,4,5,3,3,3,3,-1,5,4,-1,4,-1,4,5,5,5,5,5,5,5]\n",
    "ans = Solution()\n",
    "m = ans.leftmostBuildingQueries(heights, queries)\n",
    "n = [0,1,3,3,5,5,1,1,-1,-1,-1,-1,3,-1,2,3,5,5,3,-1,3,3,-1,-1,5,-1,5,-1,4,5,5,-1,5,-1,5,5]\n",
    "print(m)\n",
    "print(m ==n)"
   ]
  },
  {
   "cell_type": "code",
   "execution_count": 68,
   "id": "bb84d440-bc93-41bc-a30e-f535b54eaed9",
   "metadata": {},
   "outputs": [
    {
     "name": "stdout",
     "output_type": "stream",
     "text": [
      "[2, 5, -1, 5, 2]\n",
      "False\n"
     ]
    }
   ],
   "source": [
    "# 2. Optimization, but also Timeout\n",
    "class Solution:\n",
    "    def leftmostBuildingQueries(self, heights, queries):\n",
    "        res, n  = [], len(heights)       \n",
    "        for i in queries:\n",
    "            a, b = i [0], i[1]\n",
    "            if a > b:\n",
    "                a, b = b, a\n",
    "            if heights[a] >=  heights[b] and a != b:\n",
    "                candidate = []\n",
    "                for j in range(b + 1,  n):\n",
    "                    if heights[j] > heights[a] and heights[j] > heights[b]:\n",
    "                        candidate = j\n",
    "                        break\n",
    "                if candidate:\n",
    "                    res.append(candidate)\n",
    "                else: \n",
    "                    res.append(-1)\n",
    "            else:\n",
    "                res.append(b)\n",
    "        return res\n",
    "\n",
    "heights = [6,4,8,5,2,7]\n",
    "queries = [[0,1],[0,3],[2,4],[3,4],[2,2]] #[2, 5, -1, 5, 2]\n",
    "#heights = [5,3,8,2,6,1,4,6]\n",
    "#queries = [[0,7],[3,5],[5,2],[3,0],[1,6]]   #输出：[7,6,-1,4,6]\n",
    "#heights = [1,2,1,2,1,2]\n",
    "#queries = [[0,0],[0,1],[0,2],[0,3],[0,4],[0,5],[1,0],[1,1],[1,2],[1,3],[1,4],[1,5],[2,0],[2,1],[2,2],[2,3],[2,4],[2,5],[3,0],[3,1],[3,2],[3,3],[3,4],[3,5],[4,0],[4,1],[4,2],[4,3],[4,4],[4,5],[5,0],[5,1],[5,2],[5,3],[5,4],[5,5]]\n",
    "ans = Solution()\n",
    "m = ans.leftmostBuildingQueries(heights, queries)\n",
    "n = [0,1,3,3,5,5,1,1,-1,-1,-1,-1,3,-1,2,3,5,5,3,-1,3,3,-1,-1,5,-1,5,-1,4,5,5,-1,5,-1,5,5]\n",
    "print(m)\n",
    "print(m ==n)"
   ]
  },
  {
   "cell_type": "markdown",
   "id": "cbed0e58-ba56-4a59-979b-4d4b480b66fa",
   "metadata": {},
   "source": [
    "# 2 4 median-of-two-sorted-arrays\n",
    "https://leetcode.cn/problems/median-of-two-sorted-arrays/description/"
   ]
  },
  {
   "cell_type": "code",
   "execution_count": 83,
   "id": "f9dca4bc-eb62-457b-a7e8-89168674797f",
   "metadata": {},
   "outputs": [
    {
     "data": {
      "text/plain": [
       "2.5"
      ]
     },
     "execution_count": 83,
     "metadata": {},
     "output_type": "execute_result"
    }
   ],
   "source": [
    "import numpy as np\n",
    "class Solution:\n",
    "    def findMedianSortedArrays(self, nums1, nums2):\n",
    "        nums1 += nums2\n",
    "        return np.median(np.array(nums1, dtype=int)).tolist()\n",
    "\n",
    "nums1 = [1,3]\n",
    "nums2 = [2]\n",
    "nums1 = [1,2]\n",
    "nums2 = [3,4]\n",
    "ans = Solution()\n",
    "ans.findMedianSortedArrays(nums1, nums2)"
   ]
  },
  {
   "cell_type": "markdown",
   "id": "104e965e-bf4d-422a-88dc-dfe4612a1987",
   "metadata": {},
   "source": [
    "# 3. longest-palindromic-substring\n",
    "https://leetcode.cn/problems/longest-palindromic-substring/description/"
   ]
  },
  {
   "cell_type": "code",
   "execution_count": 115,
   "id": "ce3d5153-28ff-4831-ae5f-3c2c4816e2a0",
   "metadata": {},
   "outputs": [
    {
     "data": {
      "text/plain": [
       "'a'"
      ]
     },
     "execution_count": 115,
     "metadata": {},
     "output_type": "execute_result"
    }
   ],
   "source": [
    "class Solution:\n",
    "    def longestPalindrome(self, s):\n",
    "        i, j, res_num, n ,heap, res= 0, 1, 1, len(s), [], s[0]\n",
    "        if len(s) <= 1:\n",
    "            return s\n",
    "\n",
    "        for i in range(n):\n",
    "            for j in range(i + 1, n):\n",
    "                temp = s[i: j + 1]\n",
    "                if temp == temp[::-1] and len(temp) > res_num:\n",
    "                    res_num = len(temp)\n",
    "                    res = temp\n",
    "        return res\n",
    "        \n",
    "s = \"babad\"\n",
    "#s = \"cbbd\"\n",
    "#s = \"bb\"\n",
    "s = \"ac\"\n",
    "ans = Solution()\n",
    "ans.longestPalindrome(s)"
   ]
  },
  {
   "cell_type": "markdown",
   "id": "e40602bc-c4b2-4b65-8eb8-a1ef11a19e99",
   "metadata": {},
   "source": [
    "# 4 6.zigzag-conversion\n",
    "https://leetcode.cn/problems/zigzag-conversion/description/"
   ]
  },
  {
   "cell_type": "code",
   "execution_count": 161,
   "id": "fc163a9f-2c3f-400c-b54c-08aa06691d2b",
   "metadata": {},
   "outputs": [
    {
     "data": {
      "text/plain": [
       "'PINALSIGYAHRPI'"
      ]
     },
     "execution_count": 161,
     "metadata": {},
     "output_type": "execute_result"
    }
   ],
   "source": [
    "class Solution:\n",
    "    def convert(self, s, numRows):\n",
    "        if numRows < 2: return s\n",
    "        res = [\"\" for _ in range(numRows)]\n",
    "        i, flag = 0, -1\n",
    "        for c in s:\n",
    "            res[i] += c\n",
    "            if i ==0 or i == numRows -1: flag = - flag\n",
    "            i += flag\n",
    "        return \"\".join(res)\n",
    "\n",
    "\n",
    "s = \"PAYPALISHIRING\"\n",
    "numRows = 4\n",
    "ans = Solution()\n",
    "ans.convert(s, numRows)"
   ]
  },
  {
   "cell_type": "markdown",
   "id": "9fe8a301-9adb-4224-915d-acb6472867d3",
   "metadata": {},
   "source": [
    "# 5. 1035. 不相交的线\n",
    "\n",
    "https://leetcode.cn/problems/uncrossed-lines/description/?envType=daily-question&envId=2024-08-11"
   ]
  },
  {
   "cell_type": "code",
   "execution_count": 212,
   "id": "39bceff7-3160-413d-a492-dddde5bebc0b",
   "metadata": {},
   "outputs": [
    {
     "data": {
      "text/plain": [
       "2"
      ]
     },
     "execution_count": 212,
     "metadata": {},
     "output_type": "execute_result"
    }
   ],
   "source": [
    "class Solution:\n",
    "    def maxUncrossedLines(self, nums1, nums2):\n",
    "        m, n = len(nums1), len(nums2)\n",
    "        f = [[0] * (n + 1) for _ in range(m + 1)]\n",
    "        for i, x in enumerate(nums1,1):\n",
    "            for j, y in enumerate(nums2, 1):\n",
    "                if x == y:\n",
    "                    f[i][j] = f[i-1][j - 1] + 1\n",
    "                else:\n",
    "                    f[i][j] = max(f[i-1][j], f[i][j-1])\n",
    "        return f[m][n]\n",
    "\n",
    "nums1 = [1,4,2]\n",
    "nums2 = [1,2,4] #2\n",
    "#nums1 = [2,5,1,2,5]\n",
    "#nums2 = [10,5,2,1,5,2] #3\n",
    "nums1 = [1,3,7,1,7,5]\n",
    "nums2 = [1,9,2,5,1] #2\n",
    "nums1 = [2,1,2]\n",
    "nums2 = [2,2,2] # 2\n",
    "ans = Solution()\n",
    "ans.maxUncrossedLines(nums1, nums2)"
   ]
  },
  {
   "cell_type": "markdown",
   "id": "54477a97-2c15-4692-b704-09e72f7c5d02",
   "metadata": {},
   "source": [
    "# 6  7.reverse-integer\n",
    "https://leetcode.cn/problems/reverse-integer/submissions/"
   ]
  },
  {
   "cell_type": "code",
   "execution_count": 228,
   "id": "82efd4d6-d834-4845-ab73-c022ea40e04c",
   "metadata": {},
   "outputs": [
    {
     "data": {
      "text/plain": [
       "0"
      ]
     },
     "execution_count": 228,
     "metadata": {},
     "output_type": "execute_result"
    }
   ],
   "source": [
    "class Solution:\n",
    "    def reverse(self, x):\n",
    "        try:\n",
    "            if x >= 0:\n",
    "                res = int(str(x)[::-1])\n",
    "            else: \n",
    "                res =  -int(str(x)[1:][::-1])\n",
    "            if res > 2147483647 or res < -2147483648:\n",
    "                return 0\n",
    "            else:\n",
    "                return res\n",
    "        except:\n",
    "            return 0\n",
    "\n",
    "x = 1534236469\n",
    "ans = Solution()\n",
    "ans.reverse(x)"
   ]
  },
  {
   "cell_type": "markdown",
   "id": "3e3b5eb0-658f-4926-846f-6fdc78448561",
   "metadata": {},
   "source": [
    "# 7   8. string-to-integer-atoi\n",
    "https://leetcode.cn/problems/string-to-integer-atoi/description/"
   ]
  },
  {
   "cell_type": "code",
   "execution_count": 261,
   "id": "129c9195-2341-4d46-8649-8aa643e54540",
   "metadata": {},
   "outputs": [
    {
     "data": {
      "text/plain": [
       "0"
      ]
     },
     "execution_count": 261,
     "metadata": {},
     "output_type": "execute_result"
    }
   ],
   "source": [
    "class Solution:\n",
    "    def myAtoi(self, s):\n",
    "        s = s.strip()\n",
    "        if not s:\n",
    "            return 0\n",
    "        fu = False\n",
    "        if s[0] == \"-\":\n",
    "            s = s[1:]\n",
    "            fu = True\n",
    "        elif s[0] == \"+\":\n",
    "            s = s[1:]\n",
    "        s1 = \"\"\n",
    "        for i in s:\n",
    "            if ord(i) >= 48 and ord(i) <= 57 :\n",
    "                s1 += i\n",
    "            else:\n",
    "                break\n",
    "        s = s1\n",
    "        if s:\n",
    "            if fu:\n",
    "                res = -int(s)\n",
    "            else:\n",
    "                res = int(s)\n",
    "            if res > 2147483647:\n",
    "                return 2147483647\n",
    "            elif res < -2147483648:\n",
    "                return -2147483648\n",
    "            else:\n",
    "                return res\n",
    "        else:\n",
    "            return 0\n",
    "            \n",
    "s = \"   +42\"\n",
    "#s = \"   -042\"\n",
    "#s = \"1337c0d3\" #1337\n",
    "s = \"words and 987\"\n",
    "s = \"\"\n",
    "s = \" \"\n",
    "ans = Solution()\n",
    "ans.myAtoi(s)"
   ]
  },
  {
   "cell_type": "markdown",
   "id": "f152990c-3fb1-4cad-b181-477fd8c4b809",
   "metadata": {},
   "source": [
    "# 8. 11. 盛最多水的容器\n",
    "https://leetcode.cn/problems/container-with-most-water/description/"
   ]
  },
  {
   "cell_type": "code",
   "execution_count": 299,
   "id": "50ebf45d-da4c-4d56-b537-b4cde418d941",
   "metadata": {},
   "outputs": [
    {
     "data": {
      "text/plain": [
       "1"
      ]
     },
     "execution_count": 299,
     "metadata": {},
     "output_type": "execute_result"
    }
   ],
   "source": [
    "class Solution:\n",
    "    def maxArea(self, height):\n",
    "        res = 0\n",
    "        for left, leftval in enumerate(height[:-1]):\n",
    "            right = left + 1\n",
    "            while right < len(height):\n",
    "                long = right - left\n",
    "                short = min(leftval, height[right])\n",
    "                res = max(res, long * short)\n",
    "                right += 1\n",
    "        return res\n",
    "\n",
    "height = [1,8,6,2,5,4,8,3,7]\n",
    "height = [1,1]\n",
    "ans = Solution()\n",
    "ans.maxArea(height)"
   ]
  },
  {
   "cell_type": "code",
   "execution_count": 302,
   "id": "c0cb7f59-59b8-47e4-a95c-d3a2ac0a00dc",
   "metadata": {},
   "outputs": [
    {
     "data": {
      "text/plain": [
       "49"
      ]
     },
     "execution_count": 302,
     "metadata": {},
     "output_type": "execute_result"
    }
   ],
   "source": [
    "class Solution:\n",
    "    def maxArea(self, height):\n",
    "        i, j, res = 0, len(height) - 1, 0\n",
    "        while i < j:\n",
    "            if height[i] < height[j]:\n",
    "                res = max(res, height[i] * (j - i))\n",
    "                i += 1\n",
    "            else:\n",
    "                res = max(res, height[j] * (j - i))\n",
    "                j -= 1\n",
    "        return res\n",
    "\n",
    "height = [1,8,6,2,5,4,8,3,7]\n",
    "#height = [1,1]\n",
    "ans = Solution()\n",
    "ans.maxArea(height)"
   ]
  },
  {
   "cell_type": "markdown",
   "id": "cd8db375-ed96-4c02-9bd9-3dab91d5e643",
   "metadata": {},
   "source": [
    "# 9 12. 整数转罗马数字\n",
    "https://leetcode.cn/problems/integer-to-roman/description/"
   ]
  },
  {
   "cell_type": "code",
   "execution_count": 317,
   "id": "57383f0d-dfa0-474e-8ff3-8c9828ad61c1",
   "metadata": {},
   "outputs": [
    {
     "data": {
      "text/plain": [
       "'MMMDCCXLIX'"
      ]
     },
     "execution_count": 317,
     "metadata": {},
     "output_type": "execute_result"
    }
   ],
   "source": [
    "class Solution:\n",
    "    def intToRoman(self, num):\n",
    "        t, num = divmod(num, 1000)\n",
    "        b, num = divmod(num, 100)\n",
    "        s, num = divmod(num, 10)\n",
    "        ge  = ['','I','II','III','IV','V','VI','VII','VIII','IX']\n",
    "        shi = ['','X','XX','XXX','XL','L','LX','LXX','LXXX','XC']\n",
    "        bai = ['','C','CC','CCC','CD','D','DC','DCC','DCCC','CM']\n",
    "        qian =['','M','MM','MMM']\n",
    "        res = \"\"\n",
    "        res += qian[t] + bai[b] + shi[s] + ge[num]\n",
    "        return res\n",
    "    \n",
    "num = 3749\n",
    "ans = Solution()\n",
    "ans.intToRoman(num)"
   ]
  },
  {
   "cell_type": "markdown",
   "id": "c291ab87-9c75-4e89-a6d4-3ec0b8bb615d",
   "metadata": {},
   "source": [
    "# 10 16 3sum-closest\n",
    "https://leetcode.cn/problems/3sum-closest/description/"
   ]
  },
  {
   "cell_type": "code",
   "execution_count": 325,
   "id": "74220433-dcf3-4dd2-bab0-3684fc42656c",
   "metadata": {},
   "outputs": [
    {
     "data": {
      "text/plain": [
       "0"
      ]
     },
     "execution_count": 325,
     "metadata": {},
     "output_type": "execute_result"
    }
   ],
   "source": [
    "# timeout\n",
    "\n",
    "from itertools import combinations\n",
    "class Solution:\n",
    "    def threeSumClosest(self, nums, target):\n",
    "        res = sum(nums[:3])\n",
    "        temp = float(\"inf\")\n",
    "        s = combinations(nums, 3)\n",
    "        for i in s:\n",
    "            j = sum(i)\n",
    "            d = abs(j - target)\n",
    "            if d < temp:\n",
    "                temp = d\n",
    "                res = j\n",
    "        return res\n",
    "\n",
    "nums = [-1,2,1,-4]\n",
    "target = 1\n",
    "nums = [0,0,0]\n",
    "target = 1\n",
    "ans = Solution()\n",
    "ans.threeSumClosest(nums, target)"
   ]
  },
  {
   "cell_type": "code",
   "execution_count": 334,
   "id": "2a0ca269-0a95-4570-b072-7f27af435200",
   "metadata": {},
   "outputs": [
    {
     "data": {
      "text/plain": [
       "-2960"
      ]
     },
     "execution_count": 334,
     "metadata": {},
     "output_type": "execute_result"
    }
   ],
   "source": [
    "class Solution:\n",
    "    def threeSumClosest(self, nums, target):\n",
    "        nums.sort()\n",
    "        res = 0\n",
    "        temp = float(\"inf\")\n",
    "        for i in range(len(nums)):\n",
    "            left, right  = i + 1, len(nums) -1\n",
    "            while right > left:\n",
    "                sum_ = nums[i] + nums[left] + nums[right]\n",
    "                d = abs(sum_ - target) \n",
    "#                print(sum_, d, target, abs(d-target))\n",
    "                if d < temp:\n",
    "                    temp = d\n",
    "                    res = sum_\n",
    "                if sum_ > target:\n",
    "                    right -= 1\n",
    "                elif sum_ == target:\n",
    "                    return target\n",
    "                else:\n",
    "                    left += 1\n",
    "        return res\n",
    "\n",
    "\n",
    "nums = [-1,2,1,-4]\n",
    "target = 1\n",
    "#nums = [0,0,0]\n",
    "#target = 1\n",
    "nums = [833,736,953,-584,-448,207,128,-445,126,248,871,860,333,-899,463,488,-50,-331,903,575,265,162,-733,648,678,549,579,-172,-897,562,-503,-508,858,259,-347,-162,-505,-694,300,-40,-147,383,-221,-28,-699,36,-229,960,317,-585,879,406,2,409,-393,-934,67,71,-312,787,161,514,865,60,555,843,-725,-966,-352,862,821,803,-835,-635,476,-704,-78,393,212,767,-833,543,923,-993,274,-839,389,447,741,999,-87,599,-349,-515,-553,-14,-421,-294,-204,-713,497,168,337,-345,-948,145,625,901,34,-306,-546,-536,332,-467,-729,229,-170,-915,407,450,159,-385,163,-420,58,869,308,-494,367,-33,205,-823,-869,478,-238,-375,352,113,-741,-970,-990,802,-173,-977,464,-801,-408,-77,694,-58,-796,-599,-918,643,-651,-555,864,-274,534,211,-910,815,-102,24,-461,-146]\n",
    "target = -7111 #-2960\n",
    "ans = Solution()\n",
    "ans.threeSumClosest(nums, target)"
   ]
  },
  {
   "cell_type": "markdown",
   "id": "445cf8a5-53a2-420a-a006-b3e8e8ad4ca9",
   "metadata": {},
   "source": [
    "# 11.  29. 两数相除\n",
    "https://leetcode.cn/problems/divide-two-integers/description/"
   ]
  },
  {
   "cell_type": "code",
   "execution_count": 349,
   "id": "48f9e80c-6150-48c1-bbb9-619d5bedd756",
   "metadata": {},
   "outputs": [
    {
     "data": {
      "text/plain": [
       "2147483648"
      ]
     },
     "execution_count": 349,
     "metadata": {},
     "output_type": "execute_result"
    }
   ],
   "source": [
    "import math\n",
    "class Solution:\n",
    "    def divide(self, dividend, divisor):\n",
    "        res = math.trunc(dividend / divisor)\n",
    "        if res > 2147483647:\n",
    "            return 2147483647\n",
    "        else: \n",
    "            return res\n",
    "        \n",
    "dividend = -2147483648\n",
    "divisor = -1 #2147483647\n",
    "ans = Solution()\n",
    "ans.divide(dividend, divisor)"
   ]
  },
  {
   "cell_type": "markdown",
   "id": "c9b68949-76e6-42dd-8d0c-4c05c7c17e65",
   "metadata": {},
   "source": [
    "# 12. 43. 字符串相乘\n",
    "https://leetcode.cn/problems/multiply-strings/description/"
   ]
  },
  {
   "cell_type": "code",
   "execution_count": null,
   "id": "bee41b56-25f1-4d32-84fe-16660569b10f",
   "metadata": {},
   "outputs": [],
   "source": [
    "class Solution:\n",
    "    def multiply(self, num1: str, num2: str) -> str:\n",
    "        return str(int(num1) * int(num2))"
   ]
  },
  {
   "cell_type": "markdown",
   "id": "77ce4e11-e695-4266-9cd2-29d6a6934ca3",
   "metadata": {},
   "source": [
    "# 13. 80. 删除有序数组中的重复项 II\n",
    "https://leetcode.cn/problems/remove-duplicates-from-sorted-array-ii/description/?envType=study-plan-v2&envId=top-interview-150"
   ]
  },
  {
   "cell_type": "code",
   "execution_count": 351,
   "id": "eb72a56c-711b-4856-ae1a-1cf0b0b785ec",
   "metadata": {},
   "outputs": [
    {
     "data": {
      "text/plain": [
       "5"
      ]
     },
     "execution_count": 351,
     "metadata": {},
     "output_type": "execute_result"
    }
   ],
   "source": [
    "class Solution:\n",
    "    def removeDuplicates(self, nums):\n",
    "        j = 0\n",
    "        q = {}\n",
    "        while j < len(nums):\n",
    "            i = nums[j]\n",
    "            if i not in q:\n",
    "                q[i] = 1\n",
    "                j += 1\n",
    "            elif i in q  and q[i] == 1:\n",
    "                q[i] += 1\n",
    "                j += 1\n",
    "            elif i in q and q[i] ==2:\n",
    "                nums.pop(j)\n",
    "        return len(nums)\n",
    "\n",
    "nums = [0,0,1,1,1,1,2,3,3]\n",
    "nums = [1,1,1,2,2,3]\n",
    "ans = Solution()\n",
    "ans.removeDuplicates(nums)"
   ]
  },
  {
   "cell_type": "markdown",
   "id": "02445e95-91ff-4856-95a2-256ac41cf290",
   "metadata": {},
   "source": [
    "# 14 189. 轮转数组\n",
    "https://leetcode.cn/problems/rotate-array/description/?envType=study-plan-v2&envId=top-interview-150"
   ]
  },
  {
   "cell_type": "code",
   "execution_count": 392,
   "id": "934d4571-6ea1-45cf-b45d-89f5b35aea35",
   "metadata": {},
   "outputs": [
    {
     "data": {
      "text/plain": [
       "[3, 99, -1, -100]"
      ]
     },
     "execution_count": 392,
     "metadata": {},
     "output_type": "execute_result"
    }
   ],
   "source": [
    "class Solution:\n",
    "    def rotate(self, nums, k):\n",
    "        n = len(nums)\n",
    "        k1 = k % n\n",
    "        for i in range(k1):\n",
    "            a= nums.pop()\n",
    "            nums.insert(0, a)\n",
    "        return nums\n",
    "        \n",
    "        \n",
    "#nums = [1,2,3,4,5,6,7]\n",
    "#k = 3\n",
    "nums = [-1,-100,3,99]\n",
    "k = 2\n",
    "ans = Solution()\n",
    "ans.rotate(nums, k)"
   ]
  },
  {
   "cell_type": "markdown",
   "id": "0b194bfe-03ed-4f7f-bd87-0646d78b0d43",
   "metadata": {},
   "source": [
    "# 15 274. H 指数\n",
    "https://leetcode.cn/problems/h-index/description/?envType=study-plan-v2&envId=top-interview-150"
   ]
  },
  {
   "cell_type": "code",
   "execution_count": 408,
   "id": "50fae6ee-a146-4e9e-9dcd-a44fb2d0e1c0",
   "metadata": {},
   "outputs": [
    {
     "data": {
      "text/plain": [
       "1"
      ]
     },
     "execution_count": 408,
     "metadata": {},
     "output_type": "execute_result"
    }
   ],
   "source": [
    "class Solution:\n",
    "    def hIndex(self, citations):\n",
    "        n = len(citations)\n",
    "        database = {}\n",
    "        for i in range(n, 0, -1):\n",
    "            s = [j >= i for j in citations]\n",
    "            if sum(s) >= i:\n",
    "                return i\n",
    "        return 0\n",
    "        \n",
    "\n",
    "citations = [3,0,6,1,5]\n",
    "citations = [1,3,1]\n",
    "ans = Solution()\n",
    "ans.hIndex(citations)"
   ]
  },
  {
   "cell_type": "markdown",
   "id": "de6b48c9-799f-4c84-a049-43b3b2627f84",
   "metadata": {},
   "source": [
    "# 16. 172. 阶乘后的零\n",
    "\n",
    "https://leetcode.cn/problems/factorial-trailing-zeroes/?envType=study-plan-v2&envId=top-interview-150"
   ]
  },
  {
   "cell_type": "code",
   "execution_count": 418,
   "id": "ddea6706-db8a-4097-8eb6-e9e1f7a1623e",
   "metadata": {},
   "outputs": [
    {
     "data": {
      "text/plain": [
       "390"
      ]
     },
     "execution_count": 418,
     "metadata": {},
     "output_type": "execute_result"
    }
   ],
   "source": [
    "class Solution:\n",
    "    def trailingZeroes(self, n):\n",
    "        res = 0\n",
    "        while n:\n",
    "            n //=5\n",
    "            res +=n\n",
    "        return res\n",
    "\n",
    "n = 1574\n",
    "ans = Solution()\n",
    "ans.trailingZeroes(n)"
   ]
  },
  {
   "cell_type": "markdown",
   "id": "32da14db-73c3-4b22-855c-ba1f1906f781",
   "metadata": {},
   "source": [
    "# 17  137. 只出现一次的数字 II\n",
    "\n",
    "https://leetcode.cn/problems/single-number-ii/description/?envType=study-plan-v2&envId=top-interview-150"
   ]
  },
  {
   "cell_type": "code",
   "execution_count": 419,
   "id": "a1a0bee0-aa59-400a-9b99-f7f1d1841c61",
   "metadata": {},
   "outputs": [
    {
     "data": {
      "text/plain": [
       "3"
      ]
     },
     "execution_count": 419,
     "metadata": {},
     "output_type": "execute_result"
    }
   ],
   "source": [
    "from collections import Counter\n",
    "class Solution:\n",
    "    def singleNumber(self, nums):\n",
    "        res = Counter(nums)\n",
    "        for i in res:\n",
    "            if res[i] == 1:\n",
    "                return i\n",
    "        \n",
    "nums = [2,2,3,2]\n",
    "ans = Solution()\n",
    "ans.singleNumber(nums)"
   ]
  },
  {
   "cell_type": "markdown",
   "id": "9bdca297-4c40-4d5d-b4af-ab1649b5f55d",
   "metadata": {},
   "source": [
    "# 18 215. 数组中的第K个最大元素\n",
    "https://leetcode.cn/problems/kth-largest-element-in-an-array/description/?envType=study-plan-v2&envId=top-interview-150"
   ]
  },
  {
   "cell_type": "code",
   "execution_count": 446,
   "id": "2effdce4-5be4-4bf3-9149-806215aea92f",
   "metadata": {},
   "outputs": [
    {
     "data": {
      "text/plain": [
       "4"
      ]
     },
     "execution_count": 446,
     "metadata": {},
     "output_type": "execute_result"
    }
   ],
   "source": [
    "class Solution:\n",
    "    def findKthLargest(self, nums, k):\n",
    "        nums.sort()\n",
    "        return nums[-k]\n",
    "\n",
    "nums = [3,2,3,1,2,4,5,5,6]\n",
    "k = 4\n",
    "ans = Solution()\n",
    "ans.findKthLargest(nums, k)"
   ]
  },
  {
   "cell_type": "markdown",
   "id": "b4d6dc7b-1387-4811-8a97-485ac56bfb54",
   "metadata": {},
   "source": [
    "# 19  373. 查找和最小的 K 对数字\n",
    "https://leetcode.cn/problems/find-k-pairs-with-smallest-sums/?envType=study-plan-v2&envId=top-interview-150"
   ]
  },
  {
   "cell_type": "code",
   "execution_count": 462,
   "id": "a0ff2f68-6dd8-4744-bbc7-dc661cc6f4d5",
   "metadata": {},
   "outputs": [
    {
     "data": {
      "text/plain": [
       "[[1, 2], [1, 4], [1, 6]]"
      ]
     },
     "execution_count": 462,
     "metadata": {},
     "output_type": "execute_result"
    }
   ],
   "source": [
    "class Solution:\n",
    "    def kSmallestPairs(self, nums1, nums2, k):\n",
    "        s = []\n",
    "        for i in nums1:\n",
    "            for j in nums2:\n",
    "                s.append((i + j, i, j))\n",
    "        s.sort()\n",
    "        return [[i[1], i[2]] for i in s[:k]] \n",
    "        \n",
    "nums1 = [1,7,11]\n",
    "nums2 = [2,4,6]\n",
    "k = 3\n",
    "ans = Solution()\n",
    "ans.kSmallestPairs(nums1, nums2, k)"
   ]
  },
  {
   "cell_type": "code",
   "execution_count": 473,
   "id": "2900fc6e-989c-41b2-b930-a2bed72b03fa",
   "metadata": {},
   "outputs": [
    {
     "data": {
      "text/plain": [
       "[[1, 6], [1, 2], [1, 4]]"
      ]
     },
     "execution_count": 473,
     "metadata": {},
     "output_type": "execute_result"
    }
   ],
   "source": [
    "import heapq\n",
    "class Solution:\n",
    "    def kSmallestPairs(self, nums1, nums2, k):\n",
    "        s = []\n",
    "        for i in nums1[:k]:\n",
    "            for j in nums2[:k]:\n",
    "                heapq.heappush(s, (-i -j, i, j))\n",
    "                if len(s) >k:\n",
    "                    heapq.heappop(s)\n",
    "        return [[i[1], i[2]] for i in s] \n",
    "        \n",
    "nums1 = [1,7,11]\n",
    "nums2 = [2,4,6]\n",
    "k = 3\n",
    "ans = Solution()\n",
    "ans.kSmallestPairs(nums1, nums2, k)"
   ]
  },
  {
   "cell_type": "code",
   "execution_count": 481,
   "id": "5825233f-1d78-4aae-b604-f4492c8a3f83",
   "metadata": {},
   "outputs": [
    {
     "data": {
      "text/plain": [
       "[[1, 2], [1, 4], [1, 6]]"
      ]
     },
     "execution_count": 481,
     "metadata": {},
     "output_type": "execute_result"
    }
   ],
   "source": [
    "class Solution:\n",
    "    def kSmallestPairs(self, nums1, nums2, k):\n",
    "        m, n = len(nums1), len(nums2)\n",
    "        heap, res  = [] , []\n",
    "        vis = set()\n",
    "        heapq.heappush(heap, [nums1[0] + nums2[0], 0, 0])\n",
    "\n",
    "        while heap and len(res) <=k:\n",
    "            _, i, j = heapq.heappop(heap)\n",
    "            if (i,j) in vis:\n",
    "                continue\n",
    "            vis.add((i,j))\n",
    "            res.append([nums1[i], nums2[j]])\n",
    "            if len(res) == k:\n",
    "                break\n",
    "            if i +1 < m:\n",
    "                heapq.heappush(heap, [nums1[i + 1] + nums2[j], i + 1, j])\n",
    "            if j +1 < n:\n",
    "                heapq.heappush(heap, [nums1[i] + nums2[j + 1], i, j+ 1])\n",
    "        return res\n",
    "                \n",
    "            \n",
    "nums1 = [1,7,11]\n",
    "nums2 = [2,4,6]\n",
    "k = 3\n",
    "ans = Solution()\n",
    "ans.kSmallestPairs(nums1, nums2, k)"
   ]
  },
  {
   "cell_type": "markdown",
   "id": "fc98a1cc-7ba8-4503-9966-b650d4df3271",
   "metadata": {},
   "source": [
    "# 20 74. 搜索二维矩阵\n",
    "https://leetcode.cn/problems/search-a-2d-matrix/description/?envType=study-plan-v2&envId=top-interview-150 "
   ]
  },
  {
   "cell_type": "code",
   "execution_count": 486,
   "id": "ab1d1a75-1a33-44de-8523-f91e5f2e9b70",
   "metadata": {},
   "outputs": [
    {
     "data": {
      "text/plain": [
       "True"
      ]
     },
     "execution_count": 486,
     "metadata": {},
     "output_type": "execute_result"
    }
   ],
   "source": [
    "import numpy as np\n",
    "class Solution:\n",
    "    def searchMatrix(self, matrix, target):\n",
    "        s = np.array(matrix).flatten()\n",
    "        return target in s\n",
    "\n",
    "matrix = [[1,3,5,7],[10,11,16,20],[23,30,34,60]]\n",
    "target = 3\n",
    "ans = Solution()\n",
    "ans.searchMatrix(matrix, target)"
   ]
  },
  {
   "cell_type": "markdown",
   "id": "3522b9cd-aafa-44c2-b808-5ab6de14133b",
   "metadata": {},
   "source": [
    "# 21 162. 寻找峰值\n",
    "https://leetcode.cn/problems/find-peak-element/description/?envType=study-plan-v2&envId=top-interview-150"
   ]
  },
  {
   "cell_type": "code",
   "execution_count": 489,
   "id": "e8c401e4-482a-4830-842f-75cd3f54b914",
   "metadata": {},
   "outputs": [
    {
     "data": {
      "text/plain": [
       "2"
      ]
     },
     "execution_count": 489,
     "metadata": {},
     "output_type": "execute_result"
    }
   ],
   "source": [
    "class Solution:\n",
    "    def findPeakElement(self, nums):\n",
    "        return nums.index(max(nums))\n",
    "\n",
    "nums = [1,2,3,1]\n",
    "ans = Solution()\n",
    "ans.findPeakElement(nums)"
   ]
  },
  {
   "cell_type": "markdown",
   "id": "016a7f68-12da-4d86-aeac-463fda6276e1",
   "metadata": {},
   "source": [
    "# 23 33. 搜索旋转排序数组\n",
    "https://leetcode.cn/problems/search-in-rotated-sorted-array/description/?envType=study-plan-v2&envId=top-interview-150"
   ]
  },
  {
   "cell_type": "code",
   "execution_count": 493,
   "id": "2aba0017-23ae-42fb-a680-ac8e9cc78916",
   "metadata": {},
   "outputs": [
    {
     "data": {
      "text/plain": [
       "4"
      ]
     },
     "execution_count": 493,
     "metadata": {},
     "output_type": "execute_result"
    }
   ],
   "source": [
    "class Solution:\n",
    "    def search(self, nums, target):\n",
    "        if target in nums:\n",
    "            return nums.index(target)\n",
    "        else: \n",
    "            return -1\n",
    "\n",
    "nums = [4,5,6,7,0,1,2]\n",
    "target = 0\n",
    "ans = Solution()\n",
    "ans.search(nums, target)"
   ]
  },
  {
   "cell_type": "markdown",
   "id": "a2ec61f9-78e9-4b1f-84f8-4cc007b4a227",
   "metadata": {},
   "source": [
    "# 24  34. 在排序数组中查找元素的第一个和最后一个位置\n",
    "\n",
    "https://leetcode.cn/problems/find-first-and-last-position-of-element-in-sorted-array/description/?envType=study-plan-v2&envId=top-interview-150"
   ]
  },
  {
   "cell_type": "code",
   "execution_count": 514,
   "id": "b523c947-560f-4231-818e-b3afe3b549ab",
   "metadata": {},
   "outputs": [
    {
     "data": {
      "text/plain": [
       "[0, 0]"
      ]
     },
     "execution_count": 514,
     "metadata": {},
     "output_type": "execute_result"
    }
   ],
   "source": [
    "class Solution:\n",
    "    def searchRange(self, nums, target):\n",
    "        res = []\n",
    "        n = len(nums)\n",
    "        for i in range(n):\n",
    "            if nums[i] == target:\n",
    "                res.append(i)\n",
    "                break\n",
    "        if not res:\n",
    "            return [-1, -1]\n",
    "        for i in range(n -1 , 0, -1):\n",
    "            if nums[i] == target:\n",
    "                res.append(i)\n",
    "                break\n",
    "        if len(res) == 1:\n",
    "            return [0, 0]\n",
    "        return res\n",
    "            \n",
    "        \n",
    "nums = [1]\n",
    "target = 1\n",
    "ans = Solution()\n",
    "ans.searchRange(nums, target)"
   ]
  },
  {
   "cell_type": "markdown",
   "id": "a3e6ba32-480c-4ca0-84d3-e7f82b4add07",
   "metadata": {},
   "source": [
    "# 23 53. 最大子数组和\n",
    "https://leetcode.cn/problems/maximum-subarray/description/?envType=study-plan-v2&envId=top-interview-150"
   ]
  },
  {
   "cell_type": "code",
   "execution_count": 521,
   "id": "1e2af20f-2c2a-48d6-8220-57d34b359ccb",
   "metadata": {},
   "outputs": [
    {
     "data": {
      "text/plain": [
       "6"
      ]
     },
     "execution_count": 521,
     "metadata": {},
     "output_type": "execute_result"
    }
   ],
   "source": [
    "class Solution:\n",
    "    def maxSubArray(self, nums):\n",
    "        for i in range(1, len(nums)):\n",
    "            nums[i] = max(nums[i] + nums[i - 1], nums[i])\n",
    "        return max(nums)\n",
    "        \n",
    "nums = [-2,1,-3,4,-1,2,1,-5,4]\n",
    "ans = Solution()\n",
    "ans.maxSubArray(nums)"
   ]
  },
  {
   "cell_type": "markdown",
   "id": "09dc9cd5-34ed-43a2-adb5-c9fde6dd176f",
   "metadata": {},
   "source": [
    "# 25 153. 寻找旋转排序数组中的最小值\n",
    "https://leetcode.cn/problems/find-minimum-in-rotated-sorted-array/description/?envType=study-plan-v2&envId=top-interview-150"
   ]
  },
  {
   "cell_type": "code",
   "execution_count": 517,
   "id": "91bcede8-4cd8-45da-9454-b5703c6774c2",
   "metadata": {},
   "outputs": [
    {
     "data": {
      "text/plain": [
       "1"
      ]
     },
     "execution_count": 517,
     "metadata": {},
     "output_type": "execute_result"
    }
   ],
   "source": [
    "class Solution:\n",
    "    def findMin(self, nums):\n",
    "        return min(nums)\n",
    "\n",
    "nums = [3,4,5,1,2]\n",
    "ans = Solution()\n",
    "ans.findMin(nums)"
   ]
  },
  {
   "cell_type": "markdown",
   "id": "bf9f2491-2b63-4c57-b35f-18538f0f30dc",
   "metadata": {},
   "source": [
    "# 26 71. 简化路径\n",
    "https://leetcode.cn/problems/simplify-path/description/?envType=study-plan-v2&envId=top-interview-150"
   ]
  },
  {
   "cell_type": "code",
   "execution_count": 576,
   "id": "dec57b40-09ea-444e-90f2-4b0dc7025c18",
   "metadata": {},
   "outputs": [
    {
     "data": {
      "text/plain": [
       "'/'"
      ]
     },
     "execution_count": 576,
     "metadata": {},
     "output_type": "execute_result"
    }
   ],
   "source": [
    "class Solution:\n",
    "    def simplifyPath(self, path):\n",
    "        res = []\n",
    "        s = path.split(\"/\")\n",
    "        for i in s:\n",
    "            if not i or i == \".\":\n",
    "                continue\n",
    "            elif i == \"..\":\n",
    "                if res: res.pop()\n",
    "                if res: res.pop()\n",
    "            elif s[-1] !=\"/\":\n",
    "                res.append(\"/\")\n",
    "                res.append(i)\n",
    "            else:\n",
    "                res.append(i)               \n",
    "        if res:\n",
    "            if res[-1] == \"/\": res.pop()\n",
    "        else:\n",
    "            res = [\"/\"]\n",
    "        return \"\".join(res)\n",
    "                \n",
    "                \n",
    "        \n",
    "#path = \"/home//foo/\"\n",
    "#path = \"/home/\"\n",
    "#path = \"/home/user/Documents/../Pictures\"\n",
    "#path = \"/.../a/../b/c/../d/./\"\n",
    "path = \"/../\"\n",
    "ans = Solution()\n",
    "ans.simplifyPath(path)"
   ]
  },
  {
   "cell_type": "markdown",
   "id": "74f8d0bf-7356-4453-9ac8-8f4998e5b302",
   "metadata": {},
   "source": [
    "# 27 56. 合并区间\n",
    "https://leetcode.cn/problems/merge-intervals/description/?envType=study-plan-v2&envId=top-interview-150"
   ]
  },
  {
   "cell_type": "code",
   "execution_count": 615,
   "id": "011cf502-b40d-4683-b907-b242ba9f765a",
   "metadata": {},
   "outputs": [
    {
     "data": {
      "text/plain": [
       "[[1, 2], [3, 4], [5, 6], [7, 8]]"
      ]
     },
     "execution_count": 615,
     "metadata": {},
     "output_type": "execute_result"
    }
   ],
   "source": [
    "class Solution:\n",
    "    def merge(self, intervals):\n",
    "        intervals.sort()\n",
    "        res , temp = [], []\n",
    "        for i, j in intervals:\n",
    "            if not temp:\n",
    "                temp = [i, j]\n",
    "            elif i <= temp[-1]:\n",
    "                temp[1] = max(temp[1], j)\n",
    "            elif i > temp[-1]:\n",
    "                res.append(temp)\n",
    "                temp = [i, j]\n",
    "        res.append(temp)\n",
    "        return res\n",
    "\n",
    "intervals = [[1,3],[2,6],[8,10],[15,18]]\n",
    "intervals = [[1,4],[4,5]]\n",
    "intervals = [[1,4],[0,4]] #[[0, 4]]\n",
    "#intervals = [[1,4],[2,3]]  #[[1,4]\n",
    "intervals = [[1,2],[3,4],[5,6],[7,8]]\n",
    "ans = Solution()\n",
    "ans.merge(intervals)  "
   ]
  },
  {
   "cell_type": "markdown",
   "id": "c1a2f2d5-1e7e-44a2-be06-1516a9524996",
   "metadata": {},
   "source": [
    "# 28 57. 插入区间\n",
    "https://leetcode.cn/problems/insert-interval/description/?envType=study-plan-v2&envId=top-interview-150"
   ]
  },
  {
   "cell_type": "code",
   "execution_count": 608,
   "id": "b3e3854a-c418-48cd-b35c-ae0566b6fb4d",
   "metadata": {},
   "outputs": [
    {
     "data": {
      "text/plain": [
       "[[1, 5], [6, 9]]"
      ]
     },
     "execution_count": 608,
     "metadata": {},
     "output_type": "execute_result"
    }
   ],
   "source": [
    "class Solution:\n",
    "    def insert(self, intervals, newInterval):\n",
    "        intervals.append(newInterval)\n",
    "        intervals.sort()\n",
    "        res , temp = [], []\n",
    "        for i, j in intervals:\n",
    "            if not temp:\n",
    "                temp = [i, j]\n",
    "            elif i <= temp[-1]:\n",
    "                temp[1] = max(temp[1], j)\n",
    "            elif i > temp[-1]:\n",
    "                res.append(temp)\n",
    "                temp = [i, j]\n",
    "        res.append(temp)\n",
    "        return res\n",
    "                \n",
    "intervals = [[1,3],[6,9]]\n",
    "newInterval = [2,5]\n",
    "#intervals = [[1,2],[3,5],[6,7],[8,10],[12,16]]\n",
    "#newInterval = [4,8]\n",
    "ans = Solution()\n",
    "ans.insert(intervals, newInterval)"
   ]
  },
  {
   "cell_type": "markdown",
   "id": "1aca9ca3-226f-4b5b-a4fa-907bb7f9cff0",
   "metadata": {},
   "source": [
    "# 29 452. 用最少数量的箭引爆气球\n",
    "https://leetcode.cn/problems/minimum-number-of-arrows-to-burst-balloons/description/?envType=study-plan-v2&envId=top-interview-150"
   ]
  },
  {
   "cell_type": "code",
   "execution_count": 633,
   "id": "f5f51496-3635-4483-a0e7-0c38708f4cbe",
   "metadata": {},
   "outputs": [
    {
     "data": {
      "text/plain": [
       "4"
      ]
     },
     "execution_count": 633,
     "metadata": {},
     "output_type": "execute_result"
    }
   ],
   "source": [
    "class Solution:\n",
    "    def findMinArrowShots(self, points):\n",
    "        if not points: return 0\n",
    "        points.sort(key = lambda i: i[1])\n",
    "        res = 1\n",
    "        target = points[0][1]\n",
    "        for i, j in points:\n",
    "            if i > target:\n",
    "                target = j\n",
    "                res += 1\n",
    "        return res\n",
    "        \n",
    "            \n",
    "\n",
    "points = [[10,16],[2,8],[1,6],[7,12]]\n",
    "points = [[1,2],[3,4],[5,6],[7,8]]\n",
    "#points =  [[1,2],[2,3],[3,4],[4,5]]\n",
    "#points = [[9,12],[1,10],[4,11],[8,12],[3,9],[6,9],[6,7]] # 2\n",
    "ans = Solution()\n",
    "ans.findMinArrowShots(points)"
   ]
  },
  {
   "cell_type": "markdown",
   "id": "6f5a913a-9042-48d9-a320-6f655e35cc49",
   "metadata": {},
   "source": [
    "# 30 128. 最长连续序列\n",
    "https://leetcode.cn/problems/longest-consecutive-sequence/description/?envType=study-plan-v2&envId=top-interview-150"
   ]
  },
  {
   "cell_type": "code",
   "execution_count": 644,
   "id": "c6d3184d-a363-4364-af54-26baa17902ad",
   "metadata": {},
   "outputs": [
    {
     "data": {
      "text/plain": [
       "4"
      ]
     },
     "execution_count": 644,
     "metadata": {},
     "output_type": "execute_result"
    }
   ],
   "source": [
    "class Solution:\n",
    "    def longestConsecutive(self, nums):\n",
    "        if not nums: return 0\n",
    "        nums = set(nums)\n",
    "        nums = list(nums)\n",
    "        nums.sort()\n",
    "        res = []\n",
    "        temp = 1\n",
    "        for i in range(1, len(nums)):\n",
    "            if nums[i] == nums[i-1] +1:\n",
    "                temp += 1\n",
    "            else:\n",
    "                res.append(temp)\n",
    "                temp = 1\n",
    "        res.append(temp)\n",
    "        return max(res)\n",
    "\n",
    "nums = [100,4,200,1,3,2]\n",
    "#nums = [0,3,7,2,5,8,4,6,0,1]\n",
    "ans = Solution()\n",
    "ans.longestConsecutive(nums)"
   ]
  },
  {
   "cell_type": "markdown",
   "id": "289e413f-7f2c-4e0a-876e-6c01b3238e40",
   "metadata": {},
   "source": [
    "# 31 41. 缺失的第一个正数\n",
    "https://leetcode.cn/problems/first-missing-positive/description/"
   ]
  },
  {
   "cell_type": "code",
   "execution_count": 659,
   "id": "6b3e0034-c7a5-4640-a085-8c90fd6fa70f",
   "metadata": {},
   "outputs": [
    {
     "data": {
      "text/plain": [
       "3"
      ]
     },
     "execution_count": 659,
     "metadata": {},
     "output_type": "execute_result"
    }
   ],
   "source": [
    "class Solution:\n",
    "    def firstMissingPositive(self, nums):\n",
    "        nums =list(set(nums))\n",
    "        nums.sort()\n",
    "        if 1 not in nums:\n",
    "            return 1\n",
    "        nums = nums[nums.index(1):]\n",
    "        for i in range(len(nums)):\n",
    "            if i + 1 != nums[i]:\n",
    "                return i + 1\n",
    "        return nums[-1] + 1\n",
    "                \n",
    "nums = [3,4,-1,1]\n",
    "nums = [7,8,9,11,12]\n",
    "nums = [1,2,0]\n",
    "nums = [0,2,2,1,1]\n",
    "ans = Solution()\n",
    "ans.firstMissingPositive(nums)"
   ]
  },
  {
   "cell_type": "markdown",
   "id": "4e011cff-e3af-4509-8275-3f3ebfa723ee",
   "metadata": {},
   "source": [
    "# 32 36. 有效的数独\n",
    "https://leetcode.cn/problems/valid-sudoku/description/"
   ]
  },
  {
   "cell_type": "code",
   "execution_count": 705,
   "id": "43c7c14c-c147-4314-960a-70e60749f655",
   "metadata": {},
   "outputs": [
    {
     "data": {
      "text/plain": [
       "True"
      ]
     },
     "execution_count": 705,
     "metadata": {},
     "output_type": "execute_result"
    }
   ],
   "source": [
    "from collections import Counter\n",
    "import numpy as np\n",
    "class Solution:\n",
    "    def isValidSudoku(self, board):\n",
    "        def check(s):\n",
    "            m = Counter(s)\n",
    "            m[\".\"] = 1\n",
    "            k = list(set(m.values()))\n",
    "            if len(k) == 1 and k[0] == 1:\n",
    "                return True\n",
    "            else:\n",
    "                return False\n",
    "                \n",
    "        b_array = np.array(board)\n",
    "        for i in b_array:\n",
    "            if not check(i):\n",
    "                return False\n",
    "        for i in b_array.T:\n",
    "            if not check(i):\n",
    "                return False\n",
    "        m, n = b_array.shape\n",
    "        for i in [0, 3, 6]:\n",
    "            for j in [0, 3, 6]:\n",
    "                t = b_array[i: i + 3, j: j + 3]\n",
    "                s = t.flatten()\n",
    "                if not check(s):\n",
    "                    return False\n",
    "        return True\n",
    "\n",
    "\n",
    "board = [[\"5\",\"3\",\".\",\".\",\"7\",\".\",\".\",\".\",\".\"]\n",
    ",[\"6\",\".\",\".\",\"1\",\"9\",\"5\",\".\",\".\",\".\"]\n",
    ",[\".\",\"9\",\"8\",\".\",\".\",\".\",\".\",\"6\",\".\"]\n",
    ",[\"8\",\".\",\".\",\".\",\"6\",\".\",\".\",\".\",\"3\"]\n",
    ",[\"4\",\".\",\".\",\"8\",\".\",\"3\",\".\",\".\",\"1\"]\n",
    ",[\"7\",\".\",\".\",\".\",\"2\",\".\",\".\",\".\",\"6\"]\n",
    ",[\".\",\"6\",\".\",\".\",\".\",\".\",\"2\",\"8\",\".\"]\n",
    ",[\".\",\".\",\".\",\"4\",\"1\",\"9\",\".\",\".\",\"5\"]\n",
    ",[\".\",\".\",\".\",\".\",\"8\",\".\",\".\",\"7\",\"9\"]]\n",
    "ans = Solution()\n",
    "ans.isValidSudoku(board)\n"
   ]
  },
  {
   "cell_type": "markdown",
   "id": "18a6ff1f-46c6-43f2-8919-ca0e8d6be0ea",
   "metadata": {},
   "source": [
    "# 33 165. 比较版本号\n",
    "https://leetcode.cn/problems/compare-version-numbers/description/"
   ]
  },
  {
   "cell_type": "code",
   "execution_count": 730,
   "id": "a61d2b16-ab93-410c-b6f6-4416d6ef1286",
   "metadata": {},
   "outputs": [
    {
     "data": {
      "text/plain": [
       "1"
      ]
     },
     "execution_count": 730,
     "metadata": {},
     "output_type": "execute_result"
    }
   ],
   "source": [
    "class Solution:\n",
    "    def compareVersion(self, version1, version2):\n",
    "        v1, v2  = [int(i) for i in version1.split(\".\")], [int(i) for i in version2.split(\".\")]\n",
    "        l1, l2 = len(v1), len(v2)\n",
    "        if l1 > l2: v2 = v2 + [0] * (l1 - l2)\n",
    "        if l2 > l1: v1 = v1 + [0] * (l2 - l1)\n",
    "        if v1 == v2:\n",
    "            return 0\n",
    "        for i, j in zip(v1, v2):\n",
    "            if i > j:\n",
    "                return 1\n",
    "            elif i < j:\n",
    "                return -1\n",
    "            \n",
    "\n",
    "version1 = \"1.2\"\n",
    "version2 = \"1.10.1.2\"\n",
    "version1 = \"1.01\"\n",
    "version2 = \"1.001\"\n",
    "version1 = \"1.0\"\n",
    "version2 = \"1.0.0.0\"\n",
    "version1 = \"1.0.1\"\n",
    "version2 = \"1\"  # 1\n",
    "ans = Solution()\n",
    "ans.compareVersion(version1, version2)"
   ]
  },
  {
   "cell_type": "markdown",
   "id": "f4863f7e-b3b7-4e13-a9cb-49b1c150b432",
   "metadata": {},
   "source": [
    "# 34 164. 最大间距 \n",
    "https://leetcode.cn/problems/maximum-gap/description/"
   ]
  },
  {
   "cell_type": "code",
   "execution_count": 739,
   "id": "94489d9d-e2d1-4e09-ae41-63f48288dbdd",
   "metadata": {},
   "outputs": [
    {
     "data": {
      "text/plain": [
       "3"
      ]
     },
     "execution_count": 739,
     "metadata": {},
     "output_type": "execute_result"
    }
   ],
   "source": [
    "import numpy as np\n",
    "class Solution:\n",
    "    def maximumGap(self, nums):\n",
    "        if len(nums) < 2:\n",
    "            return 0            \n",
    "        a = np.array(nums)\n",
    "        a.sort()\n",
    "        s1 = a[:-1]\n",
    "        s2 = a[1: ]\n",
    "        return int(max(s2 -s1))\n",
    "        \n",
    "        \n",
    "\n",
    "nums = [3,6,9,1]\n",
    "ans = Solution()\n",
    "ans.maximumGap(nums)"
   ]
  },
  {
   "cell_type": "markdown",
   "id": "c78cf9a2-a053-427d-9681-15abf0f74f6a",
   "metadata": {},
   "source": [
    "# 35 167. 两数之和 II - 输入有序数组\n",
    "https://leetcode.cn/problems/two-sum-ii-input-array-is-sorted/description/"
   ]
  },
  {
   "cell_type": "code",
   "execution_count": 760,
   "id": "66810a7d-4860-48eb-814e-9bc958fdfd35",
   "metadata": {},
   "outputs": [
    {
     "data": {
      "text/plain": [
       "[1, 2]"
      ]
     },
     "execution_count": 760,
     "metadata": {},
     "output_type": "execute_result"
    }
   ],
   "source": [
    "from itertools import combinations\n",
    "class Solution:\n",
    "    def twoSum(self, numbers, target):\n",
    "        s = combinations(numbers, 2)\n",
    "        for i in s:\n",
    "            if sum(i) == target:\n",
    "                i = list(i)\n",
    "                sorted(i)\n",
    "                a = numbers.index(i[0])\n",
    "                b = numbers.index(i[1], a + 1)\n",
    "                return [a+1, b+1]\n",
    "                \n",
    "numbers = [2,7,11,15]\n",
    "target = 9\n",
    "#numbers = [2,3,4]\n",
    "#target = 6\n",
    "#numbers = [-1,0]\n",
    "#target = -1\n",
    "#numbers = [0,0,3,4]\n",
    "#target = 0\n",
    "ans = Solution()\n",
    "ans.twoSum(numbers, target)"
   ]
  },
  {
   "cell_type": "code",
   "execution_count": 765,
   "id": "63bd9d85-dccc-43f2-9860-9e2d3e1a4e37",
   "metadata": {},
   "outputs": [
    {
     "data": {
      "text/plain": [
       "(1, 2)"
      ]
     },
     "execution_count": 765,
     "metadata": {},
     "output_type": "execute_result"
    }
   ],
   "source": [
    "class Solution:\n",
    "    def twoSum(self, numbers, target):\n",
    "        i, j = 0, len(numbers) -1\n",
    "        while i < j:\n",
    "            s = numbers[i] + numbers[j]\n",
    "            if s > target:  j -= 1\n",
    "            elif s < target: i += 1\n",
    "            else: return i + 1, j + 1\n",
    "        return []\n",
    "                \n",
    "numbers = [2,7,11,15]\n",
    "target = 9\n",
    "numbers = [2,3,4]\n",
    "target = 6\n",
    "numbers = [-1,0]\n",
    "target = -1\n",
    "numbers = [0,0,3,4]\n",
    "target = 0\n",
    "ans = Solution()\n",
    "ans.twoSum(numbers, target)"
   ]
  },
  {
   "cell_type": "markdown",
   "id": "161cd2d4-6226-4403-bb40-fd85041f3fa2",
   "metadata": {},
   "source": [
    "# 36 229. 多数元素 II\n",
    "https://leetcode.cn/problems/majority-element-ii/description/"
   ]
  },
  {
   "cell_type": "code",
   "execution_count": 773,
   "id": "b1385b8f-15bb-43e9-8c8d-6e146cd41690",
   "metadata": {},
   "outputs": [
    {
     "data": {
      "text/plain": [
       "[3]"
      ]
     },
     "execution_count": 773,
     "metadata": {},
     "output_type": "execute_result"
    }
   ],
   "source": [
    "from collections import Counter\n",
    "class Solution:\n",
    "    def majorityElement(self, nums):\n",
    "        n = len(nums)\n",
    "        res = []\n",
    "        s = Counter(nums)\n",
    "        for i in s:\n",
    "            if s[i] > n/3:\n",
    "                res.append(i)\n",
    "        return res\n",
    "        \n",
    "        \n",
    "nums = [1,2]\n",
    "nums = [1]\n",
    "nums = [3,2,3]\n",
    "ans = Solution()\n",
    "ans.majorityElement(nums)"
   ]
  },
  {
   "cell_type": "markdown",
   "id": "15caab62-6e82-4285-ada5-0f82b152a8ac",
   "metadata": {},
   "source": [
    "# 37 260. 只出现一次的数字 III\n",
    "\n",
    "https://leetcode.cn/problems/single-number-iii/description/"
   ]
  },
  {
   "cell_type": "code",
   "execution_count": null,
   "id": "4b166554-4373-4a01-a724-f8782ddd7b27",
   "metadata": {},
   "outputs": [],
   "source": [
    "from collections import Counter\n",
    "class Solution:\n",
    "    def singleNumber(self, nums):\n",
    "        s = Counter(nums)\n",
    "        res = []\n",
    "        for i in s:\n",
    "            if s[i] == 1:\n",
    "                res.append(i)\n",
    "        return res\n"
   ]
  },
  {
   "cell_type": "markdown",
   "id": "e5a3d60a-97b4-490d-a92b-543cfe8cbd20",
   "metadata": {},
   "source": [
    "# 38  1828. 统计一个圆中点的数目\n",
    "\n",
    "https://leetcode.cn/problems/queries-on-number-of-points-inside-a-circle/description/"
   ]
  },
  {
   "cell_type": "code",
   "execution_count": 785,
   "id": "92dda619-e697-4fd2-8cc5-7c25f04cc775",
   "metadata": {},
   "outputs": [
    {
     "data": {
      "text/plain": [
       "[2, 3, 2, 4]"
      ]
     },
     "execution_count": 785,
     "metadata": {},
     "output_type": "execute_result"
    }
   ],
   "source": [
    "import numpy as np\n",
    "class Solution:\n",
    "    def countPoints(self, points, queries):\n",
    "        def dist(a, b):\n",
    "            d = np.sqrt((a[0] - b[0]) ** 2 + (a[1] - b[1]) ** 2)\n",
    "            return d\n",
    "        res = []\n",
    "        for i in queries:\n",
    "            ans = 0\n",
    "            r = i[2]\n",
    "            for j in points:\n",
    "                if dist(i[:2], j) <= r:\n",
    "                    ans += 1\n",
    "            res.append(ans)\n",
    "        return res\n",
    "\n",
    "points = [[1,3],[3,3],[5,3],[2,2]]\n",
    "queries = [[2,3,1],[4,3,1],[1,1,2]]\n",
    "points = [[1,1],[2,2],[3,3],[4,4],[5,5]]\n",
    "queries = [[1,2,2],[2,2,2],[4,3,2],[4,3,3]]\n",
    "ans = Solution()\n",
    "ans.countPoints(points, queries)"
   ]
  },
  {
   "cell_type": "markdown",
   "id": "ec57995e-e725-444c-9845-5e0d4344aa42",
   "metadata": {},
   "source": [
    "# 39 2396. 严格回文的数字\n",
    "https://leetcode.cn/problems/strictly-palindromic-number/description/"
   ]
  },
  {
   "cell_type": "code",
   "execution_count": 793,
   "id": "c775a066-bc2b-4462-800e-be4436e37854",
   "metadata": {},
   "outputs": [],
   "source": [
    "class Solution:\n",
    "    def isStrictlyPalindromic(self, n):\n",
    "        return False"
   ]
  },
  {
   "cell_type": "markdown",
   "id": "8eb8caf2-ba8b-4448-a672-1d8ec12edc26",
   "metadata": {},
   "source": [
    "# 40 1769. 移动所有球到每个盒子所需的最小操作数\n",
    "\n",
    "https://leetcode.cn/problems/minimum-number-of-operations-to-move-all-balls-to-each-box/description/"
   ]
  },
  {
   "cell_type": "code",
   "execution_count": 799,
   "id": "1f108c45-9070-440c-8fc6-07aa594ec491",
   "metadata": {},
   "outputs": [
    {
     "data": {
      "text/plain": [
       "[11, 8, 5, 4, 3, 4]"
      ]
     },
     "execution_count": 799,
     "metadata": {},
     "output_type": "execute_result"
    }
   ],
   "source": [
    "class Solution:\n",
    "    def minOperations(self, boxes):\n",
    "        s = [int(i) for i in boxes]\n",
    "        res = []\n",
    "        for i in range(len(s)):\n",
    "            temp = 0\n",
    "            for j in range(len(s)):\n",
    "                if i != j:\n",
    "                    temp += s[j] * abs(j - i)\n",
    "            res.append(temp)\n",
    "        return res\n",
    "\n",
    "boxes = \"110\"\n",
    "boxes = \"001011\"\n",
    "ans = Solution()\n",
    "ans.minOperations(boxes)"
   ]
  },
  {
   "cell_type": "markdown",
   "id": "576a4ea9-56be-4125-bcbd-d8fcaa6fe110",
   "metadata": {},
   "source": [
    "# 41 2545. 根据第 K 场考试的分数排序\n",
    "https://leetcode.cn/problems/sort-the-students-by-their-kth-score/description/"
   ]
  },
  {
   "cell_type": "code",
   "execution_count": 826,
   "id": "e2b39922-7c70-42fd-8341-15c5ee860fd4",
   "metadata": {},
   "outputs": [
    {
     "data": {
      "text/plain": [
       "[[5, 6], [3, 4]]"
      ]
     },
     "execution_count": 826,
     "metadata": {},
     "output_type": "execute_result"
    }
   ],
   "source": [
    "import numpy as np\n",
    "class Solution:\n",
    "    def sortTheStudents(self, score, k):\n",
    "        arr = np.array(score)\n",
    "        new_arr=arr[np.argsort(arr[:,k])]\n",
    "        return new_arr[::-1].tolist()\n",
    "\n",
    "score = [[10,6,9,1],[7,5,11,2],[4,8,3,15]]\n",
    "k = 2\n",
    "score = [[3,4],[5,6]]\n",
    "k = 0\n",
    "ans = Solution()\n",
    "ans.sortTheStudents(score, k)"
   ]
  },
  {
   "cell_type": "markdown",
   "id": "9a16d68a-5c5b-431a-bbf6-742d3a367187",
   "metadata": {},
   "source": [
    "# 42 2433. 找出前缀异或的原始数组\n",
    "https://leetcode.cn/problems/find-the-original-array-of-prefix-xor/description/"
   ]
  },
  {
   "cell_type": "code",
   "execution_count": 839,
   "id": "250cd785-eebd-494c-b89b-347e2e94330d",
   "metadata": {},
   "outputs": [
    {
     "data": {
      "text/plain": [
       "[13]"
      ]
     },
     "execution_count": 839,
     "metadata": {},
     "output_type": "execute_result"
    }
   ],
   "source": [
    "class Solution:\n",
    "    def findArray(self, pref):\n",
    "        res = [pref[0]]\n",
    "        for i in range(1, len(pref)):\n",
    "            print(res[-1], pref[i])\n",
    "            res.append(pref[i] ^ pref[i-1])\n",
    "        return res\n",
    "\n",
    "pref = [5,2,0,3,1]\n",
    "pref = [13]\n",
    "ans = Solution()\n",
    "ans.findArray(pref)"
   ]
  },
  {
   "cell_type": "markdown",
   "id": "6ea27508-6198-4776-9d7b-3cd9d9fc1e9a",
   "metadata": {},
   "source": [
    "# 43 LCR 079. 子集\n",
    "https://leetcode.cn/problems/TVdhkn/description/"
   ]
  },
  {
   "cell_type": "code",
   "execution_count": 844,
   "id": "70bed729-5aa4-470f-ac7c-d72c4c7fa23c",
   "metadata": {},
   "outputs": [
    {
     "data": {
      "text/plain": [
       "[[], [1], [2], [3], [1, 2], [1, 3], [2, 3], [1, 2, 3]]"
      ]
     },
     "execution_count": 844,
     "metadata": {},
     "output_type": "execute_result"
    }
   ],
   "source": [
    "from itertools import combinations\n",
    "class Solution:\n",
    "    def subsets(self, nums):\n",
    "        res = [[]]\n",
    "        for i in range(1, len(nums) + 1):\n",
    "            for j in combinations(nums, i):\n",
    "                res.append(list(j))\n",
    "        return res\n",
    "        \n",
    "nums = [1,2,3]\n",
    "ans = Solution()\n",
    "ans.subsets(nums)"
   ]
  },
  {
   "cell_type": "markdown",
   "id": "098a1c51-2761-442f-a32a-6feb871c1ce5",
   "metadata": {},
   "source": [
    "# 44 LCR 080. 组合\n",
    "https://leetcode.cn/problems/uUsW3B/"
   ]
  },
  {
   "cell_type": "code",
   "execution_count": 850,
   "id": "aea7cef9-1c99-417b-86a4-898eb2e6fae3",
   "metadata": {},
   "outputs": [
    {
     "data": {
      "text/plain": [
       "[[1, 2], [1, 3], [1, 4], [2, 3], [2, 4], [3, 4]]"
      ]
     },
     "execution_count": 850,
     "metadata": {},
     "output_type": "execute_result"
    }
   ],
   "source": [
    "from itertools import combinations\n",
    "class Solution:\n",
    "    def combine(self, n, k):\n",
    "        s = combinations(range(1, n+ 1), k)\n",
    "        res = []\n",
    "        for i in s:\n",
    "            res.append(list(i))\n",
    "        return res\n",
    "\n",
    "n = 4\n",
    "k = 2\n",
    "ans = Solution()\n",
    "ans.combine(n, k)  "
   ]
  },
  {
   "cell_type": "markdown",
   "id": "2f738349-b705-44c6-8233-31ef1432cd8f",
   "metadata": {},
   "source": [
    "# 45  LCR 083. 全排列\n",
    "https://leetcode.cn/problems/VvJkup/description/"
   ]
  },
  {
   "cell_type": "code",
   "execution_count": 857,
   "id": "ad9e7953-8c61-4027-85cd-796e2b4d61c7",
   "metadata": {},
   "outputs": [
    {
     "data": {
      "text/plain": [
       "[[1, 2, 3], [1, 3, 2], [2, 1, 3], [2, 3, 1], [3, 1, 2], [3, 2, 1]]"
      ]
     },
     "execution_count": 857,
     "metadata": {},
     "output_type": "execute_result"
    }
   ],
   "source": [
    "from itertools import permutations\n",
    "class Solution:\n",
    "    def permute(self, nums):\n",
    "        s = permutations(nums)\n",
    "        res = [list(i) for i in s]\n",
    "        return res\n",
    "        \n",
    "nums = [1,2,3]\n",
    "ans = Solution()\n",
    "ans.permute(nums)    "
   ]
  },
  {
   "cell_type": "markdown",
   "id": "0f583275-8287-479d-bff1-16744ba7cfda",
   "metadata": {},
   "source": [
    "# 46 2610. 转换二维数组\n",
    "https://leetcode.cn/problems/convert-an-array-into-a-2d-array-with-conditions/description/"
   ]
  },
  {
   "cell_type": "code",
   "execution_count": 868,
   "id": "0b6a1bfd-d720-44e2-a4ed-1d21b793298b",
   "metadata": {},
   "outputs": [
    {
     "data": {
      "text/plain": [
       "[[1, 2, 3, 4]]"
      ]
     },
     "execution_count": 868,
     "metadata": {},
     "output_type": "execute_result"
    }
   ],
   "source": [
    "class Solution:\n",
    "    def findMatrix(self, nums):\n",
    "        s = Counter(nums)\n",
    "        n = len(nums)\n",
    "        res = []\n",
    "        while n:\n",
    "            temp = []\n",
    "            for i in s:\n",
    "                if s[i] > 0:\n",
    "                    temp.append(i)\n",
    "                    s[i] -= 1\n",
    "                    n -= 1\n",
    "            res.append(temp)\n",
    "        return res\n",
    "            \n",
    "        \n",
    "nums = [1,3,4,1,2,3,1]\n",
    "nums = [1,2,3,4]\n",
    "ans = Solution()\n",
    "ans.findMatrix(nums)   "
   ]
  },
  {
   "cell_type": "markdown",
   "id": "1f851115-820f-460e-8ee1-da6c8deafa26",
   "metadata": {},
   "source": [
    "# 47 面试题 08.07. 无重复字符串的排列组合\n",
    "https://leetcode.cn/problems/permutation-i-lcci/description/"
   ]
  },
  {
   "cell_type": "code",
   "execution_count": null,
   "id": "c5145226-143c-4cd1-b75f-b25506109d61",
   "metadata": {},
   "outputs": [],
   "source": [
    "from itertools import permutations\n",
    "class Solution:\n",
    "    def permutation(self, S\n",
    "        s = permutations(nums)\n",
    "        res = [list(i) for i in s]\n",
    "        return res"
   ]
  },
  {
   "cell_type": "markdown",
   "id": "fbbc356e-ecd1-46ef-97b4-27622fb407fc",
   "metadata": {},
   "source": [
    "# 48 50. Pow(x, n)\n",
    "https://leetcode.cn/problems/powx-n/description/"
   ]
  },
  {
   "cell_type": "code",
   "execution_count": 884,
   "id": "12a94926-9d80-445e-a65d-f9060ee18270",
   "metadata": {},
   "outputs": [
    {
     "data": {
      "text/plain": [
       "0.25"
      ]
     },
     "execution_count": 884,
     "metadata": {},
     "output_type": "execute_result"
    }
   ],
   "source": [
    "# Timeout\n",
    "class Solution:\n",
    "    def myPow(self, x, n):\n",
    "        res = 1\n",
    "        if n > 0:\n",
    "            for i in range(1, n + 1):\n",
    "                res *= x\n",
    "            return res\n",
    "        elif n == 0:\n",
    "            return 1\n",
    "        else:\n",
    "            for i in range(1, -n + 1):\n",
    "                res *= x\n",
    "            return float(1/res)\n",
    "\n",
    "x = 2.00000\n",
    "n = 10\n",
    "x = 2.10000\n",
    "n = 3\n",
    "x = 2.00000\n",
    "n = -2\n",
    "ans = Solution()\n",
    "ans.myPow(x, n)   "
   ]
  },
  {
   "cell_type": "markdown",
   "id": "505006d3-c5d1-49bf-8e13-9e1670d28d0a",
   "metadata": {},
   "source": [
    "# 49 240. 搜索二维矩阵 II\n",
    "https://leetcode.cn/problems/search-a-2d-matrix-ii/description/"
   ]
  },
  {
   "cell_type": "code",
   "execution_count": 893,
   "id": "9ddf42bd-b99f-4cb5-a3a5-d35f35c202d0",
   "metadata": {},
   "outputs": [
    {
     "data": {
      "text/plain": [
       "True"
      ]
     },
     "execution_count": 893,
     "metadata": {},
     "output_type": "execute_result"
    }
   ],
   "source": [
    "class Solution:\n",
    "    def searchMatrix(self, matrix: List[List[int]], target: int) -> bool:\n",
    "        for i in matrix:\n",
    "            if target in i:\n",
    "                return True\n",
    "        return False"
   ]
  },
  {
   "cell_type": "markdown",
   "id": "7632a7fc-f0f0-45c5-9661-2a7612268276",
   "metadata": {},
   "source": [
    "# 50 378. 有序矩阵中第 K 小的元素\n",
    "\n",
    "https://leetcode.cn/problems/kth-smallest-element-in-a-sorted-matrix/description/"
   ]
  },
  {
   "cell_type": "code",
   "execution_count": 915,
   "id": "14ec9113-7fc2-45eb-bf41-ba32892427ee",
   "metadata": {},
   "outputs": [
    {
     "data": {
      "text/plain": [
       "-5"
      ]
     },
     "execution_count": 915,
     "metadata": {},
     "output_type": "execute_result"
    }
   ],
   "source": [
    "class Solution:\n",
    "    def kthSmallest(self, matrix, k):\n",
    "        s = []\n",
    "        for i in matrix:\n",
    "            for j in i:\n",
    "                s.append(j)\n",
    "        s.sort()\n",
    "        return s[k-1]\n",
    "\n",
    "matrix = [[1,5,9],[10,11,13],[12,13,15]]\n",
    "k = 8\n",
    "matrix = [[-5]]\n",
    "k = 1\n",
    "ans = Solution()\n",
    "ans.kthSmallest(matrix, k) "
   ]
  },
  {
   "cell_type": "markdown",
   "id": "0839e61b-4136-4b13-9650-eab01388dfc0",
   "metadata": {},
   "source": [
    "# 51 365. 水壶问题\n",
    "\n",
    "https://leetcode.cn/problems/water-and-jug-problem/description/"
   ]
  },
  {
   "cell_type": "code",
   "execution_count": 922,
   "id": "f0e5129e-d306-4756-9adf-326b67bcf7c3",
   "metadata": {},
   "outputs": [
    {
     "data": {
      "text/plain": [
       "False"
      ]
     },
     "execution_count": 922,
     "metadata": {},
     "output_type": "execute_result"
    }
   ],
   "source": [
    "from math import gcd\n",
    "class Solution:\n",
    "    def canMeasureWater(self, x, y , target):\n",
    "        if target > x + y:\n",
    "            return False\n",
    "        s = gcd(x, y)\n",
    "        return target % s == 0\n",
    "        \n",
    "x = 3\n",
    "y = 5\n",
    "target = 4\n",
    "x = 2\n",
    "y = 6\n",
    "target = 5\n",
    "ans = Solution()\n",
    "ans.canMeasureWater(x, y, target)"
   ]
  },
  {
   "cell_type": "markdown",
   "id": "4bafcb05-394f-472f-8a5a-449a0b10764b",
   "metadata": {},
   "source": [
    "# 52 1689. 十-二进制数的最少数目\n",
    "\n",
    "https://leetcode.cn/problems/partitioning-into-minimum-number-of-deci-binary-numbers/submissions/151968465/"
   ]
  },
  {
   "cell_type": "code",
   "execution_count": 924,
   "id": "b5e307da-9119-460a-8a6b-482aa55eac60",
   "metadata": {},
   "outputs": [
    {
     "data": {
      "text/plain": [
       "9"
      ]
     },
     "execution_count": 924,
     "metadata": {},
     "output_type": "execute_result"
    }
   ],
   "source": [
    "class Solution:\n",
    "    def minPartitions(self, n):\n",
    "        return int(max(n))\n",
    "\n",
    "n = \"27346209830709182346\"\n",
    "ans = Solution()\n",
    "ans.minPartitions(n)"
   ]
  },
  {
   "cell_type": "markdown",
   "id": "1be57873-6bf7-4646-9099-f9835c347789",
   "metadata": {},
   "source": [
    "# 53 1282. 用户分组\n",
    "https://leetcode.cn/problems/group-the-people-given-the-group-size-they-belong-to/description/"
   ]
  },
  {
   "cell_type": "code",
   "execution_count": 940,
   "id": "fadf2c0c-9bda-4448-a892-31da5d02d7d3",
   "metadata": {},
   "outputs": [
    {
     "data": {
      "text/plain": [
       "[[0, 5], [1], [2, 3, 4]]"
      ]
     },
     "execution_count": 940,
     "metadata": {},
     "output_type": "execute_result"
    }
   ],
   "source": [
    "import numpy as np\n",
    "from collections import defaultdict\n",
    "class Solution:\n",
    "    def groupThePeople(self, groupSizes):\n",
    "        s = defaultdict(list)\n",
    "        for i in range(len(groupSizes)):\n",
    "            s[groupSizes[i]].append(i)\n",
    "        res = []\n",
    "        for i in s:\n",
    "            x = np.array(s[i]).reshape(len(s[i])//i, i)\n",
    "            for j in x:\n",
    "                res.append(j.tolist())\n",
    "        return res\n",
    "\n",
    "groupSizes = [3,3,3,3,3,1,3]\n",
    "groupSizes = [2,1,3,3,3,2]\n",
    "ans = Solution()\n",
    "ans.groupThePeople(groupSizes)"
   ]
  },
  {
   "cell_type": "markdown",
   "id": "24f6ff3b-5f82-4982-9c46-c2d5c1e3f65c",
   "metadata": {},
   "source": [
    "# 54 LCR 189. 设计机械累加器\n",
    "https://leetcode.cn/problems/qiu-12n-lcof/description/"
   ]
  },
  {
   "cell_type": "code",
   "execution_count": 943,
   "id": "b728b8df-b9dc-4066-9b34-ddf643a3876d",
   "metadata": {},
   "outputs": [
    {
     "data": {
      "text/plain": [
       "15"
      ]
     },
     "execution_count": 943,
     "metadata": {},
     "output_type": "execute_result"
    }
   ],
   "source": [
    "class Solution:\n",
    "    def mechanicalAccumulator(self, target):\n",
    "        return target and target + self.mechanicalAccumulator(target - 1)\n",
    "\n",
    "target = 5\n",
    "ans = Solution()\n",
    "ans.mechanicalAccumulator(target)"
   ]
  },
  {
   "cell_type": "markdown",
   "id": "dd6a70b4-71e9-47ea-b7f5-419af8bd6873",
   "metadata": {},
   "source": [
    "# 55 2482. 行和列中一和零的差值\n",
    "\n",
    "https://leetcode.cn/problems/difference-between-ones-and-zeros-in-row-and-column/description/"
   ]
  },
  {
   "cell_type": "code",
   "execution_count": 989,
   "id": "8311215b-72ff-437c-8172-0dd87dcb8584",
   "metadata": {},
   "outputs": [
    {
     "data": {
      "text/plain": [
       "[[5, 5, 5], [5, 5, 5]]"
      ]
     },
     "execution_count": 989,
     "metadata": {},
     "output_type": "execute_result"
    }
   ],
   "source": [
    "import numpy as np\n",
    "class Solution:\n",
    "    def onesMinusZeros(self, grid):\n",
    "        s = np.array(grid)\n",
    "        r, c = s.shape\n",
    "        oneCol = s.sum(axis=0)\n",
    "        zeroCol = r - oneCol \n",
    "        oneRow = s.sum(axis=1)\n",
    "        zeroRow = c - oneRow\n",
    "        res = grid.copy()\n",
    "        for i in range(r):\n",
    "            for j in range(c):\n",
    "                res[i][j] = int(oneRow[i] + oneCol[j] - zeroRow[i] - zeroCol[j])\n",
    "        return res\n",
    "\n",
    "grid = [[0,1,1],[1,0,1],[0,0,1]]\n",
    "grid = [[1,1,1],[1,1,1]]\n",
    "ans = Solution()\n",
    "ans.onesMinusZeros(grid)"
   ]
  },
  {
   "cell_type": "markdown",
   "id": "216559f3-dae0-432e-8329-c5b8044e09b5",
   "metadata": {},
   "source": [
    "# 56 2161. 根据给定数字划分数组\n",
    "\n",
    "https://leetcode.cn/problems/partition-array-according-to-given-pivot/description/"
   ]
  },
  {
   "cell_type": "code",
   "execution_count": 993,
   "id": "df0b48be-05cf-409c-8025-6127190365d5",
   "metadata": {},
   "outputs": [
    {
     "data": {
      "text/plain": [
       "[-3, 2, 4, 3]"
      ]
     },
     "execution_count": 993,
     "metadata": {},
     "output_type": "execute_result"
    }
   ],
   "source": [
    "class Solution:\n",
    "    def pivotArray(self, nums, pivot):\n",
    "        left, middle, right = [], [], []\n",
    "        for i in nums:\n",
    "            if i < pivot:\n",
    "                left.append(i)\n",
    "            elif i == pivot:\n",
    "                middle.append(i)\n",
    "            elif i > pivot:\n",
    "                right.append(i)\n",
    "        return left + middle + right\n",
    "\n",
    "nums = [9,12,5,10,14,3,10]\n",
    "pivot = 10\n",
    "nums = [-3,4,3,2]\n",
    "pivot = 2\n",
    "ans = Solution()\n",
    "ans.pivotArray(nums, pivot)"
   ]
  },
  {
   "cell_type": "markdown",
   "id": "4478cbce-e49c-414a-9445-829b7a5b9c9b",
   "metadata": {},
   "source": [
    "# 57  78. 子集\n",
    "https://leetcode.cn/problems/subsets/description/"
   ]
  },
  {
   "cell_type": "code",
   "execution_count": 997,
   "id": "2a7a9d4a-bd40-4619-9bc3-168b981987b2",
   "metadata": {},
   "outputs": [
    {
     "data": {
      "text/plain": [
       "[[], [0]]"
      ]
     },
     "execution_count": 997,
     "metadata": {},
     "output_type": "execute_result"
    }
   ],
   "source": [
    "from itertools import combinations\n",
    "class Solution:\n",
    "    def subsets(self, nums):\n",
    "        res = []\n",
    "        for i in range(len(nums) + 1):\n",
    "            s = combinations(nums, i)\n",
    "            for i in s:\n",
    "                res.append(list(i))\n",
    "        return res\n",
    "        \n",
    "\n",
    "nums = [1,2,3]\n",
    "nums = [0]\n",
    "ans = Solution()\n",
    "ans.subsets(nums)"
   ]
  },
  {
   "cell_type": "markdown",
   "id": "c7ed0e0a-8812-4a78-acb0-8ac1baa9322a",
   "metadata": {},
   "source": [
    "# 58 3159. 查询数组中元素的出现位置\n",
    "https://leetcode.cn/problems/find-occurrences-of-an-element-in-an-array/description/"
   ]
  },
  {
   "cell_type": "code",
   "execution_count": 1013,
   "id": "83ab8488-6f18-450d-b1d8-dd891d3e39e9",
   "metadata": {},
   "outputs": [
    {
     "data": {
      "text/plain": [
       "[-1]"
      ]
     },
     "execution_count": 1013,
     "metadata": {},
     "output_type": "execute_result"
    }
   ],
   "source": [
    "class Solution:\n",
    "    def occurrencesOfElement(self, nums, queries, x):\n",
    "        candidate = []\n",
    "        for i in range(len(nums)):\n",
    "            if nums[i] == x:\n",
    "                candidate.append(i)\n",
    "        n = len(candidate)\n",
    "        res = []\n",
    "        for i in queries:\n",
    "            if i > n:\n",
    "                res.append(-1)\n",
    "            else:\n",
    "                res.append(candidate[i - 1])\n",
    "        return res     \n",
    "        \n",
    "nums = [1,3,1,7]\n",
    "queries = [1,3,2,4]\n",
    "x = 1\n",
    "nums = [1,2,3]\n",
    "queries = [10]\n",
    "x = 5\n",
    "ans = Solution()\n",
    "ans.occurrencesOfElement(nums, queries, x)"
   ]
  },
  {
   "cell_type": "markdown",
   "id": "82e3ff88-a3fb-41cc-b687-e1bd7df27302",
   "metadata": {},
   "source": [
    "# 59 2657. 找到两个数组的前缀公共数组\n",
    "https://leetcode.cn/problems/find-the-prefix-common-array-of-two-arrays/description/"
   ]
  },
  {
   "cell_type": "code",
   "execution_count": 1017,
   "id": "4654f56b-c80c-4bec-8a95-742154a001a8",
   "metadata": {},
   "outputs": [
    {
     "data": {
      "text/plain": [
       "[0, 1, 3]"
      ]
     },
     "execution_count": 1017,
     "metadata": {},
     "output_type": "execute_result"
    }
   ],
   "source": [
    "class Solution:\n",
    "    def findThePrefixCommonArray(self, A, B):\n",
    "        n = min(len(A), len(B))\n",
    "        res = []\n",
    "        for i in range(n):\n",
    "            c = set(A[:i + 1]) & set(B[: i+ 1])\n",
    "            res.append(len(c))\n",
    "        return res\n",
    "\n",
    "A = [1,3,2,4]\n",
    "B = [3,1,2,4]\n",
    "A = [2,3,1]\n",
    "B = [3,1,2]\n",
    "ans = Solution()\n",
    "ans.findThePrefixCommonArray(A, B)"
   ]
  },
  {
   "cell_type": "markdown",
   "id": "c17046e2-08e3-49ba-a228-caf29d265973",
   "metadata": {},
   "source": [
    "# 60 面试题 16.01. 交换数字\n",
    "\n",
    "https://leetcode.cn/problems/swap-numbers-lcci/description/"
   ]
  },
  {
   "cell_type": "code",
   "execution_count": null,
   "id": "266a2a57-291a-4ca7-abc7-d64ef3dde60f",
   "metadata": {},
   "outputs": [],
   "source": [
    "class Solution:\n",
    "    def swapNumbers(self, numbers):\n",
    "        numbers[0], numbers[1] = numbers[1], numbers[0]\n",
    "        return numbers"
   ]
  },
  {
   "cell_type": "markdown",
   "id": "9c762d99-882b-438d-b337-f026b87c9537",
   "metadata": {},
   "source": [
    "# 61 LCR 178. 训练计划 VI\n",
    "\n",
    "https://leetcode.cn/problems/shu-zu-zhong-shu-zi-chu-xian-de-ci-shu-ii-lcof/description/"
   ]
  },
  {
   "cell_type": "code",
   "execution_count": null,
   "id": "93f06c9c-db97-4ca9-938c-207b0eb7c7ee",
   "metadata": {},
   "outputs": [],
   "source": [
    "class Solution:\n",
    "    def trainingPlan(self, actions):\n",
    "        s = Counter(actions)\n",
    "        for i in s:\n",
    "            if s[i] == 1:\n",
    "                return i"
   ]
  },
  {
   "cell_type": "markdown",
   "id": "05177913-eead-4d9b-bdfa-c7e574ed3219",
   "metadata": {},
   "source": [
    "# 62  3195. 包含所有 1 的最小矩形面积 I\n",
    "https://leetcode.cn/problems/find-the-minimum-area-to-cover-all-ones-i/description/"
   ]
  },
  {
   "cell_type": "code",
   "execution_count": 1053,
   "id": "479b5370-c6ac-4ac5-9492-bd87462987c1",
   "metadata": {},
   "outputs": [
    {
     "data": {
      "text/plain": [
       "1"
      ]
     },
     "execution_count": 1053,
     "metadata": {},
     "output_type": "execute_result"
    }
   ],
   "source": [
    "class Solution:\n",
    "    def minimumArea(self, grid):\n",
    "        rowmin,rowmax,colmin,colmax= float(\"inf\"), -float(\"inf\"), float(\"inf\") , -float(\"inf\")\n",
    "        for i in range(len(grid)):\n",
    "            for j in range(len(grid[0])):\n",
    "                if grid[i][j]:\n",
    "                    rowmin=min(rowmin,i)\n",
    "                    rowmax=max(rowmax,i)\n",
    "                    colmin=min(colmin,j)\n",
    "                    colmax=max(colmax,j)\n",
    "        return (colmax-colmin+1)*(rowmax-rowmin+1)\n",
    "\n",
    "\n",
    "grid = [[0,1,0],[1,0,1]] #6 \n",
    "grid = [[0],[1]]  #1\n",
    "ans = Solution()\n",
    "ans.minimumArea(grid)"
   ]
  },
  {
   "cell_type": "markdown",
   "id": "21be8b43-7c0f-4b3d-8543-8408f51dc9cf",
   "metadata": {},
   "source": [
    "# 63 2149 rearrange-array-elements-by-sign\n",
    "https://leetcode.cn/problems/rearrange-array-elements-by-sign/"
   ]
  },
  {
   "cell_type": "code",
   "execution_count": 1044,
   "id": "7c3b1e5b-9f60-434d-b0a6-66a420914ac7",
   "metadata": {},
   "outputs": [
    {
     "data": {
      "text/plain": [
       "[3, -2, 1, -5, 2, -4]"
      ]
     },
     "execution_count": 1044,
     "metadata": {},
     "output_type": "execute_result"
    }
   ],
   "source": [
    "class Solution:\n",
    "    def rearrangeArray(self, nums):\n",
    "        pos, neg = [], []\n",
    "        for i in nums:\n",
    "            if i >= 0:\n",
    "                pos.append(i)\n",
    "            else:\n",
    "                neg.append(i)\n",
    "        res = []\n",
    "        for i in range(len(pos)):\n",
    "            res.append(pos[i])\n",
    "            res.append(neg[i])\n",
    "        return res\n",
    "\n",
    "nums = [3,1,-2,-5,2,-4]\n",
    "ans = Solution()\n",
    "ans.rearrangeArray(nums)"
   ]
  },
  {
   "cell_type": "markdown",
   "id": "83a8da18-5e26-4108-abe7-5a9c80d40d96",
   "metadata": {},
   "source": [
    "# 64 46 permutations\n",
    "https://leetcode.cn/problems/permutations/description/"
   ]
  },
  {
   "cell_type": "code",
   "execution_count": 1055,
   "id": "098018ad-e985-4a4e-bab6-bf25b383e454",
   "metadata": {},
   "outputs": [
    {
     "data": {
      "text/plain": [
       "[[1, 2, 3], [1, 3, 2], [2, 1, 3], [2, 3, 1], [3, 1, 2], [3, 2, 1]]"
      ]
     },
     "execution_count": 1055,
     "metadata": {},
     "output_type": "execute_result"
    }
   ],
   "source": [
    "from itertools import permutations\n",
    "class Solution:\n",
    "    def permute(self, nums):\n",
    "        s = permutations(nums, len(nums))\n",
    "        res = []\n",
    "        for i in s:\n",
    "            res.append(list(i))\n",
    "        return res\n",
    "        \n",
    "\n",
    "nums = [1,2,3]\n",
    "ans = Solution()\n",
    "ans.permute(nums)"
   ]
  },
  {
   "cell_type": "markdown",
   "id": "8f3c47bb-ba56-44a0-89b6-b1c8e93bd609",
   "metadata": {},
   "source": [
    "# 65 1817 finding-the-users-active-minutes\n",
    "https://leetcode.cn/problems/finding-the-users-active-minutes/"
   ]
  },
  {
   "cell_type": "code",
   "execution_count": 1068,
   "id": "d51c827b-d84a-4e0c-b756-f7b341afb40c",
   "metadata": {},
   "outputs": [
    {
     "data": {
      "text/plain": [
       "[1, 1, 0, 0]"
      ]
     },
     "execution_count": 1068,
     "metadata": {},
     "output_type": "execute_result"
    }
   ],
   "source": [
    "from collections import defaultdict\n",
    "class Solution:\n",
    "    def findingUsersActiveMinutes(self, logs, k):\n",
    "        res = [0] * k\n",
    "        s = defaultdict(set)\n",
    "        for i in logs:\n",
    "            s[i[0]].add(i[1]) \n",
    "        ans = []\n",
    "        for i in s:\n",
    "            t = len(s[i])\n",
    "            res[t - 1] += 1\n",
    "        return res\n",
    "        \n",
    "logs = [[0,5],[1,2],[0,2],[0,5],[1,3]]\n",
    "k = 5\n",
    "logs = [[1,1],[2,2],[2,3]]\n",
    "k = 4\n",
    "ans = Solution()\n",
    "ans.findingUsersActiveMinutes(logs, k)"
   ]
  },
  {
   "cell_type": "markdown",
   "id": "0e4e0e68-36be-4a17-af7e-7db60e1b6857",
   "metadata": {},
   "source": [
    "# 66 950. reveal-cards-in-increasing-order\n",
    "https://leetcode.cn/problems/reveal-cards-in-increasing-order/"
   ]
  },
  {
   "cell_type": "code",
   "execution_count": 25,
   "id": "1621d9b8-099e-4795-9ac1-be7e9034b960",
   "metadata": {},
   "outputs": [
    {
     "name": "stdout",
     "output_type": "stream",
     "text": [
      "[1, 2, 3] [4, 5]\n"
     ]
    },
    {
     "data": {
      "text/plain": [
       "[1, 4, 2, 5, 3]"
      ]
     },
     "execution_count": 25,
     "metadata": {},
     "output_type": "execute_result"
    }
   ],
   "source": [
    "class Solution:\n",
    "    def deckRevealedIncreasing(self, deck):\n",
    "        deck.sort()\n",
    "        n = len(deck)\n",
    "        if n < 2:\n",
    "            return deck\n",
    "        if n ==2:\n",
    "            return sorted(deck)\n",
    "        else:\n",
    "            if n % 2 == 1:\n",
    "                a = deck[: n //2 + 1]\n",
    "                b = deck[n // 2 + 1:]\n",
    "                b = sorted(b[:-1], reverse=True) + [b[-1]]\n",
    "            else:\n",
    "                a = deck[: n //2 ]\n",
    "                b = deck[n // 2:]\n",
    "                b = sorted(b)\n",
    "            print(a, b)\n",
    "            res = []\n",
    "            for i in range(len(a)):\n",
    "                if i < len(b):\n",
    "                    res.append(a[i])\n",
    "                    res.append(b[i])\n",
    "                else:\n",
    "                    res.append(a[i])\n",
    "            return res\n",
    "        \n",
    "        \n",
    "deck = [17,13,11,2,3,5,7] #[2,13,3,11,5,17,7]\n",
    "#deck = [1,1000]\n",
    "#deck = [1,2,3,4] #[1,3,2,4]\n",
    "deck = [1,2,3,4,5] #[1,5,2,4,3]\n",
    "\n",
    "\n",
    "ans = Solution()\n",
    "ans.deckRevealedIncreasing(deck)"
   ]
  },
  {
   "cell_type": "code",
   "execution_count": 28,
   "id": "60442be2-7c3d-42a6-b3be-82537a158715",
   "metadata": {},
   "outputs": [
    {
     "data": {
      "text/plain": [
       "[1, 5, 2, 4, 3]"
      ]
     },
     "execution_count": 28,
     "metadata": {},
     "output_type": "execute_result"
    }
   ],
   "source": [
    "from collections import deque\n",
    "class Solution:\n",
    "    def deckRevealedIncreasing(self, deck):\n",
    "        deck.sort()\n",
    "        res = [0] * len(deck)\n",
    "        index = deque(range(len(deck)))\n",
    "        for i in sorted(deck):\n",
    "            res[index.popleft()] = i\n",
    "            if index:\n",
    "                index.append(index.popleft())\n",
    "        return res\n",
    "        \n",
    "deck = [17,13,11,2,3,5,7] #[2,13,3,11,5,17,7]\n",
    "#deck = [1,1000]\n",
    "#deck = [1,2,3,4] #[1,3,2,4]\n",
    "deck = [1,2,3,4,5] #[1,5,2,4,3]\n",
    "\n",
    "ans = Solution()\n",
    "ans.deckRevealedIncreasing(deck)"
   ]
  },
  {
   "cell_type": "markdown",
   "id": "640cd86c-35f1-4356-81d7-47b75c369e85",
   "metadata": {},
   "source": [
    "# 67 1079. 活字印刷\n",
    "\n",
    "https://leetcode.cn/problems/letter-tile-possibilities/description/"
   ]
  },
  {
   "cell_type": "code",
   "execution_count": 35,
   "id": "f7bc31a2-06e3-449c-8dac-0b8daa8fb505",
   "metadata": {},
   "outputs": [
    {
     "data": {
      "text/plain": [
       "1"
      ]
     },
     "execution_count": 35,
     "metadata": {},
     "output_type": "execute_result"
    }
   ],
   "source": [
    "from itertools import permutations\n",
    "class Solution:\n",
    "    def numTilePossibilities(self, tiles):\n",
    "        res = 0\n",
    "        for i in range(1, len(tiles) + 1):\n",
    "            temp = set()\n",
    "            s = permutations(tiles, i)\n",
    "            for j in s:\n",
    "                temp.add(j)\n",
    "            res +=  len(temp)\n",
    "        return res\n",
    "tiles = \"AAB\"\n",
    "tiles = \"AAABBC\"\n",
    "tiles = \"V\"\n",
    "\n",
    "ans = Solution()\n",
    "ans.numTilePossibilities(tiles)"
   ]
  },
  {
   "cell_type": "markdown",
   "id": "3fd323cc-d2a0-46e4-952f-1d9a09630083",
   "metadata": {},
   "source": [
    "# 68 2221. 数组的三角和\n",
    "\n",
    "https://leetcode.cn/problems/find-triangular-sum-of-an-array/description/"
   ]
  },
  {
   "cell_type": "code",
   "execution_count": 37,
   "id": "f585d110-00e1-4080-9a13-0f496b314009",
   "metadata": {},
   "outputs": [
    {
     "data": {
      "text/plain": [
       "8"
      ]
     },
     "execution_count": 37,
     "metadata": {},
     "output_type": "execute_result"
    }
   ],
   "source": [
    "class Solution:\n",
    "    def triangularSum(self, nums):\n",
    "        n = len(nums)\n",
    "        if n < 2:\n",
    "            return nums[0]\n",
    "        while len(nums) > 1:\n",
    "            temp = []\n",
    "            for i in range(len(nums) -1):\n",
    "                temp.append((nums[i] + nums[i + 1]) % 10)\n",
    "            nums = temp\n",
    "        return nums[0]\n",
    "            \n",
    "\n",
    "nums = [1,2,3,4,5]\n",
    "\n",
    "ans = Solution()\n",
    "ans.triangularSum(nums)"
   ]
  },
  {
   "cell_type": "markdown",
   "id": "6aeff21c-7208-4a6d-92ee-9cdd3f5c0550",
   "metadata": {},
   "source": [
    "# 69 890. 查找和替换模式\n",
    "https://leetcode.cn/problems/find-and-replace-pattern/description/"
   ]
  },
  {
   "cell_type": "code",
   "execution_count": 53,
   "id": "8de55fc8-59d1-4e81-99db-25a0ba8939e0",
   "metadata": {},
   "outputs": [
    {
     "data": {
      "text/plain": [
       "['mee', 'aqq']"
      ]
     },
     "execution_count": 53,
     "metadata": {},
     "output_type": "execute_result"
    }
   ],
   "source": [
    "from collections import defaultdict\n",
    "class Solution:\n",
    "    def findAndReplacePattern(self, words, pattern):\n",
    "        res = []\n",
    "        target = len(set(pattern))\n",
    "        for i in words:\n",
    "            if len(set(i)) == target:\n",
    "                r = defaultdict()\n",
    "                s = zip(pattern, i)\n",
    "                flag = True\n",
    "                for j in s:\n",
    "                    if j[0] not in r:\n",
    "                        r[j[0]] = j[1]\n",
    "                    else:\n",
    "                        if j[1] != r[j[0]]:\n",
    "                            flag = False\n",
    "                if flag:\n",
    "                    res.append(i)\n",
    "        return res\n",
    "                    \n",
    "                    \n",
    "            \n",
    "\n",
    "words = [\"abc\",\"deq\",\"mee\",\"aqq\",\"dkd\",\"ccc\"]\n",
    "pattern = \"abb\"\n",
    "ans = Solution()\n",
    "ans.findAndReplacePattern(words, pattern)"
   ]
  },
  {
   "cell_type": "markdown",
   "id": "7f499bc9-f6e1-4317-b7dc-a87bd7c46ea7",
   "metadata": {},
   "source": [
    "# 70 2679. 矩阵中的和\n",
    "https://leetcode.cn/problems/sum-in-a-matrix/description/"
   ]
  },
  {
   "cell_type": "code",
   "execution_count": 71,
   "id": "f740f283-067f-4eee-b089-2f61cbd6ee6b",
   "metadata": {},
   "outputs": [
    {
     "data": {
      "text/plain": [
       "15"
      ]
     },
     "execution_count": 71,
     "metadata": {},
     "output_type": "execute_result"
    }
   ],
   "source": [
    "import numpy as np\n",
    "class Solution:\n",
    "    def matrixSum(self, nums):\n",
    "        nums = [sorted(i) for i in nums]\n",
    "        s = np.array(nums)\n",
    "        res = np.max(s,axis=0)\n",
    "        return int(sum(res))\n",
    "\n",
    "nums = [[7,2,1],[6,4,2],[6,5,3],[3,2,1]]\n",
    "nums = [[1]]\n",
    "nums = [[7,2,1],[6,4,2],[6,5,3],[3,2,1]]\n",
    "ans = Solution()\n",
    "ans.matrixSum(nums)"
   ]
  },
  {
   "cell_type": "markdown",
   "id": "4710d45e-f509-4e2a-837a-e5b226884a8a",
   "metadata": {},
   "source": [
    "# 71 2740. 找出分区值\n",
    "https://leetcode.cn/problems/find-the-value-of-the-partition/description/"
   ]
  },
  {
   "cell_type": "code",
   "execution_count": 78,
   "id": "8c5a01c9-e37b-4d84-9612-836a97f4d5d0",
   "metadata": {},
   "outputs": [
    {
     "data": {
      "text/plain": [
       "1"
      ]
     },
     "execution_count": 78,
     "metadata": {},
     "output_type": "execute_result"
    }
   ],
   "source": [
    "from itertools import pairwise\n",
    "class Solution:\n",
    "    def findValueOfPartition(self, nums):\n",
    "        nums.sort()\n",
    "        res = float(\"inf\")\n",
    "        for i, j in pairwise(nums):\n",
    "            res = min(res, j - i)\n",
    "        return res\n",
    "\n",
    "nums = [1,3,2,4]\n",
    "ans = Solution()\n",
    "ans.findValueOfPartition(nums)"
   ]
  },
  {
   "cell_type": "markdown",
   "id": "efe95beb-6297-4f0e-80c9-1464ca7ff914",
   "metadata": {},
   "source": [
    "# 72 763. 划分字母区间\n",
    "https://leetcode.cn/problems/partition-labels/description/"
   ]
  },
  {
   "cell_type": "code",
   "execution_count": 96,
   "id": "7d4f0a12-bd0d-4a13-8fc5-8f7ecf0f53f5",
   "metadata": {},
   "outputs": [
    {
     "data": {
      "text/plain": [
       "[9, 7, 8]"
      ]
     },
     "execution_count": 96,
     "metadata": {},
     "output_type": "execute_result"
    }
   ],
   "source": [
    "class Solution:\n",
    "    def partitionLabels(self, s):\n",
    "        last = {c: i for i, c in enumerate(s)}\n",
    "        ans = []\n",
    "        start = end = 0\n",
    "        for i, c in enumerate(s):\n",
    "            end = max(end, last[c])\n",
    "            if end == i:\n",
    "                ans.append(end - start + 1)\n",
    "                start = i + 1\n",
    "        return ans\n",
    "            \n",
    "\n",
    "s = \"ababcbacadefegdehijhklij\"\n",
    "ans = Solution()\n",
    "ans.partitionLabels(s)"
   ]
  },
  {
   "cell_type": "markdown",
   "id": "f7198265-4061-49fa-b4b6-e4e76f7aeef0",
   "metadata": {},
   "source": [
    "# 73 2785. 将字符串中的元音字母排序\n",
    "https://leetcode.cn/problems/sort-vowels-in-a-string/description/"
   ]
  },
  {
   "cell_type": "code",
   "execution_count": 106,
   "id": "2ba71bc2-a424-4ed6-b188-7e84823f2486",
   "metadata": {},
   "outputs": [
    {
     "data": {
      "text/plain": [
       "'lYmpH'"
      ]
     },
     "execution_count": 106,
     "metadata": {},
     "output_type": "execute_result"
    }
   ],
   "source": [
    "class Solution:\n",
    "    def sortVowels(self, s):\n",
    "        target = \"AEIOUaeiou\"\n",
    "        yuan = []\n",
    "        for i in s:\n",
    "            if i in target:\n",
    "                yuan.append(i)\n",
    "        yuan.sort(reverse=True)\n",
    "        s = list(s)\n",
    "        for i in range(len(s)):\n",
    "            if s[i] in target:\n",
    "                x = yuan.pop()\n",
    "                s[i] = x\n",
    "        return \"\".join(s)\n",
    "            \n",
    "\n",
    "s = \"lEetcOde\"\n",
    "s = \"lYmpH\"\n",
    "ans = Solution()\n",
    "ans.sortVowels(s)"
   ]
  },
  {
   "cell_type": "markdown",
   "id": "7aa259f6-93f0-49d2-99fc-63e30b8fb526",
   "metadata": {},
   "source": [
    "# 74 877. 石子游戏\n",
    "https://leetcode.cn/problems/stone-game/description/"
   ]
  },
  {
   "cell_type": "code",
   "execution_count": 109,
   "id": "35fbef51-90bf-4415-aaba-2dd61f173c4a",
   "metadata": {},
   "outputs": [],
   "source": [
    "class Solution:\n",
    "    def stoneGame(self, piles):\n",
    "        return True\n",
    "        \n",
    "piles = [5,3,4,5]\n",
    "ans = Solution()\n",
    "ans.stoneGame(piles)"
   ]
  },
  {
   "cell_type": "markdown",
   "id": "6a1cb46b-6981-4125-8ff0-14cde3402a03",
   "metadata": {},
   "source": [
    "# 75 48. 旋转图像\n",
    "https://leetcode.cn/problems/rotate-image/description/"
   ]
  },
  {
   "cell_type": "code",
   "execution_count": 159,
   "id": "e1fc1bf7-3f7a-41ff-b2ee-46827414581e",
   "metadata": {},
   "outputs": [
    {
     "data": {
      "text/plain": [
       "[[15, 13, 2, 5], [14, 3, 4, 1], [12, 6, 8, 9], [16, 7, 10, 11]]"
      ]
     },
     "execution_count": 159,
     "metadata": {},
     "output_type": "execute_result"
    }
   ],
   "source": [
    "import numpy as np\n",
    "class Solution:\n",
    "    def rotate(self, matrix):\n",
    "        \"\"\"\n",
    "        Do not return anything, modify matrix in-place instead.\n",
    "        \"\"\"\n",
    "        s = np.matrix(matrix)\n",
    "        s = s.T\n",
    "        s= np.flip(s,axis=1)\n",
    "        x, y = s.shape\n",
    "        for i in range(x):\n",
    "            for j in range(y):\n",
    "                matrix[i][j] = s[i,j]\n",
    "        return matrix\n",
    "        \n",
    "matrix = [[1,2,3],[4,5,6],[7,8,9]]\n",
    "matrix = [[5,1,9,11],[2,4,8,10],[13,3,6,7],[15,14,12,16]]\n",
    "ans = Solution()\n",
    "ans.rotate(matrix)"
   ]
  },
  {
   "cell_type": "code",
   "execution_count": 162,
   "id": "b66cd266-580d-4fc8-b73e-8605dbafc74d",
   "metadata": {},
   "outputs": [
    {
     "data": {
      "text/plain": [
       "[[7, 4, 1], [8, 5, 2], [9, 6, 3]]"
      ]
     },
     "execution_count": 162,
     "metadata": {},
     "output_type": "execute_result"
    }
   ],
   "source": [
    "class Solution:\n",
    "    def rotate(self, matrix):\n",
    "        \"\"\"\n",
    "        Do not return anything, modify matrix in-place instead.\n",
    "        \"\"\"\n",
    "        matrix[:] = [list(t)[::-1] for t in zip(*matrix)]\n",
    "        return matrix\n",
    "        \n",
    "matrix = [[1,2,3],[4,5,6],[7,8,9]]\n",
    "#matrix = [[5,1,9,11],[2,4,8,10],[13,3,6,7],[15,14,12,16]]\n",
    "ans = Solution()\n",
    "ans.rotate(matrix)"
   ]
  },
  {
   "cell_type": "markdown",
   "id": "aff1441b-e1f6-46d5-85f4-372cfddb92eb",
   "metadata": {},
   "source": [
    "# 76 386. 字典序排数\n",
    "https://leetcode.cn/problems/lexicographical-numbers/description/"
   ]
  },
  {
   "cell_type": "code",
   "execution_count": 170,
   "id": "5e62994f-9957-4b7a-9050-52005d4a44d6",
   "metadata": {},
   "outputs": [
    {
     "data": {
      "text/plain": [
       "[1, 10, 11, 12, 13, 2, 3, 4, 5, 6, 7, 8, 9]"
      ]
     },
     "execution_count": 170,
     "metadata": {},
     "output_type": "execute_result"
    }
   ],
   "source": [
    "class Solution:\n",
    "    def lexicalOrder(self, n):\n",
    "        s = [str(i) for i in range(1, n + 1)]\n",
    "        s.sort()\n",
    "        res = [int(i) for i in s]\n",
    "        return res\n",
    "        \n",
    "n = 13\n",
    "ans = Solution()\n",
    "ans.lexicalOrder(n)"
   ]
  },
  {
   "cell_type": "markdown",
   "id": "18423e09-96f9-4bda-ae78-ba9957ba12ce",
   "metadata": {},
   "source": [
    "# 77 2428. 沙漏的最大总和\n",
    "https://leetcode.cn/problems/maximum-sum-of-an-hourglass/description/"
   ]
  },
  {
   "cell_type": "code",
   "execution_count": null,
   "id": "0aeda713-b04e-43b9-9cbd-aee5646754e6",
   "metadata": {},
   "outputs": [],
   "source": [
    "import numpy as np\n",
    "class Solution:\n",
    "    def maxSum(self, grid):\n",
    "        s = np.matrix(grid)\n",
    "        m, n = s.shape\n",
    "        x = m - 3\n",
    "        y = n - 3\n",
    "        res = 0\n",
    "        for i in range(x + 1):\n",
    "            for j in range(y + 1):\n",
    "                temp = s[i:i+3, j:j+3]\n",
    "                ans = np.sum(temp) -temp[1,0] - temp[1,2]\n",
    "                res = max(res, ans)\n",
    "        return int(res)\n",
    "\n",
    "\n",
    "grid = [[6,2,1,3],[4,2,1,5],[9,2,8,7],[4,1,2,9]]\n",
    "ans = Solution()\n",
    "ans.maxSum(grid)"
   ]
  },
  {
   "cell_type": "markdown",
   "id": "1ba78ac8-e48b-46f4-a3a7-08a4e1bb8b93",
   "metadata": {},
   "source": [
    "# 78 1877. 数组中最大数对和的最小值\n",
    "https://leetcode.cn/problems/minimize-maximum-pair-sum-in-array/description/"
   ]
  },
  {
   "cell_type": "code",
   "execution_count": 192,
   "id": "a0e4947f-8994-4382-b28c-0eab31209808",
   "metadata": {},
   "outputs": [
    {
     "data": {
      "text/plain": [
       "8"
      ]
     },
     "execution_count": 192,
     "metadata": {},
     "output_type": "execute_result"
    }
   ],
   "source": [
    "class Solution:\n",
    "    def minPairSum(self, nums):\n",
    "        nums.sort()\n",
    "        left, right, res = 0, len(nums) - 1, 0\n",
    "        while left < right:\n",
    "            res = max(nums[left] + nums[right], res)\n",
    "            left += 1\n",
    "            right -= 1\n",
    "        return res\n",
    "\n",
    "nums = [3,5,2,3]\n",
    "nums = [3,5,4,2,4,6]\n",
    "ans = Solution()\n",
    "ans.minPairSum(nums)"
   ]
  },
  {
   "cell_type": "markdown",
   "id": "aafa35eb-3a00-43b2-a14b-253057f979a1",
   "metadata": {},
   "source": [
    "# 79 2405. 子字符串的最优划分\n",
    "https://leetcode.cn/problems/optimal-partition-of-string/description/sorted(a)"
   ]
  },
  {
   "cell_type": "code",
   "execution_count": 206,
   "id": "edc1c50c-74b9-4151-b5a6-76c2ef15364e",
   "metadata": {},
   "outputs": [
    {
     "data": {
      "text/plain": [
       "6"
      ]
     },
     "execution_count": 206,
     "metadata": {},
     "output_type": "execute_result"
    }
   ],
   "source": [
    "class Solution:\n",
    "    def partitionString(self, s):\n",
    "        res = 0\n",
    "        cur = \"\"\n",
    "        for i in s:\n",
    "            if i not in cur:\n",
    "                cur += i\n",
    "            else:\n",
    "                res += 1\n",
    "                cur = i\n",
    "        return res + 1\n",
    "        \n",
    "s = \"abacaba\"\n",
    "s = \"hdklqkcssgxlvehva\"\n",
    "s = \"ssssss\"\n",
    "ans = Solution()\n",
    "ans.partitionString(s)"
   ]
  },
  {
   "cell_type": "markdown",
   "id": "8884d61a-a42e-4c68-b04b-b69ee27b189f",
   "metadata": {},
   "source": [
    "# 80 2023. 连接后等于目标字符串的字符串对\n",
    "https://leetcode.cn/problems/number-of-pairs-of-strings-with-concatenation-equal-to-target/description/"
   ]
  },
  {
   "cell_type": "code",
   "execution_count": 211,
   "id": "e817c8f3-199d-4bc3-af80-5fb645c12038",
   "metadata": {},
   "outputs": [
    {
     "data": {
      "text/plain": [
       "6"
      ]
     },
     "execution_count": 211,
     "metadata": {},
     "output_type": "execute_result"
    }
   ],
   "source": [
    "from itertools import permutations\n",
    "class Solution:\n",
    "    def numOfPairs(self, nums, target):\n",
    "        res = 0\n",
    "        s = permutations(nums, 2)\n",
    "        for i in s:\n",
    "            if i[0] + i[1] == target:\n",
    "                res += 1\n",
    "        return res\n",
    "            \n",
    "nums = [\"777\",\"7\",\"77\",\"77\"]\n",
    "target = \"7777\"\n",
    "nums = [\"1\",\"1\",\"1\"]\n",
    "target = \"11\"\n",
    "ans = Solution()\n",
    "ans.numOfPairs(nums, target)"
   ]
  },
  {
   "cell_type": "markdown",
   "id": "b83b7a66-09ee-4d65-becc-469de71515e4",
   "metadata": {},
   "source": [
    "# 81 面试题 10.02. 变位词组\n",
    "https://leetcode.cn/problems/group-anagrams-lcci/description/\n",
    "\n",
    "LCR 033. 字母异位词分组\n",
    "\n",
    "https://leetcode.cn/problems/sfvd7V/description/"
   ]
  },
  {
   "cell_type": "code",
   "execution_count": 225,
   "id": "56db9cc3-909b-4437-87d7-3875e928188d",
   "metadata": {},
   "outputs": [
    {
     "data": {
      "text/plain": [
       "[['eat', 'tea', 'ate'], ['tan', 'nat'], ['bat']]"
      ]
     },
     "execution_count": 225,
     "metadata": {},
     "output_type": "execute_result"
    }
   ],
   "source": [
    "from collections import defaultdict\n",
    "class Solution:\n",
    "    def groupAnagrams(self, strs):\n",
    "        strs = [(\"\".join(sorted(i)), i) for i in strs]\n",
    "        s = defaultdict(list)\n",
    "        for i,j in strs:\n",
    "            s[i].append(j)\n",
    "        res = []\n",
    "        for i in s:\n",
    "            res.append(s[i])\n",
    "        return res\n",
    "\n",
    "strs = [\"eat\", \"tea\", \"tan\", \"ate\", \"nat\", \"bat\"]\n",
    "ans = Solution()\n",
    "ans.groupAnagrams(strs)"
   ]
  },
  {
   "cell_type": "markdown",
   "id": "9b33393b-6b2a-47d3-9d36-20c9bb0b060e",
   "metadata": {},
   "source": [
    "# 82 1780. 判断一个数字是否可以表示成三的幂的和\n",
    "\n",
    "https://leetcode.cn/problems/check-if-number-is-a-sum-of-powers-of-three/description/"
   ]
  },
  {
   "cell_type": "code",
   "execution_count": 228,
   "id": "34d4ee2d-8f04-450f-8cc5-400d89389af3",
   "metadata": {},
   "outputs": [
    {
     "data": {
      "text/plain": [
       "False"
      ]
     },
     "execution_count": 228,
     "metadata": {},
     "output_type": "execute_result"
    }
   ],
   "source": [
    "class Solution:\n",
    "    def checkPowersOfThree(self, n):\n",
    "        while n:\n",
    "            if n % 3 == 1:\n",
    "                n -= 1\n",
    "            if n % 3 != 0:\n",
    "                return False\n",
    "            n //= 3\n",
    "        return True\n",
    "\n",
    "n = 21\n",
    "ans = Solution()\n",
    "ans.checkPowersOfThree(n)"
   ]
  },
  {
   "cell_type": "markdown",
   "id": "5a0da932-d7a6-419f-8e5f-a6abe3580381",
   "metadata": {},
   "source": [
    "# 83 1314. 矩阵区域和\n",
    "https://leetcode.cn/problems/matrix-block-sum/description/"
   ]
  },
  {
   "cell_type": "code",
   "execution_count": 263,
   "id": "255b51cb-c975-4fec-abe8-ca17597be876",
   "metadata": {},
   "outputs": [
    {
     "data": {
      "text/plain": [
       "[[45, 45, 45], [45, 45, 45], [45, 45, 45]]"
      ]
     },
     "execution_count": 263,
     "metadata": {},
     "output_type": "execute_result"
    }
   ],
   "source": [
    "import numpy as np\n",
    "class Solution:\n",
    "    def matrixBlockSum(self, mat, k):\n",
    "        mats = np.matrix(mat)\n",
    "        m, n = mats.shape\n",
    "        res = np.zeros(shape = (m, n), dtype= int)\n",
    "        for i in range(m):\n",
    "            for j in range(n):\n",
    "                x = np.sum(mats[max(i - k, 0): min(i + k + 1, m), max(j - k, 0): min(j + k + 1, n)])\n",
    "                res[i,j] = x\n",
    "        return res.tolist()\n",
    "            \n",
    "\n",
    "mat = [[1,2,3],[4,5,6],[7,8,9]]\n",
    "k = 1\n",
    "mat = [[1,2,3],[4,5,6],[7,8,9]] \n",
    "k = 2\n",
    "ans = Solution()\n",
    "ans.matrixBlockSum(mat, k)"
   ]
  },
  {
   "cell_type": "markdown",
   "id": "18de67e7-6f69-43e2-8506-0100c6a6a62c",
   "metadata": {},
   "source": [
    "# 84  442. 数组中重复的数据\n",
    "\n",
    "https://leetcode.cn/problems/find-all-duplicates-in-an-array/description/"
   ]
  },
  {
   "cell_type": "code",
   "execution_count": 266,
   "id": "53cf7987-7b2a-4dc8-9e6c-4cf465bb7410",
   "metadata": {},
   "outputs": [
    {
     "data": {
      "text/plain": [
       "[3, 2]"
      ]
     },
     "execution_count": 266,
     "metadata": {},
     "output_type": "execute_result"
    }
   ],
   "source": [
    "from collections import Counter\n",
    "class Solution:\n",
    "    def findDuplicates(self, nums):\n",
    "        s = Counter(nums)\n",
    "        res = []\n",
    "        for i in s:\n",
    "            if s[i] == 2:\n",
    "                res.append(i)\n",
    "        return res\n",
    "\n",
    "nums = [4,3,2,7,8,2,3,1]\n",
    "ans = Solution()\n",
    "ans.findDuplicates(nums)"
   ]
  },
  {
   "cell_type": "markdown",
   "id": "1f23f438-d4ea-485c-a6b7-046e750e7a96",
   "metadata": {},
   "source": [
    "# 85 406. queue-reconstruction-by-height\n",
    "https://leetcode.cn/problems/queue-reconstruction-by-height/description/"
   ]
  },
  {
   "cell_type": "code",
   "execution_count": 274,
   "id": "9c09f277-bc43-49e9-88d9-ee4db56b1de0",
   "metadata": {},
   "outputs": [
    {
     "data": {
      "text/plain": [
       "[[5, 0], [7, 0], [5, 2], [6, 1], [4, 4], [7, 1]]"
      ]
     },
     "execution_count": 274,
     "metadata": {},
     "output_type": "execute_result"
    }
   ],
   "source": [
    "class Solution:\n",
    "    def reconstructQueue(self, people):\n",
    "        people.sort(key = lambda x: (-x[0], x[1]))\n",
    "        res = []\n",
    "        for p in people:\n",
    "            if len(res) <= p[1]:\n",
    "                res.append(p)\n",
    "            elif len(res) > p[1]:\n",
    "                res.insert(p[1], p)\n",
    "        return res\n",
    "\n",
    "\n",
    "people = [[7,0],[4,4],[7,1],[5,0],[6,1],[5,2]]\n",
    "ans = Solution()\n",
    "ans.reconstructQueue(people)"
   ]
  },
  {
   "cell_type": "markdown",
   "id": "1a4c6084-591c-48b5-b061-140f946fd9f9",
   "metadata": {},
   "source": [
    "# 85  2442. 反转之后不同整数的数目\n",
    "https://leetcode.cn/problems/count-number-of-distinct-integers-after-reverse-operations/description/"
   ]
  },
  {
   "cell_type": "code",
   "execution_count": 281,
   "id": "7f301b42-7ad1-484c-a8da-86a4189832cb",
   "metadata": {},
   "outputs": [
    {
     "data": {
      "text/plain": [
       "1"
      ]
     },
     "execution_count": 281,
     "metadata": {},
     "output_type": "execute_result"
    }
   ],
   "source": [
    "class Solution:\n",
    "    def countDistinctIntegers(self, nums):\n",
    "        n = len(nums)\n",
    "        for i in range(n):\n",
    "            x = \"\".join(str(nums[i])[::-1])\n",
    "            nums.append(int(x))\n",
    "        return len(set(nums))\n",
    "        \n",
    "nums = [1,13,10,12,31]\n",
    "nums = [2,2,2]\n",
    "ans = Solution()\n",
    "ans.countDistinctIntegers(nums)"
   ]
  },
  {
   "cell_type": "markdown",
   "id": "20e17754-4a3a-41b7-a63e-68fbe61fdc32",
   "metadata": {},
   "source": [
    "# 86 LCR 038. 每日温度\n",
    "\n",
    "https://leetcode.cn/problems/iIQa4I/description/"
   ]
  },
  {
   "cell_type": "code",
   "execution_count": 286,
   "id": "d607c544-692d-436f-84ec-cfcd588d7535",
   "metadata": {},
   "outputs": [
    {
     "data": {
      "text/plain": [
       "[1, 1, 0]"
      ]
     },
     "execution_count": 286,
     "metadata": {},
     "output_type": "execute_result"
    }
   ],
   "source": [
    "class Solution:\n",
    "    def dailyTemperatures(self, temperatures):\n",
    "        res = []\n",
    "        n = len(temperatures)\n",
    "        for i in range(n):\n",
    "            for j in range(i, n):\n",
    "                if temperatures[j] > temperatures[i]:\n",
    "                    res.append(j - i)\n",
    "                    break\n",
    "                elif j == n-1:\n",
    "                    res.append(0)\n",
    "        return res\n",
    "                    \n",
    "        \n",
    "temperatures = [73,74,75,71,69,72,76,73]\n",
    "temperatures = [30,40,50,60]\n",
    "temperatures = [30,60,90]\n",
    "ans = Solution()\n",
    "ans.dailyTemperatures(temperatures)"
   ]
  },
  {
   "cell_type": "code",
   "execution_count": 287,
   "id": "088e8764-913d-4799-b961-f8a91e6ab9be",
   "metadata": {},
   "outputs": [
    {
     "data": {
      "text/plain": [
       "[1, 1, 0]"
      ]
     },
     "execution_count": 287,
     "metadata": {},
     "output_type": "execute_result"
    }
   ],
   "source": [
    "class Solution:\n",
    "    def dailyTemperatures(self, temperatures):\n",
    "        stack = []\n",
    "        res = [0] * len(temperatures)\n",
    "        for i, temp in enumerate(temperatures):\n",
    "            while stack and temp > stack[-1][1]:\n",
    "                idx = stack.pop()[0]\n",
    "                res[idx] = i - idx\n",
    "            stack.append((i, temp))\n",
    "        return res\n",
    "\n",
    "temperatures = [73,74,75,71,69,72,76,73]\n",
    "temperatures = [30,40,50,60]\n",
    "temperatures = [30,60,90]\n",
    "ans = Solution()\n",
    "ans.dailyTemperatures(temperatures)"
   ]
  },
  {
   "cell_type": "markdown",
   "id": "9231ade9-4f1a-4136-9836-8077ea00a5f4",
   "metadata": {},
   "source": [
    "# 87 1630. arithmetic-subarrays\n",
    "https://leetcode.cn/problems/arithmetic-subarrays/"
   ]
  },
  {
   "cell_type": "code",
   "execution_count": 298,
   "id": "cafdbc86-40e0-4d19-83ca-052616c3ca4e",
   "metadata": {},
   "outputs": [
    {
     "data": {
      "text/plain": [
       "[False, True, False, False, True, True]"
      ]
     },
     "execution_count": 298,
     "metadata": {},
     "output_type": "execute_result"
    }
   ],
   "source": [
    "from itertools import pairwise\n",
    "class Solution:\n",
    "    def checkArithmeticSubarrays(self, nums, l, r):\n",
    "        res = []\n",
    "        query = zip(l, r)\n",
    "        for i, j in query:\n",
    "            temp = nums[i: j + 1]\n",
    "            temp.sort()\n",
    "            k = set()\n",
    "            for m in pairwise(temp):\n",
    "                k.add(m[1] - m[0])\n",
    "            if len(k) == 1:\n",
    "                res.append(True)\n",
    "            else:\n",
    "                res.append(False)\n",
    "        return res\n",
    "        \n",
    "nums = [4,6,5,9,3,7]\n",
    "l = [0,0,2]\n",
    "r = [2,3,5]\n",
    "nums = [-12,-9,-3,-12,-6,15,20,-25,-20,-15,-10]\n",
    "l = [0,1,6,4,8,7]\n",
    "r = [4,4,9,7,9,10] #[false,true,false,false,true,true]\n",
    "ans = Solution()\n",
    "ans.checkArithmeticSubarrays(nums, l, r)"
   ]
  },
  {
   "cell_type": "markdown",
   "id": "9df36d1d-0de3-45fb-a29b-5f49633596fe",
   "metadata": {},
   "source": [
    "# 88 791. 自定义字符串排序\n",
    "\n",
    "https://leetcode.cn/problems/custom-sort-string/description/"
   ]
  },
  {
   "cell_type": "code",
   "execution_count": 315,
   "id": "77d2ea3f-8960-4a29-956f-7bd1e591d1ab",
   "metadata": {},
   "outputs": [
    {
     "data": {
      "text/plain": [
       "'cbad'"
      ]
     },
     "execution_count": 315,
     "metadata": {},
     "output_type": "execute_result"
    }
   ],
   "source": [
    "from collections import defaultdict\n",
    "class Solution:\n",
    "    def customSortString(self, order, s):\n",
    "        d = defaultdict()\n",
    "        for i, j in enumerate(order):\n",
    "            d[j] = i\n",
    "        temp = []\n",
    "        other = []\n",
    "        for i in s:\n",
    "            if i in d:\n",
    "                temp.append((d[i], i))\n",
    "            else: \n",
    "                other.append(i)\n",
    "        res = []\n",
    "        temp.sort()\n",
    "        for i in temp:\n",
    "            res.append(i[1])\n",
    "        return \"\".join(res + other)\n",
    "\n",
    "order = \"cba\"\n",
    "s = \"abcd\"\n",
    "order = \"cbafg\"\n",
    "s = \"abcd\"\n",
    "ans = Solution()\n",
    "ans.customSortString(order, s)"
   ]
  },
  {
   "cell_type": "markdown",
   "id": "f2c2a5e1-466e-4266-92c3-c8ecfb0e71d8",
   "metadata": {},
   "source": [
    "# 89 1277. 统计全为 1 的正方形子矩阵\n",
    "\n",
    "https://leetcode.cn/problems/count-square-submatrices-with-all-ones/description/"
   ]
  },
  {
   "cell_type": "code",
   "execution_count": 341,
   "id": "88e96379-a786-412c-a525-383b5bc0da23",
   "metadata": {},
   "outputs": [
    {
     "data": {
      "text/plain": [
       "15"
      ]
     },
     "execution_count": 341,
     "metadata": {},
     "output_type": "execute_result"
    }
   ],
   "source": [
    "class Solution:\n",
    "    def countSquares(self, matrix):\n",
    "        m, n = len(matrix), len(matrix[0])\n",
    "\n",
    "        dp = [[0] * (n + 1) for _ in range(m + 1)]\n",
    "\n",
    "        for i in range(m):\n",
    "            for j in range(n):\n",
    "                if matrix[i][j] > 0:\n",
    "                    dp[i + 1][j + 1] = min(dp[i][j], dp[i][ j+ 1], dp[i + 1][j]) + 1\n",
    "        return sum([sum(dp[i]) for i in range(1, m+ 1)])\n",
    "\n",
    "            \n",
    "matrix =[[0,1,1,1], [1,1,1,1],[0,1,1,1]]\n",
    "ans = Solution()\n",
    "ans.countSquares(matrix)"
   ]
  },
  {
   "cell_type": "markdown",
   "id": "0c9c3555-a898-4365-a319-af3d6c995a87",
   "metadata": {},
   "source": [
    "# 90 1222. 可以攻击国王的皇后\n",
    "https://leetcode.cn/problems/queens-that-can-attack-the-king/description/"
   ]
  },
  {
   "cell_type": "code",
   "execution_count": 354,
   "id": "cca6e3b2-8d10-4b0b-8385-b75efabeecf5",
   "metadata": {},
   "outputs": [
    {
     "data": {
      "text/plain": [
       "[[4, 4], [3, 4], [2, 2]]"
      ]
     },
     "execution_count": 354,
     "metadata": {},
     "output_type": "execute_result"
    }
   ],
   "source": [
    "class Solution:\n",
    "    def queensAttacktheKing(self, queens, king):\n",
    "        res = []\n",
    "        queens = [(i[0], i[1]) for i in queens]\n",
    "        for dx, dy in [(1, 0), (1, 1), (0, 1), (-1, 0), (-1, 1), (-1, -1), (0, -1), (1, -1)]:\n",
    "            x, y = king[0] + dx, king[1] + dy\n",
    "            while 0 <= x <= 8 and 0 <= y <=8: \n",
    "                if (x, y) in queens:\n",
    "                    res.append([x, y])\n",
    "                    break\n",
    "                x += dx\n",
    "                y += dy\n",
    "        return res\n",
    "        \n",
    "\n",
    "queens = [[0,1],[1,0],[4,0],[0,4],[3,3],[2,4]]\n",
    "king = [0,0]\n",
    "queens = [[0,0],[1,1],[2,2],[3,4],[3,5],[4,4],[4,5]]\n",
    "king = [3,3]\n",
    "ans = Solution()\n",
    "ans.queensAttacktheKing(queens, king)"
   ]
  },
  {
   "cell_type": "markdown",
   "id": "6faf04ee-2a38-4923-8679-8a68dad91ccf",
   "metadata": {},
   "source": [
    "# 91 2390. 从字符串中移除星号\n",
    "https://leetcode.cn/problems/removing-stars-from-a-string/description/"
   ]
  },
  {
   "cell_type": "code",
   "execution_count": 364,
   "id": "1d6acedd-a8c2-4338-994c-3a2c6fbe72fd",
   "metadata": {},
   "outputs": [
    {
     "data": {
      "text/plain": [
       "'lecoe'"
      ]
     },
     "execution_count": 364,
     "metadata": {},
     "output_type": "execute_result"
    }
   ],
   "source": [
    "class Solution:\n",
    "    def removeStars(self, s):\n",
    "        res = []\n",
    "        for i in s:\n",
    "            if i == \"*\":\n",
    "                res.pop()\n",
    "            else:\n",
    "                res.append(i)\n",
    "        return \"\".join(res)\n",
    "        \n",
    "s = \"leet**cod*e\"\n",
    "#s = \"erase*****\"\n",
    "ans = Solution()\n",
    "ans.removeStars(s)"
   ]
  },
  {
   "cell_type": "markdown",
   "id": "bcbb2e26-515a-4217-a6e4-042dc1a3576d",
   "metadata": {},
   "source": [
    "# 92 2352. 相等行列对\n",
    "https://leetcode.cn/problems/equal-row-and-column-pairs/description/"
   ]
  },
  {
   "cell_type": "code",
   "execution_count": 387,
   "id": "328d48bb-eb13-4468-929c-00b79137a8da",
   "metadata": {},
   "outputs": [
    {
     "data": {
      "text/plain": [
       "3"
      ]
     },
     "execution_count": 387,
     "metadata": {},
     "output_type": "execute_result"
    }
   ],
   "source": [
    "class Solution:\n",
    "    def equalPairs(self, grid):\n",
    "        g = [list(col) for col in zip(*grid)]\n",
    "        return sum(row == col for row in grid for col in g)\n",
    "\n",
    "grid = [[3,2,1],[1,7,6],[2,7,7]]\n",
    "grid = [[3,1,2,2],[1,4,4,5],[2,4,2,2],[2,4,2,2]]\n",
    "#grid = [[3,1,2,2],[1,4,4,4],[2,4,2,2],[2,5,2,2]] #3\n",
    "#grid = [[11,1],[1,11]] # 2\n",
    "\n",
    "ans = Solution()\n",
    "ans.equalPairs(grid)"
   ]
  },
  {
   "cell_type": "markdown",
   "id": "c2c8d025-9856-45fb-8f9a-5a4ee03132f5",
   "metadata": {},
   "source": [
    "# 93 784. 字母大小写全排列\n",
    "https://leetcode.cn/problems/letter-case-permutation/description/"
   ]
  },
  {
   "cell_type": "code",
   "execution_count": 402,
   "id": "4f7d0007-5eeb-4207-967b-a696781fb464",
   "metadata": {},
   "outputs": [
    {
     "data": {
      "text/plain": [
       "['3z4', '3Z4']"
      ]
     },
     "execution_count": 402,
     "metadata": {},
     "output_type": "execute_result"
    }
   ],
   "source": [
    "class Solution:\n",
    "    def letterCasePermutation(self, s):\n",
    "        res = [\"\"]\n",
    "        for i in s:\n",
    "            if i.isdigit():\n",
    "                res = [c + i for c in res]\n",
    "            else:\n",
    "                res = [c + i.lower() for c in res] + [c + i.upper() for c in res]\n",
    "        return res\n",
    "        \n",
    "        \n",
    "s = \"a1b2\"\n",
    "s = \"3z4\"\n",
    "ans = Solution()\n",
    "ans.letterCasePermutation(s)"
   ]
  },
  {
   "cell_type": "markdown",
   "id": "16e2081c-5398-4ae5-8969-3d5fe03d8751",
   "metadata": {},
   "source": [
    "# 94 面试题 17.11. 单词距离\n",
    "https://leetcode.cn/problems/find-closest-lcci/description/"
   ]
  },
  {
   "cell_type": "code",
   "execution_count": 406,
   "id": "2b0f3e68-6d58-40b1-911f-39aa3c09de5d",
   "metadata": {},
   "outputs": [
    {
     "data": {
      "text/plain": [
       "1"
      ]
     },
     "execution_count": 406,
     "metadata": {},
     "output_type": "execute_result"
    }
   ],
   "source": [
    "class Solution:\n",
    "    def findClosest(self, words, word1 , word2):\n",
    "        s1, s2 = [], []\n",
    "        for idx, c in enumerate(words):\n",
    "            if c == word1:\n",
    "                s1.append(idx)\n",
    "            elif c == word2:\n",
    "                s2.append(idx)\n",
    "        res = float(\"inf\")\n",
    "        temp = 1\n",
    "        for i in s1:\n",
    "            for j in s2:\n",
    "                res = min(res, abs(i - j))\n",
    "        return res\n",
    "        \n",
    "\n",
    "words = [\"I\",\"am\",\"a\",\"student\",\"from\",\"a\",\"university\",\"in\",\"a\",\"city\"]\n",
    "word1 = \"a\"\n",
    "word2 = \"student\"\n",
    "ans = Solution()\n",
    "ans.findClosest(words, word1 , word2)"
   ]
  },
  {
   "cell_type": "markdown",
   "id": "0ca455d4-1cb6-4ee7-8b5d-c5176e68173b",
   "metadata": {},
   "source": [
    "# 95 LCR 005. 最大单词长度乘积\n",
    "https://leetcode.cn/problems/aseY1I/description/"
   ]
  },
  {
   "cell_type": "code",
   "execution_count": 419,
   "id": "c4639c2a-f4f3-468a-99fc-1d2901bc86fd",
   "metadata": {},
   "outputs": [
    {
     "data": {
      "text/plain": [
       "0"
      ]
     },
     "execution_count": 419,
     "metadata": {},
     "output_type": "execute_result"
    }
   ],
   "source": [
    "from itertools import combinations\n",
    "class Solution:\n",
    "    def maxProduct(self, words):\n",
    "        s = [[set(i), i] for i in words]\n",
    "        res = 0\n",
    "        for i in combinations(s, 2):\n",
    "            if not i[0][0] &i[1][0]:\n",
    "                res = max(len(i[0][1]) * len(i[1][1]), res)\n",
    "        return res\n",
    "        \n",
    "        \n",
    "words = [\"abcw\",\"baz\",\"foo\",\"bar\",\"fxyz\",\"abcdef\"]\n",
    "words = [\"a\",\"ab\",\"abc\",\"d\",\"cd\",\"bcd\",\"abcd\"]\n",
    "words = [\"a\",\"aa\",\"aaa\",\"aaaa\"]\n",
    "ans = Solution()\n",
    "ans.maxProduct(words)"
   ]
  },
  {
   "cell_type": "code",
   "execution_count": null,
   "id": "6b2c48bc-1b70-419e-8d85-33777d0bf4e8",
   "metadata": {},
   "outputs": [],
   "source": []
  }
 ],
 "metadata": {
  "kernelspec": {
   "display_name": "Python 3 (ipykernel)",
   "language": "python",
   "name": "python3"
  },
  "language_info": {
   "codemirror_mode": {
    "name": "ipython",
    "version": 3
   },
   "file_extension": ".py",
   "mimetype": "text/x-python",
   "name": "python",
   "nbconvert_exporter": "python",
   "pygments_lexer": "ipython3",
   "version": "3.10.6"
  }
 },
 "nbformat": 4,
 "nbformat_minor": 5
}
