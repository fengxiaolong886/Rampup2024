{
 "cells": [
  {
   "cell_type": "markdown",
   "id": "531a4392-9455-4968-bb0b-843ef68babdf",
   "metadata": {},
   "source": [
    "# Basic alogtithm for List"
   ]
  },
  {
   "cell_type": "markdown",
   "id": "32040b1d-abc8-4f84-8977-27ba1c0f875c",
   "metadata": {},
   "source": [
    "# 1. 704 二分查找\n",
    "https://leetcode.cn/problems/binary-search/description/"
   ]
  },
  {
   "cell_type": "code",
   "execution_count": null,
   "id": "b511c992-04ae-4246-9175-53ef21c38622",
   "metadata": {},
   "outputs": [],
   "source": [
    "def search(nums, target):\n",
    "    if target not in nums:\n",
    "        return -1\n",
    "    return nums.index(target)\n",
    "\n",
    "#nums = [-1,0,3,5,9,12]\n",
    "#target = 9\n",
    "\n",
    "nums = [-1,0,3,5,9,12]\n",
    "target = 2\n",
    "search(nums, target)"
   ]
  },
  {
   "cell_type": "code",
   "execution_count": null,
   "id": "e2288741-bc16-4b64-8790-458c4d023c9c",
   "metadata": {},
   "outputs": [],
   "source": [
    "class Solution:\n",
    "    def search(self, nums: List[int], target: int) -> int:\n",
    "        if target not in nums:\n",
    "            return -1\n",
    "        return nums.index(target)"
   ]
  },
  {
   "cell_type": "markdown",
   "id": "10dc3594-24e2-4a5c-9e2f-c680cf7968d1",
   "metadata": {},
   "source": [
    "# 2. 27. 移除元素\n",
    "https://leetcode.cn/problems/remove-element/description/"
   ]
  },
  {
   "cell_type": "code",
   "execution_count": null,
   "id": "7a2ac754-abc1-466f-a447-7f4e700f0eb2",
   "metadata": {},
   "outputs": [],
   "source": [
    "def removeElement(nums, val):\n",
    "    while val in nums:\n",
    "        nums.remove(val) \n",
    "    \n",
    "nums = [3,2,2,3]\n",
    "val = 3\n",
    "print(removeElement(nums, val))"
   ]
  },
  {
   "cell_type": "code",
   "execution_count": null,
   "id": "d114ac7a-680d-4515-882c-2c5aadb11bac",
   "metadata": {},
   "outputs": [],
   "source": [
    "class Solution:\n",
    "    def removeElement(self, nums: List[int], val: int) -> int:\n",
    "        while val in nums:\n",
    "            nums.remove(val) \n"
   ]
  },
  {
   "cell_type": "markdown",
   "id": "a890a3c8-ed30-4724-8ea7-9218408c911d",
   "metadata": {},
   "source": [
    "# 3.  977.有序数组的平方\n",
    "https://leetcode.cn/problems/squares-of-a-sorted-array/description/"
   ]
  },
  {
   "cell_type": "code",
   "execution_count": null,
   "id": "ba40c78b-18e9-409b-b660-d8ffc4774492",
   "metadata": {},
   "outputs": [],
   "source": [
    "def sortedSquares(nums):\n",
    "    for i in range(len(nums)):\n",
    "        nums[i] = nums[i] ** 2\n",
    "    nums.sort(reverse = False)\n",
    "    return nums\n",
    "    \n",
    "nums = [-4,-1,0,3,10]\n",
    "sortedSquares(nums)"
   ]
  },
  {
   "cell_type": "code",
   "execution_count": null,
   "id": "70bb98e9-9f97-490a-bb77-171c9d8ba885",
   "metadata": {},
   "outputs": [],
   "source": [
    "class Solution:\n",
    "    def sortedSquares(self, nums: List[int]) -> List[int]:\n",
    "        for i in range(len(nums)):\n",
    "            nums[i] = nums[i] ** 2\n",
    "        nums.sort(reverse = False)\n",
    "        return nums"
   ]
  },
  {
   "cell_type": "markdown",
   "id": "efbc66dd-1061-4453-a900-33e93dddf1f2",
   "metadata": {},
   "source": [
    "# 4. 209.长度最小的子数组\n",
    "https://leetcode.cn/problems/minimum-size-subarray-sum/description\n"
   ]
  },
  {
   "cell_type": "markdown",
   "id": "c00769d2-2cc5-4058-8a86-4175fae7830e",
   "metadata": {},
   "source": [
    "方法一：超时"
   ]
  },
  {
   "cell_type": "code",
   "execution_count": 69,
   "id": "233dab19-3636-4dee-9911-c78b62292f06",
   "metadata": {},
   "outputs": [
    {
     "data": {
      "text/plain": [
       "2"
      ]
     },
     "execution_count": 69,
     "metadata": {},
     "output_type": "execute_result"
    }
   ],
   "source": [
    "def minSubArrayLen(target, nums):\n",
    "    n = len(nums)\n",
    "    res = float(\"+inf\")\n",
    "    for i in range(n):\n",
    "        for j in range(i + 1):\n",
    "            if sum(nums[j:i+ 1]) >= target:\n",
    "                res = min(res, len(nums[j:i+ 1]))\n",
    "                \n",
    "    if res == float(\"+inf\"): return 0\n",
    "    return res\n",
    "\n",
    "target = 7\n",
    "nums = [2,3,1,2,4,3]\n",
    "#target = 4\n",
    "#nums = [1,4,4]\n",
    "#target = 11\n",
    "#nums = [1,1,1,1,1,1,1,1]\n",
    "minSubArrayLen(target, nums)"
   ]
  },
  {
   "cell_type": "code",
   "execution_count": null,
   "id": "4306084c-a693-48a4-a785-7ce1901e2cbe",
   "metadata": {},
   "outputs": [],
   "source": [
    "class Solution:\n",
    "    def minSubArrayLen(self, target: int, nums: List[int]) -> int:\n",
    "        n = len(nums)\n",
    "        res = float(\"+inf\")\n",
    "        for i in range(n):\n",
    "            for j in range(i + 1):\n",
    "                if sum(nums[j:i+ 1]) >= target:\n",
    "                    res = min(res, len(nums[j:i+ 1]))\n",
    "        if res == float(\"+inf\"): return 0\n",
    "        return res"
   ]
  },
  {
   "cell_type": "markdown",
   "id": "2af337b8-53ba-464a-90fc-c51fb39e75ca",
   "metadata": {},
   "source": [
    "方法二：滑动窗口"
   ]
  },
  {
   "cell_type": "code",
   "execution_count": 76,
   "id": "029db4cb-4a5a-482a-ad98-8bdf8e334318",
   "metadata": {},
   "outputs": [
    {
     "data": {
      "text/plain": [
       "2"
      ]
     },
     "execution_count": 76,
     "metadata": {},
     "output_type": "execute_result"
    }
   ],
   "source": [
    "def minSubArrayLen(target, nums):\n",
    "    left, right = 0, 0\n",
    "    res = float(\"inf\")\n",
    "    cur_sum = 0\n",
    "    while right < len(nums):\n",
    "        cur_sum += nums[right]\n",
    "        while cur_sum >= target:\n",
    "            res = min(res, right - left + 1)\n",
    "            cur_sum -= nums[left]\n",
    "            left += 1\n",
    "        right += 1\n",
    "        \n",
    "    if res == float(\"+inf\"):\n",
    "        return 0\n",
    "    return res\n",
    "    \n",
    "target = 7\n",
    "nums = [2,3,1,2,4,3]\n",
    "#target = 4\n",
    "#nums = [1,4,4]\n",
    "#target = 11\n",
    "#nums = [1,1,1,1,1,1,1,1]\n",
    "minSubArrayLen(target, nums)"
   ]
  },
  {
   "cell_type": "code",
   "execution_count": null,
   "id": "4025853f-161c-4294-87d3-cf4b56cfa377",
   "metadata": {},
   "outputs": [],
   "source": [
    "class Solution:\n",
    "    def minSubArrayLen(self, target: int, nums: List[int]) -> int:\n",
    "        left, right = 0, 0\n",
    "        res = float(\"inf\")\n",
    "        cur_sum = 0\n",
    "        while right < len(nums):\n",
    "            cur_sum += nums[right]\n",
    "            while cur_sum >= target:\n",
    "                res = min(res, right - left + 1)\n",
    "                cur_sum -= nums[left]\n",
    "                left += 1\n",
    "            right += 1\n",
    "            \n",
    "        if res == float(\"+inf\"):\n",
    "            return 0\n",
    "        return res"
   ]
  },
  {
   "cell_type": "markdown",
   "id": "97b43c1a-4c99-4b1a-9c45-aba1a70a3719",
   "metadata": {},
   "source": [
    "# 5. 54. 螺旋矩阵\n",
    "https://leetcode.cn/problems/spiral-matrix/description/"
   ]
  },
  {
   "cell_type": "code",
   "execution_count": 148,
   "id": "450326da-a00d-4115-8442-7772f85910f2",
   "metadata": {},
   "outputs": [
    {
     "data": {
      "text/plain": [
       "[1, 2, 3, 4, 8, 12, 11, 10, 9, 5, 6, 7]"
      ]
     },
     "execution_count": 148,
     "metadata": {},
     "output_type": "execute_result"
    }
   ],
   "source": [
    "def spiralOrder(matrix):\n",
    "    if not matrix or not matrix[0]: \n",
    "        return list()\n",
    "    row = len(matrix)\n",
    "    columns = len(matrix[0])\n",
    "    res = []\n",
    "    left, right, top, bottom = 0, columns - 1, 0,  row -1\n",
    "    while left <= right and top <= bottom:\n",
    "        for column in range(left, right + 1):\n",
    "            res.append(matrix[top][column])\n",
    "        for row in range(top + 1, bottom + 1):\n",
    "            res.append(matrix[row][right])\n",
    "        if left <  right and top < bottom:\n",
    "            for column in range(right -1, left, -1):\n",
    "                res.append(matrix[bottom][column])\n",
    "            for row in range(bottom, top, -1):\n",
    "                res.append(matrix[row][left])\n",
    "        left, right, top, bottom = left + 1, right -1 , top + 1,  bottom -1\n",
    "    return res\n",
    "\n",
    "matrix = [[1,2,3],[4,5,6],[7,8,9]]\n",
    "matrix = [[1,2,3,4],[5,6,7,8],[9,10,11,12]]\n",
    "spiralOrder(matrix)"
   ]
  },
  {
   "cell_type": "code",
   "execution_count": null,
   "id": "ee2c06bd-50c1-4e04-b3d1-218ec39a1c8e",
   "metadata": {},
   "outputs": [],
   "source": [
    "class Solution:\n",
    "    def spiralOrder(self, matrix: List[List[int]]) -> List[int]:\n",
    "        if not matrix or not matrix[0]: \n",
    "            return list()\n",
    "        row = len(matrix)\n",
    "        columns = len(matrix[0])\n",
    "        res = []\n",
    "        left, right, top, bottom = 0, columns - 1, 0,  row -1\n",
    "        while left <= right and top <= bottom:\n",
    "            for column in range(left, right + 1):\n",
    "                res.append(matrix[top][column])\n",
    "            for row in range(top + 1, bottom + 1):\n",
    "                res.append(matrix[row][right])\n",
    "            if left <  right and top < bottom:\n",
    "                for column in range(right -1, left, -1):\n",
    "                    res.append(matrix[bottom][column])\n",
    "                for row in range(bottom, top, -1):\n",
    "                    res.append(matrix[row][left])\n",
    "            left, right, top, bottom = left + 1, right -1 , top + 1,  bottom -1\n",
    "        return res\n"
   ]
  },
  {
   "cell_type": "markdown",
   "id": "cc157676-579f-4878-8826-71a33e4a76b6",
   "metadata": {},
   "source": [
    "# 6.  59.螺旋矩阵II\n",
    "https://leetcode.cn/problems/spiral-matrix-ii/description/\n",
    "\n",
    "给你一个正整数 n ，生成一个包含 1 到 n2 所有元素，且元素按顺时针顺序螺旋排列的 n x n 正方形矩阵 matrix 。\n"
   ]
  },
  {
   "cell_type": "code",
   "execution_count": 151,
   "id": "887c25c4-3f07-4291-a289-6ff1cf92b327",
   "metadata": {},
   "outputs": [
    {
     "data": {
      "text/plain": [
       "[[1, 2, 3], [8, 9, 4], [7, 6, 5]]"
      ]
     },
     "execution_count": 151,
     "metadata": {},
     "output_type": "execute_result"
    }
   ],
   "source": [
    "def generateMatrix(n):\n",
    "    if n == 1:\n",
    "        return [[1]]\n",
    "    \n",
    "    row, columns = n, n\n",
    "    matrix = [[0] * n for _ in range(n)]\n",
    "    left, right, top, bottom = 0, columns - 1, 0,  row -1\n",
    "    i = 1\n",
    "    while left <= right and top <= bottom:\n",
    "        for column in range(left, right + 1):\n",
    "            matrix[top][column] = i\n",
    "            i += 1\n",
    "        for row in range(top + 1, bottom + 1):\n",
    "            matrix[row][right] = i\n",
    "            i += 1\n",
    "        if left <  right and top < bottom:\n",
    "            for column in range(right -1, left, -1):\n",
    "                matrix[bottom][column] = i\n",
    "                i += 1\n",
    "            for row in range(bottom, top, -1):\n",
    "                matrix[row][left] = i\n",
    "                i += 1\n",
    "        left, right, top, bottom = left + 1, right -1 , top + 1,  bottom -1\n",
    "    return matrix\n",
    "\n",
    "n = 3\n",
    "generateMatrix(n)"
   ]
  },
  {
   "cell_type": "code",
   "execution_count": null,
   "id": "ae3837d9-066b-43e8-8360-9fa83dcc52db",
   "metadata": {},
   "outputs": [],
   "source": [
    "class Solution:\n",
    "    def generateMatrix(self, n: int) -> List[List[int]]:\n",
    "        if n == 1:\n",
    "            return [[1]]\n",
    "        \n",
    "        row, columns = n, n\n",
    "        matrix = [[0] * n for _ in range(n)]\n",
    "        left, right, top, bottom = 0, columns - 1, 0,  row -1\n",
    "        i = 1\n",
    "        while left <= right and top <= bottom:\n",
    "            for column in range(left, right + 1):\n",
    "                matrix[top][column] = i\n",
    "                i += 1\n",
    "            for row in range(top + 1, bottom + 1):\n",
    "                matrix[row][right] = i\n",
    "                i += 1\n",
    "            if left <  right and top < bottom:\n",
    "                for column in range(right -1, left, -1):\n",
    "                    matrix[bottom][column] = i\n",
    "                    i += 1\n",
    "                for row in range(bottom, top, -1):\n",
    "                    matrix[row][left] = i\n",
    "                    i += 1\n",
    "            left, right, top, bottom = left + 1, right -1 , top + 1,  bottom -1\n",
    "        return matrix"
   ]
  },
  {
   "cell_type": "markdown",
   "id": "1babfe0e-c993-4cc1-8ec9-279c67e6fce2",
   "metadata": {},
   "source": [
    "# Sliding Window"
   ]
  },
  {
   "cell_type": "code",
   "execution_count": null,
   "id": "3f0c007c-9c9d-4fc6-bbb1-79e2ccd81335",
   "metadata": {},
   "outputs": [],
   "source": []
  },
  {
   "cell_type": "code",
   "execution_count": null,
   "id": "21b3703a-9bd6-42f9-b78b-8c45c0bd0a4b",
   "metadata": {},
   "outputs": [],
   "source": [
    "438\n",
    "76\n",
    "159\n",
    "340\n",
    "3\n",
    "567\n",
    "992\n",
    "424\n",
    "239\n",
    "480"
   ]
  },
  {
   "cell_type": "markdown",
   "id": "59ec8076-01b3-4033-92ff-a27d3820e491",
   "metadata": {},
   "source": []
  }
 ],
 "metadata": {
  "kernelspec": {
   "display_name": "Python 3 (ipykernel)",
   "language": "python",
   "name": "python3"
  },
  "language_info": {
   "codemirror_mode": {
    "name": "ipython",
    "version": 3
   },
   "file_extension": ".py",
   "mimetype": "text/x-python",
   "name": "python",
   "nbconvert_exporter": "python",
   "pygments_lexer": "ipython3",
   "version": "3.10.6"
  }
 },
 "nbformat": 4,
 "nbformat_minor": 5
}
