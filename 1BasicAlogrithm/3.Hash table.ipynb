{
 "cells": [
  {
   "cell_type": "markdown",
   "id": "8fbb87e6-5236-4fa1-99bc-3cd69ce8c0ad",
   "metadata": {},
   "source": [
    "# Hash table\n",
    "https://programmercarl.com/%E5%93%88%E5%B8%8C%E8%A1%A8%E7%90%86%E8%AE%BA%E5%9F%BA%E7%A1%80.html"
   ]
  },
  {
   "cell_type": "markdown",
   "id": "c5e44089-5128-402a-9bed-85f8934f139f",
   "metadata": {},
   "source": [
    "# 1 454. 四数相加 II\n",
    "\n",
    "https://leetcode.cn/problems/4sum-ii/description/"
   ]
  },
  {
   "cell_type": "code",
   "execution_count": 21,
   "id": "21d6b3ee-3e3f-4b61-8cd8-167af1f6614a",
   "metadata": {},
   "outputs": [
    {
     "data": {
      "text/plain": [
       "1"
      ]
     },
     "execution_count": 21,
     "metadata": {},
     "output_type": "execute_result"
    }
   ],
   "source": [
    "# Timeout\n",
    "def fourSumCount(nums1, nums2, nums3, nums4):\n",
    "    res = 0\n",
    "    for i in nums1:\n",
    "        for j in nums2:\n",
    "            for k in nums3:\n",
    "                for l in nums4:\n",
    "                    if i + j + k + l == 0:\n",
    "                        res += 1\n",
    "    return res\n",
    "    \n",
    "\n",
    "nums1 = [1,2]\n",
    "nums2 = [-2,-1]\n",
    "nums3 = [-1,2]\n",
    "nums4 = [0,2]\n",
    "nums1 = [0]\n",
    "nums2 = [0]\n",
    "nums3 = [0]\n",
    "nums4 = [0]\n",
    "fourSumCount(nums1, nums2, nums3, nums4)"
   ]
  },
  {
   "cell_type": "code",
   "execution_count": 36,
   "id": "92cd43cb-c856-4cf2-acc9-fe8fecf8684f",
   "metadata": {},
   "outputs": [
    {
     "data": {
      "text/plain": [
       "1"
      ]
     },
     "execution_count": 36,
     "metadata": {},
     "output_type": "execute_result"
    }
   ],
   "source": [
    "from collections import defaultdict\n",
    "def fourSumCount(nums1, nums2, nums3, nums4):\n",
    "    s = defaultdict(lambda: 0)\n",
    "    res = 0\n",
    "    for i in nums1:\n",
    "        for j in nums2:\n",
    "            s[i + j] += 1\n",
    "    for i in nums3:\n",
    "        for j in nums4:\n",
    "            if -i- j in s:\n",
    "                res += s[-i-j]\n",
    "    return res\n",
    "\n",
    "nums1 = [1,2]\n",
    "nums2 = [-2,-1]\n",
    "nums3 = [-1,2]\n",
    "nums4 = [0,2]\n",
    "nums1 = [0]\n",
    "nums2 = [0]\n",
    "nums3 = [0]\n",
    "nums4 = [0]\n",
    "fourSumCount(nums1, nums2, nums3, nums4)"
   ]
  },
  {
   "cell_type": "code",
   "execution_count": null,
   "id": "c504141f-89a3-4618-b5a3-52c8b63ae349",
   "metadata": {},
   "outputs": [],
   "source": [
    "from collections import defaultdict\n",
    "class Solution:\n",
    "    def fourSumCount(self, nums1: List[int], nums2: List[int], nums3: List[int], nums4: List[int]) -> int:\n",
    "        s = defaultdict(lambda: 0)\n",
    "        res = 0\n",
    "        for i in nums1:\n",
    "            for j in nums2:\n",
    "                s[i + j] += 1\n",
    "        for i in nums3:\n",
    "            for j in nums4:\n",
    "                if -i- j in s:\n",
    "                    res += s[-i-j]\n",
    "        return res\n",
    "        "
   ]
  },
  {
   "cell_type": "markdown",
   "id": "a3a09294-3028-494b-9986-81b2064602b0",
   "metadata": {},
   "source": [
    "# 2. 15. 三数之和\n",
    "\n",
    "https://leetcode.cn/problems/3sum/description/"
   ]
  },
  {
   "cell_type": "code",
   "execution_count": 68,
   "id": "8b38f0b2-c3bf-4c49-84af-7494df03c585",
   "metadata": {},
   "outputs": [
    {
     "data": {
      "text/plain": [
       "[[0, 0, 0]]"
      ]
     },
     "execution_count": 68,
     "metadata": {},
     "output_type": "execute_result"
    }
   ],
   "source": [
    "# Timeout\n",
    "def threeSum(nums):\n",
    "    s = combinations(nums, 3)\n",
    "    res = []\n",
    "    for i in s:\n",
    "        if sum(i) == 0:\n",
    "            j = list(i)\n",
    "            j.sort()\n",
    "            if j not in res:\n",
    "                res.append(j)\n",
    "    return res\n",
    "    \n",
    "nums = [-1,0,1,2,-1,-4]\n",
    "nums = [0,1,1]\n",
    "nums = [0,0,0]\n",
    "threeSum(nums)"
   ]
  },
  {
   "cell_type": "code",
   "execution_count": 112,
   "id": "00ae6e0a-78b3-4ec8-83d5-265869ec0204",
   "metadata": {},
   "outputs": [
    {
     "data": {
      "text/plain": [
       "[[-1, -1, 2], [-1, 0, 1]]"
      ]
     },
     "execution_count": 112,
     "metadata": {},
     "output_type": "execute_result"
    }
   ],
   "source": [
    "def threeSum(nums):\n",
    "    nums.sort()\n",
    "    res = []\n",
    "    for i in range(len(nums)):\n",
    "        if nums[i] > 0:\n",
    "            return res\n",
    "\n",
    "        if i > 0 and nums[i] == nums[i - 1]:\n",
    "            continue\n",
    "\n",
    "        left, right  = i + 1, len(nums) -1\n",
    "        while right > left:\n",
    "            sum_ = nums[i] + nums[left] + nums[right]\n",
    "            if sum_ < 0:\n",
    "                left += 1\n",
    "            elif sum_ > 0:\n",
    "                right -= 1\n",
    "            else:\n",
    "                temp = [nums[i], nums[left], nums[right]]\n",
    "                res.append(temp)\n",
    "                while right > left and nums[right] == nums[right - 1]:\n",
    "                    right -= 1\n",
    "                while right > left and nums[left] == nums[left + 1]:\n",
    "                    left += 1\n",
    "                right -= 1\n",
    "                left += 1\n",
    "    return res\n",
    "    \n",
    "nums = [-1,0,1,2,-1,-4]\n",
    "#nums = [0,1,1]\n",
    "#ums = [0,0,0]\n",
    "#nums = [3,0,-2,-1,1,2]\n",
    "threeSum(nums)"
   ]
  },
  {
   "cell_type": "code",
   "execution_count": null,
   "id": "f1ff7674-a048-434b-92d0-b340ddbc2d3d",
   "metadata": {},
   "outputs": [],
   "source": [
    "class Solution:\n",
    "    def threeSum(self, nums: List[int]) -> List[List[int]]:\n",
    "        nums.sort()\n",
    "        res = []\n",
    "        for i in range(len(nums)):\n",
    "            if nums[i] > 0:\n",
    "                return res\n",
    "    \n",
    "            if i > 0 and nums[i] == nums[i - 1]:\n",
    "                continue\n",
    "    \n",
    "            left, right  = i + 1, len(nums) -1\n",
    "            while right > left:\n",
    "                sum_ = nums[i] + nums[left] + nums[right]\n",
    "                if sum_ < 0:\n",
    "                    left += 1\n",
    "                elif sum_ > 0:\n",
    "                    right -= 1\n",
    "                else:\n",
    "                    temp = [nums[i], nums[left], nums[right]]\n",
    "                    res.append(temp)\n",
    "                    while right > left and nums[right] == nums[right - 1]:\n",
    "                        right -= 1\n",
    "                    while right > left and nums[left] == nums[left + 1]:\n",
    "                        left += 1\n",
    "                    right -= 1\n",
    "                    left += 1\n",
    "        return res\n",
    "    "
   ]
  },
  {
   "cell_type": "markdown",
   "id": "77fa7c11-81fa-40a7-b8a7-646d135325a8",
   "metadata": {},
   "source": [
    "# 3.  18. 四数之和\n",
    "https://leetcode.cn/problems/4sum/description/"
   ]
  },
  {
   "cell_type": "code",
   "execution_count": 142,
   "id": "93837190-96a4-434d-b5be-a6d254e5b5fa",
   "metadata": {},
   "outputs": [
    {
     "data": {
      "text/plain": [
       "[[-3, -2, 4, 5], [-5, 0, 4, 5]]"
      ]
     },
     "execution_count": 142,
     "metadata": {},
     "output_type": "execute_result"
    }
   ],
   "source": [
    "from itertools import combinations\n",
    "def fourSum(nums, target):\n",
    "    s = combinations(nums, 4)\n",
    "    res = []\n",
    "    for i in s:\n",
    "        if sum(i) == target:\n",
    "            res.append(i)\n",
    "    res = list(set(res))\n",
    "    res = [sorted(list(i)) for i in res]\n",
    "    res1 = []\n",
    "    for i in res:\n",
    "        if i not in res1:\n",
    "            res1.append(i)\n",
    "    return res1\n",
    "\n",
    "nums = [1,0,-1,0,-2,2]\n",
    "target = 0\n",
    "#nums = [2,2,2,2,2]\n",
    "#target = 8\n",
    "nums = [-5,5,4,-3,0,0,4,-2]\n",
    "target = 4\n",
    "fourSum(nums, target)"
   ]
  },
  {
   "cell_type": "code",
   "execution_count": 147,
   "id": "43c219c0-6b39-4f62-b916-e35a8cac4fd8",
   "metadata": {},
   "outputs": [
    {
     "data": {
      "text/plain": [
       "[[-3, -2, 4, 5], [-5, 0, 4, 5]]"
      ]
     },
     "execution_count": 147,
     "metadata": {},
     "output_type": "execute_result"
    }
   ],
   "source": [
    "from collections import Counter\n",
    "def fourSum(nums, target):\n",
    "    freq = Counter(nums)\n",
    "    res = set()\n",
    "    for i in range(len(nums)):\n",
    "        for j in range(i + 1, len(nums)):\n",
    "            for k in range(j + 1, len(nums)):\n",
    "                val = target - (nums[i] + nums[j] + nums[k])\n",
    "                if val in freq:\n",
    "                    count = (nums[i] == val) + (nums[j] == val) + (nums[k] == val)\n",
    "                    if freq[val] > count:\n",
    "                        res.add(tuple(sorted([nums[i], nums[j], nums[k], val])))\n",
    "\n",
    "    return [list(x) for x in res]\n",
    "\n",
    "nums = [1,0,-1,0,-2,2]\n",
    "target = 0\n",
    "#nums = [2,2,2,2,2]\n",
    "#target = 8\n",
    "nums = [-5,5,4,-3,0,0,4,-2]\n",
    "target = 4\n",
    "fourSum(nums, target)"
   ]
  },
  {
   "cell_type": "code",
   "execution_count": null,
   "id": "8d0fa41a-75f6-4b53-b939-e9c057b98ab0",
   "metadata": {},
   "outputs": [],
   "source": [
    "class Solution:\n",
    "    def fourSum(self, nums: List[int], target: int) -> List[List[int]]:\n",
    "        freq = Counter(nums)\n",
    "        res = set()\n",
    "        for i in range(len(nums)):\n",
    "            for j in range(i + 1, len(nums)):\n",
    "                for k in range(j + 1, len(nums)):\n",
    "                    val = target - (nums[i] + nums[j] + nums[k])\n",
    "                    if val in freq:\n",
    "                        count = (nums[i] == val) + (nums[j] == val) + (nums[k] == val)\n",
    "                        if freq[val] > count:\n",
    "                            res.add(tuple(sorted([nums[i], nums[j], nums[k], val])))\n",
    "    \n",
    "        return [list(x) for x in res]\n"
   ]
  }
 ],
 "metadata": {
  "kernelspec": {
   "display_name": "Python 3 (ipykernel)",
   "language": "python",
   "name": "python3"
  },
  "language_info": {
   "codemirror_mode": {
    "name": "ipython",
    "version": 3
   },
   "file_extension": ".py",
   "mimetype": "text/x-python",
   "name": "python",
   "nbconvert_exporter": "python",
   "pygments_lexer": "ipython3",
   "version": "3.10.6"
  }
 },
 "nbformat": 4,
 "nbformat_minor": 5
}
