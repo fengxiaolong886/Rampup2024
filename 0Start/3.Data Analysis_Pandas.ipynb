{
 "cells": [
  {
   "cell_type": "markdown",
   "id": "7d4e1580-5959-467b-ab2a-815531968eb5",
   "metadata": {},
   "source": [
    "Follow: https://github.com/jackfrued/Python-100-Days/blob/master/Day66-80/72.%E6%B7%B1%E5%85%A5%E6%B5%85%E5%87%BApandas-1.md"
   ]
  },
  {
   "cell_type": "markdown",
   "id": "64ec6bfd-5b04-4b1e-be74-e0aae32280fa",
   "metadata": {},
   "source": [
    "# 72"
   ]
  },
  {
   "cell_type": "code",
   "execution_count": 1,
   "id": "60a658ad-fc37-46ad-9285-d51f7ea6342d",
   "metadata": {},
   "outputs": [],
   "source": [
    "import numpy as np\n",
    "import pandas as pd\n"
   ]
  },
  {
   "cell_type": "code",
   "execution_count": 3,
   "id": "b1859bae-da0d-4de4-8ea0-47eca40e1837",
   "metadata": {},
   "outputs": [
    {
     "data": {
      "text/plain": [
       "Q1    120\n",
       "Q2    380\n",
       "Q3    250\n",
       "Q4    360\n",
       "dtype: int64"
      ]
     },
     "execution_count": 3,
     "metadata": {},
     "output_type": "execute_result"
    }
   ],
   "source": [
    "ser1 = pd.Series(data = [120, 380, 250, 360], index = [\"Q1\", \"Q2\", \"Q3\", \"Q4\"])\n",
    "ser1"
   ]
  },
  {
   "cell_type": "code",
   "execution_count": 7,
   "id": "b5b963b4-e200-480b-a067-124c1aae4845",
   "metadata": {},
   "outputs": [
    {
     "data": {
      "text/plain": [
       "Q1    320\n",
       "Q2    180\n",
       "Q3    300\n",
       "Q4    405\n",
       "dtype: int64"
      ]
     },
     "execution_count": 7,
     "metadata": {},
     "output_type": "execute_result"
    }
   ],
   "source": [
    "ser2 = pd.Series({'Q1': 320, \"Q2\": 180, 'Q3': 300, 'Q4': 405})\n",
    "ser2"
   ]
  },
  {
   "cell_type": "code",
   "execution_count": 8,
   "id": "b90573d8-701b-4607-a26e-539b09869ace",
   "metadata": {},
   "outputs": [
    {
     "data": {
      "text/plain": [
       "Q1    440\n",
       "Q2    560\n",
       "Q3    550\n",
       "Q4    765\n",
       "dtype: int64"
      ]
     },
     "execution_count": 8,
     "metadata": {},
     "output_type": "execute_result"
    }
   ],
   "source": [
    "ser1 + ser2"
   ]
  },
  {
   "cell_type": "code",
   "execution_count": 9,
   "id": "a51b511e-80c1-4402-9d56-abb19843b31d",
   "metadata": {},
   "outputs": [
    {
     "name": "stderr",
     "output_type": "stream",
     "text": [
      "/tmp/ipykernel_124249/1246933833.py:1: FutureWarning: Series.__getitem__ treating keys as positions is deprecated. In a future version, integer keys will always be treated as labels (consistent with DataFrame behavior). To access a value by position, use `ser.iloc[pos]`\n",
      "  ser1[2]\n"
     ]
    },
    {
     "data": {
      "text/plain": [
       "np.int64(250)"
      ]
     },
     "execution_count": 9,
     "metadata": {},
     "output_type": "execute_result"
    }
   ],
   "source": [
    "ser1[2]"
   ]
  },
  {
   "cell_type": "code",
   "execution_count": 11,
   "id": "23fc0513-6bde-42b8-9c4e-4f1c196da95a",
   "metadata": {},
   "outputs": [
    {
     "data": {
      "text/plain": [
       "np.int64(120)"
      ]
     },
     "execution_count": 11,
     "metadata": {},
     "output_type": "execute_result"
    }
   ],
   "source": [
    "ser1[\"Q1\"]"
   ]
  },
  {
   "cell_type": "code",
   "execution_count": 12,
   "id": "f957c4ad-fef9-4a56-be61-34d73ca70169",
   "metadata": {},
   "outputs": [],
   "source": [
    "ser1[\"Q1\"] = 9999"
   ]
  },
  {
   "cell_type": "code",
   "execution_count": 14,
   "id": "5fbbfa47-8e0d-4315-a113-c930e2d0fa7b",
   "metadata": {},
   "outputs": [
    {
     "data": {
      "text/plain": [
       "Q1    9999\n",
       "Q2     380\n",
       "Q3     250\n",
       "Q4     360\n",
       "dtype: int64"
      ]
     },
     "execution_count": 14,
     "metadata": {},
     "output_type": "execute_result"
    }
   ],
   "source": [
    "ser1"
   ]
  },
  {
   "cell_type": "code",
   "execution_count": 16,
   "id": "853bf808-ef34-4ba9-93b6-8be823d9617c",
   "metadata": {},
   "outputs": [
    {
     "data": {
      "text/plain": [
       "Q2    380\n",
       "Q3    250\n",
       "Q4    360\n",
       "dtype: int64"
      ]
     },
     "execution_count": 16,
     "metadata": {},
     "output_type": "execute_result"
    }
   ],
   "source": [
    "ser1[1:]"
   ]
  },
  {
   "cell_type": "code",
   "execution_count": 17,
   "id": "1fb1d49f-677b-4a32-b619-00434d4354d1",
   "metadata": {},
   "outputs": [
    {
     "data": {
      "text/plain": [
       "Q2    380\n",
       "Q3    250\n",
       "Q4    360\n",
       "dtype: int64"
      ]
     },
     "execution_count": 17,
     "metadata": {},
     "output_type": "execute_result"
    }
   ],
   "source": [
    "ser1[\"Q2\":\"Q4\"]"
   ]
  },
  {
   "cell_type": "code",
   "execution_count": 26,
   "id": "a1e31db7-95a1-44ab-a9fe-74e7751e28bf",
   "metadata": {},
   "outputs": [
    {
     "name": "stdout",
     "output_type": "stream",
     "text": [
      "int64\n",
      "False\n",
      "Index(['Q1', 'Q2', 'Q3', 'Q4'], dtype='object')\n",
      "[9999  380  250  360]\n",
      "False\n",
      "True\n"
     ]
    }
   ],
   "source": [
    "print(ser1.dtype)\n",
    "print(ser1.hasnans)\n",
    "print(ser1.index)\n",
    "print(ser1.values)\n",
    "print(ser1.is_monotonic_increasing)\n",
    "print(ser1.is_unique)"
   ]
  },
  {
   "cell_type": "code",
   "execution_count": 37,
   "id": "0331ad6e-4cc9-4ffc-910f-e90eb6a8abc5",
   "metadata": {},
   "outputs": [
    {
     "name": "stdout",
     "output_type": "stream",
     "text": [
      "4\n",
      "10989\n",
      "2747.25\n",
      "370.0\n",
      "9999\n",
      "250\n",
      "4834.83783768046\n",
      "23375656.916666668\n"
     ]
    }
   ],
   "source": [
    "print(ser1.count())\n",
    "print(ser1.sum())\n",
    "print(ser1.mean())\n",
    "print(ser1.median())\n",
    "print(ser1.max())\n",
    "print(ser1.min())\n",
    "print(ser1.std())\n",
    "print(ser1.var())"
   ]
  },
  {
   "cell_type": "code",
   "execution_count": 38,
   "id": "67a46608-760f-4bd2-911e-03c825013736",
   "metadata": {},
   "outputs": [
    {
     "data": {
      "text/plain": [
       "count       4.000000\n",
       "mean     2747.250000\n",
       "std      4834.837838\n",
       "min       250.000000\n",
       "25%       332.500000\n",
       "50%       370.000000\n",
       "75%      2784.750000\n",
       "max      9999.000000\n",
       "dtype: float64"
      ]
     },
     "execution_count": 38,
     "metadata": {},
     "output_type": "execute_result"
    }
   ],
   "source": [
    "ser1.describe()"
   ]
  },
  {
   "cell_type": "code",
   "execution_count": 39,
   "id": "a26a3d63-dfab-4efe-9b1a-02e73deda6d3",
   "metadata": {},
   "outputs": [
    {
     "data": {
      "text/plain": [
       "apple     3\n",
       "pitaya    2\n",
       "banana    1\n",
       "durian    1\n",
       "Name: count, dtype: int64"
      ]
     },
     "execution_count": 39,
     "metadata": {},
     "output_type": "execute_result"
    }
   ],
   "source": [
    "ser3 = pd.Series(data=['apple', 'banana', 'apple', 'pitaya', 'apple', 'pitaya', 'durian'])\n",
    "ser3.value_counts()"
   ]
  },
  {
   "cell_type": "code",
   "execution_count": 41,
   "id": "52140fac-4a33-4125-9a0f-128e927474f2",
   "metadata": {},
   "outputs": [
    {
     "data": {
      "text/plain": [
       "4"
      ]
     },
     "execution_count": 41,
     "metadata": {},
     "output_type": "execute_result"
    }
   ],
   "source": [
    "ser3.nunique()"
   ]
  },
  {
   "cell_type": "code",
   "execution_count": 42,
   "id": "7935a252-03fe-46d5-8750-dfa5a52f7558",
   "metadata": {},
   "outputs": [
    {
     "data": {
      "text/plain": [
       "0    apple\n",
       "dtype: object"
      ]
     },
     "execution_count": 42,
     "metadata": {},
     "output_type": "execute_result"
    }
   ],
   "source": [
    "ser3.mode()"
   ]
  },
  {
   "cell_type": "code",
   "execution_count": 43,
   "id": "e2ed1c91-302c-458c-9fc5-3504c71f55ea",
   "metadata": {},
   "outputs": [
    {
     "data": {
      "text/plain": [
       "0    False\n",
       "1    False\n",
       "2     True\n",
       "3    False\n",
       "4     True\n",
       "dtype: bool"
      ]
     },
     "execution_count": 43,
     "metadata": {},
     "output_type": "execute_result"
    }
   ],
   "source": [
    "ser4 = pd.Series(data=[10, 20, np.nan, 30, np.nan])\n",
    "ser4.isna()"
   ]
  },
  {
   "cell_type": "code",
   "execution_count": 44,
   "id": "1c306856-4115-47d0-9456-5c95dd50f01d",
   "metadata": {},
   "outputs": [
    {
     "data": {
      "text/plain": [
       "0     True\n",
       "1     True\n",
       "2    False\n",
       "3     True\n",
       "4    False\n",
       "dtype: bool"
      ]
     },
     "execution_count": 44,
     "metadata": {},
     "output_type": "execute_result"
    }
   ],
   "source": [
    "ser4.notna()"
   ]
  },
  {
   "cell_type": "code",
   "execution_count": 45,
   "id": "798d5945-92a1-4da2-b7ac-b61596a8af48",
   "metadata": {},
   "outputs": [
    {
     "data": {
      "text/plain": [
       "0    10.0\n",
       "1    20.0\n",
       "3    30.0\n",
       "dtype: float64"
      ]
     },
     "execution_count": 45,
     "metadata": {},
     "output_type": "execute_result"
    }
   ],
   "source": [
    "ser4.dropna()"
   ]
  },
  {
   "cell_type": "code",
   "execution_count": 47,
   "id": "f2a7184f-02ff-4cb3-a021-9db512735fac",
   "metadata": {},
   "outputs": [
    {
     "data": {
      "text/plain": [
       "0     10.0\n",
       "1     20.0\n",
       "2    999.0\n",
       "3     30.0\n",
       "4    999.0\n",
       "dtype: float64"
      ]
     },
     "execution_count": 47,
     "metadata": {},
     "output_type": "execute_result"
    }
   ],
   "source": [
    "ser4.fillna(999.0)"
   ]
  },
  {
   "cell_type": "code",
   "execution_count": 50,
   "id": "7dd099e3-e2df-4f8f-a95a-7829ab68062b",
   "metadata": {},
   "outputs": [
    {
     "data": {
      "text/plain": [
       "0    10.0\n",
       "1    20.0\n",
       "2    20.0\n",
       "3    30.0\n",
       "4    30.0\n",
       "dtype: float64"
      ]
     },
     "execution_count": 50,
     "metadata": {},
     "output_type": "execute_result"
    }
   ],
   "source": [
    "ser4.ffill()"
   ]
  },
  {
   "cell_type": "code",
   "execution_count": 51,
   "id": "d9859ff6-d57e-4bd6-be95-77edd6081f65",
   "metadata": {},
   "outputs": [
    {
     "data": {
      "text/plain": [
       "0    10.0\n",
       "1    20.0\n",
       "2    30.0\n",
       "3    30.0\n",
       "4     NaN\n",
       "dtype: float64"
      ]
     },
     "execution_count": 51,
     "metadata": {},
     "output_type": "execute_result"
    }
   ],
   "source": [
    "ser4.bfill()"
   ]
  },
  {
   "cell_type": "code",
   "execution_count": 55,
   "id": "d1731cf6-a98f-4f7c-8f7e-b1950fd9d4c9",
   "metadata": {},
   "outputs": [
    {
     "name": "stdout",
     "output_type": "stream",
     "text": [
      "0    0\n",
      "1    1\n",
      "2    2\n",
      "3    3\n",
      "4    4\n",
      "dtype: int64\n"
     ]
    },
    {
     "data": {
      "text/plain": [
       "0    NaN\n",
       "1    NaN\n",
       "2    2.0\n",
       "3    3.0\n",
       "4    4.0\n",
       "dtype: float64"
      ]
     },
     "execution_count": 55,
     "metadata": {},
     "output_type": "execute_result"
    }
   ],
   "source": [
    "ser5 = pd.Series(range(5))\n",
    "print(ser5)\n",
    "ser5.where(ser5 > 1)"
   ]
  },
  {
   "cell_type": "code",
   "execution_count": 58,
   "id": "6070306c-5ebc-4302-b08a-316854e1d058",
   "metadata": {},
   "outputs": [
    {
     "data": {
      "text/plain": [
       "0    23\n",
       "1    23\n",
       "2     2\n",
       "3     3\n",
       "4     4\n",
       "dtype: int64"
      ]
     },
     "execution_count": 58,
     "metadata": {},
     "output_type": "execute_result"
    }
   ],
   "source": [
    "ser5.where(ser5 > 1, 23)"
   ]
  },
  {
   "cell_type": "code",
   "execution_count": 59,
   "id": "1104f82a-3335-4c52-a120-989cf3b382dd",
   "metadata": {},
   "outputs": [
    {
     "data": {
      "text/plain": [
       "0     0\n",
       "1     1\n",
       "2    23\n",
       "3    23\n",
       "4    23\n",
       "dtype: int64"
      ]
     },
     "execution_count": 59,
     "metadata": {},
     "output_type": "execute_result"
    }
   ],
   "source": [
    "ser5.mask(ser5 > 1, 23)"
   ]
  },
  {
   "cell_type": "code",
   "execution_count": 60,
   "id": "4ac33e17-3328-4385-8046-a83bc52bbca5",
   "metadata": {},
   "outputs": [
    {
     "data": {
      "text/plain": [
       "0    False\n",
       "1    False\n",
       "2     True\n",
       "3    False\n",
       "4     True\n",
       "5     True\n",
       "6    False\n",
       "dtype: bool"
      ]
     },
     "execution_count": 60,
     "metadata": {},
     "output_type": "execute_result"
    }
   ],
   "source": [
    "ser3.duplicated()"
   ]
  },
  {
   "cell_type": "code",
   "execution_count": 62,
   "id": "dc82cb7b-c8ac-4334-9d32-d3ae50b4fbf3",
   "metadata": {},
   "outputs": [
    {
     "data": {
      "text/plain": [
       "0     apple\n",
       "1    banana\n",
       "3    pitaya\n",
       "6    durian\n",
       "dtype: object"
      ]
     },
     "execution_count": 62,
     "metadata": {},
     "output_type": "execute_result"
    }
   ],
   "source": [
    "ser3.drop_duplicates()"
   ]
  },
  {
   "cell_type": "code",
   "execution_count": 63,
   "id": "4479d3b0-5037-4ad9-8b48-a90cbeae6c4a",
   "metadata": {},
   "outputs": [
    {
     "data": {
      "text/plain": [
       "0       cat\n",
       "1       dog\n",
       "2       NaN\n",
       "3    rabbit\n",
       "dtype: object"
      ]
     },
     "execution_count": 63,
     "metadata": {},
     "output_type": "execute_result"
    }
   ],
   "source": [
    "ser6 = pd.Series(['cat', 'dog', np.nan, 'rabbit'])\n",
    "ser6"
   ]
  },
  {
   "cell_type": "code",
   "execution_count": 64,
   "id": "0e1c7f80-a756-4a89-bd4b-7df7d787a3f9",
   "metadata": {},
   "outputs": [
    {
     "data": {
      "text/plain": [
       "0    kitten\n",
       "1     puppy\n",
       "2       NaN\n",
       "3       NaN\n",
       "dtype: object"
      ]
     },
     "execution_count": 64,
     "metadata": {},
     "output_type": "execute_result"
    }
   ],
   "source": [
    "ser6.map({'cat': 'kitten', 'dog': 'puppy'})"
   ]
  },
  {
   "cell_type": "code",
   "execution_count": 65,
   "id": "ef914fee-6716-49d8-9f98-75fa420a8ed2",
   "metadata": {},
   "outputs": [
    {
     "data": {
      "text/plain": [
       "0       I am a cat\n",
       "1       I am a dog\n",
       "2              NaN\n",
       "3    I am a rabbit\n",
       "dtype: object"
      ]
     },
     "execution_count": 65,
     "metadata": {},
     "output_type": "execute_result"
    }
   ],
   "source": [
    "ser6.map(\"I am a {}\".format, na_action=\"ignore\")"
   ]
  },
  {
   "cell_type": "code",
   "execution_count": 66,
   "id": "e47c8c37-3e91-41da-b5d1-5dfac8a589ed",
   "metadata": {},
   "outputs": [
    {
     "data": {
      "text/plain": [
       "A    20\n",
       "B    21\n",
       "C    12\n",
       "dtype: int64"
      ]
     },
     "execution_count": 66,
     "metadata": {},
     "output_type": "execute_result"
    }
   ],
   "source": [
    "ser7 = pd.Series([20, 21, 12],  index=['A', 'B', 'C'])\n",
    "ser7"
   ]
  },
  {
   "cell_type": "code",
   "execution_count": 67,
   "id": "fa337163-abad-43ac-a45f-593ebe14288c",
   "metadata": {},
   "outputs": [
    {
     "data": {
      "text/plain": [
       "A    400\n",
       "B    441\n",
       "C    144\n",
       "dtype: int64"
      ]
     },
     "execution_count": 67,
     "metadata": {},
     "output_type": "execute_result"
    }
   ],
   "source": [
    "ser7.apply(np.square)"
   ]
  },
  {
   "cell_type": "code",
   "execution_count": 72,
   "id": "1957e264-5b64-4f70-a98e-fe288cb98dc7",
   "metadata": {},
   "outputs": [
    {
     "data": {
      "text/plain": [
       "A   -80\n",
       "B   -79\n",
       "C   -88\n",
       "dtype: int64"
      ]
     },
     "execution_count": 72,
     "metadata": {},
     "output_type": "execute_result"
    }
   ],
   "source": [
    "ser7.apply(lambda x, value: x - value, args= (100,))"
   ]
  },
  {
   "cell_type": "code",
   "execution_count": 73,
   "id": "ca521b4e-83e4-4ee0-8d58-59d089997b37",
   "metadata": {},
   "outputs": [],
   "source": [
    "ser8 = pd.Series(\n",
    "    data=[35, 96, 12, 57, 25, 89], \n",
    "    index=['grape', 'banana', 'pitaya', 'apple', 'peach', 'orange']\n",
    ")"
   ]
  },
  {
   "cell_type": "code",
   "execution_count": 77,
   "id": "60a0579c-c6d7-4e3d-9fc8-94000408d3bd",
   "metadata": {},
   "outputs": [
    {
     "data": {
      "text/plain": [
       "pitaya    12\n",
       "peach     25\n",
       "grape     35\n",
       "apple     57\n",
       "orange    89\n",
       "banana    96\n",
       "dtype: int64"
      ]
     },
     "execution_count": 77,
     "metadata": {},
     "output_type": "execute_result"
    }
   ],
   "source": [
    "ser8.sort_values()"
   ]
  },
  {
   "cell_type": "code",
   "execution_count": 78,
   "id": "0cd51b67-1939-4359-913f-5f2dac085380",
   "metadata": {},
   "outputs": [
    {
     "data": {
      "text/plain": [
       "banana    96\n",
       "orange    89\n",
       "apple     57\n",
       "grape     35\n",
       "peach     25\n",
       "pitaya    12\n",
       "dtype: int64"
      ]
     },
     "execution_count": 78,
     "metadata": {},
     "output_type": "execute_result"
    }
   ],
   "source": [
    "ser8.sort_values(ascending = False)"
   ]
  },
  {
   "cell_type": "code",
   "execution_count": 79,
   "id": "ee7b8829-ba25-452b-8261-dc529dc6891f",
   "metadata": {},
   "outputs": [
    {
     "data": {
      "text/plain": [
       "banana    96\n",
       "orange    89\n",
       "apple     57\n",
       "dtype: int64"
      ]
     },
     "execution_count": 79,
     "metadata": {},
     "output_type": "execute_result"
    }
   ],
   "source": [
    "ser8.nlargest(3)"
   ]
  },
  {
   "cell_type": "code",
   "execution_count": 80,
   "id": "73d7d910-a4a8-494d-87a8-e6af64bc7995",
   "metadata": {},
   "outputs": [
    {
     "data": {
      "text/plain": [
       "pitaya    12\n",
       "peach     25\n",
       "grape     35\n",
       "dtype: int64"
      ]
     },
     "execution_count": 80,
     "metadata": {},
     "output_type": "execute_result"
    }
   ],
   "source": [
    "ser8.nsmallest(3)"
   ]
  },
  {
   "cell_type": "code",
   "execution_count": 81,
   "id": "c7a228b8-2816-4932-85f7-14455d311a9b",
   "metadata": {},
   "outputs": [],
   "source": [
    "import matplotlib.pyplot as plt"
   ]
  },
  {
   "cell_type": "code",
   "execution_count": 89,
   "id": "9f236c46-c3fc-41e3-8a8c-790009047ad4",
   "metadata": {},
   "outputs": [
    {
     "name": "stderr",
     "output_type": "stream",
     "text": [
      "/tmp/ipykernel_124249/3291074471.py:6: FutureWarning: Series.__getitem__ treating keys as positions is deprecated. In a future version, integer keys will always be treated as labels (consistent with DataFrame behavior). To access a value by position, use `ser.iloc[pos]`\n",
      "  plt.text(i, ser9[i] +5, ser9[i], ha = \"center\")\n"
     ]
    },
    {
     "data": {
      "image/png": "[encoded data removed]",
      "text/plain": [
       "<Figure size 640x480 with 1 Axes>"
      ]
     },
     "metadata": {},
     "output_type": "display_data"
    }
   ],
   "source": [
    "ser9 = pd.Series({'Q1': 400, 'Q2': 520, 'Q3': 180, 'Q4': 380})\n",
    "ser9.plot(kind = \"bar\")\n",
    "plt.ylim(0, 600)\n",
    "plt.xticks(rotation = -0)\n",
    "for i in range(ser9.size):\n",
    "    plt.text(i, ser9[i] +5, ser9[i], ha = \"center\")\n",
    "plt.show()\n"
   ]
  },
  {
   "cell_type": "code",
   "execution_count": 96,
   "id": "087f7e28-393d-49df-a961-9dd154e5d372",
   "metadata": {},
   "outputs": [
    {
     "data": {
      "image/png": "[encoded data removed]",
      "text/plain": [
       "<Figure size 640x480 with 1 Axes>"
      ]
     },
     "metadata": {},
     "output_type": "display_data"
    }
   ],
   "source": [
    "ser9.plot(kind = \"pie\", autopct = \"%.1f%%\", pctdistance = 0.5)\n",
    "plt.show()"
   ]
  },
  {
   "cell_type": "markdown",
   "id": "599063f7-4c59-4f7a-af35-9eb463cc8d90",
   "metadata": {},
   "source": [
    "# 73"
   ]
  },
  {
   "cell_type": "code",
   "execution_count": 97,
   "id": "7f665f4b-47ed-4a92-a7d5-c4b3a79088ce",
   "metadata": {},
   "outputs": [],
   "source": [
    "import numpy as np\n",
    "import pandas as pd"
   ]
  },
  {
   "cell_type": "code",
   "execution_count": 99,
   "id": "955f09b8-4987-46aa-9ecd-f209135a90ce",
   "metadata": {},
   "outputs": [
    {
     "data": {
      "text/html": [
       "<div>\n",
       "<style scoped>\n",
       "    .dataframe tbody tr th:only-of-type {\n",
       "        vertical-align: middle;\n",
       "    }\n",
       "\n",
       "    .dataframe tbody tr th {\n",
       "        vertical-align: top;\n",
       "    }\n",
       "\n",
       "    .dataframe thead th {\n",
       "        text-align: right;\n",
       "    }\n",
       "</style>\n",
       "<table border=\"1\" class=\"dataframe\">\n",
       "  <thead>\n",
       "    <tr style=\"text-align: right;\">\n",
       "      <th></th>\n",
       "      <th>Music</th>\n",
       "      <th>Math</th>\n",
       "      <th>English</th>\n",
       "    </tr>\n",
       "  </thead>\n",
       "  <tbody>\n",
       "    <tr>\n",
       "      <th>1001</th>\n",
       "      <td>68</td>\n",
       "      <td>67</td>\n",
       "      <td>61</td>\n",
       "    </tr>\n",
       "    <tr>\n",
       "      <th>1002</th>\n",
       "      <td>91</td>\n",
       "      <td>81</td>\n",
       "      <td>88</td>\n",
       "    </tr>\n",
       "    <tr>\n",
       "      <th>1003</th>\n",
       "      <td>90</td>\n",
       "      <td>93</td>\n",
       "      <td>60</td>\n",
       "    </tr>\n",
       "    <tr>\n",
       "      <th>1004</th>\n",
       "      <td>72</td>\n",
       "      <td>70</td>\n",
       "      <td>68</td>\n",
       "    </tr>\n",
       "    <tr>\n",
       "      <th>1005</th>\n",
       "      <td>65</td>\n",
       "      <td>91</td>\n",
       "      <td>71</td>\n",
       "    </tr>\n",
       "  </tbody>\n",
       "</table>\n",
       "</div>"
      ],
      "text/plain": [
       "      Music  Math  English\n",
       "1001     68    67       61\n",
       "1002     91    81       88\n",
       "1003     90    93       60\n",
       "1004     72    70       68\n",
       "1005     65    91       71"
      ]
     },
     "execution_count": 99,
     "metadata": {},
     "output_type": "execute_result"
    }
   ],
   "source": [
    "scores = np.random.randint(60, 101, (5, 3))\n",
    "courses = [\"Music\", \"Math\", \"English\"]\n",
    "stu_ids = np.arange(1001, 1006)\n",
    "df1 = pd.DataFrame(data = scores, columns = courses, index = stu_ids)\n",
    "df1"
   ]
  },
  {
   "cell_type": "code",
   "execution_count": 101,
   "id": "4db18218-365c-4624-834d-e7381c27e531",
   "metadata": {},
   "outputs": [],
   "source": [
    "df3 = pd.read_csv(\"./Test_Data/2018年北京积分落户数据.csv\", index_col= \"id\")"
   ]
  },
  {
   "cell_type": "code",
   "execution_count": 102,
   "id": "deed574c-5161-4d2a-a33d-8df4737a8ee5",
   "metadata": {},
   "outputs": [
    {
     "data": {
      "text/html": [
       "<div>\n",
       "<style scoped>\n",
       "    .dataframe tbody tr th:only-of-type {\n",
       "        vertical-align: middle;\n",
       "    }\n",
       "\n",
       "    .dataframe tbody tr th {\n",
       "        vertical-align: top;\n",
       "    }\n",
       "\n",
       "    .dataframe thead th {\n",
       "        text-align: right;\n",
       "    }\n",
       "</style>\n",
       "<table border=\"1\" class=\"dataframe\">\n",
       "  <thead>\n",
       "    <tr style=\"text-align: right;\">\n",
       "      <th></th>\n",
       "      <th>name</th>\n",
       "      <th>birthday</th>\n",
       "      <th>company</th>\n",
       "      <th>score</th>\n",
       "    </tr>\n",
       "    <tr>\n",
       "      <th>id</th>\n",
       "      <th></th>\n",
       "      <th></th>\n",
       "      <th></th>\n",
       "      <th></th>\n",
       "    </tr>\n",
       "  </thead>\n",
       "  <tbody>\n",
       "    <tr>\n",
       "      <th>1</th>\n",
       "      <td>杨效丰</td>\n",
       "      <td>1972-12</td>\n",
       "      <td>北京利德华福电气技术有限公司</td>\n",
       "      <td>122.59</td>\n",
       "    </tr>\n",
       "    <tr>\n",
       "      <th>2</th>\n",
       "      <td>纪丰伟</td>\n",
       "      <td>1974-12</td>\n",
       "      <td>北京航天数据股份有限公司</td>\n",
       "      <td>121.25</td>\n",
       "    </tr>\n",
       "    <tr>\n",
       "      <th>3</th>\n",
       "      <td>王永</td>\n",
       "      <td>1974-05</td>\n",
       "      <td>品牌联盟(北京)咨询股份公司</td>\n",
       "      <td>118.96</td>\n",
       "    </tr>\n",
       "    <tr>\n",
       "      <th>4</th>\n",
       "      <td>杨静</td>\n",
       "      <td>1975-07</td>\n",
       "      <td>中科专利商标代理有限责任公司</td>\n",
       "      <td>118.21</td>\n",
       "    </tr>\n",
       "    <tr>\n",
       "      <th>5</th>\n",
       "      <td>张凯江</td>\n",
       "      <td>1974-11</td>\n",
       "      <td>北京阿里巴巴云计算技术有限公司</td>\n",
       "      <td>117.79</td>\n",
       "    </tr>\n",
       "    <tr>\n",
       "      <th>...</th>\n",
       "      <td>...</td>\n",
       "      <td>...</td>\n",
       "      <td>...</td>\n",
       "      <td>...</td>\n",
       "    </tr>\n",
       "    <tr>\n",
       "      <th>6015</th>\n",
       "      <td>孙宏波</td>\n",
       "      <td>1978-08</td>\n",
       "      <td>华为海洋网络有限公司北京科技分公司</td>\n",
       "      <td>90.75</td>\n",
       "    </tr>\n",
       "    <tr>\n",
       "      <th>6016</th>\n",
       "      <td>刘丽香</td>\n",
       "      <td>1976-11</td>\n",
       "      <td>福斯（上海）流体设备有限公司北京分公司</td>\n",
       "      <td>90.75</td>\n",
       "    </tr>\n",
       "    <tr>\n",
       "      <th>6017</th>\n",
       "      <td>周崧</td>\n",
       "      <td>1977-10</td>\n",
       "      <td>赢创德固赛（中国）投资有限公司</td>\n",
       "      <td>90.75</td>\n",
       "    </tr>\n",
       "    <tr>\n",
       "      <th>6018</th>\n",
       "      <td>赵妍</td>\n",
       "      <td>1979-07</td>\n",
       "      <td>澳科利耳医疗器械（北京）有限公司</td>\n",
       "      <td>90.75</td>\n",
       "    </tr>\n",
       "    <tr>\n",
       "      <th>6019</th>\n",
       "      <td>贺锐</td>\n",
       "      <td>1981-06</td>\n",
       "      <td>北京宝洁技术有限公司</td>\n",
       "      <td>90.75</td>\n",
       "    </tr>\n",
       "  </tbody>\n",
       "</table>\n",
       "<p>6019 rows × 4 columns</p>\n",
       "</div>"
      ],
      "text/plain": [
       "     name birthday              company   score\n",
       "id                                             \n",
       "1     杨效丰  1972-12       北京利德华福电气技术有限公司  122.59\n",
       "2     纪丰伟  1974-12         北京航天数据股份有限公司  121.25\n",
       "3      王永  1974-05       品牌联盟(北京)咨询股份公司  118.96\n",
       "4      杨静  1975-07       中科专利商标代理有限责任公司  118.21\n",
       "5     张凯江  1974-11      北京阿里巴巴云计算技术有限公司  117.79\n",
       "...   ...      ...                  ...     ...\n",
       "6015  孙宏波  1978-08    华为海洋网络有限公司北京科技分公司   90.75\n",
       "6016  刘丽香  1976-11  福斯（上海）流体设备有限公司北京分公司   90.75\n",
       "6017   周崧  1977-10      赢创德固赛（中国）投资有限公司   90.75\n",
       "6018   赵妍  1979-07     澳科利耳医疗器械（北京）有限公司   90.75\n",
       "6019   贺锐  1981-06           北京宝洁技术有限公司   90.75\n",
       "\n",
       "[6019 rows x 4 columns]"
      ]
     },
     "execution_count": 102,
     "metadata": {},
     "output_type": "execute_result"
    }
   ],
   "source": [
    "df3"
   ]
  },
  {
   "cell_type": "code",
   "execution_count": 104,
   "id": "60b5533f-a00f-4806-af6a-2fa11b80d1dc",
   "metadata": {},
   "outputs": [],
   "source": [
    "df4 = pd.read_excel(\"./Test_Data/2022年股票数据.xlsx\", sheet_name= \"AMZN\", index_col=\"Date\")"
   ]
  },
  {
   "cell_type": "code",
   "execution_count": 105,
   "id": "fdaf9c40-6704-4456-96af-3fa94d14a96b",
   "metadata": {},
   "outputs": [
    {
     "data": {
      "text/html": [
       "<div>\n",
       "<style scoped>\n",
       "    .dataframe tbody tr th:only-of-type {\n",
       "        vertical-align: middle;\n",
       "    }\n",
       "\n",
       "    .dataframe tbody tr th {\n",
       "        vertical-align: top;\n",
       "    }\n",
       "\n",
       "    .dataframe thead th {\n",
       "        text-align: right;\n",
       "    }\n",
       "</style>\n",
       "<table border=\"1\" class=\"dataframe\">\n",
       "  <thead>\n",
       "    <tr style=\"text-align: right;\">\n",
       "      <th></th>\n",
       "      <th>Open</th>\n",
       "      <th>High</th>\n",
       "      <th>Low</th>\n",
       "      <th>Close</th>\n",
       "      <th>Volume</th>\n",
       "    </tr>\n",
       "    <tr>\n",
       "      <th>Date</th>\n",
       "      <th></th>\n",
       "      <th></th>\n",
       "      <th></th>\n",
       "      <th></th>\n",
       "      <th></th>\n",
       "    </tr>\n",
       "  </thead>\n",
       "  <tbody>\n",
       "    <tr>\n",
       "      <th>2022-12-30</th>\n",
       "      <td>83.120</td>\n",
       "      <td>84.050</td>\n",
       "      <td>82.4700</td>\n",
       "      <td>84.000</td>\n",
       "      <td>62401194</td>\n",
       "    </tr>\n",
       "    <tr>\n",
       "      <th>2022-12-29</th>\n",
       "      <td>82.870</td>\n",
       "      <td>84.550</td>\n",
       "      <td>82.5500</td>\n",
       "      <td>84.180</td>\n",
       "      <td>54995895</td>\n",
       "    </tr>\n",
       "    <tr>\n",
       "      <th>2022-12-28</th>\n",
       "      <td>82.800</td>\n",
       "      <td>83.480</td>\n",
       "      <td>81.6900</td>\n",
       "      <td>81.820</td>\n",
       "      <td>58228575</td>\n",
       "    </tr>\n",
       "    <tr>\n",
       "      <th>2022-12-27</th>\n",
       "      <td>84.970</td>\n",
       "      <td>85.350</td>\n",
       "      <td>83.0000</td>\n",
       "      <td>83.040</td>\n",
       "      <td>57284035</td>\n",
       "    </tr>\n",
       "    <tr>\n",
       "      <th>2022-12-23</th>\n",
       "      <td>83.250</td>\n",
       "      <td>85.780</td>\n",
       "      <td>82.9344</td>\n",
       "      <td>85.250</td>\n",
       "      <td>57433655</td>\n",
       "    </tr>\n",
       "    <tr>\n",
       "      <th>...</th>\n",
       "      <td>...</td>\n",
       "      <td>...</td>\n",
       "      <td>...</td>\n",
       "      <td>...</td>\n",
       "      <td>...</td>\n",
       "    </tr>\n",
       "    <tr>\n",
       "      <th>2022-01-07</th>\n",
       "      <td>163.839</td>\n",
       "      <td>165.243</td>\n",
       "      <td>162.0310</td>\n",
       "      <td>162.554</td>\n",
       "      <td>46605900</td>\n",
       "    </tr>\n",
       "    <tr>\n",
       "      <th>2022-01-06</th>\n",
       "      <td>163.450</td>\n",
       "      <td>164.800</td>\n",
       "      <td>161.9370</td>\n",
       "      <td>163.254</td>\n",
       "      <td>51957780</td>\n",
       "    </tr>\n",
       "    <tr>\n",
       "      <th>2022-01-05</th>\n",
       "      <td>166.883</td>\n",
       "      <td>167.126</td>\n",
       "      <td>164.3570</td>\n",
       "      <td>164.357</td>\n",
       "      <td>64302720</td>\n",
       "    </tr>\n",
       "    <tr>\n",
       "      <th>2022-01-04</th>\n",
       "      <td>170.438</td>\n",
       "      <td>171.400</td>\n",
       "      <td>166.3490</td>\n",
       "      <td>167.522</td>\n",
       "      <td>70725160</td>\n",
       "    </tr>\n",
       "    <tr>\n",
       "      <th>2022-01-03</th>\n",
       "      <td>167.550</td>\n",
       "      <td>170.704</td>\n",
       "      <td>166.1600</td>\n",
       "      <td>170.404</td>\n",
       "      <td>63869140</td>\n",
       "    </tr>\n",
       "  </tbody>\n",
       "</table>\n",
       "<p>251 rows × 5 columns</p>\n",
       "</div>"
      ],
      "text/plain": [
       "               Open     High       Low    Close    Volume\n",
       "Date                                                     \n",
       "2022-12-30   83.120   84.050   82.4700   84.000  62401194\n",
       "2022-12-29   82.870   84.550   82.5500   84.180  54995895\n",
       "2022-12-28   82.800   83.480   81.6900   81.820  58228575\n",
       "2022-12-27   84.970   85.350   83.0000   83.040  57284035\n",
       "2022-12-23   83.250   85.780   82.9344   85.250  57433655\n",
       "...             ...      ...       ...      ...       ...\n",
       "2022-01-07  163.839  165.243  162.0310  162.554  46605900\n",
       "2022-01-06  163.450  164.800  161.9370  163.254  51957780\n",
       "2022-01-05  166.883  167.126  164.3570  164.357  64302720\n",
       "2022-01-04  170.438  171.400  166.3490  167.522  70725160\n",
       "2022-01-03  167.550  170.704  166.1600  170.404  63869140\n",
       "\n",
       "[251 rows x 5 columns]"
      ]
     },
     "execution_count": 105,
     "metadata": {},
     "output_type": "execute_result"
    }
   ],
   "source": [
    "df4"
   ]
  },
  {
   "cell_type": "code",
   "execution_count": 109,
   "id": "7b615c9a-fb6a-4cf7-9e46-72cc4ed529aa",
   "metadata": {},
   "outputs": [
    {
     "ename": "OperationalError",
     "evalue": "(2003, \"Can't connect to MySQL server on '101.42.16.8' (timed out)\")",
     "output_type": "error",
     "traceback": [
      "\u001b[0;31m---------------------------------------------------------------------------\u001b[0m",
      "\u001b[0;31mTimeoutError\u001b[0m                              Traceback (most recent call last)",
      "File \u001b[0;32m/usr/local/lib/python3.10/dist-packages/pymysql/connections.py:649\u001b[0m, in \u001b[0;36mConnection.connect\u001b[0;34m(self, sock)\u001b[0m\n\u001b[1;32m    648\u001b[0m \u001b[38;5;28;01mtry\u001b[39;00m:\n\u001b[0;32m--> 649\u001b[0m     sock \u001b[38;5;241m=\u001b[39m \u001b[43msocket\u001b[49m\u001b[38;5;241;43m.\u001b[39;49m\u001b[43mcreate_connection\u001b[49m\u001b[43m(\u001b[49m\n\u001b[1;32m    650\u001b[0m \u001b[43m        \u001b[49m\u001b[43m(\u001b[49m\u001b[38;5;28;43mself\u001b[39;49m\u001b[38;5;241;43m.\u001b[39;49m\u001b[43mhost\u001b[49m\u001b[43m,\u001b[49m\u001b[43m \u001b[49m\u001b[38;5;28;43mself\u001b[39;49m\u001b[38;5;241;43m.\u001b[39;49m\u001b[43mport\u001b[49m\u001b[43m)\u001b[49m\u001b[43m,\u001b[49m\u001b[43m \u001b[49m\u001b[38;5;28;43mself\u001b[39;49m\u001b[38;5;241;43m.\u001b[39;49m\u001b[43mconnect_timeout\u001b[49m\u001b[43m,\u001b[49m\u001b[43m \u001b[49m\u001b[38;5;241;43m*\u001b[39;49m\u001b[38;5;241;43m*\u001b[39;49m\u001b[43mkwargs\u001b[49m\n\u001b[1;32m    651\u001b[0m \u001b[43m    \u001b[49m\u001b[43m)\u001b[49m\n\u001b[1;32m    652\u001b[0m     \u001b[38;5;28;01mbreak\u001b[39;00m\n",
      "File \u001b[0;32m/usr/lib/python3.10/socket.py:845\u001b[0m, in \u001b[0;36mcreate_connection\u001b[0;34m(address, timeout, source_address)\u001b[0m\n\u001b[1;32m    844\u001b[0m \u001b[38;5;28;01mtry\u001b[39;00m:\n\u001b[0;32m--> 845\u001b[0m     \u001b[38;5;28;01mraise\u001b[39;00m err\n\u001b[1;32m    846\u001b[0m \u001b[38;5;28;01mfinally\u001b[39;00m:\n\u001b[1;32m    847\u001b[0m     \u001b[38;5;66;03m# Break explicitly a reference cycle\u001b[39;00m\n",
      "File \u001b[0;32m/usr/lib/python3.10/socket.py:833\u001b[0m, in \u001b[0;36mcreate_connection\u001b[0;34m(address, timeout, source_address)\u001b[0m\n\u001b[1;32m    832\u001b[0m     sock\u001b[38;5;241m.\u001b[39mbind(source_address)\n\u001b[0;32m--> 833\u001b[0m \u001b[43msock\u001b[49m\u001b[38;5;241;43m.\u001b[39;49m\u001b[43mconnect\u001b[49m\u001b[43m(\u001b[49m\u001b[43msa\u001b[49m\u001b[43m)\u001b[49m\n\u001b[1;32m    834\u001b[0m \u001b[38;5;66;03m# Break explicitly a reference cycle\u001b[39;00m\n",
      "\u001b[0;31mTimeoutError\u001b[0m: timed out",
      "\nDuring handling of the above exception, another exception occurred:\n",
      "\u001b[0;31mOperationalError\u001b[0m                          Traceback (most recent call last)",
      "Cell \u001b[0;32mIn[109], line 2\u001b[0m\n\u001b[1;32m      1\u001b[0m \u001b[38;5;28;01mimport\u001b[39;00m \u001b[38;5;21;01mpymysql\u001b[39;00m\n\u001b[0;32m----> 2\u001b[0m conn \u001b[38;5;241m=\u001b[39m \u001b[43mpymysql\u001b[49m\u001b[38;5;241;43m.\u001b[39;49m\u001b[43mconnect\u001b[49m\u001b[43m(\u001b[49m\n\u001b[1;32m      3\u001b[0m \u001b[43m    \u001b[49m\u001b[43mhost\u001b[49m\u001b[38;5;241;43m=\u001b[39;49m\u001b[38;5;124;43m'\u001b[39;49m\u001b[38;5;124;43m101.42.16.8\u001b[39;49m\u001b[38;5;124;43m'\u001b[39;49m\u001b[43m,\u001b[49m\u001b[43m \u001b[49m\u001b[43mport\u001b[49m\u001b[38;5;241;43m=\u001b[39;49m\u001b[38;5;241;43m3306\u001b[39;49m\u001b[43m,\u001b[49m\n\u001b[1;32m      4\u001b[0m \u001b[43m    \u001b[49m\u001b[43muser\u001b[49m\u001b[38;5;241;43m=\u001b[39;49m\u001b[38;5;124;43m'\u001b[39;49m\u001b[38;5;124;43mguest\u001b[39;49m\u001b[38;5;124;43m'\u001b[39;49m\u001b[43m,\u001b[49m\u001b[43m \u001b[49m\u001b[43mpassword\u001b[49m\u001b[38;5;241;43m=\u001b[39;49m\u001b[38;5;124;43m'\u001b[39;49m\u001b[38;5;124;43mGuest.618\u001b[39;49m\u001b[38;5;124;43m'\u001b[39;49m\u001b[43m,\u001b[49m\n\u001b[1;32m      5\u001b[0m \u001b[43m    \u001b[49m\u001b[43mdatabase\u001b[49m\u001b[38;5;241;43m=\u001b[39;49m\u001b[38;5;124;43m'\u001b[39;49m\u001b[38;5;124;43mhrs\u001b[39;49m\u001b[38;5;124;43m'\u001b[39;49m\u001b[43m,\u001b[49m\u001b[43m \u001b[49m\u001b[43mcharset\u001b[49m\u001b[38;5;241;43m=\u001b[39;49m\u001b[38;5;124;43m'\u001b[39;49m\u001b[38;5;124;43mutf8mb4\u001b[39;49m\u001b[38;5;124;43m'\u001b[39;49m\n\u001b[1;32m      6\u001b[0m \u001b[43m)\u001b[49m\n\u001b[1;32m      7\u001b[0m df5 \u001b[38;5;241m=\u001b[39m pd\u001b[38;5;241m.\u001b[39mread_sql(\u001b[38;5;124m\"\u001b[39m\u001b[38;5;124mselect * from tb_emp\u001b[39m\u001b[38;5;124m\"\u001b[39m, conn, index_col\u001b[38;5;241m=\u001b[39m\u001b[38;5;124m\"\u001b[39m\u001b[38;5;124meno\u001b[39m\u001b[38;5;124m\"\u001b[39m)\n",
      "File \u001b[0;32m/usr/local/lib/python3.10/dist-packages/pymysql/connections.py:361\u001b[0m, in \u001b[0;36mConnection.__init__\u001b[0;34m(self, user, password, host, database, unix_socket, port, charset, collation, sql_mode, read_default_file, conv, use_unicode, client_flag, cursorclass, init_command, connect_timeout, read_default_group, autocommit, local_infile, max_allowed_packet, defer_connect, auth_plugin_map, read_timeout, write_timeout, bind_address, binary_prefix, program_name, server_public_key, ssl, ssl_ca, ssl_cert, ssl_disabled, ssl_key, ssl_key_password, ssl_verify_cert, ssl_verify_identity, compress, named_pipe, passwd, db)\u001b[0m\n\u001b[1;32m    359\u001b[0m     \u001b[38;5;28mself\u001b[39m\u001b[38;5;241m.\u001b[39m_sock \u001b[38;5;241m=\u001b[39m \u001b[38;5;28;01mNone\u001b[39;00m\n\u001b[1;32m    360\u001b[0m \u001b[38;5;28;01melse\u001b[39;00m:\n\u001b[0;32m--> 361\u001b[0m     \u001b[38;5;28;43mself\u001b[39;49m\u001b[38;5;241;43m.\u001b[39;49m\u001b[43mconnect\u001b[49m\u001b[43m(\u001b[49m\u001b[43m)\u001b[49m\n",
      "File \u001b[0;32m/usr/local/lib/python3.10/dist-packages/pymysql/connections.py:716\u001b[0m, in \u001b[0;36mConnection.connect\u001b[0;34m(self, sock)\u001b[0m\n\u001b[1;32m    714\u001b[0m     \u001b[38;5;28;01mif\u001b[39;00m DEBUG:\n\u001b[1;32m    715\u001b[0m         \u001b[38;5;28mprint\u001b[39m(exc\u001b[38;5;241m.\u001b[39mtraceback)\n\u001b[0;32m--> 716\u001b[0m     \u001b[38;5;28;01mraise\u001b[39;00m exc\n\u001b[1;32m    718\u001b[0m \u001b[38;5;66;03m# If e is neither DatabaseError or IOError, It's a bug.\u001b[39;00m\n\u001b[1;32m    719\u001b[0m \u001b[38;5;66;03m# But raising AssertionError hides original error.\u001b[39;00m\n\u001b[1;32m    720\u001b[0m \u001b[38;5;66;03m# So just reraise it.\u001b[39;00m\n\u001b[1;32m    721\u001b[0m \u001b[38;5;28;01mraise\u001b[39;00m\n",
      "\u001b[0;31mOperationalError\u001b[0m: (2003, \"Can't connect to MySQL server on '101.42.16.8' (timed out)\")"
     ]
    }
   ],
   "source": [
    "import pymysql\n",
    "conn = pymysql.connect(\n",
    "    host='101.42.16.8', port=3306,\n",
    "    user='guest', password='Guest.618',\n",
    "    database='hrs', charset='utf8mb4'\n",
    ")\n",
    "df5 = pd.read_sql(\"select * from tb_emp\", conn, index_col=\"eno\")"
   ]
  },
  {
   "cell_type": "code",
   "execution_count": 110,
   "id": "2b02e373-e679-43fc-9418-e9fd52d24e21",
   "metadata": {},
   "outputs": [
    {
     "name": "stdout",
     "output_type": "stream",
     "text": [
      "<class 'pandas.core.frame.DataFrame'>\n",
      "Index: 6019 entries, 1 to 6019\n",
      "Data columns (total 4 columns):\n",
      " #   Column    Non-Null Count  Dtype  \n",
      "---  ------    --------------  -----  \n",
      " 0   name      6019 non-null   object \n",
      " 1   birthday  6019 non-null   object \n",
      " 2   company   6019 non-null   object \n",
      " 3   score     6019 non-null   float64\n",
      "dtypes: float64(1), object(3)\n",
      "memory usage: 235.1+ KB\n"
     ]
    }
   ],
   "source": [
    "df3.info()"
   ]
  },
  {
   "cell_type": "code",
   "execution_count": 112,
   "id": "00b908cc-d891-4aaa-9489-0296794412a1",
   "metadata": {},
   "outputs": [
    {
     "data": {
      "text/html": [
       "<div>\n",
       "<style scoped>\n",
       "    .dataframe tbody tr th:only-of-type {\n",
       "        vertical-align: middle;\n",
       "    }\n",
       "\n",
       "    .dataframe tbody tr th {\n",
       "        vertical-align: top;\n",
       "    }\n",
       "\n",
       "    .dataframe thead th {\n",
       "        text-align: right;\n",
       "    }\n",
       "</style>\n",
       "<table border=\"1\" class=\"dataframe\">\n",
       "  <thead>\n",
       "    <tr style=\"text-align: right;\">\n",
       "      <th></th>\n",
       "      <th>name</th>\n",
       "      <th>birthday</th>\n",
       "      <th>company</th>\n",
       "      <th>score</th>\n",
       "    </tr>\n",
       "    <tr>\n",
       "      <th>id</th>\n",
       "      <th></th>\n",
       "      <th></th>\n",
       "      <th></th>\n",
       "      <th></th>\n",
       "    </tr>\n",
       "  </thead>\n",
       "  <tbody>\n",
       "    <tr>\n",
       "      <th>1</th>\n",
       "      <td>杨效丰</td>\n",
       "      <td>1972-12</td>\n",
       "      <td>北京利德华福电气技术有限公司</td>\n",
       "      <td>122.59</td>\n",
       "    </tr>\n",
       "    <tr>\n",
       "      <th>2</th>\n",
       "      <td>纪丰伟</td>\n",
       "      <td>1974-12</td>\n",
       "      <td>北京航天数据股份有限公司</td>\n",
       "      <td>121.25</td>\n",
       "    </tr>\n",
       "    <tr>\n",
       "      <th>3</th>\n",
       "      <td>王永</td>\n",
       "      <td>1974-05</td>\n",
       "      <td>品牌联盟(北京)咨询股份公司</td>\n",
       "      <td>118.96</td>\n",
       "    </tr>\n",
       "    <tr>\n",
       "      <th>4</th>\n",
       "      <td>杨静</td>\n",
       "      <td>1975-07</td>\n",
       "      <td>中科专利商标代理有限责任公司</td>\n",
       "      <td>118.21</td>\n",
       "    </tr>\n",
       "    <tr>\n",
       "      <th>5</th>\n",
       "      <td>张凯江</td>\n",
       "      <td>1974-11</td>\n",
       "      <td>北京阿里巴巴云计算技术有限公司</td>\n",
       "      <td>117.79</td>\n",
       "    </tr>\n",
       "  </tbody>\n",
       "</table>\n",
       "</div>"
      ],
      "text/plain": [
       "   name birthday          company   score\n",
       "id                                       \n",
       "1   杨效丰  1972-12   北京利德华福电气技术有限公司  122.59\n",
       "2   纪丰伟  1974-12     北京航天数据股份有限公司  121.25\n",
       "3    王永  1974-05   品牌联盟(北京)咨询股份公司  118.96\n",
       "4    杨静  1975-07   中科专利商标代理有限责任公司  118.21\n",
       "5   张凯江  1974-11  北京阿里巴巴云计算技术有限公司  117.79"
      ]
     },
     "execution_count": 112,
     "metadata": {},
     "output_type": "execute_result"
    }
   ],
   "source": [
    "df3.head()"
   ]
  },
  {
   "cell_type": "code",
   "execution_count": 114,
   "id": "8e4c5976-a029-40c3-adad-18b92672e94e",
   "metadata": {},
   "outputs": [
    {
     "data": {
      "text/html": [
       "<div>\n",
       "<style scoped>\n",
       "    .dataframe tbody tr th:only-of-type {\n",
       "        vertical-align: middle;\n",
       "    }\n",
       "\n",
       "    .dataframe tbody tr th {\n",
       "        vertical-align: top;\n",
       "    }\n",
       "\n",
       "    .dataframe thead th {\n",
       "        text-align: right;\n",
       "    }\n",
       "</style>\n",
       "<table border=\"1\" class=\"dataframe\">\n",
       "  <thead>\n",
       "    <tr style=\"text-align: right;\">\n",
       "      <th></th>\n",
       "      <th>name</th>\n",
       "      <th>birthday</th>\n",
       "      <th>company</th>\n",
       "      <th>score</th>\n",
       "    </tr>\n",
       "    <tr>\n",
       "      <th>id</th>\n",
       "      <th></th>\n",
       "      <th></th>\n",
       "      <th></th>\n",
       "      <th></th>\n",
       "    </tr>\n",
       "  </thead>\n",
       "  <tbody>\n",
       "    <tr>\n",
       "      <th>6015</th>\n",
       "      <td>孙宏波</td>\n",
       "      <td>1978-08</td>\n",
       "      <td>华为海洋网络有限公司北京科技分公司</td>\n",
       "      <td>90.75</td>\n",
       "    </tr>\n",
       "    <tr>\n",
       "      <th>6016</th>\n",
       "      <td>刘丽香</td>\n",
       "      <td>1976-11</td>\n",
       "      <td>福斯（上海）流体设备有限公司北京分公司</td>\n",
       "      <td>90.75</td>\n",
       "    </tr>\n",
       "    <tr>\n",
       "      <th>6017</th>\n",
       "      <td>周崧</td>\n",
       "      <td>1977-10</td>\n",
       "      <td>赢创德固赛（中国）投资有限公司</td>\n",
       "      <td>90.75</td>\n",
       "    </tr>\n",
       "    <tr>\n",
       "      <th>6018</th>\n",
       "      <td>赵妍</td>\n",
       "      <td>1979-07</td>\n",
       "      <td>澳科利耳医疗器械（北京）有限公司</td>\n",
       "      <td>90.75</td>\n",
       "    </tr>\n",
       "    <tr>\n",
       "      <th>6019</th>\n",
       "      <td>贺锐</td>\n",
       "      <td>1981-06</td>\n",
       "      <td>北京宝洁技术有限公司</td>\n",
       "      <td>90.75</td>\n",
       "    </tr>\n",
       "  </tbody>\n",
       "</table>\n",
       "</div>"
      ],
      "text/plain": [
       "     name birthday              company  score\n",
       "id                                            \n",
       "6015  孙宏波  1978-08    华为海洋网络有限公司北京科技分公司  90.75\n",
       "6016  刘丽香  1976-11  福斯（上海）流体设备有限公司北京分公司  90.75\n",
       "6017   周崧  1977-10      赢创德固赛（中国）投资有限公司  90.75\n",
       "6018   赵妍  1979-07     澳科利耳医疗器械（北京）有限公司  90.75\n",
       "6019   贺锐  1981-06           北京宝洁技术有限公司  90.75"
      ]
     },
     "execution_count": 114,
     "metadata": {},
     "output_type": "execute_result"
    }
   ],
   "source": [
    "df3.tail()"
   ]
  },
  {
   "cell_type": "code",
   "execution_count": 115,
   "id": "30fe89aa-b198-41a0-8fc9-b6cc375f46c9",
   "metadata": {},
   "outputs": [
    {
     "data": {
      "text/plain": [
       "id\n",
       "1            北京利德华福电气技术有限公司\n",
       "2              北京航天数据股份有限公司\n",
       "3            品牌联盟(北京)咨询股份公司\n",
       "4            中科专利商标代理有限责任公司\n",
       "5           北京阿里巴巴云计算技术有限公司\n",
       "               ...         \n",
       "6015      华为海洋网络有限公司北京科技分公司\n",
       "6016    福斯（上海）流体设备有限公司北京分公司\n",
       "6017        赢创德固赛（中国）投资有限公司\n",
       "6018       澳科利耳医疗器械（北京）有限公司\n",
       "6019             北京宝洁技术有限公司\n",
       "Name: company, Length: 6019, dtype: object"
      ]
     },
     "execution_count": 115,
     "metadata": {},
     "output_type": "execute_result"
    }
   ],
   "source": [
    "df3.company"
   ]
  },
  {
   "cell_type": "code",
   "execution_count": 116,
   "id": "b8639487-9161-46d7-8387-218bf21fc536",
   "metadata": {},
   "outputs": [
    {
     "data": {
      "text/plain": [
       "id\n",
       "1            北京利德华福电气技术有限公司\n",
       "2              北京航天数据股份有限公司\n",
       "3            品牌联盟(北京)咨询股份公司\n",
       "4            中科专利商标代理有限责任公司\n",
       "5           北京阿里巴巴云计算技术有限公司\n",
       "               ...         \n",
       "6015      华为海洋网络有限公司北京科技分公司\n",
       "6016    福斯（上海）流体设备有限公司北京分公司\n",
       "6017        赢创德固赛（中国）投资有限公司\n",
       "6018       澳科利耳医疗器械（北京）有限公司\n",
       "6019             北京宝洁技术有限公司\n",
       "Name: company, Length: 6019, dtype: object"
      ]
     },
     "execution_count": 116,
     "metadata": {},
     "output_type": "execute_result"
    }
   ],
   "source": [
    "df3[\"company\"]"
   ]
  },
  {
   "cell_type": "code",
   "execution_count": 122,
   "id": "1fc471cd-c65e-4f24-99d9-bd6b197fc098",
   "metadata": {},
   "outputs": [
    {
     "data": {
      "text/plain": [
       "id\n",
       "1            北京利德华福电气技术有限公司\n",
       "2              北京航天数据股份有限公司\n",
       "3            品牌联盟(北京)咨询股份公司\n",
       "4            中科专利商标代理有限责任公司\n",
       "5           北京阿里巴巴云计算技术有限公司\n",
       "               ...         \n",
       "6015      华为海洋网络有限公司北京科技分公司\n",
       "6016    福斯（上海）流体设备有限公司北京分公司\n",
       "6017        赢创德固赛（中国）投资有限公司\n",
       "6018       澳科利耳医疗器械（北京）有限公司\n",
       "6019             北京宝洁技术有限公司\n",
       "Name: company, Length: 6019, dtype: object"
      ]
     },
     "execution_count": 122,
     "metadata": {},
     "output_type": "execute_result"
    }
   ],
   "source": [
    "df3.iloc[:,2]"
   ]
  },
  {
   "cell_type": "code",
   "execution_count": 125,
   "id": "e9d09bd9-a911-4c02-841c-36f761ec48a4",
   "metadata": {},
   "outputs": [
    {
     "data": {
      "text/plain": [
       "name                    王永\n",
       "birthday           1974-05\n",
       "company     品牌联盟(北京)咨询股份公司\n",
       "score               118.96\n",
       "Name: 3, dtype: object"
      ]
     },
     "execution_count": 125,
     "metadata": {},
     "output_type": "execute_result"
    }
   ],
   "source": [
    "df3.loc[3]"
   ]
  },
  {
   "cell_type": "code",
   "execution_count": 126,
   "id": "c464663d-d336-4895-8773-94ec2df90548",
   "metadata": {},
   "outputs": [
    {
     "data": {
      "text/html": [
       "<div>\n",
       "<style scoped>\n",
       "    .dataframe tbody tr th:only-of-type {\n",
       "        vertical-align: middle;\n",
       "    }\n",
       "\n",
       "    .dataframe tbody tr th {\n",
       "        vertical-align: top;\n",
       "    }\n",
       "\n",
       "    .dataframe thead th {\n",
       "        text-align: right;\n",
       "    }\n",
       "</style>\n",
       "<table border=\"1\" class=\"dataframe\">\n",
       "  <thead>\n",
       "    <tr style=\"text-align: right;\">\n",
       "      <th></th>\n",
       "      <th>name</th>\n",
       "      <th>company</th>\n",
       "    </tr>\n",
       "    <tr>\n",
       "      <th>id</th>\n",
       "      <th></th>\n",
       "      <th></th>\n",
       "    </tr>\n",
       "  </thead>\n",
       "  <tbody>\n",
       "    <tr>\n",
       "      <th>1</th>\n",
       "      <td>杨效丰</td>\n",
       "      <td>北京利德华福电气技术有限公司</td>\n",
       "    </tr>\n",
       "    <tr>\n",
       "      <th>2</th>\n",
       "      <td>纪丰伟</td>\n",
       "      <td>北京航天数据股份有限公司</td>\n",
       "    </tr>\n",
       "    <tr>\n",
       "      <th>3</th>\n",
       "      <td>王永</td>\n",
       "      <td>品牌联盟(北京)咨询股份公司</td>\n",
       "    </tr>\n",
       "    <tr>\n",
       "      <th>4</th>\n",
       "      <td>杨静</td>\n",
       "      <td>中科专利商标代理有限责任公司</td>\n",
       "    </tr>\n",
       "    <tr>\n",
       "      <th>5</th>\n",
       "      <td>张凯江</td>\n",
       "      <td>北京阿里巴巴云计算技术有限公司</td>\n",
       "    </tr>\n",
       "    <tr>\n",
       "      <th>...</th>\n",
       "      <td>...</td>\n",
       "      <td>...</td>\n",
       "    </tr>\n",
       "    <tr>\n",
       "      <th>6015</th>\n",
       "      <td>孙宏波</td>\n",
       "      <td>华为海洋网络有限公司北京科技分公司</td>\n",
       "    </tr>\n",
       "    <tr>\n",
       "      <th>6016</th>\n",
       "      <td>刘丽香</td>\n",
       "      <td>福斯（上海）流体设备有限公司北京分公司</td>\n",
       "    </tr>\n",
       "    <tr>\n",
       "      <th>6017</th>\n",
       "      <td>周崧</td>\n",
       "      <td>赢创德固赛（中国）投资有限公司</td>\n",
       "    </tr>\n",
       "    <tr>\n",
       "      <th>6018</th>\n",
       "      <td>赵妍</td>\n",
       "      <td>澳科利耳医疗器械（北京）有限公司</td>\n",
       "    </tr>\n",
       "    <tr>\n",
       "      <th>6019</th>\n",
       "      <td>贺锐</td>\n",
       "      <td>北京宝洁技术有限公司</td>\n",
       "    </tr>\n",
       "  </tbody>\n",
       "</table>\n",
       "<p>6019 rows × 2 columns</p>\n",
       "</div>"
      ],
      "text/plain": [
       "     name              company\n",
       "id                            \n",
       "1     杨效丰       北京利德华福电气技术有限公司\n",
       "2     纪丰伟         北京航天数据股份有限公司\n",
       "3      王永       品牌联盟(北京)咨询股份公司\n",
       "4      杨静       中科专利商标代理有限责任公司\n",
       "5     张凯江      北京阿里巴巴云计算技术有限公司\n",
       "...   ...                  ...\n",
       "6015  孙宏波    华为海洋网络有限公司北京科技分公司\n",
       "6016  刘丽香  福斯（上海）流体设备有限公司北京分公司\n",
       "6017   周崧      赢创德固赛（中国）投资有限公司\n",
       "6018   赵妍     澳科利耳医疗器械（北京）有限公司\n",
       "6019   贺锐           北京宝洁技术有限公司\n",
       "\n",
       "[6019 rows x 2 columns]"
      ]
     },
     "execution_count": 126,
     "metadata": {},
     "output_type": "execute_result"
    }
   ],
   "source": [
    "df3[[\"name\",\"company\"]]"
   ]
  },
  {
   "cell_type": "code",
   "execution_count": 128,
   "id": "ae2e229b-5861-42fb-bcdc-ed5de54d78e9",
   "metadata": {},
   "outputs": [
    {
     "data": {
      "text/html": [
       "<div>\n",
       "<style scoped>\n",
       "    .dataframe tbody tr th:only-of-type {\n",
       "        vertical-align: middle;\n",
       "    }\n",
       "\n",
       "    .dataframe tbody tr th {\n",
       "        vertical-align: top;\n",
       "    }\n",
       "\n",
       "    .dataframe thead th {\n",
       "        text-align: right;\n",
       "    }\n",
       "</style>\n",
       "<table border=\"1\" class=\"dataframe\">\n",
       "  <thead>\n",
       "    <tr style=\"text-align: right;\">\n",
       "      <th></th>\n",
       "      <th>name</th>\n",
       "      <th>birthday</th>\n",
       "      <th>company</th>\n",
       "      <th>score</th>\n",
       "    </tr>\n",
       "    <tr>\n",
       "      <th>id</th>\n",
       "      <th></th>\n",
       "      <th></th>\n",
       "      <th></th>\n",
       "      <th></th>\n",
       "    </tr>\n",
       "  </thead>\n",
       "  <tbody>\n",
       "    <tr>\n",
       "      <th>3</th>\n",
       "      <td>王永</td>\n",
       "      <td>1974-05</td>\n",
       "      <td>品牌联盟(北京)咨询股份公司</td>\n",
       "      <td>118.96</td>\n",
       "    </tr>\n",
       "    <tr>\n",
       "      <th>4</th>\n",
       "      <td>杨静</td>\n",
       "      <td>1975-07</td>\n",
       "      <td>中科专利商标代理有限责任公司</td>\n",
       "      <td>118.21</td>\n",
       "    </tr>\n",
       "    <tr>\n",
       "      <th>5</th>\n",
       "      <td>张凯江</td>\n",
       "      <td>1974-11</td>\n",
       "      <td>北京阿里巴巴云计算技术有限公司</td>\n",
       "      <td>117.79</td>\n",
       "    </tr>\n",
       "  </tbody>\n",
       "</table>\n",
       "</div>"
      ],
      "text/plain": [
       "   name birthday          company   score\n",
       "id                                       \n",
       "3    王永  1974-05   品牌联盟(北京)咨询股份公司  118.96\n",
       "4    杨静  1975-07   中科专利商标代理有限责任公司  118.21\n",
       "5   张凯江  1974-11  北京阿里巴巴云计算技术有限公司  117.79"
      ]
     },
     "execution_count": 128,
     "metadata": {},
     "output_type": "execute_result"
    }
   ],
   "source": [
    "df3.loc[[3,4,5]]"
   ]
  },
  {
   "cell_type": "code",
   "execution_count": 130,
   "id": "29655b7e-c4d6-4f85-b46f-00bb9cdcecf9",
   "metadata": {},
   "outputs": [
    {
     "data": {
      "text/plain": [
       "'杨静'"
      ]
     },
     "execution_count": 130,
     "metadata": {},
     "output_type": "execute_result"
    }
   ],
   "source": [
    "df3[\"name\"][4]"
   ]
  },
  {
   "cell_type": "code",
   "execution_count": 131,
   "id": "787d843d-80cd-401b-ab45-063a3899cf74",
   "metadata": {},
   "outputs": [
    {
     "data": {
      "text/plain": [
       "'品牌联盟(北京)咨询股份公司'"
      ]
     },
     "execution_count": 131,
     "metadata": {},
     "output_type": "execute_result"
    }
   ],
   "source": [
    "df3.loc[3][\"company\"]"
   ]
  },
  {
   "cell_type": "code",
   "execution_count": 132,
   "id": "441d25e0-cbfc-4f96-87d0-c63124f74da1",
   "metadata": {},
   "outputs": [
    {
     "data": {
      "text/plain": [
       "'品牌联盟(北京)咨询股份公司'"
      ]
     },
     "execution_count": 132,
     "metadata": {},
     "output_type": "execute_result"
    }
   ],
   "source": [
    "df3.loc[3, \"company\"]"
   ]
  },
  {
   "cell_type": "code",
   "execution_count": 133,
   "id": "1ddb5671-3108-4a9c-b3b8-a39b2c39209a",
   "metadata": {},
   "outputs": [
    {
     "data": {
      "text/html": [
       "<div>\n",
       "<style scoped>\n",
       "    .dataframe tbody tr th:only-of-type {\n",
       "        vertical-align: middle;\n",
       "    }\n",
       "\n",
       "    .dataframe tbody tr th {\n",
       "        vertical-align: top;\n",
       "    }\n",
       "\n",
       "    .dataframe thead th {\n",
       "        text-align: right;\n",
       "    }\n",
       "</style>\n",
       "<table border=\"1\" class=\"dataframe\">\n",
       "  <thead>\n",
       "    <tr style=\"text-align: right;\">\n",
       "      <th></th>\n",
       "      <th>name</th>\n",
       "      <th>birthday</th>\n",
       "      <th>company</th>\n",
       "      <th>score</th>\n",
       "    </tr>\n",
       "    <tr>\n",
       "      <th>id</th>\n",
       "      <th></th>\n",
       "      <th></th>\n",
       "      <th></th>\n",
       "      <th></th>\n",
       "    </tr>\n",
       "  </thead>\n",
       "  <tbody>\n",
       "    <tr>\n",
       "      <th>1</th>\n",
       "      <td>杨效丰</td>\n",
       "      <td>1972-12</td>\n",
       "      <td>北京利德华福电气技术有限公司</td>\n",
       "      <td>122.59</td>\n",
       "    </tr>\n",
       "    <tr>\n",
       "      <th>2</th>\n",
       "      <td>纪丰伟</td>\n",
       "      <td>1974-12</td>\n",
       "      <td>北京航天数据股份有限公司</td>\n",
       "      <td>121.25</td>\n",
       "    </tr>\n",
       "    <tr>\n",
       "      <th>3</th>\n",
       "      <td>王永</td>\n",
       "      <td>1974-05</td>\n",
       "      <td>品牌联盟(北京)咨询股份公司</td>\n",
       "      <td>118.96</td>\n",
       "    </tr>\n",
       "    <tr>\n",
       "      <th>4</th>\n",
       "      <td>杨静</td>\n",
       "      <td>1975-07</td>\n",
       "      <td>中科专利商标代理有限责任公司</td>\n",
       "      <td>118.21</td>\n",
       "    </tr>\n",
       "    <tr>\n",
       "      <th>5</th>\n",
       "      <td>张凯江</td>\n",
       "      <td>1974-11</td>\n",
       "      <td>北京阿里巴巴云计算技术有限公司</td>\n",
       "      <td>117.79</td>\n",
       "    </tr>\n",
       "    <tr>\n",
       "      <th>6</th>\n",
       "      <td>罗恒</td>\n",
       "      <td>1974-01</td>\n",
       "      <td>艾美仕市场调研咨询（上海）有限公司北京分公司</td>\n",
       "      <td>117.34</td>\n",
       "    </tr>\n",
       "    <tr>\n",
       "      <th>7</th>\n",
       "      <td>刘春静</td>\n",
       "      <td>1972-06</td>\n",
       "      <td>北京香侬发动机科技有限公司</td>\n",
       "      <td>116.17</td>\n",
       "    </tr>\n",
       "    <tr>\n",
       "      <th>8</th>\n",
       "      <td>李玉俊</td>\n",
       "      <td>1974-03</td>\n",
       "      <td>北京诺华制药有限公司</td>\n",
       "      <td>116.13</td>\n",
       "    </tr>\n",
       "    <tr>\n",
       "      <th>9</th>\n",
       "      <td>穆立</td>\n",
       "      <td>1975-02</td>\n",
       "      <td>中国光大银行股份有限公司</td>\n",
       "      <td>115.95</td>\n",
       "    </tr>\n",
       "    <tr>\n",
       "      <th>10</th>\n",
       "      <td>李加昌</td>\n",
       "      <td>1972-10</td>\n",
       "      <td>中国建筑第二工程局有限公司</td>\n",
       "      <td>115.91</td>\n",
       "    </tr>\n",
       "  </tbody>\n",
       "</table>\n",
       "</div>"
      ],
      "text/plain": [
       "   name birthday                 company   score\n",
       "id                                              \n",
       "1   杨效丰  1972-12          北京利德华福电气技术有限公司  122.59\n",
       "2   纪丰伟  1974-12            北京航天数据股份有限公司  121.25\n",
       "3    王永  1974-05          品牌联盟(北京)咨询股份公司  118.96\n",
       "4    杨静  1975-07          中科专利商标代理有限责任公司  118.21\n",
       "5   张凯江  1974-11         北京阿里巴巴云计算技术有限公司  117.79\n",
       "6    罗恒  1974-01  艾美仕市场调研咨询（上海）有限公司北京分公司  117.34\n",
       "7   刘春静  1972-06           北京香侬发动机科技有限公司  116.17\n",
       "8   李玉俊  1974-03              北京诺华制药有限公司  116.13\n",
       "9    穆立  1975-02            中国光大银行股份有限公司  115.95\n",
       "10  李加昌  1972-10           中国建筑第二工程局有限公司  115.91"
      ]
     },
     "execution_count": 133,
     "metadata": {},
     "output_type": "execute_result"
    }
   ],
   "source": [
    "df3.loc[1:10]"
   ]
  },
  {
   "cell_type": "code",
   "execution_count": 141,
   "id": "bea8d985-21d0-440b-95dd-5e1ff0df17ab",
   "metadata": {},
   "outputs": [
    {
     "data": {
      "text/html": [
       "<div>\n",
       "<style scoped>\n",
       "    .dataframe tbody tr th:only-of-type {\n",
       "        vertical-align: middle;\n",
       "    }\n",
       "\n",
       "    .dataframe tbody tr th {\n",
       "        vertical-align: top;\n",
       "    }\n",
       "\n",
       "    .dataframe thead th {\n",
       "        text-align: right;\n",
       "    }\n",
       "</style>\n",
       "<table border=\"1\" class=\"dataframe\">\n",
       "  <thead>\n",
       "    <tr style=\"text-align: right;\">\n",
       "      <th></th>\n",
       "      <th>name</th>\n",
       "      <th>birthday</th>\n",
       "      <th>company</th>\n",
       "      <th>score</th>\n",
       "    </tr>\n",
       "    <tr>\n",
       "      <th>id</th>\n",
       "      <th></th>\n",
       "      <th></th>\n",
       "      <th></th>\n",
       "      <th></th>\n",
       "    </tr>\n",
       "  </thead>\n",
       "  <tbody>\n",
       "    <tr>\n",
       "      <th>5768</th>\n",
       "      <td>宋鹏文</td>\n",
       "      <td>1978-01</td>\n",
       "      <td>中鸿鑫融（北京）投资基金管理有限公司</td>\n",
       "      <td>90.99</td>\n",
       "    </tr>\n",
       "    <tr>\n",
       "      <th>5769</th>\n",
       "      <td>王翼昕</td>\n",
       "      <td>1979-04</td>\n",
       "      <td>北京数字中远网络技术服务有限公司</td>\n",
       "      <td>90.99</td>\n",
       "    </tr>\n",
       "    <tr>\n",
       "      <th>5770</th>\n",
       "      <td>范国宾</td>\n",
       "      <td>1974-12</td>\n",
       "      <td>中国石油天然气股份有限公司管道北京输油气分公司</td>\n",
       "      <td>90.96</td>\n",
       "    </tr>\n",
       "    <tr>\n",
       "      <th>5771</th>\n",
       "      <td>冯利敏</td>\n",
       "      <td>1971-05</td>\n",
       "      <td>中铁电气化局集团第一工程有限公司</td>\n",
       "      <td>90.96</td>\n",
       "    </tr>\n",
       "    <tr>\n",
       "      <th>5772</th>\n",
       "      <td>张自华</td>\n",
       "      <td>1973-03</td>\n",
       "      <td>中铁电气化局集团有限公司</td>\n",
       "      <td>90.96</td>\n",
       "    </tr>\n",
       "    <tr>\n",
       "      <th>...</th>\n",
       "      <td>...</td>\n",
       "      <td>...</td>\n",
       "      <td>...</td>\n",
       "      <td>...</td>\n",
       "    </tr>\n",
       "    <tr>\n",
       "      <th>6015</th>\n",
       "      <td>孙宏波</td>\n",
       "      <td>1978-08</td>\n",
       "      <td>华为海洋网络有限公司北京科技分公司</td>\n",
       "      <td>90.75</td>\n",
       "    </tr>\n",
       "    <tr>\n",
       "      <th>6016</th>\n",
       "      <td>刘丽香</td>\n",
       "      <td>1976-11</td>\n",
       "      <td>福斯（上海）流体设备有限公司北京分公司</td>\n",
       "      <td>90.75</td>\n",
       "    </tr>\n",
       "    <tr>\n",
       "      <th>6017</th>\n",
       "      <td>周崧</td>\n",
       "      <td>1977-10</td>\n",
       "      <td>赢创德固赛（中国）投资有限公司</td>\n",
       "      <td>90.75</td>\n",
       "    </tr>\n",
       "    <tr>\n",
       "      <th>6018</th>\n",
       "      <td>赵妍</td>\n",
       "      <td>1979-07</td>\n",
       "      <td>澳科利耳医疗器械（北京）有限公司</td>\n",
       "      <td>90.75</td>\n",
       "    </tr>\n",
       "    <tr>\n",
       "      <th>6019</th>\n",
       "      <td>贺锐</td>\n",
       "      <td>1981-06</td>\n",
       "      <td>北京宝洁技术有限公司</td>\n",
       "      <td>90.75</td>\n",
       "    </tr>\n",
       "  </tbody>\n",
       "</table>\n",
       "<p>252 rows × 4 columns</p>\n",
       "</div>"
      ],
      "text/plain": [
       "     name birthday                  company  score\n",
       "id                                                \n",
       "5768  宋鹏文  1978-01       中鸿鑫融（北京）投资基金管理有限公司  90.99\n",
       "5769  王翼昕  1979-04         北京数字中远网络技术服务有限公司  90.99\n",
       "5770  范国宾  1974-12  中国石油天然气股份有限公司管道北京输油气分公司  90.96\n",
       "5771  冯利敏  1971-05         中铁电气化局集团第一工程有限公司  90.96\n",
       "5772  张自华  1973-03             中铁电气化局集团有限公司  90.96\n",
       "...   ...      ...                      ...    ...\n",
       "6015  孙宏波  1978-08        华为海洋网络有限公司北京科技分公司  90.75\n",
       "6016  刘丽香  1976-11      福斯（上海）流体设备有限公司北京分公司  90.75\n",
       "6017   周崧  1977-10          赢创德固赛（中国）投资有限公司  90.75\n",
       "6018   赵妍  1979-07         澳科利耳医疗器械（北京）有限公司  90.75\n",
       "6019   贺锐  1981-06               北京宝洁技术有限公司  90.75\n",
       "\n",
       "[252 rows x 4 columns]"
      ]
     },
     "execution_count": 141,
     "metadata": {},
     "output_type": "execute_result"
    }
   ],
   "source": [
    "df3[df3.score <91]"
   ]
  },
  {
   "cell_type": "markdown",
   "id": "6a1e4121-10b2-4500-a048-cabdafad3078",
   "metadata": {},
   "source": [
    "# 74"
   ]
  },
  {
   "cell_type": "code",
   "execution_count": 147,
   "id": "1bb3d896-b007-4e82-991d-d4dd46c21597",
   "metadata": {},
   "outputs": [
    {
     "data": {
      "text/html": [
       "<div>\n",
       "<style scoped>\n",
       "    .dataframe tbody tr th:only-of-type {\n",
       "        vertical-align: middle;\n",
       "    }\n",
       "\n",
       "    .dataframe tbody tr th {\n",
       "        vertical-align: top;\n",
       "    }\n",
       "\n",
       "    .dataframe thead th {\n",
       "        text-align: right;\n",
       "    }\n",
       "</style>\n",
       "<table border=\"1\" class=\"dataframe\">\n",
       "  <thead>\n",
       "    <tr style=\"text-align: right;\">\n",
       "      <th></th>\n",
       "      <th>Open</th>\n",
       "      <th>High</th>\n",
       "      <th>Low</th>\n",
       "      <th>Close</th>\n",
       "      <th>Volume</th>\n",
       "    </tr>\n",
       "    <tr>\n",
       "      <th>Date</th>\n",
       "      <th></th>\n",
       "      <th></th>\n",
       "      <th></th>\n",
       "      <th></th>\n",
       "      <th></th>\n",
       "    </tr>\n",
       "  </thead>\n",
       "  <tbody>\n",
       "    <tr>\n",
       "      <th>2022-12-30</th>\n",
       "      <td>83.120</td>\n",
       "      <td>84.050</td>\n",
       "      <td>82.4700</td>\n",
       "      <td>84.000</td>\n",
       "      <td>62401194</td>\n",
       "    </tr>\n",
       "    <tr>\n",
       "      <th>2022-12-29</th>\n",
       "      <td>82.870</td>\n",
       "      <td>84.550</td>\n",
       "      <td>82.5500</td>\n",
       "      <td>84.180</td>\n",
       "      <td>54995895</td>\n",
       "    </tr>\n",
       "    <tr>\n",
       "      <th>2022-12-28</th>\n",
       "      <td>82.800</td>\n",
       "      <td>83.480</td>\n",
       "      <td>81.6900</td>\n",
       "      <td>81.820</td>\n",
       "      <td>58228575</td>\n",
       "    </tr>\n",
       "    <tr>\n",
       "      <th>2022-12-27</th>\n",
       "      <td>84.970</td>\n",
       "      <td>85.350</td>\n",
       "      <td>83.0000</td>\n",
       "      <td>83.040</td>\n",
       "      <td>57284035</td>\n",
       "    </tr>\n",
       "    <tr>\n",
       "      <th>2022-12-23</th>\n",
       "      <td>83.250</td>\n",
       "      <td>85.780</td>\n",
       "      <td>82.9344</td>\n",
       "      <td>85.250</td>\n",
       "      <td>57433655</td>\n",
       "    </tr>\n",
       "    <tr>\n",
       "      <th>...</th>\n",
       "      <td>...</td>\n",
       "      <td>...</td>\n",
       "      <td>...</td>\n",
       "      <td>...</td>\n",
       "      <td>...</td>\n",
       "    </tr>\n",
       "    <tr>\n",
       "      <th>2022-01-07</th>\n",
       "      <td>163.839</td>\n",
       "      <td>165.243</td>\n",
       "      <td>162.0310</td>\n",
       "      <td>162.554</td>\n",
       "      <td>46605900</td>\n",
       "    </tr>\n",
       "    <tr>\n",
       "      <th>2022-01-06</th>\n",
       "      <td>163.450</td>\n",
       "      <td>164.800</td>\n",
       "      <td>161.9370</td>\n",
       "      <td>163.254</td>\n",
       "      <td>51957780</td>\n",
       "    </tr>\n",
       "    <tr>\n",
       "      <th>2022-01-05</th>\n",
       "      <td>166.883</td>\n",
       "      <td>167.126</td>\n",
       "      <td>164.3570</td>\n",
       "      <td>164.357</td>\n",
       "      <td>64302720</td>\n",
       "    </tr>\n",
       "    <tr>\n",
       "      <th>2022-01-04</th>\n",
       "      <td>170.438</td>\n",
       "      <td>171.400</td>\n",
       "      <td>166.3490</td>\n",
       "      <td>167.522</td>\n",
       "      <td>70725160</td>\n",
       "    </tr>\n",
       "    <tr>\n",
       "      <th>2022-01-03</th>\n",
       "      <td>167.550</td>\n",
       "      <td>170.704</td>\n",
       "      <td>166.1600</td>\n",
       "      <td>170.404</td>\n",
       "      <td>63869140</td>\n",
       "    </tr>\n",
       "  </tbody>\n",
       "</table>\n",
       "<p>251 rows × 5 columns</p>\n",
       "</div>"
      ],
      "text/plain": [
       "               Open     High       Low    Close    Volume\n",
       "Date                                                     \n",
       "2022-12-30   83.120   84.050   82.4700   84.000  62401194\n",
       "2022-12-29   82.870   84.550   82.5500   84.180  54995895\n",
       "2022-12-28   82.800   83.480   81.6900   81.820  58228575\n",
       "2022-12-27   84.970   85.350   83.0000   83.040  57284035\n",
       "2022-12-23   83.250   85.780   82.9344   85.250  57433655\n",
       "...             ...      ...       ...      ...       ...\n",
       "2022-01-07  163.839  165.243  162.0310  162.554  46605900\n",
       "2022-01-06  163.450  164.800  161.9370  163.254  51957780\n",
       "2022-01-05  166.883  167.126  164.3570  164.357  64302720\n",
       "2022-01-04  170.438  171.400  166.3490  167.522  70725160\n",
       "2022-01-03  167.550  170.704  166.1600  170.404  63869140\n",
       "\n",
       "[251 rows x 5 columns]"
      ]
     },
     "execution_count": 147,
     "metadata": {},
     "output_type": "execute_result"
    }
   ],
   "source": [
    "df4"
   ]
  },
  {
   "cell_type": "code",
   "execution_count": 149,
   "id": "2bd812bc-e586-4671-b113-ade8f249ae8a",
   "metadata": {},
   "outputs": [
    {
     "data": {
      "text/html": [
       "<div>\n",
       "<style scoped>\n",
       "    .dataframe tbody tr th:only-of-type {\n",
       "        vertical-align: middle;\n",
       "    }\n",
       "\n",
       "    .dataframe tbody tr th {\n",
       "        vertical-align: top;\n",
       "    }\n",
       "\n",
       "    .dataframe thead th {\n",
       "        text-align: right;\n",
       "    }\n",
       "</style>\n",
       "<table border=\"1\" class=\"dataframe\">\n",
       "  <thead>\n",
       "    <tr style=\"text-align: right;\">\n",
       "      <th></th>\n",
       "      <th>Open</th>\n",
       "      <th>High</th>\n",
       "      <th>Low</th>\n",
       "      <th>Close</th>\n",
       "      <th>Volume</th>\n",
       "    </tr>\n",
       "    <tr>\n",
       "      <th>Date</th>\n",
       "      <th></th>\n",
       "      <th></th>\n",
       "      <th></th>\n",
       "      <th></th>\n",
       "      <th></th>\n",
       "    </tr>\n",
       "  </thead>\n",
       "  <tbody>\n",
       "    <tr>\n",
       "      <th>2022-12-30</th>\n",
       "      <td>False</td>\n",
       "      <td>False</td>\n",
       "      <td>False</td>\n",
       "      <td>False</td>\n",
       "      <td>False</td>\n",
       "    </tr>\n",
       "    <tr>\n",
       "      <th>2022-12-29</th>\n",
       "      <td>False</td>\n",
       "      <td>False</td>\n",
       "      <td>False</td>\n",
       "      <td>False</td>\n",
       "      <td>False</td>\n",
       "    </tr>\n",
       "    <tr>\n",
       "      <th>2022-12-28</th>\n",
       "      <td>False</td>\n",
       "      <td>False</td>\n",
       "      <td>False</td>\n",
       "      <td>False</td>\n",
       "      <td>False</td>\n",
       "    </tr>\n",
       "    <tr>\n",
       "      <th>2022-12-27</th>\n",
       "      <td>False</td>\n",
       "      <td>False</td>\n",
       "      <td>False</td>\n",
       "      <td>False</td>\n",
       "      <td>False</td>\n",
       "    </tr>\n",
       "    <tr>\n",
       "      <th>2022-12-23</th>\n",
       "      <td>False</td>\n",
       "      <td>False</td>\n",
       "      <td>False</td>\n",
       "      <td>False</td>\n",
       "      <td>False</td>\n",
       "    </tr>\n",
       "    <tr>\n",
       "      <th>...</th>\n",
       "      <td>...</td>\n",
       "      <td>...</td>\n",
       "      <td>...</td>\n",
       "      <td>...</td>\n",
       "      <td>...</td>\n",
       "    </tr>\n",
       "    <tr>\n",
       "      <th>2022-01-07</th>\n",
       "      <td>False</td>\n",
       "      <td>False</td>\n",
       "      <td>False</td>\n",
       "      <td>False</td>\n",
       "      <td>False</td>\n",
       "    </tr>\n",
       "    <tr>\n",
       "      <th>2022-01-06</th>\n",
       "      <td>False</td>\n",
       "      <td>False</td>\n",
       "      <td>False</td>\n",
       "      <td>False</td>\n",
       "      <td>False</td>\n",
       "    </tr>\n",
       "    <tr>\n",
       "      <th>2022-01-05</th>\n",
       "      <td>False</td>\n",
       "      <td>False</td>\n",
       "      <td>False</td>\n",
       "      <td>False</td>\n",
       "      <td>False</td>\n",
       "    </tr>\n",
       "    <tr>\n",
       "      <th>2022-01-04</th>\n",
       "      <td>False</td>\n",
       "      <td>False</td>\n",
       "      <td>False</td>\n",
       "      <td>False</td>\n",
       "      <td>False</td>\n",
       "    </tr>\n",
       "    <tr>\n",
       "      <th>2022-01-03</th>\n",
       "      <td>False</td>\n",
       "      <td>False</td>\n",
       "      <td>False</td>\n",
       "      <td>False</td>\n",
       "      <td>False</td>\n",
       "    </tr>\n",
       "  </tbody>\n",
       "</table>\n",
       "<p>251 rows × 5 columns</p>\n",
       "</div>"
      ],
      "text/plain": [
       "             Open   High    Low  Close  Volume\n",
       "Date                                          \n",
       "2022-12-30  False  False  False  False   False\n",
       "2022-12-29  False  False  False  False   False\n",
       "2022-12-28  False  False  False  False   False\n",
       "2022-12-27  False  False  False  False   False\n",
       "2022-12-23  False  False  False  False   False\n",
       "...           ...    ...    ...    ...     ...\n",
       "2022-01-07  False  False  False  False   False\n",
       "2022-01-06  False  False  False  False   False\n",
       "2022-01-05  False  False  False  False   False\n",
       "2022-01-04  False  False  False  False   False\n",
       "2022-01-03  False  False  False  False   False\n",
       "\n",
       "[251 rows x 5 columns]"
      ]
     },
     "execution_count": 149,
     "metadata": {},
     "output_type": "execute_result"
    }
   ],
   "source": [
    "df4.isna()"
   ]
  },
  {
   "cell_type": "code",
   "execution_count": 150,
   "id": "1ac10702-cb9c-44e8-8edc-7c97c9993255",
   "metadata": {},
   "outputs": [
    {
     "data": {
      "text/html": [
       "<div>\n",
       "<style scoped>\n",
       "    .dataframe tbody tr th:only-of-type {\n",
       "        vertical-align: middle;\n",
       "    }\n",
       "\n",
       "    .dataframe tbody tr th {\n",
       "        vertical-align: top;\n",
       "    }\n",
       "\n",
       "    .dataframe thead th {\n",
       "        text-align: right;\n",
       "    }\n",
       "</style>\n",
       "<table border=\"1\" class=\"dataframe\">\n",
       "  <thead>\n",
       "    <tr style=\"text-align: right;\">\n",
       "      <th></th>\n",
       "      <th>Open</th>\n",
       "      <th>High</th>\n",
       "      <th>Low</th>\n",
       "      <th>Close</th>\n",
       "      <th>Volume</th>\n",
       "    </tr>\n",
       "    <tr>\n",
       "      <th>Date</th>\n",
       "      <th></th>\n",
       "      <th></th>\n",
       "      <th></th>\n",
       "      <th></th>\n",
       "      <th></th>\n",
       "    </tr>\n",
       "  </thead>\n",
       "  <tbody>\n",
       "    <tr>\n",
       "      <th>2022-12-30</th>\n",
       "      <td>83.120</td>\n",
       "      <td>84.050</td>\n",
       "      <td>82.4700</td>\n",
       "      <td>84.000</td>\n",
       "      <td>62401194</td>\n",
       "    </tr>\n",
       "    <tr>\n",
       "      <th>2022-12-29</th>\n",
       "      <td>82.870</td>\n",
       "      <td>84.550</td>\n",
       "      <td>82.5500</td>\n",
       "      <td>84.180</td>\n",
       "      <td>54995895</td>\n",
       "    </tr>\n",
       "    <tr>\n",
       "      <th>2022-12-28</th>\n",
       "      <td>82.800</td>\n",
       "      <td>83.480</td>\n",
       "      <td>81.6900</td>\n",
       "      <td>81.820</td>\n",
       "      <td>58228575</td>\n",
       "    </tr>\n",
       "    <tr>\n",
       "      <th>2022-12-27</th>\n",
       "      <td>84.970</td>\n",
       "      <td>85.350</td>\n",
       "      <td>83.0000</td>\n",
       "      <td>83.040</td>\n",
       "      <td>57284035</td>\n",
       "    </tr>\n",
       "    <tr>\n",
       "      <th>2022-12-23</th>\n",
       "      <td>83.250</td>\n",
       "      <td>85.780</td>\n",
       "      <td>82.9344</td>\n",
       "      <td>85.250</td>\n",
       "      <td>57433655</td>\n",
       "    </tr>\n",
       "    <tr>\n",
       "      <th>...</th>\n",
       "      <td>...</td>\n",
       "      <td>...</td>\n",
       "      <td>...</td>\n",
       "      <td>...</td>\n",
       "      <td>...</td>\n",
       "    </tr>\n",
       "    <tr>\n",
       "      <th>2022-01-07</th>\n",
       "      <td>163.839</td>\n",
       "      <td>165.243</td>\n",
       "      <td>162.0310</td>\n",
       "      <td>162.554</td>\n",
       "      <td>46605900</td>\n",
       "    </tr>\n",
       "    <tr>\n",
       "      <th>2022-01-06</th>\n",
       "      <td>163.450</td>\n",
       "      <td>164.800</td>\n",
       "      <td>161.9370</td>\n",
       "      <td>163.254</td>\n",
       "      <td>51957780</td>\n",
       "    </tr>\n",
       "    <tr>\n",
       "      <th>2022-01-05</th>\n",
       "      <td>166.883</td>\n",
       "      <td>167.126</td>\n",
       "      <td>164.3570</td>\n",
       "      <td>164.357</td>\n",
       "      <td>64302720</td>\n",
       "    </tr>\n",
       "    <tr>\n",
       "      <th>2022-01-04</th>\n",
       "      <td>170.438</td>\n",
       "      <td>171.400</td>\n",
       "      <td>166.3490</td>\n",
       "      <td>167.522</td>\n",
       "      <td>70725160</td>\n",
       "    </tr>\n",
       "    <tr>\n",
       "      <th>2022-01-03</th>\n",
       "      <td>167.550</td>\n",
       "      <td>170.704</td>\n",
       "      <td>166.1600</td>\n",
       "      <td>170.404</td>\n",
       "      <td>63869140</td>\n",
       "    </tr>\n",
       "  </tbody>\n",
       "</table>\n",
       "<p>251 rows × 5 columns</p>\n",
       "</div>"
      ],
      "text/plain": [
       "               Open     High       Low    Close    Volume\n",
       "Date                                                     \n",
       "2022-12-30   83.120   84.050   82.4700   84.000  62401194\n",
       "2022-12-29   82.870   84.550   82.5500   84.180  54995895\n",
       "2022-12-28   82.800   83.480   81.6900   81.820  58228575\n",
       "2022-12-27   84.970   85.350   83.0000   83.040  57284035\n",
       "2022-12-23   83.250   85.780   82.9344   85.250  57433655\n",
       "...             ...      ...       ...      ...       ...\n",
       "2022-01-07  163.839  165.243  162.0310  162.554  46605900\n",
       "2022-01-06  163.450  164.800  161.9370  163.254  51957780\n",
       "2022-01-05  166.883  167.126  164.3570  164.357  64302720\n",
       "2022-01-04  170.438  171.400  166.3490  167.522  70725160\n",
       "2022-01-03  167.550  170.704  166.1600  170.404  63869140\n",
       "\n",
       "[251 rows x 5 columns]"
      ]
     },
     "execution_count": 150,
     "metadata": {},
     "output_type": "execute_result"
    }
   ],
   "source": [
    "df4.dropna()"
   ]
  },
  {
   "cell_type": "code",
   "execution_count": 151,
   "id": "9cbf39ff-4560-499a-bd34-050871bc51d1",
   "metadata": {},
   "outputs": [
    {
     "data": {
      "text/html": [
       "<div>\n",
       "<style scoped>\n",
       "    .dataframe tbody tr th:only-of-type {\n",
       "        vertical-align: middle;\n",
       "    }\n",
       "\n",
       "    .dataframe tbody tr th {\n",
       "        vertical-align: top;\n",
       "    }\n",
       "\n",
       "    .dataframe thead th {\n",
       "        text-align: right;\n",
       "    }\n",
       "</style>\n",
       "<table border=\"1\" class=\"dataframe\">\n",
       "  <thead>\n",
       "    <tr style=\"text-align: right;\">\n",
       "      <th></th>\n",
       "      <th>Open</th>\n",
       "      <th>High</th>\n",
       "      <th>Low</th>\n",
       "      <th>Close</th>\n",
       "      <th>Volume</th>\n",
       "    </tr>\n",
       "    <tr>\n",
       "      <th>Date</th>\n",
       "      <th></th>\n",
       "      <th></th>\n",
       "      <th></th>\n",
       "      <th></th>\n",
       "      <th></th>\n",
       "    </tr>\n",
       "  </thead>\n",
       "  <tbody>\n",
       "    <tr>\n",
       "      <th>2022-12-30</th>\n",
       "      <td>83.120</td>\n",
       "      <td>84.050</td>\n",
       "      <td>82.4700</td>\n",
       "      <td>84.000</td>\n",
       "      <td>62401194</td>\n",
       "    </tr>\n",
       "    <tr>\n",
       "      <th>2022-12-29</th>\n",
       "      <td>82.870</td>\n",
       "      <td>84.550</td>\n",
       "      <td>82.5500</td>\n",
       "      <td>84.180</td>\n",
       "      <td>54995895</td>\n",
       "    </tr>\n",
       "    <tr>\n",
       "      <th>2022-12-28</th>\n",
       "      <td>82.800</td>\n",
       "      <td>83.480</td>\n",
       "      <td>81.6900</td>\n",
       "      <td>81.820</td>\n",
       "      <td>58228575</td>\n",
       "    </tr>\n",
       "    <tr>\n",
       "      <th>2022-12-27</th>\n",
       "      <td>84.970</td>\n",
       "      <td>85.350</td>\n",
       "      <td>83.0000</td>\n",
       "      <td>83.040</td>\n",
       "      <td>57284035</td>\n",
       "    </tr>\n",
       "    <tr>\n",
       "      <th>2022-12-23</th>\n",
       "      <td>83.250</td>\n",
       "      <td>85.780</td>\n",
       "      <td>82.9344</td>\n",
       "      <td>85.250</td>\n",
       "      <td>57433655</td>\n",
       "    </tr>\n",
       "    <tr>\n",
       "      <th>...</th>\n",
       "      <td>...</td>\n",
       "      <td>...</td>\n",
       "      <td>...</td>\n",
       "      <td>...</td>\n",
       "      <td>...</td>\n",
       "    </tr>\n",
       "    <tr>\n",
       "      <th>2022-01-07</th>\n",
       "      <td>163.839</td>\n",
       "      <td>165.243</td>\n",
       "      <td>162.0310</td>\n",
       "      <td>162.554</td>\n",
       "      <td>46605900</td>\n",
       "    </tr>\n",
       "    <tr>\n",
       "      <th>2022-01-06</th>\n",
       "      <td>163.450</td>\n",
       "      <td>164.800</td>\n",
       "      <td>161.9370</td>\n",
       "      <td>163.254</td>\n",
       "      <td>51957780</td>\n",
       "    </tr>\n",
       "    <tr>\n",
       "      <th>2022-01-05</th>\n",
       "      <td>166.883</td>\n",
       "      <td>167.126</td>\n",
       "      <td>164.3570</td>\n",
       "      <td>164.357</td>\n",
       "      <td>64302720</td>\n",
       "    </tr>\n",
       "    <tr>\n",
       "      <th>2022-01-04</th>\n",
       "      <td>170.438</td>\n",
       "      <td>171.400</td>\n",
       "      <td>166.3490</td>\n",
       "      <td>167.522</td>\n",
       "      <td>70725160</td>\n",
       "    </tr>\n",
       "    <tr>\n",
       "      <th>2022-01-03</th>\n",
       "      <td>167.550</td>\n",
       "      <td>170.704</td>\n",
       "      <td>166.1600</td>\n",
       "      <td>170.404</td>\n",
       "      <td>63869140</td>\n",
       "    </tr>\n",
       "  </tbody>\n",
       "</table>\n",
       "<p>251 rows × 5 columns</p>\n",
       "</div>"
      ],
      "text/plain": [
       "               Open     High       Low    Close    Volume\n",
       "Date                                                     \n",
       "2022-12-30   83.120   84.050   82.4700   84.000  62401194\n",
       "2022-12-29   82.870   84.550   82.5500   84.180  54995895\n",
       "2022-12-28   82.800   83.480   81.6900   81.820  58228575\n",
       "2022-12-27   84.970   85.350   83.0000   83.040  57284035\n",
       "2022-12-23   83.250   85.780   82.9344   85.250  57433655\n",
       "...             ...      ...       ...      ...       ...\n",
       "2022-01-07  163.839  165.243  162.0310  162.554  46605900\n",
       "2022-01-06  163.450  164.800  161.9370  163.254  51957780\n",
       "2022-01-05  166.883  167.126  164.3570  164.357  64302720\n",
       "2022-01-04  170.438  171.400  166.3490  167.522  70725160\n",
       "2022-01-03  167.550  170.704  166.1600  170.404  63869140\n",
       "\n",
       "[251 rows x 5 columns]"
      ]
     },
     "execution_count": 151,
     "metadata": {},
     "output_type": "execute_result"
    }
   ],
   "source": [
    "df4.dropna(axis=1)"
   ]
  },
  {
   "cell_type": "markdown",
   "id": "c1db995a-613d-4c06-963d-0f108afe03b4",
   "metadata": {},
   "source": [
    "# 75"
   ]
  },
  {
   "cell_type": "code",
   "execution_count": 152,
   "id": "16fb930b-69b5-4d4e-b393-c2c1e8ef98dd",
   "metadata": {},
   "outputs": [
    {
     "data": {
      "text/html": [
       "<div>\n",
       "<style scoped>\n",
       "    .dataframe tbody tr th:only-of-type {\n",
       "        vertical-align: middle;\n",
       "    }\n",
       "\n",
       "    .dataframe tbody tr th {\n",
       "        vertical-align: top;\n",
       "    }\n",
       "\n",
       "    .dataframe thead th {\n",
       "        text-align: right;\n",
       "    }\n",
       "</style>\n",
       "<table border=\"1\" class=\"dataframe\">\n",
       "  <thead>\n",
       "    <tr style=\"text-align: right;\">\n",
       "      <th></th>\n",
       "      <th>语文</th>\n",
       "      <th>数学</th>\n",
       "      <th>英语</th>\n",
       "    </tr>\n",
       "  </thead>\n",
       "  <tbody>\n",
       "    <tr>\n",
       "      <th>关羽</th>\n",
       "      <td>75</td>\n",
       "      <td>56</td>\n",
       "      <td>85</td>\n",
       "    </tr>\n",
       "    <tr>\n",
       "      <th>张飞</th>\n",
       "      <td>63</td>\n",
       "      <td>98</td>\n",
       "      <td>86</td>\n",
       "    </tr>\n",
       "    <tr>\n",
       "      <th>赵云</th>\n",
       "      <td>80</td>\n",
       "      <td>81</td>\n",
       "      <td>69</td>\n",
       "    </tr>\n",
       "    <tr>\n",
       "      <th>马超</th>\n",
       "      <td>97</td>\n",
       "      <td>74</td>\n",
       "      <td>100</td>\n",
       "    </tr>\n",
       "    <tr>\n",
       "      <th>黄忠</th>\n",
       "      <td>59</td>\n",
       "      <td>67</td>\n",
       "      <td>61</td>\n",
       "    </tr>\n",
       "  </tbody>\n",
       "</table>\n",
       "</div>"
      ],
      "text/plain": [
       "    语文  数学   英语\n",
       "关羽  75  56   85\n",
       "张飞  63  98   86\n",
       "赵云  80  81   69\n",
       "马超  97  74  100\n",
       "黄忠  59  67   61"
      ]
     },
     "execution_count": 152,
     "metadata": {},
     "output_type": "execute_result"
    }
   ],
   "source": [
    "scores = np.random.randint(50, 101, (5, 3))\n",
    "names = ('关羽', '张飞', '赵云', '马超', '黄忠')\n",
    "courses = ('语文', '数学', '英语')\n",
    "df = pd.DataFrame(data=scores, columns=courses, index=names)\n",
    "df"
   ]
  },
  {
   "cell_type": "code",
   "execution_count": 153,
   "id": "c4bd0416-dac4-4b13-afd3-bfd25515c26b",
   "metadata": {},
   "outputs": [
    {
     "data": {
      "text/plain": [
       "语文    74.8\n",
       "数学    75.2\n",
       "英语    80.2\n",
       "dtype: float64"
      ]
     },
     "execution_count": 153,
     "metadata": {},
     "output_type": "execute_result"
    }
   ],
   "source": [
    "df.mean()"
   ]
  },
  {
   "cell_type": "code",
   "execution_count": 154,
   "id": "516cbf73-2ec0-4e08-9472-40ecf8a80102",
   "metadata": {},
   "outputs": [
    {
     "data": {
      "text/plain": [
       "关羽    72.000000\n",
       "张飞    82.333333\n",
       "赵云    76.666667\n",
       "马超    90.333333\n",
       "黄忠    62.333333\n",
       "dtype: float64"
      ]
     },
     "execution_count": 154,
     "metadata": {},
     "output_type": "execute_result"
    }
   ],
   "source": [
    "df.mean(axis=1)"
   ]
  },
  {
   "cell_type": "code",
   "execution_count": 155,
   "id": "477f928b-d1df-4e7c-baa2-0ae19cd2e56d",
   "metadata": {},
   "outputs": [
    {
     "data": {
      "text/plain": [
       "语文    227.2\n",
       "数学    247.7\n",
       "英语    235.7\n",
       "dtype: float64"
      ]
     },
     "execution_count": 155,
     "metadata": {},
     "output_type": "execute_result"
    }
   ],
   "source": [
    "df.var()"
   ]
  },
  {
   "cell_type": "code",
   "execution_count": 156,
   "id": "24c59366-677d-471f-8c47-ba74391c409b",
   "metadata": {},
   "outputs": [
    {
     "data": {
      "text/html": [
       "<div>\n",
       "<style scoped>\n",
       "    .dataframe tbody tr th:only-of-type {\n",
       "        vertical-align: middle;\n",
       "    }\n",
       "\n",
       "    .dataframe tbody tr th {\n",
       "        vertical-align: top;\n",
       "    }\n",
       "\n",
       "    .dataframe thead th {\n",
       "        text-align: right;\n",
       "    }\n",
       "</style>\n",
       "<table border=\"1\" class=\"dataframe\">\n",
       "  <thead>\n",
       "    <tr style=\"text-align: right;\">\n",
       "      <th></th>\n",
       "      <th>语文</th>\n",
       "      <th>数学</th>\n",
       "      <th>英语</th>\n",
       "    </tr>\n",
       "  </thead>\n",
       "  <tbody>\n",
       "    <tr>\n",
       "      <th>count</th>\n",
       "      <td>5.000000</td>\n",
       "      <td>5.000000</td>\n",
       "      <td>5.000000</td>\n",
       "    </tr>\n",
       "    <tr>\n",
       "      <th>mean</th>\n",
       "      <td>74.800000</td>\n",
       "      <td>75.200000</td>\n",
       "      <td>80.200000</td>\n",
       "    </tr>\n",
       "    <tr>\n",
       "      <th>std</th>\n",
       "      <td>15.073155</td>\n",
       "      <td>15.738488</td>\n",
       "      <td>15.352524</td>\n",
       "    </tr>\n",
       "    <tr>\n",
       "      <th>min</th>\n",
       "      <td>59.000000</td>\n",
       "      <td>56.000000</td>\n",
       "      <td>61.000000</td>\n",
       "    </tr>\n",
       "    <tr>\n",
       "      <th>25%</th>\n",
       "      <td>63.000000</td>\n",
       "      <td>67.000000</td>\n",
       "      <td>69.000000</td>\n",
       "    </tr>\n",
       "    <tr>\n",
       "      <th>50%</th>\n",
       "      <td>75.000000</td>\n",
       "      <td>74.000000</td>\n",
       "      <td>85.000000</td>\n",
       "    </tr>\n",
       "    <tr>\n",
       "      <th>75%</th>\n",
       "      <td>80.000000</td>\n",
       "      <td>81.000000</td>\n",
       "      <td>86.000000</td>\n",
       "    </tr>\n",
       "    <tr>\n",
       "      <th>max</th>\n",
       "      <td>97.000000</td>\n",
       "      <td>98.000000</td>\n",
       "      <td>100.000000</td>\n",
       "    </tr>\n",
       "  </tbody>\n",
       "</table>\n",
       "</div>"
      ],
      "text/plain": [
       "              语文         数学          英语\n",
       "count   5.000000   5.000000    5.000000\n",
       "mean   74.800000  75.200000   80.200000\n",
       "std    15.073155  15.738488   15.352524\n",
       "min    59.000000  56.000000   61.000000\n",
       "25%    63.000000  67.000000   69.000000\n",
       "50%    75.000000  74.000000   85.000000\n",
       "75%    80.000000  81.000000   86.000000\n",
       "max    97.000000  98.000000  100.000000"
      ]
     },
     "execution_count": 156,
     "metadata": {},
     "output_type": "execute_result"
    }
   ],
   "source": [
    "df.describe()"
   ]
  },
  {
   "cell_type": "code",
   "execution_count": 157,
   "id": "f488c164-a158-4d9a-a355-23199813dcc5",
   "metadata": {},
   "outputs": [
    {
     "data": {
      "text/html": [
       "<div>\n",
       "<style scoped>\n",
       "    .dataframe tbody tr th:only-of-type {\n",
       "        vertical-align: middle;\n",
       "    }\n",
       "\n",
       "    .dataframe tbody tr th {\n",
       "        vertical-align: top;\n",
       "    }\n",
       "\n",
       "    .dataframe thead th {\n",
       "        text-align: right;\n",
       "    }\n",
       "</style>\n",
       "<table border=\"1\" class=\"dataframe\">\n",
       "  <thead>\n",
       "    <tr style=\"text-align: right;\">\n",
       "      <th></th>\n",
       "      <th>语文</th>\n",
       "      <th>数学</th>\n",
       "      <th>英语</th>\n",
       "    </tr>\n",
       "  </thead>\n",
       "  <tbody>\n",
       "    <tr>\n",
       "      <th>关羽</th>\n",
       "      <td>75</td>\n",
       "      <td>56</td>\n",
       "      <td>85</td>\n",
       "    </tr>\n",
       "    <tr>\n",
       "      <th>张飞</th>\n",
       "      <td>63</td>\n",
       "      <td>98</td>\n",
       "      <td>86</td>\n",
       "    </tr>\n",
       "    <tr>\n",
       "      <th>赵云</th>\n",
       "      <td>80</td>\n",
       "      <td>81</td>\n",
       "      <td>69</td>\n",
       "    </tr>\n",
       "    <tr>\n",
       "      <th>马超</th>\n",
       "      <td>97</td>\n",
       "      <td>74</td>\n",
       "      <td>100</td>\n",
       "    </tr>\n",
       "    <tr>\n",
       "      <th>黄忠</th>\n",
       "      <td>59</td>\n",
       "      <td>67</td>\n",
       "      <td>61</td>\n",
       "    </tr>\n",
       "  </tbody>\n",
       "</table>\n",
       "</div>"
      ],
      "text/plain": [
       "    语文  数学   英语\n",
       "关羽  75  56   85\n",
       "张飞  63  98   86\n",
       "赵云  80  81   69\n",
       "马超  97  74  100\n",
       "黄忠  59  67   61"
      ]
     },
     "execution_count": 157,
     "metadata": {},
     "output_type": "execute_result"
    }
   ],
   "source": [
    "df"
   ]
  },
  {
   "cell_type": "code",
   "execution_count": 159,
   "id": "2be4a0a6-4595-4d3a-bbd0-17666e2394bf",
   "metadata": {},
   "outputs": [
    {
     "data": {
      "text/html": [
       "<div>\n",
       "<style scoped>\n",
       "    .dataframe tbody tr th:only-of-type {\n",
       "        vertical-align: middle;\n",
       "    }\n",
       "\n",
       "    .dataframe tbody tr th {\n",
       "        vertical-align: top;\n",
       "    }\n",
       "\n",
       "    .dataframe thead th {\n",
       "        text-align: right;\n",
       "    }\n",
       "</style>\n",
       "<table border=\"1\" class=\"dataframe\">\n",
       "  <thead>\n",
       "    <tr style=\"text-align: right;\">\n",
       "      <th></th>\n",
       "      <th>语文</th>\n",
       "      <th>数学</th>\n",
       "      <th>英语</th>\n",
       "    </tr>\n",
       "  </thead>\n",
       "  <tbody>\n",
       "    <tr>\n",
       "      <th>马超</th>\n",
       "      <td>97</td>\n",
       "      <td>74</td>\n",
       "      <td>100</td>\n",
       "    </tr>\n",
       "    <tr>\n",
       "      <th>赵云</th>\n",
       "      <td>80</td>\n",
       "      <td>81</td>\n",
       "      <td>69</td>\n",
       "    </tr>\n",
       "    <tr>\n",
       "      <th>关羽</th>\n",
       "      <td>75</td>\n",
       "      <td>56</td>\n",
       "      <td>85</td>\n",
       "    </tr>\n",
       "    <tr>\n",
       "      <th>张飞</th>\n",
       "      <td>63</td>\n",
       "      <td>98</td>\n",
       "      <td>86</td>\n",
       "    </tr>\n",
       "    <tr>\n",
       "      <th>黄忠</th>\n",
       "      <td>59</td>\n",
       "      <td>67</td>\n",
       "      <td>61</td>\n",
       "    </tr>\n",
       "  </tbody>\n",
       "</table>\n",
       "</div>"
      ],
      "text/plain": [
       "    语文  数学   英语\n",
       "马超  97  74  100\n",
       "赵云  80  81   69\n",
       "关羽  75  56   85\n",
       "张飞  63  98   86\n",
       "黄忠  59  67   61"
      ]
     },
     "execution_count": 159,
     "metadata": {},
     "output_type": "execute_result"
    }
   ],
   "source": [
    "df.sort_values(by = \"语文\", ascending= False)"
   ]
  },
  {
   "cell_type": "code",
   "execution_count": 160,
   "id": "e0ce8c31-45f4-45e7-a706-9fedd899b02c",
   "metadata": {},
   "outputs": [
    {
     "data": {
      "text/html": [
       "<div>\n",
       "<style scoped>\n",
       "    .dataframe tbody tr th:only-of-type {\n",
       "        vertical-align: middle;\n",
       "    }\n",
       "\n",
       "    .dataframe tbody tr th {\n",
       "        vertical-align: top;\n",
       "    }\n",
       "\n",
       "    .dataframe thead th {\n",
       "        text-align: right;\n",
       "    }\n",
       "</style>\n",
       "<table border=\"1\" class=\"dataframe\">\n",
       "  <thead>\n",
       "    <tr style=\"text-align: right;\">\n",
       "      <th></th>\n",
       "      <th>语文</th>\n",
       "      <th>数学</th>\n",
       "      <th>英语</th>\n",
       "    </tr>\n",
       "  </thead>\n",
       "  <tbody>\n",
       "    <tr>\n",
       "      <th>马超</th>\n",
       "      <td>97</td>\n",
       "      <td>74</td>\n",
       "      <td>100</td>\n",
       "    </tr>\n",
       "    <tr>\n",
       "      <th>赵云</th>\n",
       "      <td>80</td>\n",
       "      <td>81</td>\n",
       "      <td>69</td>\n",
       "    </tr>\n",
       "    <tr>\n",
       "      <th>关羽</th>\n",
       "      <td>75</td>\n",
       "      <td>56</td>\n",
       "      <td>85</td>\n",
       "    </tr>\n",
       "  </tbody>\n",
       "</table>\n",
       "</div>"
      ],
      "text/plain": [
       "    语文  数学   英语\n",
       "马超  97  74  100\n",
       "赵云  80  81   69\n",
       "关羽  75  56   85"
      ]
     },
     "execution_count": 160,
     "metadata": {},
     "output_type": "execute_result"
    }
   ],
   "source": [
    "df.nlargest(3, \"语文\")"
   ]
  },
  {
   "cell_type": "code",
   "execution_count": 161,
   "id": "c2444aed-ee43-4182-b249-0e8074509aac",
   "metadata": {},
   "outputs": [
    {
     "data": {
      "text/html": [
       "<div>\n",
       "<style scoped>\n",
       "    .dataframe tbody tr th:only-of-type {\n",
       "        vertical-align: middle;\n",
       "    }\n",
       "\n",
       "    .dataframe tbody tr th {\n",
       "        vertical-align: top;\n",
       "    }\n",
       "\n",
       "    .dataframe thead th {\n",
       "        text-align: right;\n",
       "    }\n",
       "</style>\n",
       "<table border=\"1\" class=\"dataframe\">\n",
       "  <thead>\n",
       "    <tr style=\"text-align: right;\">\n",
       "      <th></th>\n",
       "      <th>语文</th>\n",
       "      <th>数学</th>\n",
       "      <th>英语</th>\n",
       "    </tr>\n",
       "  </thead>\n",
       "  <tbody>\n",
       "    <tr>\n",
       "      <th>黄忠</th>\n",
       "      <td>59</td>\n",
       "      <td>67</td>\n",
       "      <td>61</td>\n",
       "    </tr>\n",
       "    <tr>\n",
       "      <th>张飞</th>\n",
       "      <td>63</td>\n",
       "      <td>98</td>\n",
       "      <td>86</td>\n",
       "    </tr>\n",
       "    <tr>\n",
       "      <th>关羽</th>\n",
       "      <td>75</td>\n",
       "      <td>56</td>\n",
       "      <td>85</td>\n",
       "    </tr>\n",
       "  </tbody>\n",
       "</table>\n",
       "</div>"
      ],
      "text/plain": [
       "    语文  数学  英语\n",
       "黄忠  59  67  61\n",
       "张飞  63  98  86\n",
       "关羽  75  56  85"
      ]
     },
     "execution_count": 161,
     "metadata": {},
     "output_type": "execute_result"
    }
   ],
   "source": [
    "df.nsmallest(3, \"语文\")"
   ]
  },
  {
   "cell_type": "code",
   "execution_count": 165,
   "id": "7a3fb2b6-2077-4438-9eaa-1bbf19aeaab9",
   "metadata": {},
   "outputs": [
    {
     "data": {
      "text/html": [
       "<div>\n",
       "<style scoped>\n",
       "    .dataframe tbody tr th:only-of-type {\n",
       "        vertical-align: middle;\n",
       "    }\n",
       "\n",
       "    .dataframe tbody tr th {\n",
       "        vertical-align: top;\n",
       "    }\n",
       "\n",
       "    .dataframe thead th {\n",
       "        text-align: right;\n",
       "    }\n",
       "</style>\n",
       "<table border=\"1\" class=\"dataframe\">\n",
       "  <thead>\n",
       "    <tr style=\"text-align: right;\">\n",
       "      <th></th>\n",
       "      <th>name</th>\n",
       "      <th>birthday</th>\n",
       "      <th>company</th>\n",
       "      <th>score</th>\n",
       "    </tr>\n",
       "    <tr>\n",
       "      <th>id</th>\n",
       "      <th></th>\n",
       "      <th></th>\n",
       "      <th></th>\n",
       "      <th></th>\n",
       "    </tr>\n",
       "  </thead>\n",
       "  <tbody>\n",
       "    <tr>\n",
       "      <th>1</th>\n",
       "      <td>杨效丰</td>\n",
       "      <td>1972-12</td>\n",
       "      <td>北京利德华福电气技术有限公司</td>\n",
       "      <td>122.59</td>\n",
       "    </tr>\n",
       "    <tr>\n",
       "      <th>2</th>\n",
       "      <td>纪丰伟</td>\n",
       "      <td>1974-12</td>\n",
       "      <td>北京航天数据股份有限公司</td>\n",
       "      <td>121.25</td>\n",
       "    </tr>\n",
       "    <tr>\n",
       "      <th>3</th>\n",
       "      <td>王永</td>\n",
       "      <td>1974-05</td>\n",
       "      <td>品牌联盟(北京)咨询股份公司</td>\n",
       "      <td>118.96</td>\n",
       "    </tr>\n",
       "    <tr>\n",
       "      <th>4</th>\n",
       "      <td>杨静</td>\n",
       "      <td>1975-07</td>\n",
       "      <td>中科专利商标代理有限责任公司</td>\n",
       "      <td>118.21</td>\n",
       "    </tr>\n",
       "    <tr>\n",
       "      <th>5</th>\n",
       "      <td>张凯江</td>\n",
       "      <td>1974-11</td>\n",
       "      <td>北京阿里巴巴云计算技术有限公司</td>\n",
       "      <td>117.79</td>\n",
       "    </tr>\n",
       "    <tr>\n",
       "      <th>...</th>\n",
       "      <td>...</td>\n",
       "      <td>...</td>\n",
       "      <td>...</td>\n",
       "      <td>...</td>\n",
       "    </tr>\n",
       "    <tr>\n",
       "      <th>6015</th>\n",
       "      <td>孙宏波</td>\n",
       "      <td>1978-08</td>\n",
       "      <td>华为海洋网络有限公司北京科技分公司</td>\n",
       "      <td>90.75</td>\n",
       "    </tr>\n",
       "    <tr>\n",
       "      <th>6016</th>\n",
       "      <td>刘丽香</td>\n",
       "      <td>1976-11</td>\n",
       "      <td>福斯（上海）流体设备有限公司北京分公司</td>\n",
       "      <td>90.75</td>\n",
       "    </tr>\n",
       "    <tr>\n",
       "      <th>6017</th>\n",
       "      <td>周崧</td>\n",
       "      <td>1977-10</td>\n",
       "      <td>赢创德固赛（中国）投资有限公司</td>\n",
       "      <td>90.75</td>\n",
       "    </tr>\n",
       "    <tr>\n",
       "      <th>6018</th>\n",
       "      <td>赵妍</td>\n",
       "      <td>1979-07</td>\n",
       "      <td>澳科利耳医疗器械（北京）有限公司</td>\n",
       "      <td>90.75</td>\n",
       "    </tr>\n",
       "    <tr>\n",
       "      <th>6019</th>\n",
       "      <td>贺锐</td>\n",
       "      <td>1981-06</td>\n",
       "      <td>北京宝洁技术有限公司</td>\n",
       "      <td>90.75</td>\n",
       "    </tr>\n",
       "  </tbody>\n",
       "</table>\n",
       "<p>6019 rows × 4 columns</p>\n",
       "</div>"
      ],
      "text/plain": [
       "     name birthday              company   score\n",
       "id                                             \n",
       "1     杨效丰  1972-12       北京利德华福电气技术有限公司  122.59\n",
       "2     纪丰伟  1974-12         北京航天数据股份有限公司  121.25\n",
       "3      王永  1974-05       品牌联盟(北京)咨询股份公司  118.96\n",
       "4      杨静  1975-07       中科专利商标代理有限责任公司  118.21\n",
       "5     张凯江  1974-11      北京阿里巴巴云计算技术有限公司  117.79\n",
       "...   ...      ...                  ...     ...\n",
       "6015  孙宏波  1978-08    华为海洋网络有限公司北京科技分公司   90.75\n",
       "6016  刘丽香  1976-11  福斯（上海）流体设备有限公司北京分公司   90.75\n",
       "6017   周崧  1977-10      赢创德固赛（中国）投资有限公司   90.75\n",
       "6018   赵妍  1979-07     澳科利耳医疗器械（北京）有限公司   90.75\n",
       "6019   贺锐  1981-06           北京宝洁技术有限公司   90.75\n",
       "\n",
       "[6019 rows x 4 columns]"
      ]
     },
     "execution_count": 165,
     "metadata": {},
     "output_type": "execute_result"
    }
   ],
   "source": [
    "df3"
   ]
  },
  {
   "cell_type": "code",
   "execution_count": 167,
   "id": "f510d5db-8b68-4aef-906d-affe8fb2e1cd",
   "metadata": {},
   "outputs": [
    {
     "data": {
      "text/plain": [
       "company\n",
       "ABB（中国）有限公司            783.68\n",
       "BONNIER图书文化（北京）有限公司    100.37\n",
       "IGT科技开发（北京）有限公司         91.54\n",
       "POLYCOM通讯技术（北京）有限公司    185.84\n",
       "VIDIA技术服务（北京）有限公司      104.96\n",
       "                        ...  \n",
       "龙源（北京）风电工程设计咨询有限公司     100.33\n",
       "龙田云端（北京）科技有限公司          92.29\n",
       "龙芯中科技术有限公司              95.08\n",
       "ＣＳＢ电池科技（北京）有限公司         99.42\n",
       "ＪＦＥ贸易（北京）有限公司           97.21\n",
       "Name: score, Length: 3430, dtype: float64"
      ]
     },
     "execution_count": 167,
     "metadata": {},
     "output_type": "execute_result"
    }
   ],
   "source": [
    "df3.groupby(\"company\").score.sum()"
   ]
  },
  {
   "cell_type": "code",
   "execution_count": 172,
   "id": "10f284e4-3f9f-4f6a-9db7-b5066266ee4c",
   "metadata": {},
   "outputs": [
    {
     "data": {
      "text/html": [
       "<div>\n",
       "<style scoped>\n",
       "    .dataframe tbody tr th:only-of-type {\n",
       "        vertical-align: middle;\n",
       "    }\n",
       "\n",
       "    .dataframe tbody tr th {\n",
       "        vertical-align: top;\n",
       "    }\n",
       "\n",
       "    .dataframe thead th {\n",
       "        text-align: right;\n",
       "    }\n",
       "</style>\n",
       "<table border=\"1\" class=\"dataframe\">\n",
       "  <thead>\n",
       "    <tr style=\"text-align: right;\">\n",
       "      <th></th>\n",
       "      <th>score</th>\n",
       "    </tr>\n",
       "    <tr>\n",
       "      <th>company</th>\n",
       "      <th></th>\n",
       "    </tr>\n",
       "  </thead>\n",
       "  <tbody>\n",
       "    <tr>\n",
       "      <th>ABB（中国）有限公司</th>\n",
       "      <td>783.68</td>\n",
       "    </tr>\n",
       "    <tr>\n",
       "      <th>BONNIER图书文化（北京）有限公司</th>\n",
       "      <td>100.37</td>\n",
       "    </tr>\n",
       "    <tr>\n",
       "      <th>IGT科技开发（北京）有限公司</th>\n",
       "      <td>91.54</td>\n",
       "    </tr>\n",
       "    <tr>\n",
       "      <th>POLYCOM通讯技术（北京）有限公司</th>\n",
       "      <td>185.84</td>\n",
       "    </tr>\n",
       "    <tr>\n",
       "      <th>VIDIA技术服务（北京）有限公司</th>\n",
       "      <td>104.96</td>\n",
       "    </tr>\n",
       "    <tr>\n",
       "      <th>...</th>\n",
       "      <td>...</td>\n",
       "    </tr>\n",
       "    <tr>\n",
       "      <th>龙源（北京）风电工程设计咨询有限公司</th>\n",
       "      <td>100.33</td>\n",
       "    </tr>\n",
       "    <tr>\n",
       "      <th>龙田云端（北京）科技有限公司</th>\n",
       "      <td>92.29</td>\n",
       "    </tr>\n",
       "    <tr>\n",
       "      <th>龙芯中科技术有限公司</th>\n",
       "      <td>95.08</td>\n",
       "    </tr>\n",
       "    <tr>\n",
       "      <th>ＣＳＢ电池科技（北京）有限公司</th>\n",
       "      <td>99.42</td>\n",
       "    </tr>\n",
       "    <tr>\n",
       "      <th>ＪＦＥ贸易（北京）有限公司</th>\n",
       "      <td>97.21</td>\n",
       "    </tr>\n",
       "  </tbody>\n",
       "</table>\n",
       "<p>3430 rows × 1 columns</p>\n",
       "</div>"
      ],
      "text/plain": [
       "                      score\n",
       "company                    \n",
       "ABB（中国）有限公司          783.68\n",
       "BONNIER图书文化（北京）有限公司  100.37\n",
       "IGT科技开发（北京）有限公司       91.54\n",
       "POLYCOM通讯技术（北京）有限公司  185.84\n",
       "VIDIA技术服务（北京）有限公司    104.96\n",
       "...                     ...\n",
       "龙源（北京）风电工程设计咨询有限公司   100.33\n",
       "龙田云端（北京）科技有限公司        92.29\n",
       "龙芯中科技术有限公司            95.08\n",
       "ＣＳＢ电池科技（北京）有限公司       99.42\n",
       "ＪＦＥ贸易（北京）有限公司         97.21\n",
       "\n",
       "[3430 rows x 1 columns]"
      ]
     },
     "execution_count": 172,
     "metadata": {},
     "output_type": "execute_result"
    }
   ],
   "source": [
    "pd.pivot_table(df3, index=\"company\", values = \"score\", aggfunc = \"sum\")"
   ]
  },
  {
   "cell_type": "markdown",
   "id": "4886ab13-16ab-4ebc-a11c-f419d4d88c04",
   "metadata": {},
   "source": [
    "# 76"
   ]
  },
  {
   "cell_type": "code",
   "execution_count": 183,
   "id": "542b9f1e-59c5-4854-8832-ba01b33cd43a",
   "metadata": {},
   "outputs": [
    {
     "data": {
      "text/html": [
       "<div>\n",
       "<style scoped>\n",
       "    .dataframe tbody tr th:only-of-type {\n",
       "        vertical-align: middle;\n",
       "    }\n",
       "\n",
       "    .dataframe tbody tr th {\n",
       "        vertical-align: top;\n",
       "    }\n",
       "\n",
       "    .dataframe thead th {\n",
       "        text-align: right;\n",
       "    }\n",
       "</style>\n",
       "<table border=\"1\" class=\"dataframe\">\n",
       "  <thead>\n",
       "    <tr style=\"text-align: right;\">\n",
       "      <th></th>\n",
       "      <th>Date</th>\n",
       "      <th>Open</th>\n",
       "      <th>High</th>\n",
       "      <th>Low</th>\n",
       "      <th>Close</th>\n",
       "      <th>Volume</th>\n",
       "    </tr>\n",
       "  </thead>\n",
       "  <tbody>\n",
       "    <tr>\n",
       "      <th>250</th>\n",
       "      <td>2022-01-03</td>\n",
       "      <td>148.910</td>\n",
       "      <td>149.9606</td>\n",
       "      <td>144.95</td>\n",
       "      <td>149.10</td>\n",
       "      <td>2330166</td>\n",
       "    </tr>\n",
       "    <tr>\n",
       "      <th>249</th>\n",
       "      <td>2022-01-04</td>\n",
       "      <td>148.140</td>\n",
       "      <td>148.4289</td>\n",
       "      <td>143.56</td>\n",
       "      <td>146.53</td>\n",
       "      <td>2876800</td>\n",
       "    </tr>\n",
       "    <tr>\n",
       "      <th>248</th>\n",
       "      <td>2022-01-05</td>\n",
       "      <td>143.820</td>\n",
       "      <td>150.2600</td>\n",
       "      <td>142.95</td>\n",
       "      <td>143.88</td>\n",
       "      <td>3505931</td>\n",
       "    </tr>\n",
       "    <tr>\n",
       "      <th>247</th>\n",
       "      <td>2022-01-06</td>\n",
       "      <td>146.195</td>\n",
       "      <td>153.0000</td>\n",
       "      <td>144.41</td>\n",
       "      <td>150.75</td>\n",
       "      <td>3839019</td>\n",
       "    </tr>\n",
       "    <tr>\n",
       "      <th>246</th>\n",
       "      <td>2022-01-07</td>\n",
       "      <td>152.980</td>\n",
       "      <td>157.0000</td>\n",
       "      <td>152.28</td>\n",
       "      <td>153.33</td>\n",
       "      <td>2751971</td>\n",
       "    </tr>\n",
       "    <tr>\n",
       "      <th>...</th>\n",
       "      <td>...</td>\n",
       "      <td>...</td>\n",
       "      <td>...</td>\n",
       "      <td>...</td>\n",
       "      <td>...</td>\n",
       "      <td>...</td>\n",
       "    </tr>\n",
       "    <tr>\n",
       "      <th>4</th>\n",
       "      <td>2022-12-23</td>\n",
       "      <td>113.880</td>\n",
       "      <td>114.2500</td>\n",
       "      <td>111.52</td>\n",
       "      <td>111.61</td>\n",
       "      <td>1221825</td>\n",
       "    </tr>\n",
       "    <tr>\n",
       "      <th>3</th>\n",
       "      <td>2022-12-27</td>\n",
       "      <td>113.100</td>\n",
       "      <td>117.5000</td>\n",
       "      <td>112.48</td>\n",
       "      <td>116.48</td>\n",
       "      <td>2668445</td>\n",
       "    </tr>\n",
       "    <tr>\n",
       "      <th>2</th>\n",
       "      <td>2022-12-28</td>\n",
       "      <td>114.090</td>\n",
       "      <td>115.5300</td>\n",
       "      <td>109.88</td>\n",
       "      <td>111.60</td>\n",
       "      <td>1983757</td>\n",
       "    </tr>\n",
       "    <tr>\n",
       "      <th>1</th>\n",
       "      <td>2022-12-29</td>\n",
       "      <td>112.810</td>\n",
       "      <td>116.0600</td>\n",
       "      <td>111.30</td>\n",
       "      <td>115.10</td>\n",
       "      <td>1454617</td>\n",
       "    </tr>\n",
       "    <tr>\n",
       "      <th>0</th>\n",
       "      <td>2022-12-30</td>\n",
       "      <td>113.490</td>\n",
       "      <td>116.5000</td>\n",
       "      <td>113.15</td>\n",
       "      <td>114.38</td>\n",
       "      <td>1727642</td>\n",
       "    </tr>\n",
       "  </tbody>\n",
       "</table>\n",
       "<p>251 rows × 6 columns</p>\n",
       "</div>"
      ],
      "text/plain": [
       "          Date     Open      High     Low   Close   Volume\n",
       "250 2022-01-03  148.910  149.9606  144.95  149.10  2330166\n",
       "249 2022-01-04  148.140  148.4289  143.56  146.53  2876800\n",
       "248 2022-01-05  143.820  150.2600  142.95  143.88  3505931\n",
       "247 2022-01-06  146.195  153.0000  144.41  150.75  3839019\n",
       "246 2022-01-07  152.980  157.0000  152.28  153.33  2751971\n",
       "..         ...      ...       ...     ...     ...      ...\n",
       "4   2022-12-23  113.880  114.2500  111.52  111.61  1221825\n",
       "3   2022-12-27  113.100  117.5000  112.48  116.48  2668445\n",
       "2   2022-12-28  114.090  115.5300  109.88  111.60  1983757\n",
       "1   2022-12-29  112.810  116.0600  111.30  115.10  1454617\n",
       "0   2022-12-30  113.490  116.5000  113.15  114.38  1727642\n",
       "\n",
       "[251 rows x 6 columns]"
      ]
     },
     "execution_count": 183,
     "metadata": {},
     "output_type": "execute_result"
    }
   ],
   "source": [
    "baidu_df = pd.read_excel(\"./Test_Data/2022年股票数据.xlsx\", sheet_name=\"BIDU\")\n",
    "baidu_df.sort_index(ascending=False, inplace = True)\n",
    "baidu_df"
   ]
  },
  {
   "cell_type": "code",
   "execution_count": 187,
   "id": "a45ca9ea-5cdb-4546-8bf6-4a593963d743",
   "metadata": {},
   "outputs": [],
   "source": [
    "baidu_df = baidu_df.set_index(\"Date\")"
   ]
  },
  {
   "cell_type": "code",
   "execution_count": 190,
   "id": "6433e0e2-d7df-4a37-90b6-d09e58203a51",
   "metadata": {},
   "outputs": [
    {
     "data": {
      "text/html": [
       "<div>\n",
       "<style scoped>\n",
       "    .dataframe tbody tr th:only-of-type {\n",
       "        vertical-align: middle;\n",
       "    }\n",
       "\n",
       "    .dataframe tbody tr th {\n",
       "        vertical-align: top;\n",
       "    }\n",
       "\n",
       "    .dataframe thead th {\n",
       "        text-align: right;\n",
       "    }\n",
       "</style>\n",
       "<table border=\"1\" class=\"dataframe\">\n",
       "  <thead>\n",
       "    <tr style=\"text-align: right;\">\n",
       "      <th></th>\n",
       "      <th>Open</th>\n",
       "      <th>High</th>\n",
       "      <th>Low</th>\n",
       "      <th>Close</th>\n",
       "      <th>Volume</th>\n",
       "    </tr>\n",
       "    <tr>\n",
       "      <th>Date</th>\n",
       "      <th></th>\n",
       "      <th></th>\n",
       "      <th></th>\n",
       "      <th></th>\n",
       "      <th></th>\n",
       "    </tr>\n",
       "  </thead>\n",
       "  <tbody>\n",
       "    <tr>\n",
       "      <th>2022-01-03</th>\n",
       "      <td>NaN</td>\n",
       "      <td>NaN</td>\n",
       "      <td>NaN</td>\n",
       "      <td>NaN</td>\n",
       "      <td>NaN</td>\n",
       "    </tr>\n",
       "    <tr>\n",
       "      <th>2022-01-04</th>\n",
       "      <td>NaN</td>\n",
       "      <td>NaN</td>\n",
       "      <td>NaN</td>\n",
       "      <td>NaN</td>\n",
       "      <td>NaN</td>\n",
       "    </tr>\n",
       "    <tr>\n",
       "      <th>2022-01-05</th>\n",
       "      <td>NaN</td>\n",
       "      <td>NaN</td>\n",
       "      <td>NaN</td>\n",
       "      <td>NaN</td>\n",
       "      <td>NaN</td>\n",
       "    </tr>\n",
       "    <tr>\n",
       "      <th>2022-01-06</th>\n",
       "      <td>NaN</td>\n",
       "      <td>NaN</td>\n",
       "      <td>NaN</td>\n",
       "      <td>NaN</td>\n",
       "      <td>NaN</td>\n",
       "    </tr>\n",
       "    <tr>\n",
       "      <th>2022-01-07</th>\n",
       "      <td>148.009</td>\n",
       "      <td>151.7299</td>\n",
       "      <td>145.630</td>\n",
       "      <td>148.718</td>\n",
       "      <td>3060777.4</td>\n",
       "    </tr>\n",
       "    <tr>\n",
       "      <th>...</th>\n",
       "      <td>...</td>\n",
       "      <td>...</td>\n",
       "      <td>...</td>\n",
       "      <td>...</td>\n",
       "      <td>...</td>\n",
       "    </tr>\n",
       "    <tr>\n",
       "      <th>2022-12-23</th>\n",
       "      <td>111.538</td>\n",
       "      <td>113.6800</td>\n",
       "      <td>109.758</td>\n",
       "      <td>111.566</td>\n",
       "      <td>1852199.8</td>\n",
       "    </tr>\n",
       "    <tr>\n",
       "      <th>2022-12-27</th>\n",
       "      <td>111.330</td>\n",
       "      <td>114.2600</td>\n",
       "      <td>110.016</td>\n",
       "      <td>112.446</td>\n",
       "      <td>1973967.4</td>\n",
       "    </tr>\n",
       "    <tr>\n",
       "      <th>2022-12-28</th>\n",
       "      <td>112.688</td>\n",
       "      <td>115.2240</td>\n",
       "      <td>110.546</td>\n",
       "      <td>113.144</td>\n",
       "      <td>1910336.4</td>\n",
       "    </tr>\n",
       "    <tr>\n",
       "      <th>2022-12-29</th>\n",
       "      <td>113.576</td>\n",
       "      <td>115.7600</td>\n",
       "      <td>111.328</td>\n",
       "      <td>113.506</td>\n",
       "      <td>1861172.8</td>\n",
       "    </tr>\n",
       "    <tr>\n",
       "      <th>2022-12-30</th>\n",
       "      <td>113.474</td>\n",
       "      <td>115.9680</td>\n",
       "      <td>111.666</td>\n",
       "      <td>113.834</td>\n",
       "      <td>1811257.2</td>\n",
       "    </tr>\n",
       "  </tbody>\n",
       "</table>\n",
       "<p>251 rows × 5 columns</p>\n",
       "</div>"
      ],
      "text/plain": [
       "               Open      High      Low    Close     Volume\n",
       "Date                                                      \n",
       "2022-01-03      NaN       NaN      NaN      NaN        NaN\n",
       "2022-01-04      NaN       NaN      NaN      NaN        NaN\n",
       "2022-01-05      NaN       NaN      NaN      NaN        NaN\n",
       "2022-01-06      NaN       NaN      NaN      NaN        NaN\n",
       "2022-01-07  148.009  151.7299  145.630  148.718  3060777.4\n",
       "...             ...       ...      ...      ...        ...\n",
       "2022-12-23  111.538  113.6800  109.758  111.566  1852199.8\n",
       "2022-12-27  111.330  114.2600  110.016  112.446  1973967.4\n",
       "2022-12-28  112.688  115.2240  110.546  113.144  1910336.4\n",
       "2022-12-29  113.576  115.7600  111.328  113.506  1861172.8\n",
       "2022-12-30  113.474  115.9680  111.666  113.834  1811257.2\n",
       "\n",
       "[251 rows x 5 columns]"
      ]
     },
     "execution_count": 190,
     "metadata": {},
     "output_type": "execute_result"
    }
   ],
   "source": [
    "baidu_df.rolling(5).mean()"
   ]
  },
  {
   "cell_type": "code",
   "execution_count": 194,
   "id": "d50bce57-02da-4616-ba03-120325c27450",
   "metadata": {},
   "outputs": [
    {
     "data": {
      "image/png": "[encoded data removed]",
      "text/plain": [
       "<Figure size 1000x600 with 1 Axes>"
      ]
     },
     "metadata": {},
     "output_type": "display_data"
    }
   ],
   "source": [
    "close_ma5 = baidu_df.Close.rolling(5).mean()\n",
    "close_ma10 = baidu_df.Close.rolling(10).mean()\n",
    "result_df = pd.merge(close_ma5, close_ma10, left_index = True, right_index = True)\n",
    "result_df.rename(columns= {\"Close_x\": \"MA5\", \"Close_y\": \"MA10\"}, inplace=True)\n",
    "result_df.plot(kind = \"line\", figsize = (10, 6))\n",
    "plt.show()"
   ]
  },
  {
   "cell_type": "code",
   "execution_count": 195,
   "id": "128fe831-1d76-4433-81ea-d7628a35e488",
   "metadata": {},
   "outputs": [],
   "source": [
    "boston_df = pd.read_csv(\"./Test_Data/boston_house_price.csv\")"
   ]
  },
  {
   "cell_type": "code",
   "execution_count": 196,
   "id": "eaf069ab-b946-4147-ad1f-afacac9d9390",
   "metadata": {},
   "outputs": [
    {
     "data": {
      "text/html": [
       "<div>\n",
       "<style scoped>\n",
       "    .dataframe tbody tr th:only-of-type {\n",
       "        vertical-align: middle;\n",
       "    }\n",
       "\n",
       "    .dataframe tbody tr th {\n",
       "        vertical-align: top;\n",
       "    }\n",
       "\n",
       "    .dataframe thead th {\n",
       "        text-align: right;\n",
       "    }\n",
       "</style>\n",
       "<table border=\"1\" class=\"dataframe\">\n",
       "  <thead>\n",
       "    <tr style=\"text-align: right;\">\n",
       "      <th></th>\n",
       "      <th>CRIM</th>\n",
       "      <th>ZN</th>\n",
       "      <th>INDUS</th>\n",
       "      <th>CHAS</th>\n",
       "      <th>NOX</th>\n",
       "      <th>RM</th>\n",
       "      <th>AGE</th>\n",
       "      <th>DIS</th>\n",
       "      <th>RAD</th>\n",
       "      <th>TAX</th>\n",
       "      <th>PTRATIO</th>\n",
       "      <th>B</th>\n",
       "      <th>LSTAT</th>\n",
       "      <th>PRICE</th>\n",
       "    </tr>\n",
       "  </thead>\n",
       "  <tbody>\n",
       "    <tr>\n",
       "      <th>0</th>\n",
       "      <td>0.00632</td>\n",
       "      <td>18.0</td>\n",
       "      <td>2.31</td>\n",
       "      <td>0</td>\n",
       "      <td>0.538</td>\n",
       "      <td>6.575</td>\n",
       "      <td>65.2</td>\n",
       "      <td>4.0900</td>\n",
       "      <td>1</td>\n",
       "      <td>296</td>\n",
       "      <td>15.3</td>\n",
       "      <td>396.90</td>\n",
       "      <td>4.98</td>\n",
       "      <td>24.0</td>\n",
       "    </tr>\n",
       "    <tr>\n",
       "      <th>1</th>\n",
       "      <td>0.02731</td>\n",
       "      <td>0.0</td>\n",
       "      <td>7.07</td>\n",
       "      <td>0</td>\n",
       "      <td>0.469</td>\n",
       "      <td>6.421</td>\n",
       "      <td>78.9</td>\n",
       "      <td>4.9671</td>\n",
       "      <td>2</td>\n",
       "      <td>242</td>\n",
       "      <td>17.8</td>\n",
       "      <td>396.90</td>\n",
       "      <td>9.14</td>\n",
       "      <td>21.6</td>\n",
       "    </tr>\n",
       "    <tr>\n",
       "      <th>2</th>\n",
       "      <td>0.02729</td>\n",
       "      <td>0.0</td>\n",
       "      <td>7.07</td>\n",
       "      <td>0</td>\n",
       "      <td>0.469</td>\n",
       "      <td>7.185</td>\n",
       "      <td>61.1</td>\n",
       "      <td>4.9671</td>\n",
       "      <td>2</td>\n",
       "      <td>242</td>\n",
       "      <td>17.8</td>\n",
       "      <td>392.83</td>\n",
       "      <td>4.03</td>\n",
       "      <td>34.7</td>\n",
       "    </tr>\n",
       "    <tr>\n",
       "      <th>3</th>\n",
       "      <td>0.03237</td>\n",
       "      <td>0.0</td>\n",
       "      <td>2.18</td>\n",
       "      <td>0</td>\n",
       "      <td>0.458</td>\n",
       "      <td>6.998</td>\n",
       "      <td>45.8</td>\n",
       "      <td>6.0622</td>\n",
       "      <td>3</td>\n",
       "      <td>222</td>\n",
       "      <td>18.7</td>\n",
       "      <td>394.63</td>\n",
       "      <td>2.94</td>\n",
       "      <td>33.4</td>\n",
       "    </tr>\n",
       "    <tr>\n",
       "      <th>4</th>\n",
       "      <td>0.06905</td>\n",
       "      <td>0.0</td>\n",
       "      <td>2.18</td>\n",
       "      <td>0</td>\n",
       "      <td>0.458</td>\n",
       "      <td>7.147</td>\n",
       "      <td>54.2</td>\n",
       "      <td>6.0622</td>\n",
       "      <td>3</td>\n",
       "      <td>222</td>\n",
       "      <td>18.7</td>\n",
       "      <td>396.90</td>\n",
       "      <td>5.33</td>\n",
       "      <td>36.2</td>\n",
       "    </tr>\n",
       "    <tr>\n",
       "      <th>...</th>\n",
       "      <td>...</td>\n",
       "      <td>...</td>\n",
       "      <td>...</td>\n",
       "      <td>...</td>\n",
       "      <td>...</td>\n",
       "      <td>...</td>\n",
       "      <td>...</td>\n",
       "      <td>...</td>\n",
       "      <td>...</td>\n",
       "      <td>...</td>\n",
       "      <td>...</td>\n",
       "      <td>...</td>\n",
       "      <td>...</td>\n",
       "      <td>...</td>\n",
       "    </tr>\n",
       "    <tr>\n",
       "      <th>501</th>\n",
       "      <td>0.06263</td>\n",
       "      <td>0.0</td>\n",
       "      <td>11.93</td>\n",
       "      <td>0</td>\n",
       "      <td>0.573</td>\n",
       "      <td>6.593</td>\n",
       "      <td>69.1</td>\n",
       "      <td>2.4786</td>\n",
       "      <td>1</td>\n",
       "      <td>273</td>\n",
       "      <td>21.0</td>\n",
       "      <td>391.99</td>\n",
       "      <td>9.67</td>\n",
       "      <td>22.4</td>\n",
       "    </tr>\n",
       "    <tr>\n",
       "      <th>502</th>\n",
       "      <td>0.04527</td>\n",
       "      <td>0.0</td>\n",
       "      <td>11.93</td>\n",
       "      <td>0</td>\n",
       "      <td>0.573</td>\n",
       "      <td>6.120</td>\n",
       "      <td>76.7</td>\n",
       "      <td>2.2875</td>\n",
       "      <td>1</td>\n",
       "      <td>273</td>\n",
       "      <td>21.0</td>\n",
       "      <td>396.90</td>\n",
       "      <td>9.08</td>\n",
       "      <td>20.6</td>\n",
       "    </tr>\n",
       "    <tr>\n",
       "      <th>503</th>\n",
       "      <td>0.06076</td>\n",
       "      <td>0.0</td>\n",
       "      <td>11.93</td>\n",
       "      <td>0</td>\n",
       "      <td>0.573</td>\n",
       "      <td>6.976</td>\n",
       "      <td>91.0</td>\n",
       "      <td>2.1675</td>\n",
       "      <td>1</td>\n",
       "      <td>273</td>\n",
       "      <td>21.0</td>\n",
       "      <td>396.90</td>\n",
       "      <td>5.64</td>\n",
       "      <td>23.9</td>\n",
       "    </tr>\n",
       "    <tr>\n",
       "      <th>504</th>\n",
       "      <td>0.10959</td>\n",
       "      <td>0.0</td>\n",
       "      <td>11.93</td>\n",
       "      <td>0</td>\n",
       "      <td>0.573</td>\n",
       "      <td>6.794</td>\n",
       "      <td>89.3</td>\n",
       "      <td>2.3889</td>\n",
       "      <td>1</td>\n",
       "      <td>273</td>\n",
       "      <td>21.0</td>\n",
       "      <td>393.45</td>\n",
       "      <td>6.48</td>\n",
       "      <td>22.0</td>\n",
       "    </tr>\n",
       "    <tr>\n",
       "      <th>505</th>\n",
       "      <td>0.04741</td>\n",
       "      <td>0.0</td>\n",
       "      <td>11.93</td>\n",
       "      <td>0</td>\n",
       "      <td>0.573</td>\n",
       "      <td>6.030</td>\n",
       "      <td>80.8</td>\n",
       "      <td>2.5050</td>\n",
       "      <td>1</td>\n",
       "      <td>273</td>\n",
       "      <td>21.0</td>\n",
       "      <td>396.90</td>\n",
       "      <td>7.88</td>\n",
       "      <td>11.9</td>\n",
       "    </tr>\n",
       "  </tbody>\n",
       "</table>\n",
       "<p>506 rows × 14 columns</p>\n",
       "</div>"
      ],
      "text/plain": [
       "        CRIM    ZN  INDUS  CHAS    NOX  ...  TAX  PTRATIO       B  LSTAT  PRICE\n",
       "0    0.00632  18.0   2.31     0  0.538  ...  296     15.3  396.90   4.98   24.0\n",
       "1    0.02731   0.0   7.07     0  0.469  ...  242     17.8  396.90   9.14   21.6\n",
       "2    0.02729   0.0   7.07     0  0.469  ...  242     17.8  392.83   4.03   34.7\n",
       "3    0.03237   0.0   2.18     0  0.458  ...  222     18.7  394.63   2.94   33.4\n",
       "4    0.06905   0.0   2.18     0  0.458  ...  222     18.7  396.90   5.33   36.2\n",
       "..       ...   ...    ...   ...    ...  ...  ...      ...     ...    ...    ...\n",
       "501  0.06263   0.0  11.93     0  0.573  ...  273     21.0  391.99   9.67   22.4\n",
       "502  0.04527   0.0  11.93     0  0.573  ...  273     21.0  396.90   9.08   20.6\n",
       "503  0.06076   0.0  11.93     0  0.573  ...  273     21.0  396.90   5.64   23.9\n",
       "504  0.10959   0.0  11.93     0  0.573  ...  273     21.0  393.45   6.48   22.0\n",
       "505  0.04741   0.0  11.93     0  0.573  ...  273     21.0  396.90   7.88   11.9\n",
       "\n",
       "[506 rows x 14 columns]"
      ]
     },
     "execution_count": 196,
     "metadata": {},
     "output_type": "execute_result"
    }
   ],
   "source": [
    "boston_df"
   ]
  },
  {
   "cell_type": "code",
   "execution_count": 197,
   "id": "5097bd2d-d02c-44ad-b58e-5f634bf3971d",
   "metadata": {},
   "outputs": [
    {
     "data": {
      "text/html": [
       "<div>\n",
       "<style scoped>\n",
       "    .dataframe tbody tr th:only-of-type {\n",
       "        vertical-align: middle;\n",
       "    }\n",
       "\n",
       "    .dataframe tbody tr th {\n",
       "        vertical-align: top;\n",
       "    }\n",
       "\n",
       "    .dataframe thead th {\n",
       "        text-align: right;\n",
       "    }\n",
       "</style>\n",
       "<table border=\"1\" class=\"dataframe\">\n",
       "  <thead>\n",
       "    <tr style=\"text-align: right;\">\n",
       "      <th></th>\n",
       "      <th>NOX</th>\n",
       "      <th>RM</th>\n",
       "      <th>PTRATIO</th>\n",
       "      <th>LSTAT</th>\n",
       "      <th>PRICE</th>\n",
       "    </tr>\n",
       "  </thead>\n",
       "  <tbody>\n",
       "    <tr>\n",
       "      <th>NOX</th>\n",
       "      <td>1.000000</td>\n",
       "      <td>-0.302188</td>\n",
       "      <td>0.188933</td>\n",
       "      <td>0.590879</td>\n",
       "      <td>-0.427321</td>\n",
       "    </tr>\n",
       "    <tr>\n",
       "      <th>RM</th>\n",
       "      <td>-0.302188</td>\n",
       "      <td>1.000000</td>\n",
       "      <td>-0.355501</td>\n",
       "      <td>-0.613808</td>\n",
       "      <td>0.695360</td>\n",
       "    </tr>\n",
       "    <tr>\n",
       "      <th>PTRATIO</th>\n",
       "      <td>0.188933</td>\n",
       "      <td>-0.355501</td>\n",
       "      <td>1.000000</td>\n",
       "      <td>0.374044</td>\n",
       "      <td>-0.507787</td>\n",
       "    </tr>\n",
       "    <tr>\n",
       "      <th>LSTAT</th>\n",
       "      <td>0.590879</td>\n",
       "      <td>-0.613808</td>\n",
       "      <td>0.374044</td>\n",
       "      <td>1.000000</td>\n",
       "      <td>-0.737663</td>\n",
       "    </tr>\n",
       "    <tr>\n",
       "      <th>PRICE</th>\n",
       "      <td>-0.427321</td>\n",
       "      <td>0.695360</td>\n",
       "      <td>-0.507787</td>\n",
       "      <td>-0.737663</td>\n",
       "      <td>1.000000</td>\n",
       "    </tr>\n",
       "  </tbody>\n",
       "</table>\n",
       "</div>"
      ],
      "text/plain": [
       "              NOX        RM   PTRATIO     LSTAT     PRICE\n",
       "NOX      1.000000 -0.302188  0.188933  0.590879 -0.427321\n",
       "RM      -0.302188  1.000000 -0.355501 -0.613808  0.695360\n",
       "PTRATIO  0.188933 -0.355501  1.000000  0.374044 -0.507787\n",
       "LSTAT    0.590879 -0.613808  0.374044  1.000000 -0.737663\n",
       "PRICE   -0.427321  0.695360 -0.507787 -0.737663  1.000000"
      ]
     },
     "execution_count": 197,
     "metadata": {},
     "output_type": "execute_result"
    }
   ],
   "source": [
    "boston_df[['NOX', 'RM', 'PTRATIO', 'LSTAT', 'PRICE']].corr()"
   ]
  },
  {
   "cell_type": "markdown",
   "id": "d6e8fd50-a251-4a97-afe5-b228bfe17129",
   "metadata": {},
   "source": [
    "# 77"
   ]
  },
  {
   "cell_type": "code",
   "execution_count": 198,
   "id": "e69475a8-b9da-4003-9167-c225098c4c6d",
   "metadata": {},
   "outputs": [
    {
     "data": {
      "text/plain": [
       "Month\n",
       "1     427\n",
       "2     539\n",
       "3     894\n",
       "4     934\n",
       "5     547\n",
       "6     416\n",
       "7     846\n",
       "8     971\n",
       "9     424\n",
       "10    842\n",
       "11    576\n",
       "12    576\n",
       "dtype: int64"
      ]
     },
     "execution_count": 198,
     "metadata": {},
     "output_type": "execute_result"
    }
   ],
   "source": [
    "sales_data = np.random.randint(400, 1000, 12)\n",
    "index = pd.RangeIndex(1, 13, name = \"Month\")\n",
    "ser = pd.Series(data = sales_data, index=index)\n",
    "ser"
   ]
  },
  {
   "cell_type": "code",
   "execution_count": 199,
   "id": "e62858ef-e343-4298-aa63-13cae2747305",
   "metadata": {},
   "outputs": [
    {
     "data": {
      "text/plain": [
       "苹果    6\n",
       "香蕉    6\n",
       "苹果    7\n",
       "苹果    6\n",
       "桃子    8\n",
       "香蕉    6\n",
       "dtype: int64"
      ]
     },
     "execution_count": 199,
     "metadata": {},
     "output_type": "execute_result"
    }
   ],
   "source": [
    "sales_data = [6, 6, 7, 6, 8, 6]\n",
    "index = pd.CategoricalIndex(\n",
    "    data=['苹果', '香蕉', '苹果', '苹果', '桃子', '香蕉'],\n",
    "    categories=['苹果', '香蕉', '桃子'],\n",
    "    ordered=True\n",
    ")\n",
    "ser = pd.Series(data=sales_data, index=index)\n",
    "ser"
   ]
  },
  {
   "cell_type": "code",
   "execution_count": 200,
   "id": "a332f3dd-959a-4d9e-aa2d-0ad494460f01",
   "metadata": {},
   "outputs": [
    {
     "name": "stderr",
     "output_type": "stream",
     "text": [
      "/tmp/ipykernel_124249/695824867.py:1: FutureWarning: The default of observed=False is deprecated and will be changed to True in a future version of pandas. Pass observed=False to retain current behavior or observed=True to adopt the future default and silence this warning.\n",
      "  ser.groupby(level=0).sum()\n"
     ]
    },
    {
     "data": {
      "text/plain": [
       "苹果    19\n",
       "香蕉    12\n",
       "桃子     8\n",
       "dtype: int64"
      ]
     },
     "execution_count": 200,
     "metadata": {},
     "output_type": "execute_result"
    }
   ],
   "source": [
    "ser.groupby(level=0).sum()"
   ]
  },
  {
   "cell_type": "code",
   "execution_count": 203,
   "id": "58dc00e9-2343-42d4-a0aa-b3006678c97b",
   "metadata": {},
   "outputs": [
    {
     "data": {
      "text/plain": [
       "CategoricalIndex(['苹果', '香蕉', '苹果', '苹果', '桃子', '香蕉'], categories=['苹果', '香蕉', '桃子'], ordered=True, dtype='category')"
      ]
     },
     "execution_count": 203,
     "metadata": {},
     "output_type": "execute_result"
    }
   ],
   "source": [
    "ser.index.recorder_catagories"
   ]
  },
  {
   "cell_type": "code",
   "execution_count": 204,
   "id": "0b47189c-a514-4714-99c9-6a988cf42219",
   "metadata": {},
   "outputs": [
    {
     "data": {
      "text/plain": [
       "MultiIndex([(1,  'red'),\n",
       "            (1, 'blue'),\n",
       "            (2,  'red'),\n",
       "            (2, 'blue')],\n",
       "           names=['no', 'color'])"
      ]
     },
     "execution_count": 204,
     "metadata": {},
     "output_type": "execute_result"
    }
   ],
   "source": [
    "tuples = [(1, 'red'), (1, 'blue'), (2, 'red'), (2, 'blue')]\n",
    "index = pd.MultiIndex.from_tuples(tuples, names=['no', 'color'])\n",
    "index"
   ]
  },
  {
   "cell_type": "code",
   "execution_count": 205,
   "id": "ad8c1db8-36be-499b-ab97-2f5bfc8f7c5e",
   "metadata": {},
   "outputs": [
    {
     "data": {
      "text/plain": [
       "MultiIndex([(1,  'red'),\n",
       "            (1, 'blue'),\n",
       "            (2,  'red'),\n",
       "            (2, 'blue')],\n",
       "           names=['no', 'color'])"
      ]
     },
     "execution_count": 205,
     "metadata": {},
     "output_type": "execute_result"
    }
   ],
   "source": [
    "arrays = [[1, 1, 2, 2], ['red', 'blue', 'red', 'blue']]\n",
    "index = pd.MultiIndex.from_arrays(arrays, names=['no', 'color'])\n",
    "index"
   ]
  },
  {
   "cell_type": "code",
   "execution_count": 206,
   "id": "fba47e60-36d1-4840-b4b9-9b3d5347eab1",
   "metadata": {},
   "outputs": [
    {
     "data": {
      "text/plain": [
       "no  color\n",
       "1   red      65\n",
       "    blue     83\n",
       "2   red      12\n",
       "    blue     38\n",
       "dtype: int64"
      ]
     },
     "execution_count": 206,
     "metadata": {},
     "output_type": "execute_result"
    }
   ],
   "source": [
    "sales_data = np.random.randint(1, 100, 4)\n",
    "ser = pd.Series(data=sales_data, index=index)\n",
    "ser"
   ]
  },
  {
   "cell_type": "code",
   "execution_count": 208,
   "id": "44e1dfc9-be8c-4618-ac15-7f0d0073208c",
   "metadata": {},
   "outputs": [
    {
     "data": {
      "text/plain": [
       "color\n",
       "blue    121\n",
       "red      77\n",
       "dtype: int64"
      ]
     },
     "execution_count": 208,
     "metadata": {},
     "output_type": "execute_result"
    }
   ],
   "source": [
    "ser.groupby(\"color\").sum()"
   ]
  },
  {
   "cell_type": "code",
   "execution_count": 209,
   "id": "bf37cf33-999d-4bbd-8464-6d904cb2c645",
   "metadata": {},
   "outputs": [
    {
     "data": {
      "text/plain": [
       "color\n",
       "blue    121\n",
       "red      77\n",
       "dtype: int64"
      ]
     },
     "execution_count": 209,
     "metadata": {},
     "output_type": "execute_result"
    }
   ],
   "source": [
    "ser.groupby(level=1).sum()"
   ]
  },
  {
   "cell_type": "code",
   "execution_count": 210,
   "id": "bbcc9157-08d8-49e4-a186-52d58fd3d987",
   "metadata": {},
   "outputs": [
    {
     "data": {
      "text/html": [
       "<div>\n",
       "<style scoped>\n",
       "    .dataframe tbody tr th:only-of-type {\n",
       "        vertical-align: middle;\n",
       "    }\n",
       "\n",
       "    .dataframe tbody tr th {\n",
       "        vertical-align: top;\n",
       "    }\n",
       "\n",
       "    .dataframe thead th {\n",
       "        text-align: right;\n",
       "    }\n",
       "</style>\n",
       "<table border=\"1\" class=\"dataframe\">\n",
       "  <thead>\n",
       "    <tr style=\"text-align: right;\">\n",
       "      <th></th>\n",
       "      <th></th>\n",
       "      <th>语文</th>\n",
       "      <th>数学</th>\n",
       "      <th>英语</th>\n",
       "    </tr>\n",
       "    <tr>\n",
       "      <th>学号</th>\n",
       "      <th>学期</th>\n",
       "      <th></th>\n",
       "      <th></th>\n",
       "      <th></th>\n",
       "    </tr>\n",
       "  </thead>\n",
       "  <tbody>\n",
       "    <tr>\n",
       "      <th rowspan=\"2\" valign=\"top\">1001</th>\n",
       "      <th>期中</th>\n",
       "      <td>77</td>\n",
       "      <td>64</td>\n",
       "      <td>61</td>\n",
       "    </tr>\n",
       "    <tr>\n",
       "      <th>期末</th>\n",
       "      <td>85</td>\n",
       "      <td>74</td>\n",
       "      <td>75</td>\n",
       "    </tr>\n",
       "    <tr>\n",
       "      <th rowspan=\"2\" valign=\"top\">1002</th>\n",
       "      <th>期中</th>\n",
       "      <td>86</td>\n",
       "      <td>96</td>\n",
       "      <td>87</td>\n",
       "    </tr>\n",
       "    <tr>\n",
       "      <th>期末</th>\n",
       "      <td>64</td>\n",
       "      <td>94</td>\n",
       "      <td>77</td>\n",
       "    </tr>\n",
       "    <tr>\n",
       "      <th rowspan=\"2\" valign=\"top\">1003</th>\n",
       "      <th>期中</th>\n",
       "      <td>100</td>\n",
       "      <td>67</td>\n",
       "      <td>91</td>\n",
       "    </tr>\n",
       "    <tr>\n",
       "      <th>期末</th>\n",
       "      <td>82</td>\n",
       "      <td>72</td>\n",
       "      <td>97</td>\n",
       "    </tr>\n",
       "    <tr>\n",
       "      <th rowspan=\"2\" valign=\"top\">1004</th>\n",
       "      <th>期中</th>\n",
       "      <td>77</td>\n",
       "      <td>89</td>\n",
       "      <td>86</td>\n",
       "    </tr>\n",
       "    <tr>\n",
       "      <th>期末</th>\n",
       "      <td>72</td>\n",
       "      <td>81</td>\n",
       "      <td>98</td>\n",
       "    </tr>\n",
       "    <tr>\n",
       "      <th rowspan=\"2\" valign=\"top\">1005</th>\n",
       "      <th>期中</th>\n",
       "      <td>86</td>\n",
       "      <td>60</td>\n",
       "      <td>94</td>\n",
       "    </tr>\n",
       "    <tr>\n",
       "      <th>期末</th>\n",
       "      <td>71</td>\n",
       "      <td>99</td>\n",
       "      <td>61</td>\n",
       "    </tr>\n",
       "  </tbody>\n",
       "</table>\n",
       "</div>"
      ],
      "text/plain": [
       "          语文  数学  英语\n",
       "学号   学期             \n",
       "1001 期中   77  64  61\n",
       "     期末   85  74  75\n",
       "1002 期中   86  96  87\n",
       "     期末   64  94  77\n",
       "1003 期中  100  67  91\n",
       "     期末   82  72  97\n",
       "1004 期中   77  89  86\n",
       "     期末   72  81  98\n",
       "1005 期中   86  60  94\n",
       "     期末   71  99  61"
      ]
     },
     "execution_count": 210,
     "metadata": {},
     "output_type": "execute_result"
    }
   ],
   "source": [
    "stu_ids = np.arange(1001, 1006)\n",
    "semisters = ['期中', '期末']\n",
    "index = pd.MultiIndex.from_product((stu_ids, semisters), names=['学号', '学期'])\n",
    "courses = ['语文', '数学', '英语']\n",
    "scores = np.random.randint(60, 101, (10, 3))\n",
    "df = pd.DataFrame(data=scores, columns=courses, index=index)\n",
    "df"
   ]
  },
  {
   "cell_type": "code",
   "execution_count": 211,
   "id": "589afa70-51b1-469d-8f41-20d0e770ef90",
   "metadata": {},
   "outputs": [
    {
     "data": {
      "text/html": [
       "<div>\n",
       "<style scoped>\n",
       "    .dataframe tbody tr th:only-of-type {\n",
       "        vertical-align: middle;\n",
       "    }\n",
       "\n",
       "    .dataframe tbody tr th {\n",
       "        vertical-align: top;\n",
       "    }\n",
       "\n",
       "    .dataframe thead th {\n",
       "        text-align: right;\n",
       "    }\n",
       "</style>\n",
       "<table border=\"1\" class=\"dataframe\">\n",
       "  <thead>\n",
       "    <tr style=\"text-align: right;\">\n",
       "      <th></th>\n",
       "      <th>语文</th>\n",
       "      <th>数学</th>\n",
       "      <th>英语</th>\n",
       "    </tr>\n",
       "    <tr>\n",
       "      <th>学号</th>\n",
       "      <th></th>\n",
       "      <th></th>\n",
       "      <th></th>\n",
       "    </tr>\n",
       "  </thead>\n",
       "  <tbody>\n",
       "    <tr>\n",
       "      <th>1001</th>\n",
       "      <td>83.00</td>\n",
       "      <td>71.50</td>\n",
       "      <td>71.50</td>\n",
       "    </tr>\n",
       "    <tr>\n",
       "      <th>1002</th>\n",
       "      <td>69.50</td>\n",
       "      <td>94.50</td>\n",
       "      <td>79.50</td>\n",
       "    </tr>\n",
       "    <tr>\n",
       "      <th>1003</th>\n",
       "      <td>86.50</td>\n",
       "      <td>70.75</td>\n",
       "      <td>95.50</td>\n",
       "    </tr>\n",
       "    <tr>\n",
       "      <th>1004</th>\n",
       "      <td>73.25</td>\n",
       "      <td>83.00</td>\n",
       "      <td>95.00</td>\n",
       "    </tr>\n",
       "    <tr>\n",
       "      <th>1005</th>\n",
       "      <td>74.75</td>\n",
       "      <td>89.25</td>\n",
       "      <td>69.25</td>\n",
       "    </tr>\n",
       "  </tbody>\n",
       "</table>\n",
       "</div>"
      ],
      "text/plain": [
       "         语文     数学     英语\n",
       "学号                       \n",
       "1001  83.00  71.50  71.50\n",
       "1002  69.50  94.50  79.50\n",
       "1003  86.50  70.75  95.50\n",
       "1004  73.25  83.00  95.00\n",
       "1005  74.75  89.25  69.25"
      ]
     },
     "execution_count": 211,
     "metadata": {},
     "output_type": "execute_result"
    }
   ],
   "source": [
    "df.groupby(level = 0).agg(lambda x: x.values[0] * 0.25 + x.values[1] * 0.75)"
   ]
  },
  {
   "cell_type": "code",
   "execution_count": 212,
   "id": "d4749069-a37d-4716-83c8-3eb2aa41ae85",
   "metadata": {},
   "outputs": [
    {
     "data": {
      "text/plain": [
       "IntervalIndex([(0, 1], (1, 2], (2, 3], (3, 4], (4, 5], (5, 6], (6, 7], (7, 8],\n",
       "               (8, 9], (9, 10]],\n",
       "              dtype='interval[int64, right]')"
      ]
     },
     "execution_count": 212,
     "metadata": {},
     "output_type": "execute_result"
    }
   ],
   "source": [
    "index = pd.interval_range(start=0, end=10)\n",
    "index"
   ]
  },
  {
   "cell_type": "code",
   "execution_count": 213,
   "id": "153410da-6130-493e-af56-c25fdd59e4ab",
   "metadata": {},
   "outputs": [
    {
     "data": {
      "text/plain": [
       "array([False,  True, False, False, False, False, False, False, False,\n",
       "       False])"
      ]
     },
     "execution_count": 213,
     "metadata": {},
     "output_type": "execute_result"
    }
   ],
   "source": [
    "index.contains(1.5)"
   ]
  },
  {
   "cell_type": "code",
   "execution_count": 214,
   "id": "f65765f3-e62d-45be-adf1-db4eff04fc20",
   "metadata": {},
   "outputs": [
    {
     "data": {
      "text/plain": [
       "array([False,  True,  True,  True, False, False, False, False, False,\n",
       "       False])"
      ]
     },
     "execution_count": 214,
     "metadata": {},
     "output_type": "execute_result"
    }
   ],
   "source": [
    "index.overlaps(pd.Interval(1.5,3.5))"
   ]
  },
  {
   "cell_type": "code",
   "execution_count": 215,
   "id": "bf5a2f0b-404d-4c08-87f6-7f148cf1fe7e",
   "metadata": {},
   "outputs": [
    {
     "data": {
      "text/plain": [
       "IntervalIndex([[0, 1), [1, 2), [2, 3), [3, 4), [4, 5)], dtype='interval[int64, left]')"
      ]
     },
     "execution_count": 215,
     "metadata": {},
     "output_type": "execute_result"
    }
   ],
   "source": [
    "index = pd.interval_range(start=0, end=5, closed='left')\n",
    "index"
   ]
  },
  {
   "cell_type": "code",
   "execution_count": 216,
   "id": "d3c4959f-a6cb-4f67-b152-bcd050e727b3",
   "metadata": {},
   "outputs": [
    {
     "data": {
      "text/plain": [
       "IntervalIndex([[2024-01-01 00:00:00, 2024-01-02 00:00:00],\n",
       "               [2024-01-02 00:00:00, 2024-01-03 00:00:00],\n",
       "               [2024-01-03 00:00:00, 2024-01-04 00:00:00],\n",
       "               [2024-01-04 00:00:00, 2024-01-05 00:00:00],\n",
       "               [2024-01-05 00:00:00, 2024-01-06 00:00:00],\n",
       "               [2024-01-06 00:00:00, 2024-01-07 00:00:00],\n",
       "               [2024-01-07 00:00:00, 2024-01-08 00:00:00],\n",
       "               [2024-01-08 00:00:00, 2024-01-09 00:00:00],\n",
       "               [2024-01-09 00:00:00, 2024-01-10 00:00:00]],\n",
       "              dtype='interval[datetime64[ns], both]')"
      ]
     },
     "execution_count": 216,
     "metadata": {},
     "output_type": "execute_result"
    }
   ],
   "source": [
    "index = pd.interval_range(start = pd.Timestamp(\"2024-01-01\"), end=pd.Timestamp(\"2024-01-10\"), closed=\"both\")\n",
    "index"
   ]
  },
  {
   "cell_type": "code",
   "execution_count": 217,
   "id": "2be88c9a-76b5-4d68-bf4c-193ca4984468",
   "metadata": {},
   "outputs": [
    {
     "data": {
      "text/plain": [
       "DatetimeIndex(['2024-01-01 00:00:00', '2024-01-22 13:20:00',\n",
       "               '2024-02-13 02:40:00', '2024-03-05 16:00:00',\n",
       "               '2024-03-27 05:20:00', '2024-04-17 18:40:00',\n",
       "               '2024-05-09 08:00:00', '2024-05-30 21:20:00',\n",
       "               '2024-06-21 10:40:00', '2024-07-13 00:00:00'],\n",
       "              dtype='datetime64[ns]', freq=None)"
      ]
     },
     "execution_count": 217,
     "metadata": {},
     "output_type": "execute_result"
    }
   ],
   "source": [
    "pd.date_range(\"2024-1-1\", \"2024-7-13\",periods=10)"
   ]
  },
  {
   "cell_type": "code",
   "execution_count": 218,
   "id": "4f7572e6-01bc-48cd-820c-793e0216bf0b",
   "metadata": {},
   "outputs": [
    {
     "data": {
      "text/plain": [
       "DatetimeIndex(['2024-01-07', '2024-01-14', '2024-01-21', '2024-01-28',\n",
       "               '2024-02-04', '2024-02-11', '2024-02-18', '2024-02-25',\n",
       "               '2024-03-03', '2024-03-10', '2024-03-17', '2024-03-24',\n",
       "               '2024-03-31', '2024-04-07', '2024-04-14', '2024-04-21',\n",
       "               '2024-04-28', '2024-05-05', '2024-05-12', '2024-05-19',\n",
       "               '2024-05-26', '2024-06-02', '2024-06-09', '2024-06-16',\n",
       "               '2024-06-23', '2024-06-30', '2024-07-07'],\n",
       "              dtype='datetime64[ns]', freq='W-SUN')"
      ]
     },
     "execution_count": 218,
     "metadata": {},
     "output_type": "execute_result"
    }
   ],
   "source": [
    "pd.date_range(\"2024-1-1\", \"2024-7-13\",freq=\"W\")"
   ]
  },
  {
   "cell_type": "code",
   "execution_count": 226,
   "id": "ce9e3ccb-6063-430c-8f90-699bf0a6c797",
   "metadata": {},
   "outputs": [
    {
     "data": {
      "text/plain": [
       "DatetimeIndex(['2021-01-01', '2021-01-08', '2021-01-15', '2021-01-22',\n",
       "               '2021-01-29', '2021-02-05', '2021-02-12', '2021-02-19',\n",
       "               '2021-02-26', '2021-03-05', '2021-03-12', '2021-03-19',\n",
       "               '2021-03-26', '2021-04-02', '2021-04-09', '2021-04-16',\n",
       "               '2021-04-23', '2021-04-30', '2021-05-07', '2021-05-14',\n",
       "               '2021-05-21', '2021-05-28', '2021-06-04', '2021-06-11',\n",
       "               '2021-06-18', '2021-06-25'],\n",
       "              dtype='datetime64[ns]', freq=None)"
      ]
     },
     "execution_count": 226,
     "metadata": {},
     "output_type": "execute_result"
    }
   ],
   "source": [
    "index = pd.date_range('2021-1-1', '2021-6-30', freq='W')\n",
    "index - pd.DateOffset(days=2)"
   ]
  },
  {
   "cell_type": "code",
   "execution_count": 228,
   "id": "fc8ee5c3-8579-4f3e-a993-6404d6481808",
   "metadata": {},
   "outputs": [
    {
     "data": {
      "text/plain": [
       "DatetimeIndex(['2021-01-03 02:10:00', '2021-01-10 02:10:00',\n",
       "               '2021-01-17 02:10:00', '2021-01-24 02:10:00',\n",
       "               '2021-01-31 02:10:00', '2021-02-07 02:10:00',\n",
       "               '2021-02-14 02:10:00', '2021-02-21 02:10:00',\n",
       "               '2021-02-28 02:10:00', '2021-03-07 02:10:00',\n",
       "               '2021-03-14 02:10:00', '2021-03-21 02:10:00',\n",
       "               '2021-03-28 02:10:00', '2021-04-04 02:10:00',\n",
       "               '2021-04-11 02:10:00', '2021-04-18 02:10:00',\n",
       "               '2021-04-25 02:10:00', '2021-05-02 02:10:00',\n",
       "               '2021-05-09 02:10:00', '2021-05-16 02:10:00',\n",
       "               '2021-05-23 02:10:00', '2021-05-30 02:10:00',\n",
       "               '2021-06-06 02:10:00', '2021-06-13 02:10:00',\n",
       "               '2021-06-20 02:10:00', '2021-06-27 02:10:00'],\n",
       "              dtype='datetime64[ns]', freq=None)"
      ]
     },
     "execution_count": 228,
     "metadata": {},
     "output_type": "execute_result"
    }
   ],
   "source": [
    "index + pd.DateOffset(hours = 2, minutes = 10)"
   ]
  },
  {
   "cell_type": "code",
   "execution_count": 230,
   "id": "c8543b40-e5da-4df8-b39d-f4ac8b881963",
   "metadata": {},
   "outputs": [
    {
     "data": {
      "text/html": [
       "<div>\n",
       "<style scoped>\n",
       "    .dataframe tbody tr th:only-of-type {\n",
       "        vertical-align: middle;\n",
       "    }\n",
       "\n",
       "    .dataframe tbody tr th {\n",
       "        vertical-align: top;\n",
       "    }\n",
       "\n",
       "    .dataframe thead th {\n",
       "        text-align: right;\n",
       "    }\n",
       "</style>\n",
       "<table border=\"1\" class=\"dataframe\">\n",
       "  <thead>\n",
       "    <tr style=\"text-align: right;\">\n",
       "      <th></th>\n",
       "      <th>Open</th>\n",
       "      <th>High</th>\n",
       "      <th>Low</th>\n",
       "      <th>Close</th>\n",
       "      <th>Volume</th>\n",
       "    </tr>\n",
       "    <tr>\n",
       "      <th>Date</th>\n",
       "      <th></th>\n",
       "      <th></th>\n",
       "      <th></th>\n",
       "      <th></th>\n",
       "      <th></th>\n",
       "    </tr>\n",
       "  </thead>\n",
       "  <tbody>\n",
       "    <tr>\n",
       "      <th>2022-01-03</th>\n",
       "      <td>148.91</td>\n",
       "      <td>149.9606</td>\n",
       "      <td>144.950</td>\n",
       "      <td>149.10</td>\n",
       "      <td>2330166</td>\n",
       "    </tr>\n",
       "    <tr>\n",
       "      <th>2022-01-08</th>\n",
       "      <td>152.98</td>\n",
       "      <td>157.0000</td>\n",
       "      <td>152.280</td>\n",
       "      <td>153.33</td>\n",
       "      <td>2751971</td>\n",
       "    </tr>\n",
       "    <tr>\n",
       "      <th>2022-01-13</th>\n",
       "      <td>155.62</td>\n",
       "      <td>157.6400</td>\n",
       "      <td>152.310</td>\n",
       "      <td>152.51</td>\n",
       "      <td>3271577</td>\n",
       "    </tr>\n",
       "    <tr>\n",
       "      <th>2022-01-18</th>\n",
       "      <td>150.94</td>\n",
       "      <td>157.4300</td>\n",
       "      <td>149.610</td>\n",
       "      <td>152.94</td>\n",
       "      <td>3187153</td>\n",
       "    </tr>\n",
       "    <tr>\n",
       "      <th>2022-01-23</th>\n",
       "      <td>162.53</td>\n",
       "      <td>164.9600</td>\n",
       "      <td>156.260</td>\n",
       "      <td>156.84</td>\n",
       "      <td>5463935</td>\n",
       "    </tr>\n",
       "    <tr>\n",
       "      <th>...</th>\n",
       "      <td>...</td>\n",
       "      <td>...</td>\n",
       "      <td>...</td>\n",
       "      <td>...</td>\n",
       "      <td>...</td>\n",
       "    </tr>\n",
       "    <tr>\n",
       "      <th>2022-12-09</th>\n",
       "      <td>123.26</td>\n",
       "      <td>124.1100</td>\n",
       "      <td>119.585</td>\n",
       "      <td>119.99</td>\n",
       "      <td>3470483</td>\n",
       "    </tr>\n",
       "    <tr>\n",
       "      <th>2022-12-14</th>\n",
       "      <td>119.46</td>\n",
       "      <td>120.3500</td>\n",
       "      <td>117.530</td>\n",
       "      <td>119.22</td>\n",
       "      <td>2527860</td>\n",
       "    </tr>\n",
       "    <tr>\n",
       "      <th>2022-12-19</th>\n",
       "      <td>114.14</td>\n",
       "      <td>114.6000</td>\n",
       "      <td>111.190</td>\n",
       "      <td>112.08</td>\n",
       "      <td>2059607</td>\n",
       "    </tr>\n",
       "    <tr>\n",
       "      <th>2022-12-24</th>\n",
       "      <td>113.88</td>\n",
       "      <td>114.2500</td>\n",
       "      <td>111.520</td>\n",
       "      <td>111.61</td>\n",
       "      <td>1221825</td>\n",
       "    </tr>\n",
       "    <tr>\n",
       "      <th>2022-12-29</th>\n",
       "      <td>112.81</td>\n",
       "      <td>116.0600</td>\n",
       "      <td>111.300</td>\n",
       "      <td>115.10</td>\n",
       "      <td>1454617</td>\n",
       "    </tr>\n",
       "  </tbody>\n",
       "</table>\n",
       "<p>73 rows × 5 columns</p>\n",
       "</div>"
      ],
      "text/plain": [
       "              Open      High      Low   Close   Volume\n",
       "Date                                                  \n",
       "2022-01-03  148.91  149.9606  144.950  149.10  2330166\n",
       "2022-01-08  152.98  157.0000  152.280  153.33  2751971\n",
       "2022-01-13  155.62  157.6400  152.310  152.51  3271577\n",
       "2022-01-18  150.94  157.4300  149.610  152.94  3187153\n",
       "2022-01-23  162.53  164.9600  156.260  156.84  5463935\n",
       "...            ...       ...      ...     ...      ...\n",
       "2022-12-09  123.26  124.1100  119.585  119.99  3470483\n",
       "2022-12-14  119.46  120.3500  117.530  119.22  2527860\n",
       "2022-12-19  114.14  114.6000  111.190  112.08  2059607\n",
       "2022-12-24  113.88  114.2500  111.520  111.61  1221825\n",
       "2022-12-29  112.81  116.0600  111.300  115.10  1454617\n",
       "\n",
       "[73 rows x 5 columns]"
      ]
     },
     "execution_count": 230,
     "metadata": {},
     "output_type": "execute_result"
    }
   ],
   "source": [
    "baidu_df = pd.read_excel('./Test_Data/2022年股票数据.xlsx', sheet_name='BIDU', index_col='Date')\n",
    "baidu_df.sort_index(inplace=True)\n",
    "baidu_df.asfreq('5D', method=\"ffill\")"
   ]
  },
  {
   "cell_type": "code",
   "execution_count": 234,
   "id": "6c15d920-d6c3-4880-8edb-bc97a81b2d21",
   "metadata": {},
   "outputs": [
    {
     "data": {
      "text/html": [
       "<div>\n",
       "<style scoped>\n",
       "    .dataframe tbody tr th:only-of-type {\n",
       "        vertical-align: middle;\n",
       "    }\n",
       "\n",
       "    .dataframe tbody tr th {\n",
       "        vertical-align: top;\n",
       "    }\n",
       "\n",
       "    .dataframe thead th {\n",
       "        text-align: right;\n",
       "    }\n",
       "</style>\n",
       "<table border=\"1\" class=\"dataframe\">\n",
       "  <thead>\n",
       "    <tr style=\"text-align: right;\">\n",
       "      <th></th>\n",
       "      <th>Open</th>\n",
       "      <th>High</th>\n",
       "      <th>Low</th>\n",
       "      <th>Close</th>\n",
       "      <th>Volume</th>\n",
       "    </tr>\n",
       "    <tr>\n",
       "      <th>Date</th>\n",
       "      <th></th>\n",
       "      <th></th>\n",
       "      <th></th>\n",
       "      <th></th>\n",
       "      <th></th>\n",
       "    </tr>\n",
       "  </thead>\n",
       "  <tbody>\n",
       "    <tr>\n",
       "      <th>2022-01-31</th>\n",
       "      <td>151.834250</td>\n",
       "      <td>155.501470</td>\n",
       "      <td>148.755630</td>\n",
       "      <td>152.183000</td>\n",
       "      <td>3.498542e+06</td>\n",
       "    </tr>\n",
       "    <tr>\n",
       "      <th>2022-02-28</th>\n",
       "      <td>157.680263</td>\n",
       "      <td>161.643947</td>\n",
       "      <td>155.390863</td>\n",
       "      <td>158.938947</td>\n",
       "      <td>2.688915e+06</td>\n",
       "    </tr>\n",
       "    <tr>\n",
       "      <th>2022-03-31</th>\n",
       "      <td>143.395217</td>\n",
       "      <td>148.291517</td>\n",
       "      <td>138.510143</td>\n",
       "      <td>142.973043</td>\n",
       "      <td>6.411250e+06</td>\n",
       "    </tr>\n",
       "    <tr>\n",
       "      <th>2022-04-30</th>\n",
       "      <td>130.035250</td>\n",
       "      <td>132.492250</td>\n",
       "      <td>126.301830</td>\n",
       "      <td>128.803000</td>\n",
       "      <td>3.579267e+06</td>\n",
       "    </tr>\n",
       "    <tr>\n",
       "      <th>2022-05-31</th>\n",
       "      <td>121.388571</td>\n",
       "      <td>124.888419</td>\n",
       "      <td>118.335552</td>\n",
       "      <td>121.821429</td>\n",
       "      <td>3.322147e+06</td>\n",
       "    </tr>\n",
       "    <tr>\n",
       "      <th>2022-06-30</th>\n",
       "      <td>145.988095</td>\n",
       "      <td>148.762329</td>\n",
       "      <td>143.066910</td>\n",
       "      <td>145.682857</td>\n",
       "      <td>3.442716e+06</td>\n",
       "    </tr>\n",
       "    <tr>\n",
       "      <th>2022-07-31</th>\n",
       "      <td>143.916500</td>\n",
       "      <td>146.410655</td>\n",
       "      <td>140.965030</td>\n",
       "      <td>144.106000</td>\n",
       "      <td>2.078316e+06</td>\n",
       "    </tr>\n",
       "    <tr>\n",
       "      <th>2022-08-31</th>\n",
       "      <td>137.376087</td>\n",
       "      <td>140.525000</td>\n",
       "      <td>134.869565</td>\n",
       "      <td>137.872174</td>\n",
       "      <td>2.556926e+06</td>\n",
       "    </tr>\n",
       "    <tr>\n",
       "      <th>2022-09-30</th>\n",
       "      <td>127.932857</td>\n",
       "      <td>129.994524</td>\n",
       "      <td>126.203410</td>\n",
       "      <td>127.929048</td>\n",
       "      <td>2.257403e+06</td>\n",
       "    </tr>\n",
       "    <tr>\n",
       "      <th>2022-10-31</th>\n",
       "      <td>101.171529</td>\n",
       "      <td>103.180000</td>\n",
       "      <td>98.575729</td>\n",
       "      <td>100.523810</td>\n",
       "      <td>3.975162e+06</td>\n",
       "    </tr>\n",
       "    <tr>\n",
       "      <th>2022-11-30</th>\n",
       "      <td>90.401905</td>\n",
       "      <td>92.960662</td>\n",
       "      <td>88.816119</td>\n",
       "      <td>90.919048</td>\n",
       "      <td>3.601258e+06</td>\n",
       "    </tr>\n",
       "    <tr>\n",
       "      <th>2022-12-31</th>\n",
       "      <td>114.969524</td>\n",
       "      <td>117.136900</td>\n",
       "      <td>112.689043</td>\n",
       "      <td>114.680000</td>\n",
       "      <td>3.406129e+06</td>\n",
       "    </tr>\n",
       "  </tbody>\n",
       "</table>\n",
       "</div>"
      ],
      "text/plain": [
       "                  Open        High         Low       Close        Volume\n",
       "Date                                                                    \n",
       "2022-01-31  151.834250  155.501470  148.755630  152.183000  3.498542e+06\n",
       "2022-02-28  157.680263  161.643947  155.390863  158.938947  2.688915e+06\n",
       "2022-03-31  143.395217  148.291517  138.510143  142.973043  6.411250e+06\n",
       "2022-04-30  130.035250  132.492250  126.301830  128.803000  3.579267e+06\n",
       "2022-05-31  121.388571  124.888419  118.335552  121.821429  3.322147e+06\n",
       "2022-06-30  145.988095  148.762329  143.066910  145.682857  3.442716e+06\n",
       "2022-07-31  143.916500  146.410655  140.965030  144.106000  2.078316e+06\n",
       "2022-08-31  137.376087  140.525000  134.869565  137.872174  2.556926e+06\n",
       "2022-09-30  127.932857  129.994524  126.203410  127.929048  2.257403e+06\n",
       "2022-10-31  101.171529  103.180000   98.575729  100.523810  3.975162e+06\n",
       "2022-11-30   90.401905   92.960662   88.816119   90.919048  3.601258e+06\n",
       "2022-12-31  114.969524  117.136900  112.689043  114.680000  3.406129e+06"
      ]
     },
     "execution_count": 234,
     "metadata": {},
     "output_type": "execute_result"
    }
   ],
   "source": [
    "baidu_df.resample(\"1ME\").mean()"
   ]
  },
  {
   "cell_type": "code",
   "execution_count": 235,
   "id": "5b9f8da9-415e-4bce-882a-6616f86a6472",
   "metadata": {},
   "outputs": [
    {
     "data": {
      "text/html": [
       "<div>\n",
       "<style scoped>\n",
       "    .dataframe tbody tr th:only-of-type {\n",
       "        vertical-align: middle;\n",
       "    }\n",
       "\n",
       "    .dataframe tbody tr th {\n",
       "        vertical-align: top;\n",
       "    }\n",
       "\n",
       "    .dataframe thead tr th {\n",
       "        text-align: left;\n",
       "    }\n",
       "\n",
       "    .dataframe thead tr:last-of-type th {\n",
       "        text-align: right;\n",
       "    }\n",
       "</style>\n",
       "<table border=\"1\" class=\"dataframe\">\n",
       "  <thead>\n",
       "    <tr>\n",
       "      <th></th>\n",
       "      <th colspan=\"2\" halign=\"left\">Open</th>\n",
       "      <th colspan=\"2\" halign=\"left\">High</th>\n",
       "      <th colspan=\"2\" halign=\"left\">Low</th>\n",
       "      <th colspan=\"2\" halign=\"left\">Close</th>\n",
       "      <th colspan=\"2\" halign=\"left\">Volume</th>\n",
       "    </tr>\n",
       "    <tr>\n",
       "      <th></th>\n",
       "      <th>mean</th>\n",
       "      <th>std</th>\n",
       "      <th>mean</th>\n",
       "      <th>std</th>\n",
       "      <th>mean</th>\n",
       "      <th>std</th>\n",
       "      <th>mean</th>\n",
       "      <th>std</th>\n",
       "      <th>mean</th>\n",
       "      <th>std</th>\n",
       "    </tr>\n",
       "    <tr>\n",
       "      <th>Date</th>\n",
       "      <th></th>\n",
       "      <th></th>\n",
       "      <th></th>\n",
       "      <th></th>\n",
       "      <th></th>\n",
       "      <th></th>\n",
       "      <th></th>\n",
       "      <th></th>\n",
       "      <th></th>\n",
       "      <th></th>\n",
       "    </tr>\n",
       "  </thead>\n",
       "  <tbody>\n",
       "    <tr>\n",
       "      <th>2022-01-31</th>\n",
       "      <td>151.834250</td>\n",
       "      <td>5.519929</td>\n",
       "      <td>155.501470</td>\n",
       "      <td>5.074199</td>\n",
       "      <td>148.755630</td>\n",
       "      <td>5.516153</td>\n",
       "      <td>152.183000</td>\n",
       "      <td>5.143787</td>\n",
       "      <td>3.498542e+06</td>\n",
       "      <td>1.241224e+06</td>\n",
       "    </tr>\n",
       "    <tr>\n",
       "      <th>2022-02-28</th>\n",
       "      <td>157.680263</td>\n",
       "      <td>6.614596</td>\n",
       "      <td>161.643947</td>\n",
       "      <td>5.765534</td>\n",
       "      <td>155.390863</td>\n",
       "      <td>6.839334</td>\n",
       "      <td>158.938947</td>\n",
       "      <td>5.852151</td>\n",
       "      <td>2.688915e+06</td>\n",
       "      <td>5.863052e+05</td>\n",
       "    </tr>\n",
       "    <tr>\n",
       "      <th>2022-03-31</th>\n",
       "      <td>143.395217</td>\n",
       "      <td>14.600400</td>\n",
       "      <td>148.291517</td>\n",
       "      <td>13.453096</td>\n",
       "      <td>138.510143</td>\n",
       "      <td>14.818202</td>\n",
       "      <td>142.973043</td>\n",
       "      <td>14.399232</td>\n",
       "      <td>6.411250e+06</td>\n",
       "      <td>4.026716e+06</td>\n",
       "    </tr>\n",
       "    <tr>\n",
       "      <th>2022-04-30</th>\n",
       "      <td>130.035250</td>\n",
       "      <td>11.431935</td>\n",
       "      <td>132.492250</td>\n",
       "      <td>11.029335</td>\n",
       "      <td>126.301830</td>\n",
       "      <td>11.030035</td>\n",
       "      <td>128.803000</td>\n",
       "      <td>11.092042</td>\n",
       "      <td>3.579267e+06</td>\n",
       "      <td>1.120312e+06</td>\n",
       "    </tr>\n",
       "    <tr>\n",
       "      <th>2022-05-31</th>\n",
       "      <td>121.388571</td>\n",
       "      <td>8.992984</td>\n",
       "      <td>124.888419</td>\n",
       "      <td>9.408567</td>\n",
       "      <td>118.335552</td>\n",
       "      <td>9.295979</td>\n",
       "      <td>121.821429</td>\n",
       "      <td>10.089925</td>\n",
       "      <td>3.322147e+06</td>\n",
       "      <td>1.263279e+06</td>\n",
       "    </tr>\n",
       "    <tr>\n",
       "      <th>2022-06-30</th>\n",
       "      <td>145.988095</td>\n",
       "      <td>5.165335</td>\n",
       "      <td>148.762329</td>\n",
       "      <td>5.000793</td>\n",
       "      <td>143.066910</td>\n",
       "      <td>5.518726</td>\n",
       "      <td>145.682857</td>\n",
       "      <td>5.777243</td>\n",
       "      <td>3.442716e+06</td>\n",
       "      <td>9.133340e+05</td>\n",
       "    </tr>\n",
       "    <tr>\n",
       "      <th>2022-07-31</th>\n",
       "      <td>143.916500</td>\n",
       "      <td>4.820930</td>\n",
       "      <td>146.410655</td>\n",
       "      <td>5.184829</td>\n",
       "      <td>140.965030</td>\n",
       "      <td>5.158666</td>\n",
       "      <td>144.106000</td>\n",
       "      <td>5.404786</td>\n",
       "      <td>2.078316e+06</td>\n",
       "      <td>5.093293e+05</td>\n",
       "    </tr>\n",
       "    <tr>\n",
       "      <th>2022-08-31</th>\n",
       "      <td>137.376087</td>\n",
       "      <td>6.496318</td>\n",
       "      <td>140.525000</td>\n",
       "      <td>6.624626</td>\n",
       "      <td>134.869565</td>\n",
       "      <td>5.697371</td>\n",
       "      <td>137.872174</td>\n",
       "      <td>5.630482</td>\n",
       "      <td>2.556926e+06</td>\n",
       "      <td>1.791440e+06</td>\n",
       "    </tr>\n",
       "    <tr>\n",
       "      <th>2022-09-30</th>\n",
       "      <td>127.932857</td>\n",
       "      <td>9.136596</td>\n",
       "      <td>129.994524</td>\n",
       "      <td>8.683950</td>\n",
       "      <td>126.203410</td>\n",
       "      <td>8.759704</td>\n",
       "      <td>127.929048</td>\n",
       "      <td>8.776899</td>\n",
       "      <td>2.257403e+06</td>\n",
       "      <td>5.761210e+05</td>\n",
       "    </tr>\n",
       "    <tr>\n",
       "      <th>2022-10-31</th>\n",
       "      <td>101.171529</td>\n",
       "      <td>16.425589</td>\n",
       "      <td>103.180000</td>\n",
       "      <td>16.398593</td>\n",
       "      <td>98.575729</td>\n",
       "      <td>16.524724</td>\n",
       "      <td>100.523810</td>\n",
       "      <td>16.367960</td>\n",
       "      <td>3.975162e+06</td>\n",
       "      <td>3.187387e+06</td>\n",
       "    </tr>\n",
       "    <tr>\n",
       "      <th>2022-11-30</th>\n",
       "      <td>90.401905</td>\n",
       "      <td>7.431792</td>\n",
       "      <td>92.960662</td>\n",
       "      <td>8.235047</td>\n",
       "      <td>88.816119</td>\n",
       "      <td>7.854972</td>\n",
       "      <td>90.919048</td>\n",
       "      <td>8.404363</td>\n",
       "      <td>3.601258e+06</td>\n",
       "      <td>1.239644e+06</td>\n",
       "    </tr>\n",
       "    <tr>\n",
       "      <th>2022-12-31</th>\n",
       "      <td>114.969524</td>\n",
       "      <td>4.754760</td>\n",
       "      <td>117.136900</td>\n",
       "      <td>3.790968</td>\n",
       "      <td>112.689043</td>\n",
       "      <td>3.893223</td>\n",
       "      <td>114.680000</td>\n",
       "      <td>3.440918</td>\n",
       "      <td>3.406129e+06</td>\n",
       "      <td>2.565555e+06</td>\n",
       "    </tr>\n",
       "  </tbody>\n",
       "</table>\n",
       "</div>"
      ],
      "text/plain": [
       "                  Open             ...        Volume              \n",
       "                  mean        std  ...          mean           std\n",
       "Date                               ...                            \n",
       "2022-01-31  151.834250   5.519929  ...  3.498542e+06  1.241224e+06\n",
       "2022-02-28  157.680263   6.614596  ...  2.688915e+06  5.863052e+05\n",
       "2022-03-31  143.395217  14.600400  ...  6.411250e+06  4.026716e+06\n",
       "2022-04-30  130.035250  11.431935  ...  3.579267e+06  1.120312e+06\n",
       "2022-05-31  121.388571   8.992984  ...  3.322147e+06  1.263279e+06\n",
       "2022-06-30  145.988095   5.165335  ...  3.442716e+06  9.133340e+05\n",
       "2022-07-31  143.916500   4.820930  ...  2.078316e+06  5.093293e+05\n",
       "2022-08-31  137.376087   6.496318  ...  2.556926e+06  1.791440e+06\n",
       "2022-09-30  127.932857   9.136596  ...  2.257403e+06  5.761210e+05\n",
       "2022-10-31  101.171529  16.425589  ...  3.975162e+06  3.187387e+06\n",
       "2022-11-30   90.401905   7.431792  ...  3.601258e+06  1.239644e+06\n",
       "2022-12-31  114.969524   4.754760  ...  3.406129e+06  2.565555e+06\n",
       "\n",
       "[12 rows x 10 columns]"
      ]
     },
     "execution_count": 235,
     "metadata": {},
     "output_type": "execute_result"
    }
   ],
   "source": [
    "baidu_df.resample(\"1ME\").agg([\"mean\", \"std\"])"
   ]
  },
  {
   "cell_type": "code",
   "execution_count": 239,
   "id": "88270b96-e331-46c9-888d-ba6dec9df6db",
   "metadata": {},
   "outputs": [
    {
     "data": {
      "text/html": [
       "<div>\n",
       "<style scoped>\n",
       "    .dataframe tbody tr th:only-of-type {\n",
       "        vertical-align: middle;\n",
       "    }\n",
       "\n",
       "    .dataframe tbody tr th {\n",
       "        vertical-align: top;\n",
       "    }\n",
       "\n",
       "    .dataframe thead th {\n",
       "        text-align: right;\n",
       "    }\n",
       "</style>\n",
       "<table border=\"1\" class=\"dataframe\">\n",
       "  <thead>\n",
       "    <tr style=\"text-align: right;\">\n",
       "      <th></th>\n",
       "      <th>Open</th>\n",
       "      <th>High</th>\n",
       "      <th>Low</th>\n",
       "      <th>Close</th>\n",
       "      <th>Volume</th>\n",
       "    </tr>\n",
       "    <tr>\n",
       "      <th>Date</th>\n",
       "      <th></th>\n",
       "      <th></th>\n",
       "      <th></th>\n",
       "      <th></th>\n",
       "      <th></th>\n",
       "    </tr>\n",
       "  </thead>\n",
       "  <tbody>\n",
       "    <tr>\n",
       "      <th>2022-01-03 00:00:00+08:00</th>\n",
       "      <td>148.910</td>\n",
       "      <td>149.9606</td>\n",
       "      <td>144.95</td>\n",
       "      <td>149.10</td>\n",
       "      <td>2330166</td>\n",
       "    </tr>\n",
       "    <tr>\n",
       "      <th>2022-01-04 00:00:00+08:00</th>\n",
       "      <td>148.140</td>\n",
       "      <td>148.4289</td>\n",
       "      <td>143.56</td>\n",
       "      <td>146.53</td>\n",
       "      <td>2876800</td>\n",
       "    </tr>\n",
       "    <tr>\n",
       "      <th>2022-01-05 00:00:00+08:00</th>\n",
       "      <td>143.820</td>\n",
       "      <td>150.2600</td>\n",
       "      <td>142.95</td>\n",
       "      <td>143.88</td>\n",
       "      <td>3505931</td>\n",
       "    </tr>\n",
       "    <tr>\n",
       "      <th>2022-01-06 00:00:00+08:00</th>\n",
       "      <td>146.195</td>\n",
       "      <td>153.0000</td>\n",
       "      <td>144.41</td>\n",
       "      <td>150.75</td>\n",
       "      <td>3839019</td>\n",
       "    </tr>\n",
       "    <tr>\n",
       "      <th>2022-01-07 00:00:00+08:00</th>\n",
       "      <td>152.980</td>\n",
       "      <td>157.0000</td>\n",
       "      <td>152.28</td>\n",
       "      <td>153.33</td>\n",
       "      <td>2751971</td>\n",
       "    </tr>\n",
       "    <tr>\n",
       "      <th>...</th>\n",
       "      <td>...</td>\n",
       "      <td>...</td>\n",
       "      <td>...</td>\n",
       "      <td>...</td>\n",
       "      <td>...</td>\n",
       "    </tr>\n",
       "    <tr>\n",
       "      <th>2022-12-23 00:00:00+08:00</th>\n",
       "      <td>113.880</td>\n",
       "      <td>114.2500</td>\n",
       "      <td>111.52</td>\n",
       "      <td>111.61</td>\n",
       "      <td>1221825</td>\n",
       "    </tr>\n",
       "    <tr>\n",
       "      <th>2022-12-27 00:00:00+08:00</th>\n",
       "      <td>113.100</td>\n",
       "      <td>117.5000</td>\n",
       "      <td>112.48</td>\n",
       "      <td>116.48</td>\n",
       "      <td>2668445</td>\n",
       "    </tr>\n",
       "    <tr>\n",
       "      <th>2022-12-28 00:00:00+08:00</th>\n",
       "      <td>114.090</td>\n",
       "      <td>115.5300</td>\n",
       "      <td>109.88</td>\n",
       "      <td>111.60</td>\n",
       "      <td>1983757</td>\n",
       "    </tr>\n",
       "    <tr>\n",
       "      <th>2022-12-29 00:00:00+08:00</th>\n",
       "      <td>112.810</td>\n",
       "      <td>116.0600</td>\n",
       "      <td>111.30</td>\n",
       "      <td>115.10</td>\n",
       "      <td>1454617</td>\n",
       "    </tr>\n",
       "    <tr>\n",
       "      <th>2022-12-30 00:00:00+08:00</th>\n",
       "      <td>113.490</td>\n",
       "      <td>116.5000</td>\n",
       "      <td>113.15</td>\n",
       "      <td>114.38</td>\n",
       "      <td>1727642</td>\n",
       "    </tr>\n",
       "  </tbody>\n",
       "</table>\n",
       "<p>251 rows × 5 columns</p>\n",
       "</div>"
      ],
      "text/plain": [
       "                              Open      High     Low   Close   Volume\n",
       "Date                                                                 \n",
       "2022-01-03 00:00:00+08:00  148.910  149.9606  144.95  149.10  2330166\n",
       "2022-01-04 00:00:00+08:00  148.140  148.4289  143.56  146.53  2876800\n",
       "2022-01-05 00:00:00+08:00  143.820  150.2600  142.95  143.88  3505931\n",
       "2022-01-06 00:00:00+08:00  146.195  153.0000  144.41  150.75  3839019\n",
       "2022-01-07 00:00:00+08:00  152.980  157.0000  152.28  153.33  2751971\n",
       "...                            ...       ...     ...     ...      ...\n",
       "2022-12-23 00:00:00+08:00  113.880  114.2500  111.52  111.61  1221825\n",
       "2022-12-27 00:00:00+08:00  113.100  117.5000  112.48  116.48  2668445\n",
       "2022-12-28 00:00:00+08:00  114.090  115.5300  109.88  111.60  1983757\n",
       "2022-12-29 00:00:00+08:00  112.810  116.0600  111.30  115.10  1454617\n",
       "2022-12-30 00:00:00+08:00  113.490  116.5000  113.15  114.38  1727642\n",
       "\n",
       "[251 rows x 5 columns]"
      ]
     },
     "execution_count": 239,
     "metadata": {},
     "output_type": "execute_result"
    }
   ],
   "source": [
    "baidu_df = baidu_df.tz_convert ('Asia/Chongqing')\n",
    "baidu_df"
   ]
  },
  {
   "cell_type": "code",
   "execution_count": 240,
   "id": "021657a1-04dc-4be3-85ea-b8f5a215af32",
   "metadata": {},
   "outputs": [
    {
     "data": {
      "text/html": [
       "<div>\n",
       "<style scoped>\n",
       "    .dataframe tbody tr th:only-of-type {\n",
       "        vertical-align: middle;\n",
       "    }\n",
       "\n",
       "    .dataframe tbody tr th {\n",
       "        vertical-align: top;\n",
       "    }\n",
       "\n",
       "    .dataframe thead th {\n",
       "        text-align: right;\n",
       "    }\n",
       "</style>\n",
       "<table border=\"1\" class=\"dataframe\">\n",
       "  <thead>\n",
       "    <tr style=\"text-align: right;\">\n",
       "      <th></th>\n",
       "      <th>Open</th>\n",
       "      <th>High</th>\n",
       "      <th>Low</th>\n",
       "      <th>Close</th>\n",
       "      <th>Volume</th>\n",
       "    </tr>\n",
       "    <tr>\n",
       "      <th>Date</th>\n",
       "      <th></th>\n",
       "      <th></th>\n",
       "      <th></th>\n",
       "      <th></th>\n",
       "      <th></th>\n",
       "    </tr>\n",
       "  </thead>\n",
       "  <tbody>\n",
       "    <tr>\n",
       "      <th>2022-01-02 11:00:00-05:00</th>\n",
       "      <td>148.910</td>\n",
       "      <td>149.9606</td>\n",
       "      <td>144.95</td>\n",
       "      <td>149.10</td>\n",
       "      <td>2330166</td>\n",
       "    </tr>\n",
       "    <tr>\n",
       "      <th>2022-01-03 11:00:00-05:00</th>\n",
       "      <td>148.140</td>\n",
       "      <td>148.4289</td>\n",
       "      <td>143.56</td>\n",
       "      <td>146.53</td>\n",
       "      <td>2876800</td>\n",
       "    </tr>\n",
       "    <tr>\n",
       "      <th>2022-01-04 11:00:00-05:00</th>\n",
       "      <td>143.820</td>\n",
       "      <td>150.2600</td>\n",
       "      <td>142.95</td>\n",
       "      <td>143.88</td>\n",
       "      <td>3505931</td>\n",
       "    </tr>\n",
       "    <tr>\n",
       "      <th>2022-01-05 11:00:00-05:00</th>\n",
       "      <td>146.195</td>\n",
       "      <td>153.0000</td>\n",
       "      <td>144.41</td>\n",
       "      <td>150.75</td>\n",
       "      <td>3839019</td>\n",
       "    </tr>\n",
       "    <tr>\n",
       "      <th>2022-01-06 11:00:00-05:00</th>\n",
       "      <td>152.980</td>\n",
       "      <td>157.0000</td>\n",
       "      <td>152.28</td>\n",
       "      <td>153.33</td>\n",
       "      <td>2751971</td>\n",
       "    </tr>\n",
       "    <tr>\n",
       "      <th>...</th>\n",
       "      <td>...</td>\n",
       "      <td>...</td>\n",
       "      <td>...</td>\n",
       "      <td>...</td>\n",
       "      <td>...</td>\n",
       "    </tr>\n",
       "    <tr>\n",
       "      <th>2022-12-22 11:00:00-05:00</th>\n",
       "      <td>113.880</td>\n",
       "      <td>114.2500</td>\n",
       "      <td>111.52</td>\n",
       "      <td>111.61</td>\n",
       "      <td>1221825</td>\n",
       "    </tr>\n",
       "    <tr>\n",
       "      <th>2022-12-26 11:00:00-05:00</th>\n",
       "      <td>113.100</td>\n",
       "      <td>117.5000</td>\n",
       "      <td>112.48</td>\n",
       "      <td>116.48</td>\n",
       "      <td>2668445</td>\n",
       "    </tr>\n",
       "    <tr>\n",
       "      <th>2022-12-27 11:00:00-05:00</th>\n",
       "      <td>114.090</td>\n",
       "      <td>115.5300</td>\n",
       "      <td>109.88</td>\n",
       "      <td>111.60</td>\n",
       "      <td>1983757</td>\n",
       "    </tr>\n",
       "    <tr>\n",
       "      <th>2022-12-28 11:00:00-05:00</th>\n",
       "      <td>112.810</td>\n",
       "      <td>116.0600</td>\n",
       "      <td>111.30</td>\n",
       "      <td>115.10</td>\n",
       "      <td>1454617</td>\n",
       "    </tr>\n",
       "    <tr>\n",
       "      <th>2022-12-29 11:00:00-05:00</th>\n",
       "      <td>113.490</td>\n",
       "      <td>116.5000</td>\n",
       "      <td>113.15</td>\n",
       "      <td>114.38</td>\n",
       "      <td>1727642</td>\n",
       "    </tr>\n",
       "  </tbody>\n",
       "</table>\n",
       "<p>251 rows × 5 columns</p>\n",
       "</div>"
      ],
      "text/plain": [
       "                              Open      High     Low   Close   Volume\n",
       "Date                                                                 \n",
       "2022-01-02 11:00:00-05:00  148.910  149.9606  144.95  149.10  2330166\n",
       "2022-01-03 11:00:00-05:00  148.140  148.4289  143.56  146.53  2876800\n",
       "2022-01-04 11:00:00-05:00  143.820  150.2600  142.95  143.88  3505931\n",
       "2022-01-05 11:00:00-05:00  146.195  153.0000  144.41  150.75  3839019\n",
       "2022-01-06 11:00:00-05:00  152.980  157.0000  152.28  153.33  2751971\n",
       "...                            ...       ...     ...     ...      ...\n",
       "2022-12-22 11:00:00-05:00  113.880  114.2500  111.52  111.61  1221825\n",
       "2022-12-26 11:00:00-05:00  113.100  117.5000  112.48  116.48  2668445\n",
       "2022-12-27 11:00:00-05:00  114.090  115.5300  109.88  111.60  1983757\n",
       "2022-12-28 11:00:00-05:00  112.810  116.0600  111.30  115.10  1454617\n",
       "2022-12-29 11:00:00-05:00  113.490  116.5000  113.15  114.38  1727642\n",
       "\n",
       "[251 rows x 5 columns]"
      ]
     },
     "execution_count": 240,
     "metadata": {},
     "output_type": "execute_result"
    }
   ],
   "source": [
    "baidu_df.tz_convert('America/New_York')"
   ]
  }
 ],
 "metadata": {
  "kernelspec": {
   "display_name": "Python 3 (ipykernel)",
   "language": "python",
   "name": "python3"
  },
  "language_info": {
   "codemirror_mode": {
    "name": "ipython",
    "version": 3
   },
   "file_extension": ".py",
   "mimetype": "text/x-python",
   "name": "python",
   "nbconvert_exporter": "python",
   "pygments_lexer": "ipython3",
   "version": "3.10.6"
  }
 },
 "nbformat": 4,
 "nbformat_minor": 5
}
