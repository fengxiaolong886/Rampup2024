{
 "cells": [
  {
   "cell_type": "markdown",
   "id": "730846b0-1164-4bb0-8a68-88dcf9801f7f",
   "metadata": {},
   "source": [
    "# Naive Bayes Alogrithm \n",
    "Alogrithm: \n",
    "\n",
    "Input: $T = {(x_1, y_1), (x_2, y_2),..., (x_N, y_N)}$, here $x_i = (x_i^{(1)}, x_i^{(2)}, ..., x_i^{(n)})^T$ , $x_i^{(j)}$ is the jth feature of the ith sample.\n",
    "\n",
    " $x_i^{(j)} \\in \\{a_{j1}, a_{j2},..., a_{js_j} $, here $a_{jl}$ means the jth feature have the value l.\n",
    "\n",
    "$j = 1,2,..., n$,  $l = 1, 2, ..., S_j$, $y_i \\in \\{c_1, c_2, ..., c_k \\}$ \n",
    "\n",
    "Sample $x$\n",
    "\n",
    "Output: class of sample $x$\n",
    "\n",
    "Alogrithm for naive bayes with bayes estimation\n",
    "\n",
    "(1) compute prior probability and conditional probability\n",
    "$$\n",
    "P(Y=c_k) = \\frac{\\sum_{i=1}^{N}I(y_i = c_k) + \\lambda}{N + K \\lambda}  ,  k =,1,2,...,K\n",
    "$$\n",
    "\n",
    "$$\n",
    "P(X^{j} = a_{jl}| Y=c_k) = \\frac{\\sum_{i=1}^{N}I(x_i^{(j)} = a_{jl},y_i = c_k)+ \\lambda}{\\sum_{i=1}^{N}I(y_i = c_k) + S_j \\lambda}\n",
    "$$\n",
    "$$\n",
    "j = 1,2,..., n;  l = 1,2,..., S_j ; k = 1,2,...,K \n",
    "$$\n",
    "\n",
    "(2) for sampe $x_i = (x_i^{(1)}, x_i^{(2)}, ..., x_i^{(n)})^T$, compute:\n",
    "$$\n",
    "P(Y = c_k)\\prod_{j = 1}^n P(X^{(j)} = x^{(j)} | Y = c_k)\n",
    "$$\n",
    "$$k = 1,2,...,K$$\n",
    "\n",
    "(3) Determine the class of sample $x$\n",
    "$$\n",
    "y = \\arg \\mathop{\\min}_{c_k} P(Y = c_k)\\prod_{j = 1}^n P(X^{(j)} = x^{(j)} | Y = c_k)\n",
    "$$\n"
   ]
  },
  {
   "cell_type": "code",
   "execution_count": 2,
   "id": "5dc2a226-9fb0-41a5-bdfc-80fbff475c71",
   "metadata": {},
   "outputs": [],
   "source": [
    "import numpy as np\n",
    "import pandas as pd\n",
    "import matplotlib.pyplot as plt\n",
    "%matplotlib inline\n",
    "\n",
    "from sklearn.datasets import load_iris\n",
    "from sklearn.model_selection import train_test_split\n",
    "\n",
    "from collections import Counter\n",
    "import math"
   ]
  },
  {
   "cell_type": "code",
   "execution_count": 3,
   "id": "da0fda58-35b1-4e3e-8ec6-ff20b90601c7",
   "metadata": {},
   "outputs": [],
   "source": [
    "# Example\n",
    "lambda_ = 0.2\n",
    "x = [2, \"S\"]\n",
    "X1 = [1, 2, 3]\n",
    "X2 = [\"S\", \"M\", \"L\"]\n",
    "Y = [1, -1]"
   ]
  },
  {
   "cell_type": "markdown",
   "id": "24cc045d-f822-471f-9fbd-f35c6cb495b3",
   "metadata": {},
   "source": [
    "Example table:\n",
    "\n",
    "|  X/Y   | 1     | 2      | 3     | 4      | 5     | 6      | 7     | 8      | 9     | 10     | 11    | 12     | 13    | 14    | 15  |\n",
    "|  ----  | ----  |  ----  | ----  |  ----  | ----  |  ----  | ----  |  ----  | ----  |  ----  | ----  |  ----  | ----  | ----  | ----|\n",
    "| X_1    | 1  | 1  | 1  | 1  | 1  | 2  | 2  | 2  | 2  | 2  | 3  | 3  | 3  | 3  | 3  |\n",
    "| X_2    | S  | M  | M  | S  | S  | S  | M  | M  | L  | L  | L  | M  | M  | L  | L  |\n",
    "| Y      | -1  | -1  | 1  |  1 | -1  | -1  | -1  | 1  | 1  | 1  | 1  | 1  | 1  | 1  | -1  |\n",
    "\n",
    "$P_\\lambda(Y=1)=(9+lambda\\_)/(15 + 2*lambda\\_) = (9+0.2)/(15+2*0.2)=0.5974025974025974$\n",
    "\n",
    "$P_\\lambda(Y=-1)=(6+lambda\\_)/(15 + 2*lambda\\_) = (6+0.2)/(15+2*0.2)=0.40259740259740264$  \n",
    "$P(X^{(1)}=1|Y=1) = (2+0.2)/(9+3*0.2)=0.22916666666666669 $  \n",
    "$P(X^{(1)}=2|Y=1) = (3+0.2)/(9+3*0.2)=0.33333333333333337 $  \n",
    "$P(X^{(1)}=3|Y=1) = (4+0.2)/(9+3*0.2)=0.43750000000000006 $  \n",
    "$P(X^{(2)}=S|Y=1) = (1+0.2)/(9+3*0.2)=0.125 $   \n",
    "$P(X^{(2)}=M|Y=1) = (4+0.2)/(9+3*0.2)=0.43750000000000006 $     \n",
    "$P(X^{(2)}=L|Y=1) = (4+0.2)/(9+3*0.2)=0.43750000000000006 $  \n",
    "$P(X^{(1)}=1|Y=-1) = (3+0.2)/(6+3*0.2)=0.4848484848484849 $  \n",
    "$P(X^{(1)}=2|Y=-1) = (2+0.2)/(6+3*0.2)=0.33333333333333337 $   \n",
    "$P(X^{(1)}=3|Y=-1) = (1+0.2)/(6+3*0.2)=0.18181818181818182 $   \n",
    "$P(X^{(2)}=S|Y=-1) = (3+0.2)/(6+3*0.2)=0.4848484848484849 $  \n",
    "$P(X^{(2)}=M|Y=-1) = (2+0.2)/(6+3*0.2)=0.33333333333333337 $   \n",
    "$P(X^{(2)}=L|Y=-1) = (1+0.2)/(6+3*0.2)=0.18181818181818182 $   \n",
    "so  \n",
    "$P(Y=1)P(X^{(1)}=2|Y=1)P(X^{(2)}=S|Y=1) =0.5974025974025974* 0.33333333333333337*0.125=0.024891774891774892$  \n",
    "$P(Y=-1)P(X^{(1)}=2|Y=-1)P(X^{(2)}=S|Y=-1) =0.40259740259740264* 0.33333333333333337*0.4848484848484849=0.06506624688442873$  \n",
    "\n",
    "so, it should be -1."
   ]
  },
  {
   "cell_type": "code",
   "execution_count": 42,
   "id": "54cc42ea-5c97-43f7-b6af-1f551a488c5f",
   "metadata": {},
   "outputs": [],
   "source": [
    "class NaiveBayes:\n",
    "    def __init__(self, lambda_):\n",
    "        self.lambda_ = lambda_\n",
    "\n",
    "    def fit(self, X, y):\n",
    "        N, M = X.shape\n",
    "        data = np.hstack((X, y.reshape(N, 1)))\n",
    "\n",
    "        py  = {}\n",
    "        pxy = {}\n",
    "        uniquey, countsy = np.unique(y, return_counts=True)\n",
    "        tmp = dict(zip(uniquey, countsy))\n",
    "        for k, v in tmp.items():\n",
    "            py[k] = (v + self.lambda_) / (N + len(uniquey) * self.lambda_)\n",
    "            tmp_data = data[data[:, -1] == k]\n",
    "            for col in range(M):\n",
    "                uniquecol, countscol = np.unique(tmp_data[:, col], return_counts= True)\n",
    "                tmp1 = dict(zip(uniquecol, countscol))\n",
    "                for kk, vv in tmp1.items():\n",
    "                    pxy['X({})={}|Y={}'.format(col +1, kk, k)] = (vv + self.lambda_) / (v + len(uniquecol) * self.lambda_)\n",
    "        \n",
    "        self.py = py\n",
    "        self.pxy = pxy\n",
    "\n",
    "    def predict(self, x):\n",
    "        print(self.py)\n",
    "        print(self.pxy)\n",
    "        M = len(x)\n",
    "        res = {}\n",
    "        for k, v in self.py.items():\n",
    "            p = v \n",
    "            for i in range(len(x)):\n",
    "                p = p * self.pxy['X({})={}|Y={}'.format(i + 1, x[i], k)]\n",
    "            res[k] = p\n",
    "        print(res)\n",
    "        maxp = -1\n",
    "        maxk = -1\n",
    "        for kk, vv in res.items():\n",
    "            if vv > maxp:\n",
    "                maxp = vv\n",
    "                maxk = kk\n",
    "\n",
    "        return maxk"
   ]
  },
  {
   "cell_type": "code",
   "execution_count": 53,
   "id": "6c3be042-7bef-426b-a434-0c3c2b8b9f44",
   "metadata": {},
   "outputs": [
    {
     "name": "stdout",
     "output_type": "stream",
     "text": [
      "{-1: 0.4025974025974026, 1: 0.5974025974025974}\n",
      "{'X(1)=1|Y=-1': 0.4848484848484849, 'X(1)=2|Y=-1': 0.33333333333333337, 'X(1)=3|Y=-1': 0.18181818181818182, 'X(2)=0|Y=-1': 0.4848484848484849, 'X(2)=1|Y=-1': 0.33333333333333337, 'X(2)=2|Y=-1': 0.18181818181818182, 'X(1)=1|Y=1': 0.22916666666666669, 'X(1)=2|Y=1': 0.33333333333333337, 'X(1)=3|Y=1': 0.43750000000000006, 'X(2)=0|Y=1': 0.125, 'X(2)=1|Y=1': 0.43750000000000006, 'X(2)=2|Y=1': 0.43750000000000006}\n",
      "{-1: 0.06506624688442873, 1: 0.024891774891774892}\n"
     ]
    },
    {
     "data": {
      "text/plain": [
       "-1"
      ]
     },
     "execution_count": 53,
     "metadata": {},
     "output_type": "execute_result"
    }
   ],
   "source": [
    "lambda_ = 0.2\n",
    "\n",
    "d = {'S':0, 'M':1, 'L':2}\n",
    "\n",
    "X = np.array([[1, d['S']], [1, d['M']], [1, d['M']],\n",
    "             [1, d['S']], [1, d['S']], [2, d['S']],\n",
    "             [2, d['M']], [2, d['M']], [2, d['L']],\n",
    "             [2, d['L']], [3, d['L']], [3, d['M']],\n",
    "             [3, d['M']], [3, d['L']], [3, d['L']]])\n",
    "\n",
    "y = np.array([-1, -1, 1, 1, -1, -1, -1, 1, 1, 1, 1, 1, 1, 1, -1])\n",
    "model = NaiveBayes(lambda_)\n",
    "model.fit(X, y)\n",
    "model.predict(np.array([2, 0]))"
   ]
  },
  {
   "cell_type": "markdown",
   "id": "5e0282ac-4ee4-43fe-b44e-ca84da22f72d",
   "metadata": {},
   "source": [
    "# Sklearn implementtion for naive bayes"
   ]
  },
  {
   "cell_type": "code",
   "execution_count": 54,
   "id": "e66201e2-7c58-4918-9f5b-60614e70cc9f",
   "metadata": {},
   "outputs": [],
   "source": [
    "from sklearn.naive_bayes import GaussianNB"
   ]
  },
  {
   "cell_type": "code",
   "execution_count": 60,
   "id": "d7a7070d-4ea3-4e1b-bdfc-8361cac644fb",
   "metadata": {},
   "outputs": [
    {
     "data": {
      "text/plain": [
       "array([-1])"
      ]
     },
     "execution_count": 60,
     "metadata": {},
     "output_type": "execute_result"
    }
   ],
   "source": [
    "clf = GaussianNB()\n",
    "clf.fit(X, y)\n",
    "clf.predict([[2, 0]])"
   ]
  },
  {
   "cell_type": "code",
   "execution_count": 57,
   "id": "92dffd19-0204-4815-b47c-865c924c5b9d",
   "metadata": {},
   "outputs": [],
   "source": [
    "from sklearn.naive_bayes import BernoulliNB, MultinomialNB"
   ]
  },
  {
   "cell_type": "code",
   "execution_count": 58,
   "id": "ffba1256-11dc-4e8a-82c2-ad5bfcf33f55",
   "metadata": {},
   "outputs": [
    {
     "data": {
      "text/plain": [
       "array([-1])"
      ]
     },
     "execution_count": 58,
     "metadata": {},
     "output_type": "execute_result"
    }
   ],
   "source": [
    "clf1 = BernoulliNB()\n",
    "clf1.fit(X, y)\n",
    "clf1.predict([[2, 0]])"
   ]
  },
  {
   "cell_type": "code",
   "execution_count": 59,
   "id": "836db1c5-aeba-42cf-adb1-9a1e69452b05",
   "metadata": {},
   "outputs": [
    {
     "data": {
      "text/plain": [
       "array([1])"
      ]
     },
     "execution_count": 59,
     "metadata": {},
     "output_type": "execute_result"
    }
   ],
   "source": [
    "clf2 = MultinomialNB()\n",
    "clf2.fit(X, y)\n",
    "clf2.predict([[2, 0]])"
   ]
  }
 ],
 "metadata": {
  "kernelspec": {
   "display_name": "Python 3 (ipykernel)",
   "language": "python",
   "name": "python3"
  },
  "language_info": {
   "codemirror_mode": {
    "name": "ipython",
    "version": 3
   },
   "file_extension": ".py",
   "mimetype": "text/x-python",
   "name": "python",
   "nbconvert_exporter": "python",
   "pygments_lexer": "ipython3",
   "version": "3.10.6"
  }
 },
 "nbformat": 4,
 "nbformat_minor": 5
}
