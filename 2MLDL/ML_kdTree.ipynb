{
 "cells": [
  {
   "cell_type": "markdown",
   "id": "d03d037b-75e8-41dd-b6d8-83ce32cc3d8c",
   "metadata": {},
   "source": [
    "# kd Tree build\n",
    "Input: dataset: $ T = {x_1, x_2, ..., x_N} $,  and $x_i = (x_i^{(1)}, x_i^{(2)}, ..., x_i^{(k)})^T$, and $i = 1,2, ..., N$\n",
    "Output: kd tree<br/>\n",
    "Alogrithm:<br/>\n",
    "(1) 开始： 构造根节点， 根节点对应于包含T的k维空间的超矩形区域。<br/>\n",
    "选择$x^{(1)}$ 为坐标轴， 以T中所有实例的$x^{(1)}$坐标的中位数为切分点， 将根节点对应的超矩形区域切分为两个子区域，切分由通过切分点并与坐标轴$x^{(1)}$垂直的超平面实现。<br/>\n",
    "由根节点生成深度为1的左、右子节点： <br/>\n",
    "左子节点对应坐标$x^{(1)}$小于切分点的子区域， <br/>\n",
    "右子节点对应坐标$x^{(1)}$大于切分点的子区域， <br/>\n",
    "将落在切分超平面上的实例点保存在根节点。 <br/>\n",
    "（2） 重复：  对深度为j的节点， 选择$x^{(l)}$为切分的坐标轴，  $l = j(mod k) + 1$, 以该节点的区域中所有实例的$x^{(l)}$坐标中位数为切分点， 将根节点对应的超矩形区域切分为两个子区域，切分由通过切分点并与坐标轴$x^{(l)}$垂直的超平面实现。 <br/>\n",
    "由该节点生成深度为$j + 1$的左、右子节点： <br/>\n",
    "左子节点对应坐标$x^{(l)}$小于切分点的子区域， <br/>\n",
    "右子节点对应坐标$x^{(l)}$大于切分点的子区域， <br/>\n",
    "将落在切分超平面上的实例点保存在根节点。 <br/>\n",
    "(3) 直到两个子区域没有实例存在时停止。 从而形成kd树的区域划分。\n",
    "# kd Tree search\n",
    "Alogrithm:<br/>\n",
    "\n",
    "Input: kd tree<br/>\n",
    "Output: nearest neighbors of x<br/>\n",
    "(1)在kd树中找出包含目标点x的叶结点:从根结点出发，递归地向下访问kd树.若目标点x当前维的坐标小于切分点的坐标，则移动到左子结点，否则移动到右子结点，直到子结点为叶结点为止.<br/>\n",
    "(2)以此叶结点为“当前最近点”.<br/>\n",
    "(3)递归地向上回退，在每个结点进行以下操作:<br/>\n",
    "    (a)如果该结点保存的实例点比当前最近点距离目标点更近，则以该实例点为“当前最近点”.<br/>\n",
    "    (b)当前最近点一定存在于该结点一个子结点对应的区域.检查该子结点的父结点的另一子结点对应的区域是否有更近的点，具体地，检查另一子结点对应的区域是否与以目标点为球心、以目标点与“当前最近点”间的距离为半径的超球体相交.<br/>\n",
    "       如果相交，可能在另一个子结点对应的区域内存在距目标点更近的点，移动到另一个子结点，接着，递归地进行最近邻搜索;<br/>\n",
    "       如果不相交，向上回退。<br/>\n",
    "(4)当回退到根结点时，搜索结束，最后的“当前最近点”即为x的最近邻点.<br/>"
   ]
  },
  {
   "cell_type": "code",
   "execution_count": 10,
   "id": "9d2b77fc-6ca8-4950-b032-ade22aa635ae",
   "metadata": {},
   "outputs": [],
   "source": [
    "import numpy as np\n",
    "import pprint"
   ]
  },
  {
   "cell_type": "code",
   "execution_count": 8,
   "id": "6690b4e4-41fc-4dbe-8763-c26f37d42508",
   "metadata": {},
   "outputs": [],
   "source": [
    "# build kd tree\n",
    "class kdTree:\n",
    "    \"\"\"\n",
    "    k : k dimensions\n",
    "    method: alternate(坐标轴轮替)/variance（最大方差轴）\n",
    "    \"\"\"\n",
    "    def __init__(self, k = 2,  method = \"alternate\"):\n",
    "        self.k = k\n",
    "        self.method = method\n",
    "\n",
    "    def build(self, points, depth = 0):\n",
    "        n = len(points)\n",
    "        if n <= 0:\n",
    "            return None\n",
    "\n",
    "        if self.method == \"alternate\":\n",
    "            axis = depth % self.k\n",
    "        elif self.method == \"variance\":\n",
    "            axis = np.argmax(np.var(points, axis=0), axis=0)\n",
    "\n",
    "        sorted_points = sorted(points, key = lambda point: point[axis])\n",
    "        return {\n",
    "            \"point\": sorted_points[n // 2],\n",
    "            \"left\": self.build(sorted_points[:n//2], depth + 1),\n",
    "            \"right\": self.build(sorted_points[n//2 + 1:], depth + 1)\n",
    "        }"
   ]
  },
  {
   "cell_type": "code",
   "execution_count": 13,
   "id": "25df0601-0214-4f9c-8f1b-97da7ec2b44e",
   "metadata": {},
   "outputs": [
    {
     "name": "stdout",
     "output_type": "stream",
     "text": [
      "{   'left': {   'left': {'left': None, 'point': array([2, 3]), 'right': None},\n",
      "                'point': array([5, 4]),\n",
      "                'right': {'left': None, 'point': array([4, 7]), 'right': None}},\n",
      "    'point': array([7, 2]),\n",
      "    'right': {   'left': {'left': None, 'point': array([8, 1]), 'right': None},\n",
      "                 'point': array([9, 6]),\n",
      "                 'right': None}}\n",
      "{   'left': {   'left': {'left': None, 'point': array([2, 3]), 'right': None},\n",
      "                'point': array([5, 4]),\n",
      "                'right': {'left': None, 'point': array([4, 7]), 'right': None}},\n",
      "    'point': array([7, 2]),\n",
      "    'right': {   'left': {'left': None, 'point': array([8, 1]), 'right': None},\n",
      "                 'point': array([9, 6]),\n",
      "                 'right': None}}\n"
     ]
    }
   ],
   "source": [
    "# test example\n",
    "data = np.array([[2,3],[5,4],[9,6],[4,7],[8,1],[7,2]])\n",
    "\n",
    "kd1 = kdTree(k = 2, method= \"alternate\")\n",
    "tree1 = kd1.build(data)\n",
    "\n",
    "kd2 = kdTree(k = 2, method = \"variance\")\n",
    "tree2 = kd2.build(data)\n",
    "\n",
    "pp = pprint.PrettyPrinter(indent=4)\n",
    "pp.pprint(tree1)\n",
    "pp.pprint(tree2)"
   ]
  },
  {
   "cell_type": "code",
   "execution_count": 14,
   "id": "03575595-e06c-4e9f-b9f8-78c4462cb07f",
   "metadata": {},
   "outputs": [],
   "source": [
    "# define distance metrix\n",
    "def distance(x, y, p=2):\n",
    "    try:\n",
    "        dis = np.power(np.sum(np.power(np.abs((x - y)), p), 1), 1/p)\n",
    "    except:\n",
    "        dis = np.power(np.sum(np.power(np.abs((x - y)), p)), 1/p)\n",
    "\n",
    "    return dis"
   ]
  },
  {
   "cell_type": "code",
   "execution_count": 18,
   "id": "17ee44e2-e433-4587-aa5b-1e6d5512965a",
   "metadata": {},
   "outputs": [],
   "source": [
    "# kd tree search\n",
    "class searchkdTree:\n",
    "    \"\"\"\n",
    "    search closest point\n",
    "    \"\"\"\n",
    "    def __init__(self, k = 2):\n",
    "        self.k = k\n",
    "\n",
    "    def __closer_distance(self, pivot, p1, p2):\n",
    "        if p1 is None:\n",
    "            return p2\n",
    "        if p2 is None:\n",
    "            return p1\n",
    "\n",
    "        d1 = distance(pivot, p1)\n",
    "        d2 = distance(pivot, p2)\n",
    "\n",
    "        if d1 < d2:\n",
    "            return p1\n",
    "        else:\n",
    "            return p2\n",
    "\n",
    "    def fit(self, root, point, depth=0):\n",
    "        if root is None:\n",
    "            return None\n",
    "\n",
    "        axis = depth % self.k\n",
    "\n",
    "        next_branch = None\n",
    "        opposite_branch = None\n",
    "\n",
    "        if point[axis] < root[\"point\"][axis]:\n",
    "            next_branch = root[\"left\"]\n",
    "            opposite_branch = root[\"right\"]\n",
    "        else:\n",
    "            next_branch = root[\"right\"]\n",
    "            opposite_branch = root[\"left\"]\n",
    "\n",
    "        best = self.__closer_distance(point,\n",
    "                                      self.fit(next_branch, \n",
    "                                               point,\n",
    "                                               depth + 1),\n",
    "                                      root[\"point\"])\n",
    "        if distance(point, best) > abs(point[axis] - root[\"point\"][axis]):\n",
    "            best = self.__closer_distance(point,\n",
    "                                          self.fit(opposite_branch, \n",
    "                                               point,\n",
    "                                               depth + 1),\n",
    "                                      best)\n",
    "        return best"
   ]
  },
  {
   "cell_type": "code",
   "execution_count": 19,
   "id": "bbe916a0-fd54-4b50-9890-f419ac224261",
   "metadata": {},
   "outputs": [
    {
     "name": "stdout",
     "output_type": "stream",
     "text": [
      "[2 3]\n"
     ]
    }
   ],
   "source": [
    "# test\n",
    "point = [3., 4.5]\n",
    "search = searchkdTree()\n",
    "best = search.fit(tree1, point, depth=0)\n",
    "print(best)"
   ]
  }
 ],
 "metadata": {
  "kernelspec": {
   "display_name": "Python 3 (ipykernel)",
   "language": "python",
   "name": "python3"
  },
  "language_info": {
   "codemirror_mode": {
    "name": "ipython",
    "version": 3
   },
   "file_extension": ".py",
   "mimetype": "text/x-python",
   "name": "python",
   "nbconvert_exporter": "python",
   "pygments_lexer": "ipython3",
   "version": "3.10.6"
  }
 },
 "nbformat": 4,
 "nbformat_minor": 5
}
